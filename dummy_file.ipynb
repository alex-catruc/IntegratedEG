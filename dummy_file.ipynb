{
 "cells": [
  {
   "cell_type": "code",
   "execution_count": 1,
   "id": "576b4812",
   "metadata": {},
   "outputs": [],
   "source": [
    "import pandas as pd\n"
   ]
  },
  {
   "cell_type": "code",
   "execution_count": 6,
   "id": "07f00667",
   "metadata": {},
   "outputs": [],
   "source": [
    "df = pd.read_csv('data/ProductionConsumptionSettlement.csv', sep=';', decimal=',')\n",
    "df_DK1 = df[df['PriceArea'] == 'DK1']\n",
    "df_DK2 = df[df['PriceArea'] == 'DK2']"
   ]
  },
  {
   "cell_type": "code",
   "execution_count": 11,
   "id": "4a50ed99",
   "metadata": {},
   "outputs": [
    {
     "data": {
      "text/plain": [
       "2651.92"
      ]
     },
     "execution_count": 11,
     "metadata": {},
     "output_type": "execute_result"
    }
   ],
   "source": [
    "max(df_DK1['ExchangeGE_MWh'])"
   ]
  },
  {
   "cell_type": "code",
   "execution_count": 12,
   "id": "df259905",
   "metadata": {},
   "outputs": [
    {
     "data": {
      "text/plain": [
       "988.625984"
      ]
     },
     "execution_count": 12,
     "metadata": {},
     "output_type": "execute_result"
    }
   ],
   "source": [
    "max(df_DK2['ExchangeGE_MWh'])"
   ]
  }
 ],
 "metadata": {
  "kernelspec": {
   "display_name": "Python 3",
   "language": "python",
   "name": "python3"
  },
  "language_info": {
   "codemirror_mode": {
    "name": "ipython",
    "version": 3
   },
   "file_extension": ".py",
   "mimetype": "text/x-python",
   "name": "python",
   "nbconvert_exporter": "python",
   "pygments_lexer": "ipython3",
   "version": "3.11.5"
  }
 },
 "nbformat": 4,
 "nbformat_minor": 5
}
