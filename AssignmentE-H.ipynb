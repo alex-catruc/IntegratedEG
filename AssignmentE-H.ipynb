{
 "cells": [
  {
   "cell_type": "code",
   "execution_count": 43,
   "id": "4e55b13f",
   "metadata": {},
   "outputs": [],
   "source": [
    "import pandas as pd\n",
    "import pypsa\n",
    "import numpy as np\n",
    "import matplotlib.pyplot as plt"
   ]
  },
  {
   "cell_type": "markdown",
   "id": "915c60de",
   "metadata": {},
   "source": [
    "# Load Data"
   ]
  },
  {
   "cell_type": "code",
   "execution_count": 44,
   "id": "da7855b4",
   "metadata": {},
   "outputs": [
    {
     "name": "stderr",
     "output_type": "stream",
     "text": [
      "<>:14: DeprecationWarning: invalid escape sequence '\\p'\n",
      "<>:18: DeprecationWarning: invalid escape sequence '\\p'\n",
      "<>:14: DeprecationWarning: invalid escape sequence '\\p'\n",
      "<>:18: DeprecationWarning: invalid escape sequence '\\p'\n",
      "C:\\Users\\alexk\\AppData\\Local\\Temp\\ipykernel_46188\\3683553303.py:14: DeprecationWarning: invalid escape sequence '\\p'\n",
      "  df_pv = pd.read_csv('data\\pv_optimal.csv', sep=';', index_col=0)\n",
      "C:\\Users\\alexk\\AppData\\Local\\Temp\\ipykernel_46188\\3683553303.py:18: DeprecationWarning: invalid escape sequence '\\p'\n",
      "  df_rooftop = pd.read_csv('data\\pv_rooftop.csv', sep=';', index_col=0)\n"
     ]
    }
   ],
   "source": [
    "# load electricity demand data\n",
    "df_elec = pd.read_csv('data/electricity_demand.csv', sep=';', index_col=0) # in MWh\n",
    "df_elec.index = pd.to_datetime(df_elec.index) #change index to datatime\n",
    "\n",
    "# load onshore wind data\n",
    "df_onshorewind = pd.read_csv('data/onshore_wind_1979-2017.csv', sep=';', index_col=0)\n",
    "df_onshorewind.index = pd.to_datetime(df_onshorewind.index)\n",
    "\n",
    "# load offshore wind data\n",
    "df_offshorewind = pd.read_csv('data/offshore_wind_1979-2017.csv', sep=';', index_col=0)\n",
    "df_offshorewind.index = pd.to_datetime(df_offshorewind.index)\n",
    "\n",
    "# load large scale pv data\n",
    "df_pv = pd.read_csv('data\\pv_optimal.csv', sep=';', index_col=0)\n",
    "df_pv.index = pd.to_datetime(df_pv.index)\n",
    "\n",
    "# load rooftop pv data\n",
    "df_rooftop = pd.read_csv('data\\pv_rooftop.csv', sep=';', index_col=0)\n",
    "df_rooftop.index = pd.to_datetime(df_rooftop.index)\n"
   ]
  },
  {
   "cell_type": "code",
   "execution_count": 45,
   "id": "607723d1",
   "metadata": {},
   "outputs": [],
   "source": [
    "colors = {\"onshore\": \"blue\", \"offshore\": \"darkblue\", \"pv\": \"orange\", \n",
    "          \"rooftop\": \"yellow\", \"coal\": \"brown\", \"OCGT\": \"grey\"}"
   ]
  },
  {
   "cell_type": "markdown",
   "id": "49b149d5",
   "metadata": {},
   "source": [
    "# Make Network"
   ]
  },
  {
   "cell_type": "code",
   "execution_count": 46,
   "id": "d0b50aca",
   "metadata": {},
   "outputs": [],
   "source": [
    "def annuity(n,r):\n",
    "    \"\"\" Calculate the annuity factor for an asset with lifetime n years and\n",
    "    discount rate  r \"\"\"\n",
    "\n",
    "    if r > 0:\n",
    "        return r/(1. - 1./(1.+r)**n)\n",
    "    else:\n",
    "        return 1/n"
   ]
  },
  {
   "cell_type": "code",
   "execution_count": 47,
   "id": "074ab7cc",
   "metadata": {},
   "outputs": [
    {
     "data": {
      "text/plain": [
       "'\\n    # Add storage unit\\n    n.add(\"StorageUnit\",\\n                f\"battery{country}\",\\n                bus=f\"E_bus{country}\",\\n                p_nom_extendable=True,\\n                capital_cost=12894+24678,\\n                efficiency_dispatch=0.96,\\n                efficiency_store=0.96,\\n                max_hours=2,\\n                cyclic_state_of_charge=True)\\n    \\n\\n\\n'"
      ]
     },
     "execution_count": 47,
     "metadata": {},
     "output_type": "execute_result"
    }
   ],
   "source": [
    "n = pypsa.Network()\n",
    "hours_in_2015 = pd.date_range('2015-01-01 00:00Z',\n",
    "                              '2015-12-31 23:00Z',\n",
    "                              freq='h')\n",
    "\n",
    "n.set_snapshots(hours_in_2015.values)\n",
    "\n",
    "# add the different carriers, only gas emits CO2\n",
    "n.add(\"Carrier\", \"gas\", co2_emissions=0.19) # in t_CO2/MWh_th\n",
    "n.add(\"Carrier\", \"coal\", co2_emissions=0.9) # in t_CO2/MWh_th\n",
    "n.add(\"Carrier\", \"onshorewind\")\n",
    "n.add(\"Carrier\", \"offshorewind\")\n",
    "n.add(\"Carrier\", \"solarPV\")\n",
    "n.add(\"Carrier\", \"rooftopPV\")\n",
    "n.add(\"Carrier\", \"hydro\")\n",
    "\n",
    "countries = ['DEU', 'DNK', 'AUT']\n",
    "\n",
    "# add electricity bus\n",
    "for country in countries:\n",
    "    n.add(\"Bus\",\n",
    "                f\"E_bus{country}\")\n",
    "\n",
    "    # add load to the bus\n",
    "    n.add(\"Load\",\n",
    "                f\"load{country}\",\n",
    "                bus=f\"E_bus{country}\",\n",
    "                p_set=df_elec[country].values)\n",
    "\n",
    "\n",
    "    ''' Add renewable generators '''\n",
    "    if country != 'AUT':\n",
    "        # Add onshore wind\n",
    "        CF_wind_onshore = df_onshorewind[country][[hour.strftime(\"%Y-%m-%dT%H:%M:%SZ\") for hour in n.snapshots]]\n",
    "        lifetime = 30 # years\n",
    "        discount_rate = 0.07 # 7%\n",
    "        capex = 910000 # in €/MW\n",
    "        fopex = 0.033 # 3.3% of capex\n",
    "        capital_cost_onshorewind = annuity(lifetime,discount_rate)*capex*(1+fopex) # in €/MW\n",
    "        n.add(\"Generator\",\n",
    "                    f\"onshorewind{country}\",\n",
    "                    bus=f\"E_bus{country}\",\n",
    "                    p_nom_extendable=True,\n",
    "                    carrier=\"onshorewind\",\n",
    "                    #p_nom_max=1000, # maximum capacity can be limited due to environmental constraints\n",
    "                    capital_cost = capital_cost_onshorewind,\n",
    "                    marginal_cost = 0,\n",
    "                    p_max_pu = CF_wind_onshore.values)\n",
    "\n",
    "        # Add offshore wind\n",
    "        CF_wind_offshore = df_offshorewind[country][[hour.strftime(\"%Y-%m-%dT%H:%M:%SZ\") for hour in n.snapshots]]\n",
    "        lifetime = 25 # years\n",
    "        discount_rate = 0.07 # 7%\n",
    "        capex = 2506000 # in €/MW\n",
    "        fopex = 0.03 # 3% of capex\n",
    "        capital_cost_offshorewind = annuity(lifetime,discount_rate)*capex*(1+fopex) # in €/MW\n",
    "        n.add(\"Generator\",\n",
    "                    f\"offshorewind{country}\",\n",
    "                    bus=f\"E_bus{country}\",\n",
    "                    p_nom_extendable=True,\n",
    "                    carrier=\"offshorewind\",\n",
    "                    #p_nom_max=1000, # maximum capacity can be limited due to environmental constraints\n",
    "                    capital_cost = capital_cost_offshorewind,\n",
    "                    marginal_cost = 0,\n",
    "                    p_max_pu = CF_wind_offshore.values)\n",
    "\n",
    "    # Add large scale solar\n",
    "    CF_solar = df_pv[country][[hour.strftime(\"%Y-%m-%dT%H:%M:%SZ\") for hour in n.snapshots]]\n",
    "    lifetime = 25 # years\n",
    "    discount_rate = 0.07 # 7%\n",
    "    capex = 425000 # in €/MW\n",
    "    fopex = 0.03 # 3% of capex\n",
    "    capital_cost_pv = annuity(lifetime,discount_rate)*capex*(1+fopex) # in €/MW\n",
    "    n.add(\"Generator\",\n",
    "                f\"PV{country}\",\n",
    "                bus=f\"E_bus{country}\",\n",
    "                p_nom_extendable=True,\n",
    "                carrier=\"solarPV\",\n",
    "                #p_nom_max=1000, # maximum capacity can be limited due to environmental constraints\n",
    "                capital_cost = capital_cost_pv,\n",
    "                marginal_cost = 0,\n",
    "                p_max_pu = CF_solar.values)\n",
    "\n",
    "    # Add rooftop solar\n",
    "    CF_rooftop = df_rooftop[country][[hour.strftime(\"%Y-%m-%dT%H:%M:%SZ\") for hour in n.snapshots]]\n",
    "    lifetime = 25 # years\n",
    "    discount_rate = 0.07 # 7%\n",
    "    capex = 725000 # in €/MW\n",
    "    fopex = 0.02 # 2% of capex\n",
    "    capital_cost_rooftop = annuity(lifetime,discount_rate)*capex*(1+fopex) # in €/MW\n",
    "    n.add(\"Generator\",\n",
    "                f\"rooftopPV{country}\",\n",
    "                bus=f\"E_bus{country}\",\n",
    "                p_nom_extendable=True,\n",
    "                carrier=\"rooftopPV\",\n",
    "                #p_nom_max=1000, # maximum capacity can be limited due to environmental constraints\n",
    "                capital_cost = capital_cost_rooftop,\n",
    "                marginal_cost = 0,\n",
    "                p_max_pu = CF_rooftop.values)\n",
    "\n",
    "    ''' Add non-renewables generators '''\n",
    "    # add OCGT (Open Cycle Gas Turbine) generator\n",
    "    lifetime = 25 # years\n",
    "    discount_rate = 0.07 # 7%\n",
    "    capex = 560000 # in €/MW\n",
    "    fopex = 0.033 # 3.3% of capex\n",
    "    capital_cost_OCGT = annuity(lifetime,discount_rate)*capex*(1+fopex) # in €/MW\n",
    "    fuel_cost = 21.6 # in €/MWh_th\n",
    "    efficiency = 0.39 # MWh_elec/MWh_th\n",
    "    marginal_cost_OCGT = fuel_cost/efficiency # in €/MWh_el\n",
    "    n.add(\"Generator\",\n",
    "                f\"OCGT{country}\",\n",
    "                bus=f\"E_bus{country}\",\n",
    "                p_nom_extendable=True,\n",
    "                carrier=\"gas\",\n",
    "                #p_nom_max=1000,\n",
    "                capital_cost = capital_cost_OCGT,\n",
    "                efficiency = efficiency,\n",
    "                marginal_cost = marginal_cost_OCGT)\n",
    "\n",
    "    if country == 'DEU':\n",
    "        # add coal generator (without CCS) # https://atb-archive.nrel.gov/electricity/2018/index.html?t=cc\n",
    "        lifetime = 25 # years\n",
    "        discount_rate = 0.07 # 7%\n",
    "        capex = 3294000 # in €/MW\n",
    "        fopex = 0.03 # 3% of capex\n",
    "        capital_cost_coal = annuity(lifetime,discount_rate)*capex*(1+fopex) # in €/MW\n",
    "        fuel_cost = 4 # in €/MWh_th \n",
    "        efficiency = 0.36 # MWh_elec/MWh_th\n",
    "        marginal_cost_coal = fuel_cost/efficiency # in €/MWh_el\n",
    "        n.add(\"Generator\",\n",
    "                    f\"coal{country}\",\n",
    "                    bus=f\"E_bus{country}\",\n",
    "                    p_nom_extendable=True,\n",
    "                    carrier=\"coal\",\n",
    "                    #p_nom_max=1000,\n",
    "                    capital_cost = capital_cost_coal,\n",
    "                    efficiency = efficiency,\n",
    "                    marginal_cost = marginal_cost_coal)\n",
    "        \n",
    "    if country == 'AUT':\n",
    "        lifetime = 80 # years\n",
    "        discount_rate = 0.07 # 7%\n",
    "        capex = 300000 # in €/MW\n",
    "        fopex = 0.02 # 2% of capex\n",
    "        capital_cost_coal = annuity(lifetime,discount_rate)*capex*(1+fopex) # in €/MW\n",
    "        marginal_cost_coal = 0\n",
    "        n.add(\"Generator\",\n",
    "                    f\"hydro{country}\",\n",
    "                    bus=f\"E_bus{country}\",\n",
    "                    p_nom_extendable=True,\n",
    "                    carrier=\"hydro\",\n",
    "                    p_nom_max=5000,\n",
    "                    capital_cost = capital_cost_coal,\n",
    "                    marginal_cost = marginal_cost_coal)\n",
    "        \n",
    "\n",
    "\n",
    "'''\n",
    "    # Add storage unit\n",
    "    n.add(\"StorageUnit\",\n",
    "                f\"battery{country}\",\n",
    "                bus=f\"E_bus{country}\",\n",
    "                p_nom_extendable=True,\n",
    "                capital_cost=12894+24678,\n",
    "                efficiency_dispatch=0.96,\n",
    "                efficiency_store=0.96,\n",
    "                max_hours=2,\n",
    "                cyclic_state_of_charge=True)\n",
    "    \n",
    "\n",
    "\n",
    "'''"
   ]
  },
  {
   "cell_type": "code",
   "execution_count": 48,
   "id": "35d83000",
   "metadata": {},
   "outputs": [
    {
     "data": {
      "text/plain": [
       "Index(['linkDNK-AUT'], dtype='object')"
      ]
     },
     "execution_count": 48,
     "metadata": {},
     "output_type": "execute_result"
    }
   ],
   "source": [
    "# Add the links between the countries\n",
    "n.add(\"Link\",\n",
    "            \"linkDEU-DNK\",\n",
    "            bus0=\"E_busDEU\",\n",
    "            bus1=\"E_busDNK\",\n",
    "            p_nom_extendable=True,\n",
    "            p_min_pu=-1,\n",
    "            length=200,\n",
    "            capital_cost=400*200) # capital cost * length\n",
    "\n",
    "n.add(\"Link\",\n",
    "            \"linkDEU-AUT\",\n",
    "            bus0=\"E_busDEU\",\n",
    "            bus1=\"E_busAUT\",\n",
    "            p_nom_extendable=True,\n",
    "            p_min_pu=-1,\n",
    "            length=100,\n",
    "            capital_cost=400*100) # capital cost * length\n",
    "\n",
    "n.add(\"Link\",\n",
    "            \"linkDNK-AUT\",\n",
    "            bus0=\"E_busDNK\",\n",
    "            bus1=\"E_busAUT\",\n",
    "            p_nom_extendable=True,\n",
    "            p_min_pu=-1,\n",
    "            length=210,\n",
    "            capital_cost=400*210) # capital cost * length\n"
   ]
  },
  {
   "cell_type": "code",
   "execution_count": 49,
   "id": "30c0712d",
   "metadata": {},
   "outputs": [
    {
     "data": {
      "text/plain": [
       "Index(['CO2Limit'], dtype='object')"
      ]
     },
     "execution_count": 49,
     "metadata": {},
     "output_type": "execute_result"
    }
   ],
   "source": [
    "# Co2 Cap\n",
    "n.add(\n",
    "    \"GlobalConstraint\",\n",
    "    \"CO2Limit\",\n",
    "    carrier_attribute=\"co2_emissions\",\n",
    "    sense=\"<=\",\n",
    "    constant=(596 + 27.3 + 58.6) * 1000000, #596MtCO2 for GE + 4.6 for DK + 6.4 for AT\n",
    ")"
   ]
  },
  {
   "cell_type": "code",
   "execution_count": 50,
   "id": "8bbf6ec4",
   "metadata": {},
   "outputs": [
    {
     "name": "stderr",
     "output_type": "stream",
     "text": [
      "WARNING:pypsa.consistency:The following buses have carriers which are not defined:\n",
      "Index(['E_busDEU', 'E_busDNK', 'E_busAUT'], dtype='object', name='Bus')\n",
      "WARNING:pypsa.consistency:The following links have carriers which are not defined:\n",
      "Index(['linkDEU-DNK', 'linkDEU-AUT', 'linkDNK-AUT'], dtype='object', name='Link')\n"
     ]
    },
    {
     "name": "stderr",
     "output_type": "stream",
     "text": [
      "INFO:linopy.model: Solve problem using Gurobi solver\n",
      "INFO:linopy.io:Writing objective.\n",
      "Writing constraints.: 100%|\u001b[38;2;128;191;255m██████████\u001b[0m| 10/10 [00:02<00:00,  4.80it/s]\n",
      "Writing continuous variables.: 100%|\u001b[38;2;128;191;255m██████████\u001b[0m| 4/4 [00:00<00:00, 11.58it/s]\n",
      "INFO:linopy.io: Writing time: 2.51s\n"
     ]
    },
    {
     "name": "stdout",
     "output_type": "stream",
     "text": [
      "Set parameter Username\n"
     ]
    },
    {
     "name": "stderr",
     "output_type": "stream",
     "text": [
      "INFO:gurobipy:Set parameter Username\n"
     ]
    },
    {
     "name": "stdout",
     "output_type": "stream",
     "text": [
      "Academic license - for non-commercial use only - expires 2025-09-04\n"
     ]
    },
    {
     "name": "stderr",
     "output_type": "stream",
     "text": [
      "INFO:gurobipy:Academic license - for non-commercial use only - expires 2025-09-04\n"
     ]
    },
    {
     "name": "stdout",
     "output_type": "stream",
     "text": [
      "Read LP format model from file C:\\Users\\alexk\\AppData\\Local\\Temp\\linopy-problem-oyjbv7v6.lp\n"
     ]
    },
    {
     "name": "stderr",
     "output_type": "stream",
     "text": [
      "INFO:gurobipy:Read LP format model from file C:\\Users\\alexk\\AppData\\Local\\Temp\\linopy-problem-oyjbv7v6.lp\n"
     ]
    },
    {
     "name": "stdout",
     "output_type": "stream",
     "text": [
      "Reading time = 0.84 seconds\n"
     ]
    },
    {
     "name": "stderr",
     "output_type": "stream",
     "text": [
      "INFO:gurobipy:Reading time = 0.84 seconds\n"
     ]
    },
    {
     "name": "stdout",
     "output_type": "stream",
     "text": [
      "obj: 341660 rows, 157698 columns, 692522 nonzeros\n"
     ]
    },
    {
     "name": "stderr",
     "output_type": "stream",
     "text": [
      "INFO:gurobipy:obj: 341660 rows, 157698 columns, 692522 nonzeros\n"
     ]
    },
    {
     "name": "stdout",
     "output_type": "stream",
     "text": [
      "Gurobi Optimizer version 11.0.3 build v11.0.3rc0 (win64 - Windows 11.0 (22631.2))\n"
     ]
    },
    {
     "name": "stderr",
     "output_type": "stream",
     "text": [
      "INFO:gurobipy:Gurobi Optimizer version 11.0.3 build v11.0.3rc0 (win64 - Windows 11.0 (22631.2))\n"
     ]
    },
    {
     "name": "stdout",
     "output_type": "stream",
     "text": [
      "\n"
     ]
    },
    {
     "name": "stderr",
     "output_type": "stream",
     "text": [
      "INFO:gurobipy:\n"
     ]
    },
    {
     "name": "stdout",
     "output_type": "stream",
     "text": [
      "CPU model: AMD Ryzen 5 4600H with Radeon Graphics, instruction set [SSE2|AVX|AVX2]\n"
     ]
    },
    {
     "name": "stderr",
     "output_type": "stream",
     "text": [
      "INFO:gurobipy:CPU model: AMD Ryzen 5 4600H with Radeon Graphics, instruction set [SSE2|AVX|AVX2]\n"
     ]
    },
    {
     "name": "stdout",
     "output_type": "stream",
     "text": [
      "Thread count: 6 physical cores, 12 logical processors, using up to 12 threads\n"
     ]
    },
    {
     "name": "stderr",
     "output_type": "stream",
     "text": [
      "INFO:gurobipy:Thread count: 6 physical cores, 12 logical processors, using up to 12 threads\n"
     ]
    },
    {
     "name": "stdout",
     "output_type": "stream",
     "text": [
      "\n"
     ]
    },
    {
     "name": "stderr",
     "output_type": "stream",
     "text": [
      "INFO:gurobipy:\n"
     ]
    },
    {
     "name": "stdout",
     "output_type": "stream",
     "text": [
      "Optimize a model with 341660 rows, 157698 columns and 692522 nonzeros\n"
     ]
    },
    {
     "name": "stderr",
     "output_type": "stream",
     "text": [
      "INFO:gurobipy:Optimize a model with 341660 rows, 157698 columns and 692522 nonzeros\n"
     ]
    },
    {
     "name": "stdout",
     "output_type": "stream",
     "text": [
      "Model fingerprint: 0xfbdfb690\n"
     ]
    },
    {
     "name": "stderr",
     "output_type": "stream",
     "text": [
      "INFO:gurobipy:Model fingerprint: 0xfbdfb690\n"
     ]
    },
    {
     "name": "stdout",
     "output_type": "stream",
     "text": [
      "Coefficient statistics:\n"
     ]
    },
    {
     "name": "stderr",
     "output_type": "stream",
     "text": [
      "INFO:gurobipy:Coefficient statistics:\n"
     ]
    },
    {
     "name": "stdout",
     "output_type": "stream",
     "text": [
      "  Matrix range     [1e-03, 3e+00]\n"
     ]
    },
    {
     "name": "stderr",
     "output_type": "stream",
     "text": [
      "INFO:gurobipy:  Matrix range     [1e-03, 3e+00]\n"
     ]
    },
    {
     "name": "stdout",
     "output_type": "stream",
     "text": [
      "  Objective range  [1e+01, 3e+05]\n"
     ]
    },
    {
     "name": "stderr",
     "output_type": "stream",
     "text": [
      "INFO:gurobipy:  Objective range  [1e+01, 3e+05]\n"
     ]
    },
    {
     "name": "stdout",
     "output_type": "stream",
     "text": [
      "  Bounds range     [0e+00, 0e+00]\n"
     ]
    },
    {
     "name": "stderr",
     "output_type": "stream",
     "text": [
      "INFO:gurobipy:  Bounds range     [0e+00, 0e+00]\n"
     ]
    },
    {
     "name": "stdout",
     "output_type": "stream",
     "text": [
      "  RHS range        [2e+03, 7e+08]\n"
     ]
    },
    {
     "name": "stderr",
     "output_type": "stream",
     "text": [
      "INFO:gurobipy:  RHS range        [2e+03, 7e+08]\n"
     ]
    },
    {
     "name": "stdout",
     "output_type": "stream",
     "text": [
      "Presolve removed 183516 rows and 43337 columns\n"
     ]
    },
    {
     "name": "stderr",
     "output_type": "stream",
     "text": [
      "INFO:gurobipy:Presolve removed 183516 rows and 43337 columns\n"
     ]
    },
    {
     "name": "stdout",
     "output_type": "stream",
     "text": [
      "Presolve time: 0.64s\n"
     ]
    },
    {
     "name": "stderr",
     "output_type": "stream",
     "text": [
      "INFO:gurobipy:Presolve time: 0.64s\n"
     ]
    },
    {
     "name": "stdout",
     "output_type": "stream",
     "text": [
      "Presolved: 158144 rows, 114361 columns, 622411 nonzeros\n"
     ]
    },
    {
     "name": "stderr",
     "output_type": "stream",
     "text": [
      "INFO:gurobipy:Presolved: 158144 rows, 114361 columns, 622411 nonzeros\n"
     ]
    },
    {
     "name": "stdout",
     "output_type": "stream",
     "text": [
      "\n"
     ]
    },
    {
     "name": "stderr",
     "output_type": "stream",
     "text": [
      "INFO:gurobipy:\n"
     ]
    },
    {
     "name": "stdout",
     "output_type": "stream",
     "text": [
      "Concurrent LP optimizer: primal simplex, dual simplex, and barrier\n"
     ]
    },
    {
     "name": "stderr",
     "output_type": "stream",
     "text": [
      "INFO:gurobipy:Concurrent LP optimizer: primal simplex, dual simplex, and barrier\n"
     ]
    },
    {
     "name": "stdout",
     "output_type": "stream",
     "text": [
      "Showing barrier log only...\n"
     ]
    },
    {
     "name": "stderr",
     "output_type": "stream",
     "text": [
      "INFO:gurobipy:Showing barrier log only...\n"
     ]
    },
    {
     "name": "stdout",
     "output_type": "stream",
     "text": [
      "\n"
     ]
    },
    {
     "name": "stderr",
     "output_type": "stream",
     "text": [
      "INFO:gurobipy:\n"
     ]
    },
    {
     "name": "stdout",
     "output_type": "stream",
     "text": [
      "Ordering time: 0.08s\n"
     ]
    },
    {
     "name": "stderr",
     "output_type": "stream",
     "text": [
      "INFO:gurobipy:Ordering time: 0.08s\n"
     ]
    },
    {
     "name": "stdout",
     "output_type": "stream",
     "text": [
      "\n"
     ]
    },
    {
     "name": "stderr",
     "output_type": "stream",
     "text": [
      "INFO:gurobipy:\n"
     ]
    },
    {
     "name": "stdout",
     "output_type": "stream",
     "text": [
      "Barrier statistics:\n"
     ]
    },
    {
     "name": "stderr",
     "output_type": "stream",
     "text": [
      "INFO:gurobipy:Barrier statistics:\n"
     ]
    },
    {
     "name": "stdout",
     "output_type": "stream",
     "text": [
      " Dense cols : 18\n"
     ]
    },
    {
     "name": "stderr",
     "output_type": "stream",
     "text": [
      "INFO:gurobipy: Dense cols : 18\n"
     ]
    },
    {
     "name": "stdout",
     "output_type": "stream",
     "text": [
      " AA' NZ     : 6.395e+05\n"
     ]
    },
    {
     "name": "stderr",
     "output_type": "stream",
     "text": [
      "INFO:gurobipy: AA' NZ     : 6.395e+05\n"
     ]
    },
    {
     "name": "stdout",
     "output_type": "stream",
     "text": [
      " Factor NZ  : 2.754e+06 (roughly 130 MB of memory)\n"
     ]
    },
    {
     "name": "stderr",
     "output_type": "stream",
     "text": [
      "INFO:gurobipy: Factor NZ  : 2.754e+06 (roughly 130 MB of memory)\n"
     ]
    },
    {
     "name": "stdout",
     "output_type": "stream",
     "text": [
      " Factor Ops : 5.012e+07 (less than 1 second per iteration)\n"
     ]
    },
    {
     "name": "stderr",
     "output_type": "stream",
     "text": [
      "INFO:gurobipy: Factor Ops : 5.012e+07 (less than 1 second per iteration)\n"
     ]
    },
    {
     "name": "stdout",
     "output_type": "stream",
     "text": [
      " Threads    : 4\n"
     ]
    },
    {
     "name": "stderr",
     "output_type": "stream",
     "text": [
      "INFO:gurobipy: Threads    : 4\n"
     ]
    },
    {
     "name": "stdout",
     "output_type": "stream",
     "text": [
      "\n"
     ]
    },
    {
     "name": "stderr",
     "output_type": "stream",
     "text": [
      "INFO:gurobipy:\n"
     ]
    },
    {
     "name": "stdout",
     "output_type": "stream",
     "text": [
      "                  Objective                Residual\n"
     ]
    },
    {
     "name": "stderr",
     "output_type": "stream",
     "text": [
      "INFO:gurobipy:                  Objective                Residual\n"
     ]
    },
    {
     "name": "stdout",
     "output_type": "stream",
     "text": [
      "Iter       Primal          Dual         Primal    Dual     Compl     Time\n"
     ]
    },
    {
     "name": "stderr",
     "output_type": "stream",
     "text": [
      "INFO:gurobipy:Iter       Primal          Dual         Primal    Dual     Compl     Time\n"
     ]
    },
    {
     "name": "stdout",
     "output_type": "stream",
     "text": [
      "   0   2.17574737e+13  3.70630607e+10  7.71e+10 3.70e+01  2.03e+10     1s\n"
     ]
    },
    {
     "name": "stderr",
     "output_type": "stream",
     "text": [
      "INFO:gurobipy:   0   2.17574737e+13  3.70630607e+10  7.71e+10 3.70e+01  2.03e+10     1s\n"
     ]
    },
    {
     "name": "stdout",
     "output_type": "stream",
     "text": [
      "   1   2.64463447e+13 -5.73577778e+12  5.21e+10 1.05e+03  8.80e+09     1s\n"
     ]
    },
    {
     "name": "stderr",
     "output_type": "stream",
     "text": [
      "INFO:gurobipy:   1   2.64463447e+13 -5.73577778e+12  5.21e+10 1.05e+03  8.80e+09     1s\n"
     ]
    },
    {
     "name": "stdout",
     "output_type": "stream",
     "text": [
      "   2   2.90554223e+13 -6.46543404e+12  4.30e+10 2.14e+02  6.03e+09     2s\n"
     ]
    },
    {
     "name": "stderr",
     "output_type": "stream",
     "text": [
      "INFO:gurobipy:   2   2.90554223e+13 -6.46543404e+12  4.30e+10 2.14e+02  6.03e+09     2s\n"
     ]
    },
    {
     "name": "stdout",
     "output_type": "stream",
     "text": [
      "   3   2.69123389e+13 -6.65570857e+12  8.65e+08 6.55e+00  2.12e+08     2s\n"
     ]
    },
    {
     "name": "stderr",
     "output_type": "stream",
     "text": [
      "INFO:gurobipy:   3   2.69123389e+13 -6.65570857e+12  8.65e+08 6.55e+00  2.12e+08     2s\n"
     ]
    },
    {
     "name": "stdout",
     "output_type": "stream",
     "text": [
      "   4   2.10671562e+12 -4.46266209e+12  2.57e+07 2.06e+00  2.22e+07     2s\n"
     ]
    },
    {
     "name": "stderr",
     "output_type": "stream",
     "text": [
      "INFO:gurobipy:   4   2.10671562e+12 -4.46266209e+12  2.57e+07 2.06e+00  2.22e+07     2s\n"
     ]
    },
    {
     "name": "stdout",
     "output_type": "stream",
     "text": [
      "   5   9.42724273e+11 -2.30423176e+12  4.74e+03 8.26e-01  9.61e+06     2s\n"
     ]
    },
    {
     "name": "stderr",
     "output_type": "stream",
     "text": [
      "INFO:gurobipy:   5   9.42724273e+11 -2.30423176e+12  4.74e+03 8.26e-01  9.61e+06     2s\n"
     ]
    },
    {
     "name": "stdout",
     "output_type": "stream",
     "text": [
      "   6   3.55390230e+11 -4.58312233e+11  1.26e+03 1.07e-07  2.26e+06     2s\n"
     ]
    },
    {
     "name": "stderr",
     "output_type": "stream",
     "text": [
      "INFO:gurobipy:   6   3.55390230e+11 -4.58312233e+11  1.26e+03 1.07e-07  2.26e+06     2s\n"
     ]
    },
    {
     "name": "stdout",
     "output_type": "stream",
     "text": [
      "   7   1.64726069e+11 -8.48121032e+10  4.84e+02 2.42e-08  6.83e+05     3s\n"
     ]
    },
    {
     "name": "stderr",
     "output_type": "stream",
     "text": [
      "INFO:gurobipy:   7   1.64726069e+11 -8.48121032e+10  4.84e+02 2.42e-08  6.83e+05     3s\n"
     ]
    },
    {
     "name": "stdout",
     "output_type": "stream",
     "text": [
      "   8   8.72106058e+10 -2.12986257e+10  2.04e+02 1.36e-08  2.96e+05     3s\n"
     ]
    },
    {
     "name": "stderr",
     "output_type": "stream",
     "text": [
      "INFO:gurobipy:   8   8.72106058e+10 -2.12986257e+10  2.04e+02 1.36e-08  2.96e+05     3s\n"
     ]
    },
    {
     "name": "stdout",
     "output_type": "stream",
     "text": [
      "   9   6.59088912e+10 -2.54195959e+08  1.36e+02 1.69e-09  1.80e+05     3s\n"
     ]
    },
    {
     "name": "stderr",
     "output_type": "stream",
     "text": [
      "INFO:gurobipy:   9   6.59088912e+10 -2.54195959e+08  1.36e+02 1.69e-09  1.80e+05     3s\n"
     ]
    },
    {
     "name": "stdout",
     "output_type": "stream",
     "text": [
      "  10   5.62485703e+10  4.28620600e+09  1.04e+02 1.75e-09  1.41e+05     3s\n"
     ]
    },
    {
     "name": "stderr",
     "output_type": "stream",
     "text": [
      "INFO:gurobipy:  10   5.62485703e+10  4.28620600e+09  1.04e+02 1.75e-09  1.41e+05     3s\n"
     ]
    },
    {
     "name": "stdout",
     "output_type": "stream",
     "text": [
      "  11   4.84708238e+10  1.12002338e+10  7.58e+01 5.53e-10  1.01e+05     3s\n"
     ]
    },
    {
     "name": "stderr",
     "output_type": "stream",
     "text": [
      "INFO:gurobipy:  11   4.84708238e+10  1.12002338e+10  7.58e+01 5.53e-10  1.01e+05     3s\n"
     ]
    },
    {
     "name": "stdout",
     "output_type": "stream",
     "text": [
      "  12   4.37127717e+10  1.73813499e+10  5.54e+01 2.91e-11  7.16e+04     4s\n"
     ]
    },
    {
     "name": "stderr",
     "output_type": "stream",
     "text": [
      "INFO:gurobipy:  12   4.37127717e+10  1.73813499e+10  5.54e+01 2.91e-11  7.16e+04     4s\n"
     ]
    },
    {
     "name": "stdout",
     "output_type": "stream",
     "text": [
      "  13   4.08769326e+10  2.33475465e+10  4.51e+01 2.04e-10  4.76e+04     4s\n"
     ]
    },
    {
     "name": "stderr",
     "output_type": "stream",
     "text": [
      "INFO:gurobipy:  13   4.08769326e+10  2.33475465e+10  4.51e+01 2.04e-10  4.76e+04     4s\n"
     ]
    },
    {
     "name": "stdout",
     "output_type": "stream",
     "text": [
      "  14   3.40044694e+10  2.54744229e+10  1.77e+01 1.66e-09  2.32e+04     4s\n"
     ]
    },
    {
     "name": "stderr",
     "output_type": "stream",
     "text": [
      "INFO:gurobipy:  14   3.40044694e+10  2.54744229e+10  1.77e+01 1.66e-09  2.32e+04     4s\n"
     ]
    },
    {
     "name": "stdout",
     "output_type": "stream",
     "text": [
      "  15   3.25710394e+10  2.71790124e+10  1.24e+01 1.75e-09  1.46e+04     4s\n"
     ]
    },
    {
     "name": "stderr",
     "output_type": "stream",
     "text": [
      "INFO:gurobipy:  15   3.25710394e+10  2.71790124e+10  1.24e+01 1.75e-09  1.46e+04     4s\n"
     ]
    },
    {
     "name": "stdout",
     "output_type": "stream",
     "text": [
      "  16   3.21716062e+10  2.76573676e+10  1.09e+01 2.27e-09  1.23e+04     4s\n"
     ]
    },
    {
     "name": "stderr",
     "output_type": "stream",
     "text": [
      "INFO:gurobipy:  16   3.21716062e+10  2.76573676e+10  1.09e+01 2.27e-09  1.23e+04     4s\n"
     ]
    },
    {
     "name": "stdout",
     "output_type": "stream",
     "text": [
      "  17   3.10199164e+10  2.80677863e+10  6.92e+00 3.81e-09  8.01e+03     5s\n"
     ]
    },
    {
     "name": "stderr",
     "output_type": "stream",
     "text": [
      "INFO:gurobipy:  17   3.10199164e+10  2.80677863e+10  6.92e+00 3.81e-09  8.01e+03     5s\n"
     ]
    },
    {
     "name": "stdout",
     "output_type": "stream",
     "text": [
      "  18   3.03893744e+10  2.82809286e+10  4.86e+00 9.02e-10  5.72e+03     5s\n"
     ]
    },
    {
     "name": "stderr",
     "output_type": "stream",
     "text": [
      "INFO:gurobipy:  18   3.03893744e+10  2.82809286e+10  4.86e+00 9.02e-10  5.72e+03     5s\n"
     ]
    },
    {
     "name": "stdout",
     "output_type": "stream",
     "text": [
      "  19   2.98655529e+10  2.84583440e+10  3.18e+00 0.00e+00  3.82e+03     5s\n"
     ]
    },
    {
     "name": "stderr",
     "output_type": "stream",
     "text": [
      "INFO:gurobipy:  19   2.98655529e+10  2.84583440e+10  3.18e+00 0.00e+00  3.82e+03     5s\n"
     ]
    },
    {
     "name": "stdout",
     "output_type": "stream",
     "text": [
      "  20   2.97143565e+10  2.85717694e+10  2.69e+00 1.37e-09  3.10e+03     6s\n"
     ]
    },
    {
     "name": "stderr",
     "output_type": "stream",
     "text": [
      "INFO:gurobipy:  20   2.97143565e+10  2.85717694e+10  2.69e+00 1.37e-09  3.10e+03     6s\n"
     ]
    },
    {
     "name": "stdout",
     "output_type": "stream",
     "text": [
      "  21   2.95703295e+10  2.86019470e+10  2.23e+00 7.28e-10  2.63e+03     6s\n"
     ]
    },
    {
     "name": "stderr",
     "output_type": "stream",
     "text": [
      "INFO:gurobipy:  21   2.95703295e+10  2.86019470e+10  2.23e+00 7.28e-10  2.63e+03     6s\n"
     ]
    },
    {
     "name": "stdout",
     "output_type": "stream",
     "text": [
      "  22   2.94897118e+10  2.86165851e+10  1.95e+00 0.00e+00  2.37e+03     6s\n"
     ]
    },
    {
     "name": "stderr",
     "output_type": "stream",
     "text": [
      "INFO:gurobipy:  22   2.94897118e+10  2.86165851e+10  1.95e+00 0.00e+00  2.37e+03     6s\n"
     ]
    },
    {
     "name": "stdout",
     "output_type": "stream",
     "text": [
      "  23   2.93838918e+10  2.86932149e+10  1.59e+00 1.54e-09  1.87e+03     7s\n"
     ]
    },
    {
     "name": "stderr",
     "output_type": "stream",
     "text": [
      "INFO:gurobipy:  23   2.93838918e+10  2.86932149e+10  1.59e+00 1.54e-09  1.87e+03     7s\n"
     ]
    },
    {
     "name": "stdout",
     "output_type": "stream",
     "text": [
      "  24   2.92979103e+10  2.87563695e+10  1.29e+00 1.46e-09  1.47e+03     7s\n"
     ]
    },
    {
     "name": "stderr",
     "output_type": "stream",
     "text": [
      "INFO:gurobipy:  24   2.92979103e+10  2.87563695e+10  1.29e+00 1.46e-09  1.47e+03     7s\n"
     ]
    },
    {
     "name": "stdout",
     "output_type": "stream",
     "text": [
      "  25   2.92496322e+10  2.87965009e+10  1.12e+00 1.57e-09  1.23e+03     7s\n"
     ]
    },
    {
     "name": "stderr",
     "output_type": "stream",
     "text": [
      "INFO:gurobipy:  25   2.92496322e+10  2.87965009e+10  1.12e+00 1.57e-09  1.23e+03     7s\n"
     ]
    },
    {
     "name": "stdout",
     "output_type": "stream",
     "text": [
      "  26   2.91922416e+10  2.88372404e+10  8.89e-01 0.00e+00  9.64e+02     8s\n"
     ]
    },
    {
     "name": "stderr",
     "output_type": "stream",
     "text": [
      "INFO:gurobipy:  26   2.91922416e+10  2.88372404e+10  8.89e-01 0.00e+00  9.64e+02     8s\n"
     ]
    },
    {
     "name": "stdout",
     "output_type": "stream",
     "text": [
      "  27   2.91319302e+10  2.88706436e+10  6.53e-01 1.25e-09  7.09e+02     8s\n"
     ]
    },
    {
     "name": "stderr",
     "output_type": "stream",
     "text": [
      "INFO:gurobipy:  27   2.91319302e+10  2.88706436e+10  6.53e-01 1.25e-09  7.09e+02     8s\n"
     ]
    },
    {
     "name": "stdout",
     "output_type": "stream",
     "text": [
      "  28   2.91009016e+10  2.88978444e+10  5.27e-01 1.31e-09  5.51e+02     8s\n"
     ]
    },
    {
     "name": "stderr",
     "output_type": "stream",
     "text": [
      "INFO:gurobipy:  28   2.91009016e+10  2.88978444e+10  5.27e-01 1.31e-09  5.51e+02     8s\n"
     ]
    },
    {
     "name": "stdout",
     "output_type": "stream",
     "text": [
      "  29   2.90755899e+10  2.89084817e+10  4.22e-01 0.00e+00  4.54e+02     9s\n"
     ]
    },
    {
     "name": "stderr",
     "output_type": "stream",
     "text": [
      "INFO:gurobipy:  29   2.90755899e+10  2.89084817e+10  4.22e-01 0.00e+00  4.54e+02     9s\n"
     ]
    },
    {
     "name": "stdout",
     "output_type": "stream",
     "text": [
      "  30   2.90528661e+10  2.89250060e+10  3.26e-01 0.00e+00  3.47e+02     9s\n"
     ]
    },
    {
     "name": "stderr",
     "output_type": "stream",
     "text": [
      "INFO:gurobipy:  30   2.90528661e+10  2.89250060e+10  3.26e-01 0.00e+00  3.47e+02     9s\n"
     ]
    },
    {
     "name": "stdout",
     "output_type": "stream",
     "text": [
      "  31   2.90399354e+10  2.89359166e+10  2.74e-01 0.00e+00  2.82e+02     9s\n"
     ]
    },
    {
     "name": "stderr",
     "output_type": "stream",
     "text": [
      "INFO:gurobipy:  31   2.90399354e+10  2.89359166e+10  2.74e-01 0.00e+00  2.82e+02     9s\n"
     ]
    },
    {
     "name": "stdout",
     "output_type": "stream",
     "text": [
      "  32   2.90245545e+10  2.89447956e+10  2.09e-01 6.11e-10  2.16e+02    10s\n"
     ]
    },
    {
     "name": "stderr",
     "output_type": "stream",
     "text": [
      "INFO:gurobipy:  32   2.90245545e+10  2.89447956e+10  2.09e-01 6.11e-10  2.16e+02    10s\n"
     ]
    },
    {
     "name": "stdout",
     "output_type": "stream",
     "text": [
      "  33   2.90154076e+10  2.89498836e+10  1.69e-01 3.35e-09  1.78e+02    10s\n"
     ]
    },
    {
     "name": "stderr",
     "output_type": "stream",
     "text": [
      "INFO:gurobipy:  33   2.90154076e+10  2.89498836e+10  1.69e-01 3.35e-09  1.78e+02    10s\n"
     ]
    },
    {
     "name": "stdout",
     "output_type": "stream",
     "text": [
      "  34   2.90090586e+10  2.89537389e+10  1.41e-01 2.97e-09  1.50e+02    10s\n"
     ]
    },
    {
     "name": "stderr",
     "output_type": "stream",
     "text": [
      "INFO:gurobipy:  34   2.90090586e+10  2.89537389e+10  1.41e-01 2.97e-09  1.50e+02    10s\n"
     ]
    },
    {
     "name": "stdout",
     "output_type": "stream",
     "text": [
      "  35   2.90008327e+10  2.89596674e+10  1.07e-01 6.40e-10  1.12e+02    11s\n"
     ]
    },
    {
     "name": "stderr",
     "output_type": "stream",
     "text": [
      "INFO:gurobipy:  35   2.90008327e+10  2.89596674e+10  1.07e-01 6.40e-10  1.12e+02    11s\n"
     ]
    },
    {
     "name": "stdout",
     "output_type": "stream",
     "text": [
      "  36   2.89965359e+10  2.89636740e+10  8.88e-02 0.00e+00  8.92e+01    11s\n"
     ]
    },
    {
     "name": "stderr",
     "output_type": "stream",
     "text": [
      "INFO:gurobipy:  36   2.89965359e+10  2.89636740e+10  8.88e-02 0.00e+00  8.92e+01    11s\n"
     ]
    },
    {
     "name": "stdout",
     "output_type": "stream",
     "text": [
      "  37   2.89925964e+10  2.89667236e+10  7.14e-02 0.00e+00  7.02e+01    11s\n"
     ]
    },
    {
     "name": "stderr",
     "output_type": "stream",
     "text": [
      "INFO:gurobipy:  37   2.89925964e+10  2.89667236e+10  7.14e-02 0.00e+00  7.02e+01    11s\n"
     ]
    },
    {
     "name": "stdout",
     "output_type": "stream",
     "text": [
      "  38   2.89886471e+10  2.89689542e+10  5.38e-02 0.00e+00  5.35e+01    12s\n"
     ]
    },
    {
     "name": "stderr",
     "output_type": "stream",
     "text": [
      "INFO:gurobipy:  38   2.89886471e+10  2.89689542e+10  5.38e-02 0.00e+00  5.35e+01    12s\n"
     ]
    },
    {
     "name": "stdout",
     "output_type": "stream",
     "text": [
      "  39   2.89862766e+10  2.89704291e+10  4.40e-02 0.00e+00  4.30e+01    12s\n"
     ]
    },
    {
     "name": "stderr",
     "output_type": "stream",
     "text": [
      "INFO:gurobipy:  39   2.89862766e+10  2.89704291e+10  4.40e-02 0.00e+00  4.30e+01    12s\n"
     ]
    },
    {
     "name": "stdout",
     "output_type": "stream",
     "text": [
      "  40   2.89832306e+10  2.89718614e+10  3.02e-02 0.00e+00  3.09e+01    12s\n"
     ]
    },
    {
     "name": "stderr",
     "output_type": "stream",
     "text": [
      "INFO:gurobipy:  40   2.89832306e+10  2.89718614e+10  3.02e-02 0.00e+00  3.09e+01    12s\n"
     ]
    },
    {
     "name": "stdout",
     "output_type": "stream",
     "text": [
      "  41   2.89811368e+10  2.89729374e+10  2.04e-02 0.00e+00  2.23e+01    13s\n"
     ]
    },
    {
     "name": "stderr",
     "output_type": "stream",
     "text": [
      "INFO:gurobipy:  41   2.89811368e+10  2.89729374e+10  2.04e-02 0.00e+00  2.23e+01    13s\n"
     ]
    },
    {
     "name": "stdout",
     "output_type": "stream",
     "text": [
      "  42   2.89802669e+10  2.89739819e+10  1.63e-02 0.00e+00  1.71e+01    13s\n"
     ]
    },
    {
     "name": "stderr",
     "output_type": "stream",
     "text": [
      "INFO:gurobipy:  42   2.89802669e+10  2.89739819e+10  1.63e-02 0.00e+00  1.71e+01    13s\n"
     ]
    },
    {
     "name": "stdout",
     "output_type": "stream",
     "text": [
      "  43   2.89795198e+10  2.89744887e+10  1.29e-02 0.00e+00  1.37e+01    14s\n"
     ]
    },
    {
     "name": "stderr",
     "output_type": "stream",
     "text": [
      "INFO:gurobipy:  43   2.89795198e+10  2.89744887e+10  1.29e-02 0.00e+00  1.37e+01    14s\n"
     ]
    },
    {
     "name": "stdout",
     "output_type": "stream",
     "text": [
      "  44   2.89789314e+10  2.89750857e+10  1.03e-02 0.00e+00  1.04e+01    14s\n"
     ]
    },
    {
     "name": "stderr",
     "output_type": "stream",
     "text": [
      "INFO:gurobipy:  44   2.89789314e+10  2.89750857e+10  1.03e-02 0.00e+00  1.04e+01    14s\n"
     ]
    },
    {
     "name": "stdout",
     "output_type": "stream",
     "text": [
      "  45   2.89779444e+10  2.89756471e+10  5.64e-03 0.00e+00  6.23e+00    14s\n"
     ]
    },
    {
     "name": "stderr",
     "output_type": "stream",
     "text": [
      "INFO:gurobipy:  45   2.89779444e+10  2.89756471e+10  5.64e-03 0.00e+00  6.23e+00    14s\n"
     ]
    },
    {
     "name": "stdout",
     "output_type": "stream",
     "text": [
      "  46   2.89774869e+10  2.89763033e+10  3.49e-03 0.00e+00  3.21e+00    15s\n"
     ]
    },
    {
     "name": "stderr",
     "output_type": "stream",
     "text": [
      "INFO:gurobipy:  46   2.89774869e+10  2.89763033e+10  3.49e-03 0.00e+00  3.21e+00    15s\n"
     ]
    },
    {
     "name": "stdout",
     "output_type": "stream",
     "text": [
      "  47   2.89768990e+10  2.89764839e+10  7.64e-04 0.00e+00  1.13e+00    15s\n"
     ]
    },
    {
     "name": "stderr",
     "output_type": "stream",
     "text": [
      "INFO:gurobipy:  47   2.89768990e+10  2.89764839e+10  7.64e-04 0.00e+00  1.13e+00    15s\n"
     ]
    },
    {
     "name": "stdout",
     "output_type": "stream",
     "text": [
      "  48   2.89768076e+10  2.89765797e+10  3.49e-04 8.86e-08  6.18e-01    15s\n"
     ]
    },
    {
     "name": "stderr",
     "output_type": "stream",
     "text": [
      "INFO:gurobipy:  48   2.89768076e+10  2.89765797e+10  3.49e-04 8.86e-08  6.18e-01    15s\n"
     ]
    },
    {
     "name": "stdout",
     "output_type": "stream",
     "text": [
      "  49   2.89767479e+10  2.89766784e+10  8.97e-05 3.57e-08  1.88e-01    16s\n"
     ]
    },
    {
     "name": "stderr",
     "output_type": "stream",
     "text": [
      "INFO:gurobipy:  49   2.89767479e+10  2.89766784e+10  8.97e-05 3.57e-08  1.88e-01    16s\n"
     ]
    },
    {
     "name": "stdout",
     "output_type": "stream",
     "text": [
      "  50   2.89767297e+10  2.89767253e+10  1.63e-05 1.18e-07  1.21e-02    16s\n"
     ]
    },
    {
     "name": "stderr",
     "output_type": "stream",
     "text": [
      "INFO:gurobipy:  50   2.89767297e+10  2.89767253e+10  1.63e-05 1.18e-07  1.21e-02    16s\n"
     ]
    },
    {
     "name": "stdout",
     "output_type": "stream",
     "text": [
      "  51   2.89767266e+10  2.89767266e+10  5.11e-06 1.84e-08  1.35e-04    16s\n"
     ]
    },
    {
     "name": "stderr",
     "output_type": "stream",
     "text": [
      "INFO:gurobipy:  51   2.89767266e+10  2.89767266e+10  5.11e-06 1.84e-08  1.35e-04    16s\n"
     ]
    },
    {
     "name": "stdout",
     "output_type": "stream",
     "text": [
      "  52   2.89767266e+10  2.89767266e+10  5.37e-06 3.84e-08  3.55e-09    16s\n"
     ]
    },
    {
     "name": "stderr",
     "output_type": "stream",
     "text": [
      "INFO:gurobipy:  52   2.89767266e+10  2.89767266e+10  5.37e-06 3.84e-08  3.55e-09    16s\n"
     ]
    },
    {
     "name": "stdout",
     "output_type": "stream",
     "text": [
      "\n"
     ]
    },
    {
     "name": "stderr",
     "output_type": "stream",
     "text": [
      "INFO:gurobipy:\n"
     ]
    },
    {
     "name": "stdout",
     "output_type": "stream",
     "text": [
      "Barrier solved model in 52 iterations and 16.28 seconds (4.28 work units)\n"
     ]
    },
    {
     "name": "stderr",
     "output_type": "stream",
     "text": [
      "INFO:gurobipy:Barrier solved model in 52 iterations and 16.28 seconds (4.28 work units)\n"
     ]
    },
    {
     "name": "stdout",
     "output_type": "stream",
     "text": [
      "Optimal objective 2.89767266e+10\n"
     ]
    },
    {
     "name": "stderr",
     "output_type": "stream",
     "text": [
      "INFO:gurobipy:Optimal objective 2.89767266e+10\n"
     ]
    },
    {
     "name": "stdout",
     "output_type": "stream",
     "text": [
      "\n"
     ]
    },
    {
     "name": "stderr",
     "output_type": "stream",
     "text": [
      "INFO:gurobipy:\n"
     ]
    },
    {
     "name": "stdout",
     "output_type": "stream",
     "text": [
      "Crossover log...\n"
     ]
    },
    {
     "name": "stderr",
     "output_type": "stream",
     "text": [
      "INFO:gurobipy:Crossover log...\n"
     ]
    },
    {
     "name": "stdout",
     "output_type": "stream",
     "text": [
      "\n"
     ]
    },
    {
     "name": "stderr",
     "output_type": "stream",
     "text": [
      "INFO:gurobipy:\n"
     ]
    },
    {
     "name": "stdout",
     "output_type": "stream",
     "text": [
      "   30962 DPushes remaining with DInf 0.0000000e+00                17s\n"
     ]
    },
    {
     "name": "stderr",
     "output_type": "stream",
     "text": [
      "INFO:gurobipy:   30962 DPushes remaining with DInf 0.0000000e+00                17s\n"
     ]
    },
    {
     "name": "stdout",
     "output_type": "stream",
     "text": [
      "       0 DPushes remaining with DInf 0.0000000e+00                20s\n"
     ]
    },
    {
     "name": "stderr",
     "output_type": "stream",
     "text": [
      "INFO:gurobipy:       0 DPushes remaining with DInf 0.0000000e+00                20s\n"
     ]
    },
    {
     "name": "stdout",
     "output_type": "stream",
     "text": [
      "Warning: Markowitz tolerance tightened to 0.5\n"
     ]
    },
    {
     "name": "stderr",
     "output_type": "stream",
     "text": [
      "INFO:gurobipy:Warning: Markowitz tolerance tightened to 0.5\n"
     ]
    },
    {
     "name": "stdout",
     "output_type": "stream",
     "text": [
      "\n"
     ]
    },
    {
     "name": "stderr",
     "output_type": "stream",
     "text": [
      "INFO:gurobipy:\n"
     ]
    },
    {
     "name": "stdout",
     "output_type": "stream",
     "text": [
      "   18009 PPushes remaining with PInf 4.6106286e-03                20s\n"
     ]
    },
    {
     "name": "stderr",
     "output_type": "stream",
     "text": [
      "INFO:gurobipy:   18009 PPushes remaining with PInf 4.6106286e-03                20s\n"
     ]
    },
    {
     "name": "stdout",
     "output_type": "stream",
     "text": [
      "   14361 PPushes remaining with PInf 3.5590399e-06                36s\n"
     ]
    },
    {
     "name": "stderr",
     "output_type": "stream",
     "text": [
      "INFO:gurobipy:   14361 PPushes remaining with PInf 3.5590399e-06                36s\n"
     ]
    },
    {
     "name": "stdout",
     "output_type": "stream",
     "text": [
      "   12837 PPushes remaining with PInf 3.5590424e-06                40s\n"
     ]
    },
    {
     "name": "stderr",
     "output_type": "stream",
     "text": [
      "INFO:gurobipy:   12837 PPushes remaining with PInf 3.5590424e-06                40s\n"
     ]
    },
    {
     "name": "stdout",
     "output_type": "stream",
     "text": [
      "   11823 PPushes remaining with PInf 3.5590674e-06                46s\n"
     ]
    },
    {
     "name": "stderr",
     "output_type": "stream",
     "text": [
      "INFO:gurobipy:   11823 PPushes remaining with PInf 3.5590674e-06                46s\n"
     ]
    },
    {
     "name": "stdout",
     "output_type": "stream",
     "text": [
      "   11061 PPushes remaining with PInf 3.5590799e-06                50s\n"
     ]
    },
    {
     "name": "stderr",
     "output_type": "stream",
     "text": [
      "INFO:gurobipy:   11061 PPushes remaining with PInf 3.5590799e-06                50s\n"
     ]
    },
    {
     "name": "stdout",
     "output_type": "stream",
     "text": [
      "    9939 PPushes remaining with PInf 3.5590622e-06                56s\n"
     ]
    },
    {
     "name": "stderr",
     "output_type": "stream",
     "text": [
      "INFO:gurobipy:    9939 PPushes remaining with PInf 3.5590622e-06                56s\n"
     ]
    },
    {
     "name": "stdout",
     "output_type": "stream",
     "text": [
      "    9088 PPushes remaining with PInf 3.5590385e-06                61s\n"
     ]
    },
    {
     "name": "stderr",
     "output_type": "stream",
     "text": [
      "INFO:gurobipy:    9088 PPushes remaining with PInf 3.5590385e-06                61s\n"
     ]
    },
    {
     "name": "stdout",
     "output_type": "stream",
     "text": [
      "    8199 PPushes remaining with PInf 3.5590622e-06                67s\n"
     ]
    },
    {
     "name": "stderr",
     "output_type": "stream",
     "text": [
      "INFO:gurobipy:    8199 PPushes remaining with PInf 3.5590622e-06                67s\n"
     ]
    },
    {
     "name": "stdout",
     "output_type": "stream",
     "text": [
      "    7637 PPushes remaining with PInf 3.5590567e-06                71s\n"
     ]
    },
    {
     "name": "stderr",
     "output_type": "stream",
     "text": [
      "INFO:gurobipy:    7637 PPushes remaining with PInf 3.5590567e-06                71s\n"
     ]
    },
    {
     "name": "stdout",
     "output_type": "stream",
     "text": [
      "    6809 PPushes remaining with PInf 3.5590126e-06                76s\n"
     ]
    },
    {
     "name": "stderr",
     "output_type": "stream",
     "text": [
      "INFO:gurobipy:    6809 PPushes remaining with PInf 3.5590126e-06                76s\n"
     ]
    },
    {
     "name": "stdout",
     "output_type": "stream",
     "text": [
      "    6299 PPushes remaining with PInf 0.0000000e+00                80s\n"
     ]
    },
    {
     "name": "stderr",
     "output_type": "stream",
     "text": [
      "INFO:gurobipy:    6299 PPushes remaining with PInf 0.0000000e+00                80s\n"
     ]
    },
    {
     "name": "stdout",
     "output_type": "stream",
     "text": [
      "    5755 PPushes remaining with PInf 0.0000000e+00                85s\n"
     ]
    },
    {
     "name": "stderr",
     "output_type": "stream",
     "text": [
      "INFO:gurobipy:    5755 PPushes remaining with PInf 0.0000000e+00                85s\n"
     ]
    },
    {
     "name": "stdout",
     "output_type": "stream",
     "text": [
      "    4968 PPushes remaining with PInf 0.0000000e+00                92s\n"
     ]
    },
    {
     "name": "stderr",
     "output_type": "stream",
     "text": [
      "INFO:gurobipy:    4968 PPushes remaining with PInf 0.0000000e+00                92s\n"
     ]
    },
    {
     "name": "stdout",
     "output_type": "stream",
     "text": [
      "    4448 PPushes remaining with PInf 0.0000000e+00                97s\n"
     ]
    },
    {
     "name": "stderr",
     "output_type": "stream",
     "text": [
      "INFO:gurobipy:    4448 PPushes remaining with PInf 0.0000000e+00                97s\n"
     ]
    },
    {
     "name": "stdout",
     "output_type": "stream",
     "text": [
      "    3949 PPushes remaining with PInf 0.0000000e+00               102s\n"
     ]
    },
    {
     "name": "stderr",
     "output_type": "stream",
     "text": [
      "INFO:gurobipy:    3949 PPushes remaining with PInf 0.0000000e+00               102s\n"
     ]
    },
    {
     "name": "stdout",
     "output_type": "stream",
     "text": [
      "    3711 PPushes remaining with PInf 0.0000000e+00               105s\n"
     ]
    },
    {
     "name": "stderr",
     "output_type": "stream",
     "text": [
      "INFO:gurobipy:    3711 PPushes remaining with PInf 0.0000000e+00               105s\n"
     ]
    },
    {
     "name": "stdout",
     "output_type": "stream",
     "text": [
      "    3230 PPushes remaining with PInf 0.0000000e+00               110s\n"
     ]
    },
    {
     "name": "stderr",
     "output_type": "stream",
     "text": [
      "INFO:gurobipy:    3230 PPushes remaining with PInf 0.0000000e+00               110s\n"
     ]
    },
    {
     "name": "stdout",
     "output_type": "stream",
     "text": [
      "    2571 PPushes remaining with PInf 0.0000000e+00               115s\n"
     ]
    },
    {
     "name": "stderr",
     "output_type": "stream",
     "text": [
      "INFO:gurobipy:    2571 PPushes remaining with PInf 0.0000000e+00               115s\n"
     ]
    },
    {
     "name": "stdout",
     "output_type": "stream",
     "text": [
      "    1930 PPushes remaining with PInf 0.0000000e+00               121s\n"
     ]
    },
    {
     "name": "stderr",
     "output_type": "stream",
     "text": [
      "INFO:gurobipy:    1930 PPushes remaining with PInf 0.0000000e+00               121s\n"
     ]
    },
    {
     "name": "stdout",
     "output_type": "stream",
     "text": [
      "    1192 PPushes remaining with PInf 0.0000000e+00               126s\n"
     ]
    },
    {
     "name": "stderr",
     "output_type": "stream",
     "text": [
      "INFO:gurobipy:    1192 PPushes remaining with PInf 0.0000000e+00               126s\n"
     ]
    },
    {
     "name": "stdout",
     "output_type": "stream",
     "text": [
      "     554 PPushes remaining with PInf 0.0000000e+00               130s\n"
     ]
    },
    {
     "name": "stderr",
     "output_type": "stream",
     "text": [
      "INFO:gurobipy:     554 PPushes remaining with PInf 0.0000000e+00               130s\n"
     ]
    },
    {
     "name": "stdout",
     "output_type": "stream",
     "text": [
      "       0 PPushes remaining with PInf 0.0000000e+00               136s\n"
     ]
    },
    {
     "name": "stderr",
     "output_type": "stream",
     "text": [
      "INFO:gurobipy:       0 PPushes remaining with PInf 0.0000000e+00               136s\n"
     ]
    },
    {
     "name": "stdout",
     "output_type": "stream",
     "text": [
      "\n"
     ]
    },
    {
     "name": "stderr",
     "output_type": "stream",
     "text": [
      "INFO:gurobipy:\n"
     ]
    },
    {
     "name": "stdout",
     "output_type": "stream",
     "text": [
      "  Push phase complete: Pinf 0.0000000e+00, Dinf 2.8282452e-08    136s\n"
     ]
    },
    {
     "name": "stderr",
     "output_type": "stream",
     "text": [
      "INFO:gurobipy:  Push phase complete: Pinf 0.0000000e+00, Dinf 2.8282452e-08    136s\n"
     ]
    },
    {
     "name": "stdout",
     "output_type": "stream",
     "text": [
      "\n"
     ]
    },
    {
     "name": "stderr",
     "output_type": "stream",
     "text": [
      "INFO:gurobipy:\n"
     ]
    },
    {
     "name": "stdout",
     "output_type": "stream",
     "text": [
      "\n"
     ]
    },
    {
     "name": "stderr",
     "output_type": "stream",
     "text": [
      "INFO:gurobipy:\n"
     ]
    },
    {
     "name": "stdout",
     "output_type": "stream",
     "text": [
      "Solved with barrier\n"
     ]
    },
    {
     "name": "stderr",
     "output_type": "stream",
     "text": [
      "INFO:gurobipy:Solved with barrier\n"
     ]
    },
    {
     "name": "stdout",
     "output_type": "stream",
     "text": [
      "Extra simplex iterations after uncrush: 1\n"
     ]
    },
    {
     "name": "stderr",
     "output_type": "stream",
     "text": [
      "INFO:gurobipy:Extra simplex iterations after uncrush: 1\n"
     ]
    },
    {
     "name": "stdout",
     "output_type": "stream",
     "text": [
      "Iteration    Objective       Primal Inf.    Dual Inf.      Time\n"
     ]
    },
    {
     "name": "stderr",
     "output_type": "stream",
     "text": [
      "INFO:gurobipy:Iteration    Objective       Primal Inf.    Dual Inf.      Time\n"
     ]
    },
    {
     "name": "stdout",
     "output_type": "stream",
     "text": [
      "   45660    2.8976727e+10   0.000000e+00   0.000000e+00    140s\n"
     ]
    },
    {
     "name": "stderr",
     "output_type": "stream",
     "text": [
      "INFO:gurobipy:   45660    2.8976727e+10   0.000000e+00   0.000000e+00    140s\n"
     ]
    },
    {
     "name": "stdout",
     "output_type": "stream",
     "text": [
      "\n"
     ]
    },
    {
     "name": "stderr",
     "output_type": "stream",
     "text": [
      "INFO:gurobipy:\n"
     ]
    },
    {
     "name": "stdout",
     "output_type": "stream",
     "text": [
      "Solved in 45660 iterations and 139.91 seconds (108.25 work units)\n"
     ]
    },
    {
     "name": "stderr",
     "output_type": "stream",
     "text": [
      "INFO:gurobipy:Solved in 45660 iterations and 139.91 seconds (108.25 work units)\n"
     ]
    },
    {
     "name": "stdout",
     "output_type": "stream",
     "text": [
      "Optimal objective  2.897672656e+10\n"
     ]
    },
    {
     "name": "stderr",
     "output_type": "stream",
     "text": [
      "INFO:gurobipy:Optimal objective  2.897672656e+10\n",
      "INFO:linopy.constants: Optimization successful: \n",
      "Status: ok\n",
      "Termination condition: optimal\n",
      "Solution: 157698 primals, 341660 duals\n",
      "Objective: 2.90e+10\n",
      "Solver model: available\n",
      "Solver message: 2\n",
      "\n",
      "INFO:pypsa.optimization.optimize:The shadow-prices of the constraints Generator-ext-p-lower, Generator-ext-p-upper, Link-ext-p-lower, Link-ext-p-upper were not assigned to the network.\n"
     ]
    },
    {
     "data": {
      "text/plain": [
       "('ok', 'optimal')"
      ]
     },
     "execution_count": 50,
     "metadata": {},
     "output_type": "execute_result"
    }
   ],
   "source": [
    "n.optimize(solver_name='gurobi')"
   ]
  },
  {
   "cell_type": "code",
   "execution_count": 51,
   "id": "34a2f940",
   "metadata": {},
   "outputs": [
    {
     "data": {
      "text/plain": [
       "Index(['onshorewindDEU', 'offshorewindDEU', 'PVDEU', 'rooftopPVDEU', 'OCGTDEU',\n",
       "       'coalDEU', 'onshorewindDNK', 'offshorewindDNK', 'PVDNK', 'rooftopPVDNK',\n",
       "       'OCGTDNK', 'PVAUT', 'rooftopPVAUT', 'OCGTAUT', 'hydroAUT'],\n",
       "      dtype='object', name='Generator')"
      ]
     },
     "execution_count": 51,
     "metadata": {},
     "output_type": "execute_result"
    }
   ],
   "source": [
    "n.generators_t.p.columns"
   ]
  },
  {
   "cell_type": "code",
   "execution_count": 52,
   "id": "aedcb3ad",
   "metadata": {},
   "outputs": [
    {
     "data": {
      "image/png": "[encoded data removed]",
      "text/plain": [
       "<Figure size 1600x400 with 3 Axes>"
      ]
     },
     "metadata": {},
     "output_type": "display_data"
    }
   ],
   "source": [
    "plt.figure(figsize=(16, 4))\n",
    "\n",
    "for country in countries:      \n",
    "   if country == \"DEU\":\n",
    "      labels = ['onshore wind',\n",
    "               'offshore wind',\n",
    "               'large scale solar',\n",
    "               'rooftop solar',\n",
    "               'coal',\n",
    "               'gas (OCGT)']\n",
    "      sizes = [n.generators_t.p[f'onshorewind{country}'].sum(),\n",
    "                     n.generators_t.p[f'offshorewind{country}'].sum(),\n",
    "                  n.generators_t.p[f'PV{country}'].sum(),\n",
    "                     n.generators_t.p[f'rooftopPV{country}'].sum(),\n",
    "                     n.generators_t.p[f'coal{country}'].sum(),\n",
    "                  n.generators_t.p[f'OCGT{country}'].sum()]\n",
    "\n",
    "   \n",
    "\n",
    "      colors=['blue', 'darkblue', 'orange', 'yellow', 'brown', 'grey']\n",
    "\n",
    "      plt.subplot(1, 3, 1)\n",
    "      plt.pie(sizes,\n",
    "            colors=colors,\n",
    "            labels=labels,\n",
    "            wedgeprops={'linewidth':0})\n",
    "      plt.axis('equal')\n",
    "\n",
    "      plt.title(f'{country} Generation mix', y=1.07)\n",
    "   \n",
    "   if country == \"DNK\":\n",
    "      labels = ['onshore wind',\n",
    "               'offshore wind',\n",
    "               'large scale solar',\n",
    "               'rooftop solar',\n",
    "               'gas (OCGT)']\n",
    "      sizes = [n.generators_t.p[f'onshorewind{country}'].sum(),\n",
    "                     n.generators_t.p[f'offshorewind{country}'].sum(),\n",
    "                  n.generators_t.p[f'PV{country}'].sum(),\n",
    "                     n.generators_t.p[f'rooftopPV{country}'].sum(),\n",
    "                  n.generators_t.p[f'OCGT{country}'].sum()]\n",
    "\n",
    "   \n",
    "\n",
    "      colors=['blue', 'darkblue', 'orange', 'yellow', 'grey']\n",
    "\n",
    "      plt.subplot(1, 3, 2)\n",
    "      plt.pie(sizes,\n",
    "            colors=colors,\n",
    "            labels=labels,\n",
    "            wedgeprops={'linewidth':0})\n",
    "      plt.axis('equal')\n",
    "\n",
    "      plt.title(f'{country} Generation mix', y=1.07)\n",
    "\n",
    "   \n",
    "   if country == \"AUT\":\n",
    "      labels = ['hydro',\n",
    "               'large scale solar',\n",
    "               'rooftop solar',\n",
    "               'gas (OCGT)']\n",
    "      sizes = [n.generators_t.p[f'hydro{country}'].sum(),\n",
    "                  n.generators_t.p[f'PV{country}'].sum(),\n",
    "                     n.generators_t.p[f'rooftopPV{country}'].sum(),\n",
    "                  n.generators_t.p[f'OCGT{country}'].sum()]\n",
    "\n",
    "   \n",
    "\n",
    "      colors=['lightblue', 'orange', 'yellow', 'grey']\n",
    "\n",
    "      plt.subplot(1, 3, 3)\n",
    "      plt.pie(sizes,\n",
    "            colors=colors,\n",
    "            labels=labels,\n",
    "            wedgeprops={'linewidth':0})\n",
    "      plt.axis('equal')\n",
    "\n",
    "      plt.title(f'{country} Generation mix', y=1.07)\n",
    "\n",
    "      \n"
   ]
  },
  {
   "cell_type": "code",
   "execution_count": 53,
   "id": "dc5af6a9",
   "metadata": {},
   "outputs": [
    {
     "data": {
      "text/plain": [
       "<AxesSubplot: xlabel='snapshot', ylabel='dispatch'>"
      ]
     },
     "execution_count": 53,
     "metadata": {},
     "output_type": "execute_result"
    },
    {
     "data": {
      "image/png": "[encoded data removed]",
      "text/plain": [
       "<Figure size 1200x400 with 1 Axes>"
      ]
     },
     "metadata": {},
     "output_type": "display_data"
    }
   ],
   "source": [
    "n.links_t.p0.loc[\"2015-02\"].plot(figsize=(12, 4), ylabel=\"dispatch\")"
   ]
  },
  {
   "cell_type": "code",
   "execution_count": 54,
   "id": "8f20c990",
   "metadata": {},
   "outputs": [
    {
     "data": {
      "text/html": [
       "<div>\n",
       "<style scoped>\n",
       "    .dataframe tbody tr th:only-of-type {\n",
       "        vertical-align: middle;\n",
       "    }\n",
       "\n",
       "    .dataframe tbody tr th {\n",
       "        vertical-align: top;\n",
       "    }\n",
       "\n",
       "    .dataframe thead th {\n",
       "        text-align: right;\n",
       "    }\n",
       "</style>\n",
       "<table border=\"1\" class=\"dataframe\">\n",
       "  <thead>\n",
       "    <tr style=\"text-align: right;\">\n",
       "      <th>Link</th>\n",
       "      <th>linkDEU-DNK</th>\n",
       "      <th>linkDEU-AUT</th>\n",
       "      <th>linkDNK-AUT</th>\n",
       "    </tr>\n",
       "    <tr>\n",
       "      <th>snapshot</th>\n",
       "      <th></th>\n",
       "      <th></th>\n",
       "      <th></th>\n",
       "    </tr>\n",
       "  </thead>\n",
       "  <tbody>\n",
       "    <tr>\n",
       "      <th>2015-01-01 00:00:00</th>\n",
       "      <td>-1088.703495</td>\n",
       "      <td>831.789433</td>\n",
       "      <td>671.425334</td>\n",
       "    </tr>\n",
       "    <tr>\n",
       "      <th>2015-01-01 01:00:00</th>\n",
       "      <td>-1088.703495</td>\n",
       "      <td>764.580874</td>\n",
       "      <td>836.419126</td>\n",
       "    </tr>\n",
       "    <tr>\n",
       "      <th>2015-01-01 02:00:00</th>\n",
       "      <td>-1088.703495</td>\n",
       "      <td>411.047792</td>\n",
       "      <td>899.952208</td>\n",
       "    </tr>\n",
       "    <tr>\n",
       "      <th>2015-01-01 03:00:00</th>\n",
       "      <td>-1088.703495</td>\n",
       "      <td>330.047792</td>\n",
       "      <td>899.952208</td>\n",
       "    </tr>\n",
       "    <tr>\n",
       "      <th>2015-01-01 04:00:00</th>\n",
       "      <td>-1088.703495</td>\n",
       "      <td>421.047792</td>\n",
       "      <td>899.952208</td>\n",
       "    </tr>\n",
       "    <tr>\n",
       "      <th>...</th>\n",
       "      <td>...</td>\n",
       "      <td>...</td>\n",
       "      <td>...</td>\n",
       "    </tr>\n",
       "    <tr>\n",
       "      <th>2015-12-31 19:00:00</th>\n",
       "      <td>907.541844</td>\n",
       "      <td>831.789433</td>\n",
       "      <td>-899.952208</td>\n",
       "    </tr>\n",
       "    <tr>\n",
       "      <th>2015-12-31 20:00:00</th>\n",
       "      <td>1068.617835</td>\n",
       "      <td>831.789433</td>\n",
       "      <td>-899.952208</td>\n",
       "    </tr>\n",
       "    <tr>\n",
       "      <th>2015-12-31 21:00:00</th>\n",
       "      <td>965.554868</td>\n",
       "      <td>831.789433</td>\n",
       "      <td>-899.952208</td>\n",
       "    </tr>\n",
       "    <tr>\n",
       "      <th>2015-12-31 22:00:00</th>\n",
       "      <td>590.009427</td>\n",
       "      <td>831.789433</td>\n",
       "      <td>-899.952208</td>\n",
       "    </tr>\n",
       "    <tr>\n",
       "      <th>2015-12-31 23:00:00</th>\n",
       "      <td>-1088.703495</td>\n",
       "      <td>831.789433</td>\n",
       "      <td>-899.952208</td>\n",
       "    </tr>\n",
       "  </tbody>\n",
       "</table>\n",
       "<p>8760 rows × 3 columns</p>\n",
       "</div>"
      ],
      "text/plain": [
       "Link                 linkDEU-DNK  linkDEU-AUT  linkDNK-AUT\n",
       "snapshot                                                  \n",
       "2015-01-01 00:00:00 -1088.703495   831.789433   671.425334\n",
       "2015-01-01 01:00:00 -1088.703495   764.580874   836.419126\n",
       "2015-01-01 02:00:00 -1088.703495   411.047792   899.952208\n",
       "2015-01-01 03:00:00 -1088.703495   330.047792   899.952208\n",
       "2015-01-01 04:00:00 -1088.703495   421.047792   899.952208\n",
       "...                          ...          ...          ...\n",
       "2015-12-31 19:00:00   907.541844   831.789433  -899.952208\n",
       "2015-12-31 20:00:00  1068.617835   831.789433  -899.952208\n",
       "2015-12-31 21:00:00   965.554868   831.789433  -899.952208\n",
       "2015-12-31 22:00:00   590.009427   831.789433  -899.952208\n",
       "2015-12-31 23:00:00 -1088.703495   831.789433  -899.952208\n",
       "\n",
       "[8760 rows x 3 columns]"
      ]
     },
     "execution_count": 54,
     "metadata": {},
     "output_type": "execute_result"
    }
   ],
   "source": [
    "n.links_t.p0"
   ]
  }
 ],
 "metadata": {
  "kernelspec": {
   "display_name": "Python 3",
   "language": "python",
   "name": "python3"
  },
  "language_info": {
   "codemirror_mode": {
    "name": "ipython",
    "version": 3
   },
   "file_extension": ".py",
   "mimetype": "text/x-python",
   "name": "python",
   "nbconvert_exporter": "python",
   "pygments_lexer": "ipython3",
   "version": "3.11.5"
  }
 },
 "nbformat": 4,
 "nbformat_minor": 5
}
