{
 "cells": [
  {
   "cell_type": "code",
   "execution_count": 29,
   "id": "4e55b13f",
   "metadata": {},
   "outputs": [],
   "source": [
    "import pandas as pd\n",
    "import pypsa\n",
    "import numpy as np\n",
    "import matplotlib.pyplot as plt"
   ]
  },
  {
   "cell_type": "markdown",
   "id": "915c60de",
   "metadata": {},
   "source": [
    "# Load Data"
   ]
  },
  {
   "cell_type": "code",
   "execution_count": 30,
   "id": "da7855b4",
   "metadata": {},
   "outputs": [
    {
     "name": "stderr",
     "output_type": "stream",
     "text": [
      "<>:14: SyntaxWarning: invalid escape sequence '\\p'\n",
      "<>:18: SyntaxWarning: invalid escape sequence '\\p'\n",
      "<>:14: SyntaxWarning: invalid escape sequence '\\p'\n",
      "<>:18: SyntaxWarning: invalid escape sequence '\\p'\n",
      "C:\\Users\\Tuferome\\AppData\\Local\\Temp\\ipykernel_36256\\3096401804.py:14: SyntaxWarning: invalid escape sequence '\\p'\n",
      "  df_pv = pd.read_csv('data\\pv_optimal.csv', sep=';', index_col=0)\n",
      "C:\\Users\\Tuferome\\AppData\\Local\\Temp\\ipykernel_36256\\3096401804.py:18: SyntaxWarning: invalid escape sequence '\\p'\n",
      "  df_rooftop = pd.read_csv('data\\pv_rooftop.csv', sep=';', index_col=0)\n",
      "C:\\Users\\Tuferome\\AppData\\Local\\Temp\\ipykernel_36256\\3096401804.py:29: FutureWarning: 'H' is deprecated and will be removed in a future version, please use 'h' instead.\n",
      "  df_hydro_hourly = df_hydro['inflow_MW'].resample('H').ffill()\n"
     ]
    }
   ],
   "source": [
    "# load electricity demand data\n",
    "df_elec = pd.read_csv('data/electricity_demand.csv', sep=';', index_col=0) # in MWh\n",
    "df_elec.index = pd.to_datetime(df_elec.index) #change index to datatime\n",
    "\n",
    "# load onshore wind data\n",
    "df_onshorewind = pd.read_csv('data/onshore_wind_1979-2017.csv', sep=';', index_col=0)\n",
    "df_onshorewind.index = pd.to_datetime(df_onshorewind.index)\n",
    "\n",
    "# load offshore wind data\n",
    "df_offshorewind = pd.read_csv('data/offshore_wind_1979-2017.csv', sep=';', index_col=0)\n",
    "df_offshorewind.index = pd.to_datetime(df_offshorewind.index)\n",
    "\n",
    "# load large scale pv data\n",
    "df_pv = pd.read_csv('data\\pv_optimal.csv', sep=';', index_col=0)\n",
    "df_pv.index = pd.to_datetime(df_pv.index)\n",
    "\n",
    "# load rooftop pv data\n",
    "df_rooftop = pd.read_csv('data\\pv_rooftop.csv', sep=';', index_col=0)\n",
    "df_rooftop.index = pd.to_datetime(df_rooftop.index)\n",
    "\n",
    "# load hydro inflow in Austria\n",
    "df_hydro = pd.read_csv('data/Hydro_Inflow_AT.csv')  # assumes columns: Year, Month, Day, Inflow [GWh]\n",
    "df_hydro['date'] = pd.to_datetime(df_hydro[['Year', 'Month', 'Day']])\n",
    "df_hydro.set_index('date', inplace=True)\n",
    "\n",
    "# Convert from GWh/day → MW (spread evenly across 24 hours)\n",
    "df_hydro['inflow_MW'] = df_hydro['Inflow [GWh]'] * 1000 / 24\n",
    "## Align to model snapshots\n",
    "df_hydro_hourly = df_hydro['inflow_MW'].resample('H').ffill()\n",
    "\n",
    "\n",
    "hours_in_2015 = pd.date_range('2015-01-01 00:00Z',\n",
    "                              '2015-12-31 23:00Z',\n",
    "                              freq='h')\n",
    "\n",
    "df_hydro_inflow = pd.DataFrame(index=hours_in_2015)\n",
    "df_hydro_inflow['inflow_MW'] = df_hydro_hourly.loc[df_hydro_hourly.index.year==2011].values"
   ]
  },
  {
   "cell_type": "code",
   "execution_count": 31,
   "id": "607723d1",
   "metadata": {},
   "outputs": [],
   "source": [
    "colors = {\"onshore\": \"blue\", \"offshore\": \"darkblue\", \"pv\": \"orange\", \n",
    "          \"rooftop\": \"yellow\", \"coal\": \"brown\", \"OCGT\": \"grey\"}"
   ]
  },
  {
   "cell_type": "markdown",
   "id": "49b149d5",
   "metadata": {},
   "source": [
    "# __F.__ Make Network"
   ]
  },
  {
   "cell_type": "code",
   "execution_count": 32,
   "id": "d0b50aca",
   "metadata": {},
   "outputs": [],
   "source": [
    "def annuity(n,r):\n",
    "    \"\"\" Calculate the annuity factor for an asset with lifetime n years and\n",
    "    discount rate  r \"\"\"\n",
    "\n",
    "    if r > 0:\n",
    "        return r/(1. - 1./(1.+r)**n)\n",
    "    else:\n",
    "        return 1/n"
   ]
  },
  {
   "cell_type": "code",
   "execution_count": 33,
   "id": "074ab7cc",
   "metadata": {},
   "outputs": [],
   "source": [
    "n = pypsa.Network()\n",
    "n.set_snapshots(hours_in_2015.values)\n",
    "\n",
    "# add the different carriers, only gas emits CO2\n",
    "n.add(\"Carrier\", \"gas\", co2_emissions=0.19) # in t_CO2/MWh_th\n",
    "n.add(\"Carrier\", \"coal\", co2_emissions=0.9) # in t_CO2/MWh_th\n",
    "n.add(\"Carrier\", \"onshorewind\")\n",
    "n.add(\"Carrier\", \"offshorewind\")\n",
    "n.add(\"Carrier\", \"solarPV\")\n",
    "n.add(\"Carrier\", \"rooftopPV\")\n",
    "n.add(\"Carrier\", \"hydro\")\n",
    "\n",
    "countries = ['DEU', 'DNK', 'AUT']\n",
    "coordinates = {'DNK': (55.67, 12.57), # Copenhagen\n",
    "                'DEU': (52.37, 9.73), # Hannover\n",
    "                'AUT': (47.57, 14.23)} # Liezen\n",
    "\n",
    "# add electricity bus\n",
    "for country in countries:\n",
    "    n.add(\"Bus\",\n",
    "                country,\n",
    "                y = coordinates[country][0],\n",
    "                x = coordinates[country][1],\n",
    "                carrier=\"AC\",)\n",
    "\n",
    "    # add load to the bus\n",
    "    n.add(\"Load\",\n",
    "                f\"load{country}\",\n",
    "                bus=country,\n",
    "                p_set=df_elec[country].values)\n",
    "\n",
    "\n",
    "    ''' Add renewable generators '''\n",
    "    if country != 'AUT':\n",
    "        # Add onshore wind\n",
    "        CF_wind_onshore = df_onshorewind[country][[hour.strftime(\"%Y-%m-%dT%H:%M:%SZ\") for hour in n.snapshots]]\n",
    "        lifetime = 30 # years\n",
    "        discount_rate = 0.07 # 7%\n",
    "        capex = 910000 # in €/MW\n",
    "        fopex = 0.033 # 3.3% of capex\n",
    "        capital_cost_onshorewind = annuity(lifetime,discount_rate)*capex*(1+fopex) # in €/MW\n",
    "        n.add(\"Generator\",\n",
    "                    f\"onshorewind{country}\",\n",
    "                    bus=country,\n",
    "                    p_nom_extendable=True,\n",
    "                    carrier=\"onshorewind\",\n",
    "                    #p_nom_max=1000, # maximum capacity can be limited due to environmental constraints\n",
    "                    capital_cost = capital_cost_onshorewind,\n",
    "                    marginal_cost = 0,\n",
    "                    p_max_pu = CF_wind_onshore.values)\n",
    "\n",
    "        # Add offshore wind\n",
    "        CF_wind_offshore = df_offshorewind[country][[hour.strftime(\"%Y-%m-%dT%H:%M:%SZ\") for hour in n.snapshots]]\n",
    "        lifetime = 25 # years\n",
    "        discount_rate = 0.07 # 7%\n",
    "        capex = 2506000 # in €/MW\n",
    "        fopex = 0.03 # 3% of capex\n",
    "        capital_cost_offshorewind = annuity(lifetime,discount_rate)*capex*(1+fopex) # in €/MW\n",
    "        n.add(\"Generator\",\n",
    "                    f\"offshorewind{country}\",\n",
    "                    bus=country,\n",
    "                    p_nom_extendable=True,\n",
    "                    carrier=\"offshorewind\",\n",
    "                    #p_nom_max=1000, # maximum capacity can be limited due to environmental constraints\n",
    "                    capital_cost = capital_cost_offshorewind,\n",
    "                    marginal_cost = 0,\n",
    "                    p_max_pu = CF_wind_offshore.values)\n",
    "\n",
    "    # Add large scale solar\n",
    "    CF_solar = df_pv[country][[hour.strftime(\"%Y-%m-%dT%H:%M:%SZ\") for hour in n.snapshots]]\n",
    "    lifetime = 25 # years\n",
    "    discount_rate = 0.07 # 7%\n",
    "    capex = 425000 # in €/MW\n",
    "    fopex = 0.03 # 3% of capex\n",
    "    capital_cost_pv = annuity(lifetime,discount_rate)*capex*(1+fopex) # in €/MW\n",
    "    n.add(\"Generator\",\n",
    "                f\"PV{country}\",\n",
    "                bus=country,\n",
    "                p_nom_extendable=True,\n",
    "                carrier=\"solarPV\",\n",
    "                #p_nom_max=1000, # maximum capacity can be limited due to environmental constraints\n",
    "                capital_cost = capital_cost_pv,\n",
    "                marginal_cost = 0,\n",
    "                p_max_pu = CF_solar.values)\n",
    "\n",
    "\n",
    "\n",
    "    ''' Add non-renewables generators '''\n",
    "    # add OCGT (Open Cycle Gas Turbine) generator\n",
    "    lifetime = 25 # years\n",
    "    discount_rate = 0.07 # 7%\n",
    "    capex = 560000 # in €/MW\n",
    "    fopex = 0.033 # 3.3% of capex\n",
    "    capital_cost_OCGT = annuity(lifetime,discount_rate)*capex*(1+fopex) # in €/MW\n",
    "    fuel_cost = 21.6 # in €/MWh_th\n",
    "    efficiency = 0.39 # MWh_elec/MWh_th\n",
    "    marginal_cost_OCGT = fuel_cost/efficiency # in €/MWh_el\n",
    "    n.add(\"Generator\",\n",
    "                f\"OCGT{country}\",\n",
    "                bus=country,\n",
    "                p_nom_extendable=True,\n",
    "                carrier=\"gas\",\n",
    "                #p_nom_max=1000,\n",
    "                capital_cost = capital_cost_OCGT,\n",
    "                efficiency = efficiency,\n",
    "                marginal_cost = marginal_cost_OCGT)\n",
    "\n",
    "    if country == 'DEU':\n",
    "        # add coal generator (without CCS) # https://atb-archive.nrel.gov/electricity/2018/index.html?t=cc\n",
    "        lifetime = 25 # years\n",
    "        discount_rate = 0.07 # 7%\n",
    "        capex = 3294000 # in €/MW\n",
    "        fopex = 0.03 # 3% of capex\n",
    "        capital_cost_coal = annuity(lifetime,discount_rate)*capex*(1+fopex) # in €/MW\n",
    "        fuel_cost = 4 # in €/MWh_th \n",
    "        efficiency = 0.36 # MWh_elec/MWh_th\n",
    "        marginal_cost_coal = fuel_cost/efficiency # in €/MWh_el\n",
    "        n.add(\"Generator\",\n",
    "                    f\"coal{country}\",\n",
    "                    bus=country,\n",
    "                    p_nom_extendable=True,\n",
    "                    carrier=\"coal\",\n",
    "                    #p_nom_max=1000,\n",
    "                    capital_cost = capital_cost_coal,\n",
    "                    efficiency = efficiency,\n",
    "                    marginal_cost = marginal_cost_coal)\n",
    "        \n",
    "    if country == 'AUT':\n",
    "        lifetime = 80 # years\n",
    "        discount_rate = 0.07 # 7%\n",
    "        capex = 300000 # in €/MW\n",
    "        fopex = 0.02 # 2% of capex\n",
    "        capital_cost_hydro = annuity(lifetime,discount_rate)*capex*(1+fopex) # in €/MW\n",
    "        marginal_cost_hydro = 0\n",
    "\n",
    "        n.add(\"StorageUnit\",\n",
    "            name=f\"hydro{country}\",\n",
    "            bus=country,\n",
    "            p_nom_extendable=True,\n",
    "            capital_cost=capital_cost_hydro,\n",
    "            marginal_cost=0,\n",
    "            efficiency_store=1.0,       # inflow enters fully\n",
    "            efficiency_dispatch=0.9,    # turbine efficiency\n",
    "            max_hours=2000,             # max energy storage in MWh per MW of power capacity\n",
    "            inflow=df_hydro_inflow.values.flatten(),  # energy inflow time series in MW\n",
    "            carrier=\"hydro\")\n",
    "\n",
    "\n",
    "    # Add storage unit\n",
    "    n.add(\"StorageUnit\",\n",
    "                f\"battery{country}\",\n",
    "                bus=country,\n",
    "                p_nom_extendable=True,\n",
    "                capital_cost=12894+24678,\n",
    "                efficiency_dispatch=0.96,\n",
    "                efficiency_store=0.96,\n",
    "                max_hours=2,\n",
    "                cyclic_state_of_charge=True)\n",
    "    \n",
    "\n",
    "\n"
   ]
  },
  {
   "cell_type": "code",
   "execution_count": 34,
   "id": "35d83000",
   "metadata": {},
   "outputs": [
    {
     "data": {
      "text/plain": [
       "'\\nn.add(\\n    \"Line\",\\n    \"DNK-AUT\",\\n    bus0=\"DNK\",\\n    bus1=\"AUT\",\\n    s_nom = 300,\\n    x = 1,\\n    r = 1,\\n    #capital_cost = capital_cost_lines * distances[(\"DNK\", \"AUT\")],\\n    #s_nom_extendable = True\\n)\\n'"
      ]
     },
     "execution_count": 34,
     "metadata": {},
     "output_type": "execute_result"
    }
   ],
   "source": [
    "# Add AC lines between the countries\n",
    "distances = {\n",
    "    (\"DEU\", \"DNK\"): 406, # km\n",
    "    (\"DEU\", \"AUT\"): 622, # km\n",
    "    (\"DNK\", \"AUT\"): 909, # km\n",
    "}\n",
    "\n",
    "capital_cost_lines = 400 # in €/MW/km\n",
    "\n",
    "n.add(\n",
    "    \"Line\",\n",
    "    \"DEU-DNK\",\n",
    "    bus0=\"DEU\",\n",
    "    bus1=\"DNK\",\n",
    "    s_nom = 2500,\n",
    "    x = 1,\n",
    "    r = 1,\n",
    "    #capital_cost = capital_cost_lines * distances[(\"DEU\", \"DNK\")],\n",
    "    #s_nom_extendable = True\n",
    ")\n",
    "\n",
    "n.add(\n",
    "    \"Line\",\n",
    "    \"DEU-AUT\",\n",
    "    bus0=\"DEU\",\n",
    "    bus1=\"AUT\",\n",
    "    s_nom = 6500,\n",
    "    x = 1,\n",
    "    r = 1,\n",
    "    #capital_cost = capital_cost_lines * distances[(\"DEU\", \"AUT\")],\n",
    "    #s_nom_extendable = True\n",
    ")\n",
    "\n",
    "'''\n",
    "n.add(\n",
    "    \"Line\",\n",
    "    \"DNK-AUT\",\n",
    "    bus0=\"DNK\",\n",
    "    bus1=\"AUT\",\n",
    "    s_nom = 300,\n",
    "    x = 1,\n",
    "    r = 1,\n",
    "    #capital_cost = capital_cost_lines * distances[(\"DNK\", \"AUT\")],\n",
    "    #s_nom_extendable = True\n",
    ")\n",
    "'''"
   ]
  },
  {
   "cell_type": "code",
   "execution_count": 35,
   "id": "c9419297",
   "metadata": {},
   "outputs": [
    {
     "data": {
      "text/html": [
       "<div>\n",
       "<style scoped>\n",
       "    .dataframe tbody tr th:only-of-type {\n",
       "        vertical-align: middle;\n",
       "    }\n",
       "\n",
       "    .dataframe tbody tr th {\n",
       "        vertical-align: top;\n",
       "    }\n",
       "\n",
       "    .dataframe thead th {\n",
       "        text-align: right;\n",
       "    }\n",
       "</style>\n",
       "<table border=\"1\" class=\"dataframe\">\n",
       "  <thead>\n",
       "    <tr style=\"text-align: right;\">\n",
       "      <th></th>\n",
       "      <th>bus0</th>\n",
       "      <th>bus1</th>\n",
       "      <th>type</th>\n",
       "      <th>x</th>\n",
       "      <th>r</th>\n",
       "      <th>g</th>\n",
       "      <th>b</th>\n",
       "      <th>s_nom</th>\n",
       "      <th>s_nom_mod</th>\n",
       "      <th>s_nom_extendable</th>\n",
       "      <th>...</th>\n",
       "      <th>v_ang_min</th>\n",
       "      <th>v_ang_max</th>\n",
       "      <th>sub_network</th>\n",
       "      <th>x_pu</th>\n",
       "      <th>r_pu</th>\n",
       "      <th>g_pu</th>\n",
       "      <th>b_pu</th>\n",
       "      <th>x_pu_eff</th>\n",
       "      <th>r_pu_eff</th>\n",
       "      <th>s_nom_opt</th>\n",
       "    </tr>\n",
       "    <tr>\n",
       "      <th>Line</th>\n",
       "      <th></th>\n",
       "      <th></th>\n",
       "      <th></th>\n",
       "      <th></th>\n",
       "      <th></th>\n",
       "      <th></th>\n",
       "      <th></th>\n",
       "      <th></th>\n",
       "      <th></th>\n",
       "      <th></th>\n",
       "      <th></th>\n",
       "      <th></th>\n",
       "      <th></th>\n",
       "      <th></th>\n",
       "      <th></th>\n",
       "      <th></th>\n",
       "      <th></th>\n",
       "      <th></th>\n",
       "      <th></th>\n",
       "      <th></th>\n",
       "      <th></th>\n",
       "    </tr>\n",
       "  </thead>\n",
       "  <tbody>\n",
       "    <tr>\n",
       "      <th>DEU-DNK</th>\n",
       "      <td>DEU</td>\n",
       "      <td>DNK</td>\n",
       "      <td></td>\n",
       "      <td>1.0</td>\n",
       "      <td>1.0</td>\n",
       "      <td>0.0</td>\n",
       "      <td>0.0</td>\n",
       "      <td>2500.0</td>\n",
       "      <td>0.0</td>\n",
       "      <td>False</td>\n",
       "      <td>...</td>\n",
       "      <td>-inf</td>\n",
       "      <td>inf</td>\n",
       "      <td></td>\n",
       "      <td>0.0</td>\n",
       "      <td>0.0</td>\n",
       "      <td>0.0</td>\n",
       "      <td>0.0</td>\n",
       "      <td>0.0</td>\n",
       "      <td>0.0</td>\n",
       "      <td>0.0</td>\n",
       "    </tr>\n",
       "    <tr>\n",
       "      <th>DEU-AUT</th>\n",
       "      <td>DEU</td>\n",
       "      <td>AUT</td>\n",
       "      <td></td>\n",
       "      <td>1.0</td>\n",
       "      <td>1.0</td>\n",
       "      <td>0.0</td>\n",
       "      <td>0.0</td>\n",
       "      <td>6500.0</td>\n",
       "      <td>0.0</td>\n",
       "      <td>False</td>\n",
       "      <td>...</td>\n",
       "      <td>-inf</td>\n",
       "      <td>inf</td>\n",
       "      <td></td>\n",
       "      <td>0.0</td>\n",
       "      <td>0.0</td>\n",
       "      <td>0.0</td>\n",
       "      <td>0.0</td>\n",
       "      <td>0.0</td>\n",
       "      <td>0.0</td>\n",
       "      <td>0.0</td>\n",
       "    </tr>\n",
       "  </tbody>\n",
       "</table>\n",
       "<p>2 rows × 31 columns</p>\n",
       "</div>"
      ],
      "text/plain": [
       "        bus0 bus1 type    x    r    g    b   s_nom  s_nom_mod  \\\n",
       "Line                                                            \n",
       "DEU-DNK  DEU  DNK       1.0  1.0  0.0  0.0  2500.0        0.0   \n",
       "DEU-AUT  DEU  AUT       1.0  1.0  0.0  0.0  6500.0        0.0   \n",
       "\n",
       "         s_nom_extendable  ...  v_ang_min  v_ang_max  sub_network  x_pu  r_pu  \\\n",
       "Line                       ...                                                  \n",
       "DEU-DNK             False  ...       -inf        inf                0.0   0.0   \n",
       "DEU-AUT             False  ...       -inf        inf                0.0   0.0   \n",
       "\n",
       "         g_pu  b_pu  x_pu_eff r_pu_eff  s_nom_opt  \n",
       "Line                                               \n",
       "DEU-DNK   0.0   0.0       0.0      0.0        0.0  \n",
       "DEU-AUT   0.0   0.0       0.0      0.0        0.0  \n",
       "\n",
       "[2 rows x 31 columns]"
      ]
     },
     "execution_count": 35,
     "metadata": {},
     "output_type": "execute_result"
    }
   ],
   "source": [
    "n.lines"
   ]
  },
  {
   "cell_type": "code",
   "execution_count": 36,
   "id": "048197a8",
   "metadata": {},
   "outputs": [
    {
     "name": "stderr",
     "output_type": "stream",
     "text": [
      "c:\\Users\\Tuferome\\anaconda3\\envs\\integrated-energy-grids\\Lib\\site-packages\\cartopy\\mpl\\feature_artist.py:144: UserWarning: facecolor will have no effect as it has been defined as \"never\".\n",
      "  warnings.warn('facecolor will have no effect as it has been '\n"
     ]
    },
    {
     "data": {
      "text/plain": [
       "(<matplotlib.collections.PatchCollection at 0x20b6ec5a600>,\n",
       " <matplotlib.collections.LineCollection at 0x20b22383b90>)"
      ]
     },
     "execution_count": 36,
     "metadata": {},
     "output_type": "execute_result"
    },
    {
     "data": {
      "image/png": "[encoded data removed]",
      "text/plain": [
       "<Figure size 640x480 with 1 Axes>"
      ]
     },
     "metadata": {},
     "output_type": "display_data"
    }
   ],
   "source": [
    "n.plot(bus_sizes=1, margin=1)"
   ]
  },
  {
   "cell_type": "code",
   "execution_count": 37,
   "id": "30c0712d",
   "metadata": {},
   "outputs": [
    {
     "data": {
      "text/plain": [
       "Index(['CO2Limit'], dtype='object')"
      ]
     },
     "execution_count": 37,
     "metadata": {},
     "output_type": "execute_result"
    }
   ],
   "source": [
    "\n",
    "# Co2 Cap\n",
    "CO2_limit = (152 + 4.9 + 6.0) #MtCO2 just electricity\n",
    "\n",
    "n.add(\n",
    "    \"GlobalConstraint\",\n",
    "    \"CO2Limit\",\n",
    "    carrier_attribute=\"co2_emissions\",\n",
    "    sense=\"<=\",\n",
    "    constant= CO2_limit * 1000000, #152MtCO2 for GE + 6.0 for DK (https://www.nowtricity.com/country/denmark/) + 4.9 for AT (https://www.nowtricity.com/country/austria)\n",
    ")\n"
   ]
  },
  {
   "cell_type": "code",
   "execution_count": 38,
   "id": "8bbf6ec4",
   "metadata": {},
   "outputs": [
    {
     "name": "stderr",
     "output_type": "stream",
     "text": [
      "WARNING:pypsa.consistency:The following buses have carriers which are not defined:\n",
      "Index(['DEU', 'DNK', 'AUT'], dtype='object', name='Bus')\n",
      "WARNING:pypsa.consistency:The following lines have carriers which are not defined:\n",
      "Index(['DEU-DNK', 'DEU-AUT'], dtype='object', name='Line')\n",
      "WARNING:pypsa.consistency:The following buses have carriers which are not defined:\n",
      "Index(['DEU', 'DNK', 'AUT'], dtype='object', name='Bus')\n",
      "WARNING:pypsa.consistency:The following lines have carriers which are not defined:\n",
      "Index(['DEU-DNK', 'DEU-AUT'], dtype='object', name='Line')\n",
      "INFO:linopy.model: Solve problem using Gurobi solver\n",
      "INFO:linopy.io:Writing objective.\n",
      "Writing constraints.: 100%|\u001b[38;2;128;191;255m██████████\u001b[0m| 17/17 [00:02<00:00,  6.27it/s]\n",
      "Writing continuous variables.: 100%|\u001b[38;2;128;191;255m██████████\u001b[0m| 8/8 [00:00<00:00, 18.96it/s]\n",
      "INFO:linopy.io: Writing time: 3.2s\n"
     ]
    },
    {
     "name": "stdout",
     "output_type": "stream",
     "text": [
      "Set parameter Username\n"
     ]
    },
    {
     "name": "stderr",
     "output_type": "stream",
     "text": [
      "INFO:gurobipy:Set parameter Username\n"
     ]
    },
    {
     "name": "stdout",
     "output_type": "stream",
     "text": [
      "Set parameter LicenseID to value 2620854\n"
     ]
    },
    {
     "name": "stderr",
     "output_type": "stream",
     "text": [
      "INFO:gurobipy:Set parameter LicenseID to value 2620854\n"
     ]
    },
    {
     "name": "stdout",
     "output_type": "stream",
     "text": [
      "Academic license - for non-commercial use only - expires 2026-02-11\n"
     ]
    },
    {
     "name": "stderr",
     "output_type": "stream",
     "text": [
      "INFO:gurobipy:Academic license - for non-commercial use only - expires 2026-02-11\n"
     ]
    },
    {
     "name": "stdout",
     "output_type": "stream",
     "text": [
      "Read LP format model from file C:\\Users\\Tuferome\\AppData\\Local\\Temp\\linopy-problem-1djk1elb.lp\n"
     ]
    },
    {
     "name": "stderr",
     "output_type": "stream",
     "text": [
      "INFO:gurobipy:Read LP format model from file C:\\Users\\Tuferome\\AppData\\Local\\Temp\\linopy-problem-1djk1elb.lp\n"
     ]
    },
    {
     "name": "stdout",
     "output_type": "stream",
     "text": [
      "Reading time = 0.84 seconds\n"
     ]
    },
    {
     "name": "stderr",
     "output_type": "stream",
     "text": [
      "INFO:gurobipy:Reading time = 0.84 seconds\n"
     ]
    },
    {
     "name": "stdout",
     "output_type": "stream",
     "text": [
      "obj: 499336 rows, 227775 columns, 1012000 nonzeros\n"
     ]
    },
    {
     "name": "stderr",
     "output_type": "stream",
     "text": [
      "INFO:gurobipy:obj: 499336 rows, 227775 columns, 1012000 nonzeros\n"
     ]
    },
    {
     "name": "stdout",
     "output_type": "stream",
     "text": [
      "Gurobi Optimizer version 12.0.1 build v12.0.1rc0 (win64 - Windows 11.0 (26100.2))\n"
     ]
    },
    {
     "name": "stderr",
     "output_type": "stream",
     "text": [
      "INFO:gurobipy:Gurobi Optimizer version 12.0.1 build v12.0.1rc0 (win64 - Windows 11.0 (26100.2))\n"
     ]
    },
    {
     "name": "stdout",
     "output_type": "stream",
     "text": [
      "\n"
     ]
    },
    {
     "name": "stderr",
     "output_type": "stream",
     "text": [
      "INFO:gurobipy:\n"
     ]
    },
    {
     "name": "stdout",
     "output_type": "stream",
     "text": [
      "CPU model: AMD Ryzen 7 7730U with Radeon Graphics, instruction set [SSE2|AVX|AVX2]\n"
     ]
    },
    {
     "name": "stderr",
     "output_type": "stream",
     "text": [
      "INFO:gurobipy:CPU model: AMD Ryzen 7 7730U with Radeon Graphics, instruction set [SSE2|AVX|AVX2]\n"
     ]
    },
    {
     "name": "stdout",
     "output_type": "stream",
     "text": [
      "Thread count: 8 physical cores, 16 logical processors, using up to 16 threads\n"
     ]
    },
    {
     "name": "stderr",
     "output_type": "stream",
     "text": [
      "INFO:gurobipy:Thread count: 8 physical cores, 16 logical processors, using up to 16 threads\n"
     ]
    },
    {
     "name": "stdout",
     "output_type": "stream",
     "text": [
      "\n"
     ]
    },
    {
     "name": "stderr",
     "output_type": "stream",
     "text": [
      "INFO:gurobipy:\n"
     ]
    },
    {
     "name": "stdout",
     "output_type": "stream",
     "text": [
      "Optimize a model with 499336 rows, 227775 columns and 1012000 nonzeros\n"
     ]
    },
    {
     "name": "stderr",
     "output_type": "stream",
     "text": [
      "INFO:gurobipy:Optimize a model with 499336 rows, 227775 columns and 1012000 nonzeros\n"
     ]
    },
    {
     "name": "stdout",
     "output_type": "stream",
     "text": [
      "Model fingerprint: 0xa45e9cb0\n"
     ]
    },
    {
     "name": "stderr",
     "output_type": "stream",
     "text": [
      "INFO:gurobipy:Model fingerprint: 0xa45e9cb0\n"
     ]
    },
    {
     "name": "stdout",
     "output_type": "stream",
     "text": [
      "Coefficient statistics:\n"
     ]
    },
    {
     "name": "stderr",
     "output_type": "stream",
     "text": [
      "INFO:gurobipy:Coefficient statistics:\n"
     ]
    },
    {
     "name": "stdout",
     "output_type": "stream",
     "text": [
      "  Matrix range     [1e-03, 2e+03]\n"
     ]
    },
    {
     "name": "stderr",
     "output_type": "stream",
     "text": [
      "INFO:gurobipy:  Matrix range     [1e-03, 2e+03]\n"
     ]
    },
    {
     "name": "stdout",
     "output_type": "stream",
     "text": [
      "  Objective range  [1e+01, 3e+05]\n"
     ]
    },
    {
     "name": "stderr",
     "output_type": "stream",
     "text": [
      "INFO:gurobipy:  Objective range  [1e+01, 3e+05]\n"
     ]
    },
    {
     "name": "stdout",
     "output_type": "stream",
     "text": [
      "  Bounds range     [1e+03, 6e+03]\n"
     ]
    },
    {
     "name": "stderr",
     "output_type": "stream",
     "text": [
      "INFO:gurobipy:  Bounds range     [1e+03, 6e+03]\n"
     ]
    },
    {
     "name": "stdout",
     "output_type": "stream",
     "text": [
      "  RHS range        [1e+03, 2e+08]\n"
     ]
    },
    {
     "name": "stderr",
     "output_type": "stream",
     "text": [
      "INFO:gurobipy:  RHS range        [1e+03, 2e+08]\n"
     ]
    },
    {
     "name": "stdout",
     "output_type": "stream",
     "text": [
      "Presolve removed 249469 rows and 12934 columns\n"
     ]
    },
    {
     "name": "stderr",
     "output_type": "stream",
     "text": [
      "INFO:gurobipy:Presolve removed 249469 rows and 12934 columns\n"
     ]
    },
    {
     "name": "stdout",
     "output_type": "stream",
     "text": [
      "Presolve time: 0.75s\n"
     ]
    },
    {
     "name": "stderr",
     "output_type": "stream",
     "text": [
      "INFO:gurobipy:Presolve time: 0.75s\n"
     ]
    },
    {
     "name": "stdout",
     "output_type": "stream",
     "text": [
      "Presolved: 249867 rows, 214841 columns, 749597 nonzeros\n"
     ]
    },
    {
     "name": "stderr",
     "output_type": "stream",
     "text": [
      "INFO:gurobipy:Presolved: 249867 rows, 214841 columns, 749597 nonzeros\n"
     ]
    },
    {
     "name": "stdout",
     "output_type": "stream",
     "text": [
      "\n"
     ]
    },
    {
     "name": "stderr",
     "output_type": "stream",
     "text": [
      "INFO:gurobipy:\n"
     ]
    },
    {
     "name": "stdout",
     "output_type": "stream",
     "text": [
      "Concurrent LP optimizer: primal simplex, dual simplex, and barrier\n"
     ]
    },
    {
     "name": "stderr",
     "output_type": "stream",
     "text": [
      "INFO:gurobipy:Concurrent LP optimizer: primal simplex, dual simplex, and barrier\n"
     ]
    },
    {
     "name": "stdout",
     "output_type": "stream",
     "text": [
      "Showing barrier log only...\n"
     ]
    },
    {
     "name": "stderr",
     "output_type": "stream",
     "text": [
      "INFO:gurobipy:Showing barrier log only...\n"
     ]
    },
    {
     "name": "stdout",
     "output_type": "stream",
     "text": [
      "\n"
     ]
    },
    {
     "name": "stderr",
     "output_type": "stream",
     "text": [
      "INFO:gurobipy:\n"
     ]
    },
    {
     "name": "stdout",
     "output_type": "stream",
     "text": [
      "Ordering time: 0.18s\n"
     ]
    },
    {
     "name": "stderr",
     "output_type": "stream",
     "text": [
      "INFO:gurobipy:Ordering time: 0.18s\n"
     ]
    },
    {
     "name": "stdout",
     "output_type": "stream",
     "text": [
      "\n"
     ]
    },
    {
     "name": "stderr",
     "output_type": "stream",
     "text": [
      "INFO:gurobipy:\n"
     ]
    },
    {
     "name": "stdout",
     "output_type": "stream",
     "text": [
      "Barrier statistics:\n"
     ]
    },
    {
     "name": "stderr",
     "output_type": "stream",
     "text": [
      "INFO:gurobipy:Barrier statistics:\n"
     ]
    },
    {
     "name": "stdout",
     "output_type": "stream",
     "text": [
      " Dense cols : 15\n"
     ]
    },
    {
     "name": "stderr",
     "output_type": "stream",
     "text": [
      "INFO:gurobipy: Dense cols : 15\n"
     ]
    },
    {
     "name": "stdout",
     "output_type": "stream",
     "text": [
      " AA' NZ     : 6.311e+05\n"
     ]
    },
    {
     "name": "stderr",
     "output_type": "stream",
     "text": [
      "INFO:gurobipy: AA' NZ     : 6.311e+05\n"
     ]
    },
    {
     "name": "stdout",
     "output_type": "stream",
     "text": [
      " Factor NZ  : 4.485e+06 (roughly 220 MB of memory)\n"
     ]
    },
    {
     "name": "stderr",
     "output_type": "stream",
     "text": [
      "INFO:gurobipy: Factor NZ  : 4.485e+06 (roughly 220 MB of memory)\n"
     ]
    },
    {
     "name": "stdout",
     "output_type": "stream",
     "text": [
      " Factor Ops : 9.751e+07 (less than 1 second per iteration)\n"
     ]
    },
    {
     "name": "stderr",
     "output_type": "stream",
     "text": [
      "INFO:gurobipy: Factor Ops : 9.751e+07 (less than 1 second per iteration)\n"
     ]
    },
    {
     "name": "stdout",
     "output_type": "stream",
     "text": [
      " Threads    : 1\n"
     ]
    },
    {
     "name": "stderr",
     "output_type": "stream",
     "text": [
      "INFO:gurobipy: Threads    : 1\n"
     ]
    },
    {
     "name": "stdout",
     "output_type": "stream",
     "text": [
      "\n"
     ]
    },
    {
     "name": "stderr",
     "output_type": "stream",
     "text": [
      "INFO:gurobipy:\n"
     ]
    },
    {
     "name": "stdout",
     "output_type": "stream",
     "text": [
      "                  Objective                Residual\n"
     ]
    },
    {
     "name": "stderr",
     "output_type": "stream",
     "text": [
      "INFO:gurobipy:                  Objective                Residual\n"
     ]
    },
    {
     "name": "stdout",
     "output_type": "stream",
     "text": [
      "Iter       Primal          Dual         Primal    Dual     Compl     Time\n"
     ]
    },
    {
     "name": "stderr",
     "output_type": "stream",
     "text": [
      "INFO:gurobipy:Iter       Primal          Dual         Primal    Dual     Compl     Time\n"
     ]
    },
    {
     "name": "stdout",
     "output_type": "stream",
     "text": [
      "   0   1.05020884e+13 -4.54097143e+11  5.10e+10 0.00e+00  4.60e+09     2s\n"
     ]
    },
    {
     "name": "stderr",
     "output_type": "stream",
     "text": [
      "INFO:gurobipy:   0   1.05020884e+13 -4.54097143e+11  5.10e+10 0.00e+00  4.60e+09     2s\n"
     ]
    },
    {
     "name": "stdout",
     "output_type": "stream",
     "text": [
      "   1   1.36058692e+13 -1.55555053e+12  9.77e+09 3.20e+02  1.05e+09     2s\n"
     ]
    },
    {
     "name": "stderr",
     "output_type": "stream",
     "text": [
      "INFO:gurobipy:   1   1.36058692e+13 -1.55555053e+12  9.77e+09 3.20e+02  1.05e+09     2s\n"
     ]
    },
    {
     "name": "stdout",
     "output_type": "stream",
     "text": [
      "   2   1.10062055e+13 -1.55782459e+12  1.31e+09 6.89e+01  2.26e+08     2s\n"
     ]
    },
    {
     "name": "stderr",
     "output_type": "stream",
     "text": [
      "INFO:gurobipy:   2   1.10062055e+13 -1.55782459e+12  1.31e+09 6.89e+01  2.26e+08     2s\n"
     ]
    },
    {
     "name": "stdout",
     "output_type": "stream",
     "text": [
      "   3   4.47210853e+12 -8.74253439e+11  1.11e+08 8.32e+00  3.38e+07     3s\n"
     ]
    },
    {
     "name": "stderr",
     "output_type": "stream",
     "text": [
      "INFO:gurobipy:   3   4.47210853e+12 -8.74253439e+11  1.11e+08 8.32e+00  3.38e+07     3s\n"
     ]
    },
    {
     "name": "stdout",
     "output_type": "stream",
     "text": [
      "   4   2.07321038e+12 -2.91054862e+11  2.84e+07 1.18e+00  8.01e+06     3s\n"
     ]
    },
    {
     "name": "stderr",
     "output_type": "stream",
     "text": [
      "INFO:gurobipy:   4   2.07321038e+12 -2.91054862e+11  2.84e+07 1.18e+00  8.01e+06     3s\n"
     ]
    },
    {
     "name": "stdout",
     "output_type": "stream",
     "text": [
      "   5   8.31650308e+11 -6.34010708e+10  7.54e+06 1.42e-01  2.36e+06     4s\n"
     ]
    },
    {
     "name": "stderr",
     "output_type": "stream",
     "text": [
      "INFO:gurobipy:   5   8.31650308e+11 -6.34010708e+10  7.54e+06 1.42e-01  2.36e+06     4s\n"
     ]
    },
    {
     "name": "stdout",
     "output_type": "stream",
     "text": [
      "   6   2.56411368e+11 -1.36310689e+10  1.71e+06 3.54e-02  6.68e+05     4s\n"
     ]
    },
    {
     "name": "stderr",
     "output_type": "stream",
     "text": [
      "INFO:gurobipy:   6   2.56411368e+11 -1.36310689e+10  1.71e+06 3.54e-02  6.68e+05     4s\n"
     ]
    },
    {
     "name": "stdout",
     "output_type": "stream",
     "text": [
      "   7   1.33270299e+11  2.61250494e+09  7.32e+05 1.68e-02  3.16e+05     4s\n"
     ]
    },
    {
     "name": "stderr",
     "output_type": "stream",
     "text": [
      "INFO:gurobipy:   7   1.33270299e+11  2.61250494e+09  7.32e+05 1.68e-02  3.16e+05     4s\n"
     ]
    },
    {
     "name": "stdout",
     "output_type": "stream",
     "text": [
      "   8   9.07978950e+10  1.12293919e+10  4.12e+05 8.99e-03  1.90e+05     5s\n"
     ]
    },
    {
     "name": "stderr",
     "output_type": "stream",
     "text": [
      "INFO:gurobipy:   8   9.07978950e+10  1.12293919e+10  4.12e+05 8.99e-03  1.90e+05     5s\n"
     ]
    },
    {
     "name": "stdout",
     "output_type": "stream",
     "text": [
      "   9   6.84191456e+10  1.59629983e+10  2.64e+05 5.49e-03  1.25e+05     5s\n"
     ]
    },
    {
     "name": "stderr",
     "output_type": "stream",
     "text": [
      "INFO:gurobipy:   9   6.84191456e+10  1.59629983e+10  2.64e+05 5.49e-03  1.25e+05     5s\n"
     ]
    },
    {
     "name": "stdout",
     "output_type": "stream",
     "text": [
      "  10   5.53711728e+10  1.99287925e+10  1.79e+05 2.92e-03  8.37e+04     5s\n"
     ]
    },
    {
     "name": "stderr",
     "output_type": "stream",
     "text": [
      "INFO:gurobipy:  10   5.53711728e+10  1.99287925e+10  1.79e+05 2.92e-03  8.37e+04     5s\n"
     ]
    },
    {
     "name": "stdout",
     "output_type": "stream",
     "text": [
      "  11   4.85372771e+10  2.25328865e+10  1.33e+05 1.52e-03  6.12e+04     6s\n"
     ]
    },
    {
     "name": "stderr",
     "output_type": "stream",
     "text": [
      "INFO:gurobipy:  11   4.85372771e+10  2.25328865e+10  1.33e+05 1.52e-03  6.12e+04     6s\n"
     ]
    },
    {
     "name": "stdout",
     "output_type": "stream",
     "text": [
      "  12   4.18632912e+10  2.47658059e+10  8.65e+04 5.90e-04  4.01e+04     6s\n"
     ]
    },
    {
     "name": "stderr",
     "output_type": "stream",
     "text": [
      "INFO:gurobipy:  12   4.18632912e+10  2.47658059e+10  8.65e+04 5.90e-04  4.01e+04     6s\n"
     ]
    },
    {
     "name": "stdout",
     "output_type": "stream",
     "text": [
      "  13   3.82876015e+10  2.61859923e+10  6.16e+04 1.90e-04  2.84e+04     7s\n"
     ]
    },
    {
     "name": "stderr",
     "output_type": "stream",
     "text": [
      "INFO:gurobipy:  13   3.82876015e+10  2.61859923e+10  6.16e+04 1.90e-04  2.84e+04     7s\n"
     ]
    },
    {
     "name": "stdout",
     "output_type": "stream",
     "text": [
      "  14   3.55434174e+10  2.72882964e+10  4.13e+04 2.01e-09  1.93e+04     7s\n"
     ]
    },
    {
     "name": "stderr",
     "output_type": "stream",
     "text": [
      "INFO:gurobipy:  14   3.55434174e+10  2.72882964e+10  4.13e+04 2.01e-09  1.93e+04     7s\n"
     ]
    },
    {
     "name": "stdout",
     "output_type": "stream",
     "text": [
      "  15   3.52155827e+10  2.76853838e+10  3.87e+04 7.39e-10  1.76e+04     7s\n"
     ]
    },
    {
     "name": "stderr",
     "output_type": "stream",
     "text": [
      "INFO:gurobipy:  15   3.52155827e+10  2.76853838e+10  3.87e+04 7.39e-10  1.76e+04     7s\n"
     ]
    },
    {
     "name": "stdout",
     "output_type": "stream",
     "text": [
      "  16   3.49319156e+10  2.82063524e+10  3.66e+04 1.84e-10  1.57e+04     8s\n"
     ]
    },
    {
     "name": "stderr",
     "output_type": "stream",
     "text": [
      "INFO:gurobipy:  16   3.49319156e+10  2.82063524e+10  3.66e+04 1.84e-10  1.57e+04     8s\n"
     ]
    },
    {
     "name": "stdout",
     "output_type": "stream",
     "text": [
      "  17   3.35686172e+10  2.84880479e+10  2.66e+04 5.00e-10  1.19e+04     8s\n"
     ]
    },
    {
     "name": "stderr",
     "output_type": "stream",
     "text": [
      "INFO:gurobipy:  17   3.35686172e+10  2.84880479e+10  2.66e+04 5.00e-10  1.19e+04     8s\n"
     ]
    },
    {
     "name": "stdout",
     "output_type": "stream",
     "text": [
      "  18   3.28142061e+10  2.85214761e+10  2.09e+04 1.48e-09  1.00e+04     8s\n"
     ]
    },
    {
     "name": "stderr",
     "output_type": "stream",
     "text": [
      "INFO:gurobipy:  18   3.28142061e+10  2.85214761e+10  2.09e+04 1.48e-09  1.00e+04     8s\n"
     ]
    },
    {
     "name": "stdout",
     "output_type": "stream",
     "text": [
      "  19   3.25862698e+10  2.86465418e+10  1.92e+04 5.96e-10  9.22e+03     9s\n"
     ]
    },
    {
     "name": "stderr",
     "output_type": "stream",
     "text": [
      "INFO:gurobipy:  19   3.25862698e+10  2.86465418e+10  1.92e+04 5.96e-10  9.22e+03     9s\n"
     ]
    },
    {
     "name": "stdout",
     "output_type": "stream",
     "text": [
      "  20   3.23981544e+10  2.88562401e+10  1.79e+04 3.81e-10  8.28e+03     9s\n"
     ]
    },
    {
     "name": "stderr",
     "output_type": "stream",
     "text": [
      "INFO:gurobipy:  20   3.23981544e+10  2.88562401e+10  1.79e+04 3.81e-10  8.28e+03     9s\n"
     ]
    },
    {
     "name": "stdout",
     "output_type": "stream",
     "text": [
      "  21   3.21449813e+10  2.90098870e+10  1.61e+04 1.12e-09  7.33e+03    10s\n"
     ]
    },
    {
     "name": "stderr",
     "output_type": "stream",
     "text": [
      "INFO:gurobipy:  21   3.21449813e+10  2.90098870e+10  1.61e+04 1.12e-09  7.33e+03    10s\n"
     ]
    },
    {
     "name": "stdout",
     "output_type": "stream",
     "text": [
      "  22   3.20405548e+10  2.90992013e+10  1.52e+04 5.44e-10  6.88e+03    10s\n"
     ]
    },
    {
     "name": "stderr",
     "output_type": "stream",
     "text": [
      "INFO:gurobipy:  22   3.20405548e+10  2.90992013e+10  1.52e+04 5.44e-10  6.88e+03    10s\n"
     ]
    },
    {
     "name": "stdout",
     "output_type": "stream",
     "text": [
      "  23   3.18398890e+10  2.92898752e+10  1.36e+04 7.35e-10  5.96e+03    10s\n"
     ]
    },
    {
     "name": "stderr",
     "output_type": "stream",
     "text": [
      "INFO:gurobipy:  23   3.18398890e+10  2.92898752e+10  1.36e+04 7.35e-10  5.96e+03    10s\n"
     ]
    },
    {
     "name": "stdout",
     "output_type": "stream",
     "text": [
      "  24   3.15941535e+10  2.93812128e+10  1.13e+04 9.01e-10  5.17e+03    11s\n"
     ]
    },
    {
     "name": "stderr",
     "output_type": "stream",
     "text": [
      "INFO:gurobipy:  24   3.15941535e+10  2.93812128e+10  1.13e+04 9.01e-10  5.17e+03    11s\n"
     ]
    },
    {
     "name": "stdout",
     "output_type": "stream",
     "text": [
      "  25   3.12103883e+10  2.95418411e+10  7.84e+03 6.54e-09  3.90e+03    11s\n"
     ]
    },
    {
     "name": "stderr",
     "output_type": "stream",
     "text": [
      "INFO:gurobipy:  25   3.12103883e+10  2.95418411e+10  7.84e+03 6.54e-09  3.90e+03    11s\n"
     ]
    },
    {
     "name": "stdout",
     "output_type": "stream",
     "text": [
      "  26   3.10202182e+10  2.96534220e+10  6.32e+03 1.31e-08  3.20e+03    12s\n"
     ]
    },
    {
     "name": "stderr",
     "output_type": "stream",
     "text": [
      "INFO:gurobipy:  26   3.10202182e+10  2.96534220e+10  6.32e+03 1.31e-08  3.20e+03    12s\n"
     ]
    },
    {
     "name": "stdout",
     "output_type": "stream",
     "text": [
      "  27   3.09072214e+10  2.97253856e+10  5.19e+03 1.66e-08  2.76e+03    12s\n"
     ]
    },
    {
     "name": "stderr",
     "output_type": "stream",
     "text": [
      "INFO:gurobipy:  27   3.09072214e+10  2.97253856e+10  5.19e+03 1.66e-08  2.76e+03    12s\n"
     ]
    },
    {
     "name": "stdout",
     "output_type": "stream",
     "text": [
      "  28   3.07287715e+10  2.98456939e+10  3.55e+03 2.01e-08  2.06e+03    12s\n"
     ]
    },
    {
     "name": "stderr",
     "output_type": "stream",
     "text": [
      "INFO:gurobipy:  28   3.07287715e+10  2.98456939e+10  3.55e+03 2.01e-08  2.06e+03    12s\n"
     ]
    },
    {
     "name": "stdout",
     "output_type": "stream",
     "text": [
      "  29   3.06592105e+10  2.98952592e+10  3.01e+03 1.97e-08  1.79e+03    13s\n"
     ]
    },
    {
     "name": "stderr",
     "output_type": "stream",
     "text": [
      "INFO:gurobipy:  29   3.06592105e+10  2.98952592e+10  3.01e+03 1.97e-08  1.79e+03    13s\n"
     ]
    },
    {
     "name": "stdout",
     "output_type": "stream",
     "text": [
      "  30   3.06229101e+10  2.99533316e+10  2.74e+03 1.69e-08  1.57e+03    13s\n"
     ]
    },
    {
     "name": "stderr",
     "output_type": "stream",
     "text": [
      "INFO:gurobipy:  30   3.06229101e+10  2.99533316e+10  2.74e+03 1.69e-08  1.57e+03    13s\n"
     ]
    },
    {
     "name": "stdout",
     "output_type": "stream",
     "text": [
      "  31   3.05556573e+10  2.99776144e+10  2.21e+03 1.55e-08  1.35e+03    14s\n"
     ]
    },
    {
     "name": "stderr",
     "output_type": "stream",
     "text": [
      "INFO:gurobipy:  31   3.05556573e+10  2.99776144e+10  2.21e+03 1.55e-08  1.35e+03    14s\n"
     ]
    },
    {
     "name": "stdout",
     "output_type": "stream",
     "text": [
      "  32   3.05269253e+10  3.00085279e+10  1.96e+03 1.57e-08  1.21e+03    14s\n"
     ]
    },
    {
     "name": "stderr",
     "output_type": "stream",
     "text": [
      "INFO:gurobipy:  32   3.05269253e+10  3.00085279e+10  1.96e+03 1.57e-08  1.21e+03    14s\n"
     ]
    },
    {
     "name": "stdout",
     "output_type": "stream",
     "text": [
      "  33   3.05044878e+10  3.00277209e+10  1.74e+03 1.55e-08  1.11e+03    15s\n"
     ]
    },
    {
     "name": "stderr",
     "output_type": "stream",
     "text": [
      "INFO:gurobipy:  33   3.05044878e+10  3.00277209e+10  1.74e+03 1.55e-08  1.11e+03    15s\n"
     ]
    },
    {
     "name": "stdout",
     "output_type": "stream",
     "text": [
      "  34   3.04427004e+10  3.00773769e+10  1.17e+03 1.37e-08  8.54e+02    15s\n"
     ]
    },
    {
     "name": "stderr",
     "output_type": "stream",
     "text": [
      "INFO:gurobipy:  34   3.04427004e+10  3.00773769e+10  1.17e+03 1.37e-08  8.54e+02    15s\n"
     ]
    },
    {
     "name": "stdout",
     "output_type": "stream",
     "text": [
      "  35   3.04203346e+10  3.01380086e+10  9.87e+02 1.30e-08  6.60e+02    15s\n"
     ]
    },
    {
     "name": "stderr",
     "output_type": "stream",
     "text": [
      "INFO:gurobipy:  35   3.04203346e+10  3.01380086e+10  9.87e+02 1.30e-08  6.60e+02    15s\n"
     ]
    },
    {
     "name": "stdout",
     "output_type": "stream",
     "text": [
      "  36   3.04056782e+10  3.01615413e+10  8.75e+02 1.27e-08  5.71e+02    16s\n"
     ]
    },
    {
     "name": "stderr",
     "output_type": "stream",
     "text": [
      "INFO:gurobipy:  36   3.04056782e+10  3.01615413e+10  8.75e+02 1.27e-08  5.71e+02    16s\n"
     ]
    },
    {
     "name": "stdout",
     "output_type": "stream",
     "text": [
      "  37   3.03860628e+10  3.01836065e+10  7.34e+02 1.69e-08  4.73e+02    16s\n"
     ]
    },
    {
     "name": "stderr",
     "output_type": "stream",
     "text": [
      "INFO:gurobipy:  37   3.03860628e+10  3.01836065e+10  7.34e+02 1.69e-08  4.73e+02    16s\n"
     ]
    },
    {
     "name": "stdout",
     "output_type": "stream",
     "text": [
      "  38   3.03827665e+10  3.01899761e+10  7.08e+02 1.76e-08  4.51e+02    16s\n"
     ]
    },
    {
     "name": "stderr",
     "output_type": "stream",
     "text": [
      "INFO:gurobipy:  38   3.03827665e+10  3.01899761e+10  7.08e+02 1.76e-08  4.51e+02    16s\n"
     ]
    },
    {
     "name": "stdout",
     "output_type": "stream",
     "text": [
      "  39   3.03729429e+10  3.02137129e+10  6.29e+02 2.82e-08  3.72e+02    17s\n"
     ]
    },
    {
     "name": "stderr",
     "output_type": "stream",
     "text": [
      "INFO:gurobipy:  39   3.03729429e+10  3.02137129e+10  6.29e+02 2.82e-08  3.72e+02    17s\n"
     ]
    },
    {
     "name": "stdout",
     "output_type": "stream",
     "text": [
      "  40   3.03629399e+10  3.02318616e+10  5.40e+02 1.72e-08  3.06e+02    17s\n"
     ]
    },
    {
     "name": "stderr",
     "output_type": "stream",
     "text": [
      "INFO:gurobipy:  40   3.03629399e+10  3.02318616e+10  5.40e+02 1.72e-08  3.06e+02    17s\n"
     ]
    },
    {
     "name": "stdout",
     "output_type": "stream",
     "text": [
      "  41   3.03479593e+10  3.02398446e+10  4.21e+02 1.43e-08  2.53e+02    18s\n"
     ]
    },
    {
     "name": "stderr",
     "output_type": "stream",
     "text": [
      "INFO:gurobipy:  41   3.03479593e+10  3.02398446e+10  4.21e+02 1.43e-08  2.53e+02    18s\n"
     ]
    },
    {
     "name": "stdout",
     "output_type": "stream",
     "text": [
      "  42   3.03358530e+10  3.02471927e+10  3.20e+02 1.02e-08  2.07e+02    18s\n"
     ]
    },
    {
     "name": "stderr",
     "output_type": "stream",
     "text": [
      "INFO:gurobipy:  42   3.03358530e+10  3.02471927e+10  3.20e+02 1.02e-08  2.07e+02    18s\n"
     ]
    },
    {
     "name": "stdout",
     "output_type": "stream",
     "text": [
      "  43   3.03339052e+10  3.02561392e+10  3.04e+02 1.12e-08  1.82e+02    18s\n"
     ]
    },
    {
     "name": "stderr",
     "output_type": "stream",
     "text": [
      "INFO:gurobipy:  43   3.03339052e+10  3.02561392e+10  3.04e+02 1.12e-08  1.82e+02    18s\n"
     ]
    },
    {
     "name": "stdout",
     "output_type": "stream",
     "text": [
      "  44   3.03282599e+10  3.02589228e+10  2.59e+02 1.03e-08  1.62e+02    19s\n"
     ]
    },
    {
     "name": "stderr",
     "output_type": "stream",
     "text": [
      "INFO:gurobipy:  44   3.03282599e+10  3.02589228e+10  2.59e+02 1.03e-08  1.62e+02    19s\n"
     ]
    },
    {
     "name": "stdout",
     "output_type": "stream",
     "text": [
      "  45   3.03247766e+10  3.02622615e+10  2.29e+02 8.34e-09  1.46e+02    19s\n"
     ]
    },
    {
     "name": "stderr",
     "output_type": "stream",
     "text": [
      "INFO:gurobipy:  45   3.03247766e+10  3.02622615e+10  2.29e+02 8.34e-09  1.46e+02    19s\n"
     ]
    },
    {
     "name": "stdout",
     "output_type": "stream",
     "text": [
      "  46   3.03194853e+10  3.02668670e+10  1.88e+02 2.94e-09  1.23e+02    19s\n"
     ]
    },
    {
     "name": "stderr",
     "output_type": "stream",
     "text": [
      "INFO:gurobipy:  46   3.03194853e+10  3.02668670e+10  1.88e+02 2.94e-09  1.23e+02    19s\n"
     ]
    },
    {
     "name": "stdout",
     "output_type": "stream",
     "text": [
      "  47   3.03143351e+10  3.02686881e+10  1.46e+02 3.37e-09  1.07e+02    20s\n"
     ]
    },
    {
     "name": "stderr",
     "output_type": "stream",
     "text": [
      "INFO:gurobipy:  47   3.03143351e+10  3.02686881e+10  1.46e+02 3.37e-09  1.07e+02    20s\n"
     ]
    },
    {
     "name": "stdout",
     "output_type": "stream",
     "text": [
      "  48   3.03117980e+10  3.02734310e+10  1.26e+02 3.41e-09  8.97e+01    20s\n"
     ]
    },
    {
     "name": "stderr",
     "output_type": "stream",
     "text": [
      "INFO:gurobipy:  48   3.03117980e+10  3.02734310e+10  1.26e+02 3.41e-09  8.97e+01    20s\n"
     ]
    },
    {
     "name": "stdout",
     "output_type": "stream",
     "text": [
      "  49   3.03102531e+10  3.02760147e+10  1.13e+02 3.23e-09  8.00e+01    21s\n"
     ]
    },
    {
     "name": "stderr",
     "output_type": "stream",
     "text": [
      "INFO:gurobipy:  49   3.03102531e+10  3.02760147e+10  1.13e+02 3.23e-09  8.00e+01    21s\n"
     ]
    },
    {
     "name": "stdout",
     "output_type": "stream",
     "text": [
      "  50   3.03089876e+10  3.02775640e+10  1.03e+02 8.64e-09  7.35e+01    21s\n"
     ]
    },
    {
     "name": "stderr",
     "output_type": "stream",
     "text": [
      "INFO:gurobipy:  50   3.03089876e+10  3.02775640e+10  1.03e+02 8.64e-09  7.35e+01    21s\n"
     ]
    },
    {
     "name": "stdout",
     "output_type": "stream",
     "text": [
      "  51   3.03070646e+10  3.02802209e+10  8.87e+01 1.28e-08  6.27e+01    21s\n"
     ]
    },
    {
     "name": "stderr",
     "output_type": "stream",
     "text": [
      "INFO:gurobipy:  51   3.03070646e+10  3.02802209e+10  8.87e+01 1.28e-08  6.27e+01    21s\n"
     ]
    },
    {
     "name": "stdout",
     "output_type": "stream",
     "text": [
      "  52   3.03067719e+10  3.02811311e+10  8.63e+01 1.28e-08  5.99e+01    22s\n"
     ]
    },
    {
     "name": "stderr",
     "output_type": "stream",
     "text": [
      "INFO:gurobipy:  52   3.03067719e+10  3.02811311e+10  8.63e+01 1.28e-08  5.99e+01    22s\n"
     ]
    },
    {
     "name": "stdout",
     "output_type": "stream",
     "text": [
      "  53   3.03060331e+10  3.02820146e+10  8.09e+01 1.20e-08  5.61e+01    22s\n"
     ]
    },
    {
     "name": "stderr",
     "output_type": "stream",
     "text": [
      "INFO:gurobipy:  53   3.03060331e+10  3.02820146e+10  8.09e+01 1.20e-08  5.61e+01    22s\n"
     ]
    },
    {
     "name": "stdout",
     "output_type": "stream",
     "text": [
      "  54   3.03048599e+10  3.02825782e+10  7.16e+01 1.17e-08  5.21e+01    22s\n"
     ]
    },
    {
     "name": "stderr",
     "output_type": "stream",
     "text": [
      "INFO:gurobipy:  54   3.03048599e+10  3.02825782e+10  7.16e+01 1.17e-08  5.21e+01    22s\n"
     ]
    },
    {
     "name": "stdout",
     "output_type": "stream",
     "text": [
      "  55   3.03042079e+10  3.02835049e+10  6.67e+01 1.11e-08  4.84e+01    22s\n"
     ]
    },
    {
     "name": "stderr",
     "output_type": "stream",
     "text": [
      "INFO:gurobipy:  55   3.03042079e+10  3.02835049e+10  6.67e+01 1.11e-08  4.84e+01    22s\n"
     ]
    },
    {
     "name": "stdout",
     "output_type": "stream",
     "text": [
      "  56   3.03034141e+10  3.02843671e+10  6.09e+01 1.50e-08  4.45e+01    23s\n"
     ]
    },
    {
     "name": "stderr",
     "output_type": "stream",
     "text": [
      "INFO:gurobipy:  56   3.03034141e+10  3.02843671e+10  6.09e+01 1.50e-08  4.45e+01    23s\n"
     ]
    },
    {
     "name": "stdout",
     "output_type": "stream",
     "text": [
      "  57   3.03028900e+10  3.02853236e+10  5.69e+01 2.00e-08  4.11e+01    23s\n"
     ]
    },
    {
     "name": "stderr",
     "output_type": "stream",
     "text": [
      "INFO:gurobipy:  57   3.03028900e+10  3.02853236e+10  5.69e+01 2.00e-08  4.11e+01    23s\n"
     ]
    },
    {
     "name": "stdout",
     "output_type": "stream",
     "text": [
      "  58   3.03021586e+10  3.02857475e+10  5.16e+01 1.59e-08  3.84e+01    24s\n"
     ]
    },
    {
     "name": "stderr",
     "output_type": "stream",
     "text": [
      "INFO:gurobipy:  58   3.03021586e+10  3.02857475e+10  5.16e+01 1.59e-08  3.84e+01    24s\n"
     ]
    },
    {
     "name": "stdout",
     "output_type": "stream",
     "text": [
      "  59   3.03016163e+10  3.02864815e+10  4.77e+01 1.49e-08  3.54e+01    24s\n"
     ]
    },
    {
     "name": "stderr",
     "output_type": "stream",
     "text": [
      "INFO:gurobipy:  59   3.03016163e+10  3.02864815e+10  4.77e+01 1.49e-08  3.54e+01    24s\n"
     ]
    },
    {
     "name": "stdout",
     "output_type": "stream",
     "text": [
      "  60   3.03010853e+10  3.02875228e+10  4.39e+01 2.81e-08  3.17e+01    24s\n"
     ]
    },
    {
     "name": "stderr",
     "output_type": "stream",
     "text": [
      "INFO:gurobipy:  60   3.03010853e+10  3.02875228e+10  4.39e+01 2.81e-08  3.17e+01    24s\n"
     ]
    },
    {
     "name": "stdout",
     "output_type": "stream",
     "text": [
      "  61   3.03005123e+10  3.02878034e+10  3.96e+01 3.33e-08  2.97e+01    25s\n"
     ]
    },
    {
     "name": "stderr",
     "output_type": "stream",
     "text": [
      "INFO:gurobipy:  61   3.03005123e+10  3.02878034e+10  3.96e+01 3.33e-08  2.97e+01    25s\n"
     ]
    },
    {
     "name": "stdout",
     "output_type": "stream",
     "text": [
      "  62   3.03000319e+10  3.02881892e+10  3.56e+01 3.21e-08  2.77e+01    25s\n"
     ]
    },
    {
     "name": "stderr",
     "output_type": "stream",
     "text": [
      "INFO:gurobipy:  62   3.03000319e+10  3.02881892e+10  3.56e+01 3.21e-08  2.77e+01    25s\n"
     ]
    },
    {
     "name": "stdout",
     "output_type": "stream",
     "text": [
      "  63   3.02995966e+10  3.02888955e+10  3.20e+01 3.33e-08  2.50e+01    25s\n"
     ]
    },
    {
     "name": "stderr",
     "output_type": "stream",
     "text": [
      "INFO:gurobipy:  63   3.02995966e+10  3.02888955e+10  3.20e+01 3.33e-08  2.50e+01    25s\n"
     ]
    },
    {
     "name": "stdout",
     "output_type": "stream",
     "text": [
      "  64   3.02993291e+10  3.02893132e+10  3.00e+01 3.17e-08  2.34e+01    26s\n"
     ]
    },
    {
     "name": "stderr",
     "output_type": "stream",
     "text": [
      "INFO:gurobipy:  64   3.02993291e+10  3.02893132e+10  3.00e+01 3.17e-08  2.34e+01    26s\n"
     ]
    },
    {
     "name": "stdout",
     "output_type": "stream",
     "text": [
      "  65   3.02990548e+10  3.02897202e+10  2.79e+01 3.26e-08  2.18e+01    26s\n"
     ]
    },
    {
     "name": "stderr",
     "output_type": "stream",
     "text": [
      "INFO:gurobipy:  65   3.02990548e+10  3.02897202e+10  2.79e+01 3.26e-08  2.18e+01    26s\n"
     ]
    },
    {
     "name": "stdout",
     "output_type": "stream",
     "text": [
      "  66   3.02988390e+10  3.02901990e+10  2.61e+01 3.77e-08  2.02e+01    26s\n"
     ]
    },
    {
     "name": "stderr",
     "output_type": "stream",
     "text": [
      "INFO:gurobipy:  66   3.02988390e+10  3.02901990e+10  2.61e+01 3.77e-08  2.02e+01    26s\n"
     ]
    },
    {
     "name": "stdout",
     "output_type": "stream",
     "text": [
      "  67   3.02987102e+10  3.02904078e+10  2.49e+01 4.12e-08  1.94e+01    27s\n"
     ]
    },
    {
     "name": "stderr",
     "output_type": "stream",
     "text": [
      "INFO:gurobipy:  67   3.02987102e+10  3.02904078e+10  2.49e+01 4.12e-08  1.94e+01    27s\n"
     ]
    },
    {
     "name": "stdout",
     "output_type": "stream",
     "text": [
      "  68   3.02983517e+10  3.02907986e+10  2.20e+01 3.71e-08  1.77e+01    27s\n"
     ]
    },
    {
     "name": "stderr",
     "output_type": "stream",
     "text": [
      "INFO:gurobipy:  68   3.02983517e+10  3.02907986e+10  2.20e+01 3.71e-08  1.77e+01    27s\n"
     ]
    },
    {
     "name": "stdout",
     "output_type": "stream",
     "text": [
      "  69   3.02982182e+10  3.02909631e+10  2.10e+01 4.67e-08  1.70e+01    27s\n"
     ]
    },
    {
     "name": "stderr",
     "output_type": "stream",
     "text": [
      "INFO:gurobipy:  69   3.02982182e+10  3.02909631e+10  2.10e+01 4.67e-08  1.70e+01    27s\n"
     ]
    },
    {
     "name": "stdout",
     "output_type": "stream",
     "text": [
      "  70   3.02980517e+10  3.02911705e+10  1.97e+01 5.83e-08  1.61e+01    28s\n"
     ]
    },
    {
     "name": "stderr",
     "output_type": "stream",
     "text": [
      "INFO:gurobipy:  70   3.02980517e+10  3.02911705e+10  1.97e+01 5.83e-08  1.61e+01    28s\n"
     ]
    },
    {
     "name": "stdout",
     "output_type": "stream",
     "text": [
      "  71   3.02978603e+10  3.02915632e+10  1.83e+01 6.78e-08  1.47e+01    28s\n"
     ]
    },
    {
     "name": "stderr",
     "output_type": "stream",
     "text": [
      "INFO:gurobipy:  71   3.02978603e+10  3.02915632e+10  1.83e+01 6.78e-08  1.47e+01    28s\n"
     ]
    },
    {
     "name": "stdout",
     "output_type": "stream",
     "text": [
      "  72   3.02976690e+10  3.02918854e+10  1.67e+01 7.69e-08  1.35e+01    28s\n"
     ]
    },
    {
     "name": "stderr",
     "output_type": "stream",
     "text": [
      "INFO:gurobipy:  72   3.02976690e+10  3.02918854e+10  1.67e+01 7.69e-08  1.35e+01    28s\n"
     ]
    },
    {
     "name": "stdout",
     "output_type": "stream",
     "text": [
      "  73   3.02974746e+10  3.02921093e+10  1.52e+01 1.15e-07  1.25e+01    29s\n"
     ]
    },
    {
     "name": "stderr",
     "output_type": "stream",
     "text": [
      "INFO:gurobipy:  73   3.02974746e+10  3.02921093e+10  1.52e+01 1.15e-07  1.25e+01    29s\n"
     ]
    },
    {
     "name": "stdout",
     "output_type": "stream",
     "text": [
      "  74   3.02973063e+10  3.02924157e+10  1.38e+01 1.19e-07  1.14e+01    29s\n"
     ]
    },
    {
     "name": "stderr",
     "output_type": "stream",
     "text": [
      "INFO:gurobipy:  74   3.02973063e+10  3.02924157e+10  1.38e+01 1.19e-07  1.14e+01    29s\n"
     ]
    },
    {
     "name": "stdout",
     "output_type": "stream",
     "text": [
      "  75   3.02971577e+10  3.02924659e+10  1.26e+01 1.10e-07  1.10e+01    30s\n"
     ]
    },
    {
     "name": "stderr",
     "output_type": "stream",
     "text": [
      "INFO:gurobipy:  75   3.02971577e+10  3.02924659e+10  1.26e+01 1.10e-07  1.10e+01    30s\n"
     ]
    },
    {
     "name": "stdout",
     "output_type": "stream",
     "text": [
      "  76   3.02970196e+10  3.02927061e+10  1.16e+01 1.18e-07  1.01e+01    30s\n"
     ]
    },
    {
     "name": "stderr",
     "output_type": "stream",
     "text": [
      "INFO:gurobipy:  76   3.02970196e+10  3.02927061e+10  1.16e+01 1.18e-07  1.01e+01    30s\n"
     ]
    },
    {
     "name": "stdout",
     "output_type": "stream",
     "text": [
      "  77   3.02968393e+10  3.02929473e+10  1.05e+01 1.64e-07  9.10e+00    30s\n"
     ]
    },
    {
     "name": "stderr",
     "output_type": "stream",
     "text": [
      "INFO:gurobipy:  77   3.02968393e+10  3.02929473e+10  1.05e+01 1.64e-07  9.10e+00    30s\n"
     ]
    },
    {
     "name": "stdout",
     "output_type": "stream",
     "text": [
      "  78   3.02967431e+10  3.02931187e+10  9.75e+00 1.52e-07  8.47e+00    31s\n"
     ]
    },
    {
     "name": "stderr",
     "output_type": "stream",
     "text": [
      "INFO:gurobipy:  78   3.02967431e+10  3.02931187e+10  9.75e+00 1.52e-07  8.47e+00    31s\n"
     ]
    },
    {
     "name": "stdout",
     "output_type": "stream",
     "text": [
      "  79   3.02966649e+10  3.02932493e+10  9.15e+00 1.80e-07  7.99e+00    31s\n"
     ]
    },
    {
     "name": "stderr",
     "output_type": "stream",
     "text": [
      "INFO:gurobipy:  79   3.02966649e+10  3.02932493e+10  9.15e+00 1.80e-07  7.99e+00    31s\n"
     ]
    },
    {
     "name": "stdout",
     "output_type": "stream",
     "text": [
      "  80   3.02966427e+10  3.02932936e+10  8.98e+00 1.84e-07  7.83e+00    31s\n"
     ]
    },
    {
     "name": "stderr",
     "output_type": "stream",
     "text": [
      "INFO:gurobipy:  80   3.02966427e+10  3.02932936e+10  8.98e+00 1.84e-07  7.83e+00    31s\n"
     ]
    },
    {
     "name": "stdout",
     "output_type": "stream",
     "text": [
      "  81   3.02965895e+10  3.02933855e+10  8.59e+00 1.93e-07  7.49e+00    32s\n"
     ]
    },
    {
     "name": "stderr",
     "output_type": "stream",
     "text": [
      "INFO:gurobipy:  81   3.02965895e+10  3.02933855e+10  8.59e+00 1.93e-07  7.49e+00    32s\n"
     ]
    },
    {
     "name": "stdout",
     "output_type": "stream",
     "text": [
      "  82   3.02965191e+10  3.02935054e+10  8.07e+00 2.26e-07  7.05e+00    32s\n"
     ]
    },
    {
     "name": "stderr",
     "output_type": "stream",
     "text": [
      "INFO:gurobipy:  82   3.02965191e+10  3.02935054e+10  8.07e+00 2.26e-07  7.05e+00    32s\n"
     ]
    },
    {
     "name": "stdout",
     "output_type": "stream",
     "text": [
      "  83   3.02964098e+10  3.02936062e+10  7.19e+00 2.67e-07  6.56e+00    32s\n"
     ]
    },
    {
     "name": "stderr",
     "output_type": "stream",
     "text": [
      "INFO:gurobipy:  83   3.02964098e+10  3.02936062e+10  7.19e+00 2.67e-07  6.56e+00    32s\n"
     ]
    },
    {
     "name": "stdout",
     "output_type": "stream",
     "text": [
      "  84   3.02963250e+10  3.02938244e+10  6.42e+00 1.20e-07  5.85e+00    33s\n"
     ]
    },
    {
     "name": "stderr",
     "output_type": "stream",
     "text": [
      "INFO:gurobipy:  84   3.02963250e+10  3.02938244e+10  6.42e+00 1.20e-07  5.85e+00    33s\n"
     ]
    },
    {
     "name": "stdout",
     "output_type": "stream",
     "text": [
      "  85   3.02961766e+10  3.02940258e+10  5.23e+00 1.01e-07  5.03e+00    33s\n"
     ]
    },
    {
     "name": "stderr",
     "output_type": "stream",
     "text": [
      "INFO:gurobipy:  85   3.02961766e+10  3.02940258e+10  5.23e+00 1.01e-07  5.03e+00    33s\n"
     ]
    },
    {
     "name": "stdout",
     "output_type": "stream",
     "text": [
      "  86   3.02960737e+10  3.02941410e+10  4.41e+00 1.02e-07  4.52e+00    33s\n"
     ]
    },
    {
     "name": "stderr",
     "output_type": "stream",
     "text": [
      "INFO:gurobipy:  86   3.02960737e+10  3.02941410e+10  4.41e+00 1.02e-07  4.52e+00    33s\n"
     ]
    },
    {
     "name": "stdout",
     "output_type": "stream",
     "text": [
      "  87   3.02960183e+10  3.02941894e+10  3.98e+00 1.04e-07  4.28e+00    34s\n"
     ]
    },
    {
     "name": "stderr",
     "output_type": "stream",
     "text": [
      "INFO:gurobipy:  87   3.02960183e+10  3.02941894e+10  3.98e+00 1.04e-07  4.28e+00    34s\n"
     ]
    },
    {
     "name": "stdout",
     "output_type": "stream",
     "text": [
      "  88   3.02959591e+10  3.02942430e+10  3.57e+00 1.53e-07  4.01e+00    34s\n"
     ]
    },
    {
     "name": "stderr",
     "output_type": "stream",
     "text": [
      "INFO:gurobipy:  88   3.02959591e+10  3.02942430e+10  3.57e+00 1.53e-07  4.01e+00    34s\n"
     ]
    },
    {
     "name": "stdout",
     "output_type": "stream",
     "text": [
      "  89   3.02959402e+10  3.02942756e+10  3.46e+00 2.16e-07  3.89e+00    34s\n"
     ]
    },
    {
     "name": "stderr",
     "output_type": "stream",
     "text": [
      "INFO:gurobipy:  89   3.02959402e+10  3.02942756e+10  3.46e+00 2.16e-07  3.89e+00    34s\n"
     ]
    },
    {
     "name": "stdout",
     "output_type": "stream",
     "text": [
      "  90   3.02959037e+10  3.02943609e+10  3.23e+00 1.95e-07  3.61e+00    35s\n"
     ]
    },
    {
     "name": "stderr",
     "output_type": "stream",
     "text": [
      "INFO:gurobipy:  90   3.02959037e+10  3.02943609e+10  3.23e+00 1.95e-07  3.61e+00    35s\n"
     ]
    },
    {
     "name": "stdout",
     "output_type": "stream",
     "text": [
      "  91   3.02958735e+10  3.02944403e+10  2.94e+00 1.84e-07  3.35e+00    35s\n"
     ]
    },
    {
     "name": "stderr",
     "output_type": "stream",
     "text": [
      "INFO:gurobipy:  91   3.02958735e+10  3.02944403e+10  2.94e+00 1.84e-07  3.35e+00    35s\n"
     ]
    },
    {
     "name": "stdout",
     "output_type": "stream",
     "text": [
      "  92   3.02958184e+10  3.02945451e+10  2.50e+00 1.68e-07  2.98e+00    35s\n"
     ]
    },
    {
     "name": "stderr",
     "output_type": "stream",
     "text": [
      "INFO:gurobipy:  92   3.02958184e+10  3.02945451e+10  2.50e+00 1.68e-07  2.98e+00    35s\n"
     ]
    },
    {
     "name": "stdout",
     "output_type": "stream",
     "text": [
      "  93   3.02957727e+10  3.02946038e+10  2.15e+00 1.78e-07  2.73e+00    36s\n"
     ]
    },
    {
     "name": "stderr",
     "output_type": "stream",
     "text": [
      "INFO:gurobipy:  93   3.02957727e+10  3.02946038e+10  2.15e+00 1.78e-07  2.73e+00    36s\n"
     ]
    },
    {
     "name": "stdout",
     "output_type": "stream",
     "text": [
      "  94   3.02957453e+10  3.02946595e+10  1.92e+00 2.27e-07  2.54e+00    36s\n"
     ]
    },
    {
     "name": "stderr",
     "output_type": "stream",
     "text": [
      "INFO:gurobipy:  94   3.02957453e+10  3.02946595e+10  1.92e+00 2.27e-07  2.54e+00    36s\n"
     ]
    },
    {
     "name": "stdout",
     "output_type": "stream",
     "text": [
      "  95   3.02957184e+10  3.02947422e+10  1.72e+00 4.12e-07  2.28e+00    36s\n"
     ]
    },
    {
     "name": "stderr",
     "output_type": "stream",
     "text": [
      "INFO:gurobipy:  95   3.02957184e+10  3.02947422e+10  1.72e+00 4.12e-07  2.28e+00    36s\n"
     ]
    },
    {
     "name": "stdout",
     "output_type": "stream",
     "text": [
      "  96   3.02956856e+10  3.02948111e+10  1.47e+00 3.21e-06  2.05e+00    37s\n"
     ]
    },
    {
     "name": "stderr",
     "output_type": "stream",
     "text": [
      "INFO:gurobipy:  96   3.02956856e+10  3.02948111e+10  1.47e+00 3.21e-06  2.05e+00    37s\n"
     ]
    },
    {
     "name": "stdout",
     "output_type": "stream",
     "text": [
      "  97   3.02956729e+10  3.02948640e+10  1.37e+00 6.67e-07  1.89e+00    37s\n"
     ]
    },
    {
     "name": "stderr",
     "output_type": "stream",
     "text": [
      "INFO:gurobipy:  97   3.02956729e+10  3.02948640e+10  1.37e+00 6.67e-07  1.89e+00    37s\n"
     ]
    },
    {
     "name": "stdout",
     "output_type": "stream",
     "text": [
      "  98   3.02956486e+10  3.02949660e+10  1.15e+00 5.09e-07  1.60e+00    37s\n"
     ]
    },
    {
     "name": "stderr",
     "output_type": "stream",
     "text": [
      "INFO:gurobipy:  98   3.02956486e+10  3.02949660e+10  1.15e+00 5.09e-07  1.60e+00    37s\n"
     ]
    },
    {
     "name": "stdout",
     "output_type": "stream",
     "text": [
      "  99   3.02956458e+10  3.02950643e+10  1.12e+00 2.01e-06  1.36e+00    38s\n"
     ]
    },
    {
     "name": "stderr",
     "output_type": "stream",
     "text": [
      "INFO:gurobipy:  99   3.02956458e+10  3.02950643e+10  1.12e+00 2.01e-06  1.36e+00    38s\n"
     ]
    },
    {
     "name": "stdout",
     "output_type": "stream",
     "text": [
      " 100   3.02956327e+10  3.02951320e+10  1.02e+00 1.40e-06  1.17e+00    38s\n"
     ]
    },
    {
     "name": "stderr",
     "output_type": "stream",
     "text": [
      "INFO:gurobipy: 100   3.02956327e+10  3.02951320e+10  1.02e+00 1.40e-06  1.17e+00    38s\n"
     ]
    },
    {
     "name": "stdout",
     "output_type": "stream",
     "text": [
      " 101   3.02956219e+10  3.02951418e+10  9.32e-01 2.06e-06  1.12e+00    39s\n"
     ]
    },
    {
     "name": "stderr",
     "output_type": "stream",
     "text": [
      "INFO:gurobipy: 101   3.02956219e+10  3.02951418e+10  9.32e-01 2.06e-06  1.12e+00    39s\n"
     ]
    },
    {
     "name": "stdout",
     "output_type": "stream",
     "text": [
      " 102   3.02956018e+10  3.02952030e+10  7.83e-01 1.75e-06  9.33e-01    39s\n"
     ]
    },
    {
     "name": "stderr",
     "output_type": "stream",
     "text": [
      "INFO:gurobipy: 102   3.02956018e+10  3.02952030e+10  7.83e-01 1.75e-06  9.33e-01    39s\n"
     ]
    },
    {
     "name": "stdout",
     "output_type": "stream",
     "text": [
      " 103   3.02955999e+10  3.02952305e+10  7.47e-01 2.26e-06  8.64e-01    39s\n"
     ]
    },
    {
     "name": "stderr",
     "output_type": "stream",
     "text": [
      "INFO:gurobipy: 103   3.02955999e+10  3.02952305e+10  7.47e-01 2.26e-06  8.64e-01    39s\n"
     ]
    },
    {
     "name": "stdout",
     "output_type": "stream",
     "text": [
      " 104   3.02955802e+10  3.02953170e+10  6.04e-01 3.08e-06  6.15e-01    40s\n"
     ]
    },
    {
     "name": "stderr",
     "output_type": "stream",
     "text": [
      "INFO:gurobipy: 104   3.02955802e+10  3.02953170e+10  6.04e-01 3.08e-06  6.15e-01    40s\n"
     ]
    },
    {
     "name": "stdout",
     "output_type": "stream",
     "text": [
      " 105   3.02955790e+10  3.02953206e+10  5.73e-01 3.06e-06  6.04e-01    40s\n"
     ]
    },
    {
     "name": "stderr",
     "output_type": "stream",
     "text": [
      "INFO:gurobipy: 105   3.02955790e+10  3.02953206e+10  5.73e-01 3.06e-06  6.04e-01    40s\n"
     ]
    },
    {
     "name": "stdout",
     "output_type": "stream",
     "text": [
      " 106   3.02955594e+10  3.02953370e+10  4.29e-01 4.39e-06  5.20e-01    40s\n"
     ]
    },
    {
     "name": "stderr",
     "output_type": "stream",
     "text": [
      "INFO:gurobipy: 106   3.02955594e+10  3.02953370e+10  4.29e-01 4.39e-06  5.20e-01    40s\n"
     ]
    },
    {
     "name": "stdout",
     "output_type": "stream",
     "text": [
      " 107   3.02955498e+10  3.02953835e+10  3.58e-01 5.17e-06  3.89e-01    40s\n"
     ]
    },
    {
     "name": "stderr",
     "output_type": "stream",
     "text": [
      "INFO:gurobipy: 107   3.02955498e+10  3.02953835e+10  3.58e-01 5.17e-06  3.89e-01    40s\n"
     ]
    },
    {
     "name": "stdout",
     "output_type": "stream",
     "text": [
      " 108   3.02955414e+10  3.02953925e+10  2.90e-01 4.79e-06  3.48e-01    41s\n"
     ]
    },
    {
     "name": "stderr",
     "output_type": "stream",
     "text": [
      "INFO:gurobipy: 108   3.02955414e+10  3.02953925e+10  2.90e-01 4.79e-06  3.48e-01    41s\n"
     ]
    },
    {
     "name": "stdout",
     "output_type": "stream",
     "text": [
      " 109   3.02955334e+10  3.02954095e+10  2.28e-01 4.07e-06  2.90e-01    41s\n"
     ]
    },
    {
     "name": "stderr",
     "output_type": "stream",
     "text": [
      "INFO:gurobipy: 109   3.02955334e+10  3.02954095e+10  2.28e-01 4.07e-06  2.90e-01    41s\n"
     ]
    },
    {
     "name": "stdout",
     "output_type": "stream",
     "text": [
      " 110   3.02955290e+10  3.02954234e+10  1.94e-01 3.32e-06  2.47e-01    42s\n"
     ]
    },
    {
     "name": "stderr",
     "output_type": "stream",
     "text": [
      "INFO:gurobipy: 110   3.02955290e+10  3.02954234e+10  1.94e-01 3.32e-06  2.47e-01    42s\n"
     ]
    },
    {
     "name": "stdout",
     "output_type": "stream",
     "text": [
      " 111   3.02955084e+10  3.02954558e+10  1.16e-05 1.97e-06  1.23e-01    42s\n"
     ]
    },
    {
     "name": "stderr",
     "output_type": "stream",
     "text": [
      "INFO:gurobipy: 111   3.02955084e+10  3.02954558e+10  1.16e-05 1.97e-06  1.23e-01    42s\n"
     ]
    },
    {
     "name": "stdout",
     "output_type": "stream",
     "text": [
      " 112   3.02955078e+10  3.02954624e+10  1.04e-05 1.67e-06  1.06e-01    42s\n"
     ]
    },
    {
     "name": "stderr",
     "output_type": "stream",
     "text": [
      "INFO:gurobipy: 112   3.02955078e+10  3.02954624e+10  1.04e-05 1.67e-06  1.06e-01    42s\n"
     ]
    },
    {
     "name": "stdout",
     "output_type": "stream",
     "text": [
      " 113   3.02955071e+10  3.02954912e+10  8.70e-06 4.56e-07  3.71e-02    43s\n"
     ]
    },
    {
     "name": "stderr",
     "output_type": "stream",
     "text": [
      "INFO:gurobipy: 113   3.02955071e+10  3.02954912e+10  8.70e-06 4.56e-07  3.71e-02    43s\n"
     ]
    },
    {
     "name": "stdout",
     "output_type": "stream",
     "text": [
      " 114   3.02955046e+10  3.02955009e+10  9.90e-06 6.76e-08  8.69e-03    43s\n"
     ]
    },
    {
     "name": "stderr",
     "output_type": "stream",
     "text": [
      "INFO:gurobipy: 114   3.02955046e+10  3.02955009e+10  9.90e-06 6.76e-08  8.69e-03    43s\n"
     ]
    },
    {
     "name": "stdout",
     "output_type": "stream",
     "text": [
      " 115   3.02955043e+10  3.02955015e+10  2.07e-06 5.38e-08  6.62e-03    43s\n"
     ]
    },
    {
     "name": "stderr",
     "output_type": "stream",
     "text": [
      "INFO:gurobipy: 115   3.02955043e+10  3.02955015e+10  2.07e-06 5.38e-08  6.62e-03    43s\n"
     ]
    },
    {
     "name": "stdout",
     "output_type": "stream",
     "text": [
      " 116   3.02955043e+10  3.02955017e+10  1.81e-06 5.01e-08  6.17e-03    44s\n"
     ]
    },
    {
     "name": "stderr",
     "output_type": "stream",
     "text": [
      "INFO:gurobipy: 116   3.02955043e+10  3.02955017e+10  1.81e-06 5.01e-08  6.17e-03    44s\n"
     ]
    },
    {
     "name": "stdout",
     "output_type": "stream",
     "text": [
      " 117   3.02955043e+10  3.02955025e+10  1.70e-06 3.44e-08  4.29e-03    44s\n"
     ]
    },
    {
     "name": "stderr",
     "output_type": "stream",
     "text": [
      "INFO:gurobipy: 117   3.02955043e+10  3.02955025e+10  1.70e-06 3.44e-08  4.29e-03    44s\n"
     ]
    },
    {
     "name": "stdout",
     "output_type": "stream",
     "text": [
      " 118   3.02955043e+10  3.02955042e+10  1.30e-06 1.61e-09  3.30e-04    45s\n"
     ]
    },
    {
     "name": "stderr",
     "output_type": "stream",
     "text": [
      "INFO:gurobipy: 118   3.02955043e+10  3.02955042e+10  1.30e-06 1.61e-09  3.30e-04    45s\n"
     ]
    },
    {
     "name": "stdout",
     "output_type": "stream",
     "text": [
      " 119   3.02955043e+10  3.02955042e+10  7.09e-05 3.32e-09  7.23e-05    45s\n"
     ]
    },
    {
     "name": "stderr",
     "output_type": "stream",
     "text": [
      "INFO:gurobipy: 119   3.02955043e+10  3.02955042e+10  7.09e-05 3.32e-09  7.23e-05    45s\n"
     ]
    },
    {
     "name": "stdout",
     "output_type": "stream",
     "text": [
      " 120   3.02955043e+10  3.02955043e+10  9.20e-07 1.58e-08  3.04e-07    45s\n"
     ]
    },
    {
     "name": "stderr",
     "output_type": "stream",
     "text": [
      "INFO:gurobipy: 120   3.02955043e+10  3.02955043e+10  9.20e-07 1.58e-08  3.04e-07    45s\n"
     ]
    },
    {
     "name": "stdout",
     "output_type": "stream",
     "text": [
      " 121   3.02955043e+10  3.02955043e+10  3.65e-05 1.05e-08  1.43e-10    46s\n"
     ]
    },
    {
     "name": "stderr",
     "output_type": "stream",
     "text": [
      "INFO:gurobipy: 121   3.02955043e+10  3.02955043e+10  3.65e-05 1.05e-08  1.43e-10    46s\n"
     ]
    },
    {
     "name": "stdout",
     "output_type": "stream",
     "text": [
      "\n"
     ]
    },
    {
     "name": "stderr",
     "output_type": "stream",
     "text": [
      "INFO:gurobipy:\n"
     ]
    },
    {
     "name": "stdout",
     "output_type": "stream",
     "text": [
      "Barrier solved model in 121 iterations and 45.63 seconds (19.79 work units)\n"
     ]
    },
    {
     "name": "stderr",
     "output_type": "stream",
     "text": [
      "INFO:gurobipy:Barrier solved model in 121 iterations and 45.63 seconds (19.79 work units)\n"
     ]
    },
    {
     "name": "stdout",
     "output_type": "stream",
     "text": [
      "Optimal objective 3.02955043e+10\n"
     ]
    },
    {
     "name": "stderr",
     "output_type": "stream",
     "text": [
      "INFO:gurobipy:Optimal objective 3.02955043e+10\n"
     ]
    },
    {
     "name": "stdout",
     "output_type": "stream",
     "text": [
      "\n"
     ]
    },
    {
     "name": "stderr",
     "output_type": "stream",
     "text": [
      "INFO:gurobipy:\n"
     ]
    },
    {
     "name": "stdout",
     "output_type": "stream",
     "text": [
      "Crossover log...\n"
     ]
    },
    {
     "name": "stderr",
     "output_type": "stream",
     "text": [
      "INFO:gurobipy:Crossover log...\n"
     ]
    },
    {
     "name": "stdout",
     "output_type": "stream",
     "text": [
      "\n"
     ]
    },
    {
     "name": "stderr",
     "output_type": "stream",
     "text": [
      "INFO:gurobipy:\n"
     ]
    },
    {
     "name": "stdout",
     "output_type": "stream",
     "text": [
      "   62097 DPushes remaining with DInf 0.0000000e+00                46s\n"
     ]
    },
    {
     "name": "stderr",
     "output_type": "stream",
     "text": [
      "INFO:gurobipy:   62097 DPushes remaining with DInf 0.0000000e+00                46s\n"
     ]
    },
    {
     "name": "stdout",
     "output_type": "stream",
     "text": [
      "       0 DPushes remaining with DInf 0.0000000e+00                47s\n"
     ]
    },
    {
     "name": "stderr",
     "output_type": "stream",
     "text": [
      "INFO:gurobipy:       0 DPushes remaining with DInf 0.0000000e+00                47s\n"
     ]
    },
    {
     "name": "stdout",
     "output_type": "stream",
     "text": [
      "Warning: Markowitz tolerance tightened to 0.5\n"
     ]
    },
    {
     "name": "stderr",
     "output_type": "stream",
     "text": [
      "INFO:gurobipy:Warning: Markowitz tolerance tightened to 0.5\n"
     ]
    },
    {
     "name": "stdout",
     "output_type": "stream",
     "text": [
      "\n"
     ]
    },
    {
     "name": "stderr",
     "output_type": "stream",
     "text": [
      "INFO:gurobipy:\n"
     ]
    },
    {
     "name": "stdout",
     "output_type": "stream",
     "text": [
      "   29854 PPushes remaining with PInf 0.0000000e+00                47s\n"
     ]
    },
    {
     "name": "stderr",
     "output_type": "stream",
     "text": [
      "INFO:gurobipy:   29854 PPushes remaining with PInf 0.0000000e+00                47s\n"
     ]
    },
    {
     "name": "stdout",
     "output_type": "stream",
     "text": [
      "   25931 PPushes remaining with PInf 0.0000000e+00                51s\n"
     ]
    },
    {
     "name": "stderr",
     "output_type": "stream",
     "text": [
      "INFO:gurobipy:   25931 PPushes remaining with PInf 0.0000000e+00                51s\n"
     ]
    },
    {
     "name": "stdout",
     "output_type": "stream",
     "text": [
      "   20434 PPushes remaining with PInf 0.0000000e+00                57s\n"
     ]
    },
    {
     "name": "stderr",
     "output_type": "stream",
     "text": [
      "INFO:gurobipy:   20434 PPushes remaining with PInf 0.0000000e+00                57s\n"
     ]
    },
    {
     "name": "stdout",
     "output_type": "stream",
     "text": [
      "   19714 PPushes remaining with PInf 0.0000000e+00                60s\n"
     ]
    },
    {
     "name": "stderr",
     "output_type": "stream",
     "text": [
      "INFO:gurobipy:   19714 PPushes remaining with PInf 0.0000000e+00                60s\n"
     ]
    },
    {
     "name": "stdout",
     "output_type": "stream",
     "text": [
      "   16745 PPushes remaining with PInf 0.0000000e+00                66s\n"
     ]
    },
    {
     "name": "stderr",
     "output_type": "stream",
     "text": [
      "INFO:gurobipy:   16745 PPushes remaining with PInf 0.0000000e+00                66s\n"
     ]
    },
    {
     "name": "stdout",
     "output_type": "stream",
     "text": [
      "   14285 PPushes remaining with PInf 0.0000000e+00                70s\n"
     ]
    },
    {
     "name": "stderr",
     "output_type": "stream",
     "text": [
      "INFO:gurobipy:   14285 PPushes remaining with PInf 0.0000000e+00                70s\n"
     ]
    },
    {
     "name": "stdout",
     "output_type": "stream",
     "text": [
      "   11741 PPushes remaining with PInf 0.0000000e+00                76s\n"
     ]
    },
    {
     "name": "stderr",
     "output_type": "stream",
     "text": [
      "INFO:gurobipy:   11741 PPushes remaining with PInf 0.0000000e+00                76s\n"
     ]
    },
    {
     "name": "stdout",
     "output_type": "stream",
     "text": [
      "    9788 PPushes remaining with PInf 0.0000000e+00                80s\n"
     ]
    },
    {
     "name": "stderr",
     "output_type": "stream",
     "text": [
      "INFO:gurobipy:    9788 PPushes remaining with PInf 0.0000000e+00                80s\n"
     ]
    },
    {
     "name": "stdout",
     "output_type": "stream",
     "text": [
      "    7533 PPushes remaining with PInf 0.0000000e+00                85s\n"
     ]
    },
    {
     "name": "stderr",
     "output_type": "stream",
     "text": [
      "INFO:gurobipy:    7533 PPushes remaining with PInf 0.0000000e+00                85s\n"
     ]
    },
    {
     "name": "stdout",
     "output_type": "stream",
     "text": [
      "    5579 PPushes remaining with PInf 0.0000000e+00                90s\n"
     ]
    },
    {
     "name": "stderr",
     "output_type": "stream",
     "text": [
      "INFO:gurobipy:    5579 PPushes remaining with PInf 0.0000000e+00                90s\n"
     ]
    },
    {
     "name": "stdout",
     "output_type": "stream",
     "text": [
      "    3087 PPushes remaining with PInf 0.0000000e+00                96s\n"
     ]
    },
    {
     "name": "stderr",
     "output_type": "stream",
     "text": [
      "INFO:gurobipy:    3087 PPushes remaining with PInf 0.0000000e+00                96s\n"
     ]
    },
    {
     "name": "stdout",
     "output_type": "stream",
     "text": [
      "    1160 PPushes remaining with PInf 0.0000000e+00               100s\n"
     ]
    },
    {
     "name": "stderr",
     "output_type": "stream",
     "text": [
      "INFO:gurobipy:    1160 PPushes remaining with PInf 0.0000000e+00               100s\n"
     ]
    },
    {
     "name": "stdout",
     "output_type": "stream",
     "text": [
      "       0 PPushes remaining with PInf 0.0000000e+00               104s\n"
     ]
    },
    {
     "name": "stderr",
     "output_type": "stream",
     "text": [
      "INFO:gurobipy:       0 PPushes remaining with PInf 0.0000000e+00               104s\n"
     ]
    },
    {
     "name": "stdout",
     "output_type": "stream",
     "text": [
      "\n"
     ]
    },
    {
     "name": "stderr",
     "output_type": "stream",
     "text": [
      "INFO:gurobipy:\n"
     ]
    },
    {
     "name": "stdout",
     "output_type": "stream",
     "text": [
      "  Push phase complete: Pinf 0.0000000e+00, Dinf 2.5131626e-08    104s\n"
     ]
    },
    {
     "name": "stderr",
     "output_type": "stream",
     "text": [
      "INFO:gurobipy:  Push phase complete: Pinf 0.0000000e+00, Dinf 2.5131626e-08    104s\n"
     ]
    },
    {
     "name": "stdout",
     "output_type": "stream",
     "text": [
      "\n"
     ]
    },
    {
     "name": "stderr",
     "output_type": "stream",
     "text": [
      "INFO:gurobipy:\n"
     ]
    },
    {
     "name": "stdout",
     "output_type": "stream",
     "text": [
      "\n"
     ]
    },
    {
     "name": "stderr",
     "output_type": "stream",
     "text": [
      "INFO:gurobipy:\n"
     ]
    },
    {
     "name": "stdout",
     "output_type": "stream",
     "text": [
      "Solved with barrier\n"
     ]
    },
    {
     "name": "stderr",
     "output_type": "stream",
     "text": [
      "INFO:gurobipy:Solved with barrier\n"
     ]
    },
    {
     "name": "stdout",
     "output_type": "stream",
     "text": [
      "Iteration    Objective       Primal Inf.    Dual Inf.      Time\n"
     ]
    },
    {
     "name": "stderr",
     "output_type": "stream",
     "text": [
      "INFO:gurobipy:Iteration    Objective       Primal Inf.    Dual Inf.      Time\n"
     ]
    },
    {
     "name": "stdout",
     "output_type": "stream",
     "text": [
      "   59127    3.0295504e+10   0.000000e+00   3.000000e-06    105s\n"
     ]
    },
    {
     "name": "stderr",
     "output_type": "stream",
     "text": [
      "INFO:gurobipy:   59127    3.0295504e+10   0.000000e+00   3.000000e-06    105s\n"
     ]
    },
    {
     "name": "stdout",
     "output_type": "stream",
     "text": [
      "Extra simplex iterations after uncrush: 2\n"
     ]
    },
    {
     "name": "stderr",
     "output_type": "stream",
     "text": [
      "INFO:gurobipy:Extra simplex iterations after uncrush: 2\n"
     ]
    },
    {
     "name": "stdout",
     "output_type": "stream",
     "text": [
      "   59129    3.0295504e+10   0.000000e+00   0.000000e+00    106s\n"
     ]
    },
    {
     "name": "stderr",
     "output_type": "stream",
     "text": [
      "INFO:gurobipy:   59129    3.0295504e+10   0.000000e+00   0.000000e+00    106s\n"
     ]
    },
    {
     "name": "stdout",
     "output_type": "stream",
     "text": [
      "\n"
     ]
    },
    {
     "name": "stderr",
     "output_type": "stream",
     "text": [
      "INFO:gurobipy:\n"
     ]
    },
    {
     "name": "stdout",
     "output_type": "stream",
     "text": [
      "Solved in 59129 iterations and 105.68 seconds (103.15 work units)\n"
     ]
    },
    {
     "name": "stderr",
     "output_type": "stream",
     "text": [
      "INFO:gurobipy:Solved in 59129 iterations and 105.68 seconds (103.15 work units)\n"
     ]
    },
    {
     "name": "stdout",
     "output_type": "stream",
     "text": [
      "Optimal objective  3.029550426e+10\n"
     ]
    },
    {
     "name": "stderr",
     "output_type": "stream",
     "text": [
      "INFO:gurobipy:Optimal objective  3.029550426e+10\n",
      "INFO:linopy.constants: Optimization successful: \n",
      "Status: ok\n",
      "Termination condition: optimal\n",
      "Solution: 227775 primals, 499336 duals\n",
      "Objective: 3.03e+10\n",
      "Solver model: available\n",
      "Solver message: 2\n",
      "\n",
      "INFO:pypsa.optimization.optimize:The shadow-prices of the constraints Generator-ext-p-lower, Generator-ext-p-upper, Line-fix-s-lower, Line-fix-s-upper, StorageUnit-ext-p_dispatch-lower, StorageUnit-ext-p_dispatch-upper, StorageUnit-ext-p_store-lower, StorageUnit-ext-p_store-upper, StorageUnit-ext-state_of_charge-lower, StorageUnit-ext-state_of_charge-upper, StorageUnit-energy_balance were not assigned to the network.\n"
     ]
    },
    {
     "data": {
      "text/plain": [
       "('ok', 'optimal')"
      ]
     },
     "execution_count": 38,
     "metadata": {},
     "output_type": "execute_result"
    }
   ],
   "source": [
    "n.optimize(solver_name='gurobi')\n"
   ]
  },
  {
   "cell_type": "code",
   "execution_count": 39,
   "id": "1159bc0a",
   "metadata": {},
   "outputs": [
    {
     "data": {
      "text/plain": [
       "{'onshore': 'blue',\n",
       " 'offshore': 'darkblue',\n",
       " 'pv': 'orange',\n",
       " 'rooftop': 'yellow',\n",
       " 'coal': 'brown',\n",
       " 'OCGT': 'grey'}"
      ]
     },
     "execution_count": 39,
     "metadata": {},
     "output_type": "execute_result"
    }
   ],
   "source": [
    "colors"
   ]
  },
  {
   "cell_type": "code",
   "execution_count": 40,
   "id": "aedcb3ad",
   "metadata": {},
   "outputs": [
    {
     "name": "stdout",
     "output_type": "stream",
     "text": [
      "onshore wind\n"
     ]
    },
    {
     "data": {
      "image/png": "[encoded data removed]",
      "text/plain": [
       "<Figure size 1600x400 with 4 Axes>"
      ]
     },
     "metadata": {},
     "output_type": "display_data"
    }
   ],
   "source": [
    "plt.figure(figsize=(16, 4))\n",
    "plt.title(f'Generation mix for Germany, Denmark and Austria with {CO2_limit} MtCO2 limit', fontsize=16)\n",
    "colors_all = {'onshore wind': 'blue',\n",
    "               'offshore wind': 'darkblue',\n",
    "               'large scale solar': 'orange',\n",
    "               'rooftop solar': 'yellow',\n",
    "               'coal': 'brown',\n",
    "               'gas (OCGT)': 'grey',\n",
    "               'hydro': 'lightblue'}\n",
    "\n",
    "\n",
    "for country in countries:      \n",
    "   if country == \"DEU\":\n",
    "      labels = ['onshore wind',\n",
    "               'offshore wind',\n",
    "               'large scale solar',\n",
    "               'coal',\n",
    "               'gas (OCGT)']\n",
    "      sizes = [n.generators_t.p[f'onshorewind{country}'].sum(),\n",
    "                     n.generators_t.p[f'offshorewind{country}'].sum(),\n",
    "                  n.generators_t.p[f'PV{country}'].sum(),\n",
    "                     n.generators_t.p[f'coal{country}'].sum(),\n",
    "                  n.generators_t.p[f'OCGT{country}'].sum()]\n",
    "      labels = [labels[i] for i in range(len(labels)) if sizes[i] > 0]\n",
    "      sizes = [x for x in sizes if x > 0]\n",
    "      colors = [colors_all[label] for label in labels]\n",
    "\n",
    "\n",
    "\n",
    "      plt.subplot(1, 3, 1)\n",
    "      plt.pie(sizes,\n",
    "            colors=colors,\n",
    "            labels=labels,\n",
    "            wedgeprops={'linewidth':0})\n",
    "      plt.axis('equal')\n",
    "\n",
    "      plt.title(f'{country} Generation mix', y=1.07)\n",
    "   \n",
    "   if country == \"DNK\":\n",
    "      labels = ['onshore wind',\n",
    "               'offshore wind',\n",
    "               'large scale solar',\n",
    "               'gas (OCGT)']\n",
    "      sizes = [n.generators_t.p[f'onshorewind{country}'].sum(),\n",
    "                     n.generators_t.p[f'offshorewind{country}'].sum(),\n",
    "                  n.generators_t.p[f'PV{country}'].sum(),\n",
    "                  n.generators_t.p[f'OCGT{country}'].sum()]\n",
    "\n",
    "      labels = [labels[i] for i in range(len(labels)) if sizes[i] > 0]\n",
    "      sizes = [x for x in sizes if x > 0]\n",
    "      print(labels[0])\n",
    "      colors = [colors_all[label] for label in labels]\n",
    "\n",
    "      plt.subplot(1, 3, 2)\n",
    "      plt.pie(sizes,\n",
    "            colors=colors,\n",
    "            labels=labels,\n",
    "            wedgeprops={'linewidth':0})\n",
    "      plt.axis('equal')\n",
    "\n",
    "      plt.title(f'{country} Generation mix', y=1.07)\n",
    "\n",
    "   \n",
    "   if country == \"AUT\":\n",
    "      labels = ['hydro',\n",
    "               'large scale solar',\n",
    "               'gas (OCGT)']\n",
    "      sizes = [n.storage_units_t.p['hydroAUT'].sum(),\n",
    "                  n.generators_t.p[f'PV{country}'].sum(),\n",
    "                  n.generators_t.p[f'OCGT{country}'].sum()]\n",
    "\n",
    "      labels = [labels[i] for i in range(len(labels)) if sizes[i] > 0]\n",
    "      sizes = [x for x in sizes if x > 0]\n",
    "      colors = [colors_all[label] for label in labels]\n",
    "\n",
    "      plt.subplot(1, 3, 3)\n",
    "      plt.pie(sizes,\n",
    "            colors=colors,\n",
    "            labels=labels,\n",
    "            wedgeprops={'linewidth':0})\n",
    "      plt.axis('equal')\n",
    "\n",
    "      plt.title(f'{country} Generation mix', y=1.07)\n",
    "\n",
    "      \n"
   ]
  },
  {
   "cell_type": "code",
   "execution_count": 41,
   "id": "8f20c990",
   "metadata": {},
   "outputs": [
    {
     "data": {
      "text/plain": [
       "<Axes: xlabel='snapshot'>"
      ]
     },
     "execution_count": 41,
     "metadata": {},
     "output_type": "execute_result"
    },
    {
     "data": {
      "image/png": "[encoded data removed]",
      "text/plain": [
       "<Figure size 1600x400 with 1 Axes>"
      ]
     },
     "metadata": {},
     "output_type": "display_data"
    }
   ],
   "source": [
    "n.lines_t.p0.plot(figsize=(16, 4), alpha=0.5)"
   ]
  },
  {
   "cell_type": "code",
   "execution_count": null,
   "id": "9727e734",
   "metadata": {},
   "outputs": [],
   "source": []
  }
 ],
 "metadata": {
  "kernelspec": {
   "display_name": "integrated-energy-grids",
   "language": "python",
   "name": "python3"
  },
  "language_info": {
   "codemirror_mode": {
    "name": "ipython",
    "version": 3
   },
   "file_extension": ".py",
   "mimetype": "text/x-python",
   "name": "python",
   "nbconvert_exporter": "python",
   "pygments_lexer": "ipython3",
   "version": "3.12.8"
  }
 },
 "nbformat": 4,
 "nbformat_minor": 5
}
