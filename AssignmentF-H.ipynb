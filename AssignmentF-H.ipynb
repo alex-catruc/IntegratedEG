{
 "cells": [
  {
   "cell_type": "code",
   "execution_count": 178,
   "id": "4e55b13f",
   "metadata": {},
   "outputs": [],
   "source": [
    "import pandas as pd\n",
    "import pypsa\n",
    "import numpy as np\n",
    "import matplotlib.pyplot as plt"
   ]
  },
  {
   "cell_type": "markdown",
   "id": "915c60de",
   "metadata": {},
   "source": [
    "# Load Data"
   ]
  },
  {
   "cell_type": "code",
   "execution_count": 179,
   "id": "da7855b4",
   "metadata": {},
   "outputs": [
    {
     "name": "stderr",
     "output_type": "stream",
     "text": [
      "<>:14: DeprecationWarning: invalid escape sequence '\\p'\n",
      "<>:18: DeprecationWarning: invalid escape sequence '\\p'\n",
      "<>:14: DeprecationWarning: invalid escape sequence '\\p'\n",
      "<>:18: DeprecationWarning: invalid escape sequence '\\p'\n",
      "C:\\Users\\alexk\\AppData\\Local\\Temp\\ipykernel_25344\\3096401804.py:14: DeprecationWarning: invalid escape sequence '\\p'\n",
      "  df_pv = pd.read_csv('data\\pv_optimal.csv', sep=';', index_col=0)\n",
      "C:\\Users\\alexk\\AppData\\Local\\Temp\\ipykernel_25344\\3096401804.py:18: DeprecationWarning: invalid escape sequence '\\p'\n",
      "  df_rooftop = pd.read_csv('data\\pv_rooftop.csv', sep=';', index_col=0)\n",
      "C:\\Users\\alexk\\AppData\\Local\\Temp\\ipykernel_25344\\3096401804.py:29: FutureWarning: 'H' is deprecated and will be removed in a future version, please use 'h' instead.\n",
      "  df_hydro_hourly = df_hydro['inflow_MW'].resample('H').ffill()\n"
     ]
    }
   ],
   "source": [
    "# load electricity demand data\n",
    "df_elec = pd.read_csv('data/electricity_demand.csv', sep=';', index_col=0) # in MWh\n",
    "df_elec.index = pd.to_datetime(df_elec.index) #change index to datatime\n",
    "\n",
    "# load onshore wind data\n",
    "df_onshorewind = pd.read_csv('data/onshore_wind_1979-2017.csv', sep=';', index_col=0)\n",
    "df_onshorewind.index = pd.to_datetime(df_onshorewind.index)\n",
    "\n",
    "# load offshore wind data\n",
    "df_offshorewind = pd.read_csv('data/offshore_wind_1979-2017.csv', sep=';', index_col=0)\n",
    "df_offshorewind.index = pd.to_datetime(df_offshorewind.index)\n",
    "\n",
    "# load large scale pv data\n",
    "df_pv = pd.read_csv('data\\pv_optimal.csv', sep=';', index_col=0)\n",
    "df_pv.index = pd.to_datetime(df_pv.index)\n",
    "\n",
    "# load rooftop pv data\n",
    "df_rooftop = pd.read_csv('data\\pv_rooftop.csv', sep=';', index_col=0)\n",
    "df_rooftop.index = pd.to_datetime(df_rooftop.index)\n",
    "\n",
    "# load hydro inflow in Austria\n",
    "df_hydro = pd.read_csv('data/Hydro_Inflow_AT.csv')  # assumes columns: Year, Month, Day, Inflow [GWh]\n",
    "df_hydro['date'] = pd.to_datetime(df_hydro[['Year', 'Month', 'Day']])\n",
    "df_hydro.set_index('date', inplace=True)\n",
    "\n",
    "# Convert from GWh/day → MW (spread evenly across 24 hours)\n",
    "df_hydro['inflow_MW'] = df_hydro['Inflow [GWh]'] * 1000 / 24\n",
    "## Align to model snapshots\n",
    "df_hydro_hourly = df_hydro['inflow_MW'].resample('H').ffill()\n",
    "\n",
    "\n",
    "hours_in_2015 = pd.date_range('2015-01-01 00:00Z',\n",
    "                              '2015-12-31 23:00Z',\n",
    "                              freq='h')\n",
    "\n",
    "df_hydro_inflow = pd.DataFrame(index=hours_in_2015)\n",
    "df_hydro_inflow['inflow_MW'] = df_hydro_hourly.loc[df_hydro_hourly.index.year==2011].values"
   ]
  },
  {
   "cell_type": "code",
   "execution_count": 180,
   "id": "607723d1",
   "metadata": {},
   "outputs": [],
   "source": [
    "colors = {\"onshore\": \"blue\", \"offshore\": \"darkblue\", \"pv\": \"orange\", \n",
    "          \"rooftop\": \"yellow\", \"coal\": \"brown\", \"OCGT\": \"grey\"}"
   ]
  },
  {
   "cell_type": "markdown",
   "id": "49b149d5",
   "metadata": {},
   "source": [
    "# __F.__ Make Network"
   ]
  },
  {
   "cell_type": "code",
   "execution_count": 181,
   "id": "d0b50aca",
   "metadata": {},
   "outputs": [],
   "source": [
    "def annuity(n,r):\n",
    "    \"\"\" Calculate the annuity factor for an asset with lifetime n years and\n",
    "    discount rate  r \"\"\"\n",
    "\n",
    "    if r > 0:\n",
    "        return r/(1. - 1./(1.+r)**n)\n",
    "    else:\n",
    "        return 1/n"
   ]
  },
  {
   "cell_type": "code",
   "execution_count": 182,
   "id": "074ab7cc",
   "metadata": {},
   "outputs": [],
   "source": [
    "n = pypsa.Network()\n",
    "n.set_snapshots(hours_in_2015.values)\n",
    "\n",
    "# add the different carriers, only gas emits CO2\n",
    "n.add(\"Carrier\", \"gas\", co2_emissions=0.19) # in t_CO2/MWh_th\n",
    "n.add(\"Carrier\", \"coal\", co2_emissions=0.9) # in t_CO2/MWh_th\n",
    "n.add(\"Carrier\", \"onshorewind\")\n",
    "n.add(\"Carrier\", \"offshorewind\")\n",
    "n.add(\"Carrier\", \"solarPV\")\n",
    "n.add(\"Carrier\", \"rooftopPV\")\n",
    "n.add(\"Carrier\", \"hydro\")\n",
    "\n",
    "countries = ['DEU', 'DNK', 'AUT']\n",
    "coordinates = {'DNK': (55.67, 12.57), # Copenhagen\n",
    "                'DEU': (52.37, 9.73), # Hannover\n",
    "                'AUT': (47.57, 14.23)} # Liezen\n",
    "\n",
    "# add electricity bus\n",
    "for country in countries:\n",
    "    n.add(\"Bus\",\n",
    "                country,\n",
    "                y = coordinates[country][0],\n",
    "                x = coordinates[country][1],\n",
    "                carrier=\"AC\",)\n",
    "\n",
    "    # add load to the bus\n",
    "    n.add(\"Load\",\n",
    "                f\"load{country}\",\n",
    "                bus=country,\n",
    "                p_set=df_elec[country].values)\n",
    "\n",
    "\n",
    "    ''' Add renewable generators '''\n",
    "    if country != 'AUT':\n",
    "        # Add onshore wind\n",
    "        CF_wind_onshore = df_onshorewind[country][[hour.strftime(\"%Y-%m-%dT%H:%M:%SZ\") for hour in n.snapshots]]\n",
    "        lifetime = 30 # years\n",
    "        discount_rate = 0.07 # 7%\n",
    "        capex = 910000 # in €/MW\n",
    "        fopex = 0.033 # 3.3% of capex\n",
    "        capital_cost_onshorewind = annuity(lifetime,discount_rate)*capex*(1+fopex) # in €/MW\n",
    "        n.add(\"Generator\",\n",
    "                    f\"onshorewind{country}\",\n",
    "                    bus=country,\n",
    "                    p_nom_extendable=True,\n",
    "                    carrier=\"onshorewind\",\n",
    "                    #p_nom_max=1000, # maximum capacity can be limited due to environmental constraints\n",
    "                    capital_cost = capital_cost_onshorewind,\n",
    "                    marginal_cost = 0,\n",
    "                    p_max_pu = CF_wind_onshore.values)\n",
    "\n",
    "        # Add offshore wind\n",
    "        CF_wind_offshore = df_offshorewind[country][[hour.strftime(\"%Y-%m-%dT%H:%M:%SZ\") for hour in n.snapshots]]\n",
    "        lifetime = 25 # years\n",
    "        discount_rate = 0.07 # 7%\n",
    "        capex = 2506000 # in €/MW\n",
    "        fopex = 0.03 # 3% of capex\n",
    "        capital_cost_offshorewind = annuity(lifetime,discount_rate)*capex*(1+fopex) # in €/MW\n",
    "        n.add(\"Generator\",\n",
    "                    f\"offshorewind{country}\",\n",
    "                    bus=country,\n",
    "                    p_nom_extendable=True,\n",
    "                    carrier=\"offshorewind\",\n",
    "                    #p_nom_max=1000, # maximum capacity can be limited due to environmental constraints\n",
    "                    capital_cost = capital_cost_offshorewind,\n",
    "                    marginal_cost = 0,\n",
    "                    p_max_pu = CF_wind_offshore.values)\n",
    "\n",
    "    # Add large scale solar\n",
    "    CF_solar = df_pv[country][[hour.strftime(\"%Y-%m-%dT%H:%M:%SZ\") for hour in n.snapshots]]\n",
    "    lifetime = 25 # years\n",
    "    discount_rate = 0.07 # 7%\n",
    "    capex = 425000 # in €/MW\n",
    "    fopex = 0.03 # 3% of capex\n",
    "    capital_cost_pv = annuity(lifetime,discount_rate)*capex*(1+fopex) # in €/MW\n",
    "    n.add(\"Generator\",\n",
    "                f\"PV{country}\",\n",
    "                bus=country,\n",
    "                p_nom_extendable=True,\n",
    "                carrier=\"solarPV\",\n",
    "                #p_nom_max=1000, # maximum capacity can be limited due to environmental constraints\n",
    "                capital_cost = capital_cost_pv,\n",
    "                marginal_cost = 0,\n",
    "                p_max_pu = CF_solar.values)\n",
    "\n",
    "\n",
    "\n",
    "    ''' Add non-renewables generators '''\n",
    "    # add OCGT (Open Cycle Gas Turbine) generator\n",
    "    lifetime = 25 # years\n",
    "    discount_rate = 0.07 # 7%\n",
    "    capex = 560000 # in €/MW\n",
    "    fopex = 0.033 # 3.3% of capex\n",
    "    capital_cost_OCGT = annuity(lifetime,discount_rate)*capex*(1+fopex) # in €/MW\n",
    "    fuel_cost = 21.6 # in €/MWh_th\n",
    "    efficiency = 0.39 # MWh_elec/MWh_th\n",
    "    marginal_cost_OCGT = fuel_cost/efficiency # in €/MWh_el\n",
    "    n.add(\"Generator\",\n",
    "                f\"OCGT{country}\",\n",
    "                bus=country,\n",
    "                p_nom_extendable=True,\n",
    "                carrier=\"gas\",\n",
    "                #p_nom_max=1000,\n",
    "                capital_cost = capital_cost_OCGT,\n",
    "                efficiency = efficiency,\n",
    "                marginal_cost = marginal_cost_OCGT)\n",
    "\n",
    "    if country == 'DEU':\n",
    "        # add coal generator (without CCS) # https://atb-archive.nrel.gov/electricity/2018/index.html?t=cc\n",
    "        lifetime = 25 # years\n",
    "        discount_rate = 0.07 # 7%\n",
    "        capex = 3294000 # in €/MW\n",
    "        fopex = 0.03 # 3% of capex\n",
    "        capital_cost_coal = annuity(lifetime,discount_rate)*capex*(1+fopex) # in €/MW\n",
    "        fuel_cost = 4 # in €/MWh_th \n",
    "        efficiency = 0.36 # MWh_elec/MWh_th\n",
    "        marginal_cost_coal = fuel_cost/efficiency # in €/MWh_el\n",
    "        n.add(\"Generator\",\n",
    "                    f\"coal{country}\",\n",
    "                    bus=country,\n",
    "                    p_nom_extendable=True,\n",
    "                    carrier=\"coal\",\n",
    "                    #p_nom_max=1000,\n",
    "                    capital_cost = capital_cost_coal,\n",
    "                    efficiency = efficiency,\n",
    "                    marginal_cost = marginal_cost_coal)\n",
    "        \n",
    "    if country == 'AUT':\n",
    "        lifetime = 80 # years\n",
    "        discount_rate = 0.07 # 7%\n",
    "        capex = 300000 # in €/MW\n",
    "        fopex = 0.02 # 2% of capex\n",
    "        capital_cost_hydro = annuity(lifetime,discount_rate)*capex*(1+fopex) # in €/MW\n",
    "        marginal_cost_hydro = 0\n",
    "\n",
    "        n.add(\"StorageUnit\",\n",
    "            name=f\"hydro{country}\",\n",
    "            bus=country,\n",
    "            p_nom_extendable=True,\n",
    "            capital_cost=capital_cost_hydro,\n",
    "            marginal_cost=0,\n",
    "            efficiency_store=1.0,       # inflow enters fully\n",
    "            efficiency_dispatch=0.9,    # turbine efficiency\n",
    "            max_hours=2000,             # max energy storage in MWh per MW of power capacity\n",
    "            inflow=df_hydro_inflow.values.flatten(),  # energy inflow time series in MW\n",
    "            carrier=\"hydro\")\n",
    "\n",
    "\n",
    "    # Add storage unit\n",
    "    n.add(\"StorageUnit\",\n",
    "                f\"battery{country}\",\n",
    "                bus=country,\n",
    "                p_nom_extendable=True,\n",
    "                capital_cost=12894+24678,\n",
    "                efficiency_dispatch=0.96,\n",
    "                efficiency_store=0.96,\n",
    "                max_hours=2,\n",
    "                cyclic_state_of_charge=True)\n",
    "    \n",
    "\n",
    "\n"
   ]
  },
  {
   "cell_type": "code",
   "execution_count": 183,
   "id": "35d83000",
   "metadata": {},
   "outputs": [
    {
     "data": {
      "text/plain": [
       "'\\nn.add(\\n    \"Line\",\\n    \"DNK-AUT\",\\n    bus0=\"DNK\",\\n    bus1=\"AUT\",\\n    s_nom = 300,\\n    x = 1,\\n    r = 1,\\n    #capital_cost = capital_cost_lines * distances[(\"DNK\", \"AUT\")],\\n    #s_nom_extendable = True\\n)\\n'"
      ]
     },
     "execution_count": 183,
     "metadata": {},
     "output_type": "execute_result"
    }
   ],
   "source": [
    "# Add AC lines between the countries\n",
    "distances = {\n",
    "    (\"DEU\", \"DNK\"): 406, # km\n",
    "    (\"DEU\", \"AUT\"): 622, # km\n",
    "    (\"DNK\", \"AUT\"): 909, # km\n",
    "}\n",
    "\n",
    "capital_cost_lines = 400 # in €/MW/km\n",
    "\n",
    "n.add(\n",
    "    \"Line\",\n",
    "    \"DEU-DNK\",\n",
    "    bus0=\"DEU\",\n",
    "    bus1=\"DNK\",\n",
    "    s_nom = 2500,\n",
    "    x = 1,\n",
    "    r = 1,\n",
    "    #capital_cost = capital_cost_lines * distances[(\"DEU\", \"DNK\")],\n",
    "    #s_nom_extendable = True\n",
    ")\n",
    "\n",
    "n.add(\n",
    "    \"Line\",\n",
    "    \"DEU-AUT\",\n",
    "    bus0=\"DEU\",\n",
    "    bus1=\"AUT\",\n",
    "    s_nom = 6500,\n",
    "    x = 1,\n",
    "    r = 1,\n",
    "    #capital_cost = capital_cost_lines * distances[(\"DEU\", \"AUT\")],\n",
    "    #s_nom_extendable = True\n",
    ")\n",
    "\n",
    "'''\n",
    "n.add(\n",
    "    \"Line\",\n",
    "    \"DNK-AUT\",\n",
    "    bus0=\"DNK\",\n",
    "    bus1=\"AUT\",\n",
    "    s_nom = 300,\n",
    "    x = 1,\n",
    "    r = 1,\n",
    "    #capital_cost = capital_cost_lines * distances[(\"DNK\", \"AUT\")],\n",
    "    #s_nom_extendable = True\n",
    ")\n",
    "'''"
   ]
  },
  {
   "cell_type": "code",
   "execution_count": 184,
   "id": "c9419297",
   "metadata": {},
   "outputs": [
    {
     "data": {
      "text/html": [
       "<div>\n",
       "<style scoped>\n",
       "    .dataframe tbody tr th:only-of-type {\n",
       "        vertical-align: middle;\n",
       "    }\n",
       "\n",
       "    .dataframe tbody tr th {\n",
       "        vertical-align: top;\n",
       "    }\n",
       "\n",
       "    .dataframe thead th {\n",
       "        text-align: right;\n",
       "    }\n",
       "</style>\n",
       "<table border=\"1\" class=\"dataframe\">\n",
       "  <thead>\n",
       "    <tr style=\"text-align: right;\">\n",
       "      <th></th>\n",
       "      <th>bus0</th>\n",
       "      <th>bus1</th>\n",
       "      <th>type</th>\n",
       "      <th>x</th>\n",
       "      <th>r</th>\n",
       "      <th>g</th>\n",
       "      <th>b</th>\n",
       "      <th>s_nom</th>\n",
       "      <th>s_nom_mod</th>\n",
       "      <th>s_nom_extendable</th>\n",
       "      <th>...</th>\n",
       "      <th>v_ang_min</th>\n",
       "      <th>v_ang_max</th>\n",
       "      <th>sub_network</th>\n",
       "      <th>x_pu</th>\n",
       "      <th>r_pu</th>\n",
       "      <th>g_pu</th>\n",
       "      <th>b_pu</th>\n",
       "      <th>x_pu_eff</th>\n",
       "      <th>r_pu_eff</th>\n",
       "      <th>s_nom_opt</th>\n",
       "    </tr>\n",
       "    <tr>\n",
       "      <th>Line</th>\n",
       "      <th></th>\n",
       "      <th></th>\n",
       "      <th></th>\n",
       "      <th></th>\n",
       "      <th></th>\n",
       "      <th></th>\n",
       "      <th></th>\n",
       "      <th></th>\n",
       "      <th></th>\n",
       "      <th></th>\n",
       "      <th></th>\n",
       "      <th></th>\n",
       "      <th></th>\n",
       "      <th></th>\n",
       "      <th></th>\n",
       "      <th></th>\n",
       "      <th></th>\n",
       "      <th></th>\n",
       "      <th></th>\n",
       "      <th></th>\n",
       "      <th></th>\n",
       "    </tr>\n",
       "  </thead>\n",
       "  <tbody>\n",
       "    <tr>\n",
       "      <th>DEU-DNK</th>\n",
       "      <td>DEU</td>\n",
       "      <td>DNK</td>\n",
       "      <td></td>\n",
       "      <td>1.0</td>\n",
       "      <td>1.0</td>\n",
       "      <td>0.0</td>\n",
       "      <td>0.0</td>\n",
       "      <td>2500.0</td>\n",
       "      <td>0.0</td>\n",
       "      <td>False</td>\n",
       "      <td>...</td>\n",
       "      <td>-inf</td>\n",
       "      <td>inf</td>\n",
       "      <td></td>\n",
       "      <td>0.0</td>\n",
       "      <td>0.0</td>\n",
       "      <td>0.0</td>\n",
       "      <td>0.0</td>\n",
       "      <td>0.0</td>\n",
       "      <td>0.0</td>\n",
       "      <td>0.0</td>\n",
       "    </tr>\n",
       "    <tr>\n",
       "      <th>DEU-AUT</th>\n",
       "      <td>DEU</td>\n",
       "      <td>AUT</td>\n",
       "      <td></td>\n",
       "      <td>1.0</td>\n",
       "      <td>1.0</td>\n",
       "      <td>0.0</td>\n",
       "      <td>0.0</td>\n",
       "      <td>6500.0</td>\n",
       "      <td>0.0</td>\n",
       "      <td>False</td>\n",
       "      <td>...</td>\n",
       "      <td>-inf</td>\n",
       "      <td>inf</td>\n",
       "      <td></td>\n",
       "      <td>0.0</td>\n",
       "      <td>0.0</td>\n",
       "      <td>0.0</td>\n",
       "      <td>0.0</td>\n",
       "      <td>0.0</td>\n",
       "      <td>0.0</td>\n",
       "      <td>0.0</td>\n",
       "    </tr>\n",
       "  </tbody>\n",
       "</table>\n",
       "<p>2 rows × 31 columns</p>\n",
       "</div>"
      ],
      "text/plain": [
       "        bus0 bus1 type    x    r    g    b   s_nom  s_nom_mod  \\\n",
       "Line                                                            \n",
       "DEU-DNK  DEU  DNK       1.0  1.0  0.0  0.0  2500.0        0.0   \n",
       "DEU-AUT  DEU  AUT       1.0  1.0  0.0  0.0  6500.0        0.0   \n",
       "\n",
       "         s_nom_extendable  ...  v_ang_min  v_ang_max  sub_network  x_pu  r_pu  \\\n",
       "Line                       ...                                                  \n",
       "DEU-DNK             False  ...       -inf        inf                0.0   0.0   \n",
       "DEU-AUT             False  ...       -inf        inf                0.0   0.0   \n",
       "\n",
       "         g_pu  b_pu  x_pu_eff r_pu_eff  s_nom_opt  \n",
       "Line                                               \n",
       "DEU-DNK   0.0   0.0       0.0      0.0        0.0  \n",
       "DEU-AUT   0.0   0.0       0.0      0.0        0.0  \n",
       "\n",
       "[2 rows x 31 columns]"
      ]
     },
     "execution_count": 184,
     "metadata": {},
     "output_type": "execute_result"
    }
   ],
   "source": [
    "n.lines"
   ]
  },
  {
   "cell_type": "code",
   "execution_count": 185,
   "id": "048197a8",
   "metadata": {},
   "outputs": [
    {
     "name": "stderr",
     "output_type": "stream",
     "text": [
      "c:\\Users\\alexk\\AppData\\Local\\Programs\\Python\\Python311\\Lib\\site-packages\\cartopy\\mpl\\feature_artist.py:144: UserWarning: facecolor will have no effect as it has been defined as \"never\".\n",
      "  warnings.warn('facecolor will have no effect as it has been '\n"
     ]
    },
    {
     "data": {
      "text/plain": [
       "(<matplotlib.collections.PatchCollection at 0x279535acb50>,\n",
       " <matplotlib.collections.LineCollection at 0x27956499e90>)"
      ]
     },
     "execution_count": 185,
     "metadata": {},
     "output_type": "execute_result"
    },
    {
     "data": {
      "image/png": "[encoded data removed]",
      "text/plain": [
       "<Figure size 640x480 with 1 Axes>"
      ]
     },
     "metadata": {},
     "output_type": "display_data"
    }
   ],
   "source": [
    "n.plot(bus_sizes=1, margin=1)"
   ]
  },
  {
   "cell_type": "code",
   "execution_count": 186,
   "id": "30c0712d",
   "metadata": {},
   "outputs": [
    {
     "data": {
      "text/plain": [
       "Index(['CO2Limit'], dtype='object')"
      ]
     },
     "execution_count": 186,
     "metadata": {},
     "output_type": "execute_result"
    }
   ],
   "source": [
    "\n",
    "# Co2 Cap\n",
    "CO2_limit = (152 + 4.9 + 6.0) #MtCO2 just electricity\n",
    "\n",
    "n.add(\n",
    "    \"GlobalConstraint\",\n",
    "    \"CO2Limit\",\n",
    "    carrier_attribute=\"co2_emissions\",\n",
    "    sense=\"<=\",\n",
    "    constant= CO2_limit * 1000000, #152MtCO2 for GE + 6.0 for DK (https://www.nowtricity.com/country/denmark/) + 4.9 for AT (https://www.nowtricity.com/country/austria)\n",
    ")\n"
   ]
  },
  {
   "cell_type": "code",
   "execution_count": 187,
   "id": "8bbf6ec4",
   "metadata": {},
   "outputs": [
    {
     "name": "stderr",
     "output_type": "stream",
     "text": [
      "WARNING:pypsa.consistency:The following buses have carriers which are not defined:\n",
      "Index(['DEU', 'DNK', 'AUT'], dtype='object', name='Bus')\n",
      "WARNING:pypsa.consistency:The following lines have carriers which are not defined:\n",
      "Index(['DEU-DNK', 'DEU-AUT'], dtype='object', name='Line')\n",
      "INFO:linopy.model: Solve problem using Gurobi solver\n",
      "INFO:linopy.io:Writing objective.\n",
      "Writing constraints.: 100%|\u001b[38;2;128;191;255m██████████\u001b[0m| 17/17 [00:02<00:00,  5.94it/s]\n",
      "Writing continuous variables.: 100%|\u001b[38;2;128;191;255m██████████\u001b[0m| 8/8 [00:00<00:00, 16.30it/s]\n",
      "INFO:linopy.io: Writing time: 3.44s\n"
     ]
    },
    {
     "name": "stdout",
     "output_type": "stream",
     "text": [
      "Set parameter Username\n"
     ]
    },
    {
     "name": "stderr",
     "output_type": "stream",
     "text": [
      "INFO:gurobipy:Set parameter Username\n"
     ]
    },
    {
     "name": "stdout",
     "output_type": "stream",
     "text": [
      "Academic license - for non-commercial use only - expires 2025-09-04\n"
     ]
    },
    {
     "name": "stderr",
     "output_type": "stream",
     "text": [
      "INFO:gurobipy:Academic license - for non-commercial use only - expires 2025-09-04\n"
     ]
    },
    {
     "name": "stdout",
     "output_type": "stream",
     "text": [
      "Read LP format model from file C:\\Users\\alexk\\AppData\\Local\\Temp\\linopy-problem-78gynqyh.lp\n"
     ]
    },
    {
     "name": "stderr",
     "output_type": "stream",
     "text": [
      "INFO:gurobipy:Read LP format model from file C:\\Users\\alexk\\AppData\\Local\\Temp\\linopy-problem-78gynqyh.lp\n"
     ]
    },
    {
     "name": "stdout",
     "output_type": "stream",
     "text": [
      "Reading time = 1.13 seconds\n"
     ]
    },
    {
     "name": "stderr",
     "output_type": "stream",
     "text": [
      "INFO:gurobipy:Reading time = 1.13 seconds\n"
     ]
    },
    {
     "name": "stdout",
     "output_type": "stream",
     "text": [
      "obj: 499336 rows, 227775 columns, 1012000 nonzeros\n"
     ]
    },
    {
     "name": "stderr",
     "output_type": "stream",
     "text": [
      "INFO:gurobipy:obj: 499336 rows, 227775 columns, 1012000 nonzeros\n"
     ]
    },
    {
     "name": "stdout",
     "output_type": "stream",
     "text": [
      "Gurobi Optimizer version 11.0.3 build v11.0.3rc0 (win64 - Windows 11.0 (22631.2))\n"
     ]
    },
    {
     "name": "stderr",
     "output_type": "stream",
     "text": [
      "INFO:gurobipy:Gurobi Optimizer version 11.0.3 build v11.0.3rc0 (win64 - Windows 11.0 (22631.2))\n"
     ]
    },
    {
     "name": "stdout",
     "output_type": "stream",
     "text": [
      "\n"
     ]
    },
    {
     "name": "stderr",
     "output_type": "stream",
     "text": [
      "INFO:gurobipy:\n"
     ]
    },
    {
     "name": "stdout",
     "output_type": "stream",
     "text": [
      "CPU model: AMD Ryzen 5 4600H with Radeon Graphics, instruction set [SSE2|AVX|AVX2]\n"
     ]
    },
    {
     "name": "stderr",
     "output_type": "stream",
     "text": [
      "INFO:gurobipy:CPU model: AMD Ryzen 5 4600H with Radeon Graphics, instruction set [SSE2|AVX|AVX2]\n"
     ]
    },
    {
     "name": "stdout",
     "output_type": "stream",
     "text": [
      "Thread count: 6 physical cores, 12 logical processors, using up to 12 threads\n"
     ]
    },
    {
     "name": "stderr",
     "output_type": "stream",
     "text": [
      "INFO:gurobipy:Thread count: 6 physical cores, 12 logical processors, using up to 12 threads\n"
     ]
    },
    {
     "name": "stdout",
     "output_type": "stream",
     "text": [
      "\n"
     ]
    },
    {
     "name": "stderr",
     "output_type": "stream",
     "text": [
      "INFO:gurobipy:\n"
     ]
    },
    {
     "name": "stdout",
     "output_type": "stream",
     "text": [
      "Optimize a model with 499336 rows, 227775 columns and 1012000 nonzeros\n"
     ]
    },
    {
     "name": "stderr",
     "output_type": "stream",
     "text": [
      "INFO:gurobipy:Optimize a model with 499336 rows, 227775 columns and 1012000 nonzeros\n"
     ]
    },
    {
     "name": "stdout",
     "output_type": "stream",
     "text": [
      "Model fingerprint: 0xa45e9cb0\n"
     ]
    },
    {
     "name": "stderr",
     "output_type": "stream",
     "text": [
      "INFO:gurobipy:Model fingerprint: 0xa45e9cb0\n"
     ]
    },
    {
     "name": "stdout",
     "output_type": "stream",
     "text": [
      "Coefficient statistics:\n"
     ]
    },
    {
     "name": "stderr",
     "output_type": "stream",
     "text": [
      "INFO:gurobipy:Coefficient statistics:\n"
     ]
    },
    {
     "name": "stdout",
     "output_type": "stream",
     "text": [
      "  Matrix range     [1e-03, 2e+03]\n"
     ]
    },
    {
     "name": "stderr",
     "output_type": "stream",
     "text": [
      "INFO:gurobipy:  Matrix range     [1e-03, 2e+03]\n"
     ]
    },
    {
     "name": "stdout",
     "output_type": "stream",
     "text": [
      "  Objective range  [1e+01, 3e+05]\n"
     ]
    },
    {
     "name": "stderr",
     "output_type": "stream",
     "text": [
      "INFO:gurobipy:  Objective range  [1e+01, 3e+05]\n"
     ]
    },
    {
     "name": "stdout",
     "output_type": "stream",
     "text": [
      "  Bounds range     [1e+03, 6e+03]\n"
     ]
    },
    {
     "name": "stderr",
     "output_type": "stream",
     "text": [
      "INFO:gurobipy:  Bounds range     [1e+03, 6e+03]\n"
     ]
    },
    {
     "name": "stdout",
     "output_type": "stream",
     "text": [
      "  RHS range        [1e+03, 2e+08]\n"
     ]
    },
    {
     "name": "stderr",
     "output_type": "stream",
     "text": [
      "INFO:gurobipy:  RHS range        [1e+03, 2e+08]\n"
     ]
    },
    {
     "name": "stdout",
     "output_type": "stream",
     "text": [
      "Presolve removed 249469 rows and 12934 columns\n"
     ]
    },
    {
     "name": "stderr",
     "output_type": "stream",
     "text": [
      "INFO:gurobipy:Presolve removed 249469 rows and 12934 columns\n"
     ]
    },
    {
     "name": "stdout",
     "output_type": "stream",
     "text": [
      "Presolve time: 0.77s\n"
     ]
    },
    {
     "name": "stderr",
     "output_type": "stream",
     "text": [
      "INFO:gurobipy:Presolve time: 0.77s\n"
     ]
    },
    {
     "name": "stdout",
     "output_type": "stream",
     "text": [
      "Presolved: 249867 rows, 214841 columns, 749597 nonzeros\n"
     ]
    },
    {
     "name": "stderr",
     "output_type": "stream",
     "text": [
      "INFO:gurobipy:Presolved: 249867 rows, 214841 columns, 749597 nonzeros\n"
     ]
    },
    {
     "name": "stdout",
     "output_type": "stream",
     "text": [
      "\n"
     ]
    },
    {
     "name": "stderr",
     "output_type": "stream",
     "text": [
      "INFO:gurobipy:\n"
     ]
    },
    {
     "name": "stdout",
     "output_type": "stream",
     "text": [
      "Concurrent LP optimizer: primal simplex, dual simplex, and barrier\n"
     ]
    },
    {
     "name": "stderr",
     "output_type": "stream",
     "text": [
      "INFO:gurobipy:Concurrent LP optimizer: primal simplex, dual simplex, and barrier\n"
     ]
    },
    {
     "name": "stdout",
     "output_type": "stream",
     "text": [
      "Showing barrier log only...\n"
     ]
    },
    {
     "name": "stderr",
     "output_type": "stream",
     "text": [
      "INFO:gurobipy:Showing barrier log only...\n"
     ]
    },
    {
     "name": "stdout",
     "output_type": "stream",
     "text": [
      "\n"
     ]
    },
    {
     "name": "stderr",
     "output_type": "stream",
     "text": [
      "INFO:gurobipy:\n"
     ]
    },
    {
     "name": "stdout",
     "output_type": "stream",
     "text": [
      "Ordering time: 0.24s\n"
     ]
    },
    {
     "name": "stderr",
     "output_type": "stream",
     "text": [
      "INFO:gurobipy:Ordering time: 0.24s\n"
     ]
    },
    {
     "name": "stdout",
     "output_type": "stream",
     "text": [
      "\n"
     ]
    },
    {
     "name": "stderr",
     "output_type": "stream",
     "text": [
      "INFO:gurobipy:\n"
     ]
    },
    {
     "name": "stdout",
     "output_type": "stream",
     "text": [
      "Barrier statistics:\n"
     ]
    },
    {
     "name": "stderr",
     "output_type": "stream",
     "text": [
      "INFO:gurobipy:Barrier statistics:\n"
     ]
    },
    {
     "name": "stdout",
     "output_type": "stream",
     "text": [
      " Dense cols : 15\n"
     ]
    },
    {
     "name": "stderr",
     "output_type": "stream",
     "text": [
      "INFO:gurobipy: Dense cols : 15\n"
     ]
    },
    {
     "name": "stdout",
     "output_type": "stream",
     "text": [
      " AA' NZ     : 6.311e+05\n"
     ]
    },
    {
     "name": "stderr",
     "output_type": "stream",
     "text": [
      "INFO:gurobipy: AA' NZ     : 6.311e+05\n"
     ]
    },
    {
     "name": "stdout",
     "output_type": "stream",
     "text": [
      " Factor NZ  : 4.485e+06 (roughly 220 MB of memory)\n"
     ]
    },
    {
     "name": "stderr",
     "output_type": "stream",
     "text": [
      "INFO:gurobipy: Factor NZ  : 4.485e+06 (roughly 220 MB of memory)\n"
     ]
    },
    {
     "name": "stdout",
     "output_type": "stream",
     "text": [
      " Factor Ops : 9.751e+07 (less than 1 second per iteration)\n"
     ]
    },
    {
     "name": "stderr",
     "output_type": "stream",
     "text": [
      "INFO:gurobipy: Factor Ops : 9.751e+07 (less than 1 second per iteration)\n"
     ]
    },
    {
     "name": "stdout",
     "output_type": "stream",
     "text": [
      " Threads    : 1\n"
     ]
    },
    {
     "name": "stderr",
     "output_type": "stream",
     "text": [
      "INFO:gurobipy: Threads    : 1\n"
     ]
    },
    {
     "name": "stdout",
     "output_type": "stream",
     "text": [
      "\n"
     ]
    },
    {
     "name": "stderr",
     "output_type": "stream",
     "text": [
      "INFO:gurobipy:\n"
     ]
    },
    {
     "name": "stdout",
     "output_type": "stream",
     "text": [
      "                  Objective                Residual\n"
     ]
    },
    {
     "name": "stderr",
     "output_type": "stream",
     "text": [
      "INFO:gurobipy:                  Objective                Residual\n"
     ]
    },
    {
     "name": "stdout",
     "output_type": "stream",
     "text": [
      "Iter       Primal          Dual         Primal    Dual     Compl     Time\n"
     ]
    },
    {
     "name": "stderr",
     "output_type": "stream",
     "text": [
      "INFO:gurobipy:Iter       Primal          Dual         Primal    Dual     Compl     Time\n"
     ]
    },
    {
     "name": "stdout",
     "output_type": "stream",
     "text": [
      "   0   1.05020884e+13 -4.54097143e+11  5.10e+10 0.00e+00  4.60e+09     2s\n"
     ]
    },
    {
     "name": "stderr",
     "output_type": "stream",
     "text": [
      "INFO:gurobipy:   0   1.05020884e+13 -4.54097143e+11  5.10e+10 0.00e+00  4.60e+09     2s\n"
     ]
    },
    {
     "name": "stdout",
     "output_type": "stream",
     "text": [
      "   1   1.36058692e+13 -1.55555053e+12  9.77e+09 3.20e+02  1.05e+09     2s\n"
     ]
    },
    {
     "name": "stderr",
     "output_type": "stream",
     "text": [
      "INFO:gurobipy:   1   1.36058692e+13 -1.55555053e+12  9.77e+09 3.20e+02  1.05e+09     2s\n"
     ]
    },
    {
     "name": "stdout",
     "output_type": "stream",
     "text": [
      "   2   1.10062055e+13 -1.55782459e+12  1.31e+09 6.89e+01  2.26e+08     3s\n"
     ]
    },
    {
     "name": "stderr",
     "output_type": "stream",
     "text": [
      "INFO:gurobipy:   2   1.10062055e+13 -1.55782459e+12  1.31e+09 6.89e+01  2.26e+08     3s\n"
     ]
    },
    {
     "name": "stdout",
     "output_type": "stream",
     "text": [
      "   3   4.47210853e+12 -8.74253439e+11  1.11e+08 8.32e+00  3.38e+07     3s\n"
     ]
    },
    {
     "name": "stderr",
     "output_type": "stream",
     "text": [
      "INFO:gurobipy:   3   4.47210853e+12 -8.74253439e+11  1.11e+08 8.32e+00  3.38e+07     3s\n"
     ]
    },
    {
     "name": "stdout",
     "output_type": "stream",
     "text": [
      "   4   2.07321038e+12 -2.91054862e+11  2.84e+07 1.18e+00  8.01e+06     4s\n"
     ]
    },
    {
     "name": "stderr",
     "output_type": "stream",
     "text": [
      "INFO:gurobipy:   4   2.07321038e+12 -2.91054862e+11  2.84e+07 1.18e+00  8.01e+06     4s\n"
     ]
    },
    {
     "name": "stdout",
     "output_type": "stream",
     "text": [
      "   5   8.31650308e+11 -6.34010708e+10  7.54e+06 1.42e-01  2.36e+06     4s\n"
     ]
    },
    {
     "name": "stderr",
     "output_type": "stream",
     "text": [
      "INFO:gurobipy:   5   8.31650308e+11 -6.34010708e+10  7.54e+06 1.42e-01  2.36e+06     4s\n"
     ]
    },
    {
     "name": "stdout",
     "output_type": "stream",
     "text": [
      "   6   2.56411368e+11 -1.36310689e+10  1.71e+06 3.54e-02  6.68e+05     5s\n"
     ]
    },
    {
     "name": "stderr",
     "output_type": "stream",
     "text": [
      "INFO:gurobipy:   6   2.56411368e+11 -1.36310689e+10  1.71e+06 3.54e-02  6.68e+05     5s\n"
     ]
    },
    {
     "name": "stdout",
     "output_type": "stream",
     "text": [
      "   7   1.33270299e+11  2.61250494e+09  7.32e+05 1.68e-02  3.16e+05     5s\n"
     ]
    },
    {
     "name": "stderr",
     "output_type": "stream",
     "text": [
      "INFO:gurobipy:   7   1.33270299e+11  2.61250494e+09  7.32e+05 1.68e-02  3.16e+05     5s\n"
     ]
    },
    {
     "name": "stdout",
     "output_type": "stream",
     "text": [
      "   8   9.07978950e+10  1.12293919e+10  4.12e+05 8.99e-03  1.90e+05     5s\n"
     ]
    },
    {
     "name": "stderr",
     "output_type": "stream",
     "text": [
      "INFO:gurobipy:   8   9.07978950e+10  1.12293919e+10  4.12e+05 8.99e-03  1.90e+05     5s\n"
     ]
    },
    {
     "name": "stdout",
     "output_type": "stream",
     "text": [
      "   9   6.84191456e+10  1.59629983e+10  2.64e+05 5.49e-03  1.25e+05     5s\n"
     ]
    },
    {
     "name": "stderr",
     "output_type": "stream",
     "text": [
      "INFO:gurobipy:   9   6.84191456e+10  1.59629983e+10  2.64e+05 5.49e-03  1.25e+05     5s\n"
     ]
    },
    {
     "name": "stdout",
     "output_type": "stream",
     "text": [
      "  10   5.53711728e+10  1.99287925e+10  1.79e+05 2.92e-03  8.37e+04     6s\n"
     ]
    },
    {
     "name": "stderr",
     "output_type": "stream",
     "text": [
      "INFO:gurobipy:  10   5.53711728e+10  1.99287925e+10  1.79e+05 2.92e-03  8.37e+04     6s\n"
     ]
    },
    {
     "name": "stdout",
     "output_type": "stream",
     "text": [
      "  11   4.85372771e+10  2.25328865e+10  1.33e+05 1.52e-03  6.12e+04     6s\n"
     ]
    },
    {
     "name": "stderr",
     "output_type": "stream",
     "text": [
      "INFO:gurobipy:  11   4.85372771e+10  2.25328865e+10  1.33e+05 1.52e-03  6.12e+04     6s\n"
     ]
    },
    {
     "name": "stdout",
     "output_type": "stream",
     "text": [
      "  12   4.18632912e+10  2.47658059e+10  8.65e+04 5.90e-04  4.01e+04     6s\n"
     ]
    },
    {
     "name": "stderr",
     "output_type": "stream",
     "text": [
      "INFO:gurobipy:  12   4.18632912e+10  2.47658059e+10  8.65e+04 5.90e-04  4.01e+04     6s\n"
     ]
    },
    {
     "name": "stdout",
     "output_type": "stream",
     "text": [
      "  13   3.82876015e+10  2.61859923e+10  6.16e+04 1.90e-04  2.84e+04     7s\n"
     ]
    },
    {
     "name": "stderr",
     "output_type": "stream",
     "text": [
      "INFO:gurobipy:  13   3.82876015e+10  2.61859923e+10  6.16e+04 1.90e-04  2.84e+04     7s\n"
     ]
    },
    {
     "name": "stdout",
     "output_type": "stream",
     "text": [
      "  14   3.55434174e+10  2.72882964e+10  4.13e+04 4.80e-10  1.93e+04     7s\n"
     ]
    },
    {
     "name": "stderr",
     "output_type": "stream",
     "text": [
      "INFO:gurobipy:  14   3.55434174e+10  2.72882964e+10  4.13e+04 4.80e-10  1.93e+04     7s\n"
     ]
    },
    {
     "name": "stdout",
     "output_type": "stream",
     "text": [
      "  15   3.52155827e+10  2.76853838e+10  3.87e+04 1.00e-09  1.76e+04     8s\n"
     ]
    },
    {
     "name": "stderr",
     "output_type": "stream",
     "text": [
      "INFO:gurobipy:  15   3.52155827e+10  2.76853838e+10  3.87e+04 1.00e-09  1.76e+04     8s\n"
     ]
    },
    {
     "name": "stdout",
     "output_type": "stream",
     "text": [
      "  16   3.49319156e+10  2.82063524e+10  3.66e+04 2.90e-09  1.57e+04     8s\n"
     ]
    },
    {
     "name": "stderr",
     "output_type": "stream",
     "text": [
      "INFO:gurobipy:  16   3.49319156e+10  2.82063524e+10  3.66e+04 2.90e-09  1.57e+04     8s\n"
     ]
    },
    {
     "name": "stdout",
     "output_type": "stream",
     "text": [
      "  17   3.35686172e+10  2.84880479e+10  2.66e+04 2.80e-09  1.19e+04     8s\n"
     ]
    },
    {
     "name": "stderr",
     "output_type": "stream",
     "text": [
      "INFO:gurobipy:  17   3.35686172e+10  2.84880479e+10  2.66e+04 2.80e-09  1.19e+04     8s\n"
     ]
    },
    {
     "name": "stdout",
     "output_type": "stream",
     "text": [
      "  18   3.28142061e+10  2.85214761e+10  2.09e+04 3.05e-10  1.00e+04     9s\n"
     ]
    },
    {
     "name": "stderr",
     "output_type": "stream",
     "text": [
      "INFO:gurobipy:  18   3.28142061e+10  2.85214761e+10  2.09e+04 3.05e-10  1.00e+04     9s\n"
     ]
    },
    {
     "name": "stdout",
     "output_type": "stream",
     "text": [
      "  19   3.25862698e+10  2.86465418e+10  1.92e+04 2.80e-09  9.22e+03     9s\n"
     ]
    },
    {
     "name": "stderr",
     "output_type": "stream",
     "text": [
      "INFO:gurobipy:  19   3.25862698e+10  2.86465418e+10  1.92e+04 2.80e-09  9.22e+03     9s\n"
     ]
    },
    {
     "name": "stdout",
     "output_type": "stream",
     "text": [
      "  20   3.23981544e+10  2.88562401e+10  1.79e+04 9.16e-10  8.28e+03    10s\n"
     ]
    },
    {
     "name": "stderr",
     "output_type": "stream",
     "text": [
      "INFO:gurobipy:  20   3.23981544e+10  2.88562401e+10  1.79e+04 9.16e-10  8.28e+03    10s\n"
     ]
    },
    {
     "name": "stdout",
     "output_type": "stream",
     "text": [
      "  21   3.21449813e+10  2.90098870e+10  1.61e+04 2.39e-09  7.33e+03    10s\n"
     ]
    },
    {
     "name": "stderr",
     "output_type": "stream",
     "text": [
      "INFO:gurobipy:  21   3.21449813e+10  2.90098870e+10  1.61e+04 2.39e-09  7.33e+03    10s\n"
     ]
    },
    {
     "name": "stdout",
     "output_type": "stream",
     "text": [
      "  22   3.20405547e+10  2.90992013e+10  1.52e+04 2.14e-09  6.88e+03    11s\n"
     ]
    },
    {
     "name": "stderr",
     "output_type": "stream",
     "text": [
      "INFO:gurobipy:  22   3.20405547e+10  2.90992013e+10  1.52e+04 2.14e-09  6.88e+03    11s\n"
     ]
    },
    {
     "name": "stdout",
     "output_type": "stream",
     "text": [
      "  23   3.18398890e+10  2.92898752e+10  1.36e+04 4.20e-09  5.96e+03    11s\n"
     ]
    },
    {
     "name": "stderr",
     "output_type": "stream",
     "text": [
      "INFO:gurobipy:  23   3.18398890e+10  2.92898752e+10  1.36e+04 4.20e-09  5.96e+03    11s\n"
     ]
    },
    {
     "name": "stdout",
     "output_type": "stream",
     "text": [
      "  24   3.15941535e+10  2.93812129e+10  1.13e+04 3.93e-09  5.17e+03    12s\n"
     ]
    },
    {
     "name": "stderr",
     "output_type": "stream",
     "text": [
      "INFO:gurobipy:  24   3.15941535e+10  2.93812129e+10  1.13e+04 3.93e-09  5.17e+03    12s\n"
     ]
    },
    {
     "name": "stdout",
     "output_type": "stream",
     "text": [
      "  25   3.12103887e+10  2.95418397e+10  7.84e+03 5.54e-09  3.90e+03    12s\n"
     ]
    },
    {
     "name": "stderr",
     "output_type": "stream",
     "text": [
      "INFO:gurobipy:  25   3.12103887e+10  2.95418397e+10  7.84e+03 5.54e-09  3.90e+03    12s\n"
     ]
    },
    {
     "name": "stdout",
     "output_type": "stream",
     "text": [
      "  26   3.10202180e+10  2.96534220e+10  6.32e+03 1.54e-08  3.20e+03    12s\n"
     ]
    },
    {
     "name": "stderr",
     "output_type": "stream",
     "text": [
      "INFO:gurobipy:  26   3.10202180e+10  2.96534220e+10  6.32e+03 1.54e-08  3.20e+03    12s\n"
     ]
    },
    {
     "name": "stdout",
     "output_type": "stream",
     "text": [
      "  27   3.09072764e+10  2.97253973e+10  5.19e+03 1.69e-08  2.76e+03    13s\n"
     ]
    },
    {
     "name": "stderr",
     "output_type": "stream",
     "text": [
      "INFO:gurobipy:  27   3.09072764e+10  2.97253973e+10  5.19e+03 1.69e-08  2.76e+03    13s\n"
     ]
    },
    {
     "name": "stdout",
     "output_type": "stream",
     "text": [
      "  28   3.07280670e+10  2.98456575e+10  3.55e+03 1.91e-08  2.06e+03    13s\n"
     ]
    },
    {
     "name": "stderr",
     "output_type": "stream",
     "text": [
      "INFO:gurobipy:  28   3.07280670e+10  2.98456575e+10  3.55e+03 1.91e-08  2.06e+03    13s\n"
     ]
    },
    {
     "name": "stdout",
     "output_type": "stream",
     "text": [
      "  29   3.06595248e+10  2.98940617e+10  3.01e+03 2.18e-08  1.79e+03    14s\n"
     ]
    },
    {
     "name": "stderr",
     "output_type": "stream",
     "text": [
      "INFO:gurobipy:  29   3.06595248e+10  2.98940617e+10  3.01e+03 2.18e-08  1.79e+03    14s\n"
     ]
    },
    {
     "name": "stdout",
     "output_type": "stream",
     "text": [
      "  30   3.06231036e+10  2.99529608e+10  2.74e+03 2.12e-08  1.57e+03    14s\n"
     ]
    },
    {
     "name": "stderr",
     "output_type": "stream",
     "text": [
      "INFO:gurobipy:  30   3.06231036e+10  2.99529608e+10  2.74e+03 2.12e-08  1.57e+03    14s\n"
     ]
    },
    {
     "name": "stdout",
     "output_type": "stream",
     "text": [
      "  31   3.05551962e+10  2.99774791e+10  2.20e+03 2.10e-08  1.35e+03    14s\n"
     ]
    },
    {
     "name": "stderr",
     "output_type": "stream",
     "text": [
      "INFO:gurobipy:  31   3.05551962e+10  2.99774791e+10  2.20e+03 2.10e-08  1.35e+03    14s\n"
     ]
    },
    {
     "name": "stdout",
     "output_type": "stream",
     "text": [
      "  32   3.05248875e+10  3.00081943e+10  1.94e+03 2.00e-08  1.21e+03    15s\n"
     ]
    },
    {
     "name": "stderr",
     "output_type": "stream",
     "text": [
      "INFO:gurobipy:  32   3.05248875e+10  3.00081943e+10  1.94e+03 2.00e-08  1.21e+03    15s\n"
     ]
    },
    {
     "name": "stdout",
     "output_type": "stream",
     "text": [
      "  33   3.05019805e+10  3.00281544e+10  1.72e+03 1.98e-08  1.11e+03    15s\n"
     ]
    },
    {
     "name": "stderr",
     "output_type": "stream",
     "text": [
      "INFO:gurobipy:  33   3.05019805e+10  3.00281544e+10  1.72e+03 1.98e-08  1.11e+03    15s\n"
     ]
    },
    {
     "name": "stdout",
     "output_type": "stream",
     "text": [
      "  34   3.04437887e+10  3.00711646e+10  1.18e+03 1.87e-08  8.71e+02    16s\n"
     ]
    },
    {
     "name": "stderr",
     "output_type": "stream",
     "text": [
      "INFO:gurobipy:  34   3.04437887e+10  3.00711646e+10  1.18e+03 1.87e-08  8.71e+02    16s\n"
     ]
    },
    {
     "name": "stdout",
     "output_type": "stream",
     "text": [
      "  35   3.04275524e+10  3.01283814e+10  1.04e+03 1.55e-08  7.00e+02    16s\n"
     ]
    },
    {
     "name": "stderr",
     "output_type": "stream",
     "text": [
      "INFO:gurobipy:  35   3.04275524e+10  3.01283814e+10  1.04e+03 1.55e-08  7.00e+02    16s\n"
     ]
    },
    {
     "name": "stdout",
     "output_type": "stream",
     "text": [
      "  36   3.03994163e+10  3.01455243e+10  8.25e+02 1.53e-08  5.94e+02    17s\n"
     ]
    },
    {
     "name": "stderr",
     "output_type": "stream",
     "text": [
      "INFO:gurobipy:  36   3.03994163e+10  3.01455243e+10  8.25e+02 1.53e-08  5.94e+02    17s\n"
     ]
    },
    {
     "name": "stdout",
     "output_type": "stream",
     "text": [
      "  37   3.03842872e+10  3.01776210e+10  7.15e+02 2.27e-08  4.83e+02    17s\n"
     ]
    },
    {
     "name": "stderr",
     "output_type": "stream",
     "text": [
      "INFO:gurobipy:  37   3.03842872e+10  3.01776210e+10  7.15e+02 2.27e-08  4.83e+02    17s\n"
     ]
    },
    {
     "name": "stdout",
     "output_type": "stream",
     "text": [
      "  38   3.03778459e+10  3.01936742e+10  6.65e+02 2.51e-08  4.31e+02    17s\n"
     ]
    },
    {
     "name": "stderr",
     "output_type": "stream",
     "text": [
      "INFO:gurobipy:  38   3.03778459e+10  3.01936742e+10  6.65e+02 2.51e-08  4.31e+02    17s\n"
     ]
    },
    {
     "name": "stdout",
     "output_type": "stream",
     "text": [
      "  39   3.03666313e+10  3.02021512e+10  5.66e+02 2.41e-08  3.85e+02    18s\n"
     ]
    },
    {
     "name": "stderr",
     "output_type": "stream",
     "text": [
      "INFO:gurobipy:  39   3.03666313e+10  3.02021512e+10  5.66e+02 2.41e-08  3.85e+02    18s\n"
     ]
    },
    {
     "name": "stdout",
     "output_type": "stream",
     "text": [
      "  40   3.03564694e+10  3.02178255e+10  4.81e+02 2.62e-08  3.24e+02    18s\n"
     ]
    },
    {
     "name": "stderr",
     "output_type": "stream",
     "text": [
      "INFO:gurobipy:  40   3.03564694e+10  3.02178255e+10  4.81e+02 2.62e-08  3.24e+02    18s\n"
     ]
    },
    {
     "name": "stdout",
     "output_type": "stream",
     "text": [
      "  41   3.03475640e+10  3.02238571e+10  4.13e+02 2.47e-08  2.89e+02    19s\n"
     ]
    },
    {
     "name": "stderr",
     "output_type": "stream",
     "text": [
      "INFO:gurobipy:  41   3.03475640e+10  3.02238571e+10  4.13e+02 2.47e-08  2.89e+02    19s\n"
     ]
    },
    {
     "name": "stdout",
     "output_type": "stream",
     "text": [
      "  42   3.03383287e+10  3.02335674e+10  3.39e+02 2.04e-08  2.45e+02    19s\n"
     ]
    },
    {
     "name": "stderr",
     "output_type": "stream",
     "text": [
      "INFO:gurobipy:  42   3.03383287e+10  3.02335674e+10  3.39e+02 2.04e-08  2.45e+02    19s\n"
     ]
    },
    {
     "name": "stdout",
     "output_type": "stream",
     "text": [
      "  43   3.03304632e+10  3.02386238e+10  2.76e+02 1.74e-08  2.15e+02    20s\n"
     ]
    },
    {
     "name": "stderr",
     "output_type": "stream",
     "text": [
      "INFO:gurobipy:  43   3.03304632e+10  3.02386238e+10  2.76e+02 1.74e-08  2.15e+02    20s\n"
     ]
    },
    {
     "name": "stdout",
     "output_type": "stream",
     "text": [
      "  44   3.03265591e+10  3.02450488e+10  2.44e+02 1.80e-08  1.91e+02    20s\n"
     ]
    },
    {
     "name": "stderr",
     "output_type": "stream",
     "text": [
      "INFO:gurobipy:  44   3.03265591e+10  3.02450488e+10  2.44e+02 1.80e-08  1.91e+02    20s\n"
     ]
    },
    {
     "name": "stdout",
     "output_type": "stream",
     "text": [
      "  45   3.03211039e+10  3.02480756e+10  2.00e+02 1.82e-08  1.71e+02    20s\n"
     ]
    },
    {
     "name": "stderr",
     "output_type": "stream",
     "text": [
      "INFO:gurobipy:  45   3.03211039e+10  3.02480756e+10  2.00e+02 1.82e-08  1.71e+02    20s\n"
     ]
    },
    {
     "name": "stdout",
     "output_type": "stream",
     "text": [
      "  46   3.03183999e+10  3.02512343e+10  1.76e+02 1.68e-08  1.57e+02    21s\n"
     ]
    },
    {
     "name": "stderr",
     "output_type": "stream",
     "text": [
      "INFO:gurobipy:  46   3.03183999e+10  3.02512343e+10  1.76e+02 1.68e-08  1.57e+02    21s\n"
     ]
    },
    {
     "name": "stdout",
     "output_type": "stream",
     "text": [
      "  47   3.03139583e+10  3.02578336e+10  1.41e+02 1.29e-08  1.31e+02    21s\n"
     ]
    },
    {
     "name": "stderr",
     "output_type": "stream",
     "text": [
      "INFO:gurobipy:  47   3.03139583e+10  3.02578336e+10  1.41e+02 1.29e-08  1.31e+02    21s\n"
     ]
    },
    {
     "name": "stdout",
     "output_type": "stream",
     "text": [
      "  48   3.03118043e+10  3.02596279e+10  1.24e+02 1.23e-08  1.22e+02    22s\n"
     ]
    },
    {
     "name": "stderr",
     "output_type": "stream",
     "text": [
      "INFO:gurobipy:  48   3.03118043e+10  3.02596279e+10  1.24e+02 1.23e-08  1.22e+02    22s\n"
     ]
    },
    {
     "name": "stdout",
     "output_type": "stream",
     "text": [
      "  49   3.03104439e+10  3.02643891e+10  1.13e+02 1.01e-08  1.08e+02    22s\n"
     ]
    },
    {
     "name": "stderr",
     "output_type": "stream",
     "text": [
      "INFO:gurobipy:  49   3.03104439e+10  3.02643891e+10  1.13e+02 1.01e-08  1.08e+02    22s\n"
     ]
    },
    {
     "name": "stdout",
     "output_type": "stream",
     "text": [
      "  50   3.03093009e+10  3.02694354e+10  1.04e+02 1.56e-08  9.32e+01    22s\n"
     ]
    },
    {
     "name": "stderr",
     "output_type": "stream",
     "text": [
      "INFO:gurobipy:  50   3.03093009e+10  3.02694354e+10  1.04e+02 1.56e-08  9.32e+01    22s\n"
     ]
    },
    {
     "name": "stdout",
     "output_type": "stream",
     "text": [
      "  51   3.03083160e+10  3.02720190e+10  9.64e+01 1.45e-08  8.49e+01    23s\n"
     ]
    },
    {
     "name": "stderr",
     "output_type": "stream",
     "text": [
      "INFO:gurobipy:  51   3.03083160e+10  3.02720190e+10  9.64e+01 1.45e-08  8.49e+01    23s\n"
     ]
    },
    {
     "name": "stdout",
     "output_type": "stream",
     "text": [
      "  52   3.03076933e+10  3.02728915e+10  9.18e+01 1.47e-08  8.14e+01    23s\n"
     ]
    },
    {
     "name": "stderr",
     "output_type": "stream",
     "text": [
      "INFO:gurobipy:  52   3.03076933e+10  3.02728915e+10  9.18e+01 1.47e-08  8.14e+01    23s\n"
     ]
    },
    {
     "name": "stdout",
     "output_type": "stream",
     "text": [
      "  53   3.03062597e+10  3.02762571e+10  8.13e+01 1.75e-08  7.02e+01    23s\n"
     ]
    },
    {
     "name": "stderr",
     "output_type": "stream",
     "text": [
      "INFO:gurobipy:  53   3.03062597e+10  3.02762571e+10  8.13e+01 1.75e-08  7.02e+01    23s\n"
     ]
    },
    {
     "name": "stdout",
     "output_type": "stream",
     "text": [
      "  54   3.03054636e+10  3.02796755e+10  7.53e+01 2.21e-08  6.03e+01    24s\n"
     ]
    },
    {
     "name": "stderr",
     "output_type": "stream",
     "text": [
      "INFO:gurobipy:  54   3.03054636e+10  3.02796755e+10  7.53e+01 2.21e-08  6.03e+01    24s\n"
     ]
    },
    {
     "name": "stdout",
     "output_type": "stream",
     "text": [
      "  55   3.03048891e+10  3.02805527e+10  7.12e+01 3.08e-08  5.69e+01    24s\n"
     ]
    },
    {
     "name": "stderr",
     "output_type": "stream",
     "text": [
      "INFO:gurobipy:  55   3.03048891e+10  3.02805527e+10  7.12e+01 3.08e-08  5.69e+01    24s\n"
     ]
    },
    {
     "name": "stdout",
     "output_type": "stream",
     "text": [
      "  56   3.03041292e+10  3.02814818e+10  6.58e+01 2.93e-08  5.30e+01    25s\n"
     ]
    },
    {
     "name": "stderr",
     "output_type": "stream",
     "text": [
      "INFO:gurobipy:  56   3.03041292e+10  3.02814818e+10  6.58e+01 2.93e-08  5.30e+01    25s\n"
     ]
    },
    {
     "name": "stdout",
     "output_type": "stream",
     "text": [
      "  57   3.03037912e+10  3.02816411e+10  6.31e+01 3.01e-08  5.18e+01    25s\n"
     ]
    },
    {
     "name": "stderr",
     "output_type": "stream",
     "text": [
      "INFO:gurobipy:  57   3.03037912e+10  3.02816411e+10  6.31e+01 3.01e-08  5.18e+01    25s\n"
     ]
    },
    {
     "name": "stdout",
     "output_type": "stream",
     "text": [
      "  58   3.03032271e+10  3.02828550e+10  5.89e+01 3.25e-08  4.76e+01    25s\n"
     ]
    },
    {
     "name": "stderr",
     "output_type": "stream",
     "text": [
      "INFO:gurobipy:  58   3.03032271e+10  3.02828550e+10  5.89e+01 3.25e-08  4.76e+01    25s\n"
     ]
    },
    {
     "name": "stdout",
     "output_type": "stream",
     "text": [
      "  59   3.03021350e+10  3.02839457e+10  5.06e+01 2.95e-08  4.25e+01    26s\n"
     ]
    },
    {
     "name": "stderr",
     "output_type": "stream",
     "text": [
      "INFO:gurobipy:  59   3.03021350e+10  3.02839457e+10  5.06e+01 2.95e-08  4.25e+01    26s\n"
     ]
    },
    {
     "name": "stdout",
     "output_type": "stream",
     "text": [
      "  60   3.03015752e+10  3.02848448e+10  4.66e+01 2.87e-08  3.91e+01    26s\n"
     ]
    },
    {
     "name": "stderr",
     "output_type": "stream",
     "text": [
      "INFO:gurobipy:  60   3.03015752e+10  3.02848448e+10  4.66e+01 2.87e-08  3.91e+01    26s\n"
     ]
    },
    {
     "name": "stdout",
     "output_type": "stream",
     "text": [
      "  61   3.03012074e+10  3.02855218e+10  4.37e+01 3.24e-08  3.67e+01    27s\n"
     ]
    },
    {
     "name": "stderr",
     "output_type": "stream",
     "text": [
      "INFO:gurobipy:  61   3.03012074e+10  3.02855218e+10  4.37e+01 3.24e-08  3.67e+01    27s\n"
     ]
    },
    {
     "name": "stdout",
     "output_type": "stream",
     "text": [
      "  62   3.03006290e+10  3.02862679e+10  3.96e+01 3.58e-08  3.36e+01    27s\n"
     ]
    },
    {
     "name": "stderr",
     "output_type": "stream",
     "text": [
      "INFO:gurobipy:  62   3.03006290e+10  3.02862679e+10  3.96e+01 3.58e-08  3.36e+01    27s\n"
     ]
    },
    {
     "name": "stdout",
     "output_type": "stream",
     "text": [
      "  63   3.03001635e+10  3.02875389e+10  3.63e+01 4.48e-08  2.95e+01    27s\n"
     ]
    },
    {
     "name": "stderr",
     "output_type": "stream",
     "text": [
      "INFO:gurobipy:  63   3.03001635e+10  3.02875389e+10  3.63e+01 4.48e-08  2.95e+01    27s\n"
     ]
    },
    {
     "name": "stdout",
     "output_type": "stream",
     "text": [
      "  64   3.02997823e+10  3.02885124e+10  3.33e+01 4.42e-08  2.64e+01    28s\n"
     ]
    },
    {
     "name": "stderr",
     "output_type": "stream",
     "text": [
      "INFO:gurobipy:  64   3.02997823e+10  3.02885124e+10  3.33e+01 4.42e-08  2.64e+01    28s\n"
     ]
    },
    {
     "name": "stdout",
     "output_type": "stream",
     "text": [
      "  65   3.02995656e+10  3.02886562e+10  3.16e+01 4.71e-08  2.55e+01    28s\n"
     ]
    },
    {
     "name": "stderr",
     "output_type": "stream",
     "text": [
      "INFO:gurobipy:  65   3.02995656e+10  3.02886562e+10  3.16e+01 4.71e-08  2.55e+01    28s\n"
     ]
    },
    {
     "name": "stdout",
     "output_type": "stream",
     "text": [
      "  66   3.02990054e+10  3.02891815e+10  2.71e+01 6.98e-08  2.30e+01    28s\n"
     ]
    },
    {
     "name": "stderr",
     "output_type": "stream",
     "text": [
      "INFO:gurobipy:  66   3.02990054e+10  3.02891815e+10  2.71e+01 6.98e-08  2.30e+01    28s\n"
     ]
    },
    {
     "name": "stdout",
     "output_type": "stream",
     "text": [
      "  67   3.02987583e+10  3.02896309e+10  2.51e+01 1.17e-07  2.13e+01    29s\n"
     ]
    },
    {
     "name": "stderr",
     "output_type": "stream",
     "text": [
      "INFO:gurobipy:  67   3.02987583e+10  3.02896309e+10  2.51e+01 1.17e-07  2.13e+01    29s\n"
     ]
    },
    {
     "name": "stdout",
     "output_type": "stream",
     "text": [
      "  68   3.02982171e+10  3.02899695e+10  2.06e+01 1.05e-07  1.93e+01    29s\n"
     ]
    },
    {
     "name": "stderr",
     "output_type": "stream",
     "text": [
      "INFO:gurobipy:  68   3.02982171e+10  3.02899695e+10  2.06e+01 1.05e-07  1.93e+01    29s\n"
     ]
    },
    {
     "name": "stdout",
     "output_type": "stream",
     "text": [
      "  69   3.02978943e+10  3.02904127e+10  1.79e+01 9.97e-08  1.75e+01    30s\n"
     ]
    },
    {
     "name": "stderr",
     "output_type": "stream",
     "text": [
      "INFO:gurobipy:  69   3.02978943e+10  3.02904127e+10  1.79e+01 9.97e-08  1.75e+01    30s\n"
     ]
    },
    {
     "name": "stdout",
     "output_type": "stream",
     "text": [
      "  70   3.02977544e+10  3.02905916e+10  1.69e+01 1.08e-07  1.68e+01    30s\n"
     ]
    },
    {
     "name": "stderr",
     "output_type": "stream",
     "text": [
      "INFO:gurobipy:  70   3.02977544e+10  3.02905916e+10  1.69e+01 1.08e-07  1.68e+01    30s\n"
     ]
    },
    {
     "name": "stdout",
     "output_type": "stream",
     "text": [
      "  71   3.02975648e+10  3.02908643e+10  1.56e+01 1.23e-07  1.57e+01    30s\n"
     ]
    },
    {
     "name": "stderr",
     "output_type": "stream",
     "text": [
      "INFO:gurobipy:  71   3.02975648e+10  3.02908643e+10  1.56e+01 1.23e-07  1.57e+01    30s\n"
     ]
    },
    {
     "name": "stdout",
     "output_type": "stream",
     "text": [
      "  72   3.02973568e+10  3.02910877e+10  1.38e+01 1.57e-07  1.47e+01    31s\n"
     ]
    },
    {
     "name": "stderr",
     "output_type": "stream",
     "text": [
      "INFO:gurobipy:  72   3.02973568e+10  3.02910877e+10  1.38e+01 1.57e-07  1.47e+01    31s\n"
     ]
    },
    {
     "name": "stdout",
     "output_type": "stream",
     "text": [
      "  73   3.02972634e+10  3.02913174e+10  1.32e+01 1.64e-07  1.39e+01    31s\n"
     ]
    },
    {
     "name": "stderr",
     "output_type": "stream",
     "text": [
      "INFO:gurobipy:  73   3.02972634e+10  3.02913174e+10  1.32e+01 1.64e-07  1.39e+01    31s\n"
     ]
    },
    {
     "name": "stdout",
     "output_type": "stream",
     "text": [
      "  74   3.02971451e+10  3.02917210e+10  1.23e+01 1.89e-07  1.27e+01    32s\n"
     ]
    },
    {
     "name": "stderr",
     "output_type": "stream",
     "text": [
      "INFO:gurobipy:  74   3.02971451e+10  3.02917210e+10  1.23e+01 1.89e-07  1.27e+01    32s\n"
     ]
    },
    {
     "name": "stdout",
     "output_type": "stream",
     "text": [
      "  75   3.02970593e+10  3.02918722e+10  1.16e+01 2.21e-07  1.21e+01    32s\n"
     ]
    },
    {
     "name": "stderr",
     "output_type": "stream",
     "text": [
      "INFO:gurobipy:  75   3.02970593e+10  3.02918722e+10  1.16e+01 2.21e-07  1.21e+01    32s\n"
     ]
    },
    {
     "name": "stdout",
     "output_type": "stream",
     "text": [
      "  76   3.02969393e+10  3.02920725e+10  1.06e+01 2.14e-07  1.14e+01    32s\n"
     ]
    },
    {
     "name": "stderr",
     "output_type": "stream",
     "text": [
      "INFO:gurobipy:  76   3.02969393e+10  3.02920725e+10  1.06e+01 2.14e-07  1.14e+01    32s\n"
     ]
    },
    {
     "name": "stdout",
     "output_type": "stream",
     "text": [
      "  77   3.02968933e+10  3.02921454e+10  1.03e+01 2.16e-07  1.11e+01    33s\n"
     ]
    },
    {
     "name": "stderr",
     "output_type": "stream",
     "text": [
      "INFO:gurobipy:  77   3.02968933e+10  3.02921454e+10  1.03e+01 2.16e-07  1.11e+01    33s\n"
     ]
    },
    {
     "name": "stdout",
     "output_type": "stream",
     "text": [
      "  78   3.02967074e+10  3.02923876e+10  9.09e+00 2.59e-07  1.01e+01    33s\n"
     ]
    },
    {
     "name": "stderr",
     "output_type": "stream",
     "text": [
      "INFO:gurobipy:  78   3.02967074e+10  3.02923876e+10  9.09e+00 2.59e-07  1.01e+01    33s\n"
     ]
    },
    {
     "name": "stdout",
     "output_type": "stream",
     "text": [
      "  79   3.02966266e+10  3.02926186e+10  8.59e+00 2.41e-07  9.38e+00    33s\n"
     ]
    },
    {
     "name": "stderr",
     "output_type": "stream",
     "text": [
      "INFO:gurobipy:  79   3.02966266e+10  3.02926186e+10  8.59e+00 2.41e-07  9.38e+00    33s\n"
     ]
    },
    {
     "name": "stdout",
     "output_type": "stream",
     "text": [
      "  80   3.02965286e+10  3.02928102e+10  7.89e+00 2.41e-07  8.70e+00    34s\n"
     ]
    },
    {
     "name": "stderr",
     "output_type": "stream",
     "text": [
      "INFO:gurobipy:  80   3.02965286e+10  3.02928102e+10  7.89e+00 2.41e-07  8.70e+00    34s\n"
     ]
    },
    {
     "name": "stdout",
     "output_type": "stream",
     "text": [
      "  81   3.02964401e+10  3.02929720e+10  7.21e+00 2.31e-07  8.11e+00    34s\n"
     ]
    },
    {
     "name": "stderr",
     "output_type": "stream",
     "text": [
      "INFO:gurobipy:  81   3.02964401e+10  3.02929720e+10  7.21e+00 2.31e-07  8.11e+00    34s\n"
     ]
    },
    {
     "name": "stdout",
     "output_type": "stream",
     "text": [
      "  82   3.02963892e+10  3.02931088e+10  6.79e+00 3.34e-07  7.67e+00    35s\n"
     ]
    },
    {
     "name": "stderr",
     "output_type": "stream",
     "text": [
      "INFO:gurobipy:  82   3.02963892e+10  3.02931088e+10  6.79e+00 3.34e-07  7.67e+00    35s\n"
     ]
    },
    {
     "name": "stdout",
     "output_type": "stream",
     "text": [
      "  83   3.02963075e+10  3.02932452e+10  6.24e+00 4.39e-07  7.16e+00    35s\n"
     ]
    },
    {
     "name": "stderr",
     "output_type": "stream",
     "text": [
      "INFO:gurobipy:  83   3.02963075e+10  3.02932452e+10  6.24e+00 4.39e-07  7.16e+00    35s\n"
     ]
    },
    {
     "name": "stdout",
     "output_type": "stream",
     "text": [
      "  84   3.02962253e+10  3.02933549e+10  5.58e+00 3.96e-07  6.72e+00    35s\n"
     ]
    },
    {
     "name": "stderr",
     "output_type": "stream",
     "text": [
      "INFO:gurobipy:  84   3.02962253e+10  3.02933549e+10  5.58e+00 3.96e-07  6.72e+00    35s\n"
     ]
    },
    {
     "name": "stdout",
     "output_type": "stream",
     "text": [
      "  85   3.02961332e+10  3.02935729e+10  4.84e+00 6.74e-07  5.99e+00    36s\n"
     ]
    },
    {
     "name": "stderr",
     "output_type": "stream",
     "text": [
      "INFO:gurobipy:  85   3.02961332e+10  3.02935729e+10  4.84e+00 6.74e-07  5.99e+00    36s\n"
     ]
    },
    {
     "name": "stdout",
     "output_type": "stream",
     "text": [
      "  86   3.02960791e+10  3.02936867e+10  4.44e+00 5.97e-07  5.60e+00    36s\n"
     ]
    },
    {
     "name": "stderr",
     "output_type": "stream",
     "text": [
      "INFO:gurobipy:  86   3.02960791e+10  3.02936867e+10  4.44e+00 5.97e-07  5.60e+00    36s\n"
     ]
    },
    {
     "name": "stdout",
     "output_type": "stream",
     "text": [
      "  87   3.02960369e+10  3.02938365e+10  4.08e+00 3.11e-07  5.15e+00    36s\n"
     ]
    },
    {
     "name": "stderr",
     "output_type": "stream",
     "text": [
      "INFO:gurobipy:  87   3.02960369e+10  3.02938365e+10  4.08e+00 3.11e-07  5.15e+00    36s\n"
     ]
    },
    {
     "name": "stdout",
     "output_type": "stream",
     "text": [
      "  88   3.02959888e+10  3.02939672e+10  3.74e+00 1.58e-07  4.73e+00    37s\n"
     ]
    },
    {
     "name": "stderr",
     "output_type": "stream",
     "text": [
      "INFO:gurobipy:  88   3.02959888e+10  3.02939672e+10  3.74e+00 1.58e-07  4.73e+00    37s\n"
     ]
    },
    {
     "name": "stdout",
     "output_type": "stream",
     "text": [
      "  89   3.02959498e+10  3.02940382e+10  3.49e+00 1.55e-07  4.47e+00    37s\n"
     ]
    },
    {
     "name": "stderr",
     "output_type": "stream",
     "text": [
      "INFO:gurobipy:  89   3.02959498e+10  3.02940382e+10  3.49e+00 1.55e-07  4.47e+00    37s\n"
     ]
    },
    {
     "name": "stdout",
     "output_type": "stream",
     "text": [
      "  90   3.02959177e+10  3.02941022e+10  3.28e+00 1.80e-07  4.25e+00    38s\n"
     ]
    },
    {
     "name": "stderr",
     "output_type": "stream",
     "text": [
      "INFO:gurobipy:  90   3.02959177e+10  3.02941022e+10  3.28e+00 1.80e-07  4.25e+00    38s\n"
     ]
    },
    {
     "name": "stdout",
     "output_type": "stream",
     "text": [
      "  91   3.02959095e+10  3.02942540e+10  3.22e+00 4.07e-07  3.87e+00    38s\n"
     ]
    },
    {
     "name": "stderr",
     "output_type": "stream",
     "text": [
      "INFO:gurobipy:  91   3.02959095e+10  3.02942540e+10  3.22e+00 4.07e-07  3.87e+00    38s\n"
     ]
    },
    {
     "name": "stdout",
     "output_type": "stream",
     "text": [
      "  92   3.02958638e+10  3.02943423e+10  2.89e+00 6.07e-07  3.56e+00    38s\n"
     ]
    },
    {
     "name": "stderr",
     "output_type": "stream",
     "text": [
      "INFO:gurobipy:  92   3.02958638e+10  3.02943423e+10  2.89e+00 6.07e-07  3.56e+00    38s\n"
     ]
    },
    {
     "name": "stdout",
     "output_type": "stream",
     "text": [
      "  93   3.02958165e+10  3.02945198e+10  2.48e+00 4.80e-07  3.03e+00    39s\n"
     ]
    },
    {
     "name": "stderr",
     "output_type": "stream",
     "text": [
      "INFO:gurobipy:  93   3.02958165e+10  3.02945198e+10  2.48e+00 4.80e-07  3.03e+00    39s\n"
     ]
    },
    {
     "name": "stdout",
     "output_type": "stream",
     "text": [
      "  94   3.02958019e+10  3.02946389e+10  2.37e+00 1.48e-06  2.72e+00    39s\n"
     ]
    },
    {
     "name": "stderr",
     "output_type": "stream",
     "text": [
      "INFO:gurobipy:  94   3.02958019e+10  3.02946389e+10  2.37e+00 1.48e-06  2.72e+00    39s\n"
     ]
    },
    {
     "name": "stdout",
     "output_type": "stream",
     "text": [
      "  95   3.02957632e+10  3.02946901e+10  2.08e+00 1.90e-06  2.51e+00    39s\n"
     ]
    },
    {
     "name": "stderr",
     "output_type": "stream",
     "text": [
      "INFO:gurobipy:  95   3.02957632e+10  3.02946901e+10  2.08e+00 1.90e-06  2.51e+00    39s\n"
     ]
    },
    {
     "name": "stdout",
     "output_type": "stream",
     "text": [
      "  96   3.02957119e+10  3.02947653e+10  1.62e+00 1.47e-06  2.21e+00    40s\n"
     ]
    },
    {
     "name": "stderr",
     "output_type": "stream",
     "text": [
      "INFO:gurobipy:  96   3.02957119e+10  3.02947653e+10  1.62e+00 1.47e-06  2.21e+00    40s\n"
     ]
    },
    {
     "name": "stdout",
     "output_type": "stream",
     "text": [
      "  97   3.02956823e+10  3.02947968e+10  1.39e+00 1.64e-06  2.07e+00    40s\n"
     ]
    },
    {
     "name": "stderr",
     "output_type": "stream",
     "text": [
      "INFO:gurobipy:  97   3.02956823e+10  3.02947968e+10  1.39e+00 1.64e-06  2.07e+00    40s\n"
     ]
    },
    {
     "name": "stdout",
     "output_type": "stream",
     "text": [
      "  98   3.02956643e+10  3.02948863e+10  1.25e+00 5.93e-06  1.82e+00    41s\n"
     ]
    },
    {
     "name": "stderr",
     "output_type": "stream",
     "text": [
      "INFO:gurobipy:  98   3.02956643e+10  3.02948863e+10  1.25e+00 5.93e-06  1.82e+00    41s\n"
     ]
    },
    {
     "name": "stdout",
     "output_type": "stream",
     "text": [
      "  99   3.02956612e+10  3.02949569e+10  1.22e+00 8.02e-06  1.65e+00    41s\n"
     ]
    },
    {
     "name": "stderr",
     "output_type": "stream",
     "text": [
      "INFO:gurobipy:  99   3.02956612e+10  3.02949569e+10  1.22e+00 8.02e-06  1.65e+00    41s\n"
     ]
    },
    {
     "name": "stdout",
     "output_type": "stream",
     "text": [
      " 100   3.02956108e+10  3.02950121e+10  8.22e-01 6.89e-06  1.40e+00    41s\n"
     ]
    },
    {
     "name": "stderr",
     "output_type": "stream",
     "text": [
      "INFO:gurobipy: 100   3.02956108e+10  3.02950121e+10  8.22e-01 6.89e-06  1.40e+00    41s\n"
     ]
    },
    {
     "name": "stdout",
     "output_type": "stream",
     "text": [
      " 101   3.02955944e+10  3.02950485e+10  6.82e-01 7.23e-06  1.28e+00    42s\n"
     ]
    },
    {
     "name": "stderr",
     "output_type": "stream",
     "text": [
      "INFO:gurobipy: 101   3.02955944e+10  3.02950485e+10  6.82e-01 7.23e-06  1.28e+00    42s\n"
     ]
    },
    {
     "name": "stdout",
     "output_type": "stream",
     "text": [
      " 102   3.02955738e+10  3.02951027e+10  5.16e-01 8.79e-06  1.10e+00    42s\n"
     ]
    },
    {
     "name": "stderr",
     "output_type": "stream",
     "text": [
      "INFO:gurobipy: 102   3.02955738e+10  3.02951027e+10  5.16e-01 8.79e-06  1.10e+00    42s\n"
     ]
    },
    {
     "name": "stdout",
     "output_type": "stream",
     "text": [
      " 103   3.02955437e+10  3.02951574e+10  2.88e-01 1.05e-04  9.04e-01    43s\n"
     ]
    },
    {
     "name": "stderr",
     "output_type": "stream",
     "text": [
      "INFO:gurobipy: 103   3.02955437e+10  3.02951574e+10  2.88e-01 1.05e-04  9.04e-01    43s\n"
     ]
    },
    {
     "name": "stdout",
     "output_type": "stream",
     "text": [
      " 104   3.02955382e+10  3.02951757e+10  2.54e-01 7.42e-06  8.49e-01    43s\n"
     ]
    },
    {
     "name": "stderr",
     "output_type": "stream",
     "text": [
      "INFO:gurobipy: 104   3.02955382e+10  3.02951757e+10  2.54e-01 7.42e-06  8.49e-01    43s\n"
     ]
    },
    {
     "name": "stdout",
     "output_type": "stream",
     "text": [
      " 105   3.02955316e+10  3.02952021e+10  2.05e-01 8.36e-06  7.71e-01    43s\n"
     ]
    },
    {
     "name": "stderr",
     "output_type": "stream",
     "text": [
      "INFO:gurobipy: 105   3.02955316e+10  3.02952021e+10  2.05e-01 8.36e-06  7.71e-01    43s\n"
     ]
    },
    {
     "name": "stdout",
     "output_type": "stream",
     "text": [
      " 106   3.02955302e+10  3.02952340e+10  1.95e-01 9.29e-06  6.94e-01    44s\n"
     ]
    },
    {
     "name": "stderr",
     "output_type": "stream",
     "text": [
      "INFO:gurobipy: 106   3.02955302e+10  3.02952340e+10  1.95e-01 9.29e-06  6.94e-01    44s\n"
     ]
    },
    {
     "name": "stdout",
     "output_type": "stream",
     "text": [
      " 107   3.02955257e+10  3.02953055e+10  1.47e-01 7.75e-06  5.16e-01    44s\n"
     ]
    },
    {
     "name": "stderr",
     "output_type": "stream",
     "text": [
      "INFO:gurobipy: 107   3.02955257e+10  3.02953055e+10  1.47e-01 7.75e-06  5.16e-01    44s\n"
     ]
    },
    {
     "name": "stdout",
     "output_type": "stream",
     "text": [
      " 108   3.02955223e+10  3.02953167e+10  1.24e-01 7.25e-06  4.81e-01    44s\n"
     ]
    },
    {
     "name": "stderr",
     "output_type": "stream",
     "text": [
      "INFO:gurobipy: 108   3.02955223e+10  3.02953167e+10  1.24e-01 7.25e-06  4.81e-01    44s\n"
     ]
    },
    {
     "name": "stdout",
     "output_type": "stream",
     "text": [
      " 109   3.02955198e+10  3.02953292e+10  1.07e-01 6.84e-06  4.46e-01    45s\n"
     ]
    },
    {
     "name": "stderr",
     "output_type": "stream",
     "text": [
      "INFO:gurobipy: 109   3.02955198e+10  3.02953292e+10  1.07e-01 6.84e-06  4.46e-01    45s\n"
     ]
    },
    {
     "name": "stdout",
     "output_type": "stream",
     "text": [
      " 110   3.02955119e+10  3.02953582e+10  4.12e-02 5.70e-06  3.60e-01    45s\n"
     ]
    },
    {
     "name": "stderr",
     "output_type": "stream",
     "text": [
      "INFO:gurobipy: 110   3.02955119e+10  3.02953582e+10  4.12e-02 5.70e-06  3.60e-01    45s\n"
     ]
    },
    {
     "name": "stdout",
     "output_type": "stream",
     "text": [
      " 111   3.02955120e+10  3.02953715e+10  3.87e-02 5.13e-06  3.29e-01    46s\n"
     ]
    },
    {
     "name": "stderr",
     "output_type": "stream",
     "text": [
      "INFO:gurobipy: 111   3.02955120e+10  3.02953715e+10  3.87e-02 5.13e-06  3.29e-01    46s\n"
     ]
    },
    {
     "name": "stdout",
     "output_type": "stream",
     "text": [
      " 112   3.02955102e+10  3.02953741e+10  3.24e-02 5.02e-06  3.19e-01    46s\n"
     ]
    },
    {
     "name": "stderr",
     "output_type": "stream",
     "text": [
      "INFO:gurobipy: 112   3.02955102e+10  3.02953741e+10  3.24e-02 5.02e-06  3.19e-01    46s\n"
     ]
    },
    {
     "name": "stdout",
     "output_type": "stream",
     "text": [
      " 113   3.02955099e+10  3.02953858e+10  2.99e-02 4.60e-06  2.91e-01    46s\n"
     ]
    },
    {
     "name": "stderr",
     "output_type": "stream",
     "text": [
      "INFO:gurobipy: 113   3.02955099e+10  3.02953858e+10  2.99e-02 4.60e-06  2.91e-01    46s\n"
     ]
    },
    {
     "name": "stdout",
     "output_type": "stream",
     "text": [
      " 114   3.02955091e+10  3.02954014e+10  2.63e-02 4.01e-06  2.52e-01    47s\n"
     ]
    },
    {
     "name": "stderr",
     "output_type": "stream",
     "text": [
      "INFO:gurobipy: 114   3.02955091e+10  3.02954014e+10  2.63e-02 4.01e-06  2.52e-01    47s\n"
     ]
    },
    {
     "name": "stdout",
     "output_type": "stream",
     "text": [
      " 115   3.02955087e+10  3.02954073e+10  2.36e-02 3.74e-06  2.38e-01    47s\n"
     ]
    },
    {
     "name": "stderr",
     "output_type": "stream",
     "text": [
      "INFO:gurobipy: 115   3.02955087e+10  3.02954073e+10  2.36e-02 3.74e-06  2.38e-01    47s\n"
     ]
    },
    {
     "name": "stdout",
     "output_type": "stream",
     "text": [
      " 116   3.02955076e+10  3.02954279e+10  1.81e-02 2.96e-06  1.87e-01    48s\n"
     ]
    },
    {
     "name": "stderr",
     "output_type": "stream",
     "text": [
      "INFO:gurobipy: 116   3.02955076e+10  3.02954279e+10  1.81e-02 2.96e-06  1.87e-01    48s\n"
     ]
    },
    {
     "name": "stdout",
     "output_type": "stream",
     "text": [
      " 117   3.02955050e+10  3.02954883e+10  8.66e-06 5.86e-07  3.90e-02    48s\n"
     ]
    },
    {
     "name": "stderr",
     "output_type": "stream",
     "text": [
      "INFO:gurobipy: 117   3.02955050e+10  3.02954883e+10  8.66e-06 5.86e-07  3.90e-02    48s\n"
     ]
    },
    {
     "name": "stdout",
     "output_type": "stream",
     "text": [
      " 118   3.02955048e+10  3.02955008e+10  6.40e-06 1.12e-07  9.24e-03    48s\n"
     ]
    },
    {
     "name": "stderr",
     "output_type": "stream",
     "text": [
      "INFO:gurobipy: 118   3.02955048e+10  3.02955008e+10  6.40e-06 1.12e-07  9.24e-03    48s\n"
     ]
    },
    {
     "name": "stdout",
     "output_type": "stream",
     "text": [
      " 119   3.02955043e+10  3.02955014e+10  6.23e-07 9.35e-08  6.91e-03    49s\n"
     ]
    },
    {
     "name": "stderr",
     "output_type": "stream",
     "text": [
      "INFO:gurobipy: 119   3.02955043e+10  3.02955014e+10  6.23e-07 9.35e-08  6.91e-03    49s\n"
     ]
    },
    {
     "name": "stdout",
     "output_type": "stream",
     "text": [
      " 120   3.02955044e+10  3.02955032e+10  9.99e-07 3.35e-08  2.75e-03    49s\n"
     ]
    },
    {
     "name": "stderr",
     "output_type": "stream",
     "text": [
      "INFO:gurobipy: 120   3.02955044e+10  3.02955032e+10  9.99e-07 3.35e-08  2.75e-03    49s\n"
     ]
    },
    {
     "name": "stdout",
     "output_type": "stream",
     "text": [
      " 121   3.02955043e+10  3.02955042e+10  2.30e-07 2.00e-09  1.24e-04    50s\n"
     ]
    },
    {
     "name": "stderr",
     "output_type": "stream",
     "text": [
      "INFO:gurobipy: 121   3.02955043e+10  3.02955042e+10  2.30e-07 2.00e-09  1.24e-04    50s\n"
     ]
    },
    {
     "name": "stdout",
     "output_type": "stream",
     "text": [
      " 122   3.02955043e+10  3.02955043e+10  6.38e-06 9.97e-09  7.38e-06    50s\n"
     ]
    },
    {
     "name": "stderr",
     "output_type": "stream",
     "text": [
      "INFO:gurobipy: 122   3.02955043e+10  3.02955043e+10  6.38e-06 9.97e-09  7.38e-06    50s\n"
     ]
    },
    {
     "name": "stdout",
     "output_type": "stream",
     "text": [
      " 123   3.02955043e+10  3.02955043e+10  1.90e-05 9.94e-09  3.60e-09    50s\n"
     ]
    },
    {
     "name": "stderr",
     "output_type": "stream",
     "text": [
      "INFO:gurobipy: 123   3.02955043e+10  3.02955043e+10  1.90e-05 9.94e-09  3.60e-09    50s\n"
     ]
    },
    {
     "name": "stdout",
     "output_type": "stream",
     "text": [
      "\n"
     ]
    },
    {
     "name": "stderr",
     "output_type": "stream",
     "text": [
      "INFO:gurobipy:\n"
     ]
    },
    {
     "name": "stdout",
     "output_type": "stream",
     "text": [
      "Barrier solved model in 123 iterations and 50.38 seconds (20.10 work units)\n"
     ]
    },
    {
     "name": "stderr",
     "output_type": "stream",
     "text": [
      "INFO:gurobipy:Barrier solved model in 123 iterations and 50.38 seconds (20.10 work units)\n"
     ]
    },
    {
     "name": "stdout",
     "output_type": "stream",
     "text": [
      "Optimal objective 3.02955043e+10\n"
     ]
    },
    {
     "name": "stderr",
     "output_type": "stream",
     "text": [
      "INFO:gurobipy:Optimal objective 3.02955043e+10\n"
     ]
    },
    {
     "name": "stdout",
     "output_type": "stream",
     "text": [
      "\n"
     ]
    },
    {
     "name": "stderr",
     "output_type": "stream",
     "text": [
      "INFO:gurobipy:\n"
     ]
    },
    {
     "name": "stdout",
     "output_type": "stream",
     "text": [
      "Crossover log...\n"
     ]
    },
    {
     "name": "stderr",
     "output_type": "stream",
     "text": [
      "INFO:gurobipy:Crossover log...\n"
     ]
    },
    {
     "name": "stdout",
     "output_type": "stream",
     "text": [
      "\n"
     ]
    },
    {
     "name": "stderr",
     "output_type": "stream",
     "text": [
      "INFO:gurobipy:\n"
     ]
    },
    {
     "name": "stdout",
     "output_type": "stream",
     "text": [
      "   62097 DPushes remaining with DInf 0.0000000e+00                51s\n"
     ]
    },
    {
     "name": "stderr",
     "output_type": "stream",
     "text": [
      "INFO:gurobipy:   62097 DPushes remaining with DInf 0.0000000e+00                51s\n"
     ]
    },
    {
     "name": "stdout",
     "output_type": "stream",
     "text": [
      "       0 DPushes remaining with DInf 0.0000000e+00                52s\n"
     ]
    },
    {
     "name": "stderr",
     "output_type": "stream",
     "text": [
      "INFO:gurobipy:       0 DPushes remaining with DInf 0.0000000e+00                52s\n"
     ]
    },
    {
     "name": "stdout",
     "output_type": "stream",
     "text": [
      "Warning: Markowitz tolerance tightened to 0.5\n"
     ]
    },
    {
     "name": "stderr",
     "output_type": "stream",
     "text": [
      "INFO:gurobipy:Warning: Markowitz tolerance tightened to 0.5\n"
     ]
    },
    {
     "name": "stdout",
     "output_type": "stream",
     "text": [
      "\n"
     ]
    },
    {
     "name": "stderr",
     "output_type": "stream",
     "text": [
      "INFO:gurobipy:\n"
     ]
    },
    {
     "name": "stdout",
     "output_type": "stream",
     "text": [
      "   29854 PPushes remaining with PInf 0.0000000e+00                52s\n"
     ]
    },
    {
     "name": "stderr",
     "output_type": "stream",
     "text": [
      "INFO:gurobipy:   29854 PPushes remaining with PInf 0.0000000e+00                52s\n"
     ]
    },
    {
     "name": "stdout",
     "output_type": "stream",
     "text": [
      "   25922 PPushes remaining with PInf 0.0000000e+00                56s\n"
     ]
    },
    {
     "name": "stderr",
     "output_type": "stream",
     "text": [
      "INFO:gurobipy:   25922 PPushes remaining with PInf 0.0000000e+00                56s\n"
     ]
    },
    {
     "name": "stdout",
     "output_type": "stream",
     "text": [
      "   20447 PPushes remaining with PInf 0.0000000e+00                60s\n"
     ]
    },
    {
     "name": "stderr",
     "output_type": "stream",
     "text": [
      "INFO:gurobipy:   20447 PPushes remaining with PInf 0.0000000e+00                60s\n"
     ]
    },
    {
     "name": "stdout",
     "output_type": "stream",
     "text": [
      "   17560 PPushes remaining with PInf 0.0000000e+00                65s\n"
     ]
    },
    {
     "name": "stderr",
     "output_type": "stream",
     "text": [
      "INFO:gurobipy:   17560 PPushes remaining with PInf 0.0000000e+00                65s\n"
     ]
    },
    {
     "name": "stdout",
     "output_type": "stream",
     "text": [
      "   13594 PPushes remaining with PInf 0.0000000e+00                71s\n"
     ]
    },
    {
     "name": "stderr",
     "output_type": "stream",
     "text": [
      "INFO:gurobipy:   13594 PPushes remaining with PInf 0.0000000e+00                71s\n"
     ]
    },
    {
     "name": "stdout",
     "output_type": "stream",
     "text": [
      "   10901 PPushes remaining with PInf 0.0000000e+00                75s\n"
     ]
    },
    {
     "name": "stderr",
     "output_type": "stream",
     "text": [
      "INFO:gurobipy:   10901 PPushes remaining with PInf 0.0000000e+00                75s\n"
     ]
    },
    {
     "name": "stdout",
     "output_type": "stream",
     "text": [
      "    8387 PPushes remaining with PInf 0.0000000e+00                80s\n"
     ]
    },
    {
     "name": "stderr",
     "output_type": "stream",
     "text": [
      "INFO:gurobipy:    8387 PPushes remaining with PInf 0.0000000e+00                80s\n"
     ]
    },
    {
     "name": "stdout",
     "output_type": "stream",
     "text": [
      "    5865 PPushes remaining with PInf 0.0000000e+00                85s\n"
     ]
    },
    {
     "name": "stderr",
     "output_type": "stream",
     "text": [
      "INFO:gurobipy:    5865 PPushes remaining with PInf 0.0000000e+00                85s\n"
     ]
    },
    {
     "name": "stdout",
     "output_type": "stream",
     "text": [
      "    3367 PPushes remaining with PInf 0.0000000e+00                90s\n"
     ]
    },
    {
     "name": "stderr",
     "output_type": "stream",
     "text": [
      "INFO:gurobipy:    3367 PPushes remaining with PInf 0.0000000e+00                90s\n"
     ]
    },
    {
     "name": "stdout",
     "output_type": "stream",
     "text": [
      "     890 PPushes remaining with PInf 0.0000000e+00                95s\n"
     ]
    },
    {
     "name": "stderr",
     "output_type": "stream",
     "text": [
      "INFO:gurobipy:     890 PPushes remaining with PInf 0.0000000e+00                95s\n"
     ]
    },
    {
     "name": "stdout",
     "output_type": "stream",
     "text": [
      "       0 PPushes remaining with PInf 0.0000000e+00                98s\n"
     ]
    },
    {
     "name": "stderr",
     "output_type": "stream",
     "text": [
      "INFO:gurobipy:       0 PPushes remaining with PInf 0.0000000e+00                98s\n"
     ]
    },
    {
     "name": "stdout",
     "output_type": "stream",
     "text": [
      "\n"
     ]
    },
    {
     "name": "stderr",
     "output_type": "stream",
     "text": [
      "INFO:gurobipy:\n"
     ]
    },
    {
     "name": "stdout",
     "output_type": "stream",
     "text": [
      "  Push phase complete: Pinf 0.0000000e+00, Dinf 2.3334078e-08     98s\n"
     ]
    },
    {
     "name": "stderr",
     "output_type": "stream",
     "text": [
      "INFO:gurobipy:  Push phase complete: Pinf 0.0000000e+00, Dinf 2.3334078e-08     98s\n"
     ]
    },
    {
     "name": "stdout",
     "output_type": "stream",
     "text": [
      "\n"
     ]
    },
    {
     "name": "stderr",
     "output_type": "stream",
     "text": [
      "INFO:gurobipy:\n"
     ]
    },
    {
     "name": "stdout",
     "output_type": "stream",
     "text": [
      "\n"
     ]
    },
    {
     "name": "stderr",
     "output_type": "stream",
     "text": [
      "INFO:gurobipy:\n"
     ]
    },
    {
     "name": "stdout",
     "output_type": "stream",
     "text": [
      "Solved with barrier\n"
     ]
    },
    {
     "name": "stderr",
     "output_type": "stream",
     "text": [
      "INFO:gurobipy:Solved with barrier\n"
     ]
    },
    {
     "name": "stdout",
     "output_type": "stream",
     "text": [
      "Extra simplex iterations after uncrush: 2\n"
     ]
    },
    {
     "name": "stderr",
     "output_type": "stream",
     "text": [
      "INFO:gurobipy:Extra simplex iterations after uncrush: 2\n"
     ]
    },
    {
     "name": "stdout",
     "output_type": "stream",
     "text": [
      "Iteration    Objective       Primal Inf.    Dual Inf.      Time\n"
     ]
    },
    {
     "name": "stderr",
     "output_type": "stream",
     "text": [
      "INFO:gurobipy:Iteration    Objective       Primal Inf.    Dual Inf.      Time\n"
     ]
    },
    {
     "name": "stdout",
     "output_type": "stream",
     "text": [
      "   59047    3.0295504e+10   0.000000e+00   0.000000e+00     99s\n"
     ]
    },
    {
     "name": "stderr",
     "output_type": "stream",
     "text": [
      "INFO:gurobipy:   59047    3.0295504e+10   0.000000e+00   0.000000e+00     99s\n"
     ]
    },
    {
     "name": "stdout",
     "output_type": "stream",
     "text": [
      "\n"
     ]
    },
    {
     "name": "stderr",
     "output_type": "stream",
     "text": [
      "INFO:gurobipy:\n"
     ]
    },
    {
     "name": "stdout",
     "output_type": "stream",
     "text": [
      "Solved in 59047 iterations and 99.20 seconds (103.31 work units)\n"
     ]
    },
    {
     "name": "stderr",
     "output_type": "stream",
     "text": [
      "INFO:gurobipy:Solved in 59047 iterations and 99.20 seconds (103.31 work units)\n"
     ]
    },
    {
     "name": "stdout",
     "output_type": "stream",
     "text": [
      "Optimal objective  3.029550426e+10\n"
     ]
    },
    {
     "name": "stderr",
     "output_type": "stream",
     "text": [
      "INFO:gurobipy:Optimal objective  3.029550426e+10\n",
      "INFO:linopy.constants: Optimization successful: \n",
      "Status: ok\n",
      "Termination condition: optimal\n",
      "Solution: 227775 primals, 499336 duals\n",
      "Objective: 3.03e+10\n",
      "Solver model: available\n",
      "Solver message: 2\n",
      "\n",
      "INFO:pypsa.optimization.optimize:The shadow-prices of the constraints Generator-ext-p-lower, Generator-ext-p-upper, Line-fix-s-lower, Line-fix-s-upper, StorageUnit-ext-p_dispatch-lower, StorageUnit-ext-p_dispatch-upper, StorageUnit-ext-p_store-lower, StorageUnit-ext-p_store-upper, StorageUnit-ext-state_of_charge-lower, StorageUnit-ext-state_of_charge-upper, StorageUnit-energy_balance were not assigned to the network.\n"
     ]
    },
    {
     "data": {
      "text/plain": [
       "('ok', 'optimal')"
      ]
     },
     "execution_count": 187,
     "metadata": {},
     "output_type": "execute_result"
    }
   ],
   "source": [
    "n.optimize(solver_name='gurobi')\n"
   ]
  },
  {
   "cell_type": "code",
   "execution_count": 188,
   "id": "1159bc0a",
   "metadata": {},
   "outputs": [
    {
     "data": {
      "text/plain": [
       "{'onshore': 'blue',\n",
       " 'offshore': 'darkblue',\n",
       " 'pv': 'orange',\n",
       " 'rooftop': 'yellow',\n",
       " 'coal': 'brown',\n",
       " 'OCGT': 'grey'}"
      ]
     },
     "execution_count": 188,
     "metadata": {},
     "output_type": "execute_result"
    }
   ],
   "source": [
    "colors"
   ]
  },
  {
   "cell_type": "code",
   "execution_count": 189,
   "id": "aedcb3ad",
   "metadata": {},
   "outputs": [
    {
     "data": {
      "image/png": "[encoded data removed]",
      "text/plain": [
       "<Figure size 1600x400 with 3 Axes>"
      ]
     },
     "metadata": {},
     "output_type": "display_data"
    }
   ],
   "source": [
    "colors_gen = {\n",
    "    'onshore wind': 'blue',\n",
    "    'offshore wind': 'darkblue',\n",
    "    'large scale solar': 'orange',\n",
    "    'gas (OCGT)': 'grey',\n",
    "    'coal': 'brown',\n",
    "    'hydro': 'lightblue'\n",
    "}\n",
    "\n",
    "plt.figure(figsize=(16, 4))\n",
    "\n",
    "for i, country in enumerate(countries):\n",
    "    labels = []\n",
    "    sizes = []\n",
    "\n",
    "    # Onshore wind\n",
    "    if f'onshorewind{country}' in n.generators.index:\n",
    "        value = n.generators_t.p[f'onshorewind{country}'].sum()\n",
    "        if value > 0.1:\n",
    "            labels.append('onshore wind')\n",
    "            sizes.append(value)\n",
    "\n",
    "    # Offshore wind\n",
    "    if f'offshorewind{country}' in n.generators.index:\n",
    "        value = n.generators_t.p[f'offshorewind{country}'].sum()\n",
    "        if value > 0.1:\n",
    "            labels.append('offshore wind')\n",
    "            sizes.append(value)\n",
    "\n",
    "    # PV\n",
    "    if f'PV{country}' in n.generators.index:\n",
    "        value = n.generators_t.p[f'PV{country}'].sum()\n",
    "        if value > 0.1:\n",
    "            labels.append('large scale solar')\n",
    "            sizes.append(value)\n",
    "\n",
    "    # OCGT\n",
    "    if f'OCGT{country}' in n.generators.index:\n",
    "        value = n.generators_t.p[f'OCGT{country}'].sum()\n",
    "        if value > 0.1:\n",
    "            labels.append('gas (OCGT)')\n",
    "            sizes.append(value)\n",
    "\n",
    "    # Coal\n",
    "    if f'coal{country}' in n.generators.index:\n",
    "        value = n.generators_t.p[f'coal{country}'].sum()\n",
    "        if value > 0.1:\n",
    "            labels.append('coal')\n",
    "            sizes.append(value)\n",
    "\n",
    "    # Hydro (storage unit dispatch)\n",
    "    if f\"hydro{country}\" in n.storage_units.index:\n",
    "        value = n.storage_units_t.p[f\"hydro{country}\"].sum()\n",
    "        if value > 0.1:\n",
    "            labels.append('hydro')\n",
    "            sizes.append(value)\n",
    "\n",
    "    if sizes:\n",
    "        colors = [colors_gen[label] for label in labels]\n",
    "        plt.subplot(1, 3, i + 1)\n",
    "        plt.pie(sizes, labels=labels, colors=colors, wedgeprops={'linewidth': 0})\n",
    "        plt.axis('equal')\n",
    "        plt.title(f\"{country} Electricity Mix\", y=1.07)\n",
    "    else:\n",
    "        plt.subplot(1, 3, i + 1)\n",
    "        plt.text(0.5, 0.5, 'No generation', ha='center', va='center')\n",
    "        plt.axis('off')\n",
    "\n",
    "plt.suptitle(\"Electricity Generation Mix (MWh)\", fontsize=16)\n",
    "plt.tight_layout()\n",
    "plt.show()\n"
   ]
  },
  {
   "cell_type": "code",
   "execution_count": 190,
   "id": "8f20c990",
   "metadata": {},
   "outputs": [
    {
     "data": {
      "text/plain": [
       "<AxesSubplot: xlabel='snapshot'>"
      ]
     },
     "execution_count": 190,
     "metadata": {},
     "output_type": "execute_result"
    },
    {
     "data": {
      "image/png": "[encoded data removed]",
      "text/plain": [
       "<Figure size 1600x400 with 1 Axes>"
      ]
     },
     "metadata": {},
     "output_type": "display_data"
    }
   ],
   "source": [
    "n.lines_t.p0.plot(figsize=(16, 4), alpha=0.5)"
   ]
  },
  {
   "cell_type": "markdown",
   "id": "4aafc01e",
   "metadata": {},
   "source": [
    "# Section G: Connecting to Heating sector"
   ]
  },
  {
   "cell_type": "code",
   "execution_count": 191,
   "id": "153b1fe1",
   "metadata": {},
   "outputs": [
    {
     "data": {
      "text/plain": [
       "111082358.72659878"
      ]
     },
     "execution_count": 191,
     "metadata": {},
     "output_type": "execute_result"
    }
   ],
   "source": [
    "# Retrieve the heating demand data\n",
    "heating_demand = pd.read_csv('data/heat_demand.csv', sep=';', index_col=0) # in MWh\n",
    "heating_demand.index = pd.to_datetime(heating_demand.index) #change index to datatime\n",
    "\n",
    "# Retrieve some capital cost data\n",
    "year = 2030\n",
    "url = f\"https://raw.githubusercontent.com/PyPSA/technology-data/master/outputs/costs_{year}.csv\"\n",
    "costs = pd.read_csv(url, index_col=[0, 1])\n",
    "costs.loc[costs.unit.str.contains(\"/kW\"), \"value\"] *= 1e3\n",
    "costs.unit = costs.unit.str.replace(\"/kW\", \"/MW\")\n",
    "\n",
    "defaults = {\n",
    "    \"FOM\": 0,\n",
    "    \"VOM\": 0,\n",
    "    \"efficiency\": 1,\n",
    "    \"fuel\": 0,\n",
    "    \"investment\": 0,\n",
    "    \"lifetime\": 25,\n",
    "    \"CO2 intensity\": 0,\n",
    "    \"discount rate\": 0.07,\n",
    "}\n",
    "costs = costs.value.unstack().fillna(defaults)\n",
    "costs[\"marginal_cost\"] = costs[\"VOM\"] + costs[\"fuel\"] / costs[\"efficiency\"]\n",
    "annuity = costs.apply(lambda x: annuity(x[\"discount rate\"], x[\"lifetime\"]), axis=1)\n",
    "costs[\"capital_cost\"] = (annuity + costs[\"FOM\"] / 100) * costs[\"investment\"]\n",
    "costs.at[\"central air-sourced heat pump\", \"capital_cost\"]"
   ]
  },
  {
   "cell_type": "code",
   "execution_count": 192,
   "id": "1adab1fc",
   "metadata": {},
   "outputs": [
    {
     "name": "stderr",
     "output_type": "stream",
     "text": [
      "WARNING:pypsa.io:The following Link have buses which are not defined:\n",
      "Index(['CHP_DEU'], dtype='object')\n",
      "WARNING:pypsa.io:The following Link have buses which are not defined:\n",
      "Index(['CHP_DNK'], dtype='object')\n",
      "WARNING:pypsa.io:The following Link have buses which are not defined:\n",
      "Index(['CHP_AUT'], dtype='object')\n"
     ]
    }
   ],
   "source": [
    "for country in countries:\n",
    "      # add heat bus for each country\n",
    "      n.add(\"Bus\", f\"{country}_heat\", carrier=\"heat\")\n",
    "\n",
    "      # add heat load to the bus for each country\n",
    "      n.add(\"Load\",\n",
    "            f\"heat_load_{country}\",\n",
    "            bus=f\"{country}_heat\",\n",
    "            p_set=heating_demand[country].values)\n",
    "\n",
    "      # Add heat pump, assuming fixed COP. Would be nice to have a variable COP, but require temperature data for each country\n",
    "      fixed_cop = 2.8 # Reasonable average for the chosen countries\n",
    "\n",
    "      n.add(\"Link\",\n",
    "            f\"heat_pump_{country}\",\n",
    "            bus0=country,              # electricity input\n",
    "            bus1=f\"{country}_heat\",    # heat output\n",
    "            efficiency=fixed_cop,\n",
    "            p_nom_extendable=True,\n",
    "            carrier=\"heat pump\",\n",
    "            capital_cost=costs.at[\"central air-sourced heat pump\", \"capital_cost\"],\n",
    "            bidirectional=False)\n",
    "\n",
    "      # Add CHP unit. Assume there are already withing the system\n",
    "      n.add(\"Link\",\n",
    "            f\"CHP_{country}\",\n",
    "            bus0=\"gas\",                # gas input\n",
    "            bus1=country,              # electricity output\n",
    "            bus2=f\"{country}_heat\",    # heat output\n",
    "            efficiency=0.4,            # electric efficiency\n",
    "            efficiency2=0.4,           # heat efficiency\n",
    "            p_nom_extendable=True,\n",
    "            carrier=\"CHP\",\n",
    "            marginal_cost=80) # in €/MWh_el"
   ]
  },
  {
   "cell_type": "code",
   "execution_count": 193,
   "id": "144954ac",
   "metadata": {},
   "outputs": [],
   "source": [
    "def annuity(n,r):\n",
    "    \"\"\" Calculate the annuity factor for an asset with lifetime n years and\n",
    "    discount rate  r \"\"\"\n",
    "\n",
    "    if r > 0:\n",
    "        return r/(1. - 1./(1.+r)**n)\n",
    "    else:\n",
    "        return 1/n"
   ]
  },
  {
   "cell_type": "code",
   "execution_count": 194,
   "id": "cb2d5bfe",
   "metadata": {},
   "outputs": [],
   "source": [
    "n.add(\"Carrier\", \"H2\", co2_emissions=0)\n",
    "for country in countries:\n",
    "    n.add(\"Bus\", f\"{country}_H2\", carrier=\"H2\")\n",
    "    n.add(\"Link\",\n",
    "          f\"electrolyzer_{country}\",\n",
    "          bus0=country,               # electricity input\n",
    "          bus1=f\"{country}_H2\",        # hydrogen output\n",
    "          efficiency=0.8,\n",
    "          p_nom_extendable=True,\n",
    "          carrier=\"H2 electrolysis\",\n",
    "          capital_cost=annuity(25, 0.07)*600000*(1+0.05),\n",
    "          bidirectional=False) \n",
    "    \n",
    "    n.add(\"Store\",\n",
    "          f\"H2_tank_{country}\",\n",
    "          bus=f\"{country}_H2\",\n",
    "          e_nom_extendable=True,\n",
    "          e_cyclic=True,\n",
    "          capital_cost=annuity(25, 0.07)*57000*(1+0.011))\n",
    "    \n",
    "\n",
    "    n.add(\"Link\",\n",
    "          f\"H2_heater_{country}\",\n",
    "          bus0=f\"{country}_H2\",\n",
    "          bus1=f\"{country}_heat\",\n",
    "          efficiency=0.9,\n",
    "          p_nom_extendable=True,\n",
    "          carrier=\"H2 heater\",\n",
    "          marginal_cost=30,  # adjust if needed\n",
    "          capital_cost=annuity(25, 0.07)*40000,\n",
    "          bidirectional=False)\n",
    "    \n",
    "    n.add(\"Link\",\n",
    "          f\"H2 Fuel Cell_{country}\",\n",
    "          bus0 = f\"{country}_H2\",\n",
    "          bus1 = f\"{country}\",\n",
    "          p_nom_extendable = True,\n",
    "          efficiency = 0.58,\n",
    "          capital_cost = annuity(10, 0.07)*1300000*(1+0.05))\n"
   ]
  },
  {
   "cell_type": "code",
   "execution_count": 195,
   "id": "bd5b2be5",
   "metadata": {},
   "outputs": [
    {
     "data": {
      "text/plain": [
       "Index(['gas_supply'], dtype='object')"
      ]
     },
     "execution_count": 195,
     "metadata": {},
     "output_type": "execute_result"
    }
   ],
   "source": [
    "# Add a gas bus\n",
    "n.add(\"Bus\", \"gas\", carrier=\"gas\")\n",
    "\n",
    "\n",
    "# Add a gas store\n",
    "n.add(\"Store\",\n",
    "      \"gas_store\",\n",
    "      bus=\"gas\",\n",
    "      e_nom=1e9,  # Very large nominal energy [MWh], to simulate unlimited gas\n",
    "      e_initial=1e9,\n",
    "      e_cyclic=True,\n",
    "      marginal_cost=0)  # Assume gas availability (fuel cost is inside marginal_cost of generators)\n",
    "\n",
    "# Add a generator that allows gas to enter the system\n",
    "n.add(\"Generator\",\n",
    "      \"gas_supply\",\n",
    "      bus=\"gas\",\n",
    "      carrier=\"gas\",\n",
    "      p_nom=1e6,  # large enough to never limit\n",
    "      marginal_cost=0)  # or set = 21.6 €/MWh_th if not already in OCGT/CHP costs\n"
   ]
  },
  {
   "cell_type": "code",
   "execution_count": 196,
   "id": "04290046",
   "metadata": {},
   "outputs": [
    {
     "name": "stderr",
     "output_type": "stream",
     "text": [
      "WARNING:pypsa.consistency:The following buses have carriers which are not defined:\n",
      "Index(['DEU', 'DNK', 'AUT', 'DEU_heat', 'DNK_heat', 'AUT_heat'], dtype='object', name='Bus')\n",
      "WARNING:pypsa.consistency:The following links have carriers which are not defined:\n",
      "Index(['heat_pump_DEU', 'CHP_DEU', 'heat_pump_DNK', 'CHP_DNK', 'heat_pump_AUT',\n",
      "       'CHP_AUT', 'electrolyzer_DEU', 'H2_heater_DEU', 'electrolyzer_DNK',\n",
      "       'H2_heater_DNK', 'electrolyzer_AUT', 'H2_heater_AUT'],\n",
      "      dtype='object', name='Link')\n",
      "WARNING:pypsa.consistency:The following sub_networks have carriers which are not defined:\n",
      "Index(['0'], dtype='object', name='SubNetwork')\n",
      "WARNING:pypsa.consistency:The following lines have carriers which are not defined:\n",
      "Index(['DEU-DNK', 'DEU-AUT'], dtype='object', name='Line')\n",
      "INFO:linopy.model: Solve problem using Gurobi solver\n",
      "INFO:linopy.io:Writing objective.\n",
      "Writing constraints.: 100%|\u001b[38;2;128;191;255m██████████\u001b[0m| 30/30 [00:05<00:00,  5.26it/s]\n",
      "Writing continuous variables.: 100%|\u001b[38;2;128;191;255m██████████\u001b[0m| 13/13 [00:00<00:00, 13.68it/s]\n",
      "INFO:linopy.io: Writing time: 6.81s\n"
     ]
    },
    {
     "name": "stdout",
     "output_type": "stream",
     "text": [
      "Set parameter Username\n"
     ]
    },
    {
     "name": "stderr",
     "output_type": "stream",
     "text": [
      "INFO:gurobipy:Set parameter Username\n"
     ]
    },
    {
     "name": "stdout",
     "output_type": "stream",
     "text": [
      "Academic license - for non-commercial use only - expires 2025-09-04\n"
     ]
    },
    {
     "name": "stderr",
     "output_type": "stream",
     "text": [
      "INFO:gurobipy:Academic license - for non-commercial use only - expires 2025-09-04\n"
     ]
    },
    {
     "name": "stdout",
     "output_type": "stream",
     "text": [
      "Read LP format model from file C:\\Users\\alexk\\AppData\\Local\\Temp\\linopy-problem-wikd8ynb.lp\n"
     ]
    },
    {
     "name": "stderr",
     "output_type": "stream",
     "text": [
      "INFO:gurobipy:Read LP format model from file C:\\Users\\alexk\\AppData\\Local\\Temp\\linopy-problem-wikd8ynb.lp\n"
     ]
    },
    {
     "name": "stdout",
     "output_type": "stream",
     "text": [
      "Reading time = 2.20 seconds\n"
     ]
    },
    {
     "name": "stderr",
     "output_type": "stream",
     "text": [
      "INFO:gurobipy:Reading time = 2.20 seconds\n"
     ]
    },
    {
     "name": "stdout",
     "output_type": "stream",
     "text": [
      "obj: 946114 rows, 438033 columns, 1966858 nonzeros\n"
     ]
    },
    {
     "name": "stderr",
     "output_type": "stream",
     "text": [
      "INFO:gurobipy:obj: 946114 rows, 438033 columns, 1966858 nonzeros\n"
     ]
    },
    {
     "name": "stdout",
     "output_type": "stream",
     "text": [
      "Gurobi Optimizer version 11.0.3 build v11.0.3rc0 (win64 - Windows 11.0 (22631.2))\n"
     ]
    },
    {
     "name": "stderr",
     "output_type": "stream",
     "text": [
      "INFO:gurobipy:Gurobi Optimizer version 11.0.3 build v11.0.3rc0 (win64 - Windows 11.0 (22631.2))\n"
     ]
    },
    {
     "name": "stdout",
     "output_type": "stream",
     "text": [
      "\n"
     ]
    },
    {
     "name": "stderr",
     "output_type": "stream",
     "text": [
      "INFO:gurobipy:\n"
     ]
    },
    {
     "name": "stdout",
     "output_type": "stream",
     "text": [
      "CPU model: AMD Ryzen 5 4600H with Radeon Graphics, instruction set [SSE2|AVX|AVX2]\n"
     ]
    },
    {
     "name": "stderr",
     "output_type": "stream",
     "text": [
      "INFO:gurobipy:CPU model: AMD Ryzen 5 4600H with Radeon Graphics, instruction set [SSE2|AVX|AVX2]\n"
     ]
    },
    {
     "name": "stdout",
     "output_type": "stream",
     "text": [
      "Thread count: 6 physical cores, 12 logical processors, using up to 12 threads\n"
     ]
    },
    {
     "name": "stderr",
     "output_type": "stream",
     "text": [
      "INFO:gurobipy:Thread count: 6 physical cores, 12 logical processors, using up to 12 threads\n"
     ]
    },
    {
     "name": "stdout",
     "output_type": "stream",
     "text": [
      "\n"
     ]
    },
    {
     "name": "stderr",
     "output_type": "stream",
     "text": [
      "INFO:gurobipy:\n"
     ]
    },
    {
     "name": "stdout",
     "output_type": "stream",
     "text": [
      "Optimize a model with 946114 rows, 438033 columns and 1966858 nonzeros\n"
     ]
    },
    {
     "name": "stderr",
     "output_type": "stream",
     "text": [
      "INFO:gurobipy:Optimize a model with 946114 rows, 438033 columns and 1966858 nonzeros\n"
     ]
    },
    {
     "name": "stdout",
     "output_type": "stream",
     "text": [
      "Model fingerprint: 0x8ba2ccba\n"
     ]
    },
    {
     "name": "stderr",
     "output_type": "stream",
     "text": [
      "INFO:gurobipy:Model fingerprint: 0x8ba2ccba\n"
     ]
    },
    {
     "name": "stdout",
     "output_type": "stream",
     "text": [
      "Coefficient statistics:\n"
     ]
    },
    {
     "name": "stderr",
     "output_type": "stream",
     "text": [
      "INFO:gurobipy:Coefficient statistics:\n"
     ]
    },
    {
     "name": "stdout",
     "output_type": "stream",
     "text": [
      "  Matrix range     [1e-03, 2e+03]\n"
     ]
    },
    {
     "name": "stderr",
     "output_type": "stream",
     "text": [
      "INFO:gurobipy:  Matrix range     [1e-03, 2e+03]\n"
     ]
    },
    {
     "name": "stdout",
     "output_type": "stream",
     "text": [
      "  Objective range  [1e+01, 1e+08]\n"
     ]
    },
    {
     "name": "stderr",
     "output_type": "stream",
     "text": [
      "INFO:gurobipy:  Objective range  [1e+01, 1e+08]\n"
     ]
    },
    {
     "name": "stdout",
     "output_type": "stream",
     "text": [
      "  Bounds range     [1e+03, 6e+03]\n"
     ]
    },
    {
     "name": "stderr",
     "output_type": "stream",
     "text": [
      "INFO:gurobipy:  Bounds range     [1e+03, 6e+03]\n"
     ]
    },
    {
     "name": "stdout",
     "output_type": "stream",
     "text": [
      "  RHS range        [1e+03, 1e+09]\n"
     ]
    },
    {
     "name": "stderr",
     "output_type": "stream",
     "text": [
      "INFO:gurobipy:  RHS range        [1e+03, 1e+09]\n"
     ]
    },
    {
     "name": "stdout",
     "output_type": "stream",
     "text": [
      "Presolve removed 503527 rows and 47977 columns\n"
     ]
    },
    {
     "name": "stderr",
     "output_type": "stream",
     "text": [
      "INFO:gurobipy:Presolve removed 503527 rows and 47977 columns\n"
     ]
    },
    {
     "name": "stdout",
     "output_type": "stream",
     "text": [
      "Presolve time: 1.20s\n"
     ]
    },
    {
     "name": "stderr",
     "output_type": "stream",
     "text": [
      "INFO:gurobipy:Presolve time: 1.20s\n"
     ]
    },
    {
     "name": "stdout",
     "output_type": "stream",
     "text": [
      "Presolved: 442587 rows, 390056 columns, 1389077 nonzeros\n"
     ]
    },
    {
     "name": "stderr",
     "output_type": "stream",
     "text": [
      "INFO:gurobipy:Presolved: 442587 rows, 390056 columns, 1389077 nonzeros\n"
     ]
    },
    {
     "name": "stdout",
     "output_type": "stream",
     "text": [
      "\n"
     ]
    },
    {
     "name": "stderr",
     "output_type": "stream",
     "text": [
      "INFO:gurobipy:\n"
     ]
    },
    {
     "name": "stdout",
     "output_type": "stream",
     "text": [
      "Concurrent LP optimizer: primal simplex, dual simplex, and barrier\n"
     ]
    },
    {
     "name": "stderr",
     "output_type": "stream",
     "text": [
      "INFO:gurobipy:Concurrent LP optimizer: primal simplex, dual simplex, and barrier\n"
     ]
    },
    {
     "name": "stdout",
     "output_type": "stream",
     "text": [
      "Showing barrier log only...\n"
     ]
    },
    {
     "name": "stderr",
     "output_type": "stream",
     "text": [
      "INFO:gurobipy:Showing barrier log only...\n"
     ]
    },
    {
     "name": "stdout",
     "output_type": "stream",
     "text": [
      "\n"
     ]
    },
    {
     "name": "stderr",
     "output_type": "stream",
     "text": [
      "INFO:gurobipy:\n"
     ]
    },
    {
     "name": "stdout",
     "output_type": "stream",
     "text": [
      "Ordering time: 0.68s\n"
     ]
    },
    {
     "name": "stderr",
     "output_type": "stream",
     "text": [
      "INFO:gurobipy:Ordering time: 0.68s\n"
     ]
    },
    {
     "name": "stdout",
     "output_type": "stream",
     "text": [
      "\n"
     ]
    },
    {
     "name": "stderr",
     "output_type": "stream",
     "text": [
      "INFO:gurobipy:\n"
     ]
    },
    {
     "name": "stdout",
     "output_type": "stream",
     "text": [
      "Barrier statistics:\n"
     ]
    },
    {
     "name": "stderr",
     "output_type": "stream",
     "text": [
      "INFO:gurobipy:Barrier statistics:\n"
     ]
    },
    {
     "name": "stdout",
     "output_type": "stream",
     "text": [
      " Dense cols : 30\n"
     ]
    },
    {
     "name": "stderr",
     "output_type": "stream",
     "text": [
      "INFO:gurobipy: Dense cols : 30\n"
     ]
    },
    {
     "name": "stdout",
     "output_type": "stream",
     "text": [
      " AA' NZ     : 1.201e+06\n"
     ]
    },
    {
     "name": "stderr",
     "output_type": "stream",
     "text": [
      "INFO:gurobipy: AA' NZ     : 1.201e+06\n"
     ]
    },
    {
     "name": "stdout",
     "output_type": "stream",
     "text": [
      " Factor NZ  : 7.276e+06 (roughly 400 MB of memory)\n"
     ]
    },
    {
     "name": "stderr",
     "output_type": "stream",
     "text": [
      "INFO:gurobipy: Factor NZ  : 7.276e+06 (roughly 400 MB of memory)\n"
     ]
    },
    {
     "name": "stdout",
     "output_type": "stream",
     "text": [
      " Factor Ops : 2.021e+08 (less than 1 second per iteration)\n"
     ]
    },
    {
     "name": "stderr",
     "output_type": "stream",
     "text": [
      "INFO:gurobipy: Factor Ops : 2.021e+08 (less than 1 second per iteration)\n"
     ]
    },
    {
     "name": "stdout",
     "output_type": "stream",
     "text": [
      " Threads    : 4\n"
     ]
    },
    {
     "name": "stderr",
     "output_type": "stream",
     "text": [
      "INFO:gurobipy: Threads    : 4\n"
     ]
    },
    {
     "name": "stdout",
     "output_type": "stream",
     "text": [
      "\n"
     ]
    },
    {
     "name": "stderr",
     "output_type": "stream",
     "text": [
      "INFO:gurobipy:\n"
     ]
    },
    {
     "name": "stdout",
     "output_type": "stream",
     "text": [
      "                  Objective                Residual\n"
     ]
    },
    {
     "name": "stderr",
     "output_type": "stream",
     "text": [
      "INFO:gurobipy:                  Objective                Residual\n"
     ]
    },
    {
     "name": "stdout",
     "output_type": "stream",
     "text": [
      "Iter       Primal          Dual         Primal    Dual     Compl     Time\n"
     ]
    },
    {
     "name": "stderr",
     "output_type": "stream",
     "text": [
      "INFO:gurobipy:Iter       Primal          Dual         Primal    Dual     Compl     Time\n"
     ]
    },
    {
     "name": "stdout",
     "output_type": "stream",
     "text": [
      "   0   1.26165586e+15 -7.14799950e+16  8.84e+10 0.00e+00  1.82e+11     3s\n"
     ]
    },
    {
     "name": "stderr",
     "output_type": "stream",
     "text": [
      "INFO:gurobipy:   0   1.26165586e+15 -7.14799950e+16  8.84e+10 0.00e+00  1.82e+11     3s\n"
     ]
    },
    {
     "name": "stdout",
     "output_type": "stream",
     "text": [
      "   1   7.65026477e+14 -1.88550603e+16  2.07e+10 3.66e+03  4.83e+10     4s\n"
     ]
    },
    {
     "name": "stderr",
     "output_type": "stream",
     "text": [
      "INFO:gurobipy:   1   7.65026477e+14 -1.88550603e+16  2.07e+10 3.66e+03  4.83e+10     4s\n"
     ]
    },
    {
     "name": "stdout",
     "output_type": "stream",
     "text": [
      "   2   2.78975407e+14 -4.52668453e+15  5.15e+09 8.62e+02  1.18e+10     4s\n"
     ]
    },
    {
     "name": "stderr",
     "output_type": "stream",
     "text": [
      "INFO:gurobipy:   2   2.78975407e+14 -4.52668453e+15  5.15e+09 8.62e+02  1.18e+10     4s\n"
     ]
    },
    {
     "name": "stdout",
     "output_type": "stream",
     "text": [
      "   3   7.68650185e+13 -4.71054580e+14  4.65e+08 7.81e+01  1.21e+09     5s\n"
     ]
    },
    {
     "name": "stderr",
     "output_type": "stream",
     "text": [
      "INFO:gurobipy:   3   7.68650185e+13 -4.71054580e+14  4.65e+08 7.81e+01  1.21e+09     5s\n"
     ]
    },
    {
     "name": "stdout",
     "output_type": "stream",
     "text": [
      "   4   3.19412518e+13 -9.69964293e+13  5.35e+07 1.38e+01  2.34e+08     5s\n"
     ]
    },
    {
     "name": "stderr",
     "output_type": "stream",
     "text": [
      "INFO:gurobipy:   4   3.19412518e+13 -9.69964293e+13  5.35e+07 1.38e+01  2.34e+08     5s\n"
     ]
    },
    {
     "name": "stdout",
     "output_type": "stream",
     "text": [
      "   5   1.98899067e+13 -4.26651569e+13  2.55e+07 5.81e+00  1.04e+08     6s\n"
     ]
    },
    {
     "name": "stderr",
     "output_type": "stream",
     "text": [
      "INFO:gurobipy:   5   1.98899067e+13 -4.26651569e+13  2.55e+07 5.81e+00  1.04e+08     6s\n"
     ]
    },
    {
     "name": "stdout",
     "output_type": "stream",
     "text": [
      "   6   1.15373004e+13 -2.20686941e+13  1.25e+07 2.93e+00  5.23e+07     6s\n"
     ]
    },
    {
     "name": "stderr",
     "output_type": "stream",
     "text": [
      "INFO:gurobipy:   6   1.15373004e+13 -2.20686941e+13  1.25e+07 2.93e+00  5.23e+07     6s\n"
     ]
    },
    {
     "name": "stdout",
     "output_type": "stream",
     "text": [
      "   7   6.02176277e+12 -8.15859978e+12  5.02e+06 1.04e+00  2.04e+07     7s\n"
     ]
    },
    {
     "name": "stderr",
     "output_type": "stream",
     "text": [
      "INFO:gurobipy:   7   6.02176277e+12 -8.15859978e+12  5.02e+06 1.04e+00  2.04e+07     7s\n"
     ]
    },
    {
     "name": "stdout",
     "output_type": "stream",
     "text": [
      "   8   3.45886907e+12 -3.07198528e+12  2.46e+06 3.81e-01  8.82e+06     7s\n"
     ]
    },
    {
     "name": "stderr",
     "output_type": "stream",
     "text": [
      "INFO:gurobipy:   8   3.45886907e+12 -3.07198528e+12  2.46e+06 3.81e-01  8.82e+06     7s\n"
     ]
    },
    {
     "name": "stdout",
     "output_type": "stream",
     "text": [
      "   9   1.34346114e+12 -1.27265892e+12  6.79e+05 1.57e-01  3.38e+06     8s\n"
     ]
    },
    {
     "name": "stderr",
     "output_type": "stream",
     "text": [
      "INFO:gurobipy:   9   1.34346114e+12 -1.27265892e+12  6.79e+05 1.57e-01  3.38e+06     8s\n"
     ]
    },
    {
     "name": "stdout",
     "output_type": "stream",
     "text": [
      "  10   7.49973656e+11 -6.01136320e+11  2.77e+05 7.65e-02  1.71e+06     9s\n"
     ]
    },
    {
     "name": "stderr",
     "output_type": "stream",
     "text": [
      "INFO:gurobipy:  10   7.49973656e+11 -6.01136320e+11  2.77e+05 7.65e-02  1.71e+06     9s\n"
     ]
    },
    {
     "name": "stdout",
     "output_type": "stream",
     "text": [
      "  11   5.08355933e+11 -3.75695062e+11  1.34e+05 5.14e-02  1.10e+06     9s\n"
     ]
    },
    {
     "name": "stderr",
     "output_type": "stream",
     "text": [
      "INFO:gurobipy:  11   5.08355933e+11 -3.75695062e+11  1.34e+05 5.14e-02  1.10e+06     9s\n"
     ]
    },
    {
     "name": "stdout",
     "output_type": "stream",
     "text": [
      "  12   4.52710294e+11 -2.66608156e+11  1.05e+05 3.92e-02  8.93e+05    10s\n"
     ]
    },
    {
     "name": "stderr",
     "output_type": "stream",
     "text": [
      "INFO:gurobipy:  12   4.52710294e+11 -2.66608156e+11  1.05e+05 3.92e-02  8.93e+05    10s\n"
     ]
    },
    {
     "name": "stdout",
     "output_type": "stream",
     "text": [
      "  13   3.76537014e+11 -1.12329273e+11  6.67e+04 2.85e-02  6.03e+05    10s\n"
     ]
    },
    {
     "name": "stderr",
     "output_type": "stream",
     "text": [
      "INFO:gurobipy:  13   3.76537014e+11 -1.12329273e+11  6.67e+04 2.85e-02  6.03e+05    10s\n"
     ]
    },
    {
     "name": "stdout",
     "output_type": "stream",
     "text": [
      "  14   3.49685974e+11 -4.05621259e+10  5.48e+04 2.04e-02  4.80e+05    10s\n"
     ]
    },
    {
     "name": "stderr",
     "output_type": "stream",
     "text": [
      "INFO:gurobipy:  14   3.49685974e+11 -4.05621259e+10  5.48e+04 2.04e-02  4.80e+05    10s\n"
     ]
    },
    {
     "name": "stdout",
     "output_type": "stream",
     "text": [
      "  15   2.75834880e+11  2.99695648e+09  2.67e+04 1.17e-02  3.34e+05    11s\n"
     ]
    },
    {
     "name": "stderr",
     "output_type": "stream",
     "text": [
      "INFO:gurobipy:  15   2.75834880e+11  2.99695648e+09  2.67e+04 1.17e-02  3.34e+05    11s\n"
     ]
    },
    {
     "name": "stdout",
     "output_type": "stream",
     "text": [
      "  16   2.31668741e+11  4.15765108e+10  1.15e+04 6.56e-03  2.32e+05    12s\n"
     ]
    },
    {
     "name": "stderr",
     "output_type": "stream",
     "text": [
      "INFO:gurobipy:  16   2.31668741e+11  4.15765108e+10  1.15e+04 6.56e-03  2.32e+05    12s\n"
     ]
    },
    {
     "name": "stdout",
     "output_type": "stream",
     "text": [
      "  17   2.08051471e+11  8.97137617e+10  5.82e+03 3.21e-03  1.44e+05    12s\n"
     ]
    },
    {
     "name": "stderr",
     "output_type": "stream",
     "text": [
      "INFO:gurobipy:  17   2.08051471e+11  8.97137617e+10  5.82e+03 3.21e-03  1.44e+05    12s\n"
     ]
    },
    {
     "name": "stdout",
     "output_type": "stream",
     "text": [
      "  18   1.90061902e+11  1.06858269e+11  1.92e+03 2.07e-03  1.01e+05    13s\n"
     ]
    },
    {
     "name": "stderr",
     "output_type": "stream",
     "text": [
      "INFO:gurobipy:  18   1.90061902e+11  1.06858269e+11  1.92e+03 2.07e-03  1.01e+05    13s\n"
     ]
    },
    {
     "name": "stdout",
     "output_type": "stream",
     "text": [
      "  19   1.83072509e+11  1.19946269e+11  1.09e+03 1.26e-03  7.66e+04    14s\n"
     ]
    },
    {
     "name": "stderr",
     "output_type": "stream",
     "text": [
      "INFO:gurobipy:  19   1.83072509e+11  1.19946269e+11  1.09e+03 1.26e-03  7.66e+04    14s\n"
     ]
    },
    {
     "name": "stdout",
     "output_type": "stream",
     "text": [
      "  20   1.76242613e+11  1.23738970e+11  2.58e+02 1.04e-03  6.37e+04    14s\n"
     ]
    },
    {
     "name": "stderr",
     "output_type": "stream",
     "text": [
      "INFO:gurobipy:  20   1.76242613e+11  1.23738970e+11  2.58e+02 1.04e-03  6.37e+04    14s\n"
     ]
    },
    {
     "name": "stdout",
     "output_type": "stream",
     "text": [
      "  21   1.72198190e+11  1.26313087e+11  2.60e+00 9.18e-04  5.56e+04    15s\n"
     ]
    },
    {
     "name": "stderr",
     "output_type": "stream",
     "text": [
      "INFO:gurobipy:  21   1.72198190e+11  1.26313087e+11  2.60e+00 9.18e-04  5.56e+04    15s\n"
     ]
    },
    {
     "name": "stdout",
     "output_type": "stream",
     "text": [
      "  22   1.65279255e+11  1.34939649e+11  1.81e+00 5.16e-04  3.68e+04    15s\n"
     ]
    },
    {
     "name": "stderr",
     "output_type": "stream",
     "text": [
      "INFO:gurobipy:  22   1.65279255e+11  1.34939649e+11  1.81e+00 5.16e-04  3.68e+04    15s\n"
     ]
    },
    {
     "name": "stdout",
     "output_type": "stream",
     "text": [
      "  23   1.62645433e+11  1.37347671e+11  1.50e+00 4.09e-04  3.07e+04    16s\n"
     ]
    },
    {
     "name": "stderr",
     "output_type": "stream",
     "text": [
      "INFO:gurobipy:  23   1.62645433e+11  1.37347671e+11  1.50e+00 4.09e-04  3.07e+04    16s\n"
     ]
    },
    {
     "name": "stdout",
     "output_type": "stream",
     "text": [
      "  24   1.60027279e+11  1.40031763e+11  1.20e+00 2.95e-04  2.42e+04    17s\n"
     ]
    },
    {
     "name": "stderr",
     "output_type": "stream",
     "text": [
      "INFO:gurobipy:  24   1.60027279e+11  1.40031763e+11  1.20e+00 2.95e-04  2.42e+04    17s\n"
     ]
    },
    {
     "name": "stdout",
     "output_type": "stream",
     "text": [
      "  25   1.58341804e+11  1.40726559e+11  1.01e+00 2.69e-04  2.13e+04    18s\n"
     ]
    },
    {
     "name": "stderr",
     "output_type": "stream",
     "text": [
      "INFO:gurobipy:  25   1.58341804e+11  1.40726559e+11  1.01e+00 2.69e-04  2.13e+04    18s\n"
     ]
    },
    {
     "name": "stdout",
     "output_type": "stream",
     "text": [
      "  26   1.56213313e+11  1.43214352e+11  7.58e-01 1.83e-04  1.57e+04    18s\n"
     ]
    },
    {
     "name": "stderr",
     "output_type": "stream",
     "text": [
      "INFO:gurobipy:  26   1.56213313e+11  1.43214352e+11  7.58e-01 1.83e-04  1.57e+04    18s\n"
     ]
    },
    {
     "name": "stdout",
     "output_type": "stream",
     "text": [
      "  27   1.55172145e+11  1.44256324e+11  6.34e-01 1.45e-04  1.32e+04    19s\n"
     ]
    },
    {
     "name": "stderr",
     "output_type": "stream",
     "text": [
      "INFO:gurobipy:  27   1.55172145e+11  1.44256324e+11  6.34e-01 1.45e-04  1.32e+04    19s\n"
     ]
    },
    {
     "name": "stdout",
     "output_type": "stream",
     "text": [
      "  28   1.54624035e+11  1.44656125e+11  5.71e-01 1.33e-04  1.21e+04    20s\n"
     ]
    },
    {
     "name": "stderr",
     "output_type": "stream",
     "text": [
      "INFO:gurobipy:  28   1.54624035e+11  1.44656125e+11  5.71e-01 1.33e-04  1.21e+04    20s\n"
     ]
    },
    {
     "name": "stdout",
     "output_type": "stream",
     "text": [
      "  29   1.53227655e+11  1.45595831e+11  4.01e-01 1.01e-04  9.24e+03    20s\n"
     ]
    },
    {
     "name": "stderr",
     "output_type": "stream",
     "text": [
      "INFO:gurobipy:  29   1.53227655e+11  1.45595831e+11  4.01e-01 1.01e-04  9.24e+03    20s\n"
     ]
    },
    {
     "name": "stdout",
     "output_type": "stream",
     "text": [
      "  30   1.52579247e+11  1.46158521e+11  3.22e-01 8.38e-05  7.77e+03    21s\n"
     ]
    },
    {
     "name": "stderr",
     "output_type": "stream",
     "text": [
      "INFO:gurobipy:  30   1.52579247e+11  1.46158521e+11  3.22e-01 8.38e-05  7.77e+03    21s\n"
     ]
    },
    {
     "name": "stdout",
     "output_type": "stream",
     "text": [
      "  31   1.52169285e+11  1.46922760e+11  3.41e+01 6.44e-05  6.35e+03    22s\n"
     ]
    },
    {
     "name": "stderr",
     "output_type": "stream",
     "text": [
      "INFO:gurobipy:  31   1.52169285e+11  1.46922760e+11  3.41e+01 6.44e-05  6.35e+03    22s\n"
     ]
    },
    {
     "name": "stdout",
     "output_type": "stream",
     "text": [
      "  32   1.51925206e+11  1.47447152e+11  8.16e+01 5.17e-05  5.42e+03    23s\n"
     ]
    },
    {
     "name": "stderr",
     "output_type": "stream",
     "text": [
      "INFO:gurobipy:  32   1.51925206e+11  1.47447152e+11  8.16e+01 5.17e-05  5.42e+03    23s\n"
     ]
    },
    {
     "name": "stdout",
     "output_type": "stream",
     "text": [
      "  33   1.51572255e+11  1.47789310e+11  9.12e+01 4.25e-05  4.58e+03    23s\n"
     ]
    },
    {
     "name": "stderr",
     "output_type": "stream",
     "text": [
      "INFO:gurobipy:  33   1.51572255e+11  1.47789310e+11  9.12e+01 4.25e-05  4.58e+03    23s\n"
     ]
    },
    {
     "name": "stdout",
     "output_type": "stream",
     "text": [
      "  34   1.51460700e+11  1.47853084e+11  8.90e+01 4.11e-05  4.37e+03    24s\n"
     ]
    },
    {
     "name": "stderr",
     "output_type": "stream",
     "text": [
      "INFO:gurobipy:  34   1.51460700e+11  1.47853084e+11  8.90e+01 4.11e-05  4.37e+03    24s\n"
     ]
    },
    {
     "name": "stdout",
     "output_type": "stream",
     "text": [
      "  35   1.51200364e+11  1.48455499e+11  1.02e+02 2.85e-05  3.32e+03    25s\n"
     ]
    },
    {
     "name": "stderr",
     "output_type": "stream",
     "text": [
      "INFO:gurobipy:  35   1.51200364e+11  1.48455499e+11  1.02e+02 2.85e-05  3.32e+03    25s\n"
     ]
    },
    {
     "name": "stdout",
     "output_type": "stream",
     "text": [
      "  36   1.50978338e+11  1.48603988e+11  9.89e+01 2.55e-05  2.87e+03    25s\n"
     ]
    },
    {
     "name": "stderr",
     "output_type": "stream",
     "text": [
      "INFO:gurobipy:  36   1.50978338e+11  1.48603988e+11  9.89e+01 2.55e-05  2.87e+03    25s\n"
     ]
    },
    {
     "name": "stdout",
     "output_type": "stream",
     "text": [
      "  37   1.50833920e+11  1.48955818e+11  9.99e+01 1.87e-05  2.27e+03    26s\n"
     ]
    },
    {
     "name": "stderr",
     "output_type": "stream",
     "text": [
      "INFO:gurobipy:  37   1.50833920e+11  1.48955818e+11  9.99e+01 1.87e-05  2.27e+03    26s\n"
     ]
    },
    {
     "name": "stdout",
     "output_type": "stream",
     "text": [
      "  38   1.50722676e+11  1.49234853e+11  8.89e+01 1.34e-05  1.80e+03    27s\n"
     ]
    },
    {
     "name": "stderr",
     "output_type": "stream",
     "text": [
      "INFO:gurobipy:  38   1.50722676e+11  1.49234853e+11  8.89e+01 1.34e-05  1.80e+03    27s\n"
     ]
    },
    {
     "name": "stdout",
     "output_type": "stream",
     "text": [
      "  39   1.50612143e+11  1.49443401e+11  8.05e+01 9.73e-06  1.41e+03    27s\n"
     ]
    },
    {
     "name": "stderr",
     "output_type": "stream",
     "text": [
      "INFO:gurobipy:  39   1.50612143e+11  1.49443401e+11  8.05e+01 9.73e-06  1.41e+03    27s\n"
     ]
    },
    {
     "name": "stdout",
     "output_type": "stream",
     "text": [
      "  40   1.50540501e+11  1.49538539e+11  7.50e+01 8.03e-06  1.21e+03    28s\n"
     ]
    },
    {
     "name": "stderr",
     "output_type": "stream",
     "text": [
      "INFO:gurobipy:  40   1.50540501e+11  1.49538539e+11  7.50e+01 8.03e-06  1.21e+03    28s\n"
     ]
    },
    {
     "name": "stdout",
     "output_type": "stream",
     "text": [
      "  41   1.50446020e+11  1.49640832e+11  6.90e+01 6.27e-06  9.75e+02    29s\n"
     ]
    },
    {
     "name": "stderr",
     "output_type": "stream",
     "text": [
      "INFO:gurobipy:  41   1.50446020e+11  1.49640832e+11  6.90e+01 6.27e-06  9.75e+02    29s\n"
     ]
    },
    {
     "name": "stdout",
     "output_type": "stream",
     "text": [
      "  42   1.50369609e+11  1.49701283e+11  5.96e+01 5.20e-06  8.09e+02    30s\n"
     ]
    },
    {
     "name": "stderr",
     "output_type": "stream",
     "text": [
      "INFO:gurobipy:  42   1.50369609e+11  1.49701283e+11  5.96e+01 5.20e-06  8.09e+02    30s\n"
     ]
    },
    {
     "name": "stdout",
     "output_type": "stream",
     "text": [
      "  43   1.50341609e+11  1.49764166e+11  5.55e+01 4.17e-06  6.99e+02    30s\n"
     ]
    },
    {
     "name": "stderr",
     "output_type": "stream",
     "text": [
      "INFO:gurobipy:  43   1.50341609e+11  1.49764166e+11  5.55e+01 4.17e-06  6.99e+02    30s\n"
     ]
    },
    {
     "name": "stdout",
     "output_type": "stream",
     "text": [
      "  44   1.50282347e+11  1.49785412e+11  4.48e+01 3.71e-06  6.02e+02    31s\n"
     ]
    },
    {
     "name": "stderr",
     "output_type": "stream",
     "text": [
      "INFO:gurobipy:  44   1.50282347e+11  1.49785412e+11  4.48e+01 3.71e-06  6.02e+02    31s\n"
     ]
    },
    {
     "name": "stdout",
     "output_type": "stream",
     "text": [
      "  45   1.50225918e+11  1.49808583e+11  3.69e+01 3.23e-06  5.05e+02    31s\n"
     ]
    },
    {
     "name": "stderr",
     "output_type": "stream",
     "text": [
      "INFO:gurobipy:  45   1.50225918e+11  1.49808583e+11  3.69e+01 3.23e-06  5.05e+02    31s\n"
     ]
    },
    {
     "name": "stdout",
     "output_type": "stream",
     "text": [
      "  46   1.50178558e+11  1.49875269e+11  3.09e+01 2.26e-06  3.67e+02    32s\n"
     ]
    },
    {
     "name": "stderr",
     "output_type": "stream",
     "text": [
      "INFO:gurobipy:  46   1.50178558e+11  1.49875269e+11  3.09e+01 2.26e-06  3.67e+02    32s\n"
     ]
    },
    {
     "name": "stdout",
     "output_type": "stream",
     "text": [
      "  47   1.50161659e+11  1.49896156e+11  2.75e+01 1.96e-06  3.21e+02    33s\n"
     ]
    },
    {
     "name": "stderr",
     "output_type": "stream",
     "text": [
      "INFO:gurobipy:  47   1.50161659e+11  1.49896156e+11  2.75e+01 1.96e-06  3.21e+02    33s\n"
     ]
    },
    {
     "name": "stdout",
     "output_type": "stream",
     "text": [
      "  48   1.50130092e+11  1.49912418e+11  2.27e+01 1.62e-06  2.63e+02    33s\n"
     ]
    },
    {
     "name": "stderr",
     "output_type": "stream",
     "text": [
      "INFO:gurobipy:  48   1.50130092e+11  1.49912418e+11  2.27e+01 1.62e-06  2.63e+02    33s\n"
     ]
    },
    {
     "name": "stdout",
     "output_type": "stream",
     "text": [
      "  49   1.50118839e+11  1.49921329e+11  2.01e+01 1.44e-06  2.39e+02    34s\n"
     ]
    },
    {
     "name": "stderr",
     "output_type": "stream",
     "text": [
      "INFO:gurobipy:  49   1.50118839e+11  1.49921329e+11  2.01e+01 1.44e-06  2.39e+02    34s\n"
     ]
    },
    {
     "name": "stdout",
     "output_type": "stream",
     "text": [
      "  50   1.50109150e+11  1.49946890e+11  1.80e+01 1.11e-06  1.96e+02    35s\n"
     ]
    },
    {
     "name": "stderr",
     "output_type": "stream",
     "text": [
      "INFO:gurobipy:  50   1.50109150e+11  1.49946890e+11  1.80e+01 1.11e-06  1.96e+02    35s\n"
     ]
    },
    {
     "name": "stdout",
     "output_type": "stream",
     "text": [
      "  51   1.50101475e+11  1.49949649e+11  1.67e+01 1.07e-06  1.84e+02    35s\n"
     ]
    },
    {
     "name": "stderr",
     "output_type": "stream",
     "text": [
      "INFO:gurobipy:  51   1.50101475e+11  1.49949649e+11  1.67e+01 1.07e-06  1.84e+02    35s\n"
     ]
    },
    {
     "name": "stdout",
     "output_type": "stream",
     "text": [
      "  52   1.50095648e+11  1.49965044e+11  1.54e+01 8.69e-07  1.58e+02    36s\n"
     ]
    },
    {
     "name": "stderr",
     "output_type": "stream",
     "text": [
      "INFO:gurobipy:  52   1.50095648e+11  1.49965044e+11  1.54e+01 8.69e-07  1.58e+02    36s\n"
     ]
    },
    {
     "name": "stdout",
     "output_type": "stream",
     "text": [
      "  53   1.50087969e+11  1.49969109e+11  1.39e+01 7.86e-07  1.44e+02    37s\n"
     ]
    },
    {
     "name": "stderr",
     "output_type": "stream",
     "text": [
      "INFO:gurobipy:  53   1.50087969e+11  1.49969109e+11  1.39e+01 7.86e-07  1.44e+02    37s\n"
     ]
    },
    {
     "name": "stdout",
     "output_type": "stream",
     "text": [
      "  54   1.50085410e+11  1.49970864e+11  1.34e+01 7.63e-07  1.39e+02    37s\n"
     ]
    },
    {
     "name": "stderr",
     "output_type": "stream",
     "text": [
      "INFO:gurobipy:  54   1.50085410e+11  1.49970864e+11  1.34e+01 7.63e-07  1.39e+02    37s\n"
     ]
    },
    {
     "name": "stdout",
     "output_type": "stream",
     "text": [
      "  55   1.50080554e+11  1.49980069e+11  1.24e+01 6.43e-07  1.22e+02    38s\n"
     ]
    },
    {
     "name": "stderr",
     "output_type": "stream",
     "text": [
      "INFO:gurobipy:  55   1.50080554e+11  1.49980069e+11  1.24e+01 6.43e-07  1.22e+02    38s\n"
     ]
    },
    {
     "name": "stdout",
     "output_type": "stream",
     "text": [
      "  56   1.50076333e+11  1.49984529e+11  1.15e+01 5.85e-07  1.11e+02    39s\n"
     ]
    },
    {
     "name": "stderr",
     "output_type": "stream",
     "text": [
      "INFO:gurobipy:  56   1.50076333e+11  1.49984529e+11  1.15e+01 5.85e-07  1.11e+02    39s\n"
     ]
    },
    {
     "name": "stdout",
     "output_type": "stream",
     "text": [
      "  57   1.50071322e+11  1.49989065e+11  1.07e+01 5.25e-07  9.96e+01    39s\n"
     ]
    },
    {
     "name": "stderr",
     "output_type": "stream",
     "text": [
      "INFO:gurobipy:  57   1.50071322e+11  1.49989065e+11  1.07e+01 5.25e-07  9.96e+01    39s\n"
     ]
    },
    {
     "name": "stdout",
     "output_type": "stream",
     "text": [
      "  58   1.50068359e+11  1.49990554e+11  1.00e+01 5.05e-07  9.42e+01    40s\n"
     ]
    },
    {
     "name": "stderr",
     "output_type": "stream",
     "text": [
      "INFO:gurobipy:  58   1.50068359e+11  1.49990554e+11  1.00e+01 5.05e-07  9.42e+01    40s\n"
     ]
    },
    {
     "name": "stdout",
     "output_type": "stream",
     "text": [
      "  59   1.50064101e+11  1.49996921e+11  9.26e+00 4.19e-07  8.13e+01    41s\n"
     ]
    },
    {
     "name": "stderr",
     "output_type": "stream",
     "text": [
      "INFO:gurobipy:  59   1.50064101e+11  1.49996921e+11  9.26e+00 4.19e-07  8.13e+01    41s\n"
     ]
    },
    {
     "name": "stdout",
     "output_type": "stream",
     "text": [
      "  60   1.50058258e+11  1.50001109e+11  7.99e+00 3.35e-07  6.92e+01    41s\n"
     ]
    },
    {
     "name": "stderr",
     "output_type": "stream",
     "text": [
      "INFO:gurobipy:  60   1.50058258e+11  1.50001109e+11  7.99e+00 3.35e-07  6.92e+01    41s\n"
     ]
    },
    {
     "name": "stdout",
     "output_type": "stream",
     "text": [
      "  61   1.50056285e+11  1.50003792e+11  7.51e+00 3.01e-07  6.36e+01    42s\n"
     ]
    },
    {
     "name": "stderr",
     "output_type": "stream",
     "text": [
      "INFO:gurobipy:  61   1.50056285e+11  1.50003792e+11  7.51e+00 3.01e-07  6.36e+01    42s\n"
     ]
    },
    {
     "name": "stdout",
     "output_type": "stream",
     "text": [
      "  62   1.50052419e+11  1.50004491e+11  6.64e+00 2.87e-07  5.80e+01    43s\n"
     ]
    },
    {
     "name": "stderr",
     "output_type": "stream",
     "text": [
      "INFO:gurobipy:  62   1.50052419e+11  1.50004491e+11  6.64e+00 2.87e-07  5.80e+01    43s\n"
     ]
    },
    {
     "name": "stdout",
     "output_type": "stream",
     "text": [
      "  63   1.50048729e+11  1.50005823e+11  5.74e+00 2.60e-07  5.20e+01    43s\n"
     ]
    },
    {
     "name": "stderr",
     "output_type": "stream",
     "text": [
      "INFO:gurobipy:  63   1.50048729e+11  1.50005823e+11  5.74e+00 2.60e-07  5.20e+01    43s\n"
     ]
    },
    {
     "name": "stdout",
     "output_type": "stream",
     "text": [
      "  64   1.50047505e+11  1.50007117e+11  5.44e+00 2.36e-07  4.89e+01    44s\n"
     ]
    },
    {
     "name": "stderr",
     "output_type": "stream",
     "text": [
      "INFO:gurobipy:  64   1.50047505e+11  1.50007117e+11  5.44e+00 2.36e-07  4.89e+01    44s\n"
     ]
    },
    {
     "name": "stdout",
     "output_type": "stream",
     "text": [
      "  65   1.50044737e+11  1.50008803e+11  4.77e+00 2.09e-07  4.35e+01    45s\n"
     ]
    },
    {
     "name": "stderr",
     "output_type": "stream",
     "text": [
      "INFO:gurobipy:  65   1.50044737e+11  1.50008803e+11  4.77e+00 2.09e-07  4.35e+01    45s\n"
     ]
    },
    {
     "name": "stdout",
     "output_type": "stream",
     "text": [
      "  66   1.50043648e+11  1.50009574e+11  4.54e+00 2.07e-07  4.13e+01    45s\n"
     ]
    },
    {
     "name": "stderr",
     "output_type": "stream",
     "text": [
      "INFO:gurobipy:  66   1.50043648e+11  1.50009574e+11  4.54e+00 2.07e-07  4.13e+01    45s\n"
     ]
    },
    {
     "name": "stdout",
     "output_type": "stream",
     "text": [
      "  67   1.50042823e+11  1.50011455e+11  4.28e+00 1.90e-07  3.80e+01    46s\n"
     ]
    },
    {
     "name": "stderr",
     "output_type": "stream",
     "text": [
      "INFO:gurobipy:  67   1.50042823e+11  1.50011455e+11  4.28e+00 1.90e-07  3.80e+01    46s\n"
     ]
    },
    {
     "name": "stdout",
     "output_type": "stream",
     "text": [
      "  68   1.50040436e+11  1.50012294e+11  3.70e+00 1.82e-07  3.41e+01    47s\n"
     ]
    },
    {
     "name": "stderr",
     "output_type": "stream",
     "text": [
      "INFO:gurobipy:  68   1.50040436e+11  1.50012294e+11  3.70e+00 1.82e-07  3.41e+01    47s\n"
     ]
    },
    {
     "name": "stdout",
     "output_type": "stream",
     "text": [
      "  69   1.50039982e+11  1.50013024e+11  3.58e+00 1.74e-07  3.26e+01    47s\n"
     ]
    },
    {
     "name": "stderr",
     "output_type": "stream",
     "text": [
      "INFO:gurobipy:  69   1.50039982e+11  1.50013024e+11  3.58e+00 1.74e-07  3.26e+01    47s\n"
     ]
    },
    {
     "name": "stdout",
     "output_type": "stream",
     "text": [
      "  70   1.50038950e+11  1.50013966e+11  3.36e+00 1.64e-07  3.03e+01    48s\n"
     ]
    },
    {
     "name": "stderr",
     "output_type": "stream",
     "text": [
      "INFO:gurobipy:  70   1.50038950e+11  1.50013966e+11  3.36e+00 1.64e-07  3.03e+01    48s\n"
     ]
    },
    {
     "name": "stdout",
     "output_type": "stream",
     "text": [
      "  71   1.50037888e+11  1.50014773e+11  3.13e+00 1.55e-07  2.80e+01    49s\n"
     ]
    },
    {
     "name": "stderr",
     "output_type": "stream",
     "text": [
      "INFO:gurobipy:  71   1.50037888e+11  1.50014773e+11  3.13e+00 1.55e-07  2.80e+01    49s\n"
     ]
    },
    {
     "name": "stdout",
     "output_type": "stream",
     "text": [
      "  72   1.50036444e+11  1.50015636e+11  2.79e+00 1.44e-07  2.52e+01    49s\n"
     ]
    },
    {
     "name": "stderr",
     "output_type": "stream",
     "text": [
      "INFO:gurobipy:  72   1.50036444e+11  1.50015636e+11  2.79e+00 1.44e-07  2.52e+01    49s\n"
     ]
    },
    {
     "name": "stdout",
     "output_type": "stream",
     "text": [
      "  73   1.50036351e+11  1.50015876e+11  2.76e+00 1.42e-07  2.48e+01    50s\n"
     ]
    },
    {
     "name": "stderr",
     "output_type": "stream",
     "text": [
      "INFO:gurobipy:  73   1.50036351e+11  1.50015876e+11  2.76e+00 1.42e-07  2.48e+01    50s\n"
     ]
    },
    {
     "name": "stdout",
     "output_type": "stream",
     "text": [
      "  74   1.50034826e+11  1.50016099e+11  2.39e+00 1.40e-07  2.27e+01    51s\n"
     ]
    },
    {
     "name": "stderr",
     "output_type": "stream",
     "text": [
      "INFO:gurobipy:  74   1.50034826e+11  1.50016099e+11  2.39e+00 1.40e-07  2.27e+01    51s\n"
     ]
    },
    {
     "name": "stdout",
     "output_type": "stream",
     "text": [
      "  75   1.50034578e+11  1.50016746e+11  2.32e+00 1.31e-07  2.16e+01    51s\n"
     ]
    },
    {
     "name": "stderr",
     "output_type": "stream",
     "text": [
      "INFO:gurobipy:  75   1.50034578e+11  1.50016746e+11  2.32e+00 1.31e-07  2.16e+01    51s\n"
     ]
    },
    {
     "name": "stdout",
     "output_type": "stream",
     "text": [
      "  76   1.50034041e+11  1.50018691e+11  2.20e+00 1.14e-07  1.86e+01    52s\n"
     ]
    },
    {
     "name": "stderr",
     "output_type": "stream",
     "text": [
      "INFO:gurobipy:  76   1.50034041e+11  1.50018691e+11  2.20e+00 1.14e-07  1.86e+01    52s\n"
     ]
    },
    {
     "name": "stdout",
     "output_type": "stream",
     "text": [
      "  77   1.50033746e+11  1.50018996e+11  2.13e+00 1.11e-07  1.79e+01    53s\n"
     ]
    },
    {
     "name": "stderr",
     "output_type": "stream",
     "text": [
      "INFO:gurobipy:  77   1.50033746e+11  1.50018996e+11  2.13e+00 1.11e-07  1.79e+01    53s\n"
     ]
    },
    {
     "name": "stdout",
     "output_type": "stream",
     "text": [
      "  78   1.50033564e+11  1.50019373e+11  2.08e+00 1.07e-07  1.72e+01    53s\n"
     ]
    },
    {
     "name": "stderr",
     "output_type": "stream",
     "text": [
      "INFO:gurobipy:  78   1.50033564e+11  1.50019373e+11  2.08e+00 1.07e-07  1.72e+01    53s\n"
     ]
    },
    {
     "name": "stdout",
     "output_type": "stream",
     "text": [
      "  79   1.50032790e+11  1.50020146e+11  1.93e+00 9.95e-08  1.53e+01    54s\n"
     ]
    },
    {
     "name": "stderr",
     "output_type": "stream",
     "text": [
      "INFO:gurobipy:  79   1.50032790e+11  1.50020146e+11  1.93e+00 9.95e-08  1.53e+01    54s\n"
     ]
    },
    {
     "name": "stdout",
     "output_type": "stream",
     "text": [
      "  80   1.50032530e+11  1.50020396e+11  1.86e+00 9.66e-08  1.47e+01    55s\n"
     ]
    },
    {
     "name": "stderr",
     "output_type": "stream",
     "text": [
      "INFO:gurobipy:  80   1.50032530e+11  1.50020396e+11  1.86e+00 9.66e-08  1.47e+01    55s\n"
     ]
    },
    {
     "name": "stdout",
     "output_type": "stream",
     "text": [
      "  81   1.50032206e+11  1.50020568e+11  1.76e+00 9.39e-08  1.41e+01    55s\n"
     ]
    },
    {
     "name": "stderr",
     "output_type": "stream",
     "text": [
      "INFO:gurobipy:  81   1.50032206e+11  1.50020568e+11  1.76e+00 9.39e-08  1.41e+01    55s\n"
     ]
    },
    {
     "name": "stdout",
     "output_type": "stream",
     "text": [
      "  82   1.50031898e+11  1.50021081e+11  1.67e+00 8.65e-08  1.31e+01    56s\n"
     ]
    },
    {
     "name": "stderr",
     "output_type": "stream",
     "text": [
      "INFO:gurobipy:  82   1.50031898e+11  1.50021081e+11  1.67e+00 8.65e-08  1.31e+01    56s\n"
     ]
    },
    {
     "name": "stdout",
     "output_type": "stream",
     "text": [
      "  83   1.50031325e+11  1.50021840e+11  1.54e+00 7.47e-08  1.15e+01    57s\n"
     ]
    },
    {
     "name": "stderr",
     "output_type": "stream",
     "text": [
      "INFO:gurobipy:  83   1.50031325e+11  1.50021840e+11  1.54e+00 7.47e-08  1.15e+01    57s\n"
     ]
    },
    {
     "name": "stdout",
     "output_type": "stream",
     "text": [
      "  84   1.50031115e+11  1.50022296e+11  1.48e+00 6.94e-08  1.07e+01    58s\n"
     ]
    },
    {
     "name": "stderr",
     "output_type": "stream",
     "text": [
      "INFO:gurobipy:  84   1.50031115e+11  1.50022296e+11  1.48e+00 6.94e-08  1.07e+01    58s\n"
     ]
    },
    {
     "name": "stdout",
     "output_type": "stream",
     "text": [
      "  85   1.50030769e+11  1.50022370e+11  1.38e+00 6.84e-08  1.02e+01    58s\n"
     ]
    },
    {
     "name": "stderr",
     "output_type": "stream",
     "text": [
      "INFO:gurobipy:  85   1.50030769e+11  1.50022370e+11  1.38e+00 6.84e-08  1.02e+01    58s\n"
     ]
    },
    {
     "name": "stdout",
     "output_type": "stream",
     "text": [
      "  86   1.50029950e+11  1.50023445e+11  1.14e+00 5.83e-08  7.88e+00    59s\n"
     ]
    },
    {
     "name": "stderr",
     "output_type": "stream",
     "text": [
      "INFO:gurobipy:  86   1.50029950e+11  1.50023445e+11  1.14e+00 5.83e-08  7.88e+00    59s\n"
     ]
    },
    {
     "name": "stdout",
     "output_type": "stream",
     "text": [
      "  87   1.50029202e+11  1.50024041e+11  9.61e-01 4.57e-08  6.25e+00    60s\n"
     ]
    },
    {
     "name": "stderr",
     "output_type": "stream",
     "text": [
      "INFO:gurobipy:  87   1.50029202e+11  1.50024041e+11  9.61e-01 4.57e-08  6.25e+00    60s\n"
     ]
    },
    {
     "name": "stdout",
     "output_type": "stream",
     "text": [
      "  88   1.50028780e+11  1.50024383e+11  8.43e-01 4.07e-08  5.33e+00    60s\n"
     ]
    },
    {
     "name": "stderr",
     "output_type": "stream",
     "text": [
      "INFO:gurobipy:  88   1.50028780e+11  1.50024383e+11  8.43e-01 4.07e-08  5.33e+00    60s\n"
     ]
    },
    {
     "name": "stdout",
     "output_type": "stream",
     "text": [
      "  89   1.50028286e+11  1.50024657e+11  7.27e-01 3.52e-08  4.39e+00    61s\n"
     ]
    },
    {
     "name": "stderr",
     "output_type": "stream",
     "text": [
      "INFO:gurobipy:  89   1.50028286e+11  1.50024657e+11  7.27e-01 3.52e-08  4.39e+00    61s\n"
     ]
    },
    {
     "name": "stdout",
     "output_type": "stream",
     "text": [
      "  90   1.50028110e+11  1.50024729e+11  6.74e-01 3.36e-08  4.09e+00    62s\n"
     ]
    },
    {
     "name": "stderr",
     "output_type": "stream",
     "text": [
      "INFO:gurobipy:  90   1.50028110e+11  1.50024729e+11  6.74e-01 3.36e-08  4.09e+00    62s\n"
     ]
    },
    {
     "name": "stdout",
     "output_type": "stream",
     "text": [
      "  91   1.50028031e+11  1.50024758e+11  6.50e-01 3.31e-08  3.96e+00    62s\n"
     ]
    },
    {
     "name": "stderr",
     "output_type": "stream",
     "text": [
      "INFO:gurobipy:  91   1.50028031e+11  1.50024758e+11  6.50e-01 3.31e-08  3.96e+00    62s\n"
     ]
    },
    {
     "name": "stdout",
     "output_type": "stream",
     "text": [
      "  92   1.50027905e+11  1.50024812e+11  6.11e-01 3.17e-08  3.74e+00    63s\n"
     ]
    },
    {
     "name": "stderr",
     "output_type": "stream",
     "text": [
      "INFO:gurobipy:  92   1.50027905e+11  1.50024812e+11  6.11e-01 3.17e-08  3.74e+00    63s\n"
     ]
    },
    {
     "name": "stdout",
     "output_type": "stream",
     "text": [
      "  93   1.50027841e+11  1.50024828e+11  5.91e-01 3.15e-08  3.65e+00    64s\n"
     ]
    },
    {
     "name": "stderr",
     "output_type": "stream",
     "text": [
      "INFO:gurobipy:  93   1.50027841e+11  1.50024828e+11  5.91e-01 3.15e-08  3.65e+00    64s\n"
     ]
    },
    {
     "name": "stdout",
     "output_type": "stream",
     "text": [
      "  94   1.50027689e+11  1.50024965e+11  5.45e-01 2.93e-08  3.30e+00    64s\n"
     ]
    },
    {
     "name": "stderr",
     "output_type": "stream",
     "text": [
      "INFO:gurobipy:  94   1.50027689e+11  1.50024965e+11  5.45e-01 2.93e-08  3.30e+00    64s\n"
     ]
    },
    {
     "name": "stdout",
     "output_type": "stream",
     "text": [
      "  95   1.50027491e+11  1.50025197e+11  4.82e-01 2.27e-08  2.78e+00    65s\n"
     ]
    },
    {
     "name": "stderr",
     "output_type": "stream",
     "text": [
      "INFO:gurobipy:  95   1.50027491e+11  1.50025197e+11  4.82e-01 2.27e-08  2.78e+00    65s\n"
     ]
    },
    {
     "name": "stdout",
     "output_type": "stream",
     "text": [
      "  96   1.50027243e+11  1.50025297e+11  4.15e-01 2.01e-08  2.36e+00    66s\n"
     ]
    },
    {
     "name": "stderr",
     "output_type": "stream",
     "text": [
      "INFO:gurobipy:  96   1.50027243e+11  1.50025297e+11  4.15e-01 2.01e-08  2.36e+00    66s\n"
     ]
    },
    {
     "name": "stdout",
     "output_type": "stream",
     "text": [
      "  97   1.50026890e+11  1.50025495e+11  3.17e-01 1.43e-08  1.69e+00    66s\n"
     ]
    },
    {
     "name": "stderr",
     "output_type": "stream",
     "text": [
      "INFO:gurobipy:  97   1.50026890e+11  1.50025495e+11  3.17e-01 1.43e-08  1.69e+00    66s\n"
     ]
    },
    {
     "name": "stdout",
     "output_type": "stream",
     "text": [
      "  98   1.50026313e+11  1.50025819e+11  1.20e-01 1.56e-08  5.98e-01    67s\n"
     ]
    },
    {
     "name": "stderr",
     "output_type": "stream",
     "text": [
      "INFO:gurobipy:  98   1.50026313e+11  1.50025819e+11  1.20e-01 1.56e-08  5.98e-01    67s\n"
     ]
    },
    {
     "name": "stdout",
     "output_type": "stream",
     "text": [
      "  99   1.50026104e+11  1.50025924e+11  5.07e-02 4.79e-09  2.17e-01    68s\n"
     ]
    },
    {
     "name": "stderr",
     "output_type": "stream",
     "text": [
      "INFO:gurobipy:  99   1.50026104e+11  1.50025924e+11  5.07e-02 4.79e-09  2.17e-01    68s\n"
     ]
    },
    {
     "name": "stdout",
     "output_type": "stream",
     "text": [
      " 100   1.50026027e+11  1.50025936e+11  2.68e-02 3.93e-09  1.11e-01    69s\n"
     ]
    },
    {
     "name": "stderr",
     "output_type": "stream",
     "text": [
      "INFO:gurobipy: 100   1.50026027e+11  1.50025936e+11  2.68e-02 3.93e-09  1.11e-01    69s\n"
     ]
    },
    {
     "name": "stdout",
     "output_type": "stream",
     "text": [
      " 101   1.50026019e+11  1.50025936e+11  2.40e-02 3.72e-08  9.95e-02    69s\n"
     ]
    },
    {
     "name": "stderr",
     "output_type": "stream",
     "text": [
      "INFO:gurobipy: 101   1.50026019e+11  1.50025936e+11  2.40e-02 3.72e-08  9.95e-02    69s\n"
     ]
    },
    {
     "name": "stdout",
     "output_type": "stream",
     "text": [
      " 102   1.50026002e+11  1.50025937e+11  1.89e-02 2.84e-08  7.95e-02    70s\n"
     ]
    },
    {
     "name": "stderr",
     "output_type": "stream",
     "text": [
      "INFO:gurobipy: 102   1.50026002e+11  1.50025937e+11  1.89e-02 2.84e-08  7.95e-02    70s\n"
     ]
    },
    {
     "name": "stdout",
     "output_type": "stream",
     "text": [
      " 103   1.50025996e+11  1.50025938e+11  1.70e-02 5.67e-08  7.11e-02    70s\n"
     ]
    },
    {
     "name": "stderr",
     "output_type": "stream",
     "text": [
      "INFO:gurobipy: 103   1.50025996e+11  1.50025938e+11  1.70e-02 5.67e-08  7.11e-02    70s\n"
     ]
    },
    {
     "name": "stdout",
     "output_type": "stream",
     "text": [
      " 104   1.50025965e+11  1.50025938e+11  7.50e-03 7.88e-08  3.24e-02    71s\n"
     ]
    },
    {
     "name": "stderr",
     "output_type": "stream",
     "text": [
      "INFO:gurobipy: 104   1.50025965e+11  1.50025938e+11  7.50e-03 7.88e-08  3.24e-02    71s\n"
     ]
    },
    {
     "name": "stdout",
     "output_type": "stream",
     "text": [
      " 105   1.50025943e+11  1.50025939e+11  1.20e-03 1.13e-08  5.15e-03    71s\n"
     ]
    },
    {
     "name": "stderr",
     "output_type": "stream",
     "text": [
      "INFO:gurobipy: 105   1.50025943e+11  1.50025939e+11  1.20e-03 1.13e-08  5.15e-03    71s\n"
     ]
    },
    {
     "name": "stdout",
     "output_type": "stream",
     "text": [
      " 106   1.50025939e+11  1.50025939e+11  1.49e-05 4.35e-09  6.80e-07    71s\n"
     ]
    },
    {
     "name": "stderr",
     "output_type": "stream",
     "text": [
      "INFO:gurobipy: 106   1.50025939e+11  1.50025939e+11  1.49e-05 4.35e-09  6.80e-07    71s\n"
     ]
    },
    {
     "name": "stdout",
     "output_type": "stream",
     "text": [
      " 107   1.50025939e+11  1.50025939e+11  1.11e-07 1.01e-07  2.09e-08    72s\n"
     ]
    },
    {
     "name": "stderr",
     "output_type": "stream",
     "text": [
      "INFO:gurobipy: 107   1.50025939e+11  1.50025939e+11  1.11e-07 1.01e-07  2.09e-08    72s\n"
     ]
    },
    {
     "name": "stdout",
     "output_type": "stream",
     "text": [
      " 108   1.50025939e+11  1.50025939e+11  6.41e-06 7.45e-09  1.39e-13    73s\n"
     ]
    },
    {
     "name": "stderr",
     "output_type": "stream",
     "text": [
      "INFO:gurobipy: 108   1.50025939e+11  1.50025939e+11  6.41e-06 7.45e-09  1.39e-13    73s\n"
     ]
    },
    {
     "name": "stdout",
     "output_type": "stream",
     "text": [
      "\n"
     ]
    },
    {
     "name": "stderr",
     "output_type": "stream",
     "text": [
      "INFO:gurobipy:\n"
     ]
    },
    {
     "name": "stdout",
     "output_type": "stream",
     "text": [
      "Barrier solved model in 108 iterations and 72.59 seconds (26.55 work units)\n"
     ]
    },
    {
     "name": "stderr",
     "output_type": "stream",
     "text": [
      "INFO:gurobipy:Barrier solved model in 108 iterations and 72.59 seconds (26.55 work units)\n"
     ]
    },
    {
     "name": "stdout",
     "output_type": "stream",
     "text": [
      "Optimal objective 1.50025939e+11\n"
     ]
    },
    {
     "name": "stderr",
     "output_type": "stream",
     "text": [
      "INFO:gurobipy:Optimal objective 1.50025939e+11\n"
     ]
    },
    {
     "name": "stdout",
     "output_type": "stream",
     "text": [
      "\n"
     ]
    },
    {
     "name": "stderr",
     "output_type": "stream",
     "text": [
      "INFO:gurobipy:\n"
     ]
    },
    {
     "name": "stdout",
     "output_type": "stream",
     "text": [
      "Crossover log...\n"
     ]
    },
    {
     "name": "stderr",
     "output_type": "stream",
     "text": [
      "INFO:gurobipy:Crossover log...\n"
     ]
    },
    {
     "name": "stdout",
     "output_type": "stream",
     "text": [
      "\n"
     ]
    },
    {
     "name": "stderr",
     "output_type": "stream",
     "text": [
      "INFO:gurobipy:\n"
     ]
    },
    {
     "name": "stdout",
     "output_type": "stream",
     "text": [
      "  166644 DPushes remaining with DInf 0.0000000e+00                73s\n"
     ]
    },
    {
     "name": "stderr",
     "output_type": "stream",
     "text": [
      "INFO:gurobipy:  166644 DPushes remaining with DInf 0.0000000e+00                73s\n"
     ]
    },
    {
     "name": "stdout",
     "output_type": "stream",
     "text": [
      "       0 DPushes remaining with DInf 0.0000000e+00                75s\n"
     ]
    },
    {
     "name": "stderr",
     "output_type": "stream",
     "text": [
      "INFO:gurobipy:       0 DPushes remaining with DInf 0.0000000e+00                75s\n"
     ]
    },
    {
     "name": "stdout",
     "output_type": "stream",
     "text": [
      "Warning: Markowitz tolerance tightened to 0.5\n"
     ]
    },
    {
     "name": "stderr",
     "output_type": "stream",
     "text": [
      "INFO:gurobipy:Warning: Markowitz tolerance tightened to 0.5\n"
     ]
    },
    {
     "name": "stdout",
     "output_type": "stream",
     "text": [
      "\n"
     ]
    },
    {
     "name": "stderr",
     "output_type": "stream",
     "text": [
      "INFO:gurobipy:\n"
     ]
    },
    {
     "name": "stdout",
     "output_type": "stream",
     "text": [
      "   61795 PPushes remaining with PInf 0.0000000e+00                75s\n"
     ]
    },
    {
     "name": "stderr",
     "output_type": "stream",
     "text": [
      "INFO:gurobipy:   61795 PPushes remaining with PInf 0.0000000e+00                75s\n"
     ]
    },
    {
     "name": "stdout",
     "output_type": "stream",
     "text": [
      "   41634 PPushes remaining with PInf 0.0000000e+00                80s\n"
     ]
    },
    {
     "name": "stderr",
     "output_type": "stream",
     "text": [
      "INFO:gurobipy:   41634 PPushes remaining with PInf 0.0000000e+00                80s\n"
     ]
    },
    {
     "name": "stdout",
     "output_type": "stream",
     "text": [
      "   35422 PPushes remaining with PInf 0.0000000e+00                85s\n"
     ]
    },
    {
     "name": "stderr",
     "output_type": "stream",
     "text": [
      "INFO:gurobipy:   35422 PPushes remaining with PInf 0.0000000e+00                85s\n"
     ]
    },
    {
     "name": "stdout",
     "output_type": "stream",
     "text": [
      "   30625 PPushes remaining with PInf 0.0000000e+00                90s\n"
     ]
    },
    {
     "name": "stderr",
     "output_type": "stream",
     "text": [
      "INFO:gurobipy:   30625 PPushes remaining with PInf 0.0000000e+00                90s\n"
     ]
    },
    {
     "name": "stdout",
     "output_type": "stream",
     "text": [
      "   25661 PPushes remaining with PInf 0.0000000e+00                95s\n"
     ]
    },
    {
     "name": "stderr",
     "output_type": "stream",
     "text": [
      "INFO:gurobipy:   25661 PPushes remaining with PInf 0.0000000e+00                95s\n"
     ]
    },
    {
     "name": "stdout",
     "output_type": "stream",
     "text": [
      "   20376 PPushes remaining with PInf 0.0000000e+00               100s\n"
     ]
    },
    {
     "name": "stderr",
     "output_type": "stream",
     "text": [
      "INFO:gurobipy:   20376 PPushes remaining with PInf 0.0000000e+00               100s\n"
     ]
    },
    {
     "name": "stdout",
     "output_type": "stream",
     "text": [
      "   15279 PPushes remaining with PInf 0.0000000e+00               105s\n"
     ]
    },
    {
     "name": "stderr",
     "output_type": "stream",
     "text": [
      "INFO:gurobipy:   15279 PPushes remaining with PInf 0.0000000e+00               105s\n"
     ]
    },
    {
     "name": "stdout",
     "output_type": "stream",
     "text": [
      "    9321 PPushes remaining with PInf 0.0000000e+00               110s\n"
     ]
    },
    {
     "name": "stderr",
     "output_type": "stream",
     "text": [
      "INFO:gurobipy:    9321 PPushes remaining with PInf 0.0000000e+00               110s\n"
     ]
    },
    {
     "name": "stdout",
     "output_type": "stream",
     "text": [
      "    3957 PPushes remaining with PInf 0.0000000e+00               115s\n"
     ]
    },
    {
     "name": "stderr",
     "output_type": "stream",
     "text": [
      "INFO:gurobipy:    3957 PPushes remaining with PInf 0.0000000e+00               115s\n"
     ]
    },
    {
     "name": "stdout",
     "output_type": "stream",
     "text": [
      "       0 PPushes remaining with PInf 0.0000000e+00               120s\n"
     ]
    },
    {
     "name": "stderr",
     "output_type": "stream",
     "text": [
      "INFO:gurobipy:       0 PPushes remaining with PInf 0.0000000e+00               120s\n"
     ]
    },
    {
     "name": "stdout",
     "output_type": "stream",
     "text": [
      "\n"
     ]
    },
    {
     "name": "stderr",
     "output_type": "stream",
     "text": [
      "INFO:gurobipy:\n"
     ]
    },
    {
     "name": "stdout",
     "output_type": "stream",
     "text": [
      "  Push phase complete: Pinf 0.0000000e+00, Dinf 3.5595324e-09    120s\n"
     ]
    },
    {
     "name": "stderr",
     "output_type": "stream",
     "text": [
      "INFO:gurobipy:  Push phase complete: Pinf 0.0000000e+00, Dinf 3.5595324e-09    120s\n"
     ]
    },
    {
     "name": "stdout",
     "output_type": "stream",
     "text": [
      "\n"
     ]
    },
    {
     "name": "stderr",
     "output_type": "stream",
     "text": [
      "INFO:gurobipy:\n"
     ]
    },
    {
     "name": "stdout",
     "output_type": "stream",
     "text": [
      "\n"
     ]
    },
    {
     "name": "stderr",
     "output_type": "stream",
     "text": [
      "INFO:gurobipy:\n"
     ]
    },
    {
     "name": "stdout",
     "output_type": "stream",
     "text": [
      "Solved with barrier\n"
     ]
    },
    {
     "name": "stderr",
     "output_type": "stream",
     "text": [
      "INFO:gurobipy:Solved with barrier\n"
     ]
    },
    {
     "name": "stdout",
     "output_type": "stream",
     "text": [
      "Extra simplex iterations after uncrush: 1\n"
     ]
    },
    {
     "name": "stderr",
     "output_type": "stream",
     "text": [
      "INFO:gurobipy:Extra simplex iterations after uncrush: 1\n"
     ]
    },
    {
     "name": "stdout",
     "output_type": "stream",
     "text": [
      "Iteration    Objective       Primal Inf.    Dual Inf.      Time\n"
     ]
    },
    {
     "name": "stderr",
     "output_type": "stream",
     "text": [
      "INFO:gurobipy:Iteration    Objective       Primal Inf.    Dual Inf.      Time\n"
     ]
    },
    {
     "name": "stdout",
     "output_type": "stream",
     "text": [
      "  129744    1.5002594e+11   0.000000e+00   0.000000e+00    121s\n"
     ]
    },
    {
     "name": "stderr",
     "output_type": "stream",
     "text": [
      "INFO:gurobipy:  129744    1.5002594e+11   0.000000e+00   0.000000e+00    121s\n"
     ]
    },
    {
     "name": "stdout",
     "output_type": "stream",
     "text": [
      "\n"
     ]
    },
    {
     "name": "stderr",
     "output_type": "stream",
     "text": [
      "INFO:gurobipy:\n"
     ]
    },
    {
     "name": "stdout",
     "output_type": "stream",
     "text": [
      "Solved in 129744 iterations and 120.93 seconds (56.50 work units)\n"
     ]
    },
    {
     "name": "stderr",
     "output_type": "stream",
     "text": [
      "INFO:gurobipy:Solved in 129744 iterations and 120.93 seconds (56.50 work units)\n"
     ]
    },
    {
     "name": "stdout",
     "output_type": "stream",
     "text": [
      "Optimal objective  1.500259393e+11\n"
     ]
    },
    {
     "name": "stderr",
     "output_type": "stream",
     "text": [
      "INFO:gurobipy:Optimal objective  1.500259393e+11\n",
      "INFO:linopy.constants: Optimization successful: \n",
      "Status: ok\n",
      "Termination condition: optimal\n",
      "Solution: 438033 primals, 946114 duals\n",
      "Objective: 1.50e+11\n",
      "Solver model: available\n",
      "Solver message: 2\n",
      "\n",
      "INFO:pypsa.optimization.optimize:The shadow-prices of the constraints Generator-fix-p-lower, Generator-fix-p-upper, Generator-ext-p-lower, Generator-ext-p-upper, Line-fix-s-lower, Line-fix-s-upper, Link-ext-p-lower, Link-ext-p-upper, Store-fix-e-lower, Store-fix-e-upper, Store-ext-e-lower, Store-ext-e-upper, StorageUnit-ext-p_dispatch-lower, StorageUnit-ext-p_dispatch-upper, StorageUnit-ext-p_store-lower, StorageUnit-ext-p_store-upper, StorageUnit-ext-state_of_charge-lower, StorageUnit-ext-state_of_charge-upper, StorageUnit-energy_balance, Store-energy_balance were not assigned to the network.\n"
     ]
    },
    {
     "data": {
      "text/plain": [
       "('ok', 'optimal')"
      ]
     },
     "execution_count": 196,
     "metadata": {},
     "output_type": "execute_result"
    }
   ],
   "source": [
    "n.optimize(solver_name='gurobi')\n"
   ]
  },
  {
   "cell_type": "code",
   "execution_count": 197,
   "id": "cd8be8df",
   "metadata": {},
   "outputs": [
    {
     "name": "stdout",
     "output_type": "stream",
     "text": [
      "Generator\n",
      "onshorewindDEU      394687.311638\n",
      "offshorewindDEU          0.000000\n",
      "PVDEU               322246.322105\n",
      "OCGTDEU              11899.410801\n",
      "coalDEU                  0.000000\n",
      "onshorewindDNK       31757.054971\n",
      "offshorewindDNK          0.000000\n",
      "PVDNK                 7086.307705\n",
      "OCGTDNK                  0.000000\n",
      "PVAUT               131805.658551\n",
      "OCGTAUT                  0.000000\n",
      "gas_supply         1000000.000000\n",
      "Name: p_nom_opt, dtype: float64\n"
     ]
    }
   ],
   "source": [
    "# Installed capacities (MW)\n",
    "print(n.generators.p_nom_opt)\n"
   ]
  },
  {
   "cell_type": "code",
   "execution_count": 198,
   "id": "a959f1b8",
   "metadata": {},
   "outputs": [
    {
     "name": "stdout",
     "output_type": "stream",
     "text": [
      "Link\n",
      "heat_pump_DEU            0.000000\n",
      "CHP_DEU             558493.061129\n",
      "heat_pump_DNK            0.000000\n",
      "CHP_DNK              34800.945573\n",
      "heat_pump_AUT            0.000000\n",
      "CHP_AUT              53540.629555\n",
      "electrolyzer_DEU    176030.156639\n",
      "H2_heater_DEU       173443.530337\n",
      "H2 Fuel Cell_DEU         0.000000\n",
      "electrolyzer_DNK     12596.468459\n",
      "H2_heater_DNK        11659.263188\n",
      "H2 Fuel Cell_DNK         0.000000\n",
      "electrolyzer_AUT     18710.244015\n",
      "H2_heater_AUT        17149.590440\n",
      "H2 Fuel Cell_AUT         0.000000\n",
      "Name: p_nom_opt, dtype: float64\n"
     ]
    }
   ],
   "source": [
    "print(n.links.p_nom_opt)\n"
   ]
  },
  {
   "cell_type": "code",
   "execution_count": 199,
   "id": "e433bfd6",
   "metadata": {},
   "outputs": [
    {
     "name": "stdout",
     "output_type": "stream",
     "text": [
      "Store\n",
      "H2_tank_DEU    6.503278e+05\n",
      "H2_tank_DNK    3.265432e+04\n",
      "H2_tank_AUT    3.369354e+04\n",
      "gas_store      1.000000e+09\n",
      "Name: e_nom_opt, dtype: float64\n"
     ]
    }
   ],
   "source": [
    "print(n.stores.e_nom_opt)\n"
   ]
  },
  {
   "cell_type": "code",
   "execution_count": 200,
   "id": "0bfc7756",
   "metadata": {},
   "outputs": [
    {
     "name": "stdout",
     "output_type": "stream",
     "text": [
      "StorageUnit\n",
      "batteryDEU    11796.849728\n",
      "batteryDNK        0.000000\n",
      "hydroAUT      50386.175700\n",
      "batteryAUT        0.000000\n",
      "Name: p_nom_opt, dtype: float64\n"
     ]
    }
   ],
   "source": [
    "print(n.storage_units.p_nom_opt)\n"
   ]
  },
  {
   "cell_type": "code",
   "execution_count": 201,
   "id": "2db9371e",
   "metadata": {},
   "outputs": [
    {
     "data": {
      "image/png": "[encoded data removed]",
      "text/plain": [
       "<Figure size 1600x400 with 3 Axes>"
      ]
     },
     "metadata": {},
     "output_type": "display_data"
    }
   ],
   "source": [
    "colors_heat = {\n",
    "    'heat pump': 'green',\n",
    "    'CHP (gas)': 'red',\n",
    "    'H2 heater': 'pink'\n",
    "}\n",
    "\n",
    "plt.figure(figsize=(16, 4))\n",
    "\n",
    "for i, country in enumerate(countries):\n",
    "    labels = []\n",
    "    sizes = []\n",
    "\n",
    "    # Heat pump output (electricity -> heat)\n",
    "    hp = f'heat_pump_{country}'\n",
    "    if hp in n.links.index:\n",
    "        value = -n.links_t.p1[hp].sum()  # flip sign\n",
    "        if value > 0.1:\n",
    "            labels.append('heat pump')\n",
    "            sizes.append(value)\n",
    "\n",
    "    # CHP output (gas -> electricity + heat)\n",
    "    chp = f'CHP_{country}'\n",
    "    if chp in n.links.index:\n",
    "        value = -n.links_t.p2[chp].sum()  # flip sign\n",
    "        if value > 0.1:\n",
    "            labels.append('CHP (gas)')\n",
    "            sizes.append(value)\n",
    "\n",
    "    # H2 heater output\n",
    "    h2 = f'H2_heater_{country}'\n",
    "    if h2 in n.links.index:\n",
    "        value = -n.links_t.p1[h2].sum()  # flip sign\n",
    "        if value > 0.1:\n",
    "            labels.append('H2 heater')\n",
    "            sizes.append(value)\n",
    "\n",
    "    if sizes:\n",
    "        colors = [colors_heat[label] for label in labels]\n",
    "        plt.subplot(1, 3, i + 1)\n",
    "        plt.pie(sizes, labels=labels, colors=colors, wedgeprops={'linewidth': 0})\n",
    "        plt.axis('equal')\n",
    "        plt.title(f\"{country} Heating Mix\", y=1.07)\n",
    "    else:\n",
    "        plt.subplot(1, 3, i + 1)\n",
    "        plt.text(0.5, 0.5, 'No heating', ha='center', va='center')\n",
    "        plt.axis('off')\n",
    "\n",
    "plt.suptitle(\"Heating Production Mix (MWh)\", fontsize=16)\n",
    "plt.tight_layout()\n",
    "plt.show()\n"
   ]
  },
  {
   "cell_type": "code",
   "execution_count": 202,
   "id": "bf2d407b",
   "metadata": {},
   "outputs": [
    {
     "data": {
      "image/png": "[encoded data removed]",
      "text/plain": [
       "<Figure size 1600x400 with 3 Axes>"
      ]
     },
     "metadata": {},
     "output_type": "display_data"
    }
   ],
   "source": [
    "colors_gen = {\n",
    "    'onshore wind': 'blue',\n",
    "    'offshore wind': 'darkblue',\n",
    "    'large scale solar': 'orange',\n",
    "    'gas (OCGT)': 'grey',\n",
    "    'coal': 'brown',\n",
    "    'hydro': 'lightblue'\n",
    "}\n",
    "\n",
    "plt.figure(figsize=(16, 4))\n",
    "\n",
    "for i, country in enumerate(countries):\n",
    "    labels = []\n",
    "    sizes = []\n",
    "\n",
    "    # Onshore wind\n",
    "    if f'onshorewind{country}' in n.generators.index:\n",
    "        value = n.generators_t.p[f'onshorewind{country}'].sum()\n",
    "        if value > 0.1:\n",
    "            labels.append('onshore wind')\n",
    "            sizes.append(value)\n",
    "\n",
    "    # Offshore wind\n",
    "    if f'offshorewind{country}' in n.generators.index:\n",
    "        value = n.generators_t.p[f'offshorewind{country}'].sum()\n",
    "        if value > 0.1:\n",
    "            labels.append('offshore wind')\n",
    "            sizes.append(value)\n",
    "\n",
    "    # PV\n",
    "    if f'PV{country}' in n.generators.index:\n",
    "        value = n.generators_t.p[f'PV{country}'].sum()\n",
    "        if value > 0.1:\n",
    "            labels.append('large scale solar')\n",
    "            sizes.append(value)\n",
    "\n",
    "    # OCGT\n",
    "    if f'OCGT{country}' in n.generators.index:\n",
    "        value = n.generators_t.p[f'OCGT{country}'].sum()\n",
    "        if value > 0.1:\n",
    "            labels.append('gas (OCGT)')\n",
    "            sizes.append(value)\n",
    "\n",
    "    # Coal\n",
    "    if f'coal{country}' in n.generators.index:\n",
    "        value = n.generators_t.p[f'coal{country}'].sum()\n",
    "        if value > 0.1:\n",
    "            labels.append('coal')\n",
    "            sizes.append(value)\n",
    "\n",
    "    # Hydro (storage unit dispatch)\n",
    "    if f\"hydro{country}\" in n.storage_units.index:\n",
    "        value = n.storage_units_t.p[f\"hydro{country}\"].sum()\n",
    "        if value > 0.1:\n",
    "            labels.append('hydro')\n",
    "            sizes.append(value)\n",
    "\n",
    "    if sizes:\n",
    "        colors = [colors_gen[label] for label in labels]\n",
    "        plt.subplot(1, 3, i + 1)\n",
    "        plt.pie(sizes, labels=labels, colors=colors, wedgeprops={'linewidth': 0})\n",
    "        plt.axis('equal')\n",
    "        plt.title(f\"{country} Electricity Mix\", y=1.07)\n",
    "    else:\n",
    "        plt.subplot(1, 3, i + 1)\n",
    "        plt.text(0.5, 0.5, 'No generation', ha='center', va='center')\n",
    "        plt.axis('off')\n",
    "\n",
    "plt.suptitle(\"Electricity Generation Mix (MWh)\", fontsize=16)\n",
    "plt.tight_layout()\n",
    "plt.show()\n"
   ]
  },
  {
   "cell_type": "code",
   "execution_count": 203,
   "id": "5e7c634a",
   "metadata": {},
   "outputs": [
    {
     "data": {
      "image/png": "[encoded data removed]",
      "text/plain": [
       "<Figure size 1000x600 with 1 Axes>"
      ]
     },
     "metadata": {},
     "output_type": "display_data"
    }
   ],
   "source": [
    "# Define the technologies and their labels/colors\n",
    "tech_labels = {\n",
    "    'onshorewind': 'Onshore Wind',\n",
    "    'offshorewind': 'Offshore Wind',\n",
    "    'PV': 'Solar PV',\n",
    "    'OCGT': 'OCGT (Gas)',\n",
    "    'coal': 'Coal',\n",
    "    'hydro': 'Hydro'\n",
    "}\n",
    "\n",
    "colors = {\n",
    "    'Onshore Wind': 'blue',\n",
    "    'Offshore Wind': 'darkblue',\n",
    "    'Solar PV': 'orange',\n",
    "    'OCGT (Gas)': 'grey',\n",
    "    'Coal': 'brown',\n",
    "    'Hydro': 'lightblue'\n",
    "}\n",
    "\n",
    "# Initialize dataframe to collect generation by country and tech\n",
    "df_gen = pd.DataFrame(0.0, index=tech_labels.values(), columns=countries)\n",
    "\n",
    "for country in countries:\n",
    "    for tech_key, tech_label in tech_labels.items():\n",
    "        if tech_key == \"hydro\":\n",
    "            unit_name = f\"hydro{country}\"\n",
    "            if unit_name in n.storage_units.index:\n",
    "                value = n.storage_units_t.p[unit_name].sum()\n",
    "                df_gen.at[tech_label, country] = value\n",
    "        else:\n",
    "            gen_name = f\"{tech_key}{country}\"\n",
    "            if gen_name in n.generators.index:\n",
    "                value = n.generators_t.p[gen_name].sum()\n",
    "                df_gen.at[tech_label, country] = value\n",
    "\n",
    "# Plot\n",
    "ax = df_gen.T.plot(kind='bar', stacked=True, color=[colors[t] for t in df_gen.index],\n",
    "                   figsize=(10, 6), edgecolor='black')\n",
    "\n",
    "plt.title(\"Electricity Generation Mix by Country\", fontsize=14)\n",
    "plt.ylabel(\"Generated Electricity (MWh)\")\n",
    "plt.xticks(rotation=0)\n",
    "plt.legend(title=\"Technology\", bbox_to_anchor=(1.05, 1), loc='upper left')\n",
    "plt.grid(axis='y', linestyle='--', linewidth=0.7, alpha=0.6)\n",
    "plt.tight_layout()\n",
    "plt.show()\n"
   ]
  },
  {
   "cell_type": "code",
   "execution_count": 204,
   "id": "4c9e1e48",
   "metadata": {},
   "outputs": [
    {
     "data": {
      "image/png": "[encoded data removed]",
      "text/plain": [
       "<Figure size 800x500 with 1 Axes>"
      ]
     },
     "metadata": {},
     "output_type": "display_data"
    }
   ],
   "source": [
    "# Create a summary DataFrame\n",
    "line_flows = pd.DataFrame(index=n.lines.index)\n",
    "line_flows[\"from\"] = n.lines.bus0\n",
    "line_flows[\"to\"] = n.lines.bus1\n",
    "line_flows[\"average_flow_MW\"] = n.lines_t.p0.mean()\n",
    "\n",
    "# Plot as bar chart\n",
    "plt.figure(figsize=(8, 5))\n",
    "line_flows.set_index([\"from\", \"to\"])[\"average_flow_MW\"].plot(kind='bar', color='steelblue')\n",
    "plt.ylabel(\"Average Line Flow (MW)\")\n",
    "plt.title(\"Average Power Flow per Transmission Line\")\n",
    "plt.xticks(rotation=45, ha='right')\n",
    "plt.grid(axis='y', linestyle='--', alpha=0.6)\n",
    "plt.tight_layout()\n",
    "plt.show()"
   ]
  },
  {
   "cell_type": "code",
   "execution_count": 205,
   "id": "e1c35db6",
   "metadata": {},
   "outputs": [
    {
     "data": {
      "image/png": "[encoded data removed]",
      "text/plain": [
       "<Figure size 640x480 with 1 Axes>"
      ]
     },
     "metadata": {},
     "output_type": "display_data"
    }
   ],
   "source": [
    "for country in countries:\n",
    "    name = f\"battery{country}\"\n",
    "    if name in n.storage_units_t.state_of_charge:\n",
    "        n.storage_units_t.state_of_charge[name].plot(label=country, alpha=0.7)\n",
    "plt.title(\"Battery Storage State of Charge (DEU)\")\n",
    "plt.ylabel(\"Energy [MWh]\")\n",
    "plt.grid(True)\n",
    "plt.tight_layout()\n",
    "plt.legend()\n",
    "plt.show()\n"
   ]
  },
  {
   "cell_type": "code",
   "execution_count": 206,
   "id": "99c522ad",
   "metadata": {},
   "outputs": [
    {
     "data": {
      "text/plain": [
       "650327.8224343075"
      ]
     },
     "execution_count": 206,
     "metadata": {},
     "output_type": "execute_result"
    }
   ],
   "source": [
    "n.stores.e_nom_opt['H2_tank_DEU']"
   ]
  },
  {
   "cell_type": "code",
   "execution_count": 207,
   "id": "a708d1c3",
   "metadata": {},
   "outputs": [
    {
     "data": {
      "text/plain": [
       "Text(0, 0.5, 'Installed Capacity [MW]')"
      ]
     },
     "execution_count": 207,
     "metadata": {},
     "output_type": "execute_result"
    },
    {
     "data": {
      "image/png": "[encoded data removed]",
      "text/plain": [
       "<Figure size 640x480 with 1 Axes>"
      ]
     },
     "metadata": {},
     "output_type": "display_data"
    }
   ],
   "source": [
    "for country in countries:\n",
    "    name = f\"H2_tank_{country}\"\n",
    "    # bar plot of the state of charge\n",
    "    plt.bar(name, \n",
    "            n.stores.e_nom_opt[name], label=country, alpha=0.7)\n",
    "plt.title(\"H2 Storage\")\n",
    "plt.ylabel(\"Installed Capacity [MW]\")\n"
   ]
  }
 ],
 "metadata": {
  "kernelspec": {
   "display_name": "Python 3",
   "language": "python",
   "name": "python3"
  },
  "language_info": {
   "codemirror_mode": {
    "name": "ipython",
    "version": 3
   },
   "file_extension": ".py",
   "mimetype": "text/x-python",
   "name": "python",
   "nbconvert_exporter": "python",
   "pygments_lexer": "ipython3",
   "version": "3.11.5"
  }
 },
 "nbformat": 4,
 "nbformat_minor": 5
}
