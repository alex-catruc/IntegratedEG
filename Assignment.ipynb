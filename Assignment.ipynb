{
 "cells": [
  {
   "cell_type": "code",
<<<<<<< HEAD
   "execution_count": 1,
=======
   "execution_count": 8,
>>>>>>> d8a0b4f412ad8fd1285695fc5ab216ac08eef4ee
   "metadata": {},
   "outputs": [],
   "source": [
    "import pandas as pd\n",
    "import pypsa\n",
<<<<<<< HEAD
=======
    "import numpy as np\n",
>>>>>>> d8a0b4f412ad8fd1285695fc5ab216ac08eef4ee
    "import matplotlib.pyplot as plt"
   ]
  },
  {
   "cell_type": "markdown",
   "metadata": {},
   "source": [
    "# Section A"
   ]
  },
  {
   "cell_type": "markdown",
   "metadata": {},
   "source": [
    "### Load Data"
   ]
  },
  {
   "cell_type": "code",
   "execution_count": 2,
   "metadata": {},
   "outputs": [
    {
<<<<<<< HEAD
=======
     "name": "stderr",
     "output_type": "stream",
     "text": [
      "<>:16: DeprecationWarning: invalid escape sequence '\\p'\n",
      "<>:20: DeprecationWarning: invalid escape sequence '\\p'\n",
      "<>:16: DeprecationWarning: invalid escape sequence '\\p'\n",
      "<>:20: DeprecationWarning: invalid escape sequence '\\p'\n",
      "C:\\Users\\alexk\\AppData\\Local\\Temp\\ipykernel_49168\\597844512.py:16: DeprecationWarning: invalid escape sequence '\\p'\n",
      "  df_pv = pd.read_csv('data\\pv_optimal.csv', sep=';', index_col=0)\n",
      "C:\\Users\\alexk\\AppData\\Local\\Temp\\ipykernel_49168\\597844512.py:20: DeprecationWarning: invalid escape sequence '\\p'\n",
      "  df_rooftop = pd.read_csv('data\\pv_rooftop.csv', sep=';', index_col=0)\n"
     ]
    },
    {
>>>>>>> d8a0b4f412ad8fd1285695fc5ab216ac08eef4ee
     "name": "stdout",
     "output_type": "stream",
     "text": [
      "utc_time\n",
      "2015-01-01 00:00:00+00:00    44546.0\n",
      "2015-01-01 01:00:00+00:00    42967.0\n",
      "2015-01-01 02:00:00+00:00    41582.0\n",
      "2015-01-01 03:00:00+00:00    40964.0\n",
      "2015-01-01 04:00:00+00:00    40247.0\n",
      "Name: DEU, dtype: float64\n"
     ]
    }
   ],
   "source": [
    "# load electricity demand data\n",
    "df_elec = pd.read_csv('data/electricity_demand.csv', sep=';', index_col=0) # in MWh\n",
    "df_elec.index = pd.to_datetime(df_elec.index) #change index to datatime\n",
    "country='DEU'\n",
    "print(df_elec[country].head())\n",
    "\n",
    "# load onshore wind data\n",
    "df_onshorewind = pd.read_csv('data/onshore_wind_1979-2017.csv', sep=';', index_col=0)\n",
    "df_onshorewind.index = pd.to_datetime(df_onshorewind.index)\n",
    "\n",
    "# load offshore wind data\n",
    "df_offshorewind = pd.read_csv('data/offshore_wind_1979-2017.csv', sep=';', index_col=0)\n",
    "df_offshorewind.index = pd.to_datetime(df_offshorewind.index)\n",
    "\n",
    "# load large scale pv data\n",
    "df_pv = pd.read_csv('data/pv_optimal.csv', sep=';', index_col=0)\n",
    "df_pv.index = pd.to_datetime(df_pv.index)\n",
    "\n",
    "# load rooftop pv data\n",
    "df_rooftop = pd.read_csv('data/pv_rooftop.csv', sep=';', index_col=0)\n",
    "df_rooftop.index = pd.to_datetime(df_rooftop.index)\n"
   ]
  },
  {
   "cell_type": "code",
   "execution_count": 54,
   "metadata": {},
   "outputs": [],
   "source": [
    "colors = {\"onshore\": \"blue\", \"offshore\": \"darkblue\", \"pv\": \"orange\", \n",
    "          \"rooftop\": \"yellow\", \"coal\": \"brown\", \"OCGT\": \"grey\"}"
   ]
  },
  {
   "cell_type": "markdown",
   "metadata": {},
   "source": [
    "# Make Network"
   ]
  },
  {
   "cell_type": "code",
   "execution_count": 3,
   "metadata": {},
   "outputs": [],
   "source": [
    "def annuity(n,r):\n",
    "    \"\"\" Calculate the annuity factor for an asset with lifetime n years and\n",
    "    discount rate  r \"\"\"\n",
    "\n",
    "    if r > 0:\n",
    "        return r/(1. - 1./(1.+r)**n)\n",
    "    else:\n",
    "        return 1/n"
   ]
  },
  {
   "cell_type": "code",
<<<<<<< HEAD
   "execution_count": 4,
   "metadata": {},
   "outputs": [
    {
     "name": "stderr",
     "output_type": "stream",
     "text": [
      "/opt/homebrew/Caskroom/miniconda/base/envs/IEG/lib/python3.13/site-packages/pypsa/components.py:323: FutureWarning: Setting an item of incompatible dtype is deprecated and will raise an error in a future version of pandas. Value '[]' has dtype incompatible with float64, please explicitly cast to a compatible dtype first.\n",
      "  attrs.loc[bool_b, \"default\"] = attrs.loc[bool_b].isin({True, \"True\"})\n",
      "/opt/homebrew/Caskroom/miniconda/base/envs/IEG/lib/python3.13/site-packages/pypsa/components.py:323: FutureWarning: Setting an item of incompatible dtype is deprecated and will raise an error in a future version of pandas. Value '[]' has dtype incompatible with float64, please explicitly cast to a compatible dtype first.\n",
      "  attrs.loc[bool_b, \"default\"] = attrs.loc[bool_b].isin({True, \"True\"})\n",
      "/opt/homebrew/Caskroom/miniconda/base/envs/IEG/lib/python3.13/site-packages/pypsa/components.py:323: FutureWarning: Setting an item of incompatible dtype is deprecated and will raise an error in a future version of pandas. Value '[]' has dtype incompatible with float64, please explicitly cast to a compatible dtype first.\n",
      "  attrs.loc[bool_b, \"default\"] = attrs.loc[bool_b].isin({True, \"True\"})\n",
      "/opt/homebrew/Caskroom/miniconda/base/envs/IEG/lib/python3.13/site-packages/pypsa/components.py:323: FutureWarning: Setting an item of incompatible dtype is deprecated and will raise an error in a future version of pandas. Value '[]' has dtype incompatible with float64, please explicitly cast to a compatible dtype first.\n",
      "  attrs.loc[bool_b, \"default\"] = attrs.loc[bool_b].isin({True, \"True\"})\n"
     ]
=======
   "execution_count": 39,
   "metadata": {},
   "outputs": [
    {
     "data": {
      "text/plain": [
       "Index(['coal'], dtype='object')"
      ]
     },
     "execution_count": 39,
     "metadata": {},
     "output_type": "execute_result"
>>>>>>> d8a0b4f412ad8fd1285695fc5ab216ac08eef4ee
    }
   ],
   "source": [
    "network = pypsa.Network()\n",
    "hours_in_2015 = pd.date_range('2015-01-01 00:00Z',\n",
    "                              '2015-12-31 23:00Z',\n",
    "                              freq='h')\n",
    "\n",
    "network.set_snapshots(hours_in_2015.values)\n",
    "\n",
    "# add electricity bus\n",
    "network.add(\"Bus\",\n",
    "            f\"E_bus{country}\")\n",
    "\n",
    "# add load to the bus\n",
    "network.add(\"Load\",\n",
    "            \"load\",\n",
    "            bus=f\"E_bus{country}\",\n",
    "            p_set=df_elec[country].values)\n",
    "\n",
    "# add the different carriers, only gas emits CO2\n",
    "network.add(\"Carrier\", \"gas\", co2_emissions=0.19) # in t_CO2/MWh_th\n",
    "network.add(\"Carrier\", \"coal\", co2_emissions=0.9) # in t_CO2/MWh_th\n",
    "network.add(\"Carrier\", \"onshorewind\")\n",
    "network.add(\"Carrier\", \"offshorewind\")\n",
    "network.add(\"Carrier\", \"solarPV\")\n",
    "network.add(\"Carrier\", \"rooftopPV\")\n",
    "\n",
    "''' Add renewable generators '''\n",
    "# Add onshore wind\n",
    "CF_wind_onshore = df_onshorewind[country][[hour.strftime(\"%Y-%m-%dT%H:%M:%SZ\") for hour in network.snapshots]]\n",
    "lifetime = 30 # years\n",
    "discount_rate = 0.07 # 7%\n",
    "capex = 910000 # in €/MW\n",
    "fopex = 0.033 # 3.3% of capex\n",
    "capital_cost_onshorewind = annuity(lifetime,discount_rate)*capex*(1+fopex) # in €/MW\n",
    "network.add(\"Generator\",\n",
    "            \"onshorewind\",\n",
    "            bus=f\"E_bus{country}\",\n",
    "            p_nom_extendable=True,\n",
    "            carrier=\"onshorewind\",\n",
    "            #p_nom_max=1000, # maximum capacity can be limited due to environmental constraints\n",
    "            capital_cost = capital_cost_onshorewind,\n",
    "            marginal_cost = 0,\n",
    "            p_max_pu = CF_wind_onshore.values)\n",
    "\n",
    "# Add offshore wind\n",
    "CF_wind_offshore = df_offshorewind[country][[hour.strftime(\"%Y-%m-%dT%H:%M:%SZ\") for hour in network.snapshots]]\n",
    "lifetime = 25 # years\n",
    "discount_rate = 0.07 # 7%\n",
    "capex = 2506000 # in €/MW\n",
    "fopex = 0.03 # 3% of capex\n",
    "capital_cost_offshorewind = annuity(lifetime,discount_rate)*capex*(1+fopex) # in €/MW\n",
    "network.add(\"Generator\",\n",
    "            \"offshorewind\",\n",
    "            bus=f\"E_bus{country}\",\n",
    "            p_nom_extendable=True,\n",
    "            carrier=\"offshorewind\",\n",
    "            #p_nom_max=1000, # maximum capacity can be limited due to environmental constraints\n",
    "            capital_cost = capital_cost_offshorewind,\n",
    "            marginal_cost = 0,\n",
    "            p_max_pu = CF_wind_offshore.values)\n",
    "\n",
    "# Add large scale solar\n",
    "CF_solar = df_pv[country][[hour.strftime(\"%Y-%m-%dT%H:%M:%SZ\") for hour in network.snapshots]]\n",
    "lifetime = 25 # years\n",
    "discount_rate = 0.07 # 7%\n",
    "capex = 425000 # in €/MW\n",
    "fopex = 0.03 # 3% of capex\n",
    "capital_cost_pv = annuity(lifetime,discount_rate)*capex*(1+fopex) # in €/MW\n",
    "network.add(\"Generator\",\n",
    "            \"PV\",\n",
    "            bus=f\"E_bus{country}\",\n",
    "            p_nom_extendable=True,\n",
    "            carrier=\"solarPV\",\n",
    "            #p_nom_max=1000, # maximum capacity can be limited due to environmental constraints\n",
    "            capital_cost = capital_cost_pv,\n",
    "            marginal_cost = 0,\n",
    "            p_max_pu = CF_solar.values)\n",
    "\n",
    "# Add rooftop solar\n",
    "CF_rooftop = df_rooftop[country][[hour.strftime(\"%Y-%m-%dT%H:%M:%SZ\") for hour in network.snapshots]]\n",
    "lifetime = 25 # years\n",
    "discount_rate = 0.07 # 7%\n",
    "capex = 725000 # in €/MW\n",
    "fopex = 0.02 # 2% of capex\n",
    "capital_cost_rooftop = annuity(lifetime,discount_rate)*capex*(1+fopex) # in €/MW\n",
    "network.add(\"Generator\",\n",
    "            \"rooftopPV\",\n",
    "            bus=f\"E_bus{country}\",\n",
    "            p_nom_extendable=True,\n",
    "            carrier=\"rooftopPV\",\n",
    "            #p_nom_max=1000, # maximum capacity can be limited due to environmental constraints\n",
    "            capital_cost = capital_cost_rooftop,\n",
    "            marginal_cost = 0,\n",
    "            p_max_pu = CF_rooftop.values)\n",
    "\n",
    "''' Add non-renewables generators '''\n",
    "# add OCGT (Open Cycle Gas Turbine) generator\n",
    "lifetime = 25 # years\n",
    "discount_rate = 0.07 # 7%\n",
    "capex = 560000 # in €/MW\n",
    "fopex = 0.033 # 3.3% of capex\n",
    "capital_cost_OCGT = annuity(lifetime,discount_rate)*capex*(1+fopex) # in €/MW\n",
    "fuel_cost = 21.6 # in €/MWh_th\n",
    "efficiency = 0.39 # MWh_elec/MWh_th\n",
    "marginal_cost_OCGT = fuel_cost/efficiency # in €/MWh_el\n",
    "network.add(\"Generator\",\n",
    "            \"OCGT\",\n",
    "            bus=f\"E_bus{country}\",\n",
    "            p_nom_extendable=True,\n",
    "            carrier=\"gas\",\n",
    "            #p_nom_max=1000,\n",
    "            capital_cost = capital_cost_OCGT,\n",
    "            efficiency = efficiency,\n",
    "            marginal_cost = marginal_cost_OCGT)\n",
    "\n",
    "# add coal generator (without CCS) # https://atb-archive.nrel.gov/electricity/2018/index.html?t=cc\n",
    "lifetime = 25 # years\n",
    "discount_rate = 0.07 # 7%\n",
    "capex = 3294000 # in €/MW\n",
    "fopex = 0.03 # 3% of capex\n",
    "capital_cost_coal = annuity(lifetime,discount_rate)*capex*(1+fopex) # in €/MW\n",
    "fuel_cost = 4 # in €/MWh_th \n",
    "efficiency = 0.36 # MWh_elec/MWh_th\n",
    "marginal_cost_coal = fuel_cost/efficiency # in €/MWh_el\n",
    "network.add(\"Generator\",\n",
    "            \"coal\",\n",
    "            bus=f\"E_bus{country}\",\n",
    "            p_nom_extendable=True,\n",
    "            carrier=\"coal\",\n",
    "            #p_nom_max=1000,\n",
    "            capital_cost = capital_cost_coal,\n",
    "            efficiency = efficiency,\n",
    "            marginal_cost = marginal_cost_coal)\n",
    "\n"
   ]
  },
  {
   "cell_type": "code",
<<<<<<< HEAD
   "execution_count": 5,
=======
   "execution_count": 40,
>>>>>>> d8a0b4f412ad8fd1285695fc5ab216ac08eef4ee
   "metadata": {},
   "outputs": [
    {
     "name": "stderr",
     "output_type": "stream",
     "text": [
<<<<<<< HEAD
      "/opt/homebrew/Caskroom/miniconda/base/envs/IEG/lib/python3.13/site-packages/pypsa/optimization/constraints.py:531: FutureWarning: DataFrame.groupby with axis=1 is deprecated. Do `frame.T.groupby(...)` without axis instead.\n",
      "  .groupby(n.loads.bus, axis=1)\n",
      "INFO:linopy.model: Solve problem using Gurobi solver\n"
=======
      "WARNING:pypsa.consistency:The following buses have carriers which are not defined:\n",
      "Index(['E_busDEU'], dtype='object', name='Bus')\n"
     ]
    },
    {
     "name": "stderr",
     "output_type": "stream",
     "text": [
      "INFO:linopy.model: Solve problem using Gurobi solver\n",
      "INFO:linopy.io:Writing objective.\n",
      "Writing constraints.: 100%|\u001b[38;2;128;191;255m██████████\u001b[0m| 5/5 [00:01<00:00,  4.44it/s]\n",
      "Writing continuous variables.: 100%|\u001b[38;2;128;191;255m██████████\u001b[0m| 2/2 [00:00<00:00, 10.09it/s]\n",
      "INFO:linopy.io: Writing time: 1.41s\n"
>>>>>>> d8a0b4f412ad8fd1285695fc5ab216ac08eef4ee
     ]
    },
    {
     "name": "stdout",
     "output_type": "stream",
     "text": [
      "Set parameter Username\n"
     ]
    },
    {
     "name": "stderr",
     "output_type": "stream",
     "text": [
      "INFO:gurobipy:Set parameter Username\n"
     ]
    },
    {
     "name": "stdout",
     "output_type": "stream",
     "text": [
      "Set parameter LicenseID to value 2608341\n"
     ]
    },
    {
     "name": "stderr",
     "output_type": "stream",
     "text": [
      "INFO:gurobipy:Set parameter LicenseID to value 2608341\n"
     ]
    },
    {
     "name": "stdout",
     "output_type": "stream",
     "text": [
<<<<<<< HEAD
      "Academic license - for non-commercial use only - expires 2026-01-10\n"
=======
      "Read LP format model from file C:\\Users\\alexk\\AppData\\Local\\Temp\\linopy-problem-4np40vma.lp\n"
>>>>>>> d8a0b4f412ad8fd1285695fc5ab216ac08eef4ee
     ]
    },
    {
     "name": "stderr",
     "output_type": "stream",
     "text": [
<<<<<<< HEAD
      "INFO:gurobipy:Academic license - for non-commercial use only - expires 2026-01-10\n",
      "INFO:linopy.io:Writing objective.\n",
      "Writing constraints.: 100%|\u001b[38;2;128;191;255m██████████\u001b[0m| 5/5 [00:00<00:00, 14.44it/s]\n",
      "Writing continuous variables.: 100%|\u001b[38;2;128;191;255m██████████\u001b[0m| 2/2 [00:00<00:00, 30.03it/s]\n",
      "INFO:linopy.io: Writing time: 0.65s\n"
=======
      "INFO:gurobipy:Read LP format model from file C:\\Users\\alexk\\AppData\\Local\\Temp\\linopy-problem-4np40vma.lp\n"
>>>>>>> d8a0b4f412ad8fd1285695fc5ab216ac08eef4ee
     ]
    },
    {
     "name": "stdout",
     "output_type": "stream",
     "text": [
<<<<<<< HEAD
      "Read LP format model from file /private/var/folders/jt/77qvrg250bb9lr7519v3yhc40000gn/T/linopy-problem-hovj9shk.lp\n"
=======
      "Reading time = 0.42 seconds\n"
>>>>>>> d8a0b4f412ad8fd1285695fc5ab216ac08eef4ee
     ]
    },
    {
     "name": "stderr",
     "output_type": "stream",
     "text": [
<<<<<<< HEAD
      "INFO:gurobipy:Read LP format model from file /private/var/folders/jt/77qvrg250bb9lr7519v3yhc40000gn/T/linopy-problem-hovj9shk.lp\n"
     ]
    },
    {
     "name": "stdout",
     "output_type": "stream",
     "text": [
      "Reading time = 0.18 seconds\n"
     ]
    },
    {
     "name": "stderr",
     "output_type": "stream",
     "text": [
      "INFO:gurobipy:Reading time = 0.18 seconds\n"
=======
      "INFO:gurobipy:Reading time = 0.42 seconds\n"
>>>>>>> d8a0b4f412ad8fd1285695fc5ab216ac08eef4ee
     ]
    },
    {
     "name": "stdout",
     "output_type": "stream",
     "text": [
      "obj: 113886 rows, 52566 columns, 201770 nonzeros\n"
     ]
    },
    {
     "name": "stderr",
     "output_type": "stream",
     "text": [
      "INFO:gurobipy:obj: 113886 rows, 52566 columns, 201770 nonzeros\n"
     ]
    },
    {
     "name": "stdout",
     "output_type": "stream",
     "text": [
      "Gurobi Optimizer version 12.0.1 build v12.0.1rc0 (mac64[arm] - Darwin 24.0.0 24A348)\n"
     ]
    },
    {
     "name": "stderr",
     "output_type": "stream",
     "text": [
      "INFO:gurobipy:Gurobi Optimizer version 12.0.1 build v12.0.1rc0 (mac64[arm] - Darwin 24.0.0 24A348)\n"
     ]
    },
    {
     "name": "stdout",
     "output_type": "stream",
     "text": [
      "\n"
     ]
    },
    {
     "name": "stderr",
     "output_type": "stream",
     "text": [
      "INFO:gurobipy:\n"
     ]
    },
    {
     "name": "stdout",
     "output_type": "stream",
     "text": [
      "CPU model: Apple M1 Pro\n"
     ]
    },
    {
     "name": "stderr",
     "output_type": "stream",
     "text": [
      "INFO:gurobipy:CPU model: Apple M1 Pro\n"
     ]
    },
    {
     "name": "stdout",
     "output_type": "stream",
     "text": [
      "Thread count: 8 physical cores, 8 logical processors, using up to 8 threads\n"
     ]
    },
    {
     "name": "stderr",
     "output_type": "stream",
     "text": [
      "INFO:gurobipy:Thread count: 8 physical cores, 8 logical processors, using up to 8 threads\n"
     ]
    },
    {
     "name": "stdout",
     "output_type": "stream",
     "text": [
      "\n"
     ]
    },
    {
     "name": "stderr",
     "output_type": "stream",
     "text": [
      "INFO:gurobipy:\n"
     ]
    },
    {
     "name": "stdout",
     "output_type": "stream",
     "text": [
      "Optimize a model with 113886 rows, 52566 columns and 201770 nonzeros\n"
     ]
    },
    {
     "name": "stderr",
     "output_type": "stream",
     "text": [
      "INFO:gurobipy:Optimize a model with 113886 rows, 52566 columns and 201770 nonzeros\n"
     ]
    },
    {
     "name": "stdout",
     "output_type": "stream",
     "text": [
      "Model fingerprint: 0xe1aed75c\n"
     ]
    },
    {
     "name": "stderr",
     "output_type": "stream",
     "text": [
      "INFO:gurobipy:Model fingerprint: 0xe1aed75c\n"
     ]
    },
    {
     "name": "stdout",
     "output_type": "stream",
     "text": [
      "Coefficient statistics:\n"
     ]
    },
    {
     "name": "stderr",
     "output_type": "stream",
     "text": [
      "INFO:gurobipy:Coefficient statistics:\n"
     ]
    },
    {
     "name": "stdout",
     "output_type": "stream",
     "text": [
      "  Matrix range     [1e-03, 1e+00]\n"
     ]
    },
    {
     "name": "stderr",
     "output_type": "stream",
     "text": [
      "INFO:gurobipy:  Matrix range     [1e-03, 1e+00]\n"
     ]
    },
    {
     "name": "stdout",
     "output_type": "stream",
     "text": [
      "  Objective range  [1e+01, 3e+05]\n"
     ]
    },
    {
     "name": "stderr",
     "output_type": "stream",
     "text": [
      "INFO:gurobipy:  Objective range  [1e+01, 3e+05]\n"
     ]
    },
    {
     "name": "stdout",
     "output_type": "stream",
     "text": [
      "  Bounds range     [0e+00, 0e+00]\n"
     ]
    },
    {
     "name": "stderr",
     "output_type": "stream",
     "text": [
      "INFO:gurobipy:  Bounds range     [0e+00, 0e+00]\n"
     ]
    },
    {
     "name": "stdout",
     "output_type": "stream",
     "text": [
      "  RHS range        [4e+04, 8e+04]\n"
     ]
    },
    {
     "name": "stderr",
     "output_type": "stream",
     "text": [
      "INFO:gurobipy:  RHS range        [4e+04, 8e+04]\n"
     ]
    },
    {
     "name": "stdout",
     "output_type": "stream",
     "text": [
      "Presolve removed 61042 rows and 8476 columns\n"
     ]
    },
    {
     "name": "stderr",
     "output_type": "stream",
     "text": [
      "INFO:gurobipy:Presolve removed 61042 rows and 8476 columns\n"
     ]
    },
    {
     "name": "stdout",
     "output_type": "stream",
     "text": [
<<<<<<< HEAD
      "Presolve time: 0.07s\n"
=======
      "Presolve time: 0.14s\n"
>>>>>>> d8a0b4f412ad8fd1285695fc5ab216ac08eef4ee
     ]
    },
    {
     "name": "stderr",
     "output_type": "stream",
     "text": [
<<<<<<< HEAD
      "INFO:gurobipy:Presolve time: 0.07s\n"
=======
      "INFO:gurobipy:Presolve time: 0.14s\n"
>>>>>>> d8a0b4f412ad8fd1285695fc5ab216ac08eef4ee
     ]
    },
    {
     "name": "stdout",
     "output_type": "stream",
     "text": [
      "Presolved: 52844 rows, 44090 columns, 132252 nonzeros\n"
     ]
    },
    {
     "name": "stderr",
     "output_type": "stream",
     "text": [
      "INFO:gurobipy:Presolved: 52844 rows, 44090 columns, 132252 nonzeros\n"
     ]
    },
    {
     "name": "stdout",
     "output_type": "stream",
     "text": [
      "\n"
     ]
    },
    {
     "name": "stderr",
     "output_type": "stream",
     "text": [
      "INFO:gurobipy:\n"
     ]
    },
    {
     "name": "stdout",
     "output_type": "stream",
     "text": [
      "Concurrent LP optimizer: primal simplex, dual simplex, and barrier\n"
     ]
    },
    {
     "name": "stderr",
     "output_type": "stream",
     "text": [
      "INFO:gurobipy:Concurrent LP optimizer: primal simplex, dual simplex, and barrier\n"
     ]
    },
    {
     "name": "stdout",
     "output_type": "stream",
     "text": [
      "Showing barrier log only...\n"
     ]
    },
    {
     "name": "stderr",
     "output_type": "stream",
     "text": [
      "INFO:gurobipy:Showing barrier log only...\n"
     ]
    },
    {
     "name": "stdout",
     "output_type": "stream",
     "text": [
      "\n"
     ]
    },
    {
     "name": "stderr",
     "output_type": "stream",
     "text": [
      "INFO:gurobipy:\n"
     ]
    },
    {
     "name": "stdout",
     "output_type": "stream",
     "text": [
      "Ordering time: 0.01s\n"
     ]
    },
    {
     "name": "stderr",
     "output_type": "stream",
     "text": [
      "INFO:gurobipy:Ordering time: 0.01s\n"
     ]
    },
    {
     "name": "stdout",
     "output_type": "stream",
     "text": [
      "\n"
     ]
    },
    {
     "name": "stderr",
     "output_type": "stream",
     "text": [
      "INFO:gurobipy:\n"
     ]
    },
    {
     "name": "stdout",
     "output_type": "stream",
     "text": [
      "Barrier statistics:\n"
     ]
    },
    {
     "name": "stderr",
     "output_type": "stream",
     "text": [
      "INFO:gurobipy:Barrier statistics:\n"
     ]
    },
    {
     "name": "stdout",
     "output_type": "stream",
     "text": [
      " Dense cols : 6\n"
     ]
    },
    {
     "name": "stderr",
     "output_type": "stream",
     "text": [
      "INFO:gurobipy: Dense cols : 6\n"
     ]
    },
    {
     "name": "stdout",
     "output_type": "stream",
     "text": [
      " AA' NZ     : 8.817e+04\n"
     ]
    },
    {
     "name": "stderr",
     "output_type": "stream",
     "text": [
      "INFO:gurobipy: AA' NZ     : 8.817e+04\n"
     ]
    },
    {
     "name": "stdout",
     "output_type": "stream",
     "text": [
      " Factor NZ  : 4.649e+05 (roughly 40 MB of memory)\n"
     ]
    },
    {
     "name": "stderr",
     "output_type": "stream",
     "text": [
      "INFO:gurobipy: Factor NZ  : 4.649e+05 (roughly 40 MB of memory)\n"
     ]
    },
    {
     "name": "stdout",
     "output_type": "stream",
     "text": [
      " Factor Ops : 4.372e+06 (less than 1 second per iteration)\n"
     ]
    },
    {
     "name": "stderr",
     "output_type": "stream",
     "text": [
      "INFO:gurobipy: Factor Ops : 4.372e+06 (less than 1 second per iteration)\n"
     ]
    },
    {
     "name": "stdout",
     "output_type": "stream",
     "text": [
      " Threads    : 6\n"
     ]
    },
    {
     "name": "stderr",
     "output_type": "stream",
     "text": [
      "INFO:gurobipy: Threads    : 6\n"
     ]
    },
    {
     "name": "stdout",
     "output_type": "stream",
     "text": [
      "\n"
     ]
    },
    {
     "name": "stderr",
     "output_type": "stream",
     "text": [
      "INFO:gurobipy:\n"
     ]
    },
    {
     "name": "stdout",
     "output_type": "stream",
     "text": [
      "                  Objective                Residual\n"
     ]
    },
    {
     "name": "stderr",
     "output_type": "stream",
     "text": [
      "INFO:gurobipy:                  Objective                Residual\n"
     ]
    },
    {
     "name": "stdout",
     "output_type": "stream",
     "text": [
      "Iter       Primal          Dual         Primal    Dual     Compl     Time\n"
     ]
    },
    {
     "name": "stderr",
     "output_type": "stream",
     "text": [
      "INFO:gurobipy:Iter       Primal          Dual         Primal    Dual     Compl     Time\n"
     ]
    },
    {
     "name": "stdout",
     "output_type": "stream",
     "text": [
      "   0   3.05843728e+11  0.00000000e+00  6.09e+05 0.00e+00  1.89e+08     0s\n"
     ]
    },
    {
     "name": "stderr",
     "output_type": "stream",
     "text": [
      "INFO:gurobipy:   0   3.05843728e+11  0.00000000e+00  6.09e+05 0.00e+00  1.89e+08     0s\n"
     ]
    },
    {
     "name": "stdout",
     "output_type": "stream",
     "text": [
      "   1   4.54453500e+11 -5.88184592e+11  9.72e+04 7.10e+02  5.57e+07     0s\n"
     ]
    },
    {
     "name": "stderr",
     "output_type": "stream",
     "text": [
      "INFO:gurobipy:   1   4.54453500e+11 -5.88184592e+11  9.72e+04 7.10e+02  5.57e+07     0s\n"
     ]
    },
    {
     "name": "stdout",
     "output_type": "stream",
     "text": [
<<<<<<< HEAD
      "   2   3.71784857e+11 -3.08001708e+11  1.16e-10 6.00e+00  5.44e+06     0s\n"
=======
      "   2   3.77032119e+11 -3.09172378e+11  1.16e-10 5.78e+00  5.47e+06     0s\n"
>>>>>>> d8a0b4f412ad8fd1285695fc5ab216ac08eef4ee
     ]
    },
    {
     "name": "stderr",
     "output_type": "stream",
     "text": [
<<<<<<< HEAD
      "INFO:gurobipy:   2   3.71784857e+11 -3.08001708e+11  1.16e-10 6.00e+00  5.44e+06     0s\n"
=======
      "INFO:gurobipy:   2   3.77032119e+11 -3.09172378e+11  1.16e-10 5.78e+00  5.47e+06     0s\n"
>>>>>>> d8a0b4f412ad8fd1285695fc5ab216ac08eef4ee
     ]
    },
    {
     "name": "stdout",
     "output_type": "stream",
     "text": [
<<<<<<< HEAD
      "   3   1.57842146e+11 -1.80419228e+10  1.16e-10 2.95e-01  1.35e+06     0s\n"
=======
      "   3   1.61650436e+11 -2.01317169e+10  1.75e-10 3.22e-01  1.39e+06     0s\n"
>>>>>>> d8a0b4f412ad8fd1285695fc5ab216ac08eef4ee
     ]
    },
    {
     "name": "stderr",
     "output_type": "stream",
     "text": [
<<<<<<< HEAD
      "INFO:gurobipy:   3   1.57842146e+11 -1.80419228e+10  1.16e-10 2.95e-01  1.35e+06     0s\n"
=======
      "INFO:gurobipy:   3   1.61650436e+11 -2.01317169e+10  1.75e-10 3.22e-01  1.39e+06     0s\n"
>>>>>>> d8a0b4f412ad8fd1285695fc5ab216ac08eef4ee
     ]
    },
    {
     "name": "stdout",
     "output_type": "stream",
     "text": [
<<<<<<< HEAD
      "   4   9.09264919e+10  7.80125926e+09  1.16e-10 9.63e-02  6.32e+05     0s\n"
=======
      "   4   9.92170059e+10  7.71370830e+09  1.16e-10 1.03e-01  6.96e+05     1s\n"
>>>>>>> d8a0b4f412ad8fd1285695fc5ab216ac08eef4ee
     ]
    },
    {
     "name": "stderr",
     "output_type": "stream",
     "text": [
<<<<<<< HEAD
      "INFO:gurobipy:   4   9.09264919e+10  7.80125926e+09  1.16e-10 9.63e-02  6.32e+05     0s\n"
=======
      "INFO:gurobipy:   4   9.92170059e+10  7.71370830e+09  1.16e-10 1.03e-01  6.96e+05     1s\n"
>>>>>>> d8a0b4f412ad8fd1285695fc5ab216ac08eef4ee
     ]
    },
    {
     "name": "stdout",
     "output_type": "stream",
     "text": [
<<<<<<< HEAD
      "   5   6.22034065e+10  1.22569764e+10  8.15e-10 6.23e-02  3.80e+05     0s\n"
=======
      "   5   6.13372975e+10  1.22646767e+10  1.57e-09 4.12e-02  3.73e+05     1s\n"
>>>>>>> d8a0b4f412ad8fd1285695fc5ab216ac08eef4ee
     ]
    },
    {
     "name": "stderr",
     "output_type": "stream",
     "text": [
<<<<<<< HEAD
      "INFO:gurobipy:   5   6.22034065e+10  1.22569764e+10  8.15e-10 6.23e-02  3.80e+05     0s\n"
=======
      "INFO:gurobipy:   5   6.13372975e+10  1.22646767e+10  1.57e-09 4.12e-02  3.73e+05     1s\n"
>>>>>>> d8a0b4f412ad8fd1285695fc5ab216ac08eef4ee
     ]
    },
    {
     "name": "stdout",
     "output_type": "stream",
     "text": [
<<<<<<< HEAD
      "   6   4.71828885e+10  1.59316633e+10  1.01e-08 3.42e-02  2.37e+05     0s\n"
=======
      "   6   4.89505730e+10  1.61827315e+10  1.75e-09 3.57e-02  2.49e+05     1s\n"
>>>>>>> d8a0b4f412ad8fd1285695fc5ab216ac08eef4ee
     ]
    },
    {
     "name": "stderr",
     "output_type": "stream",
     "text": [
<<<<<<< HEAD
      "INFO:gurobipy:   6   4.71828885e+10  1.59316633e+10  1.01e-08 3.42e-02  2.37e+05     0s\n"
=======
      "INFO:gurobipy:   6   4.89505730e+10  1.61827315e+10  1.75e-09 3.57e-02  2.49e+05     1s\n"
>>>>>>> d8a0b4f412ad8fd1285695fc5ab216ac08eef4ee
     ]
    },
    {
     "name": "stdout",
     "output_type": "stream",
     "text": [
<<<<<<< HEAD
      "   7   3.92872187e+10  1.93133196e+10  2.82e-09 1.26e-02  1.51e+05     0s\n"
=======
      "   7   4.10081204e+10  2.04457327e+10  4.83e-09 8.06e-03  1.56e+05     1s\n"
>>>>>>> d8a0b4f412ad8fd1285695fc5ab216ac08eef4ee
     ]
    },
    {
     "name": "stderr",
     "output_type": "stream",
     "text": [
<<<<<<< HEAD
      "INFO:gurobipy:   7   3.92872187e+10  1.93133196e+10  2.82e-09 1.26e-02  1.51e+05     0s\n"
=======
      "INFO:gurobipy:   7   4.10081204e+10  2.04457327e+10  4.83e-09 8.06e-03  1.56e+05     1s\n"
>>>>>>> d8a0b4f412ad8fd1285695fc5ab216ac08eef4ee
     ]
    },
    {
     "name": "stdout",
     "output_type": "stream",
     "text": [
<<<<<<< HEAD
      "   8   3.84938018e+10  2.00461659e+10  6.16e-08 1.10e-02  1.40e+05     0s\n"
=======
      "   8   4.00328497e+10  2.13247459e+10  7.60e-08 5.72e-03  1.42e+05     1s\n"
>>>>>>> d8a0b4f412ad8fd1285695fc5ab216ac08eef4ee
     ]
    },
    {
     "name": "stderr",
     "output_type": "stream",
     "text": [
<<<<<<< HEAD
      "INFO:gurobipy:   8   3.84938018e+10  2.00461659e+10  6.16e-08 1.10e-02  1.40e+05     0s\n"
=======
      "INFO:gurobipy:   8   4.00328497e+10  2.13247459e+10  7.60e-08 5.72e-03  1.42e+05     1s\n"
>>>>>>> d8a0b4f412ad8fd1285695fc5ab216ac08eef4ee
     ]
    },
    {
     "name": "stdout",
     "output_type": "stream",
     "text": [
<<<<<<< HEAD
      "   9   3.15291337e+10  2.08322113e+10  2.99e-07 3.87e-04  8.11e+04     0s\n"
=======
      "   9   3.35780868e+10  2.23124197e+10  3.95e-07 6.98e-10  8.53e+04     1s\n"
>>>>>>> d8a0b4f412ad8fd1285695fc5ab216ac08eef4ee
     ]
    },
    {
     "name": "stderr",
     "output_type": "stream",
     "text": [
<<<<<<< HEAD
      "INFO:gurobipy:   9   3.15291337e+10  2.08322113e+10  2.99e-07 3.87e-04  8.11e+04     0s\n"
=======
      "INFO:gurobipy:   9   3.35780868e+10  2.23124197e+10  3.95e-07 6.98e-10  8.53e+04     1s\n"
>>>>>>> d8a0b4f412ad8fd1285695fc5ab216ac08eef4ee
     ]
    },
    {
     "name": "stdout",
     "output_type": "stream",
     "text": [
<<<<<<< HEAD
      "  10   2.71240823e+10  2.17452813e+10  2.31e-07 6.40e-10  4.08e+04     0s\n"
=======
      "  10   2.89054547e+10  2.31739019e+10  5.01e-07 6.40e-10  4.34e+04     1s\n"
>>>>>>> d8a0b4f412ad8fd1285695fc5ab216ac08eef4ee
     ]
    },
    {
     "name": "stderr",
     "output_type": "stream",
     "text": [
<<<<<<< HEAD
      "INFO:gurobipy:  10   2.71240823e+10  2.17452813e+10  2.31e-07 6.40e-10  4.08e+04     0s\n"
=======
      "INFO:gurobipy:  10   2.89054547e+10  2.31739019e+10  5.01e-07 6.40e-10  4.34e+04     1s\n"
>>>>>>> d8a0b4f412ad8fd1285695fc5ab216ac08eef4ee
     ]
    },
    {
     "name": "stdout",
     "output_type": "stream",
     "text": [
<<<<<<< HEAD
      "  11   2.57882247e+10  2.23442851e+10  5.17e-07 3.93e-10  2.61e+04     0s\n"
=======
      "  11   2.72997183e+10  2.37155948e+10  4.34e-07 2.04e-09  2.72e+04     1s\n"
>>>>>>> d8a0b4f412ad8fd1285695fc5ab216ac08eef4ee
     ]
    },
    {
     "name": "stderr",
     "output_type": "stream",
     "text": [
<<<<<<< HEAD
      "INFO:gurobipy:  11   2.57882247e+10  2.23442851e+10  5.17e-07 3.93e-10  2.61e+04     0s\n"
=======
      "INFO:gurobipy:  11   2.72997183e+10  2.37155948e+10  4.34e-07 2.04e-09  2.72e+04     1s\n"
>>>>>>> d8a0b4f412ad8fd1285695fc5ab216ac08eef4ee
     ]
    },
    {
     "name": "stdout",
     "output_type": "stream",
     "text": [
<<<<<<< HEAD
      "  12   2.48840229e+10  2.25190106e+10  1.78e-07 1.16e-09  1.79e+04     0s\n"
=======
      "  12   2.64698707e+10  2.38954623e+10  8.56e-07 9.60e-10  1.95e+04     1s\n"
>>>>>>> d8a0b4f412ad8fd1285695fc5ab216ac08eef4ee
     ]
    },
    {
     "name": "stderr",
     "output_type": "stream",
     "text": [
<<<<<<< HEAD
      "INFO:gurobipy:  12   2.48840229e+10  2.25190106e+10  1.78e-07 1.16e-09  1.79e+04     0s\n"
=======
      "INFO:gurobipy:  12   2.64698707e+10  2.38954623e+10  8.56e-07 9.60e-10  1.95e+04     1s\n"
>>>>>>> d8a0b4f412ad8fd1285695fc5ab216ac08eef4ee
     ]
    },
    {
     "name": "stdout",
     "output_type": "stream",
     "text": [
<<<<<<< HEAD
      "  13   2.45137027e+10  2.26249871e+10  4.06e-07 2.39e-09  1.43e+04     0s\n"
=======
      "  13   2.60400183e+10  2.40809592e+10  6.69e-07 3.06e-09  1.48e+04     1s\n"
>>>>>>> d8a0b4f412ad8fd1285695fc5ab216ac08eef4ee
     ]
    },
    {
     "name": "stderr",
     "output_type": "stream",
     "text": [
<<<<<<< HEAD
      "INFO:gurobipy:  13   2.45137027e+10  2.26249871e+10  4.06e-07 2.39e-09  1.43e+04     0s\n"
=======
      "INFO:gurobipy:  13   2.60400183e+10  2.40809592e+10  6.69e-07 3.06e-09  1.48e+04     1s\n"
>>>>>>> d8a0b4f412ad8fd1285695fc5ab216ac08eef4ee
     ]
    },
    {
     "name": "stdout",
     "output_type": "stream",
     "text": [
<<<<<<< HEAD
      "  14   2.42105348e+10  2.28100471e+10  2.09e-07 1.34e-09  1.06e+04     0s\n"
=======
      "  14   2.56185089e+10  2.42866895e+10  1.43e-07 9.20e-10  1.01e+04     1s\n"
>>>>>>> d8a0b4f412ad8fd1285695fc5ab216ac08eef4ee
     ]
    },
    {
     "name": "stderr",
     "output_type": "stream",
     "text": [
<<<<<<< HEAD
      "INFO:gurobipy:  14   2.42105348e+10  2.28100471e+10  2.09e-07 1.34e-09  1.06e+04     0s\n"
=======
      "INFO:gurobipy:  14   2.56185089e+10  2.42866895e+10  1.43e-07 9.20e-10  1.01e+04     1s\n"
>>>>>>> d8a0b4f412ad8fd1285695fc5ab216ac08eef4ee
     ]
    },
    {
     "name": "stdout",
     "output_type": "stream",
     "text": [
<<<<<<< HEAD
      "  15   2.39189345e+10  2.29467402e+10  6.43e-07 9.60e-10  7.37e+03     0s\n"
=======
      "  15   2.53952983e+10  2.43933212e+10  8.11e-07 6.75e-10  7.59e+03     1s\n"
>>>>>>> d8a0b4f412ad8fd1285695fc5ab216ac08eef4ee
     ]
    },
    {
     "name": "stderr",
     "output_type": "stream",
     "text": [
<<<<<<< HEAD
      "INFO:gurobipy:  15   2.39189345e+10  2.29467402e+10  6.43e-07 9.60e-10  7.37e+03     0s\n"
=======
      "INFO:gurobipy:  15   2.53952983e+10  2.43933212e+10  8.11e-07 6.75e-10  7.59e+03     1s\n"
>>>>>>> d8a0b4f412ad8fd1285695fc5ab216ac08eef4ee
     ]
    },
    {
     "name": "stdout",
     "output_type": "stream",
     "text": [
<<<<<<< HEAD
      "  16   2.38343408e+10  2.30430008e+10  6.40e-07 5.82e-10  5.99e+03     1s\n"
=======
      "  16   2.52540136e+10  2.44516138e+10  1.10e-06 4.18e-10  6.08e+03     1s\n"
>>>>>>> d8a0b4f412ad8fd1285695fc5ab216ac08eef4ee
     ]
    },
    {
     "name": "stderr",
     "output_type": "stream",
     "text": [
<<<<<<< HEAD
      "INFO:gurobipy:  16   2.38343408e+10  2.30430008e+10  6.40e-07 5.82e-10  5.99e+03     1s\n"
=======
      "INFO:gurobipy:  16   2.52540136e+10  2.44516138e+10  1.10e-06 4.18e-10  6.08e+03     1s\n"
>>>>>>> d8a0b4f412ad8fd1285695fc5ab216ac08eef4ee
     ]
    },
    {
     "name": "stdout",
     "output_type": "stream",
     "text": [
<<<<<<< HEAD
      "  17   2.37250455e+10  2.30977630e+10  1.20e-05 7.89e-10  4.75e+03     1s\n"
=======
      "  17   2.51732394e+10  2.45291686e+10  1.33e-06 5.49e-10  4.88e+03     1s\n"
>>>>>>> d8a0b4f412ad8fd1285695fc5ab216ac08eef4ee
     ]
    },
    {
     "name": "stderr",
     "output_type": "stream",
     "text": [
<<<<<<< HEAD
      "INFO:gurobipy:  17   2.37250455e+10  2.30977630e+10  1.20e-05 7.89e-10  4.75e+03     1s\n"
=======
      "INFO:gurobipy:  17   2.51732394e+10  2.45291686e+10  1.33e-06 5.49e-10  4.88e+03     1s\n"
>>>>>>> d8a0b4f412ad8fd1285695fc5ab216ac08eef4ee
     ]
    },
    {
     "name": "stdout",
     "output_type": "stream",
     "text": [
<<<<<<< HEAD
      "  18   2.36031966e+10  2.31487888e+10  1.64e-05 5.24e-10  3.44e+03     1s\n"
=======
      "  18   2.51064244e+10  2.45564622e+10  1.16e-06 1.12e-09  4.17e+03     1s\n"
>>>>>>> d8a0b4f412ad8fd1285695fc5ab216ac08eef4ee
     ]
    },
    {
     "name": "stderr",
     "output_type": "stream",
     "text": [
<<<<<<< HEAD
      "INFO:gurobipy:  18   2.36031966e+10  2.31487888e+10  1.64e-05 5.24e-10  3.44e+03     1s\n"
=======
      "INFO:gurobipy:  18   2.51064244e+10  2.45564622e+10  1.16e-06 1.12e-09  4.17e+03     1s\n"
>>>>>>> d8a0b4f412ad8fd1285695fc5ab216ac08eef4ee
     ]
    },
    {
     "name": "stdout",
     "output_type": "stream",
     "text": [
<<<<<<< HEAD
      "  19   2.35432430e+10  2.31680581e+10  1.42e-05 3.75e-10  2.84e+03     1s\n"
=======
      "  19   2.50935885e+10  2.45808055e+10  4.43e-06 5.71e-10  3.88e+03     1s\n"
>>>>>>> d8a0b4f412ad8fd1285695fc5ab216ac08eef4ee
     ]
    },
    {
     "name": "stderr",
     "output_type": "stream",
     "text": [
<<<<<<< HEAD
      "INFO:gurobipy:  19   2.35432430e+10  2.31680581e+10  1.42e-05 3.75e-10  2.84e+03     1s\n"
=======
      "INFO:gurobipy:  19   2.50935885e+10  2.45808055e+10  4.43e-06 5.71e-10  3.88e+03     1s\n"
>>>>>>> d8a0b4f412ad8fd1285695fc5ab216ac08eef4ee
     ]
    },
    {
     "name": "stdout",
     "output_type": "stream",
     "text": [
<<<<<<< HEAD
      "  20   2.35196655e+10  2.31794153e+10  1.14e-05 4.07e-10  2.58e+03     1s\n"
=======
      "  20   2.49427907e+10  2.46488390e+10  1.19e-05 1.45e-10  2.23e+03     1s\n"
>>>>>>> d8a0b4f412ad8fd1285695fc5ab216ac08eef4ee
     ]
    },
    {
     "name": "stderr",
     "output_type": "stream",
     "text": [
<<<<<<< HEAD
      "INFO:gurobipy:  20   2.35196655e+10  2.31794153e+10  1.14e-05 4.07e-10  2.58e+03     1s\n"
=======
      "INFO:gurobipy:  20   2.49427907e+10  2.46488390e+10  1.19e-05 1.45e-10  2.23e+03     1s\n"
>>>>>>> d8a0b4f412ad8fd1285695fc5ab216ac08eef4ee
     ]
    },
    {
     "name": "stdout",
     "output_type": "stream",
     "text": [
<<<<<<< HEAD
      "  21   2.34941458e+10  2.32234888e+10  9.85e-06 6.58e-10  2.05e+03     1s\n"
=======
      "  21   2.48977521e+10  2.46683784e+10  9.10e-06 0.00e+00  1.74e+03     1s\n"
>>>>>>> d8a0b4f412ad8fd1285695fc5ab216ac08eef4ee
     ]
    },
    {
     "name": "stderr",
     "output_type": "stream",
     "text": [
<<<<<<< HEAD
      "INFO:gurobipy:  21   2.34941458e+10  2.32234888e+10  9.85e-06 6.58e-10  2.05e+03     1s\n"
=======
      "INFO:gurobipy:  21   2.48977521e+10  2.46683784e+10  9.10e-06 0.00e+00  1.74e+03     1s\n"
>>>>>>> d8a0b4f412ad8fd1285695fc5ab216ac08eef4ee
     ]
    },
    {
     "name": "stdout",
     "output_type": "stream",
     "text": [
<<<<<<< HEAD
      "  22   2.34456231e+10  2.32368755e+10  8.38e-06 6.00e-10  1.58e+03     1s\n"
=======
      "  22   2.48666247e+10  2.46767991e+10  7.22e-06 7.09e-10  1.44e+03     1s\n"
>>>>>>> d8a0b4f412ad8fd1285695fc5ab216ac08eef4ee
     ]
    },
    {
     "name": "stderr",
     "output_type": "stream",
     "text": [
<<<<<<< HEAD
      "INFO:gurobipy:  22   2.34456231e+10  2.32368755e+10  8.38e-06 6.00e-10  1.58e+03     1s\n"
=======
      "INFO:gurobipy:  22   2.48666247e+10  2.46767991e+10  7.22e-06 7.09e-10  1.44e+03     1s\n"
>>>>>>> d8a0b4f412ad8fd1285695fc5ab216ac08eef4ee
     ]
    },
    {
     "name": "stdout",
     "output_type": "stream",
     "text": [
<<<<<<< HEAD
      "  23   2.34089127e+10  2.32437739e+10  7.36e-06 1.22e-09  1.25e+03     1s\n"
=======
      "  23   2.48384775e+10  2.46958304e+10  5.70e-06 2.97e-10  1.08e+03     1s\n"
>>>>>>> d8a0b4f412ad8fd1285695fc5ab216ac08eef4ee
     ]
    },
    {
     "name": "stderr",
     "output_type": "stream",
     "text": [
<<<<<<< HEAD
      "INFO:gurobipy:  23   2.34089127e+10  2.32437739e+10  7.36e-06 1.22e-09  1.25e+03     1s\n"
=======
      "INFO:gurobipy:  23   2.48384775e+10  2.46958304e+10  5.70e-06 2.97e-10  1.08e+03     1s\n"
>>>>>>> d8a0b4f412ad8fd1285695fc5ab216ac08eef4ee
     ]
    },
    {
     "name": "stdout",
     "output_type": "stream",
     "text": [
<<<<<<< HEAD
      "  24   2.33924500e+10  2.32464313e+10  5.40e-06 1.40e-09  1.11e+03     1s\n"
=======
      "  24   2.48144917e+10  2.47080908e+10  4.44e-06 5.32e-10  8.07e+02     1s\n"
>>>>>>> d8a0b4f412ad8fd1285695fc5ab216ac08eef4ee
     ]
    },
    {
     "name": "stderr",
     "output_type": "stream",
     "text": [
<<<<<<< HEAD
      "INFO:gurobipy:  24   2.33924500e+10  2.32464313e+10  5.40e-06 1.40e-09  1.11e+03     1s\n"
=======
      "INFO:gurobipy:  24   2.48144917e+10  2.47080908e+10  4.44e-06 5.32e-10  8.07e+02     1s\n"
>>>>>>> d8a0b4f412ad8fd1285695fc5ab216ac08eef4ee
     ]
    },
    {
     "name": "stdout",
     "output_type": "stream",
     "text": [
<<<<<<< HEAD
      "  25   2.33808540e+10  2.32522491e+10  5.81e-06 6.98e-10  9.74e+02     1s\n"
=======
      "  25   2.48012289e+10  2.47128089e+10  3.38e-06 9.57e-10  6.70e+02     2s\n"
>>>>>>> d8a0b4f412ad8fd1285695fc5ab216ac08eef4ee
     ]
    },
    {
     "name": "stderr",
     "output_type": "stream",
     "text": [
<<<<<<< HEAD
      "INFO:gurobipy:  25   2.33808540e+10  2.32522491e+10  5.81e-06 6.98e-10  9.74e+02     1s\n"
=======
      "INFO:gurobipy:  25   2.48012289e+10  2.47128089e+10  3.38e-06 9.57e-10  6.70e+02     2s\n"
>>>>>>> d8a0b4f412ad8fd1285695fc5ab216ac08eef4ee
     ]
    },
    {
     "name": "stdout",
     "output_type": "stream",
     "text": [
<<<<<<< HEAD
      "  26   2.33739520e+10  2.32579745e+10  5.72e-06 1.40e-09  8.78e+02     1s\n"
=======
      "  26   2.47899205e+10  2.47231212e+10  2.54e-06 2.36e-10  5.06e+02     2s\n"
>>>>>>> d8a0b4f412ad8fd1285695fc5ab216ac08eef4ee
     ]
    },
    {
     "name": "stderr",
     "output_type": "stream",
     "text": [
<<<<<<< HEAD
      "INFO:gurobipy:  26   2.33739520e+10  2.32579745e+10  5.72e-06 1.40e-09  8.78e+02     1s\n"
=======
      "INFO:gurobipy:  26   2.47899205e+10  2.47231212e+10  2.54e-06 2.36e-10  5.06e+02     2s\n"
>>>>>>> d8a0b4f412ad8fd1285695fc5ab216ac08eef4ee
     ]
    },
    {
     "name": "stdout",
     "output_type": "stream",
     "text": [
<<<<<<< HEAD
      "  27   2.33589028e+10  2.32602896e+10  4.80e-06 2.44e-10  7.46e+02     1s\n"
=======
      "  27   2.47834090e+10  2.47255193e+10  2.07e-06 2.83e-10  4.39e+02     2s\n"
>>>>>>> d8a0b4f412ad8fd1285695fc5ab216ac08eef4ee
     ]
    },
    {
     "name": "stderr",
     "output_type": "stream",
     "text": [
<<<<<<< HEAD
      "INFO:gurobipy:  27   2.33589028e+10  2.32602896e+10  4.80e-06 2.44e-10  7.46e+02     1s\n"
=======
      "INFO:gurobipy:  27   2.47834090e+10  2.47255193e+10  2.07e-06 2.83e-10  4.39e+02     2s\n"
>>>>>>> d8a0b4f412ad8fd1285695fc5ab216ac08eef4ee
     ]
    },
    {
     "name": "stdout",
     "output_type": "stream",
     "text": [
<<<<<<< HEAD
      "  28   2.33492816e+10  2.32617539e+10  4.46e-06 1.60e-10  6.63e+02     1s\n"
=======
      "  28   2.47794580e+10  2.47303344e+10  1.83e-06 3.04e-10  3.72e+02     2s\n"
>>>>>>> d8a0b4f412ad8fd1285695fc5ab216ac08eef4ee
     ]
    },
    {
     "name": "stderr",
     "output_type": "stream",
     "text": [
<<<<<<< HEAD
      "INFO:gurobipy:  28   2.33492816e+10  2.32617539e+10  4.46e-06 1.60e-10  6.63e+02     1s\n"
=======
      "INFO:gurobipy:  28   2.47794580e+10  2.47303344e+10  1.83e-06 3.04e-10  3.72e+02     2s\n"
>>>>>>> d8a0b4f412ad8fd1285695fc5ab216ac08eef4ee
     ]
    },
    {
     "name": "stdout",
     "output_type": "stream",
     "text": [
<<<<<<< HEAD
      "  29   2.33293931e+10  2.32658788e+10  3.67e-06 1.22e-09  4.81e+02     1s\n"
=======
      "  29   2.47728541e+10  2.47340788e+10  1.01e-06 1.24e-10  2.94e+02     2s\n"
>>>>>>> d8a0b4f412ad8fd1285695fc5ab216ac08eef4ee
     ]
    },
    {
     "name": "stderr",
     "output_type": "stream",
     "text": [
<<<<<<< HEAD
      "INFO:gurobipy:  29   2.33293931e+10  2.32658788e+10  3.67e-06 1.22e-09  4.81e+02     1s\n"
=======
      "INFO:gurobipy:  29   2.47728541e+10  2.47340788e+10  1.01e-06 1.24e-10  2.94e+02     2s\n"
>>>>>>> d8a0b4f412ad8fd1285695fc5ab216ac08eef4ee
     ]
    },
    {
     "name": "stdout",
     "output_type": "stream",
     "text": [
<<<<<<< HEAD
      "  30   2.33220088e+10  2.32679281e+10  3.25e-06 1.05e-09  4.09e+02     1s\n"
=======
      "  30   2.47704220e+10  2.47368063e+10  7.38e-07 2.72e-10  2.55e+02     2s\n"
>>>>>>> d8a0b4f412ad8fd1285695fc5ab216ac08eef4ee
     ]
    },
    {
     "name": "stderr",
     "output_type": "stream",
     "text": [
<<<<<<< HEAD
      "INFO:gurobipy:  30   2.33220088e+10  2.32679281e+10  3.25e-06 1.05e-09  4.09e+02     1s\n"
=======
      "INFO:gurobipy:  30   2.47704220e+10  2.47368063e+10  7.38e-07 2.72e-10  2.55e+02     2s\n"
>>>>>>> d8a0b4f412ad8fd1285695fc5ab216ac08eef4ee
     ]
    },
    {
     "name": "stdout",
     "output_type": "stream",
     "text": [
<<<<<<< HEAD
      "  31   2.33135226e+10  2.32686122e+10  2.40e-06 1.46e-09  3.40e+02     1s\n"
=======
      "  31   2.47683317e+10  2.47382112e+10  6.46e-07 1.88e-09  2.28e+02     2s\n"
>>>>>>> d8a0b4f412ad8fd1285695fc5ab216ac08eef4ee
     ]
    },
    {
     "name": "stderr",
     "output_type": "stream",
     "text": [
<<<<<<< HEAD
      "INFO:gurobipy:  31   2.33135226e+10  2.32686122e+10  2.40e-06 1.46e-09  3.40e+02     1s\n"
=======
      "INFO:gurobipy:  31   2.47683317e+10  2.47382112e+10  6.46e-07 1.88e-09  2.28e+02     2s\n"
>>>>>>> d8a0b4f412ad8fd1285695fc5ab216ac08eef4ee
     ]
    },
    {
     "name": "stdout",
     "output_type": "stream",
     "text": [
<<<<<<< HEAD
      "  32   2.33096656e+10  2.32692772e+10  2.16e-06 7.17e-10  3.06e+02     1s\n"
=======
      "  32   2.47655178e+10  2.47392601e+10  3.51e-07 3.06e-10  1.99e+02     2s\n"
>>>>>>> d8a0b4f412ad8fd1285695fc5ab216ac08eef4ee
     ]
    },
    {
     "name": "stderr",
     "output_type": "stream",
     "text": [
<<<<<<< HEAD
      "INFO:gurobipy:  32   2.33096656e+10  2.32692772e+10  2.16e-06 7.17e-10  3.06e+02     1s\n"
=======
      "INFO:gurobipy:  32   2.47655178e+10  2.47392601e+10  3.51e-07 3.06e-10  1.99e+02     2s\n"
>>>>>>> d8a0b4f412ad8fd1285695fc5ab216ac08eef4ee
     ]
    },
    {
     "name": "stdout",
     "output_type": "stream",
     "text": [
<<<<<<< HEAD
      "  33   2.33062048e+10  2.32706298e+10  1.82e-06 7.28e-10  2.69e+02     1s\n"
=======
      "  33   2.47643228e+10  2.47401078e+10  3.46e-07 4.50e-10  1.84e+02     2s\n"
>>>>>>> d8a0b4f412ad8fd1285695fc5ab216ac08eef4ee
     ]
    },
    {
     "name": "stderr",
     "output_type": "stream",
     "text": [
<<<<<<< HEAD
      "INFO:gurobipy:  33   2.33062048e+10  2.32706298e+10  1.82e-06 7.28e-10  2.69e+02     1s\n"
=======
      "INFO:gurobipy:  33   2.47643228e+10  2.47401078e+10  3.46e-07 4.50e-10  1.84e+02     2s\n"
>>>>>>> d8a0b4f412ad8fd1285695fc5ab216ac08eef4ee
     ]
    },
    {
     "name": "stdout",
     "output_type": "stream",
     "text": [
<<<<<<< HEAD
      "  34   2.33016824e+10  2.32714374e+10  1.29e-06 3.02e-10  2.29e+02     1s\n"
=======
      "  34   2.47614016e+10  2.47424700e+10  3.16e-07 6.45e-10  1.44e+02     2s\n"
>>>>>>> d8a0b4f412ad8fd1285695fc5ab216ac08eef4ee
     ]
    },
    {
     "name": "stderr",
     "output_type": "stream",
     "text": [
<<<<<<< HEAD
      "INFO:gurobipy:  34   2.33016824e+10  2.32714374e+10  1.29e-06 3.02e-10  2.29e+02     1s\n"
=======
      "INFO:gurobipy:  34   2.47614016e+10  2.47424700e+10  3.16e-07 6.45e-10  1.44e+02     2s\n"
>>>>>>> d8a0b4f412ad8fd1285695fc5ab216ac08eef4ee
     ]
    },
    {
     "name": "stdout",
     "output_type": "stream",
     "text": [
<<<<<<< HEAD
      "  35   2.32998250e+10  2.32718138e+10  9.39e-07 1.22e-09  2.12e+02     1s\n"
=======
      "  35   2.47583260e+10  2.47444368e+10  2.16e-07 1.33e-09  1.05e+02     2s\n"
>>>>>>> d8a0b4f412ad8fd1285695fc5ab216ac08eef4ee
     ]
    },
    {
     "name": "stderr",
     "output_type": "stream",
     "text": [
<<<<<<< HEAD
      "INFO:gurobipy:  35   2.32998250e+10  2.32718138e+10  9.39e-07 1.22e-09  2.12e+02     1s\n"
=======
      "INFO:gurobipy:  35   2.47583260e+10  2.47444368e+10  2.16e-07 1.33e-09  1.05e+02     2s\n"
>>>>>>> d8a0b4f412ad8fd1285695fc5ab216ac08eef4ee
     ]
    },
    {
     "name": "stdout",
     "output_type": "stream",
     "text": [
<<<<<<< HEAD
      "  36   2.32955843e+10  2.32729050e+10  1.04e-06 1.05e-09  1.72e+02     1s\n"
=======
      "  36   2.47574978e+10  2.47456956e+10  3.38e-07 1.33e-09  8.96e+01     2s\n"
>>>>>>> d8a0b4f412ad8fd1285695fc5ab216ac08eef4ee
     ]
    },
    {
     "name": "stderr",
     "output_type": "stream",
     "text": [
<<<<<<< HEAD
      "INFO:gurobipy:  36   2.32955843e+10  2.32729050e+10  1.04e-06 1.05e-09  1.72e+02     1s\n"
=======
      "INFO:gurobipy:  36   2.47574978e+10  2.47456956e+10  3.38e-07 1.33e-09  8.96e+01     2s\n"
>>>>>>> d8a0b4f412ad8fd1285695fc5ab216ac08eef4ee
     ]
    },
    {
     "name": "stdout",
     "output_type": "stream",
     "text": [
<<<<<<< HEAD
      "  37   2.32924644e+10  2.32730456e+10  6.61e-07 6.40e-10  1.47e+02     1s\n"
=======
      "  37   2.47567517e+10  2.47463673e+10  3.71e-07 4.79e-10  7.88e+01     2s\n"
>>>>>>> d8a0b4f412ad8fd1285695fc5ab216ac08eef4ee
     ]
    },
    {
     "name": "stderr",
     "output_type": "stream",
     "text": [
<<<<<<< HEAD
      "INFO:gurobipy:  37   2.32924644e+10  2.32730456e+10  6.61e-07 6.40e-10  1.47e+02     1s\n"
=======
      "INFO:gurobipy:  37   2.47567517e+10  2.47463673e+10  3.71e-07 4.79e-10  7.88e+01     2s\n"
>>>>>>> d8a0b4f412ad8fd1285695fc5ab216ac08eef4ee
     ]
    },
    {
     "name": "stdout",
     "output_type": "stream",
     "text": [
<<<<<<< HEAD
      "  38   2.32904686e+10  2.32734524e+10  1.74e-06 1.16e-09  1.29e+02     1s\n"
=======
      "  38   2.47563056e+10  2.47470895e+10  3.80e-07 7.08e-10  7.00e+01     2s\n"
>>>>>>> d8a0b4f412ad8fd1285695fc5ab216ac08eef4ee
     ]
    },
    {
     "name": "stderr",
     "output_type": "stream",
     "text": [
<<<<<<< HEAD
      "INFO:gurobipy:  38   2.32904686e+10  2.32734524e+10  1.74e-06 1.16e-09  1.29e+02     1s\n"
=======
      "INFO:gurobipy:  38   2.47563056e+10  2.47470895e+10  3.80e-07 7.08e-10  7.00e+01     2s\n"
>>>>>>> d8a0b4f412ad8fd1285695fc5ab216ac08eef4ee
     ]
    },
    {
     "name": "stdout",
     "output_type": "stream",
     "text": [
<<<<<<< HEAD
      "  39   2.32885491e+10  2.32736143e+10  1.56e-06 7.57e-10  1.13e+02     1s\n"
=======
      "  39   2.47560667e+10  2.47474032e+10  9.15e-07 5.19e-10  6.58e+01     2s\n"
>>>>>>> d8a0b4f412ad8fd1285695fc5ab216ac08eef4ee
     ]
    },
    {
     "name": "stderr",
     "output_type": "stream",
     "text": [
<<<<<<< HEAD
      "INFO:gurobipy:  39   2.32885491e+10  2.32736143e+10  1.56e-06 7.57e-10  1.13e+02     1s\n"
=======
      "INFO:gurobipy:  39   2.47560667e+10  2.47474032e+10  9.15e-07 5.19e-10  6.58e+01     2s\n"
>>>>>>> d8a0b4f412ad8fd1285695fc5ab216ac08eef4ee
     ]
    },
    {
     "name": "stdout",
     "output_type": "stream",
     "text": [
<<<<<<< HEAD
      "  40   2.32868992e+10  2.32738403e+10  5.83e-06 5.24e-10  9.88e+01     1s\n"
=======
      "  40   2.47559625e+10  2.47480424e+10  7.60e-07 1.71e-09  6.01e+01     3s\n"
>>>>>>> d8a0b4f412ad8fd1285695fc5ab216ac08eef4ee
     ]
    },
    {
     "name": "stderr",
     "output_type": "stream",
     "text": [
<<<<<<< HEAD
      "INFO:gurobipy:  40   2.32868992e+10  2.32738403e+10  5.83e-06 5.24e-10  9.88e+01     1s\n"
=======
      "INFO:gurobipy:  40   2.47559625e+10  2.47480424e+10  7.60e-07 1.71e-09  6.01e+01     3s\n"
>>>>>>> d8a0b4f412ad8fd1285695fc5ab216ac08eef4ee
     ]
    },
    {
     "name": "stdout",
     "output_type": "stream",
     "text": [
<<<<<<< HEAD
      "  41   2.32854483e+10  2.32741236e+10  4.76e-06 1.22e-09  8.57e+01     1s\n"
=======
      "  41   2.47556703e+10  2.47482817e+10  5.95e-07 4.73e-10  5.61e+01     3s\n"
>>>>>>> d8a0b4f412ad8fd1285695fc5ab216ac08eef4ee
     ]
    },
    {
     "name": "stderr",
     "output_type": "stream",
     "text": [
<<<<<<< HEAD
      "INFO:gurobipy:  41   2.32854483e+10  2.32741236e+10  4.76e-06 1.22e-09  8.57e+01     1s\n"
=======
      "INFO:gurobipy:  41   2.47556703e+10  2.47482817e+10  5.95e-07 4.73e-10  5.61e+01     3s\n"
>>>>>>> d8a0b4f412ad8fd1285695fc5ab216ac08eef4ee
     ]
    },
    {
     "name": "stdout",
     "output_type": "stream",
     "text": [
<<<<<<< HEAD
      "  42   2.32844291e+10  2.32742535e+10  4.24e-06 6.40e-10  7.70e+01     1s\n"
=======
      "  42   2.47554665e+10  2.47484699e+10  1.32e-06 5.89e-10  5.31e+01     3s\n"
>>>>>>> d8a0b4f412ad8fd1285695fc5ab216ac08eef4ee
     ]
    },
    {
     "name": "stderr",
     "output_type": "stream",
     "text": [
<<<<<<< HEAD
      "INFO:gurobipy:  42   2.32844291e+10  2.32742535e+10  4.24e-06 6.40e-10  7.70e+01     1s\n"
=======
      "INFO:gurobipy:  42   2.47554665e+10  2.47484699e+10  1.32e-06 5.89e-10  5.31e+01     3s\n"
>>>>>>> d8a0b4f412ad8fd1285695fc5ab216ac08eef4ee
     ]
    },
    {
     "name": "stdout",
     "output_type": "stream",
     "text": [
<<<<<<< HEAD
      "  43   2.32824756e+10  2.32744626e+10  3.39e-06 2.33e-10  6.06e+01     1s\n"
=======
      "  43   2.47554134e+10  2.47487554e+10  1.35e-06 1.13e-09  5.05e+01     3s\n"
>>>>>>> d8a0b4f412ad8fd1285695fc5ab216ac08eef4ee
     ]
    },
    {
     "name": "stderr",
     "output_type": "stream",
     "text": [
<<<<<<< HEAD
      "INFO:gurobipy:  43   2.32824756e+10  2.32744626e+10  3.39e-06 2.33e-10  6.06e+01     1s\n"
=======
      "INFO:gurobipy:  43   2.47554134e+10  2.47487554e+10  1.35e-06 1.13e-09  5.05e+01     3s\n"
>>>>>>> d8a0b4f412ad8fd1285695fc5ab216ac08eef4ee
     ]
    },
    {
     "name": "stdout",
     "output_type": "stream",
     "text": [
<<<<<<< HEAD
      "  44   2.32812631e+10  2.32747450e+10  2.70e-06 5.24e-10  4.93e+01     1s\n"
=======
      "  44   2.47551917e+10  2.47493666e+10  1.30e-06 1.53e-10  4.42e+01     3s\n"
>>>>>>> d8a0b4f412ad8fd1285695fc5ab216ac08eef4ee
     ]
    },
    {
     "name": "stderr",
     "output_type": "stream",
     "text": [
<<<<<<< HEAD
      "INFO:gurobipy:  44   2.32812631e+10  2.32747450e+10  2.70e-06 5.24e-10  4.93e+01     1s\n"
=======
      "INFO:gurobipy:  44   2.47551917e+10  2.47493666e+10  1.30e-06 1.53e-10  4.42e+01     3s\n"
>>>>>>> d8a0b4f412ad8fd1285695fc5ab216ac08eef4ee
     ]
    },
    {
     "name": "stdout",
     "output_type": "stream",
     "text": [
<<<<<<< HEAD
      "  45   2.32809449e+10  2.32750436e+10  2.73e-06 0.00e+00  4.46e+01     1s\n"
=======
      "  45   2.47548858e+10  2.47499671e+10  1.12e-06 5.64e-10  3.73e+01     3s\n"
>>>>>>> d8a0b4f412ad8fd1285695fc5ab216ac08eef4ee
     ]
    },
    {
     "name": "stderr",
     "output_type": "stream",
     "text": [
<<<<<<< HEAD
      "INFO:gurobipy:  45   2.32809449e+10  2.32750436e+10  2.73e-06 0.00e+00  4.46e+01     1s\n"
=======
      "INFO:gurobipy:  45   2.47548858e+10  2.47499671e+10  1.12e-06 5.64e-10  3.73e+01     3s\n"
>>>>>>> d8a0b4f412ad8fd1285695fc5ab216ac08eef4ee
     ]
    },
    {
     "name": "stdout",
     "output_type": "stream",
     "text": [
<<<<<<< HEAD
      "  46   2.32790448e+10  2.32756503e+10  4.59e-06 3.26e-09  2.57e+01     1s\n"
=======
      "  46   2.47546393e+10  2.47506772e+10  1.06e-06 3.02e-10  3.01e+01     3s\n"
>>>>>>> d8a0b4f412ad8fd1285695fc5ab216ac08eef4ee
     ]
    },
    {
     "name": "stderr",
     "output_type": "stream",
     "text": [
<<<<<<< HEAD
      "INFO:gurobipy:  46   2.32790448e+10  2.32756503e+10  4.59e-06 3.26e-09  2.57e+01     1s\n"
=======
      "INFO:gurobipy:  46   2.47546393e+10  2.47506772e+10  1.06e-06 3.02e-10  3.01e+01     3s\n"
>>>>>>> d8a0b4f412ad8fd1285695fc5ab216ac08eef4ee
     ]
    },
    {
     "name": "stdout",
     "output_type": "stream",
     "text": [
<<<<<<< HEAD
      "  47   2.32767850e+10  2.32758320e+10  3.76e-06 1.34e-09  7.21e+00     1s\n"
=======
      "  47   2.47539437e+10  2.47511437e+10  3.71e-07 5.51e-10  2.13e+01     3s\n"
>>>>>>> d8a0b4f412ad8fd1285695fc5ab216ac08eef4ee
     ]
    },
    {
     "name": "stderr",
     "output_type": "stream",
     "text": [
<<<<<<< HEAD
      "INFO:gurobipy:  47   2.32767850e+10  2.32758320e+10  3.76e-06 1.34e-09  7.21e+00     1s\n"
=======
      "INFO:gurobipy:  47   2.47539437e+10  2.47511437e+10  3.71e-07 5.51e-10  2.13e+01     3s\n"
>>>>>>> d8a0b4f412ad8fd1285695fc5ab216ac08eef4ee
     ]
    },
    {
     "name": "stdout",
     "output_type": "stream",
     "text": [
<<<<<<< HEAD
      "  48   2.32762899e+10  2.32760825e+10  9.47e-07 6.40e-10  1.57e+00     1s\n"
=======
      "  48   2.47535590e+10  2.47512684e+10  1.79e-06 5.97e-10  1.74e+01     3s\n"
>>>>>>> d8a0b4f412ad8fd1285695fc5ab216ac08eef4ee
     ]
    },
    {
     "name": "stderr",
     "output_type": "stream",
     "text": [
<<<<<<< HEAD
      "INFO:gurobipy:  48   2.32762899e+10  2.32760825e+10  9.47e-07 6.40e-10  1.57e+00     1s\n"
=======
      "INFO:gurobipy:  48   2.47535590e+10  2.47512684e+10  1.79e-06 5.97e-10  1.74e+01     3s\n"
>>>>>>> d8a0b4f412ad8fd1285695fc5ab216ac08eef4ee
     ]
    },
    {
     "name": "stdout",
     "output_type": "stream",
     "text": [
<<<<<<< HEAD
      "  49   2.32762500e+10  2.32760964e+10  7.30e-07 6.40e-10  1.16e+00     1s\n"
=======
      "  49   2.47534515e+10  2.47516005e+10  1.23e-06 8.66e-10  1.41e+01     3s\n"
>>>>>>> d8a0b4f412ad8fd1285695fc5ab216ac08eef4ee
     ]
    },
    {
     "name": "stderr",
     "output_type": "stream",
     "text": [
<<<<<<< HEAD
      "INFO:gurobipy:  49   2.32762500e+10  2.32760964e+10  7.30e-07 6.40e-10  1.16e+00     1s\n"
=======
      "INFO:gurobipy:  49   2.47534515e+10  2.47516005e+10  1.23e-06 8.66e-10  1.41e+01     3s\n"
>>>>>>> d8a0b4f412ad8fd1285695fc5ab216ac08eef4ee
     ]
    },
    {
     "name": "stdout",
     "output_type": "stream",
     "text": [
<<<<<<< HEAD
      "  50   2.32761534e+10  2.32761112e+10  2.04e-07 2.04e-10  3.19e-01     1s\n"
=======
      "  50   2.47533633e+10  2.47520112e+10  7.13e-07 1.26e-10  1.03e+01     3s\n"
>>>>>>> d8a0b4f412ad8fd1285695fc5ab216ac08eef4ee
     ]
    },
    {
     "name": "stderr",
     "output_type": "stream",
     "text": [
<<<<<<< HEAD
      "INFO:gurobipy:  50   2.32761534e+10  2.32761112e+10  2.04e-07 2.04e-10  3.19e-01     1s\n"
=======
      "INFO:gurobipy:  50   2.47533633e+10  2.47520112e+10  7.13e-07 1.26e-10  1.03e+01     3s\n"
>>>>>>> d8a0b4f412ad8fd1285695fc5ab216ac08eef4ee
     ]
    },
    {
     "name": "stdout",
     "output_type": "stream",
     "text": [
<<<<<<< HEAD
      "  51   2.32761187e+10  2.32761143e+10  4.86e-08 5.09e-10  3.35e-02     1s\n"
=======
      "  51   2.47532721e+10  2.47522129e+10  3.39e-06 3.97e-10  8.06e+00     3s\n"
>>>>>>> d8a0b4f412ad8fd1285695fc5ab216ac08eef4ee
     ]
    },
    {
     "name": "stderr",
     "output_type": "stream",
     "text": [
<<<<<<< HEAD
      "INFO:gurobipy:  51   2.32761187e+10  2.32761143e+10  4.86e-08 5.09e-10  3.35e-02     1s\n"
=======
      "INFO:gurobipy:  51   2.47532721e+10  2.47522129e+10  3.39e-06 3.97e-10  8.06e+00     3s\n"
>>>>>>> d8a0b4f412ad8fd1285695fc5ab216ac08eef4ee
     ]
    },
    {
     "name": "stdout",
     "output_type": "stream",
     "text": [
<<<<<<< HEAD
      "  52   2.32761159e+10  2.32761155e+10  6.55e-09 2.62e-10  3.32e-03     1s\n"
=======
      "  52   2.47532577e+10  2.47526042e+10  3.16e-06 3.17e-09  4.97e+00     3s\n"
>>>>>>> d8a0b4f412ad8fd1285695fc5ab216ac08eef4ee
     ]
    },
    {
     "name": "stderr",
     "output_type": "stream",
     "text": [
<<<<<<< HEAD
      "INFO:gurobipy:  52   2.32761159e+10  2.32761155e+10  6.55e-09 2.62e-10  3.32e-03     1s\n"
=======
      "INFO:gurobipy:  52   2.47532577e+10  2.47526042e+10  3.16e-06 3.17e-09  4.97e+00     3s\n"
>>>>>>> d8a0b4f412ad8fd1285695fc5ab216ac08eef4ee
     ]
    },
    {
     "name": "stdout",
     "output_type": "stream",
     "text": [
<<<<<<< HEAD
      "  53   2.32761155e+10  2.32761155e+10  4.03e-07 1.75e-09  2.13e-04     1s\n"
=======
      "  53   2.47532505e+10  2.47526402e+10  4.17e-06 2.79e-09  4.64e+00     3s\n"
>>>>>>> d8a0b4f412ad8fd1285695fc5ab216ac08eef4ee
     ]
    },
    {
     "name": "stderr",
     "output_type": "stream",
     "text": [
<<<<<<< HEAD
      "INFO:gurobipy:  53   2.32761155e+10  2.32761155e+10  4.03e-07 1.75e-09  2.13e-04     1s\n"
=======
      "INFO:gurobipy:  53   2.47532505e+10  2.47526402e+10  4.17e-06 2.79e-09  4.64e+00     3s\n"
>>>>>>> d8a0b4f412ad8fd1285695fc5ab216ac08eef4ee
     ]
    },
    {
     "name": "stdout",
     "output_type": "stream",
     "text": [
<<<<<<< HEAD
      "  54   2.32761155e+10  2.32761155e+10  9.15e-09 3.42e-10  5.92e-06     1s\n"
=======
      "  54   2.47532314e+10  2.47528656e+10  7.12e-06 1.78e-09  2.78e+00     3s\n"
>>>>>>> d8a0b4f412ad8fd1285695fc5ab216ac08eef4ee
     ]
    },
    {
     "name": "stderr",
     "output_type": "stream",
     "text": [
<<<<<<< HEAD
      "INFO:gurobipy:  54   2.32761155e+10  2.32761155e+10  9.15e-09 3.42e-10  5.92e-06     1s\n"
=======
      "INFO:gurobipy:  54   2.47532314e+10  2.47528656e+10  7.12e-06 1.78e-09  2.78e+00     3s\n"
>>>>>>> d8a0b4f412ad8fd1285695fc5ab216ac08eef4ee
     ]
    },
    {
     "name": "stdout",
     "output_type": "stream",
     "text": [
<<<<<<< HEAD
      "  55   2.32761155e+10  2.32761155e+10  6.15e-10 9.31e-10  3.34e-09     1s\n"
=======
      "  55   2.47532185e+10  2.47529678e+10  6.12e-06 7.77e-10  1.91e+00     3s\n"
>>>>>>> d8a0b4f412ad8fd1285695fc5ab216ac08eef4ee
     ]
    },
    {
     "name": "stderr",
     "output_type": "stream",
     "text": [
<<<<<<< HEAD
      "INFO:gurobipy:  55   2.32761155e+10  2.32761155e+10  6.15e-10 9.31e-10  3.34e-09     1s\n"
=======
      "INFO:gurobipy:  55   2.47532185e+10  2.47529678e+10  6.12e-06 7.77e-10  1.91e+00     3s\n"
     ]
    },
    {
     "name": "stdout",
     "output_type": "stream",
     "text": [
      "  56   2.47532176e+10  2.47530777e+10  5.22e-06 1.14e-09  1.06e+00     3s\n"
     ]
    },
    {
     "name": "stderr",
     "output_type": "stream",
     "text": [
      "INFO:gurobipy:  56   2.47532176e+10  2.47530777e+10  5.22e-06 1.14e-09  1.06e+00     3s\n"
     ]
    },
    {
     "name": "stdout",
     "output_type": "stream",
     "text": [
      "  57   2.47532167e+10  2.47530842e+10  4.44e-06 1.89e-09  1.01e+00     3s\n"
     ]
    },
    {
     "name": "stderr",
     "output_type": "stream",
     "text": [
      "INFO:gurobipy:  57   2.47532167e+10  2.47530842e+10  4.44e-06 1.89e-09  1.01e+00     3s\n"
     ]
    },
    {
     "name": "stdout",
     "output_type": "stream",
     "text": [
      "  58   2.47532157e+10  2.47530918e+10  3.73e-06 1.32e-09  9.43e-01     3s\n"
     ]
    },
    {
     "name": "stderr",
     "output_type": "stream",
     "text": [
      "INFO:gurobipy:  58   2.47532157e+10  2.47530918e+10  3.73e-06 1.32e-09  9.43e-01     3s\n"
     ]
    },
    {
     "name": "stdout",
     "output_type": "stream",
     "text": [
      "  59   2.47532156e+10  2.47530964e+10  3.59e-06 8.99e-10  9.07e-01     3s\n"
     ]
    },
    {
     "name": "stderr",
     "output_type": "stream",
     "text": [
      "INFO:gurobipy:  59   2.47532156e+10  2.47530964e+10  3.59e-06 8.99e-10  9.07e-01     3s\n"
     ]
    },
    {
     "name": "stdout",
     "output_type": "stream",
     "text": [
      "  60   2.47532153e+10  2.47531028e+10  2.97e-06 1.36e-09  8.56e-01     3s\n"
     ]
    },
    {
     "name": "stderr",
     "output_type": "stream",
     "text": [
      "INFO:gurobipy:  60   2.47532153e+10  2.47531028e+10  2.97e-06 1.36e-09  8.56e-01     3s\n"
     ]
    },
    {
     "name": "stdout",
     "output_type": "stream",
     "text": [
      "  61   2.47532153e+10  2.47531193e+10  2.90e-06 7.45e-10  7.31e-01     4s\n"
     ]
    },
    {
     "name": "stderr",
     "output_type": "stream",
     "text": [
      "INFO:gurobipy:  61   2.47532153e+10  2.47531193e+10  2.90e-06 7.45e-10  7.31e-01     4s\n"
     ]
    },
    {
     "name": "stdout",
     "output_type": "stream",
     "text": [
      "  62   2.47532147e+10  2.47532027e+10  1.72e-06 0.00e+00  9.17e-02     4s\n"
     ]
    },
    {
     "name": "stderr",
     "output_type": "stream",
     "text": [
      "INFO:gurobipy:  62   2.47532147e+10  2.47532027e+10  1.72e-06 0.00e+00  9.17e-02     4s\n"
     ]
    },
    {
     "name": "stdout",
     "output_type": "stream",
     "text": [
      "  63   2.47532145e+10  2.47532076e+10  9.77e-07 4.41e-10  5.30e-02     4s\n"
     ]
    },
    {
     "name": "stderr",
     "output_type": "stream",
     "text": [
      "INFO:gurobipy:  63   2.47532145e+10  2.47532076e+10  9.77e-07 4.41e-10  5.30e-02     4s\n"
     ]
    },
    {
     "name": "stdout",
     "output_type": "stream",
     "text": [
      "  64   2.47532143e+10  2.47532125e+10  5.82e-11 5.46e-10  1.36e-02     4s\n"
     ]
    },
    {
     "name": "stderr",
     "output_type": "stream",
     "text": [
      "INFO:gurobipy:  64   2.47532143e+10  2.47532125e+10  5.82e-11 5.46e-10  1.36e-02     4s\n"
     ]
    },
    {
     "name": "stdout",
     "output_type": "stream",
     "text": [
      "  65   2.47532143e+10  2.47532143e+10  7.87e-08 4.49e-10  2.34e-05     4s\n"
     ]
    },
    {
     "name": "stderr",
     "output_type": "stream",
     "text": [
      "INFO:gurobipy:  65   2.47532143e+10  2.47532143e+10  7.87e-08 4.49e-10  2.34e-05     4s\n"
     ]
    },
    {
     "name": "stdout",
     "output_type": "stream",
     "text": [
      "  66   2.47532143e+10  2.47532143e+10  1.16e-10 5.82e-10  2.35e-11     4s\n"
     ]
    },
    {
     "name": "stderr",
     "output_type": "stream",
     "text": [
      "INFO:gurobipy:  66   2.47532143e+10  2.47532143e+10  1.16e-10 5.82e-10  2.35e-11     4s\n"
>>>>>>> d8a0b4f412ad8fd1285695fc5ab216ac08eef4ee
     ]
    },
    {
     "name": "stdout",
     "output_type": "stream",
     "text": [
      "\n"
     ]
    },
    {
     "name": "stderr",
     "output_type": "stream",
     "text": [
      "INFO:gurobipy:\n"
     ]
    },
    {
     "name": "stdout",
     "output_type": "stream",
     "text": [
<<<<<<< HEAD
      "Barrier solved model in 55 iterations and 1.41 seconds (1.08 work units)\n"
=======
      "Barrier solved model in 66 iterations and 3.85 seconds (1.22 work units)\n"
>>>>>>> d8a0b4f412ad8fd1285695fc5ab216ac08eef4ee
     ]
    },
    {
     "name": "stderr",
     "output_type": "stream",
     "text": [
<<<<<<< HEAD
      "INFO:gurobipy:Barrier solved model in 55 iterations and 1.41 seconds (1.08 work units)\n"
=======
      "INFO:gurobipy:Barrier solved model in 66 iterations and 3.85 seconds (1.22 work units)\n"
>>>>>>> d8a0b4f412ad8fd1285695fc5ab216ac08eef4ee
     ]
    },
    {
     "name": "stdout",
     "output_type": "stream",
     "text": [
      "Optimal objective 2.47532143e+10\n"
     ]
    },
    {
     "name": "stderr",
     "output_type": "stream",
     "text": [
      "INFO:gurobipy:Optimal objective 2.47532143e+10\n"
     ]
    },
    {
     "name": "stdout",
     "output_type": "stream",
     "text": [
      "\n"
     ]
    },
    {
     "name": "stderr",
     "output_type": "stream",
     "text": [
      "INFO:gurobipy:\n"
     ]
    },
    {
     "name": "stdout",
     "output_type": "stream",
     "text": [
      "Crossover log...\n"
     ]
    },
    {
     "name": "stderr",
     "output_type": "stream",
     "text": [
      "INFO:gurobipy:Crossover log...\n"
     ]
    },
    {
     "name": "stdout",
     "output_type": "stream",
     "text": [
      "\n"
     ]
    },
    {
     "name": "stderr",
     "output_type": "stream",
     "text": [
      "INFO:gurobipy:\n"
     ]
    },
    {
     "name": "stdout",
     "output_type": "stream",
     "text": [
      "   13311 DPushes remaining with DInf 0.0000000e+00                 1s\n"
     ]
    },
    {
     "name": "stderr",
     "output_type": "stream",
     "text": [
      "INFO:gurobipy:   13311 DPushes remaining with DInf 0.0000000e+00                 1s\n"
     ]
    },
    {
     "name": "stdout",
     "output_type": "stream",
     "text": [
      "       0 DPushes remaining with DInf 0.0000000e+00                 1s\n"
     ]
    },
    {
     "name": "stderr",
     "output_type": "stream",
     "text": [
      "INFO:gurobipy:       0 DPushes remaining with DInf 0.0000000e+00                 1s\n"
     ]
    },
    {
     "name": "stdout",
     "output_type": "stream",
     "text": [
      "\n"
     ]
    },
    {
     "name": "stderr",
     "output_type": "stream",
     "text": [
      "INFO:gurobipy:\n"
     ]
    },
    {
     "name": "stdout",
     "output_type": "stream",
     "text": [
<<<<<<< HEAD
      "       0 PPushes remaining with PInf 0.0000000e+00                 1s\n"
=======
      "       1 PPushes remaining with PInf 0.0000000e+00                 4s\n"
     ]
    },
    {
     "name": "stderr",
     "output_type": "stream",
     "text": [
      "INFO:gurobipy:       1 PPushes remaining with PInf 0.0000000e+00                 4s\n"
     ]
    },
    {
     "name": "stdout",
     "output_type": "stream",
     "text": [
      "       0 PPushes remaining with PInf 0.0000000e+00                 4s\n"
>>>>>>> d8a0b4f412ad8fd1285695fc5ab216ac08eef4ee
     ]
    },
    {
     "name": "stderr",
     "output_type": "stream",
     "text": [
      "INFO:gurobipy:       0 PPushes remaining with PInf 0.0000000e+00                 1s\n"
     ]
    },
    {
     "name": "stdout",
     "output_type": "stream",
     "text": [
      "\n"
     ]
    },
    {
     "name": "stderr",
     "output_type": "stream",
     "text": [
      "INFO:gurobipy:\n"
     ]
    },
    {
     "name": "stdout",
     "output_type": "stream",
     "text": [
<<<<<<< HEAD
      "  Push phase complete: Pinf 0.0000000e+00, Dinf 4.4604447e-11      1s\n"
=======
      "  Push phase complete: Pinf 0.0000000e+00, Dinf 4.6725757e-10      4s\n"
>>>>>>> d8a0b4f412ad8fd1285695fc5ab216ac08eef4ee
     ]
    },
    {
     "name": "stderr",
     "output_type": "stream",
     "text": [
<<<<<<< HEAD
      "INFO:gurobipy:  Push phase complete: Pinf 0.0000000e+00, Dinf 4.4604447e-11      1s\n"
=======
      "INFO:gurobipy:  Push phase complete: Pinf 0.0000000e+00, Dinf 4.6725757e-10      4s\n"
>>>>>>> d8a0b4f412ad8fd1285695fc5ab216ac08eef4ee
     ]
    },
    {
     "name": "stdout",
     "output_type": "stream",
     "text": [
      "\n"
     ]
    },
    {
     "name": "stderr",
     "output_type": "stream",
     "text": [
      "INFO:gurobipy:\n"
     ]
    },
    {
     "name": "stdout",
     "output_type": "stream",
     "text": [
      "\n"
     ]
    },
    {
     "name": "stderr",
     "output_type": "stream",
     "text": [
      "INFO:gurobipy:\n"
     ]
    },
    {
     "name": "stdout",
     "output_type": "stream",
     "text": [
      "Solved with barrier\n"
     ]
    },
    {
     "name": "stderr",
     "output_type": "stream",
     "text": [
      "INFO:gurobipy:Solved with barrier\n"
     ]
    },
    {
     "name": "stdout",
     "output_type": "stream",
     "text": [
      "Iteration    Objective       Primal Inf.    Dual Inf.      Time\n"
     ]
    },
    {
     "name": "stderr",
     "output_type": "stream",
     "text": [
      "INFO:gurobipy:Iteration    Objective       Primal Inf.    Dual Inf.      Time\n"
     ]
    },
    {
     "name": "stdout",
     "output_type": "stream",
     "text": [
<<<<<<< HEAD
      "   13314    2.3276116e+10   0.000000e+00   0.000000e+00      2s\n"
=======
      "   13313    2.4753214e+10   0.000000e+00   0.000000e+00      4s\n"
>>>>>>> d8a0b4f412ad8fd1285695fc5ab216ac08eef4ee
     ]
    },
    {
     "name": "stderr",
     "output_type": "stream",
     "text": [
<<<<<<< HEAD
      "INFO:gurobipy:   13314    2.3276116e+10   0.000000e+00   0.000000e+00      2s\n"
=======
      "INFO:gurobipy:   13313    2.4753214e+10   0.000000e+00   0.000000e+00      4s\n"
>>>>>>> d8a0b4f412ad8fd1285695fc5ab216ac08eef4ee
     ]
    },
    {
     "name": "stdout",
     "output_type": "stream",
     "text": [
      "\n"
     ]
    },
    {
     "name": "stderr",
     "output_type": "stream",
     "text": [
      "INFO:gurobipy:\n"
     ]
    },
    {
     "name": "stdout",
     "output_type": "stream",
     "text": [
<<<<<<< HEAD
      "Solved in 13314 iterations and 1.56 seconds (1.14 work units)\n"
=======
      "Solved in 13313 iterations and 4.15 seconds (1.29 work units)\n"
>>>>>>> d8a0b4f412ad8fd1285695fc5ab216ac08eef4ee
     ]
    },
    {
     "name": "stderr",
     "output_type": "stream",
     "text": [
<<<<<<< HEAD
      "INFO:gurobipy:Solved in 13314 iterations and 1.56 seconds (1.14 work units)\n"
=======
      "INFO:gurobipy:Solved in 13313 iterations and 4.15 seconds (1.29 work units)\n"
>>>>>>> d8a0b4f412ad8fd1285695fc5ab216ac08eef4ee
     ]
    },
    {
     "name": "stdout",
     "output_type": "stream",
     "text": [
      "Optimal objective  2.475321425e+10\n"
     ]
    },
    {
     "name": "stderr",
     "output_type": "stream",
     "text": [
      "INFO:gurobipy:Optimal objective  2.475321425e+10\n",
      "INFO:linopy.constants: Optimization successful: \n",
      "Status: ok\n",
      "Termination condition: optimal\n",
      "Solution: 52566 primals, 113886 duals\n",
      "Objective: 2.48e+10\n",
      "Solver model: available\n",
      "Solver message: 2\n",
      "\n",
      "/opt/homebrew/Caskroom/miniconda/base/envs/IEG/lib/python3.13/site-packages/pypsa/optimization/optimize.py:355: FutureWarning: A value is trying to be set on a copy of a DataFrame or Series through chained assignment using an inplace method.\n",
      "The behavior will change in pandas 3.0. This inplace method will never work because the intermediate object on which we are setting values always behaves as a copy.\n",
      "\n",
      "For example, when doing 'df[col].method(value, inplace=True)', try using 'df.method({col: value}, inplace=True)' or df[col] = df[col].method(value) instead, to perform the operation inplace on the original object.\n",
      "\n",
      "\n",
      "  n.df(c)[attr + \"_opt\"].update(df)\n",
      "INFO:pypsa.optimization.optimize:The shadow-prices of the constraints Generator-ext-p-lower, Generator-ext-p-upper were not assigned to the network.\n",
      "/opt/homebrew/Caskroom/miniconda/base/envs/IEG/lib/python3.13/site-packages/pypsa/optimization/optimize.py:473: FutureWarning: DataFrame.groupby with axis=1 is deprecated. Do `frame.T.groupby(...)` without axis instead.\n",
      "  .groupby(level=0, axis=1)\n"
     ]
    },
    {
     "data": {
      "text/plain": [
       "('ok', 'optimal')"
      ]
     },
<<<<<<< HEAD
     "execution_count": 5,
=======
     "execution_count": 40,
>>>>>>> d8a0b4f412ad8fd1285695fc5ab216ac08eef4ee
     "metadata": {},
     "output_type": "execute_result"
    }
   ],
   "source": [
    "network.optimize(solver_name='gurobi')"
   ]
  },
  {
   "cell_type": "markdown",
   "metadata": {},
   "source": [
    "__Print out the results__"
   ]
  },
  {
   "cell_type": "code",
<<<<<<< HEAD
   "execution_count": 6,
=======
   "execution_count": 36,
>>>>>>> d8a0b4f412ad8fd1285695fc5ab216ac08eef4ee
   "metadata": {},
   "outputs": [
    {
     "name": "stdout",
     "output_type": "stream",
     "text": [
      "Total cost: 28184.99 mio€\n",
      "Cost per MWh of electricity produced 56 EUR/MWh\n"
     ]
    }
   ],
   "source": [
    "print(f\"Total cost: {round(network.objective/1000000,2)} mio€\")\n",
    "print(f\"Cost per MWh of electricity produced {round(float(network.objective/network.loads_t.p.sum().iloc[0]))} EUR/MWh\")\n"
   ]
  },
  {
   "cell_type": "code",
<<<<<<< HEAD
   "execution_count": 7,
=======
   "execution_count": 51,
>>>>>>> d8a0b4f412ad8fd1285695fc5ab216ac08eef4ee
   "metadata": {},
   "outputs": [
    {
     "data": {
      "text/plain": [
<<<<<<< HEAD
       "<Axes: xlabel='Generator'>"
      ]
     },
     "execution_count": 7,
=======
       "Text(0.5, 1.07, 'Electricity mix')"
      ]
     },
     "execution_count": 51,
>>>>>>> d8a0b4f412ad8fd1285695fc5ab216ac08eef4ee
     "metadata": {},
     "output_type": "execute_result"
    },
    {
     "data": {
<<<<<<< HEAD
      "image/png": "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",
=======
      "image/png": "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",
>>>>>>> d8a0b4f412ad8fd1285695fc5ab216ac08eef4ee
      "text/plain": [
       "<Figure size 640x480 with 1 Axes>"
      ]
     },
     "metadata": {},
     "output_type": "display_data"
    }
   ],
   "source": [
    "labels = ['onshore wind',\n",
    "            'offshore wind',\n",
    "            'large scale solar',\n",
    "            'rooftop solar',\n",
    "            'coal',\n",
    "            'gas (OCGT)']\n",
    "       \n",
    "sizes = [network.generators_t.p['onshorewind'].sum(),\n",
    "            network.generators_t.p['offshorewind'].sum(),\n",
    "         network.generators_t.p['PV'].sum(),\n",
    "            network.generators_t.p['rooftopPV'].sum(),\n",
    "            network.generators_t.p['coal'].sum(),\n",
    "         network.generators_t.p['OCGT'].sum()]\n",
    "\n",
    "colors=['blue', 'darkblue', 'orange', 'yellow', 'brown', 'grey']\n",
    "\n",
    "plt.pie(sizes,\n",
    "        colors=colors,\n",
    "        labels=labels,\n",
    "        wedgeprops={'linewidth':0})\n",
    "plt.axis('equal')\n",
    "\n",
    "plt.title('Electricity mix', y=1.07)"
   ]
  },
  {
   "cell_type": "markdown",
   "metadata": {},
   "source": [
    "__Installed Capacities of each generator__"
   ]
  },
  {
   "cell_type": "code",
   "execution_count": 42,
   "metadata": {},
   "outputs": [
    {
     "data": {
      "text/plain": [
       "Generator\n",
       "onshorewind      8.350420\n",
       "offshorewind     0.000000\n",
       "PV              33.368777\n",
       "rooftopPV        0.000000\n",
       "OCGT            28.614407\n",
       "coal            48.134363\n",
       "Name: p_nom_opt, dtype: float64"
      ]
     },
     "execution_count": 42,
     "metadata": {},
     "output_type": "execute_result"
    }
   ],
   "source": [
    "network.generators.p_nom_opt.div(1e3) # in GW"
   ]
  },
  {
   "cell_type": "code",
   "execution_count": 52,
   "metadata": {},
   "outputs": [
    {
     "data": {
      "image/png": "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",
      "text/plain": [
       "<Figure size 640x480 with 1 Axes>"
      ]
     },
     "metadata": {},
     "output_type": "display_data"
    }
   ],
   "source": [
    "# Duration Curves\n",
    "cf_onshore = network.generators_t.p['onshorewind'].sort_values(ascending=False,ignore_index=True)/1e3\n",
    "cf_offshore = network.generators_t.p['offshorewind'].sort_values(ascending=False,ignore_index=True)/1e3\n",
    "cf_PV = network.generators_t.p['PV'].sort_values(ascending=False,ignore_index=True)/1e3\n",
    "cf_rooftopPV = network.generators_t.p['rooftopPV'].sort_values(ascending=False,ignore_index=True)/1e3\n",
    "cf_OCGT = network.generators_t.p['OCGT'].sort_values(ascending=False,ignore_index=True)/1e3\n",
    "cf_coal = network.generators_t.p['coal'].sort_values(ascending=False,ignore_index=True)/1e3\n",
    "\n",
    "\n",
    "cf_onshore.plot(kind='line', ylabel='CF onshore', color='blue')\n",
    "cf_offshore.plot(kind='line', ylabel='CF offshore', color='darkblue')\n",
    "cf_PV.plot(kind='line', ylabel='CF PV', color='orange')\n",
    "cf_rooftopPV.plot(kind='line', ylabel='CF rooftopPV', color='yellow')\n",
    "cf_OCGT.plot(kind='line', ylabel='CF OCGT', color='grey')\n",
    "cf_coal.plot(kind='line', ylabel='CF coal', color='brown')\n",
    "plt.title('Duration Curves of the different generators')\n",
    "plt.legend(['onshore wind', 'offshore wind', 'large scale solar', 'rooftop solar', 'OCGT', 'coal'])\n",
    "plt.ylabel('Generation [GW]')\n",
    "plt.show()"
   ]
  },
  {
   "cell_type": "code",
   "execution_count": 44,
   "metadata": {},
   "outputs": [
    {
     "data": {
      "image/png": "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",
      "text/plain": [
       "<Figure size 640x480 with 1 Axes>"
      ]
     },
     "metadata": {},
     "output_type": "display_data"
    }
   ],
   "source": [
    "# Plot dispatch for a week in winter\n",
    "start_date_1 = '2015-01-01'\n",
    "end_date_1 = '2015-01-07'\n",
    "week_1 = network.generators_t.p.loc[start_date_1:end_date_1]\n",
    "\n",
    "\n",
    "plt.plot(week_1['onshorewind'], color='blue', label='onshore wind')\n",
    "plt.plot(week_1['offshorewind'], color='green', label='onshore wind')\n",
    "plt.plot(week_1['PV'], color='orange', label='PV')\n",
    "plt.plot(week_1['rooftopPV'], color='yellow', label='rooftopPV')\n",
    "plt.plot(week_1['OCGT'], color='brown', label='gas')\n",
    "plt.plot(week_1['coal'], color='red', label='coal')\n",
    "plt.legend(fancybox=True, shadow=True, loc='best')\n",
    "plt.plot(network.loads_t.p['load'].loc[start_date_1:end_date_1], color='black', label='demand')\n",
    "plt.xlabel('Time')\n",
    "plt.ylabel('Power (MW)')\n",
    "plt.title('Generation and Demand for the First Week of January 2015')\n",
    "\n",
    "# Rotate x-axis labels\n",
    "plt.xticks(rotation=45)\n",
    "plt.show()"
   ]
  },
  {
   "cell_type": "code",
   "execution_count": 45,
   "metadata": {},
   "outputs": [
    {
     "data": {
      "image/png": "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",
      "text/plain": [
       "<Figure size 640x480 with 1 Axes>"
      ]
     },
     "metadata": {},
     "output_type": "display_data"
    }
   ],
   "source": [
    "# Plot dispatch for a week in summer\n",
    "start_date_2 = '2015-06-01'\n",
    "end_date_2 = '2015-06-07'\n",
    "week_2 = network.generators_t.p.loc[start_date_2:end_date_2]\n",
    "\n",
    "\n",
    "plt.plot(week_2['onshorewind'], color='blue', label='onshore wind')\n",
    "plt.plot(week_2['offshorewind'], color='green', label='onshore wind')\n",
    "plt.plot(week_2['PV'], color='orange', label='PV')\n",
    "plt.plot(week_2['rooftopPV'], color='yellow', label='rooftopPV')\n",
    "plt.plot(week_2['OCGT'], color='brown', label='gas')\n",
    "plt.plot(week_2['coal'], color='red', label='coal')\n",
    "plt.legend(fancybox=True, shadow=True, loc='best')\n",
    "plt.plot(network.loads_t.p['load'].loc[start_date_2:end_date_2], color='black', label='demand')\n",
    "plt.xlabel('Time')\n",
    "plt.ylabel('Power (MW)')\n",
    "plt.title('Generation and Demand for the First Week of January 2015')\n",
    "\n",
    "# Rotate x-axis labels\n",
    "plt.xticks(rotation=45)\n",
    "plt.show()"
   ]
  },
  {
   "cell_type": "code",
   "execution_count": 46,
   "metadata": {},
   "outputs": [
    {
     "data": {
      "text/plain": [
       "component  carrier    \n",
       "Generator  coal           18478.567500\n",
       "           gas             4388.622204\n",
       "           onshorewind             NaN\n",
       "           solarPV                 NaN\n",
       "dtype: float64"
      ]
     },
     "execution_count": 46,
     "metadata": {},
     "output_type": "execute_result"
    }
   ],
   "source": [
    "(network.statistics.capex() + network.statistics.opex()).div(1e6)"
   ]
  },
  {
   "cell_type": "markdown",
   "metadata": {},
   "source": [
    "# Section B"
   ]
  },
  {
   "cell_type": "markdown",
   "metadata": {},
   "source": [
    "__2025 CO2 cap in Germany__"
   ]
  },
  {
   "cell_type": "code",
   "execution_count": null,
   "metadata": {},
   "outputs": [],
   "source": [
    "# CO2 emissions in germany (2015): 800.84 million tonnes\n",
    "# Source: https://ourworldindata.org/co2/country/germany"
   ]
  },
  {
   "cell_type": "code",
   "execution_count": 55,
   "metadata": {},
   "outputs": [
    {
     "data": {
      "text/plain": [
       "Index(['CO2Limit'], dtype='object')"
      ]
     },
     "execution_count": 55,
     "metadata": {},
     "output_type": "execute_result"
    }
   ],
   "source": [
    "network.add(\n",
    "    \"GlobalConstraint\",\n",
    "    \"CO2Limit\",\n",
    "    carrier_attribute=\"co2_emissions\",\n",
    "    sense=\"<=\",\n",
    "    constant=596000000, #596MtCO2\n",
    ")"
   ]
  },
  {
   "cell_type": "code",
   "execution_count": 56,
   "metadata": {},
   "outputs": [
    {
     "name": "stderr",
     "output_type": "stream",
     "text": [
      "WARNING:pypsa.consistency:The following buses have carriers which are not defined:\n",
      "Index(['E_busDEU'], dtype='object', name='Bus')\n",
      "INFO:linopy.model: Solve problem using Gurobi solver\n",
      "INFO:linopy.io:Writing objective.\n",
      "Writing constraints.: 100%|\u001b[38;2;128;191;255m██████████\u001b[0m| 6/6 [00:00<00:00,  8.52it/s]\n",
      "Writing continuous variables.: 100%|\u001b[38;2;128;191;255m██████████\u001b[0m| 2/2 [00:00<00:00, 15.14it/s]\n",
      "INFO:linopy.io: Writing time: 0.89s\n"
     ]
    },
    {
     "name": "stdout",
     "output_type": "stream",
     "text": [
      "Set parameter Username\n"
     ]
    },
    {
     "name": "stderr",
     "output_type": "stream",
     "text": [
      "INFO:gurobipy:Set parameter Username\n"
     ]
    },
    {
     "name": "stdout",
     "output_type": "stream",
     "text": [
      "Academic license - for non-commercial use only - expires 2025-09-04\n"
     ]
    },
    {
     "name": "stderr",
     "output_type": "stream",
     "text": [
      "INFO:gurobipy:Academic license - for non-commercial use only - expires 2025-09-04\n"
     ]
    },
    {
     "name": "stdout",
     "output_type": "stream",
     "text": [
      "Read LP format model from file C:\\Users\\alexk\\AppData\\Local\\Temp\\linopy-problem-ozew1wbz.lp\n"
     ]
    },
    {
     "name": "stderr",
     "output_type": "stream",
     "text": [
      "INFO:gurobipy:Read LP format model from file C:\\Users\\alexk\\AppData\\Local\\Temp\\linopy-problem-ozew1wbz.lp\n"
     ]
    },
    {
     "name": "stdout",
     "output_type": "stream",
     "text": [
      "Reading time = 0.27 seconds\n"
     ]
    },
    {
     "name": "stderr",
     "output_type": "stream",
     "text": [
      "INFO:gurobipy:Reading time = 0.27 seconds\n"
     ]
    },
    {
     "name": "stdout",
     "output_type": "stream",
     "text": [
      "obj: 113887 rows, 52566 columns, 219290 nonzeros\n"
     ]
    },
    {
     "name": "stderr",
     "output_type": "stream",
     "text": [
      "INFO:gurobipy:obj: 113887 rows, 52566 columns, 219290 nonzeros\n"
     ]
    },
    {
     "name": "stdout",
     "output_type": "stream",
     "text": [
      "Gurobi Optimizer version 11.0.3 build v11.0.3rc0 (win64 - Windows 11.0 (22631.2))\n"
     ]
    },
    {
     "name": "stderr",
     "output_type": "stream",
     "text": [
      "INFO:gurobipy:Gurobi Optimizer version 11.0.3 build v11.0.3rc0 (win64 - Windows 11.0 (22631.2))\n"
     ]
    },
    {
     "name": "stdout",
     "output_type": "stream",
     "text": [
      "\n"
     ]
    },
    {
     "name": "stderr",
     "output_type": "stream",
     "text": [
      "INFO:gurobipy:\n"
     ]
    },
    {
     "name": "stdout",
     "output_type": "stream",
     "text": [
      "CPU model: AMD Ryzen 5 4600H with Radeon Graphics, instruction set [SSE2|AVX|AVX2]\n"
     ]
    },
    {
     "name": "stderr",
     "output_type": "stream",
     "text": [
      "INFO:gurobipy:CPU model: AMD Ryzen 5 4600H with Radeon Graphics, instruction set [SSE2|AVX|AVX2]\n"
     ]
    },
    {
     "name": "stdout",
     "output_type": "stream",
     "text": [
      "Thread count: 6 physical cores, 12 logical processors, using up to 12 threads\n"
     ]
    },
    {
     "name": "stderr",
     "output_type": "stream",
     "text": [
      "INFO:gurobipy:Thread count: 6 physical cores, 12 logical processors, using up to 12 threads\n"
     ]
    },
    {
     "name": "stdout",
     "output_type": "stream",
     "text": [
      "\n"
     ]
    },
    {
     "name": "stderr",
     "output_type": "stream",
     "text": [
      "INFO:gurobipy:\n"
     ]
    },
    {
     "name": "stdout",
     "output_type": "stream",
     "text": [
      "Optimize a model with 113887 rows, 52566 columns and 219290 nonzeros\n"
     ]
    },
    {
     "name": "stderr",
     "output_type": "stream",
     "text": [
      "INFO:gurobipy:Optimize a model with 113887 rows, 52566 columns and 219290 nonzeros\n"
     ]
    },
    {
     "name": "stdout",
     "output_type": "stream",
     "text": [
      "Model fingerprint: 0xee504da9\n"
     ]
    },
    {
     "name": "stderr",
     "output_type": "stream",
     "text": [
      "INFO:gurobipy:Model fingerprint: 0xee504da9\n"
     ]
    },
    {
     "name": "stdout",
     "output_type": "stream",
     "text": [
      "Coefficient statistics:\n"
     ]
    },
    {
     "name": "stderr",
     "output_type": "stream",
     "text": [
      "INFO:gurobipy:Coefficient statistics:\n"
     ]
    },
    {
     "name": "stdout",
     "output_type": "stream",
     "text": [
      "  Matrix range     [1e-03, 3e+00]\n"
     ]
    },
    {
     "name": "stderr",
     "output_type": "stream",
     "text": [
      "INFO:gurobipy:  Matrix range     [1e-03, 3e+00]\n"
     ]
    },
    {
     "name": "stdout",
     "output_type": "stream",
     "text": [
      "  Objective range  [1e+01, 3e+05]\n"
     ]
    },
    {
     "name": "stderr",
     "output_type": "stream",
     "text": [
      "INFO:gurobipy:  Objective range  [1e+01, 3e+05]\n"
     ]
    },
    {
     "name": "stdout",
     "output_type": "stream",
     "text": [
      "  Bounds range     [0e+00, 0e+00]\n"
     ]
    },
    {
     "name": "stderr",
     "output_type": "stream",
     "text": [
      "INFO:gurobipy:  Bounds range     [0e+00, 0e+00]\n"
     ]
    },
    {
     "name": "stdout",
     "output_type": "stream",
     "text": [
      "  RHS range        [4e+04, 6e+08]\n"
     ]
    },
    {
     "name": "stderr",
     "output_type": "stream",
     "text": [
      "INFO:gurobipy:  RHS range        [4e+04, 6e+08]\n"
     ]
    },
    {
     "name": "stdout",
     "output_type": "stream",
     "text": [
      "Presolve removed 61042 rows and 8476 columns\n"
     ]
    },
    {
     "name": "stderr",
     "output_type": "stream",
     "text": [
      "INFO:gurobipy:Presolve removed 61042 rows and 8476 columns\n"
     ]
    },
    {
     "name": "stdout",
     "output_type": "stream",
     "text": [
      "Presolve time: 0.26s\n"
     ]
    },
    {
     "name": "stderr",
     "output_type": "stream",
     "text": [
      "INFO:gurobipy:Presolve time: 0.26s\n"
     ]
    },
    {
     "name": "stdout",
     "output_type": "stream",
     "text": [
      "Presolved: 52845 rows, 44090 columns, 149772 nonzeros\n"
     ]
    },
    {
     "name": "stderr",
     "output_type": "stream",
     "text": [
      "INFO:gurobipy:Presolved: 52845 rows, 44090 columns, 149772 nonzeros\n"
     ]
    },
    {
     "name": "stdout",
     "output_type": "stream",
     "text": [
      "\n"
     ]
    },
    {
     "name": "stderr",
     "output_type": "stream",
     "text": [
      "INFO:gurobipy:\n"
     ]
    },
    {
     "name": "stdout",
     "output_type": "stream",
     "text": [
      "Concurrent LP optimizer: primal simplex, dual simplex, and barrier\n"
     ]
    },
    {
     "name": "stderr",
     "output_type": "stream",
     "text": [
      "INFO:gurobipy:Concurrent LP optimizer: primal simplex, dual simplex, and barrier\n"
     ]
    },
    {
     "name": "stdout",
     "output_type": "stream",
     "text": [
      "Showing barrier log only...\n"
     ]
    },
    {
     "name": "stderr",
     "output_type": "stream",
     "text": [
      "INFO:gurobipy:Showing barrier log only...\n"
     ]
    },
    {
     "name": "stdout",
     "output_type": "stream",
     "text": [
      "\n"
     ]
    },
    {
     "name": "stderr",
     "output_type": "stream",
     "text": [
      "INFO:gurobipy:\n"
     ]
    },
    {
     "name": "stdout",
     "output_type": "stream",
     "text": [
      "Ordering time: 0.01s\n"
     ]
    },
    {
     "name": "stderr",
     "output_type": "stream",
     "text": [
      "INFO:gurobipy:Ordering time: 0.01s\n"
     ]
    },
    {
     "name": "stdout",
     "output_type": "stream",
     "text": [
      "\n"
     ]
    },
    {
     "name": "stderr",
     "output_type": "stream",
     "text": [
      "INFO:gurobipy:\n"
     ]
    },
    {
     "name": "stdout",
     "output_type": "stream",
     "text": [
      "Barrier statistics:\n"
     ]
    },
    {
     "name": "stderr",
     "output_type": "stream",
     "text": [
      "INFO:gurobipy:Barrier statistics:\n"
     ]
    },
    {
     "name": "stdout",
     "output_type": "stream",
     "text": [
      " Dense cols : 6\n"
     ]
    },
    {
     "name": "stderr",
     "output_type": "stream",
     "text": [
      "INFO:gurobipy: Dense cols : 6\n"
     ]
    },
    {
     "name": "stdout",
     "output_type": "stream",
     "text": [
      " AA' NZ     : 1.144e+05\n"
     ]
    },
    {
     "name": "stderr",
     "output_type": "stream",
     "text": [
      "INFO:gurobipy: AA' NZ     : 1.144e+05\n"
     ]
    },
    {
     "name": "stdout",
     "output_type": "stream",
     "text": [
      " Factor NZ  : 5.178e+05 (roughly 40 MB of memory)\n"
     ]
    },
    {
     "name": "stderr",
     "output_type": "stream",
     "text": [
      "INFO:gurobipy: Factor NZ  : 5.178e+05 (roughly 40 MB of memory)\n"
     ]
    },
    {
     "name": "stdout",
     "output_type": "stream",
     "text": [
      " Factor Ops : 5.355e+06 (less than 1 second per iteration)\n"
     ]
    },
    {
     "name": "stderr",
     "output_type": "stream",
     "text": [
      "INFO:gurobipy: Factor Ops : 5.355e+06 (less than 1 second per iteration)\n"
     ]
    },
    {
     "name": "stdout",
     "output_type": "stream",
     "text": [
      " Threads    : 4\n"
     ]
    },
    {
     "name": "stderr",
     "output_type": "stream",
     "text": [
      "INFO:gurobipy: Threads    : 4\n"
     ]
    },
    {
     "name": "stdout",
     "output_type": "stream",
     "text": [
      "\n"
     ]
    },
    {
     "name": "stderr",
     "output_type": "stream",
     "text": [
      "INFO:gurobipy:\n"
     ]
    },
    {
     "name": "stdout",
     "output_type": "stream",
     "text": [
      "                  Objective                Residual\n"
     ]
    },
    {
     "name": "stderr",
     "output_type": "stream",
     "text": [
      "INFO:gurobipy:                  Objective                Residual\n"
     ]
    },
    {
     "name": "stdout",
     "output_type": "stream",
     "text": [
      "Iter       Primal          Dual         Primal    Dual     Compl     Time\n"
     ]
    },
    {
     "name": "stderr",
     "output_type": "stream",
     "text": [
      "INFO:gurobipy:Iter       Primal          Dual         Primal    Dual     Compl     Time\n"
     ]
    },
    {
     "name": "stdout",
     "output_type": "stream",
     "text": [
      "   0   9.22980513e+12  0.00000000e+00  4.91e+10 0.00e+00  5.67e+09     0s\n"
     ]
    },
    {
     "name": "stderr",
     "output_type": "stream",
     "text": [
      "INFO:gurobipy:   0   9.22980513e+12  0.00000000e+00  4.91e+10 0.00e+00  5.67e+09     0s\n"
     ]
    },
    {
     "name": "stdout",
     "output_type": "stream",
     "text": [
      "   1   1.30151411e+13 -1.43416466e+12  7.68e+09 2.92e+02  1.12e+09     0s\n"
     ]
    },
    {
     "name": "stderr",
     "output_type": "stream",
     "text": [
      "INFO:gurobipy:   1   1.30151411e+13 -1.43416466e+12  7.68e+09 2.92e+02  1.12e+09     0s\n"
     ]
    },
    {
     "name": "stdout",
     "output_type": "stream",
     "text": [
      "   2   8.46335051e+12 -1.69534633e+12  2.70e+08 9.60e-10  9.19e+07     1s\n"
     ]
    },
    {
     "name": "stderr",
     "output_type": "stream",
     "text": [
      "INFO:gurobipy:   2   8.46335051e+12 -1.69534633e+12  2.70e+08 9.60e-10  9.19e+07     1s\n"
     ]
    },
    {
     "name": "stdout",
     "output_type": "stream",
     "text": [
      "   3   1.16169651e+12 -8.12019388e+11  3.07e+07 1.49e-10  1.60e+07     1s\n"
     ]
    },
    {
     "name": "stderr",
     "output_type": "stream",
     "text": [
      "INFO:gurobipy:   3   1.16169651e+12 -8.12019388e+11  3.07e+07 1.49e-10  1.60e+07     1s\n"
     ]
    },
    {
     "name": "stdout",
     "output_type": "stream",
     "text": [
      "   4   4.24205445e+11 -2.46756368e+11  3.54e+03 1.02e-09  5.20e+06     1s\n"
     ]
    },
    {
     "name": "stderr",
     "output_type": "stream",
     "text": [
      "INFO:gurobipy:   4   4.24205445e+11 -2.46756368e+11  3.54e+03 1.02e-09  5.20e+06     1s\n"
     ]
    },
    {
     "name": "stdout",
     "output_type": "stream",
     "text": [
      "   5   1.41441324e+11 -8.50748603e+10  9.34e+02 1.53e-10  1.73e+06     1s\n"
     ]
    },
    {
     "name": "stderr",
     "output_type": "stream",
     "text": [
      "INFO:gurobipy:   5   1.41441324e+11 -8.50748603e+10  9.34e+02 1.53e-10  1.73e+06     1s\n"
     ]
    },
    {
     "name": "stdout",
     "output_type": "stream",
     "text": [
      "   6   7.42587574e+10 -1.63570531e+10  3.86e+02 4.58e-10  6.90e+05     1s\n"
     ]
    },
    {
     "name": "stderr",
     "output_type": "stream",
     "text": [
      "INFO:gurobipy:   6   7.42587574e+10 -1.63570531e+10  3.86e+02 4.58e-10  6.90e+05     1s\n"
     ]
    },
    {
     "name": "stdout",
     "output_type": "stream",
     "text": [
      "   7   4.67794501e+10  6.68322837e+09  1.67e+02 6.78e-10  3.05e+05     1s\n"
     ]
    },
    {
     "name": "stderr",
     "output_type": "stream",
     "text": [
      "INFO:gurobipy:   7   4.67794501e+10  6.68322837e+09  1.67e+02 6.78e-10  3.05e+05     1s\n"
     ]
    },
    {
     "name": "stdout",
     "output_type": "stream",
     "text": [
      "   8   4.53841349e+10  1.24956105e+10  1.57e+02 3.22e-10  2.50e+05     1s\n"
     ]
    },
    {
     "name": "stderr",
     "output_type": "stream",
     "text": [
      "INFO:gurobipy:   8   4.53841349e+10  1.24956105e+10  1.57e+02 3.22e-10  2.50e+05     1s\n"
     ]
    },
    {
     "name": "stdout",
     "output_type": "stream",
     "text": [
      "   9   4.07140179e+10  1.92947125e+10  1.24e+02 9.92e-10  1.63e+05     1s\n"
     ]
    },
    {
     "name": "stderr",
     "output_type": "stream",
     "text": [
      "INFO:gurobipy:   9   4.07140179e+10  1.92947125e+10  1.24e+02 9.92e-10  1.63e+05     1s\n"
     ]
    },
    {
     "name": "stdout",
     "output_type": "stream",
     "text": [
      "  10   3.30891789e+10  2.24529820e+10  5.42e+01 1.30e-09  8.08e+04     1s\n"
     ]
    },
    {
     "name": "stderr",
     "output_type": "stream",
     "text": [
      "INFO:gurobipy:  10   3.30891789e+10  2.24529820e+10  5.42e+01 1.30e-09  8.08e+04     1s\n"
     ]
    },
    {
     "name": "stdout",
     "output_type": "stream",
     "text": [
      "  11   2.96426021e+10  2.40249413e+10  2.69e+01 1.26e-09  4.27e+04     1s\n"
     ]
    },
    {
     "name": "stderr",
     "output_type": "stream",
     "text": [
      "INFO:gurobipy:  11   2.96426021e+10  2.40249413e+10  2.69e+01 1.26e-09  4.27e+04     1s\n"
     ]
    },
    {
     "name": "stdout",
     "output_type": "stream",
     "text": [
      "  12   2.78325950e+10  2.46988568e+10  1.31e+01 8.88e-10  2.38e+04     1s\n"
     ]
    },
    {
     "name": "stderr",
     "output_type": "stream",
     "text": [
      "INFO:gurobipy:  12   2.78325950e+10  2.46988568e+10  1.31e+01 8.88e-10  2.38e+04     1s\n"
     ]
    },
    {
     "name": "stdout",
     "output_type": "stream",
     "text": [
      "  13   2.69632906e+10  2.53230891e+10  6.91e+00 1.01e-09  1.24e+04     1s\n"
     ]
    },
    {
     "name": "stderr",
     "output_type": "stream",
     "text": [
      "INFO:gurobipy:  13   2.69632906e+10  2.53230891e+10  6.91e+00 1.01e-09  1.24e+04     1s\n"
     ]
    },
    {
     "name": "stdout",
     "output_type": "stream",
     "text": [
      "  14   2.65387444e+10  2.56698735e+10  4.10e+00 9.46e-10  6.59e+03     2s\n"
     ]
    },
    {
     "name": "stderr",
     "output_type": "stream",
     "text": [
      "INFO:gurobipy:  14   2.65387444e+10  2.56698735e+10  4.10e+00 9.46e-10  6.59e+03     2s\n"
     ]
    },
    {
     "name": "stdout",
     "output_type": "stream",
     "text": [
      "  15   2.61490930e+10  2.57763451e+10  1.53e+00 6.79e-10  2.83e+03     2s\n"
     ]
    },
    {
     "name": "stderr",
     "output_type": "stream",
     "text": [
      "INFO:gurobipy:  15   2.61490930e+10  2.57763451e+10  1.53e+00 6.79e-10  2.83e+03     2s\n"
     ]
    },
    {
     "name": "stdout",
     "output_type": "stream",
     "text": [
      "  16   2.60167725e+10  2.58500137e+10  7.17e-01 5.45e-10  1.27e+03     2s\n"
     ]
    },
    {
     "name": "stderr",
     "output_type": "stream",
     "text": [
      "INFO:gurobipy:  16   2.60167725e+10  2.58500137e+10  7.17e-01 5.45e-10  1.27e+03     2s\n"
     ]
    },
    {
     "name": "stdout",
     "output_type": "stream",
     "text": [
      "  17   2.59286022e+10  2.58785081e+10  1.82e-01 1.63e-10  3.80e+02     2s\n"
     ]
    },
    {
     "name": "stderr",
     "output_type": "stream",
     "text": [
      "INFO:gurobipy:  17   2.59286022e+10  2.58785081e+10  1.82e-01 1.63e-10  3.80e+02     2s\n"
     ]
    },
    {
     "name": "stdout",
     "output_type": "stream",
     "text": [
      "  18   2.59071689e+10  2.58902453e+10  5.90e-02 4.94e-10  1.28e+02     2s\n"
     ]
    },
    {
     "name": "stderr",
     "output_type": "stream",
     "text": [
      "INFO:gurobipy:  18   2.59071689e+10  2.58902453e+10  5.90e-02 4.94e-10  1.28e+02     2s\n"
     ]
    },
    {
     "name": "stdout",
     "output_type": "stream",
     "text": [
      "  19   2.59012337e+10  2.58937724e+10  2.78e-02 4.89e-10  5.66e+01     2s\n"
     ]
    },
    {
     "name": "stderr",
     "output_type": "stream",
     "text": [
      "INFO:gurobipy:  19   2.59012337e+10  2.58937724e+10  2.78e-02 4.89e-10  5.66e+01     2s\n"
     ]
    },
    {
     "name": "stdout",
     "output_type": "stream",
     "text": [
      "  20   2.58969781e+10  2.58947307e+10  5.57e-03 1.03e-10  1.70e+01     2s\n"
     ]
    },
    {
     "name": "stderr",
     "output_type": "stream",
     "text": [
      "INFO:gurobipy:  20   2.58969781e+10  2.58947307e+10  5.57e-03 1.03e-10  1.70e+01     2s\n"
     ]
    },
    {
     "name": "stdout",
     "output_type": "stream",
     "text": [
      "  21   2.58962156e+10  2.58956758e+10  2.01e-03 3.94e-10  4.09e+00     2s\n"
     ]
    },
    {
     "name": "stderr",
     "output_type": "stream",
     "text": [
      "INFO:gurobipy:  21   2.58962156e+10  2.58956758e+10  2.01e-03 3.94e-10  4.09e+00     2s\n"
     ]
    },
    {
     "name": "stdout",
     "output_type": "stream",
     "text": [
      "  22   2.58957962e+10  2.58957488e+10  5.58e-05 2.23e-09  3.59e-01     2s\n"
     ]
    },
    {
     "name": "stderr",
     "output_type": "stream",
     "text": [
      "INFO:gurobipy:  22   2.58957962e+10  2.58957488e+10  5.58e-05 2.23e-09  3.59e-01     2s\n"
     ]
    },
    {
     "name": "stdout",
     "output_type": "stream",
     "text": [
      "  23   2.58957796e+10  2.58957791e+10  1.51e-06 6.84e-10  3.57e-03     2s\n"
     ]
    },
    {
     "name": "stderr",
     "output_type": "stream",
     "text": [
      "INFO:gurobipy:  23   2.58957796e+10  2.58957791e+10  1.51e-06 6.84e-10  3.57e-03     2s\n"
     ]
    },
    {
     "name": "stdout",
     "output_type": "stream",
     "text": [
      "  24   2.58957792e+10  2.58957792e+10  1.21e-05 1.15e-09  3.79e-06     2s\n"
     ]
    },
    {
     "name": "stderr",
     "output_type": "stream",
     "text": [
      "INFO:gurobipy:  24   2.58957792e+10  2.58957792e+10  1.21e-05 1.15e-09  3.79e-06     2s\n"
     ]
    },
    {
     "name": "stdout",
     "output_type": "stream",
     "text": [
      "  25   2.58957792e+10  2.58957792e+10  1.23e-08 3.43e-09  3.80e-12     2s\n"
     ]
    },
    {
     "name": "stderr",
     "output_type": "stream",
     "text": [
      "INFO:gurobipy:  25   2.58957792e+10  2.58957792e+10  1.23e-08 3.43e-09  3.80e-12     2s\n"
     ]
    },
    {
     "name": "stdout",
     "output_type": "stream",
     "text": [
      "\n"
     ]
    },
    {
     "name": "stderr",
     "output_type": "stream",
     "text": [
      "INFO:gurobipy:\n"
     ]
    },
    {
     "name": "stdout",
     "output_type": "stream",
     "text": [
      "Barrier solved model in 25 iterations and 2.41 seconds (0.53 work units)\n"
     ]
    },
    {
     "name": "stderr",
     "output_type": "stream",
     "text": [
      "INFO:gurobipy:Barrier solved model in 25 iterations and 2.41 seconds (0.53 work units)\n"
     ]
    },
    {
     "name": "stdout",
     "output_type": "stream",
     "text": [
      "Optimal objective 2.58957792e+10\n"
     ]
    },
    {
     "name": "stderr",
     "output_type": "stream",
     "text": [
      "INFO:gurobipy:Optimal objective 2.58957792e+10\n"
     ]
    },
    {
     "name": "stdout",
     "output_type": "stream",
     "text": [
      "\n"
     ]
    },
    {
     "name": "stderr",
     "output_type": "stream",
     "text": [
      "INFO:gurobipy:\n"
     ]
    },
    {
     "name": "stdout",
     "output_type": "stream",
     "text": [
      "Crossover log...\n"
     ]
    },
    {
     "name": "stderr",
     "output_type": "stream",
     "text": [
      "INFO:gurobipy:Crossover log...\n"
     ]
    },
    {
     "name": "stdout",
     "output_type": "stream",
     "text": [
      "\n"
     ]
    },
    {
     "name": "stderr",
     "output_type": "stream",
     "text": [
      "INFO:gurobipy:\n"
     ]
    },
    {
     "name": "stdout",
     "output_type": "stream",
     "text": [
      "   13300 DPushes remaining with DInf 0.0000000e+00                 3s\n"
     ]
    },
    {
     "name": "stderr",
     "output_type": "stream",
     "text": [
      "INFO:gurobipy:   13300 DPushes remaining with DInf 0.0000000e+00                 3s\n"
     ]
    },
    {
     "name": "stdout",
     "output_type": "stream",
     "text": [
      "       0 DPushes remaining with DInf 0.0000000e+00                 3s\n"
     ]
    },
    {
     "name": "stderr",
     "output_type": "stream",
     "text": [
      "INFO:gurobipy:       0 DPushes remaining with DInf 0.0000000e+00                 3s\n"
     ]
    },
    {
     "name": "stdout",
     "output_type": "stream",
     "text": [
      "Warning: Markowitz tolerance tightened to 0.5\n"
     ]
    },
    {
     "name": "stderr",
     "output_type": "stream",
     "text": [
      "INFO:gurobipy:Warning: Markowitz tolerance tightened to 0.5\n"
     ]
    },
    {
     "name": "stdout",
     "output_type": "stream",
     "text": [
      "\n"
     ]
    },
    {
     "name": "stderr",
     "output_type": "stream",
     "text": [
      "INFO:gurobipy:\n"
     ]
    },
    {
     "name": "stdout",
     "output_type": "stream",
     "text": [
      "      94 PPushes remaining with PInf 0.0000000e+00                 3s\n"
     ]
    },
    {
     "name": "stderr",
     "output_type": "stream",
     "text": [
      "INFO:gurobipy:      94 PPushes remaining with PInf 0.0000000e+00                 3s\n"
     ]
    },
    {
     "name": "stdout",
     "output_type": "stream",
     "text": [
      "       0 PPushes remaining with PInf 0.0000000e+00                 3s\n"
     ]
    },
    {
     "name": "stderr",
     "output_type": "stream",
     "text": [
      "INFO:gurobipy:       0 PPushes remaining with PInf 0.0000000e+00                 3s\n"
     ]
    },
    {
     "name": "stdout",
     "output_type": "stream",
     "text": [
      "\n"
     ]
    },
    {
     "name": "stderr",
     "output_type": "stream",
     "text": [
      "INFO:gurobipy:\n"
     ]
    },
    {
     "name": "stdout",
     "output_type": "stream",
     "text": [
      "  Push phase complete: Pinf 0.0000000e+00, Dinf 1.9559437e-09      3s\n"
     ]
    },
    {
     "name": "stderr",
     "output_type": "stream",
     "text": [
      "INFO:gurobipy:  Push phase complete: Pinf 0.0000000e+00, Dinf 1.9559437e-09      3s\n"
     ]
    },
    {
     "name": "stdout",
     "output_type": "stream",
     "text": [
      "\n"
     ]
    },
    {
     "name": "stderr",
     "output_type": "stream",
     "text": [
      "INFO:gurobipy:\n"
     ]
    },
    {
     "name": "stdout",
     "output_type": "stream",
     "text": [
      "\n"
     ]
    },
    {
     "name": "stderr",
     "output_type": "stream",
     "text": [
      "INFO:gurobipy:\n"
     ]
    },
    {
     "name": "stdout",
     "output_type": "stream",
     "text": [
      "Solved with barrier\n"
     ]
    },
    {
     "name": "stderr",
     "output_type": "stream",
     "text": [
      "INFO:gurobipy:Solved with barrier\n"
     ]
    },
    {
     "name": "stdout",
     "output_type": "stream",
     "text": [
      "Extra simplex iterations after uncrush: 3\n"
     ]
    },
    {
     "name": "stderr",
     "output_type": "stream",
     "text": [
      "INFO:gurobipy:Extra simplex iterations after uncrush: 3\n"
     ]
    },
    {
     "name": "stdout",
     "output_type": "stream",
     "text": [
      "Iteration    Objective       Primal Inf.    Dual Inf.      Time\n"
     ]
    },
    {
     "name": "stderr",
     "output_type": "stream",
     "text": [
      "INFO:gurobipy:Iteration    Objective       Primal Inf.    Dual Inf.      Time\n"
     ]
    },
    {
     "name": "stdout",
     "output_type": "stream",
     "text": [
      "   13207    2.5895779e+10   0.000000e+00   0.000000e+00      5s\n"
     ]
    },
    {
     "name": "stderr",
     "output_type": "stream",
     "text": [
      "INFO:gurobipy:   13207    2.5895779e+10   0.000000e+00   0.000000e+00      5s\n"
     ]
    },
    {
     "name": "stdout",
     "output_type": "stream",
     "text": [
      "\n"
     ]
    },
    {
     "name": "stderr",
     "output_type": "stream",
     "text": [
      "INFO:gurobipy:\n"
     ]
    },
    {
     "name": "stdout",
     "output_type": "stream",
     "text": [
      "Solved in 13207 iterations and 4.51 seconds (6.61 work units)\n"
     ]
    },
    {
     "name": "stderr",
     "output_type": "stream",
     "text": [
      "INFO:gurobipy:Solved in 13207 iterations and 4.51 seconds (6.61 work units)\n"
     ]
    },
    {
     "name": "stdout",
     "output_type": "stream",
     "text": [
      "Optimal objective  2.589577920e+10\n"
     ]
    },
    {
     "name": "stderr",
     "output_type": "stream",
     "text": [
      "INFO:gurobipy:Optimal objective  2.589577920e+10\n",
      "INFO:linopy.constants: Optimization successful: \n",
      "Status: ok\n",
      "Termination condition: optimal\n",
      "Solution: 52566 primals, 113887 duals\n",
      "Objective: 2.59e+10\n",
      "Solver model: available\n",
      "Solver message: 2\n",
      "\n",
      "INFO:pypsa.optimization.optimize:The shadow-prices of the constraints Generator-ext-p-lower, Generator-ext-p-upper were not assigned to the network.\n"
     ]
    },
    {
     "data": {
      "text/plain": [
       "('ok', 'optimal')"
      ]
     },
     "execution_count": 56,
     "metadata": {},
     "output_type": "execute_result"
    }
   ],
   "source": [
    "network.optimize(solver_name='gurobi')"
   ]
  },
  {
   "cell_type": "code",
   "execution_count": 57,
   "metadata": {},
   "outputs": [
    {
     "data": {
      "text/plain": [
       "Text(0.5, 1.07, 'Electricity mix')"
      ]
     },
     "execution_count": 57,
     "metadata": {},
     "output_type": "execute_result"
    },
    {
     "data": {
      "image/png": "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",
      "text/plain": [
       "<Figure size 640x480 with 1 Axes>"
      ]
     },
     "metadata": {},
     "output_type": "display_data"
    }
   ],
   "source": [
    "labels = ['onshore wind',\n",
    "            'offshore wind',\n",
    "            'large scale solar',\n",
    "            'rooftop solar',\n",
    "            'coal',\n",
    "            'gas (OCGT)']\n",
    "       \n",
    "sizes = [network.generators_t.p['onshorewind'].sum(),\n",
    "            network.generators_t.p['offshorewind'].sum(),\n",
    "         network.generators_t.p['PV'].sum(),\n",
    "            network.generators_t.p['rooftopPV'].sum(),\n",
    "            network.generators_t.p['coal'].sum(),\n",
    "         network.generators_t.p['OCGT'].sum()]\n",
    "\n",
    "colors=['blue', 'darkblue', 'orange', 'yellow', 'brown', 'grey']\n",
    "\n",
    "plt.pie(sizes,\n",
    "        colors=colors,\n",
    "        labels=labels,\n",
    "        wedgeprops={'linewidth':0})\n",
    "plt.axis('equal')\n",
    "\n",
    "plt.title('Electricity mix', y=1.07)"
   ]
  },
  {
   "cell_type": "markdown",
   "metadata": {},
   "source": [
    "__Sensitivity Analysis__"
   ]
  },
  {
   "cell_type": "code",
   "execution_count": null,
   "metadata": {},
   "outputs": [
    {
     "name": "stderr",
     "output_type": "stream",
     "text": [
      "WARNING:pypsa.consistency:The following buses have carriers which are not defined:\n",
      "Index(['E_busDEU'], dtype='object', name='Bus')\n",
      "INFO:linopy.model: Solve problem using Gurobi solver\n",
      "INFO:linopy.io:Writing objective.\n",
      "Writing constraints.: 100%|\u001b[38;2;128;191;255m██████████\u001b[0m| 6/6 [00:00<00:00,  9.06it/s]\n",
      "Writing continuous variables.: 100%|\u001b[38;2;128;191;255m██████████\u001b[0m| 2/2 [00:00<00:00, 16.07it/s]\n",
      "INFO:linopy.io: Writing time: 0.84s\n"
     ]
    },
    {
     "name": "stdout",
     "output_type": "stream",
     "text": [
      "Set parameter Username\n"
     ]
    },
    {
     "name": "stderr",
     "output_type": "stream",
     "text": [
      "INFO:gurobipy:Set parameter Username\n"
     ]
    },
    {
     "name": "stdout",
     "output_type": "stream",
     "text": [
      "Academic license - for non-commercial use only - expires 2025-09-04\n"
     ]
    },
    {
     "name": "stderr",
     "output_type": "stream",
     "text": [
      "INFO:gurobipy:Academic license - for non-commercial use only - expires 2025-09-04\n"
     ]
    },
    {
     "name": "stdout",
     "output_type": "stream",
     "text": [
      "Read LP format model from file C:\\Users\\alexk\\AppData\\Local\\Temp\\linopy-problem-3xcmwil2.lp\n"
     ]
    },
    {
     "name": "stderr",
     "output_type": "stream",
     "text": [
      "INFO:gurobipy:Read LP format model from file C:\\Users\\alexk\\AppData\\Local\\Temp\\linopy-problem-3xcmwil2.lp\n"
     ]
    },
    {
     "name": "stdout",
     "output_type": "stream",
     "text": [
      "Reading time = 0.31 seconds\n"
     ]
    },
    {
     "name": "stderr",
     "output_type": "stream",
     "text": [
      "INFO:gurobipy:Reading time = 0.31 seconds\n"
     ]
    },
    {
     "name": "stdout",
     "output_type": "stream",
     "text": [
      "obj: 113887 rows, 52566 columns, 219290 nonzeros\n"
     ]
    },
    {
     "name": "stderr",
     "output_type": "stream",
     "text": [
      "INFO:gurobipy:obj: 113887 rows, 52566 columns, 219290 nonzeros\n"
     ]
    },
    {
     "name": "stdout",
     "output_type": "stream",
     "text": [
      "Gurobi Optimizer version 11.0.3 build v11.0.3rc0 (win64 - Windows 11.0 (22631.2))\n"
     ]
    },
    {
     "name": "stderr",
     "output_type": "stream",
     "text": [
      "INFO:gurobipy:Gurobi Optimizer version 11.0.3 build v11.0.3rc0 (win64 - Windows 11.0 (22631.2))\n"
     ]
    },
    {
     "name": "stdout",
     "output_type": "stream",
     "text": [
      "\n"
     ]
    },
    {
     "name": "stderr",
     "output_type": "stream",
     "text": [
      "INFO:gurobipy:\n"
     ]
    },
    {
     "name": "stdout",
     "output_type": "stream",
     "text": [
      "CPU model: AMD Ryzen 5 4600H with Radeon Graphics, instruction set [SSE2|AVX|AVX2]\n"
     ]
    },
    {
     "name": "stderr",
     "output_type": "stream",
     "text": [
      "INFO:gurobipy:CPU model: AMD Ryzen 5 4600H with Radeon Graphics, instruction set [SSE2|AVX|AVX2]\n"
     ]
    },
    {
     "name": "stdout",
     "output_type": "stream",
     "text": [
      "Thread count: 6 physical cores, 12 logical processors, using up to 12 threads\n"
     ]
    },
    {
     "name": "stderr",
     "output_type": "stream",
     "text": [
      "INFO:gurobipy:Thread count: 6 physical cores, 12 logical processors, using up to 12 threads\n"
     ]
    },
    {
     "name": "stdout",
     "output_type": "stream",
     "text": [
      "\n"
     ]
    },
    {
     "name": "stderr",
     "output_type": "stream",
     "text": [
      "INFO:gurobipy:\n"
     ]
    },
    {
     "name": "stdout",
     "output_type": "stream",
     "text": [
      "Optimize a model with 113887 rows, 52566 columns and 219290 nonzeros\n"
     ]
    },
    {
     "name": "stderr",
     "output_type": "stream",
     "text": [
      "INFO:gurobipy:Optimize a model with 113887 rows, 52566 columns and 219290 nonzeros\n"
     ]
    },
    {
     "name": "stdout",
     "output_type": "stream",
     "text": [
      "Model fingerprint: 0x96b95d0b\n"
     ]
    },
    {
     "name": "stderr",
     "output_type": "stream",
     "text": [
      "INFO:gurobipy:Model fingerprint: 0x96b95d0b\n"
     ]
    },
    {
     "name": "stdout",
     "output_type": "stream",
     "text": [
      "Coefficient statistics:\n"
     ]
    },
    {
     "name": "stderr",
     "output_type": "stream",
     "text": [
      "INFO:gurobipy:Coefficient statistics:\n"
     ]
    },
    {
     "name": "stdout",
     "output_type": "stream",
     "text": [
      "  Matrix range     [1e-03, 3e+00]\n"
     ]
    },
    {
     "name": "stderr",
     "output_type": "stream",
     "text": [
      "INFO:gurobipy:  Matrix range     [1e-03, 3e+00]\n"
     ]
    },
    {
     "name": "stdout",
     "output_type": "stream",
     "text": [
      "  Objective range  [1e+01, 3e+05]\n"
     ]
    },
    {
     "name": "stderr",
     "output_type": "stream",
     "text": [
      "INFO:gurobipy:  Objective range  [1e+01, 3e+05]\n"
     ]
    },
    {
     "name": "stdout",
     "output_type": "stream",
     "text": [
      "  Bounds range     [0e+00, 0e+00]\n"
     ]
    },
    {
     "name": "stderr",
     "output_type": "stream",
     "text": [
      "INFO:gurobipy:  Bounds range     [0e+00, 0e+00]\n"
     ]
    },
    {
     "name": "stdout",
     "output_type": "stream",
     "text": [
      "  RHS range        [4e+04, 2e+09]\n"
     ]
    },
    {
     "name": "stderr",
     "output_type": "stream",
     "text": [
      "INFO:gurobipy:  RHS range        [4e+04, 2e+09]\n"
     ]
    },
    {
     "name": "stdout",
     "output_type": "stream",
     "text": [
      "Warning: Model contains large rhs\n"
     ]
    },
    {
     "name": "stderr",
     "output_type": "stream",
     "text": [
      "INFO:gurobipy:Warning: Model contains large rhs\n"
     ]
    },
    {
     "name": "stdout",
     "output_type": "stream",
     "text": [
      "         Consider reformulating model or setting NumericFocus parameter\n"
     ]
    },
    {
     "name": "stderr",
     "output_type": "stream",
     "text": [
      "INFO:gurobipy:         Consider reformulating model or setting NumericFocus parameter\n"
     ]
    },
    {
     "name": "stdout",
     "output_type": "stream",
     "text": [
      "         to avoid numerical issues.\n"
     ]
    },
    {
     "name": "stderr",
     "output_type": "stream",
     "text": [
      "INFO:gurobipy:         to avoid numerical issues.\n"
     ]
    },
    {
     "name": "stdout",
     "output_type": "stream",
     "text": [
      "Presolve removed 61043 rows and 8476 columns\n"
     ]
    },
    {
     "name": "stderr",
     "output_type": "stream",
     "text": [
      "INFO:gurobipy:Presolve removed 61043 rows and 8476 columns\n"
     ]
    },
    {
     "name": "stdout",
     "output_type": "stream",
     "text": [
      "Presolve time: 0.19s\n"
     ]
    },
    {
     "name": "stderr",
     "output_type": "stream",
     "text": [
      "INFO:gurobipy:Presolve time: 0.19s\n"
     ]
    },
    {
     "name": "stdout",
     "output_type": "stream",
     "text": [
      "Presolved: 52844 rows, 44090 columns, 132252 nonzeros\n"
     ]
    },
    {
     "name": "stderr",
     "output_type": "stream",
     "text": [
      "INFO:gurobipy:Presolved: 52844 rows, 44090 columns, 132252 nonzeros\n"
     ]
    },
    {
     "name": "stdout",
     "output_type": "stream",
     "text": [
      "\n"
     ]
    },
    {
     "name": "stderr",
     "output_type": "stream",
     "text": [
      "INFO:gurobipy:\n"
     ]
    },
    {
     "name": "stdout",
     "output_type": "stream",
     "text": [
      "Concurrent LP optimizer: primal simplex, dual simplex, and barrier\n"
     ]
    },
    {
     "name": "stderr",
     "output_type": "stream",
     "text": [
      "INFO:gurobipy:Concurrent LP optimizer: primal simplex, dual simplex, and barrier\n"
     ]
    },
    {
     "name": "stdout",
     "output_type": "stream",
     "text": [
      "Showing barrier log only...\n"
     ]
    },
    {
     "name": "stderr",
     "output_type": "stream",
     "text": [
      "INFO:gurobipy:Showing barrier log only...\n"
     ]
    },
    {
     "name": "stdout",
     "output_type": "stream",
     "text": [
      "\n"
     ]
    },
    {
     "name": "stderr",
     "output_type": "stream",
     "text": [
      "INFO:gurobipy:\n"
     ]
    },
    {
     "name": "stdout",
     "output_type": "stream",
     "text": [
      "Ordering time: 0.02s\n"
     ]
    },
    {
     "name": "stderr",
     "output_type": "stream",
     "text": [
      "INFO:gurobipy:Ordering time: 0.02s\n"
     ]
    },
    {
     "name": "stdout",
     "output_type": "stream",
     "text": [
      "\n"
     ]
    },
    {
     "name": "stderr",
     "output_type": "stream",
     "text": [
      "INFO:gurobipy:\n"
     ]
    },
    {
     "name": "stdout",
     "output_type": "stream",
     "text": [
      "Barrier statistics:\n"
     ]
    },
    {
     "name": "stderr",
     "output_type": "stream",
     "text": [
      "INFO:gurobipy:Barrier statistics:\n"
     ]
    },
    {
     "name": "stdout",
     "output_type": "stream",
     "text": [
      " Dense cols : 6\n"
     ]
    },
    {
     "name": "stderr",
     "output_type": "stream",
     "text": [
      "INFO:gurobipy: Dense cols : 6\n"
     ]
    },
    {
     "name": "stdout",
     "output_type": "stream",
     "text": [
      " AA' NZ     : 8.817e+04\n"
     ]
    },
    {
     "name": "stderr",
     "output_type": "stream",
     "text": [
      "INFO:gurobipy: AA' NZ     : 8.817e+04\n"
     ]
    },
    {
     "name": "stdout",
     "output_type": "stream",
     "text": [
      " Factor NZ  : 4.649e+05 (roughly 40 MB of memory)\n"
     ]
    },
    {
     "name": "stderr",
     "output_type": "stream",
     "text": [
      "INFO:gurobipy: Factor NZ  : 4.649e+05 (roughly 40 MB of memory)\n"
     ]
    },
    {
     "name": "stdout",
     "output_type": "stream",
     "text": [
      " Factor Ops : 4.372e+06 (less than 1 second per iteration)\n"
     ]
    },
    {
     "name": "stderr",
     "output_type": "stream",
     "text": [
      "INFO:gurobipy: Factor Ops : 4.372e+06 (less than 1 second per iteration)\n"
     ]
    },
    {
     "name": "stdout",
     "output_type": "stream",
     "text": [
      " Threads    : 4\n"
     ]
    },
    {
     "name": "stderr",
     "output_type": "stream",
     "text": [
      "INFO:gurobipy: Threads    : 4\n"
     ]
    },
    {
     "name": "stdout",
     "output_type": "stream",
     "text": [
      "\n"
     ]
    },
    {
     "name": "stderr",
     "output_type": "stream",
     "text": [
      "INFO:gurobipy:\n"
     ]
    },
    {
     "name": "stdout",
     "output_type": "stream",
     "text": [
      "                  Objective                Residual\n"
     ]
    },
    {
     "name": "stderr",
     "output_type": "stream",
     "text": [
      "INFO:gurobipy:                  Objective                Residual\n"
     ]
    },
    {
     "name": "stdout",
     "output_type": "stream",
     "text": [
      "Iter       Primal          Dual         Primal    Dual     Compl     Time\n"
     ]
    },
    {
     "name": "stderr",
     "output_type": "stream",
     "text": [
      "INFO:gurobipy:Iter       Primal          Dual         Primal    Dual     Compl     Time\n"
     ]
    },
    {
     "name": "stdout",
     "output_type": "stream",
     "text": [
      "   0   3.05843728e+11  0.00000000e+00  6.09e+05 0.00e+00  1.89e+08     0s\n"
     ]
    },
    {
     "name": "stderr",
     "output_type": "stream",
     "text": [
      "INFO:gurobipy:   0   3.05843728e+11  0.00000000e+00  6.09e+05 0.00e+00  1.89e+08     0s\n"
     ]
    },
    {
     "name": "stdout",
     "output_type": "stream",
     "text": [
      "   1   4.54453500e+11 -5.88184592e+11  9.72e+04 7.10e+02  5.57e+07     0s\n"
     ]
    },
    {
     "name": "stderr",
     "output_type": "stream",
     "text": [
      "INFO:gurobipy:   1   4.54453500e+11 -5.88184592e+11  9.72e+04 7.10e+02  5.57e+07     0s\n"
     ]
    },
    {
     "name": "stdout",
     "output_type": "stream",
     "text": [
      "   2   3.77032119e+11 -3.09172378e+11  1.16e-10 5.78e+00  5.47e+06     1s\n"
     ]
    },
    {
     "name": "stderr",
     "output_type": "stream",
     "text": [
      "INFO:gurobipy:   2   3.77032119e+11 -3.09172378e+11  1.16e-10 5.78e+00  5.47e+06     1s\n"
     ]
    },
    {
     "name": "stdout",
     "output_type": "stream",
     "text": [
      "   3   1.61650436e+11 -2.01317169e+10  1.75e-10 3.22e-01  1.39e+06     1s\n"
     ]
    },
    {
     "name": "stderr",
     "output_type": "stream",
     "text": [
      "INFO:gurobipy:   3   1.61650436e+11 -2.01317169e+10  1.75e-10 3.22e-01  1.39e+06     1s\n"
     ]
    },
    {
     "name": "stdout",
     "output_type": "stream",
     "text": [
      "   4   9.92170059e+10  7.71370830e+09  1.16e-10 1.03e-01  6.96e+05     1s\n"
     ]
    },
    {
     "name": "stderr",
     "output_type": "stream",
     "text": [
      "INFO:gurobipy:   4   9.92170059e+10  7.71370830e+09  1.16e-10 1.03e-01  6.96e+05     1s\n"
     ]
    },
    {
     "name": "stdout",
     "output_type": "stream",
     "text": [
      "   5   6.13372975e+10  1.22646767e+10  1.57e-09 4.12e-02  3.73e+05     1s\n"
     ]
    },
    {
     "name": "stderr",
     "output_type": "stream",
     "text": [
      "INFO:gurobipy:   5   6.13372975e+10  1.22646767e+10  1.57e-09 4.12e-02  3.73e+05     1s\n"
     ]
    },
    {
     "name": "stdout",
     "output_type": "stream",
     "text": [
      "   6   4.89505730e+10  1.61827315e+10  1.75e-09 3.57e-02  2.49e+05     1s\n"
     ]
    },
    {
     "name": "stderr",
     "output_type": "stream",
     "text": [
      "INFO:gurobipy:   6   4.89505730e+10  1.61827315e+10  1.75e-09 3.57e-02  2.49e+05     1s\n"
     ]
    },
    {
     "name": "stdout",
     "output_type": "stream",
     "text": [
      "   7   4.10081204e+10  2.04457327e+10  4.83e-09 8.06e-03  1.56e+05     1s\n"
     ]
    },
    {
     "name": "stderr",
     "output_type": "stream",
     "text": [
      "INFO:gurobipy:   7   4.10081204e+10  2.04457327e+10  4.83e-09 8.06e-03  1.56e+05     1s\n"
     ]
    },
    {
     "name": "stdout",
     "output_type": "stream",
     "text": [
      "   8   4.00328497e+10  2.13247459e+10  7.60e-08 5.72e-03  1.42e+05     1s\n"
     ]
    },
    {
     "name": "stderr",
     "output_type": "stream",
     "text": [
      "INFO:gurobipy:   8   4.00328497e+10  2.13247459e+10  7.60e-08 5.72e-03  1.42e+05     1s\n"
     ]
    },
    {
     "name": "stdout",
     "output_type": "stream",
     "text": [
      "   9   3.35780868e+10  2.23124197e+10  3.95e-07 6.98e-10  8.53e+04     1s\n"
     ]
    },
    {
     "name": "stderr",
     "output_type": "stream",
     "text": [
      "INFO:gurobipy:   9   3.35780868e+10  2.23124197e+10  3.95e-07 6.98e-10  8.53e+04     1s\n"
     ]
    },
    {
     "name": "stdout",
     "output_type": "stream",
     "text": [
      "  10   2.89054547e+10  2.31739019e+10  5.01e-07 6.40e-10  4.34e+04     1s\n"
     ]
    },
    {
     "name": "stderr",
     "output_type": "stream",
     "text": [
      "INFO:gurobipy:  10   2.89054547e+10  2.31739019e+10  5.01e-07 6.40e-10  4.34e+04     1s\n"
     ]
    },
    {
     "name": "stdout",
     "output_type": "stream",
     "text": [
      "  11   2.72997183e+10  2.37155948e+10  4.34e-07 2.04e-09  2.72e+04     1s\n"
     ]
    },
    {
     "name": "stderr",
     "output_type": "stream",
     "text": [
      "INFO:gurobipy:  11   2.72997183e+10  2.37155948e+10  4.34e-07 2.04e-09  2.72e+04     1s\n"
     ]
    },
    {
     "name": "stdout",
     "output_type": "stream",
     "text": [
      "  12   2.64698707e+10  2.38954623e+10  8.56e-07 9.60e-10  1.95e+04     1s\n"
     ]
    },
    {
     "name": "stderr",
     "output_type": "stream",
     "text": [
      "INFO:gurobipy:  12   2.64698707e+10  2.38954623e+10  8.56e-07 9.60e-10  1.95e+04     1s\n"
     ]
    },
    {
     "name": "stdout",
     "output_type": "stream",
     "text": [
      "  13   2.60400183e+10  2.40809592e+10  6.69e-07 3.06e-09  1.48e+04     1s\n"
     ]
    },
    {
     "name": "stderr",
     "output_type": "stream",
     "text": [
      "INFO:gurobipy:  13   2.60400183e+10  2.40809592e+10  6.69e-07 3.06e-09  1.48e+04     1s\n"
     ]
    },
    {
     "name": "stdout",
     "output_type": "stream",
     "text": [
      "  14   2.56185089e+10  2.42866895e+10  1.43e-07 9.20e-10  1.01e+04     1s\n"
     ]
    },
    {
     "name": "stderr",
     "output_type": "stream",
     "text": [
      "INFO:gurobipy:  14   2.56185089e+10  2.42866895e+10  1.43e-07 9.20e-10  1.01e+04     1s\n"
     ]
    },
    {
     "name": "stdout",
     "output_type": "stream",
     "text": [
      "  15   2.53952983e+10  2.43933212e+10  8.11e-07 6.75e-10  7.59e+03     1s\n"
     ]
    },
    {
     "name": "stderr",
     "output_type": "stream",
     "text": [
      "INFO:gurobipy:  15   2.53952983e+10  2.43933212e+10  8.11e-07 6.75e-10  7.59e+03     1s\n"
     ]
    },
    {
     "name": "stdout",
     "output_type": "stream",
     "text": [
      "  16   2.52540136e+10  2.44516138e+10  1.10e-06 4.18e-10  6.08e+03     2s\n"
     ]
    },
    {
     "name": "stderr",
     "output_type": "stream",
     "text": [
      "INFO:gurobipy:  16   2.52540136e+10  2.44516138e+10  1.10e-06 4.18e-10  6.08e+03     2s\n"
     ]
    },
    {
     "name": "stdout",
     "output_type": "stream",
     "text": [
      "  17   2.51732394e+10  2.45291686e+10  1.33e-06 5.49e-10  4.88e+03     2s\n"
     ]
    },
    {
     "name": "stderr",
     "output_type": "stream",
     "text": [
      "INFO:gurobipy:  17   2.51732394e+10  2.45291686e+10  1.33e-06 5.49e-10  4.88e+03     2s\n"
     ]
    },
    {
     "name": "stdout",
     "output_type": "stream",
     "text": [
      "  18   2.51064244e+10  2.45564622e+10  1.16e-06 1.12e-09  4.17e+03     2s\n"
     ]
    },
    {
     "name": "stderr",
     "output_type": "stream",
     "text": [
      "INFO:gurobipy:  18   2.51064244e+10  2.45564622e+10  1.16e-06 1.12e-09  4.17e+03     2s\n"
     ]
    },
    {
     "name": "stdout",
     "output_type": "stream",
     "text": [
      "  19   2.50935885e+10  2.45808055e+10  4.43e-06 5.71e-10  3.88e+03     2s\n"
     ]
    },
    {
     "name": "stderr",
     "output_type": "stream",
     "text": [
      "INFO:gurobipy:  19   2.50935885e+10  2.45808055e+10  4.43e-06 5.71e-10  3.88e+03     2s\n"
     ]
    },
    {
     "name": "stdout",
     "output_type": "stream",
     "text": [
      "  20   2.49427907e+10  2.46488390e+10  1.19e-05 1.45e-10  2.23e+03     2s\n"
     ]
    },
    {
     "name": "stderr",
     "output_type": "stream",
     "text": [
      "INFO:gurobipy:  20   2.49427907e+10  2.46488390e+10  1.19e-05 1.45e-10  2.23e+03     2s\n"
     ]
    },
    {
     "name": "stdout",
     "output_type": "stream",
     "text": [
      "  21   2.48977521e+10  2.46683784e+10  9.10e-06 0.00e+00  1.74e+03     2s\n"
     ]
    },
    {
     "name": "stderr",
     "output_type": "stream",
     "text": [
      "INFO:gurobipy:  21   2.48977521e+10  2.46683784e+10  9.10e-06 0.00e+00  1.74e+03     2s\n"
     ]
    },
    {
     "name": "stdout",
     "output_type": "stream",
     "text": [
      "  22   2.48666247e+10  2.46767991e+10  7.22e-06 7.09e-10  1.44e+03     2s\n"
     ]
    },
    {
     "name": "stderr",
     "output_type": "stream",
     "text": [
      "INFO:gurobipy:  22   2.48666247e+10  2.46767991e+10  7.22e-06 7.09e-10  1.44e+03     2s\n"
     ]
    },
    {
     "name": "stdout",
     "output_type": "stream",
     "text": [
      "  23   2.48384775e+10  2.46958304e+10  5.70e-06 2.97e-10  1.08e+03     2s\n"
     ]
    },
    {
     "name": "stderr",
     "output_type": "stream",
     "text": [
      "INFO:gurobipy:  23   2.48384775e+10  2.46958304e+10  5.70e-06 2.97e-10  1.08e+03     2s\n"
     ]
    },
    {
     "name": "stdout",
     "output_type": "stream",
     "text": [
      "  24   2.48144917e+10  2.47080908e+10  4.44e-06 5.32e-10  8.07e+02     2s\n"
     ]
    },
    {
     "name": "stderr",
     "output_type": "stream",
     "text": [
      "INFO:gurobipy:  24   2.48144917e+10  2.47080908e+10  4.44e-06 5.32e-10  8.07e+02     2s\n"
     ]
    },
    {
     "name": "stdout",
     "output_type": "stream",
     "text": [
      "  25   2.48012289e+10  2.47128089e+10  3.38e-06 9.57e-10  6.70e+02     2s\n"
     ]
    },
    {
     "name": "stderr",
     "output_type": "stream",
     "text": [
      "INFO:gurobipy:  25   2.48012289e+10  2.47128089e+10  3.38e-06 9.57e-10  6.70e+02     2s\n"
     ]
    },
    {
     "name": "stdout",
     "output_type": "stream",
     "text": [
      "  26   2.47899205e+10  2.47231212e+10  2.54e-06 2.36e-10  5.06e+02     2s\n"
     ]
    },
    {
     "name": "stderr",
     "output_type": "stream",
     "text": [
      "INFO:gurobipy:  26   2.47899205e+10  2.47231212e+10  2.54e-06 2.36e-10  5.06e+02     2s\n"
     ]
    },
    {
     "name": "stdout",
     "output_type": "stream",
     "text": [
      "  27   2.47834090e+10  2.47255193e+10  2.07e-06 2.83e-10  4.39e+02     2s\n"
     ]
    },
    {
     "name": "stderr",
     "output_type": "stream",
     "text": [
      "INFO:gurobipy:  27   2.47834090e+10  2.47255193e+10  2.07e-06 2.83e-10  4.39e+02     2s\n"
     ]
    },
    {
     "name": "stdout",
     "output_type": "stream",
     "text": [
      "  28   2.47794580e+10  2.47303344e+10  1.83e-06 3.04e-10  3.72e+02     2s\n"
     ]
    },
    {
     "name": "stderr",
     "output_type": "stream",
     "text": [
      "INFO:gurobipy:  28   2.47794580e+10  2.47303344e+10  1.83e-06 3.04e-10  3.72e+02     2s\n"
     ]
    },
    {
     "name": "stdout",
     "output_type": "stream",
     "text": [
      "  29   2.47728541e+10  2.47340788e+10  1.01e-06 1.24e-10  2.94e+02     3s\n"
     ]
    },
    {
     "name": "stderr",
     "output_type": "stream",
     "text": [
      "INFO:gurobipy:  29   2.47728541e+10  2.47340788e+10  1.01e-06 1.24e-10  2.94e+02     3s\n"
     ]
    },
    {
     "name": "stdout",
     "output_type": "stream",
     "text": [
      "  30   2.47704220e+10  2.47368063e+10  7.38e-07 2.72e-10  2.55e+02     3s\n"
     ]
    },
    {
     "name": "stderr",
     "output_type": "stream",
     "text": [
      "INFO:gurobipy:  30   2.47704220e+10  2.47368063e+10  7.38e-07 2.72e-10  2.55e+02     3s\n"
     ]
    },
    {
     "name": "stdout",
     "output_type": "stream",
     "text": [
      "  31   2.47683317e+10  2.47382112e+10  6.46e-07 1.88e-09  2.28e+02     3s\n"
     ]
    },
    {
     "name": "stderr",
     "output_type": "stream",
     "text": [
      "INFO:gurobipy:  31   2.47683317e+10  2.47382112e+10  6.46e-07 1.88e-09  2.28e+02     3s\n"
     ]
    },
    {
     "name": "stdout",
     "output_type": "stream",
     "text": [
      "  32   2.47655178e+10  2.47392601e+10  3.51e-07 3.06e-10  1.99e+02     3s\n"
     ]
    },
    {
     "name": "stderr",
     "output_type": "stream",
     "text": [
      "INFO:gurobipy:  32   2.47655178e+10  2.47392601e+10  3.51e-07 3.06e-10  1.99e+02     3s\n"
     ]
    },
    {
     "name": "stdout",
     "output_type": "stream",
     "text": [
      "  33   2.47643228e+10  2.47401078e+10  3.46e-07 4.50e-10  1.84e+02     3s\n"
     ]
    },
    {
     "name": "stderr",
     "output_type": "stream",
     "text": [
      "INFO:gurobipy:  33   2.47643228e+10  2.47401078e+10  3.46e-07 4.50e-10  1.84e+02     3s\n"
     ]
    },
    {
     "name": "stdout",
     "output_type": "stream",
     "text": [
      "  34   2.47614016e+10  2.47424700e+10  3.16e-07 6.45e-10  1.44e+02     3s\n"
     ]
    },
    {
     "name": "stderr",
     "output_type": "stream",
     "text": [
      "INFO:gurobipy:  34   2.47614016e+10  2.47424700e+10  3.16e-07 6.45e-10  1.44e+02     3s\n"
     ]
    },
    {
     "name": "stdout",
     "output_type": "stream",
     "text": [
      "  35   2.47583260e+10  2.47444368e+10  2.16e-07 1.33e-09  1.05e+02     3s\n"
     ]
    },
    {
     "name": "stderr",
     "output_type": "stream",
     "text": [
      "INFO:gurobipy:  35   2.47583260e+10  2.47444368e+10  2.16e-07 1.33e-09  1.05e+02     3s\n"
     ]
    },
    {
     "name": "stdout",
     "output_type": "stream",
     "text": [
      "  36   2.47574978e+10  2.47456956e+10  3.38e-07 1.33e-09  8.96e+01     3s\n"
     ]
    },
    {
     "name": "stderr",
     "output_type": "stream",
     "text": [
      "INFO:gurobipy:  36   2.47574978e+10  2.47456956e+10  3.38e-07 1.33e-09  8.96e+01     3s\n"
     ]
    },
    {
     "name": "stdout",
     "output_type": "stream",
     "text": [
      "  37   2.47567517e+10  2.47463673e+10  3.71e-07 4.79e-10  7.88e+01     3s\n"
     ]
    },
    {
     "name": "stderr",
     "output_type": "stream",
     "text": [
      "INFO:gurobipy:  37   2.47567517e+10  2.47463673e+10  3.71e-07 4.79e-10  7.88e+01     3s\n"
     ]
    },
    {
     "name": "stdout",
     "output_type": "stream",
     "text": [
      "  38   2.47563056e+10  2.47470895e+10  3.80e-07 7.08e-10  7.00e+01     3s\n"
     ]
    },
    {
     "name": "stderr",
     "output_type": "stream",
     "text": [
      "INFO:gurobipy:  38   2.47563056e+10  2.47470895e+10  3.80e-07 7.08e-10  7.00e+01     3s\n"
     ]
    },
    {
     "name": "stdout",
     "output_type": "stream",
     "text": [
      "  39   2.47560667e+10  2.47474032e+10  9.15e-07 5.19e-10  6.58e+01     3s\n"
     ]
    },
    {
     "name": "stderr",
     "output_type": "stream",
     "text": [
      "INFO:gurobipy:  39   2.47560667e+10  2.47474032e+10  9.15e-07 5.19e-10  6.58e+01     3s\n"
     ]
    },
    {
     "name": "stdout",
     "output_type": "stream",
     "text": [
      "  40   2.47559625e+10  2.47480424e+10  7.60e-07 1.71e-09  6.01e+01     3s\n"
     ]
    },
    {
     "name": "stderr",
     "output_type": "stream",
     "text": [
      "INFO:gurobipy:  40   2.47559625e+10  2.47480424e+10  7.60e-07 1.71e-09  6.01e+01     3s\n"
     ]
    },
    {
     "name": "stdout",
     "output_type": "stream",
     "text": [
      "  41   2.47556703e+10  2.47482817e+10  5.95e-07 4.73e-10  5.61e+01     3s\n"
     ]
    },
    {
     "name": "stderr",
     "output_type": "stream",
     "text": [
      "INFO:gurobipy:  41   2.47556703e+10  2.47482817e+10  5.95e-07 4.73e-10  5.61e+01     3s\n"
     ]
    },
    {
     "name": "stdout",
     "output_type": "stream",
     "text": [
      "  42   2.47554665e+10  2.47484699e+10  1.32e-06 5.89e-10  5.31e+01     3s\n"
     ]
    },
    {
     "name": "stderr",
     "output_type": "stream",
     "text": [
      "INFO:gurobipy:  42   2.47554665e+10  2.47484699e+10  1.32e-06 5.89e-10  5.31e+01     3s\n"
     ]
    },
    {
     "name": "stdout",
     "output_type": "stream",
     "text": [
      "  43   2.47554134e+10  2.47487554e+10  1.35e-06 1.13e-09  5.05e+01     4s\n"
     ]
    },
    {
     "name": "stderr",
     "output_type": "stream",
     "text": [
      "INFO:gurobipy:  43   2.47554134e+10  2.47487554e+10  1.35e-06 1.13e-09  5.05e+01     4s\n"
     ]
    },
    {
     "name": "stdout",
     "output_type": "stream",
     "text": [
      "  44   2.47551917e+10  2.47493666e+10  1.30e-06 1.53e-10  4.42e+01     4s\n"
     ]
    },
    {
     "name": "stderr",
     "output_type": "stream",
     "text": [
      "INFO:gurobipy:  44   2.47551917e+10  2.47493666e+10  1.30e-06 1.53e-10  4.42e+01     4s\n"
     ]
    },
    {
     "name": "stdout",
     "output_type": "stream",
     "text": [
      "  45   2.47548858e+10  2.47499671e+10  1.12e-06 5.64e-10  3.73e+01     4s\n"
     ]
    },
    {
     "name": "stderr",
     "output_type": "stream",
     "text": [
      "INFO:gurobipy:  45   2.47548858e+10  2.47499671e+10  1.12e-06 5.64e-10  3.73e+01     4s\n"
     ]
    },
    {
     "name": "stdout",
     "output_type": "stream",
     "text": [
      "  46   2.47546393e+10  2.47506772e+10  1.06e-06 3.02e-10  3.01e+01     4s\n"
     ]
    },
    {
     "name": "stderr",
     "output_type": "stream",
     "text": [
      "INFO:gurobipy:  46   2.47546393e+10  2.47506772e+10  1.06e-06 3.02e-10  3.01e+01     4s\n"
     ]
    },
    {
     "name": "stdout",
     "output_type": "stream",
     "text": [
      "  47   2.47539437e+10  2.47511437e+10  3.71e-07 5.51e-10  2.13e+01     4s\n"
     ]
    },
    {
     "name": "stderr",
     "output_type": "stream",
     "text": [
      "INFO:gurobipy:  47   2.47539437e+10  2.47511437e+10  3.71e-07 5.51e-10  2.13e+01     4s\n"
     ]
    },
    {
     "name": "stdout",
     "output_type": "stream",
     "text": [
      "  48   2.47535590e+10  2.47512684e+10  1.79e-06 5.97e-10  1.74e+01     4s\n"
     ]
    },
    {
     "name": "stderr",
     "output_type": "stream",
     "text": [
      "INFO:gurobipy:  48   2.47535590e+10  2.47512684e+10  1.79e-06 5.97e-10  1.74e+01     4s\n"
     ]
    },
    {
     "name": "stdout",
     "output_type": "stream",
     "text": [
      "  49   2.47534515e+10  2.47516005e+10  1.23e-06 8.66e-10  1.41e+01     4s\n"
     ]
    },
    {
     "name": "stderr",
     "output_type": "stream",
     "text": [
      "INFO:gurobipy:  49   2.47534515e+10  2.47516005e+10  1.23e-06 8.66e-10  1.41e+01     4s\n"
     ]
    },
    {
     "name": "stdout",
     "output_type": "stream",
     "text": [
      "  50   2.47533633e+10  2.47520112e+10  7.13e-07 1.26e-10  1.03e+01     4s\n"
     ]
    },
    {
     "name": "stderr",
     "output_type": "stream",
     "text": [
      "INFO:gurobipy:  50   2.47533633e+10  2.47520112e+10  7.13e-07 1.26e-10  1.03e+01     4s\n"
     ]
    },
    {
     "name": "stdout",
     "output_type": "stream",
     "text": [
      "  51   2.47532721e+10  2.47522129e+10  3.39e-06 3.97e-10  8.06e+00     4s\n"
     ]
    },
    {
     "name": "stderr",
     "output_type": "stream",
     "text": [
      "INFO:gurobipy:  51   2.47532721e+10  2.47522129e+10  3.39e-06 3.97e-10  8.06e+00     4s\n"
     ]
    },
    {
     "name": "stdout",
     "output_type": "stream",
     "text": [
      "  52   2.47532577e+10  2.47526042e+10  3.16e-06 3.17e-09  4.97e+00     4s\n"
     ]
    },
    {
     "name": "stderr",
     "output_type": "stream",
     "text": [
      "INFO:gurobipy:  52   2.47532577e+10  2.47526042e+10  3.16e-06 3.17e-09  4.97e+00     4s\n"
     ]
    },
    {
     "name": "stdout",
     "output_type": "stream",
     "text": [
      "  53   2.47532505e+10  2.47526402e+10  4.17e-06 2.79e-09  4.64e+00     4s\n"
     ]
    },
    {
     "name": "stderr",
     "output_type": "stream",
     "text": [
      "INFO:gurobipy:  53   2.47532505e+10  2.47526402e+10  4.17e-06 2.79e-09  4.64e+00     4s\n"
     ]
    },
    {
     "name": "stdout",
     "output_type": "stream",
     "text": [
      "  54   2.47532314e+10  2.47528656e+10  7.12e-06 1.78e-09  2.78e+00     4s\n"
     ]
    },
    {
     "name": "stderr",
     "output_type": "stream",
     "text": [
      "INFO:gurobipy:  54   2.47532314e+10  2.47528656e+10  7.12e-06 1.78e-09  2.78e+00     4s\n"
     ]
    },
    {
     "name": "stdout",
     "output_type": "stream",
     "text": [
      "  55   2.47532185e+10  2.47529678e+10  6.12e-06 7.77e-10  1.91e+00     4s\n"
     ]
    },
    {
     "name": "stderr",
     "output_type": "stream",
     "text": [
      "INFO:gurobipy:  55   2.47532185e+10  2.47529678e+10  6.12e-06 7.77e-10  1.91e+00     4s\n"
     ]
    },
    {
     "name": "stdout",
     "output_type": "stream",
     "text": [
      "  56   2.47532176e+10  2.47530777e+10  5.22e-06 1.14e-09  1.06e+00     4s\n"
     ]
    },
    {
     "name": "stderr",
     "output_type": "stream",
     "text": [
      "INFO:gurobipy:  56   2.47532176e+10  2.47530777e+10  5.22e-06 1.14e-09  1.06e+00     4s\n"
     ]
    },
    {
     "name": "stdout",
     "output_type": "stream",
     "text": [
      "  57   2.47532167e+10  2.47530842e+10  4.44e-06 1.89e-09  1.01e+00     4s\n"
     ]
    },
    {
     "name": "stderr",
     "output_type": "stream",
     "text": [
      "INFO:gurobipy:  57   2.47532167e+10  2.47530842e+10  4.44e-06 1.89e-09  1.01e+00     4s\n"
     ]
    },
    {
     "name": "stdout",
     "output_type": "stream",
     "text": [
      "  58   2.47532157e+10  2.47530918e+10  3.73e-06 1.32e-09  9.43e-01     4s\n"
     ]
    },
    {
     "name": "stderr",
     "output_type": "stream",
     "text": [
      "INFO:gurobipy:  58   2.47532157e+10  2.47530918e+10  3.73e-06 1.32e-09  9.43e-01     4s\n"
     ]
    },
    {
     "name": "stdout",
     "output_type": "stream",
     "text": [
      "  59   2.47532156e+10  2.47530964e+10  3.59e-06 8.99e-10  9.07e-01     5s\n"
     ]
    },
    {
     "name": "stderr",
     "output_type": "stream",
     "text": [
      "INFO:gurobipy:  59   2.47532156e+10  2.47530964e+10  3.59e-06 8.99e-10  9.07e-01     5s\n"
     ]
    },
    {
     "name": "stdout",
     "output_type": "stream",
     "text": [
      "  60   2.47532153e+10  2.47531028e+10  2.97e-06 1.36e-09  8.56e-01     5s\n"
     ]
    },
    {
     "name": "stderr",
     "output_type": "stream",
     "text": [
      "INFO:gurobipy:  60   2.47532153e+10  2.47531028e+10  2.97e-06 1.36e-09  8.56e-01     5s\n"
     ]
    },
    {
     "name": "stdout",
     "output_type": "stream",
     "text": [
      "  61   2.47532153e+10  2.47531193e+10  2.90e-06 7.45e-10  7.31e-01     5s\n"
     ]
    },
    {
     "name": "stderr",
     "output_type": "stream",
     "text": [
      "INFO:gurobipy:  61   2.47532153e+10  2.47531193e+10  2.90e-06 7.45e-10  7.31e-01     5s\n"
     ]
    },
    {
     "name": "stdout",
     "output_type": "stream",
     "text": [
      "  62   2.47532147e+10  2.47532027e+10  1.72e-06 0.00e+00  9.17e-02     5s\n"
     ]
    },
    {
     "name": "stderr",
     "output_type": "stream",
     "text": [
      "INFO:gurobipy:  62   2.47532147e+10  2.47532027e+10  1.72e-06 0.00e+00  9.17e-02     5s\n"
     ]
    },
    {
     "name": "stdout",
     "output_type": "stream",
     "text": [
      "  63   2.47532145e+10  2.47532076e+10  9.77e-07 4.41e-10  5.30e-02     5s\n"
     ]
    },
    {
     "name": "stderr",
     "output_type": "stream",
     "text": [
      "INFO:gurobipy:  63   2.47532145e+10  2.47532076e+10  9.77e-07 4.41e-10  5.30e-02     5s\n"
     ]
    },
    {
     "name": "stdout",
     "output_type": "stream",
     "text": [
      "  64   2.47532143e+10  2.47532125e+10  5.82e-11 5.46e-10  1.36e-02     5s\n"
     ]
    },
    {
     "name": "stderr",
     "output_type": "stream",
     "text": [
      "INFO:gurobipy:  64   2.47532143e+10  2.47532125e+10  5.82e-11 5.46e-10  1.36e-02     5s\n"
     ]
    },
    {
     "name": "stdout",
     "output_type": "stream",
     "text": [
      "  65   2.47532143e+10  2.47532143e+10  7.87e-08 4.49e-10  2.34e-05     5s\n"
     ]
    },
    {
     "name": "stderr",
     "output_type": "stream",
     "text": [
      "INFO:gurobipy:  65   2.47532143e+10  2.47532143e+10  7.87e-08 4.49e-10  2.34e-05     5s\n"
     ]
    },
    {
     "name": "stdout",
     "output_type": "stream",
     "text": [
      "  66   2.47532143e+10  2.47532143e+10  1.16e-10 5.82e-10  2.35e-11     5s\n"
     ]
    },
    {
     "name": "stderr",
     "output_type": "stream",
     "text": [
      "INFO:gurobipy:  66   2.47532143e+10  2.47532143e+10  1.16e-10 5.82e-10  2.35e-11     5s\n"
     ]
    },
    {
     "name": "stdout",
     "output_type": "stream",
     "text": [
      "\n"
     ]
    },
    {
     "name": "stderr",
     "output_type": "stream",
     "text": [
      "INFO:gurobipy:\n"
     ]
    },
    {
     "name": "stdout",
     "output_type": "stream",
     "text": [
      "Barrier solved model in 66 iterations and 4.95 seconds (1.25 work units)\n"
     ]
    },
    {
     "name": "stderr",
     "output_type": "stream",
     "text": [
      "INFO:gurobipy:Barrier solved model in 66 iterations and 4.95 seconds (1.25 work units)\n"
     ]
    },
    {
     "name": "stdout",
     "output_type": "stream",
     "text": [
      "Optimal objective 2.47532143e+10\n"
     ]
    },
    {
     "name": "stderr",
     "output_type": "stream",
     "text": [
      "INFO:gurobipy:Optimal objective 2.47532143e+10\n"
     ]
    },
    {
     "name": "stdout",
     "output_type": "stream",
     "text": [
      "\n"
     ]
    },
    {
     "name": "stderr",
     "output_type": "stream",
     "text": [
      "INFO:gurobipy:\n"
     ]
    },
    {
     "name": "stdout",
     "output_type": "stream",
     "text": [
      "Crossover log...\n"
     ]
    },
    {
     "name": "stderr",
     "output_type": "stream",
     "text": [
      "INFO:gurobipy:Crossover log...\n"
     ]
    },
    {
     "name": "stdout",
     "output_type": "stream",
     "text": [
      "\n"
     ]
    },
    {
     "name": "stderr",
     "output_type": "stream",
     "text": [
      "INFO:gurobipy:\n"
     ]
    },
    {
     "name": "stdout",
     "output_type": "stream",
     "text": [
      "   13309 DPushes remaining with DInf 0.0000000e+00                 5s\n"
     ]
    },
    {
     "name": "stderr",
     "output_type": "stream",
     "text": [
      "INFO:gurobipy:   13309 DPushes remaining with DInf 0.0000000e+00                 5s\n"
     ]
    },
    {
     "name": "stdout",
     "output_type": "stream",
     "text": [
      "       0 DPushes remaining with DInf 0.0000000e+00                 5s\n"
     ]
    },
    {
     "name": "stderr",
     "output_type": "stream",
     "text": [
      "INFO:gurobipy:       0 DPushes remaining with DInf 0.0000000e+00                 5s\n"
     ]
    },
    {
     "name": "stdout",
     "output_type": "stream",
     "text": [
      "\n"
     ]
    },
    {
     "name": "stderr",
     "output_type": "stream",
     "text": [
      "INFO:gurobipy:\n"
     ]
    },
    {
     "name": "stdout",
     "output_type": "stream",
     "text": [
      "       1 PPushes remaining with PInf 0.0000000e+00                 5s\n"
     ]
    },
    {
     "name": "stderr",
     "output_type": "stream",
     "text": [
      "INFO:gurobipy:       1 PPushes remaining with PInf 0.0000000e+00                 5s\n"
     ]
    },
    {
     "name": "stdout",
     "output_type": "stream",
     "text": [
      "       0 PPushes remaining with PInf 0.0000000e+00                 5s\n"
     ]
    },
    {
     "name": "stderr",
     "output_type": "stream",
     "text": [
      "INFO:gurobipy:       0 PPushes remaining with PInf 0.0000000e+00                 5s\n"
     ]
    },
    {
     "name": "stdout",
     "output_type": "stream",
     "text": [
      "\n"
     ]
    },
    {
     "name": "stderr",
     "output_type": "stream",
     "text": [
      "INFO:gurobipy:\n"
     ]
    },
    {
     "name": "stdout",
     "output_type": "stream",
     "text": [
      "  Push phase complete: Pinf 0.0000000e+00, Dinf 4.6725757e-10      5s\n"
     ]
    },
    {
     "name": "stderr",
     "output_type": "stream",
     "text": [
      "INFO:gurobipy:  Push phase complete: Pinf 0.0000000e+00, Dinf 4.6725757e-10      5s\n"
     ]
    },
    {
     "name": "stdout",
     "output_type": "stream",
     "text": [
      "\n"
     ]
    },
    {
     "name": "stderr",
     "output_type": "stream",
     "text": [
      "INFO:gurobipy:\n"
     ]
    },
    {
     "name": "stdout",
     "output_type": "stream",
     "text": [
      "\n"
     ]
    },
    {
     "name": "stderr",
     "output_type": "stream",
     "text": [
      "INFO:gurobipy:\n"
     ]
    },
    {
     "name": "stdout",
     "output_type": "stream",
     "text": [
      "Solved with barrier\n"
     ]
    },
    {
     "name": "stderr",
     "output_type": "stream",
     "text": [
      "INFO:gurobipy:Solved with barrier\n"
     ]
    },
    {
     "name": "stdout",
     "output_type": "stream",
     "text": [
      "Iteration    Objective       Primal Inf.    Dual Inf.      Time\n"
     ]
    },
    {
     "name": "stderr",
     "output_type": "stream",
     "text": [
      "INFO:gurobipy:Iteration    Objective       Primal Inf.    Dual Inf.      Time\n"
     ]
    },
    {
     "name": "stdout",
     "output_type": "stream",
     "text": [
      "   13313    2.4753214e+10   0.000000e+00   0.000000e+00      5s\n"
     ]
    },
    {
     "name": "stderr",
     "output_type": "stream",
     "text": [
      "INFO:gurobipy:   13313    2.4753214e+10   0.000000e+00   0.000000e+00      5s\n"
     ]
    },
    {
     "name": "stdout",
     "output_type": "stream",
     "text": [
      "\n"
     ]
    },
    {
     "name": "stderr",
     "output_type": "stream",
     "text": [
      "INFO:gurobipy:\n"
     ]
    },
    {
     "name": "stdout",
     "output_type": "stream",
     "text": [
      "Solved in 13313 iterations and 5.33 seconds (1.33 work units)\n"
     ]
    },
    {
     "name": "stderr",
     "output_type": "stream",
     "text": [
      "INFO:gurobipy:Solved in 13313 iterations and 5.33 seconds (1.33 work units)\n"
     ]
    },
    {
     "name": "stdout",
     "output_type": "stream",
     "text": [
      "Optimal objective  2.475321425e+10\n"
     ]
    },
    {
     "name": "stderr",
     "output_type": "stream",
     "text": [
      "INFO:gurobipy:Optimal objective  2.475321425e+10\n",
      "INFO:linopy.constants: Optimization successful: \n",
      "Status: ok\n",
      "Termination condition: optimal\n",
      "Solution: 52566 primals, 113887 duals\n",
      "Objective: 2.48e+10\n",
      "Solver model: available\n",
      "Solver message: 2\n",
      "\n",
      "INFO:pypsa.optimization.optimize:The shadow-prices of the constraints Generator-ext-p-lower, Generator-ext-p-upper were not assigned to the network.\n",
      "WARNING:pypsa.consistency:The following buses have carriers which are not defined:\n",
      "Index(['E_busDEU'], dtype='object', name='Bus')\n",
      "INFO:linopy.model: Solve problem using Gurobi solver\n",
      "INFO:linopy.io:Writing objective.\n",
      "Writing constraints.: 100%|\u001b[38;2;128;191;255m██████████\u001b[0m| 6/6 [00:00<00:00,  8.80it/s]\n",
      "Writing continuous variables.: 100%|\u001b[38;2;128;191;255m██████████\u001b[0m| 2/2 [00:00<00:00, 16.01it/s]\n",
      "INFO:linopy.io: Writing time: 0.85s\n"
     ]
    },
    {
     "name": "stdout",
     "output_type": "stream",
     "text": [
      "Set parameter Username\n"
     ]
    },
    {
     "name": "stderr",
     "output_type": "stream",
     "text": [
      "INFO:gurobipy:Set parameter Username\n"
     ]
    },
    {
     "name": "stdout",
     "output_type": "stream",
     "text": [
      "Academic license - for non-commercial use only - expires 2025-09-04\n"
     ]
    },
    {
     "name": "stderr",
     "output_type": "stream",
     "text": [
      "INFO:gurobipy:Academic license - for non-commercial use only - expires 2025-09-04\n"
     ]
    },
    {
     "name": "stdout",
     "output_type": "stream",
     "text": [
      "Read LP format model from file C:\\Users\\alexk\\AppData\\Local\\Temp\\linopy-problem-_5cc47wo.lp\n"
     ]
    },
    {
     "name": "stderr",
     "output_type": "stream",
     "text": [
      "INFO:gurobipy:Read LP format model from file C:\\Users\\alexk\\AppData\\Local\\Temp\\linopy-problem-_5cc47wo.lp\n"
     ]
    },
    {
     "name": "stdout",
     "output_type": "stream",
     "text": [
      "Reading time = 0.26 seconds\n"
     ]
    },
    {
     "name": "stderr",
     "output_type": "stream",
     "text": [
      "INFO:gurobipy:Reading time = 0.26 seconds\n"
     ]
    },
    {
     "name": "stdout",
     "output_type": "stream",
     "text": [
      "obj: 113887 rows, 52566 columns, 219290 nonzeros\n"
     ]
    },
    {
     "name": "stderr",
     "output_type": "stream",
     "text": [
      "INFO:gurobipy:obj: 113887 rows, 52566 columns, 219290 nonzeros\n"
     ]
    },
    {
     "name": "stdout",
     "output_type": "stream",
     "text": [
      "Gurobi Optimizer version 11.0.3 build v11.0.3rc0 (win64 - Windows 11.0 (22631.2))\n"
     ]
    },
    {
     "name": "stderr",
     "output_type": "stream",
     "text": [
      "INFO:gurobipy:Gurobi Optimizer version 11.0.3 build v11.0.3rc0 (win64 - Windows 11.0 (22631.2))\n"
     ]
    },
    {
     "name": "stdout",
     "output_type": "stream",
     "text": [
      "\n"
     ]
    },
    {
     "name": "stderr",
     "output_type": "stream",
     "text": [
      "INFO:gurobipy:\n"
     ]
    },
    {
     "name": "stdout",
     "output_type": "stream",
     "text": [
      "CPU model: AMD Ryzen 5 4600H with Radeon Graphics, instruction set [SSE2|AVX|AVX2]\n"
     ]
    },
    {
     "name": "stderr",
     "output_type": "stream",
     "text": [
      "INFO:gurobipy:CPU model: AMD Ryzen 5 4600H with Radeon Graphics, instruction set [SSE2|AVX|AVX2]\n"
     ]
    },
    {
     "name": "stdout",
     "output_type": "stream",
     "text": [
      "Thread count: 6 physical cores, 12 logical processors, using up to 12 threads\n"
     ]
    },
    {
     "name": "stderr",
     "output_type": "stream",
     "text": [
      "INFO:gurobipy:Thread count: 6 physical cores, 12 logical processors, using up to 12 threads\n"
     ]
    },
    {
     "name": "stdout",
     "output_type": "stream",
     "text": [
      "\n"
     ]
    },
    {
     "name": "stderr",
     "output_type": "stream",
     "text": [
      "INFO:gurobipy:\n"
     ]
    },
    {
     "name": "stdout",
     "output_type": "stream",
     "text": [
      "Optimize a model with 113887 rows, 52566 columns and 219290 nonzeros\n"
     ]
    },
    {
     "name": "stderr",
     "output_type": "stream",
     "text": [
      "INFO:gurobipy:Optimize a model with 113887 rows, 52566 columns and 219290 nonzeros\n"
     ]
    },
    {
     "name": "stdout",
     "output_type": "stream",
     "text": [
      "Model fingerprint: 0x0ee7df54\n"
     ]
    },
    {
     "name": "stderr",
     "output_type": "stream",
     "text": [
      "INFO:gurobipy:Model fingerprint: 0x0ee7df54\n"
     ]
    },
    {
     "name": "stdout",
     "output_type": "stream",
     "text": [
      "Coefficient statistics:\n"
     ]
    },
    {
     "name": "stderr",
     "output_type": "stream",
     "text": [
      "INFO:gurobipy:Coefficient statistics:\n"
     ]
    },
    {
     "name": "stdout",
     "output_type": "stream",
     "text": [
      "  Matrix range     [1e-03, 3e+00]\n"
     ]
    },
    {
     "name": "stderr",
     "output_type": "stream",
     "text": [
      "INFO:gurobipy:  Matrix range     [1e-03, 3e+00]\n"
     ]
    },
    {
     "name": "stdout",
     "output_type": "stream",
     "text": [
      "  Objective range  [1e+01, 3e+05]\n"
     ]
    },
    {
     "name": "stderr",
     "output_type": "stream",
     "text": [
      "INFO:gurobipy:  Objective range  [1e+01, 3e+05]\n"
     ]
    },
    {
     "name": "stdout",
     "output_type": "stream",
     "text": [
      "  Bounds range     [0e+00, 0e+00]\n"
     ]
    },
    {
     "name": "stderr",
     "output_type": "stream",
     "text": [
      "INFO:gurobipy:  Bounds range     [0e+00, 0e+00]\n"
     ]
    },
    {
     "name": "stdout",
     "output_type": "stream",
     "text": [
      "  RHS range        [4e+04, 2e+09]\n"
     ]
    },
    {
     "name": "stderr",
     "output_type": "stream",
     "text": [
      "INFO:gurobipy:  RHS range        [4e+04, 2e+09]\n"
     ]
    },
    {
     "name": "stdout",
     "output_type": "stream",
     "text": [
      "Warning: Model contains large rhs\n"
     ]
    },
    {
     "name": "stderr",
     "output_type": "stream",
     "text": [
      "INFO:gurobipy:Warning: Model contains large rhs\n"
     ]
    },
    {
     "name": "stdout",
     "output_type": "stream",
     "text": [
      "         Consider reformulating model or setting NumericFocus parameter\n"
     ]
    },
    {
     "name": "stderr",
     "output_type": "stream",
     "text": [
      "INFO:gurobipy:         Consider reformulating model or setting NumericFocus parameter\n"
     ]
    },
    {
     "name": "stdout",
     "output_type": "stream",
     "text": [
      "         to avoid numerical issues.\n"
     ]
    },
    {
     "name": "stderr",
     "output_type": "stream",
     "text": [
      "INFO:gurobipy:         to avoid numerical issues.\n"
     ]
    },
    {
     "name": "stdout",
     "output_type": "stream",
     "text": [
      "Presolve removed 61042 rows and 8476 columns\n"
     ]
    },
    {
     "name": "stderr",
     "output_type": "stream",
     "text": [
      "INFO:gurobipy:Presolve removed 61042 rows and 8476 columns\n"
     ]
    },
    {
     "name": "stdout",
     "output_type": "stream",
     "text": [
      "Presolve time: 0.13s\n"
     ]
    },
    {
     "name": "stderr",
     "output_type": "stream",
     "text": [
      "INFO:gurobipy:Presolve time: 0.13s\n"
     ]
    },
    {
     "name": "stdout",
     "output_type": "stream",
     "text": [
      "Presolved: 52845 rows, 44090 columns, 149772 nonzeros\n"
     ]
    },
    {
     "name": "stderr",
     "output_type": "stream",
     "text": [
      "INFO:gurobipy:Presolved: 52845 rows, 44090 columns, 149772 nonzeros\n"
     ]
    },
    {
     "name": "stdout",
     "output_type": "stream",
     "text": [
      "\n"
     ]
    },
    {
     "name": "stderr",
     "output_type": "stream",
     "text": [
      "INFO:gurobipy:\n"
     ]
    },
    {
     "name": "stdout",
     "output_type": "stream",
     "text": [
      "Concurrent LP optimizer: primal simplex, dual simplex, and barrier\n"
     ]
    },
    {
     "name": "stderr",
     "output_type": "stream",
     "text": [
      "INFO:gurobipy:Concurrent LP optimizer: primal simplex, dual simplex, and barrier\n"
     ]
    },
    {
     "name": "stdout",
     "output_type": "stream",
     "text": [
      "Showing barrier log only...\n"
     ]
    },
    {
     "name": "stderr",
     "output_type": "stream",
     "text": [
      "INFO:gurobipy:Showing barrier log only...\n"
     ]
    },
    {
     "name": "stdout",
     "output_type": "stream",
     "text": [
      "\n"
     ]
    },
    {
     "name": "stderr",
     "output_type": "stream",
     "text": [
      "INFO:gurobipy:\n"
     ]
    },
    {
     "name": "stdout",
     "output_type": "stream",
     "text": [
      "Ordering time: 0.02s\n"
     ]
    },
    {
     "name": "stderr",
     "output_type": "stream",
     "text": [
      "INFO:gurobipy:Ordering time: 0.02s\n"
     ]
    },
    {
     "name": "stdout",
     "output_type": "stream",
     "text": [
      "\n"
     ]
    },
    {
     "name": "stderr",
     "output_type": "stream",
     "text": [
      "INFO:gurobipy:\n"
     ]
    },
    {
     "name": "stdout",
     "output_type": "stream",
     "text": [
      "Barrier statistics:\n"
     ]
    },
    {
     "name": "stderr",
     "output_type": "stream",
     "text": [
      "INFO:gurobipy:Barrier statistics:\n"
     ]
    },
    {
     "name": "stdout",
     "output_type": "stream",
     "text": [
      " Dense cols : 6\n"
     ]
    },
    {
     "name": "stderr",
     "output_type": "stream",
     "text": [
      "INFO:gurobipy: Dense cols : 6\n"
     ]
    },
    {
     "name": "stdout",
     "output_type": "stream",
     "text": [
      " AA' NZ     : 1.144e+05\n"
     ]
    },
    {
     "name": "stderr",
     "output_type": "stream",
     "text": [
      "INFO:gurobipy: AA' NZ     : 1.144e+05\n"
     ]
    },
    {
     "name": "stdout",
     "output_type": "stream",
     "text": [
      " Factor NZ  : 5.178e+05 (roughly 40 MB of memory)\n"
     ]
    },
    {
     "name": "stderr",
     "output_type": "stream",
     "text": [
      "INFO:gurobipy: Factor NZ  : 5.178e+05 (roughly 40 MB of memory)\n"
     ]
    },
    {
     "name": "stdout",
     "output_type": "stream",
     "text": [
      " Factor Ops : 5.355e+06 (less than 1 second per iteration)\n"
     ]
    },
    {
     "name": "stderr",
     "output_type": "stream",
     "text": [
      "INFO:gurobipy: Factor Ops : 5.355e+06 (less than 1 second per iteration)\n"
     ]
    },
    {
     "name": "stdout",
     "output_type": "stream",
     "text": [
      " Threads    : 4\n"
     ]
    },
    {
     "name": "stderr",
     "output_type": "stream",
     "text": [
      "INFO:gurobipy: Threads    : 4\n"
     ]
    },
    {
     "name": "stdout",
     "output_type": "stream",
     "text": [
      "\n"
     ]
    },
    {
     "name": "stderr",
     "output_type": "stream",
     "text": [
      "INFO:gurobipy:\n"
     ]
    },
    {
     "name": "stdout",
     "output_type": "stream",
     "text": [
      "                  Objective                Residual\n"
     ]
    },
    {
     "name": "stderr",
     "output_type": "stream",
     "text": [
      "INFO:gurobipy:                  Objective                Residual\n"
     ]
    },
    {
     "name": "stdout",
     "output_type": "stream",
     "text": [
      "Iter       Primal          Dual         Primal    Dual     Compl     Time\n"
     ]
    },
    {
     "name": "stderr",
     "output_type": "stream",
     "text": [
      "INFO:gurobipy:Iter       Primal          Dual         Primal    Dual     Compl     Time\n"
     ]
    },
    {
     "name": "stdout",
     "output_type": "stream",
     "text": [
      "   0   2.31893456e+13  0.00000000e+00  1.24e+11 0.00e+00  1.35e+10     0s\n"
     ]
    },
    {
     "name": "stderr",
     "output_type": "stream",
     "text": [
      "INFO:gurobipy:   0   2.31893456e+13  0.00000000e+00  1.24e+11 0.00e+00  1.35e+10     0s\n"
     ]
    },
    {
     "name": "stdout",
     "output_type": "stream",
     "text": [
      "   1   3.24162238e+13 -1.94195084e+12  1.96e+10 2.76e+02  2.67e+09     0s\n"
     ]
    },
    {
     "name": "stderr",
     "output_type": "stream",
     "text": [
      "INFO:gurobipy:   1   3.24162238e+13 -1.94195084e+12  1.96e+10 2.76e+02  2.67e+09     0s\n"
     ]
    },
    {
     "name": "stdout",
     "output_type": "stream",
     "text": [
      "   2   2.06813565e+13 -2.06451170e+12  1.01e+09 9.02e-10  2.28e+08     0s\n"
     ]
    },
    {
     "name": "stderr",
     "output_type": "stream",
     "text": [
      "INFO:gurobipy:   2   2.06813565e+13 -2.06451170e+12  1.01e+09 9.02e-10  2.28e+08     0s\n"
     ]
    },
    {
     "name": "stdout",
     "output_type": "stream",
     "text": [
      "   3   4.46546317e+12 -1.39915006e+12  1.78e+08 6.00e-10  5.56e+07     0s\n"
     ]
    },
    {
     "name": "stderr",
     "output_type": "stream",
     "text": [
      "INFO:gurobipy:   3   4.46546317e+12 -1.39915006e+12  1.78e+08 6.00e-10  5.56e+07     0s\n"
     ]
    },
    {
     "name": "stdout",
     "output_type": "stream",
     "text": [
      "   4   9.65979510e+11 -7.06743766e+11  1.45e+04 3.71e-10  1.34e+07     1s\n"
     ]
    },
    {
     "name": "stderr",
     "output_type": "stream",
     "text": [
      "INFO:gurobipy:   4   9.65979510e+11 -7.06743766e+11  1.45e+04 3.71e-10  1.34e+07     1s\n"
     ]
    },
    {
     "name": "stdout",
     "output_type": "stream",
     "text": [
      "   5   3.35196583e+11 -2.46578335e+11  4.44e+03 3.64e-10  4.52e+06     1s\n"
     ]
    },
    {
     "name": "stderr",
     "output_type": "stream",
     "text": [
      "INFO:gurobipy:   5   3.35196583e+11 -2.46578335e+11  4.44e+03 3.64e-10  4.52e+06     1s\n"
     ]
    },
    {
     "name": "stdout",
     "output_type": "stream",
     "text": [
      "   6   1.26987085e+11 -5.64302947e+10  1.37e+03 1.38e-09  1.41e+06     1s\n"
     ]
    },
    {
     "name": "stderr",
     "output_type": "stream",
     "text": [
      "INFO:gurobipy:   6   1.26987085e+11 -5.64302947e+10  1.37e+03 1.38e-09  1.41e+06     1s\n"
     ]
    },
    {
     "name": "stdout",
     "output_type": "stream",
     "text": [
      "   7   5.63766087e+10 -1.65187341e+10  4.02e+02 1.12e-09  5.56e+05     1s\n"
     ]
    },
    {
     "name": "stderr",
     "output_type": "stream",
     "text": [
      "INFO:gurobipy:   7   5.63766087e+10 -1.65187341e+10  4.02e+02 1.12e-09  5.56e+05     1s\n"
     ]
    },
    {
     "name": "stdout",
     "output_type": "stream",
     "text": [
      "   8   4.40372306e+10 -4.88300361e+08  2.46e+02 8.55e-10  3.39e+05     1s\n"
     ]
    },
    {
     "name": "stderr",
     "output_type": "stream",
     "text": [
      "INFO:gurobipy:   8   4.40372306e+10 -4.88300361e+08  2.46e+02 8.55e-10  3.39e+05     1s\n"
     ]
    },
    {
     "name": "stdout",
     "output_type": "stream",
     "text": [
      "   9   4.02978678e+10  1.25875706e+10  2.02e+02 1.73e-09  2.11e+05     1s\n"
     ]
    },
    {
     "name": "stderr",
     "output_type": "stream",
     "text": [
      "INFO:gurobipy:   9   4.02978678e+10  1.25875706e+10  2.02e+02 1.73e-09  2.11e+05     1s\n"
     ]
    },
    {
     "name": "stdout",
     "output_type": "stream",
     "text": [
      "  10   3.69035505e+10  1.89107912e+10  1.60e+02 4.33e-10  1.37e+05     1s\n"
     ]
    },
    {
     "name": "stderr",
     "output_type": "stream",
     "text": [
      "INFO:gurobipy:  10   3.69035505e+10  1.89107912e+10  1.60e+02 4.33e-10  1.37e+05     1s\n"
     ]
    },
    {
     "name": "stdout",
     "output_type": "stream",
     "text": [
      "  11   3.07134357e+10  2.09145535e+10  7.46e+01 2.51e-10  7.47e+04     1s\n"
     ]
    },
    {
     "name": "stderr",
     "output_type": "stream",
     "text": [
      "INFO:gurobipy:  11   3.07134357e+10  2.09145535e+10  7.46e+01 2.51e-10  7.47e+04     1s\n"
     ]
    },
    {
     "name": "stdout",
     "output_type": "stream",
     "text": [
      "  12   2.86567662e+10  2.16359276e+10  4.90e+01 3.42e-10  5.34e+04     1s\n"
     ]
    },
    {
     "name": "stderr",
     "output_type": "stream",
     "text": [
      "INFO:gurobipy:  12   2.86567662e+10  2.16359276e+10  4.90e+01 3.42e-10  5.34e+04     1s\n"
     ]
    },
    {
     "name": "stdout",
     "output_type": "stream",
     "text": [
      "  13   2.75763760e+10  2.22052140e+10  3.44e+01 6.08e-10  4.09e+04     1s\n"
     ]
    },
    {
     "name": "stderr",
     "output_type": "stream",
     "text": [
      "INFO:gurobipy:  13   2.75763760e+10  2.22052140e+10  3.44e+01 6.08e-10  4.09e+04     1s\n"
     ]
    },
    {
     "name": "stdout",
     "output_type": "stream",
     "text": [
      "  14   2.66882142e+10  2.30431483e+10  2.34e+01 3.15e-10  2.77e+04     1s\n"
     ]
    },
    {
     "name": "stderr",
     "output_type": "stream",
     "text": [
      "INFO:gurobipy:  14   2.66882142e+10  2.30431483e+10  2.34e+01 3.15e-10  2.77e+04     1s\n"
     ]
    },
    {
     "name": "stdout",
     "output_type": "stream",
     "text": [
      "  15   2.61771915e+10  2.32535026e+10  1.71e+01 2.98e-10  2.22e+04     1s\n"
     ]
    },
    {
     "name": "stderr",
     "output_type": "stream",
     "text": [
      "INFO:gurobipy:  15   2.61771915e+10  2.32535026e+10  1.71e+01 2.98e-10  2.22e+04     1s\n"
     ]
    },
    {
     "name": "stdout",
     "output_type": "stream",
     "text": [
      "  16   2.58117353e+10  2.34892587e+10  1.26e+01 8.91e-10  1.76e+04     1s\n"
     ]
    },
    {
     "name": "stderr",
     "output_type": "stream",
     "text": [
      "INFO:gurobipy:  16   2.58117353e+10  2.34892587e+10  1.26e+01 8.91e-10  1.76e+04     1s\n"
     ]
    },
    {
     "name": "stdout",
     "output_type": "stream",
     "text": [
      "  17   2.55830653e+10  2.38189215e+10  9.81e+00 4.83e-10  1.34e+04     1s\n"
     ]
    },
    {
     "name": "stderr",
     "output_type": "stream",
     "text": [
      "INFO:gurobipy:  17   2.55830653e+10  2.38189215e+10  9.81e+00 4.83e-10  1.34e+04     1s\n"
     ]
    },
    {
     "name": "stdout",
     "output_type": "stream",
     "text": [
      "  18   2.53955897e+10  2.39152070e+10  7.56e+00 5.37e-10  1.12e+04     1s\n"
     ]
    },
    {
     "name": "stderr",
     "output_type": "stream",
     "text": [
      "INFO:gurobipy:  18   2.53955897e+10  2.39152070e+10  7.56e+00 5.37e-10  1.12e+04     1s\n"
     ]
    },
    {
     "name": "stdout",
     "output_type": "stream",
     "text": [
      "  19   2.53001930e+10  2.40048765e+10  6.40e+00 3.25e-10  9.83e+03     1s\n"
     ]
    },
    {
     "name": "stderr",
     "output_type": "stream",
     "text": [
      "INFO:gurobipy:  19   2.53001930e+10  2.40048765e+10  6.40e+00 3.25e-10  9.83e+03     1s\n"
     ]
    },
    {
     "name": "stdout",
     "output_type": "stream",
     "text": [
      "  20   2.51620200e+10  2.42326430e+10  4.75e+00 1.64e-10  7.06e+03     1s\n"
     ]
    },
    {
     "name": "stderr",
     "output_type": "stream",
     "text": [
      "INFO:gurobipy:  20   2.51620200e+10  2.42326430e+10  4.75e+00 1.64e-10  7.06e+03     1s\n"
     ]
    },
    {
     "name": "stdout",
     "output_type": "stream",
     "text": [
      "  21   2.51108339e+10  2.43547484e+10  4.15e+00 1.42e-09  5.74e+03     1s\n"
     ]
    },
    {
     "name": "stderr",
     "output_type": "stream",
     "text": [
      "INFO:gurobipy:  21   2.51108339e+10  2.43547484e+10  4.15e+00 1.42e-09  5.74e+03     1s\n"
     ]
    },
    {
     "name": "stdout",
     "output_type": "stream",
     "text": [
      "  22   2.50273269e+10  2.45025713e+10  3.06e+00 6.84e-10  3.99e+03     1s\n"
     ]
    },
    {
     "name": "stderr",
     "output_type": "stream",
     "text": [
      "INFO:gurobipy:  22   2.50273269e+10  2.45025713e+10  3.06e+00 6.84e-10  3.99e+03     1s\n"
     ]
    },
    {
     "name": "stdout",
     "output_type": "stream",
     "text": [
      "  23   2.49666343e+10  2.45263449e+10  2.36e+00 1.19e-10  3.34e+03     1s\n"
     ]
    },
    {
     "name": "stderr",
     "output_type": "stream",
     "text": [
      "INFO:gurobipy:  23   2.49666343e+10  2.45263449e+10  2.36e+00 1.19e-10  3.34e+03     1s\n"
     ]
    },
    {
     "name": "stdout",
     "output_type": "stream",
     "text": [
      "  24   2.49325029e+10  2.45593842e+10  1.97e+00 9.39e-10  2.83e+03     1s\n"
     ]
    },
    {
     "name": "stderr",
     "output_type": "stream",
     "text": [
      "INFO:gurobipy:  24   2.49325029e+10  2.45593842e+10  1.97e+00 9.39e-10  2.83e+03     1s\n"
     ]
    },
    {
     "name": "stdout",
     "output_type": "stream",
     "text": [
      "  25   2.48970248e+10  2.45782567e+10  1.56e+00 4.95e-10  2.42e+03     1s\n"
     ]
    },
    {
     "name": "stderr",
     "output_type": "stream",
     "text": [
      "INFO:gurobipy:  25   2.48970248e+10  2.45782567e+10  1.56e+00 4.95e-10  2.42e+03     1s\n"
     ]
    },
    {
     "name": "stdout",
     "output_type": "stream",
     "text": [
      "  26   2.48611018e+10  2.46201411e+10  1.16e+00 8.77e-10  1.83e+03     1s\n"
     ]
    },
    {
     "name": "stderr",
     "output_type": "stream",
     "text": [
      "INFO:gurobipy:  26   2.48611018e+10  2.46201411e+10  1.16e+00 8.77e-10  1.83e+03     1s\n"
     ]
    },
    {
     "name": "stdout",
     "output_type": "stream",
     "text": [
      "  27   2.48456073e+10  2.46303192e+10  9.89e-01 4.24e-11  1.63e+03     2s\n"
     ]
    },
    {
     "name": "stderr",
     "output_type": "stream",
     "text": [
      "INFO:gurobipy:  27   2.48456073e+10  2.46303192e+10  9.89e-01 4.24e-11  1.63e+03     2s\n"
     ]
    },
    {
     "name": "stdout",
     "output_type": "stream",
     "text": [
      "  28   2.48330316e+10  2.46424911e+10  8.49e-01 7.49e-10  1.45e+03     2s\n"
     ]
    },
    {
     "name": "stderr",
     "output_type": "stream",
     "text": [
      "INFO:gurobipy:  28   2.48330316e+10  2.46424911e+10  8.49e-01 7.49e-10  1.45e+03     2s\n"
     ]
    },
    {
     "name": "stdout",
     "output_type": "stream",
     "text": [
      "  29   2.48169224e+10  2.46637612e+10  6.72e-01 2.07e-12  1.16e+03     2s\n"
     ]
    },
    {
     "name": "stderr",
     "output_type": "stream",
     "text": [
      "INFO:gurobipy:  29   2.48169224e+10  2.46637612e+10  6.72e-01 2.07e-12  1.16e+03     2s\n"
     ]
    },
    {
     "name": "stdout",
     "output_type": "stream",
     "text": [
      "  30   2.48057231e+10  2.46782305e+10  5.47e-01 2.77e-10  9.67e+02     2s\n"
     ]
    },
    {
     "name": "stderr",
     "output_type": "stream",
     "text": [
      "INFO:gurobipy:  30   2.48057231e+10  2.46782305e+10  5.47e-01 2.77e-10  9.67e+02     2s\n"
     ]
    },
    {
     "name": "stdout",
     "output_type": "stream",
     "text": [
      "  31   2.47934060e+10  2.46946981e+10  4.11e-01 1.68e-09  7.49e+02     2s\n"
     ]
    },
    {
     "name": "stderr",
     "output_type": "stream",
     "text": [
      "INFO:gurobipy:  31   2.47934060e+10  2.46946981e+10  4.11e-01 1.68e-09  7.49e+02     2s\n"
     ]
    },
    {
     "name": "stdout",
     "output_type": "stream",
     "text": [
      "  32   2.47891584e+10  2.47066844e+10  3.66e-01 4.65e-10  6.26e+02     2s\n"
     ]
    },
    {
     "name": "stderr",
     "output_type": "stream",
     "text": [
      "INFO:gurobipy:  32   2.47891584e+10  2.47066844e+10  3.66e-01 4.65e-10  6.26e+02     2s\n"
     ]
    },
    {
     "name": "stdout",
     "output_type": "stream",
     "text": [
      "  33   2.47801995e+10  2.47101355e+10  2.69e-01 8.48e-10  5.31e+02     2s\n"
     ]
    },
    {
     "name": "stderr",
     "output_type": "stream",
     "text": [
      "INFO:gurobipy:  33   2.47801995e+10  2.47101355e+10  2.69e-01 8.48e-10  5.31e+02     2s\n"
     ]
    },
    {
     "name": "stdout",
     "output_type": "stream",
     "text": [
      "  34   2.47773135e+10  2.47169630e+10  2.41e-01 2.18e-10  4.58e+02     2s\n"
     ]
    },
    {
     "name": "stderr",
     "output_type": "stream",
     "text": [
      "INFO:gurobipy:  34   2.47773135e+10  2.47169630e+10  2.41e-01 2.18e-10  4.58e+02     2s\n"
     ]
    },
    {
     "name": "stdout",
     "output_type": "stream",
     "text": [
      "  35   2.47750672e+10  2.47190048e+10  2.17e-01 2.63e-10  4.25e+02     2s\n"
     ]
    },
    {
     "name": "stderr",
     "output_type": "stream",
     "text": [
      "INFO:gurobipy:  35   2.47750672e+10  2.47190048e+10  2.17e-01 2.63e-10  4.25e+02     2s\n"
     ]
    },
    {
     "name": "stdout",
     "output_type": "stream",
     "text": [
      "  36   2.47717235e+10  2.47217888e+10  1.82e-01 5.38e-10  3.79e+02     2s\n"
     ]
    },
    {
     "name": "stderr",
     "output_type": "stream",
     "text": [
      "INFO:gurobipy:  36   2.47717235e+10  2.47217888e+10  1.82e-01 5.38e-10  3.79e+02     2s\n"
     ]
    },
    {
     "name": "stdout",
     "output_type": "stream",
     "text": [
      "  37   2.47665057e+10  2.47283232e+10  1.28e-01 1.37e-10  2.89e+02     2s\n"
     ]
    },
    {
     "name": "stderr",
     "output_type": "stream",
     "text": [
      "INFO:gurobipy:  37   2.47665057e+10  2.47283232e+10  1.28e-01 1.37e-10  2.89e+02     2s\n"
     ]
    },
    {
     "name": "stdout",
     "output_type": "stream",
     "text": [
      "  38   2.47650716e+10  2.47324917e+10  1.14e-01 6.16e-10  2.47e+02     2s\n"
     ]
    },
    {
     "name": "stderr",
     "output_type": "stream",
     "text": [
      "INFO:gurobipy:  38   2.47650716e+10  2.47324917e+10  1.14e-01 6.16e-10  2.47e+02     2s\n"
     ]
    },
    {
     "name": "stdout",
     "output_type": "stream",
     "text": [
      "  39   2.47628638e+10  2.47339451e+10  9.26e-02 1.06e-09  2.19e+02     2s\n"
     ]
    },
    {
     "name": "stderr",
     "output_type": "stream",
     "text": [
      "INFO:gurobipy:  39   2.47628638e+10  2.47339451e+10  9.26e-02 1.06e-09  2.19e+02     2s\n"
     ]
    },
    {
     "name": "stdout",
     "output_type": "stream",
     "text": [
      "  40   2.47607638e+10  2.47361845e+10  7.14e-02 1.04e-09  1.86e+02     2s\n"
     ]
    },
    {
     "name": "stderr",
     "output_type": "stream",
     "text": [
      "INFO:gurobipy:  40   2.47607638e+10  2.47361845e+10  7.14e-02 1.04e-09  1.86e+02     2s\n"
     ]
    },
    {
     "name": "stdout",
     "output_type": "stream",
     "text": [
      "  41   2.47590253e+10  2.47386452e+10  5.40e-02 2.43e-10  1.54e+02     2s\n"
     ]
    },
    {
     "name": "stderr",
     "output_type": "stream",
     "text": [
      "INFO:gurobipy:  41   2.47590253e+10  2.47386452e+10  5.40e-02 2.43e-10  1.54e+02     2s\n"
     ]
    },
    {
     "name": "stdout",
     "output_type": "stream",
     "text": [
      "  42   2.47584279e+10  2.47402722e+10  4.81e-02 2.12e-09  1.38e+02     2s\n"
     ]
    },
    {
     "name": "stderr",
     "output_type": "stream",
     "text": [
      "INFO:gurobipy:  42   2.47584279e+10  2.47402722e+10  4.81e-02 2.12e-09  1.38e+02     2s\n"
     ]
    },
    {
     "name": "stdout",
     "output_type": "stream",
     "text": [
      "  43   2.47578125e+10  2.47406389e+10  4.24e-02 3.97e-10  1.30e+02     2s\n"
     ]
    },
    {
     "name": "stderr",
     "output_type": "stream",
     "text": [
      "INFO:gurobipy:  43   2.47578125e+10  2.47406389e+10  4.24e-02 3.97e-10  1.30e+02     2s\n"
     ]
    },
    {
     "name": "stdout",
     "output_type": "stream",
     "text": [
      "  44   2.47567885e+10  2.47424729e+10  3.22e-02 7.93e-10  1.08e+02     2s\n"
     ]
    },
    {
     "name": "stderr",
     "output_type": "stream",
     "text": [
      "INFO:gurobipy:  44   2.47567885e+10  2.47424729e+10  3.22e-02 7.93e-10  1.08e+02     2s\n"
     ]
    },
    {
     "name": "stdout",
     "output_type": "stream",
     "text": [
      "  45   2.47566348e+10  2.47435745e+10  3.08e-02 5.75e-10  9.89e+01     2s\n"
     ]
    },
    {
     "name": "stderr",
     "output_type": "stream",
     "text": [
      "INFO:gurobipy:  45   2.47566348e+10  2.47435745e+10  3.08e-02 5.75e-10  9.89e+01     2s\n"
     ]
    },
    {
     "name": "stdout",
     "output_type": "stream",
     "text": [
      "  46   2.47554495e+10  2.47447475e+10  2.01e-02 1.08e-09  8.10e+01     3s\n"
     ]
    },
    {
     "name": "stderr",
     "output_type": "stream",
     "text": [
      "INFO:gurobipy:  46   2.47554495e+10  2.47447475e+10  2.01e-02 1.08e-09  8.10e+01     3s\n"
     ]
    },
    {
     "name": "stdout",
     "output_type": "stream",
     "text": [
      "  47   2.47548750e+10  2.47469386e+10  1.45e-02 9.40e-10  6.01e+01     3s\n"
     ]
    },
    {
     "name": "stderr",
     "output_type": "stream",
     "text": [
      "INFO:gurobipy:  47   2.47548750e+10  2.47469386e+10  1.45e-02 9.40e-10  6.01e+01     3s\n"
     ]
    },
    {
     "name": "stdout",
     "output_type": "stream",
     "text": [
      "  48   2.47540103e+10  2.47481266e+10  6.29e-03 6.05e-10  4.45e+01     3s\n"
     ]
    },
    {
     "name": "stderr",
     "output_type": "stream",
     "text": [
      "INFO:gurobipy:  48   2.47540103e+10  2.47481266e+10  6.29e-03 6.05e-10  4.45e+01     3s\n"
     ]
    },
    {
     "name": "stdout",
     "output_type": "stream",
     "text": [
      "  49   2.47538160e+10  2.47493270e+10  4.50e-03 5.57e-10  3.40e+01     3s\n"
     ]
    },
    {
     "name": "stderr",
     "output_type": "stream",
     "text": [
      "INFO:gurobipy:  49   2.47538160e+10  2.47493270e+10  4.50e-03 5.57e-10  3.40e+01     3s\n"
     ]
    },
    {
     "name": "stdout",
     "output_type": "stream",
     "text": [
      "  50   2.47536011e+10  2.47496729e+10  2.90e-03 4.34e-12  2.97e+01     3s\n"
     ]
    },
    {
     "name": "stderr",
     "output_type": "stream",
     "text": [
      "INFO:gurobipy:  50   2.47536011e+10  2.47496729e+10  2.90e-03 4.34e-12  2.97e+01     3s\n"
     ]
    },
    {
     "name": "stdout",
     "output_type": "stream",
     "text": [
      "  51   2.47535409e+10  2.47498927e+10  2.46e-03 6.77e-10  2.76e+01     3s\n"
     ]
    },
    {
     "name": "stderr",
     "output_type": "stream",
     "text": [
      "INFO:gurobipy:  51   2.47535409e+10  2.47498927e+10  2.46e-03 6.77e-10  2.76e+01     3s\n"
     ]
    },
    {
     "name": "stdout",
     "output_type": "stream",
     "text": [
      "  52   2.47534215e+10  2.47507375e+10  1.38e-03 4.91e-10  2.03e+01     3s\n"
     ]
    },
    {
     "name": "stderr",
     "output_type": "stream",
     "text": [
      "INFO:gurobipy:  52   2.47534215e+10  2.47507375e+10  1.38e-03 4.91e-10  2.03e+01     3s\n"
     ]
    },
    {
     "name": "stdout",
     "output_type": "stream",
     "text": [
      "  53   2.47533639e+10  2.47516326e+10  9.97e-04 2.67e-12  1.31e+01     3s\n"
     ]
    },
    {
     "name": "stderr",
     "output_type": "stream",
     "text": [
      "INFO:gurobipy:  53   2.47533639e+10  2.47516326e+10  9.97e-04 2.67e-12  1.31e+01     3s\n"
     ]
    },
    {
     "name": "stdout",
     "output_type": "stream",
     "text": [
      "  54   2.47533013e+10  2.47520149e+10  5.17e-04 1.99e-10  9.73e+00     3s\n"
     ]
    },
    {
     "name": "stderr",
     "output_type": "stream",
     "text": [
      "INFO:gurobipy:  54   2.47533013e+10  2.47520149e+10  5.17e-04 1.99e-10  9.73e+00     3s\n"
     ]
    },
    {
     "name": "stdout",
     "output_type": "stream",
     "text": [
      "  55   2.47532508e+10  2.47523748e+10  3.40e-05 1.14e-12  6.62e+00     3s\n"
     ]
    },
    {
     "name": "stderr",
     "output_type": "stream",
     "text": [
      "INFO:gurobipy:  55   2.47532508e+10  2.47523748e+10  3.40e-05 1.14e-12  6.62e+00     3s\n"
     ]
    },
    {
     "name": "stdout",
     "output_type": "stream",
     "text": [
      "  56   2.47532361e+10  2.47523956e+10  2.02e-05 1.05e-10  6.35e+00     3s\n"
     ]
    },
    {
     "name": "stderr",
     "output_type": "stream",
     "text": [
      "INFO:gurobipy:  56   2.47532361e+10  2.47523956e+10  2.02e-05 1.05e-10  6.35e+00     3s\n"
     ]
    },
    {
     "name": "stdout",
     "output_type": "stream",
     "text": [
      "  57   2.47532261e+10  2.47528327e+10  8.15e-06 5.28e-10  2.97e+00     3s\n"
     ]
    },
    {
     "name": "stderr",
     "output_type": "stream",
     "text": [
      "INFO:gurobipy:  57   2.47532261e+10  2.47528327e+10  8.15e-06 5.28e-10  2.97e+00     3s\n"
     ]
    },
    {
     "name": "stdout",
     "output_type": "stream",
     "text": [
      "  58   2.47532198e+10  2.47528453e+10  6.73e-06 7.17e-10  2.83e+00     3s\n"
     ]
    },
    {
     "name": "stderr",
     "output_type": "stream",
     "text": [
      "INFO:gurobipy:  58   2.47532198e+10  2.47528453e+10  6.73e-06 7.17e-10  2.83e+00     3s\n"
     ]
    },
    {
     "name": "stdout",
     "output_type": "stream",
     "text": [
      "  59   2.47532200e+10  2.47529620e+10  5.63e-06 4.43e-09  1.95e+00     3s\n"
     ]
    },
    {
     "name": "stderr",
     "output_type": "stream",
     "text": [
      "INFO:gurobipy:  59   2.47532200e+10  2.47529620e+10  5.63e-06 4.43e-09  1.95e+00     3s\n"
     ]
    },
    {
     "name": "stdout",
     "output_type": "stream",
     "text": [
      "  60   2.47532196e+10  2.47530009e+10  5.15e-06 4.83e-09  1.65e+00     3s\n"
     ]
    },
    {
     "name": "stderr",
     "output_type": "stream",
     "text": [
      "INFO:gurobipy:  60   2.47532196e+10  2.47530009e+10  5.15e-06 4.83e-09  1.65e+00     3s\n"
     ]
    },
    {
     "name": "stdout",
     "output_type": "stream",
     "text": [
      "  61   2.47532180e+10  2.47531921e+10  3.79e-06 4.75e-09  1.95e-01     3s\n"
     ]
    },
    {
     "name": "stderr",
     "output_type": "stream",
     "text": [
      "INFO:gurobipy:  61   2.47532180e+10  2.47531921e+10  3.79e-06 4.75e-09  1.95e-01     3s\n"
     ]
    },
    {
     "name": "stdout",
     "output_type": "stream",
     "text": [
      "  62   2.47532148e+10  2.47532065e+10  5.57e-06 2.37e-09  6.22e-02     3s\n"
     ]
    },
    {
     "name": "stderr",
     "output_type": "stream",
     "text": [
      "INFO:gurobipy:  62   2.47532148e+10  2.47532065e+10  5.57e-06 2.37e-09  6.22e-02     3s\n"
     ]
    },
    {
     "name": "stdout",
     "output_type": "stream",
     "text": [
      "  63   2.47532145e+10  2.47532078e+10  3.60e-06 1.61e-09  5.00e-02     3s\n"
     ]
    },
    {
     "name": "stderr",
     "output_type": "stream",
     "text": [
      "INFO:gurobipy:  63   2.47532145e+10  2.47532078e+10  3.60e-06 1.61e-09  5.00e-02     3s\n"
     ]
    },
    {
     "name": "stdout",
     "output_type": "stream",
     "text": [
      "  64   2.47532144e+10  2.47532108e+10  4.95e-10 1.33e-09  2.71e-02     4s\n"
     ]
    },
    {
     "name": "stderr",
     "output_type": "stream",
     "text": [
      "INFO:gurobipy:  64   2.47532144e+10  2.47532108e+10  4.95e-10 1.33e-09  2.71e-02     4s\n"
     ]
    },
    {
     "name": "stdout",
     "output_type": "stream",
     "text": [
      "  65   2.47532143e+10  2.47532141e+10  1.35e-06 1.87e-09  1.24e-03     4s\n"
     ]
    },
    {
     "name": "stderr",
     "output_type": "stream",
     "text": [
      "INFO:gurobipy:  65   2.47532143e+10  2.47532141e+10  1.35e-06 1.87e-09  1.24e-03     4s\n"
     ]
    },
    {
     "name": "stdout",
     "output_type": "stream",
     "text": [
      "  66   2.47532143e+10  2.47532143e+10  4.37e-10 5.00e-09  1.86e-08     4s\n"
     ]
    },
    {
     "name": "stderr",
     "output_type": "stream",
     "text": [
      "INFO:gurobipy:  66   2.47532143e+10  2.47532143e+10  4.37e-10 5.00e-09  1.86e-08     4s\n"
     ]
    },
    {
     "name": "stdout",
     "output_type": "stream",
     "text": [
      "  67   2.47532143e+10  2.47532143e+10  5.82e-11 5.97e-09  2.08e-14     4s\n"
     ]
    },
    {
     "name": "stderr",
     "output_type": "stream",
     "text": [
      "INFO:gurobipy:  67   2.47532143e+10  2.47532143e+10  5.82e-11 5.97e-09  2.08e-14     4s\n"
     ]
    },
    {
     "name": "stdout",
     "output_type": "stream",
     "text": [
      "\n"
     ]
    },
    {
     "name": "stderr",
     "output_type": "stream",
     "text": [
      "INFO:gurobipy:\n"
     ]
    },
    {
     "name": "stdout",
     "output_type": "stream",
     "text": [
      "Barrier solved model in 67 iterations and 3.72 seconds (1.27 work units)\n"
     ]
    },
    {
     "name": "stderr",
     "output_type": "stream",
     "text": [
      "INFO:gurobipy:Barrier solved model in 67 iterations and 3.72 seconds (1.27 work units)\n"
     ]
    },
    {
     "name": "stdout",
     "output_type": "stream",
     "text": [
      "Optimal objective 2.47532143e+10\n"
     ]
    },
    {
     "name": "stderr",
     "output_type": "stream",
     "text": [
      "INFO:gurobipy:Optimal objective 2.47532143e+10\n"
     ]
    },
    {
     "name": "stdout",
     "output_type": "stream",
     "text": [
      "\n"
     ]
    },
    {
     "name": "stderr",
     "output_type": "stream",
     "text": [
      "INFO:gurobipy:\n"
     ]
    },
    {
     "name": "stdout",
     "output_type": "stream",
     "text": [
      "Crossover log...\n"
     ]
    },
    {
     "name": "stderr",
     "output_type": "stream",
     "text": [
      "INFO:gurobipy:Crossover log...\n"
     ]
    },
    {
     "name": "stdout",
     "output_type": "stream",
     "text": [
      "\n"
     ]
    },
    {
     "name": "stderr",
     "output_type": "stream",
     "text": [
      "INFO:gurobipy:\n"
     ]
    },
    {
     "name": "stdout",
     "output_type": "stream",
     "text": [
      "   13301 DPushes remaining with DInf 0.0000000e+00                 4s\n"
     ]
    },
    {
     "name": "stderr",
     "output_type": "stream",
     "text": [
      "INFO:gurobipy:   13301 DPushes remaining with DInf 0.0000000e+00                 4s\n"
     ]
    },
    {
     "name": "stdout",
     "output_type": "stream",
     "text": [
      "       0 DPushes remaining with DInf 0.0000000e+00                 4s\n"
     ]
    },
    {
     "name": "stderr",
     "output_type": "stream",
     "text": [
      "INFO:gurobipy:       0 DPushes remaining with DInf 0.0000000e+00                 4s\n"
     ]
    },
    {
     "name": "stdout",
     "output_type": "stream",
     "text": [
      "\n"
     ]
    },
    {
     "name": "stderr",
     "output_type": "stream",
     "text": [
      "INFO:gurobipy:\n"
     ]
    },
    {
     "name": "stdout",
     "output_type": "stream",
     "text": [
      "       0 PPushes remaining with PInf 0.0000000e+00                 4s\n"
     ]
    },
    {
     "name": "stderr",
     "output_type": "stream",
     "text": [
      "INFO:gurobipy:       0 PPushes remaining with PInf 0.0000000e+00                 4s\n"
     ]
    },
    {
     "name": "stdout",
     "output_type": "stream",
     "text": [
      "\n"
     ]
    },
    {
     "name": "stderr",
     "output_type": "stream",
     "text": [
      "INFO:gurobipy:\n"
     ]
    },
    {
     "name": "stdout",
     "output_type": "stream",
     "text": [
      "  Push phase complete: Pinf 0.0000000e+00, Dinf 8.8680174e-11      4s\n"
     ]
    },
    {
     "name": "stderr",
     "output_type": "stream",
     "text": [
      "INFO:gurobipy:  Push phase complete: Pinf 0.0000000e+00, Dinf 8.8680174e-11      4s\n"
     ]
    },
    {
     "name": "stdout",
     "output_type": "stream",
     "text": [
      "\n"
     ]
    },
    {
     "name": "stderr",
     "output_type": "stream",
     "text": [
      "INFO:gurobipy:\n"
     ]
    },
    {
     "name": "stdout",
     "output_type": "stream",
     "text": [
      "\n"
     ]
    },
    {
     "name": "stderr",
     "output_type": "stream",
     "text": [
      "INFO:gurobipy:\n"
     ]
    },
    {
     "name": "stdout",
     "output_type": "stream",
     "text": [
      "Solved with barrier\n"
     ]
    },
    {
     "name": "stderr",
     "output_type": "stream",
     "text": [
      "INFO:gurobipy:Solved with barrier\n"
     ]
    },
    {
     "name": "stdout",
     "output_type": "stream",
     "text": [
      "Iteration    Objective       Primal Inf.    Dual Inf.      Time\n"
     ]
    },
    {
     "name": "stderr",
     "output_type": "stream",
     "text": [
      "INFO:gurobipy:Iteration    Objective       Primal Inf.    Dual Inf.      Time\n"
     ]
    },
    {
     "name": "stdout",
     "output_type": "stream",
     "text": [
      "   13304    2.4753214e+10   0.000000e+00   0.000000e+00      4s\n"
     ]
    },
    {
     "name": "stderr",
     "output_type": "stream",
     "text": [
      "INFO:gurobipy:   13304    2.4753214e+10   0.000000e+00   0.000000e+00      4s\n"
     ]
    },
    {
     "name": "stdout",
     "output_type": "stream",
     "text": [
      "\n"
     ]
    },
    {
     "name": "stderr",
     "output_type": "stream",
     "text": [
      "INFO:gurobipy:\n"
     ]
    },
    {
     "name": "stdout",
     "output_type": "stream",
     "text": [
      "Solved in 13304 iterations and 4.04 seconds (1.34 work units)\n"
     ]
    },
    {
     "name": "stderr",
     "output_type": "stream",
     "text": [
      "INFO:gurobipy:Solved in 13304 iterations and 4.04 seconds (1.34 work units)\n"
     ]
    },
    {
     "name": "stdout",
     "output_type": "stream",
     "text": [
      "Optimal objective  2.475321425e+10\n"
     ]
    },
    {
     "name": "stderr",
     "output_type": "stream",
     "text": [
      "INFO:gurobipy:Optimal objective  2.475321425e+10\n",
      "INFO:linopy.constants: Optimization successful: \n",
      "Status: ok\n",
      "Termination condition: optimal\n",
      "Solution: 52566 primals, 113887 duals\n",
      "Objective: 2.48e+10\n",
      "Solver model: available\n",
      "Solver message: 2\n",
      "\n",
      "INFO:pypsa.optimization.optimize:The shadow-prices of the constraints Generator-ext-p-lower, Generator-ext-p-upper were not assigned to the network.\n",
      "WARNING:pypsa.consistency:The following buses have carriers which are not defined:\n",
      "Index(['E_busDEU'], dtype='object', name='Bus')\n",
      "INFO:linopy.model: Solve problem using Gurobi solver\n",
      "INFO:linopy.io:Writing objective.\n",
      "Writing constraints.: 100%|\u001b[38;2;128;191;255m██████████\u001b[0m| 6/6 [00:00<00:00,  8.94it/s]\n",
      "Writing continuous variables.: 100%|\u001b[38;2;128;191;255m██████████\u001b[0m| 2/2 [00:00<00:00, 16.50it/s]\n",
      "INFO:linopy.io: Writing time: 0.84s\n"
     ]
    },
    {
     "name": "stdout",
     "output_type": "stream",
     "text": [
      "Set parameter Username\n"
     ]
    },
    {
     "name": "stderr",
     "output_type": "stream",
     "text": [
      "INFO:gurobipy:Set parameter Username\n"
     ]
    },
    {
     "name": "stdout",
     "output_type": "stream",
     "text": [
      "Academic license - for non-commercial use only - expires 2025-09-04\n"
     ]
    },
    {
     "name": "stderr",
     "output_type": "stream",
     "text": [
      "INFO:gurobipy:Academic license - for non-commercial use only - expires 2025-09-04\n"
     ]
    },
    {
     "name": "stdout",
     "output_type": "stream",
     "text": [
      "Read LP format model from file C:\\Users\\alexk\\AppData\\Local\\Temp\\linopy-problem-m2ftzx4n.lp\n"
     ]
    },
    {
     "name": "stderr",
     "output_type": "stream",
     "text": [
      "INFO:gurobipy:Read LP format model from file C:\\Users\\alexk\\AppData\\Local\\Temp\\linopy-problem-m2ftzx4n.lp\n"
     ]
    },
    {
     "name": "stdout",
     "output_type": "stream",
     "text": [
      "Reading time = 0.26 seconds\n"
     ]
    },
    {
     "name": "stderr",
     "output_type": "stream",
     "text": [
      "INFO:gurobipy:Reading time = 0.26 seconds\n"
     ]
    },
    {
     "name": "stdout",
     "output_type": "stream",
     "text": [
      "obj: 113887 rows, 52566 columns, 219290 nonzeros\n"
     ]
    },
    {
     "name": "stderr",
     "output_type": "stream",
     "text": [
      "INFO:gurobipy:obj: 113887 rows, 52566 columns, 219290 nonzeros\n"
     ]
    },
    {
     "name": "stdout",
     "output_type": "stream",
     "text": [
      "Gurobi Optimizer version 11.0.3 build v11.0.3rc0 (win64 - Windows 11.0 (22631.2))\n"
     ]
    },
    {
     "name": "stderr",
     "output_type": "stream",
     "text": [
      "INFO:gurobipy:Gurobi Optimizer version 11.0.3 build v11.0.3rc0 (win64 - Windows 11.0 (22631.2))\n"
     ]
    },
    {
     "name": "stdout",
     "output_type": "stream",
     "text": [
      "\n"
     ]
    },
    {
     "name": "stderr",
     "output_type": "stream",
     "text": [
      "INFO:gurobipy:\n"
     ]
    },
    {
     "name": "stdout",
     "output_type": "stream",
     "text": [
      "CPU model: AMD Ryzen 5 4600H with Radeon Graphics, instruction set [SSE2|AVX|AVX2]\n"
     ]
    },
    {
     "name": "stderr",
     "output_type": "stream",
     "text": [
      "INFO:gurobipy:CPU model: AMD Ryzen 5 4600H with Radeon Graphics, instruction set [SSE2|AVX|AVX2]\n"
     ]
    },
    {
     "name": "stdout",
     "output_type": "stream",
     "text": [
      "Thread count: 6 physical cores, 12 logical processors, using up to 12 threads\n"
     ]
    },
    {
     "name": "stderr",
     "output_type": "stream",
     "text": [
      "INFO:gurobipy:Thread count: 6 physical cores, 12 logical processors, using up to 12 threads\n"
     ]
    },
    {
     "name": "stdout",
     "output_type": "stream",
     "text": [
      "\n"
     ]
    },
    {
     "name": "stderr",
     "output_type": "stream",
     "text": [
      "INFO:gurobipy:\n"
     ]
    },
    {
     "name": "stdout",
     "output_type": "stream",
     "text": [
      "Optimize a model with 113887 rows, 52566 columns and 219290 nonzeros\n"
     ]
    },
    {
     "name": "stderr",
     "output_type": "stream",
     "text": [
      "INFO:gurobipy:Optimize a model with 113887 rows, 52566 columns and 219290 nonzeros\n"
     ]
    },
    {
     "name": "stdout",
     "output_type": "stream",
     "text": [
      "Model fingerprint: 0xfe0d4387\n"
     ]
    },
    {
     "name": "stderr",
     "output_type": "stream",
     "text": [
      "INFO:gurobipy:Model fingerprint: 0xfe0d4387\n"
     ]
    },
    {
     "name": "stdout",
     "output_type": "stream",
     "text": [
      "Coefficient statistics:\n"
     ]
    },
    {
     "name": "stderr",
     "output_type": "stream",
     "text": [
      "INFO:gurobipy:Coefficient statistics:\n"
     ]
    },
    {
     "name": "stdout",
     "output_type": "stream",
     "text": [
      "  Matrix range     [1e-03, 3e+00]\n"
     ]
    },
    {
     "name": "stderr",
     "output_type": "stream",
     "text": [
      "INFO:gurobipy:  Matrix range     [1e-03, 3e+00]\n"
     ]
    },
    {
     "name": "stdout",
     "output_type": "stream",
     "text": [
      "  Objective range  [1e+01, 3e+05]\n"
     ]
    },
    {
     "name": "stderr",
     "output_type": "stream",
     "text": [
      "INFO:gurobipy:  Objective range  [1e+01, 3e+05]\n"
     ]
    },
    {
     "name": "stdout",
     "output_type": "stream",
     "text": [
      "  Bounds range     [0e+00, 0e+00]\n"
     ]
    },
    {
     "name": "stderr",
     "output_type": "stream",
     "text": [
      "INFO:gurobipy:  Bounds range     [0e+00, 0e+00]\n"
     ]
    },
    {
     "name": "stdout",
     "output_type": "stream",
     "text": [
      "  RHS range        [4e+04, 1e+09]\n"
     ]
    },
    {
     "name": "stderr",
     "output_type": "stream",
     "text": [
      "INFO:gurobipy:  RHS range        [4e+04, 1e+09]\n"
     ]
    },
    {
     "name": "stdout",
     "output_type": "stream",
     "text": [
      "Presolve removed 61042 rows and 8476 columns\n"
     ]
    },
    {
     "name": "stderr",
     "output_type": "stream",
     "text": [
      "INFO:gurobipy:Presolve removed 61042 rows and 8476 columns\n"
     ]
    },
    {
     "name": "stdout",
     "output_type": "stream",
     "text": [
      "Presolve time: 0.10s\n"
     ]
    },
    {
     "name": "stderr",
     "output_type": "stream",
     "text": [
      "INFO:gurobipy:Presolve time: 0.10s\n"
     ]
    },
    {
     "name": "stdout",
     "output_type": "stream",
     "text": [
      "Presolved: 52845 rows, 44090 columns, 149772 nonzeros\n"
     ]
    },
    {
     "name": "stderr",
     "output_type": "stream",
     "text": [
      "INFO:gurobipy:Presolved: 52845 rows, 44090 columns, 149772 nonzeros\n"
     ]
    },
    {
     "name": "stdout",
     "output_type": "stream",
     "text": [
      "\n"
     ]
    },
    {
     "name": "stderr",
     "output_type": "stream",
     "text": [
      "INFO:gurobipy:\n"
     ]
    },
    {
     "name": "stdout",
     "output_type": "stream",
     "text": [
      "Concurrent LP optimizer: primal simplex, dual simplex, and barrier\n"
     ]
    },
    {
     "name": "stderr",
     "output_type": "stream",
     "text": [
      "INFO:gurobipy:Concurrent LP optimizer: primal simplex, dual simplex, and barrier\n"
     ]
    },
    {
     "name": "stdout",
     "output_type": "stream",
     "text": [
      "Showing barrier log only...\n"
     ]
    },
    {
     "name": "stderr",
     "output_type": "stream",
     "text": [
      "INFO:gurobipy:Showing barrier log only...\n"
     ]
    },
    {
     "name": "stdout",
     "output_type": "stream",
     "text": [
      "\n"
     ]
    },
    {
     "name": "stderr",
     "output_type": "stream",
     "text": [
      "INFO:gurobipy:\n"
     ]
    },
    {
     "name": "stdout",
     "output_type": "stream",
     "text": [
      "Ordering time: 0.02s\n"
     ]
    },
    {
     "name": "stderr",
     "output_type": "stream",
     "text": [
      "INFO:gurobipy:Ordering time: 0.02s\n"
     ]
    },
    {
     "name": "stdout",
     "output_type": "stream",
     "text": [
      "\n"
     ]
    },
    {
     "name": "stderr",
     "output_type": "stream",
     "text": [
      "INFO:gurobipy:\n"
     ]
    },
    {
     "name": "stdout",
     "output_type": "stream",
     "text": [
      "Barrier statistics:\n"
     ]
    },
    {
     "name": "stderr",
     "output_type": "stream",
     "text": [
      "INFO:gurobipy:Barrier statistics:\n"
     ]
    },
    {
     "name": "stdout",
     "output_type": "stream",
     "text": [
      " Dense cols : 6\n"
     ]
    },
    {
     "name": "stderr",
     "output_type": "stream",
     "text": [
      "INFO:gurobipy: Dense cols : 6\n"
     ]
    },
    {
     "name": "stdout",
     "output_type": "stream",
     "text": [
      " AA' NZ     : 1.144e+05\n"
     ]
    },
    {
     "name": "stderr",
     "output_type": "stream",
     "text": [
      "INFO:gurobipy: AA' NZ     : 1.144e+05\n"
     ]
    },
    {
     "name": "stdout",
     "output_type": "stream",
     "text": [
      " Factor NZ  : 5.178e+05 (roughly 40 MB of memory)\n"
     ]
    },
    {
     "name": "stderr",
     "output_type": "stream",
     "text": [
      "INFO:gurobipy: Factor NZ  : 5.178e+05 (roughly 40 MB of memory)\n"
     ]
    },
    {
     "name": "stdout",
     "output_type": "stream",
     "text": [
      " Factor Ops : 5.355e+06 (less than 1 second per iteration)\n"
     ]
    },
    {
     "name": "stderr",
     "output_type": "stream",
     "text": [
      "INFO:gurobipy: Factor Ops : 5.355e+06 (less than 1 second per iteration)\n"
     ]
    },
    {
     "name": "stdout",
     "output_type": "stream",
     "text": [
      " Threads    : 4\n"
     ]
    },
    {
     "name": "stderr",
     "output_type": "stream",
     "text": [
      "INFO:gurobipy: Threads    : 4\n"
     ]
    },
    {
     "name": "stdout",
     "output_type": "stream",
     "text": [
      "\n"
     ]
    },
    {
     "name": "stderr",
     "output_type": "stream",
     "text": [
      "INFO:gurobipy:\n"
     ]
    },
    {
     "name": "stdout",
     "output_type": "stream",
     "text": [
      "                  Objective                Residual\n"
     ]
    },
    {
     "name": "stderr",
     "output_type": "stream",
     "text": [
      "INFO:gurobipy:                  Objective                Residual\n"
     ]
    },
    {
     "name": "stdout",
     "output_type": "stream",
     "text": [
      "Iter       Primal          Dual         Primal    Dual     Compl     Time\n"
     ]
    },
    {
     "name": "stderr",
     "output_type": "stream",
     "text": [
      "INFO:gurobipy:Iter       Primal          Dual         Primal    Dual     Compl     Time\n"
     ]
    },
    {
     "name": "stdout",
     "output_type": "stream",
     "text": [
      "   0   1.45442347e+13  0.00000000e+00  7.74e+10 0.00e+00  8.61e+09     0s\n"
     ]
    },
    {
     "name": "stderr",
     "output_type": "stream",
     "text": [
      "INFO:gurobipy:   0   1.45442347e+13  0.00000000e+00  7.74e+10 0.00e+00  8.61e+09     0s\n"
     ]
    },
    {
     "name": "stdout",
     "output_type": "stream",
     "text": [
      "   1   2.03935537e+13 -1.64710150e+12  1.22e+10 2.81e+02  1.70e+09     0s\n"
     ]
    },
    {
     "name": "stderr",
     "output_type": "stream",
     "text": [
      "INFO:gurobipy:   1   2.03935537e+13 -1.64710150e+12  1.22e+10 2.81e+02  1.70e+09     0s\n"
     ]
    },
    {
     "name": "stdout",
     "output_type": "stream",
     "text": [
      "   2   1.30909958e+13 -1.83879280e+12  5.50e+08 9.90e-10  1.43e+08     0s\n"
     ]
    },
    {
     "name": "stderr",
     "output_type": "stream",
     "text": [
      "INFO:gurobipy:   2   1.30909958e+13 -1.83879280e+12  5.50e+08 9.90e-10  1.43e+08     0s\n"
     ]
    },
    {
     "name": "stdout",
     "output_type": "stream",
     "text": [
      "   3   1.90396976e+12 -1.28300920e+12  5.76e+07 8.62e-10  2.78e+07     0s\n"
     ]
    },
    {
     "name": "stderr",
     "output_type": "stream",
     "text": [
      "INFO:gurobipy:   3   1.90396976e+12 -1.28300920e+12  5.76e+07 8.62e-10  2.78e+07     0s\n"
     ]
    },
    {
     "name": "stdout",
     "output_type": "stream",
     "text": [
      "   4   5.90325030e+11 -3.78084789e+11  6.98e+03 9.46e-10  7.64e+06     0s\n"
     ]
    },
    {
     "name": "stderr",
     "output_type": "stream",
     "text": [
      "INFO:gurobipy:   4   5.90325030e+11 -3.78084789e+11  6.98e+03 9.46e-10  7.64e+06     0s\n"
     ]
    },
    {
     "name": "stdout",
     "output_type": "stream",
     "text": [
      "   5   1.70414663e+11 -8.90977277e+10  1.63e+03 2.02e-09  1.99e+06     1s\n"
     ]
    },
    {
     "name": "stderr",
     "output_type": "stream",
     "text": [
      "INFO:gurobipy:   5   1.70414663e+11 -8.90977277e+10  1.63e+03 2.02e-09  1.99e+06     1s\n"
     ]
    },
    {
     "name": "stdout",
     "output_type": "stream",
     "text": [
      "   6   8.77446883e+10 -4.26799526e+10  6.87e+02 8.44e-10  9.97e+05     1s\n"
     ]
    },
    {
     "name": "stderr",
     "output_type": "stream",
     "text": [
      "INFO:gurobipy:   6   8.77446883e+10 -4.26799526e+10  6.87e+02 8.44e-10  9.97e+05     1s\n"
     ]
    },
    {
     "name": "stdout",
     "output_type": "stream",
     "text": [
      "   7   4.72630515e+10 -1.35584967e+10  2.33e+02 1.40e-09  4.63e+05     1s\n"
     ]
    },
    {
     "name": "stderr",
     "output_type": "stream",
     "text": [
      "INFO:gurobipy:   7   4.72630515e+10 -1.35584967e+10  2.33e+02 1.40e-09  4.63e+05     1s\n"
     ]
    },
    {
     "name": "stdout",
     "output_type": "stream",
     "text": [
      "   8   4.48498554e+10 -6.45911401e+08  2.08e+02 6.00e-10  3.46e+05     1s\n"
     ]
    },
    {
     "name": "stderr",
     "output_type": "stream",
     "text": [
      "INFO:gurobipy:   8   4.48498554e+10 -6.45911401e+08  2.08e+02 6.00e-10  3.46e+05     1s\n"
     ]
    },
    {
     "name": "stdout",
     "output_type": "stream",
     "text": [
      "   9   4.09574821e+10  1.15375483e+10  1.69e+02 8.59e-10  2.24e+05     1s\n"
     ]
    },
    {
     "name": "stderr",
     "output_type": "stream",
     "text": [
      "INFO:gurobipy:   9   4.09574821e+10  1.15375483e+10  1.69e+02 8.59e-10  2.24e+05     1s\n"
     ]
    },
    {
     "name": "stdout",
     "output_type": "stream",
     "text": [
      "  10   3.33041571e+10  1.70222349e+10  8.56e+01 2.25e-09  1.24e+05     1s\n"
     ]
    },
    {
     "name": "stderr",
     "output_type": "stream",
     "text": [
      "INFO:gurobipy:  10   3.33041571e+10  1.70222349e+10  8.56e+01 2.25e-09  1.24e+05     1s\n"
     ]
    },
    {
     "name": "stdout",
     "output_type": "stream",
     "text": [
      "  11   2.93536002e+10  1.90016870e+10  4.45e+01 7.39e-10  7.86e+04     1s\n"
     ]
    },
    {
     "name": "stderr",
     "output_type": "stream",
     "text": [
      "INFO:gurobipy:  11   2.93536002e+10  1.90016870e+10  4.45e+01 7.39e-10  7.86e+04     1s\n"
     ]
    },
    {
     "name": "stdout",
     "output_type": "stream",
     "text": [
      "  12   2.82374395e+10  1.97790668e+10  3.31e+01 4.62e-11  6.42e+04     1s\n"
     ]
    },
    {
     "name": "stderr",
     "output_type": "stream",
     "text": [
      "INFO:gurobipy:  12   2.82374395e+10  1.97790668e+10  3.31e+01 4.62e-11  6.42e+04     1s\n"
     ]
    },
    {
     "name": "stdout",
     "output_type": "stream",
     "text": [
      "  13   2.73377013e+10  2.07002243e+10  2.39e+01 4.94e-10  5.04e+04     1s\n"
     ]
    },
    {
     "name": "stderr",
     "output_type": "stream",
     "text": [
      "INFO:gurobipy:  13   2.73377013e+10  2.07002243e+10  2.39e+01 4.94e-10  5.04e+04     1s\n"
     ]
    },
    {
     "name": "stdout",
     "output_type": "stream",
     "text": [
      "  14   2.66530574e+10  2.20854865e+10  1.70e+01 9.17e-10  3.47e+04     1s\n"
     ]
    },
    {
     "name": "stderr",
     "output_type": "stream",
     "text": [
      "INFO:gurobipy:  14   2.66530574e+10  2.20854865e+10  1.70e+01 9.17e-10  3.47e+04     1s\n"
     ]
    },
    {
     "name": "stdout",
     "output_type": "stream",
     "text": [
      "  15   2.61503234e+10  2.26339530e+10  1.23e+01 1.71e-10  2.67e+04     1s\n"
     ]
    },
    {
     "name": "stderr",
     "output_type": "stream",
     "text": [
      "INFO:gurobipy:  15   2.61503234e+10  2.26339530e+10  1.23e+01 1.71e-10  2.67e+04     1s\n"
     ]
    },
    {
     "name": "stdout",
     "output_type": "stream",
     "text": [
      "  16   2.59445254e+10  2.29132705e+10  1.03e+01 5.37e-10  2.30e+04     1s\n"
     ]
    },
    {
     "name": "stderr",
     "output_type": "stream",
     "text": [
      "INFO:gurobipy:  16   2.59445254e+10  2.29132705e+10  1.03e+01 5.37e-10  2.30e+04     1s\n"
     ]
    },
    {
     "name": "stdout",
     "output_type": "stream",
     "text": [
      "  17   2.56863875e+10  2.38453765e+10  7.99e+00 1.68e-09  1.40e+04     1s\n"
     ]
    },
    {
     "name": "stderr",
     "output_type": "stream",
     "text": [
      "INFO:gurobipy:  17   2.56863875e+10  2.38453765e+10  7.99e+00 1.68e-09  1.40e+04     1s\n"
     ]
    },
    {
     "name": "stdout",
     "output_type": "stream",
     "text": [
      "  18   2.55073200e+10  2.39394833e+10  6.36e+00 7.71e-10  1.19e+04     1s\n"
     ]
    },
    {
     "name": "stderr",
     "output_type": "stream",
     "text": [
      "INFO:gurobipy:  18   2.55073200e+10  2.39394833e+10  6.36e+00 7.71e-10  1.19e+04     1s\n"
     ]
    },
    {
     "name": "stdout",
     "output_type": "stream",
     "text": [
      "  19   2.53206741e+10  2.42560765e+10  4.80e+00 7.22e-10  8.08e+03     1s\n"
     ]
    },
    {
     "name": "stderr",
     "output_type": "stream",
     "text": [
      "INFO:gurobipy:  19   2.53206741e+10  2.42560765e+10  4.80e+00 7.22e-10  8.08e+03     1s\n"
     ]
    },
    {
     "name": "stdout",
     "output_type": "stream",
     "text": [
      "  20   2.51751522e+10  2.43070882e+10  3.54e+00 4.51e-10  6.59e+03     1s\n"
     ]
    },
    {
     "name": "stderr",
     "output_type": "stream",
     "text": [
      "INFO:gurobipy:  20   2.51751522e+10  2.43070882e+10  3.54e+00 4.51e-10  6.59e+03     1s\n"
     ]
    },
    {
     "name": "stdout",
     "output_type": "stream",
     "text": [
      "  21   2.51130114e+10  2.43562896e+10  2.99e+00 4.60e-10  5.74e+03     1s\n"
     ]
    },
    {
     "name": "stderr",
     "output_type": "stream",
     "text": [
      "INFO:gurobipy:  21   2.51130114e+10  2.43562896e+10  2.99e+00 4.60e-10  5.74e+03     1s\n"
     ]
    },
    {
     "name": "stdout",
     "output_type": "stream",
     "text": [
      "  22   2.50297827e+10  2.44561229e+10  2.29e+00 4.40e-10  4.35e+03     2s\n"
     ]
    },
    {
     "name": "stderr",
     "output_type": "stream",
     "text": [
      "INFO:gurobipy:  22   2.50297827e+10  2.44561229e+10  2.29e+00 4.40e-10  4.35e+03     2s\n"
     ]
    },
    {
     "name": "stdout",
     "output_type": "stream",
     "text": [
      "  23   2.49712588e+10  2.45247359e+10  1.79e+00 7.64e-10  3.39e+03     2s\n"
     ]
    },
    {
     "name": "stderr",
     "output_type": "stream",
     "text": [
      "INFO:gurobipy:  23   2.49712588e+10  2.45247359e+10  1.79e+00 7.64e-10  3.39e+03     2s\n"
     ]
    },
    {
     "name": "stdout",
     "output_type": "stream",
     "text": [
      "  24   2.49439255e+10  2.45727426e+10  1.55e+00 2.90e-09  2.82e+03     2s\n"
     ]
    },
    {
     "name": "stderr",
     "output_type": "stream",
     "text": [
      "INFO:gurobipy:  24   2.49439255e+10  2.45727426e+10  1.55e+00 2.90e-09  2.82e+03     2s\n"
     ]
    },
    {
     "name": "stdout",
     "output_type": "stream",
     "text": [
      "  25   2.49340458e+10  2.46550437e+10  1.45e+00 4.28e-10  2.12e+03     2s\n"
     ]
    },
    {
     "name": "stderr",
     "output_type": "stream",
     "text": [
      "INFO:gurobipy:  25   2.49340458e+10  2.46550437e+10  1.45e+00 4.28e-10  2.12e+03     2s\n"
     ]
    },
    {
     "name": "stdout",
     "output_type": "stream",
     "text": [
      "  26   2.48928256e+10  2.46742204e+10  1.09e+00 1.83e-09  1.66e+03     2s\n"
     ]
    },
    {
     "name": "stderr",
     "output_type": "stream",
     "text": [
      "INFO:gurobipy:  26   2.48928256e+10  2.46742204e+10  1.09e+00 1.83e-09  1.66e+03     2s\n"
     ]
    },
    {
     "name": "stdout",
     "output_type": "stream",
     "text": [
      "  27   2.48838686e+10  2.46844655e+10  1.02e+00 7.03e-10  1.51e+03     2s\n"
     ]
    },
    {
     "name": "stderr",
     "output_type": "stream",
     "text": [
      "INFO:gurobipy:  27   2.48838686e+10  2.46844655e+10  1.02e+00 7.03e-10  1.51e+03     2s\n"
     ]
    },
    {
     "name": "stdout",
     "output_type": "stream",
     "text": [
      "  28   2.48669293e+10  2.46903218e+10  8.69e-01 3.06e-10  1.34e+03     2s\n"
     ]
    },
    {
     "name": "stderr",
     "output_type": "stream",
     "text": [
      "INFO:gurobipy:  28   2.48669293e+10  2.46903218e+10  8.69e-01 3.06e-10  1.34e+03     2s\n"
     ]
    },
    {
     "name": "stdout",
     "output_type": "stream",
     "text": [
      "  29   2.48592375e+10  2.47070894e+10  8.08e-01 8.44e-10  1.16e+03     2s\n"
     ]
    },
    {
     "name": "stderr",
     "output_type": "stream",
     "text": [
      "INFO:gurobipy:  29   2.48592375e+10  2.47070894e+10  8.08e-01 8.44e-10  1.16e+03     2s\n"
     ]
    },
    {
     "name": "stdout",
     "output_type": "stream",
     "text": [
      "  30   2.48287985e+10  2.47113682e+10  5.47e-01 2.26e-10  8.91e+02     2s\n"
     ]
    },
    {
     "name": "stderr",
     "output_type": "stream",
     "text": [
      "INFO:gurobipy:  30   2.48287985e+10  2.47113682e+10  5.47e-01 2.26e-10  8.91e+02     2s\n"
     ]
    },
    {
     "name": "stdout",
     "output_type": "stream",
     "text": [
      "  31   2.48142475e+10  2.47190964e+10  4.23e-01 6.41e-10  7.22e+02     2s\n"
     ]
    },
    {
     "name": "stderr",
     "output_type": "stream",
     "text": [
      "INFO:gurobipy:  31   2.48142475e+10  2.47190964e+10  4.23e-01 6.41e-10  7.22e+02     2s\n"
     ]
    },
    {
     "name": "stdout",
     "output_type": "stream",
     "text": [
      "  32   2.47994436e+10  2.47345814e+10  2.99e-01 1.66e-10  4.92e+02     2s\n"
     ]
    },
    {
     "name": "stderr",
     "output_type": "stream",
     "text": [
      "INFO:gurobipy:  32   2.47994436e+10  2.47345814e+10  2.99e-01 1.66e-10  4.92e+02     2s\n"
     ]
    },
    {
     "name": "stdout",
     "output_type": "stream",
     "text": [
      "  33   2.47864099e+10  2.47470749e+10  1.87e-01 1.15e-09  2.98e+02     2s\n"
     ]
    },
    {
     "name": "stderr",
     "output_type": "stream",
     "text": [
      "INFO:gurobipy:  33   2.47864099e+10  2.47470749e+10  1.87e-01 1.15e-09  2.98e+02     2s\n"
     ]
    },
    {
     "name": "stdout",
     "output_type": "stream",
     "text": [
      "  34   2.47811470e+10  2.47487920e+10  1.45e-01 1.48e-09  2.45e+02     2s\n"
     ]
    },
    {
     "name": "stderr",
     "output_type": "stream",
     "text": [
      "INFO:gurobipy:  34   2.47811470e+10  2.47487920e+10  1.45e-01 1.48e-09  2.45e+02     2s\n"
     ]
    },
    {
     "name": "stdout",
     "output_type": "stream",
     "text": [
      "  35   2.47738488e+10  2.47526070e+10  8.68e-02 4.38e-10  1.61e+02     2s\n"
     ]
    },
    {
     "name": "stderr",
     "output_type": "stream",
     "text": [
      "INFO:gurobipy:  35   2.47738488e+10  2.47526070e+10  8.68e-02 4.38e-10  1.61e+02     2s\n"
     ]
    },
    {
     "name": "stdout",
     "output_type": "stream",
     "text": [
      "  36   2.47701383e+10  2.47553032e+10  5.71e-02 3.53e-10  1.12e+02     2s\n"
     ]
    },
    {
     "name": "stderr",
     "output_type": "stream",
     "text": [
      "INFO:gurobipy:  36   2.47701383e+10  2.47553032e+10  5.71e-02 3.53e-10  1.12e+02     2s\n"
     ]
    },
    {
     "name": "stdout",
     "output_type": "stream",
     "text": [
      "  37   2.47678428e+10  2.47580176e+10  3.96e-02 5.97e-10  7.45e+01     2s\n"
     ]
    },
    {
     "name": "stderr",
     "output_type": "stream",
     "text": [
      "INFO:gurobipy:  37   2.47678428e+10  2.47580176e+10  3.96e-02 5.97e-10  7.45e+01     2s\n"
     ]
    },
    {
     "name": "stdout",
     "output_type": "stream",
     "text": [
      "  38   2.47654147e+10  2.47614519e+10  2.09e-02 5.60e-10  3.01e+01     2s\n"
     ]
    },
    {
     "name": "stderr",
     "output_type": "stream",
     "text": [
      "INFO:gurobipy:  38   2.47654147e+10  2.47614519e+10  2.09e-02 5.60e-10  3.01e+01     2s\n"
     ]
    },
    {
     "name": "stdout",
     "output_type": "stream",
     "text": [
      "  39   2.47636096e+10  2.47623194e+10  7.98e-03 8.02e-10  9.80e+00     2s\n"
     ]
    },
    {
     "name": "stderr",
     "output_type": "stream",
     "text": [
      "INFO:gurobipy:  39   2.47636096e+10  2.47623194e+10  7.98e-03 8.02e-10  9.80e+00     2s\n"
     ]
    },
    {
     "name": "stdout",
     "output_type": "stream",
     "text": [
      "  40   2.47626864e+10  2.47624666e+10  1.36e-03 1.00e-09  1.67e+00     2s\n"
     ]
    },
    {
     "name": "stderr",
     "output_type": "stream",
     "text": [
      "INFO:gurobipy:  40   2.47626864e+10  2.47624666e+10  1.36e-03 1.00e-09  1.67e+00     2s\n"
     ]
    },
    {
     "name": "stdout",
     "output_type": "stream",
     "text": [
      "  41   2.47626588e+10  2.47624777e+10  1.16e-03 2.95e-09  1.38e+00     3s\n"
     ]
    },
    {
     "name": "stderr",
     "output_type": "stream",
     "text": [
      "INFO:gurobipy:  41   2.47626588e+10  2.47624777e+10  1.16e-03 2.95e-09  1.38e+00     3s\n"
     ]
    },
    {
     "name": "stdout",
     "output_type": "stream",
     "text": [
      "  42   2.47625089e+10  2.47624952e+10  9.64e-05 1.27e-12  1.05e-01     3s\n"
     ]
    },
    {
     "name": "stderr",
     "output_type": "stream",
     "text": [
      "INFO:gurobipy:  42   2.47625089e+10  2.47624952e+10  9.64e-05 1.27e-12  1.05e-01     3s\n"
     ]
    },
    {
     "name": "stdout",
     "output_type": "stream",
     "text": [
      "  43   2.47624979e+10  2.47624953e+10  1.86e-05 2.50e-09  2.03e-02     3s\n"
     ]
    },
    {
     "name": "stderr",
     "output_type": "stream",
     "text": [
      "INFO:gurobipy:  43   2.47624979e+10  2.47624953e+10  1.86e-05 2.50e-09  2.03e-02     3s\n"
     ]
    },
    {
     "name": "stdout",
     "output_type": "stream",
     "text": [
      "  44   2.47624961e+10  2.47624953e+10  2.30e-05 2.74e-09  6.26e-03     3s\n"
     ]
    },
    {
     "name": "stderr",
     "output_type": "stream",
     "text": [
      "INFO:gurobipy:  44   2.47624961e+10  2.47624953e+10  2.30e-05 2.74e-09  6.26e-03     3s\n"
     ]
    },
    {
     "name": "stdout",
     "output_type": "stream",
     "text": [
      "  45   2.47624953e+10  2.47624953e+10  1.55e-06 1.04e-09  6.26e-06     3s\n"
     ]
    },
    {
     "name": "stderr",
     "output_type": "stream",
     "text": [
      "INFO:gurobipy:  45   2.47624953e+10  2.47624953e+10  1.55e-06 1.04e-09  6.26e-06     3s\n"
     ]
    },
    {
     "name": "stdout",
     "output_type": "stream",
     "text": [
      "  46   2.47624953e+10  2.47624953e+10  1.02e-04 7.19e-09  6.63e-12     3s\n"
     ]
    },
    {
     "name": "stderr",
     "output_type": "stream",
     "text": [
      "INFO:gurobipy:  46   2.47624953e+10  2.47624953e+10  1.02e-04 7.19e-09  6.63e-12     3s\n"
     ]
    },
    {
     "name": "stdout",
     "output_type": "stream",
     "text": [
      "\n"
     ]
    },
    {
     "name": "stderr",
     "output_type": "stream",
     "text": [
      "INFO:gurobipy:\n"
     ]
    },
    {
     "name": "stdout",
     "output_type": "stream",
     "text": [
      "Barrier solved model in 46 iterations and 2.84 seconds (0.89 work units)\n"
     ]
    },
    {
     "name": "stderr",
     "output_type": "stream",
     "text": [
      "INFO:gurobipy:Barrier solved model in 46 iterations and 2.84 seconds (0.89 work units)\n"
     ]
    },
    {
     "name": "stdout",
     "output_type": "stream",
     "text": [
      "Optimal objective 2.47624953e+10\n"
     ]
    },
    {
     "name": "stderr",
     "output_type": "stream",
     "text": [
      "INFO:gurobipy:Optimal objective 2.47624953e+10\n"
     ]
    },
    {
     "name": "stdout",
     "output_type": "stream",
     "text": [
      "\n"
     ]
    },
    {
     "name": "stderr",
     "output_type": "stream",
     "text": [
      "INFO:gurobipy:\n"
     ]
    },
    {
     "name": "stdout",
     "output_type": "stream",
     "text": [
      "Crossover log...\n"
     ]
    },
    {
     "name": "stderr",
     "output_type": "stream",
     "text": [
      "INFO:gurobipy:Crossover log...\n"
     ]
    },
    {
     "name": "stdout",
     "output_type": "stream",
     "text": [
      "\n"
     ]
    },
    {
     "name": "stderr",
     "output_type": "stream",
     "text": [
      "INFO:gurobipy:\n"
     ]
    },
    {
     "name": "stdout",
     "output_type": "stream",
     "text": [
      "   13300 DPushes remaining with DInf 0.0000000e+00                 3s\n"
     ]
    },
    {
     "name": "stderr",
     "output_type": "stream",
     "text": [
      "INFO:gurobipy:   13300 DPushes remaining with DInf 0.0000000e+00                 3s\n"
     ]
    },
    {
     "name": "stdout",
     "output_type": "stream",
     "text": [
      "       0 DPushes remaining with DInf 0.0000000e+00                 3s\n"
     ]
    },
    {
     "name": "stderr",
     "output_type": "stream",
     "text": [
      "INFO:gurobipy:       0 DPushes remaining with DInf 0.0000000e+00                 3s\n"
     ]
    },
    {
     "name": "stdout",
     "output_type": "stream",
     "text": [
      "Warning: Markowitz tolerance tightened to 0.5\n"
     ]
    },
    {
     "name": "stderr",
     "output_type": "stream",
     "text": [
      "INFO:gurobipy:Warning: Markowitz tolerance tightened to 0.5\n"
     ]
    },
    {
     "name": "stdout",
     "output_type": "stream",
     "text": [
      "\n"
     ]
    },
    {
     "name": "stderr",
     "output_type": "stream",
     "text": [
      "INFO:gurobipy:\n"
     ]
    },
    {
     "name": "stdout",
     "output_type": "stream",
     "text": [
      "       0 PPushes remaining with PInf 0.0000000e+00                 3s\n"
     ]
    },
    {
     "name": "stderr",
     "output_type": "stream",
     "text": [
      "INFO:gurobipy:       0 PPushes remaining with PInf 0.0000000e+00                 3s\n"
     ]
    },
    {
     "name": "stdout",
     "output_type": "stream",
     "text": [
      "\n"
     ]
    },
    {
     "name": "stderr",
     "output_type": "stream",
     "text": [
      "INFO:gurobipy:\n"
     ]
    },
    {
     "name": "stdout",
     "output_type": "stream",
     "text": [
      "  Push phase complete: Pinf 0.0000000e+00, Dinf 9.4149166e-09      3s\n"
     ]
    },
    {
     "name": "stderr",
     "output_type": "stream",
     "text": [
      "INFO:gurobipy:  Push phase complete: Pinf 0.0000000e+00, Dinf 9.4149166e-09      3s\n"
     ]
    },
    {
     "name": "stdout",
     "output_type": "stream",
     "text": [
      "\n"
     ]
    },
    {
     "name": "stderr",
     "output_type": "stream",
     "text": [
      "INFO:gurobipy:\n"
     ]
    },
    {
     "name": "stdout",
     "output_type": "stream",
     "text": [
      "\n"
     ]
    },
    {
     "name": "stderr",
     "output_type": "stream",
     "text": [
      "INFO:gurobipy:\n"
     ]
    },
    {
     "name": "stdout",
     "output_type": "stream",
     "text": [
      "Solved with barrier\n"
     ]
    },
    {
     "name": "stderr",
     "output_type": "stream",
     "text": [
      "INFO:gurobipy:Solved with barrier\n"
     ]
    },
    {
     "name": "stdout",
     "output_type": "stream",
     "text": [
      "Extra simplex iterations after uncrush: 3\n"
     ]
    },
    {
     "name": "stderr",
     "output_type": "stream",
     "text": [
      "INFO:gurobipy:Extra simplex iterations after uncrush: 3\n"
     ]
    },
    {
     "name": "stdout",
     "output_type": "stream",
     "text": [
      "Iteration    Objective       Primal Inf.    Dual Inf.      Time\n"
     ]
    },
    {
     "name": "stderr",
     "output_type": "stream",
     "text": [
      "INFO:gurobipy:Iteration    Objective       Primal Inf.    Dual Inf.      Time\n"
     ]
    },
    {
     "name": "stdout",
     "output_type": "stream",
     "text": [
      "   13306    2.4762495e+10   0.000000e+00   0.000000e+00      4s\n"
     ]
    },
    {
     "name": "stderr",
     "output_type": "stream",
     "text": [
      "INFO:gurobipy:   13306    2.4762495e+10   0.000000e+00   0.000000e+00      4s\n"
     ]
    },
    {
     "name": "stdout",
     "output_type": "stream",
     "text": [
      "\n"
     ]
    },
    {
     "name": "stderr",
     "output_type": "stream",
     "text": [
      "INFO:gurobipy:\n"
     ]
    },
    {
     "name": "stdout",
     "output_type": "stream",
     "text": [
      "Solved in 13306 iterations and 4.45 seconds (5.70 work units)\n"
     ]
    },
    {
     "name": "stderr",
     "output_type": "stream",
     "text": [
      "INFO:gurobipy:Solved in 13306 iterations and 4.45 seconds (5.70 work units)\n"
     ]
    },
    {
     "name": "stdout",
     "output_type": "stream",
     "text": [
      "Optimal objective  2.476249527e+10\n"
     ]
    },
    {
     "name": "stderr",
     "output_type": "stream",
     "text": [
      "INFO:gurobipy:Optimal objective  2.476249527e+10\n",
      "INFO:linopy.constants: Optimization successful: \n",
      "Status: ok\n",
      "Termination condition: optimal\n",
      "Solution: 52566 primals, 113887 duals\n",
      "Objective: 2.48e+10\n",
      "Solver model: available\n",
      "Solver message: 2\n",
      "\n",
      "INFO:pypsa.optimization.optimize:The shadow-prices of the constraints Generator-ext-p-lower, Generator-ext-p-upper were not assigned to the network.\n",
      "WARNING:pypsa.consistency:The following buses have carriers which are not defined:\n",
      "Index(['E_busDEU'], dtype='object', name='Bus')\n",
      "INFO:linopy.model: Solve problem using Gurobi solver\n",
      "INFO:linopy.io:Writing objective.\n",
      "Writing constraints.: 100%|\u001b[38;2;128;191;255m██████████\u001b[0m| 6/6 [00:00<00:00,  9.25it/s]\n",
      "Writing continuous variables.: 100%|\u001b[38;2;128;191;255m██████████\u001b[0m| 2/2 [00:00<00:00, 16.94it/s]\n",
      "INFO:linopy.io: Writing time: 0.82s\n"
     ]
    },
    {
     "name": "stdout",
     "output_type": "stream",
     "text": [
      "Set parameter Username\n"
     ]
    },
    {
     "name": "stderr",
     "output_type": "stream",
     "text": [
      "INFO:gurobipy:Set parameter Username\n"
     ]
    },
    {
     "name": "stdout",
     "output_type": "stream",
     "text": [
      "Academic license - for non-commercial use only - expires 2025-09-04\n"
     ]
    },
    {
     "name": "stderr",
     "output_type": "stream",
     "text": [
      "INFO:gurobipy:Academic license - for non-commercial use only - expires 2025-09-04\n"
     ]
    },
    {
     "name": "stdout",
     "output_type": "stream",
     "text": [
      "Read LP format model from file C:\\Users\\alexk\\AppData\\Local\\Temp\\linopy-problem-h82q1r9u.lp\n"
     ]
    },
    {
     "name": "stderr",
     "output_type": "stream",
     "text": [
      "INFO:gurobipy:Read LP format model from file C:\\Users\\alexk\\AppData\\Local\\Temp\\linopy-problem-h82q1r9u.lp\n"
     ]
    },
    {
     "name": "stdout",
     "output_type": "stream",
     "text": [
      "Reading time = 0.26 seconds\n"
     ]
    },
    {
     "name": "stderr",
     "output_type": "stream",
     "text": [
      "INFO:gurobipy:Reading time = 0.26 seconds\n"
     ]
    },
    {
     "name": "stdout",
     "output_type": "stream",
     "text": [
      "obj: 113887 rows, 52566 columns, 219290 nonzeros\n"
     ]
    },
    {
     "name": "stderr",
     "output_type": "stream",
     "text": [
      "INFO:gurobipy:obj: 113887 rows, 52566 columns, 219290 nonzeros\n"
     ]
    },
    {
     "name": "stdout",
     "output_type": "stream",
     "text": [
      "Gurobi Optimizer version 11.0.3 build v11.0.3rc0 (win64 - Windows 11.0 (22631.2))\n"
     ]
    },
    {
     "name": "stderr",
     "output_type": "stream",
     "text": [
      "INFO:gurobipy:Gurobi Optimizer version 11.0.3 build v11.0.3rc0 (win64 - Windows 11.0 (22631.2))\n"
     ]
    },
    {
     "name": "stdout",
     "output_type": "stream",
     "text": [
      "\n"
     ]
    },
    {
     "name": "stderr",
     "output_type": "stream",
     "text": [
      "INFO:gurobipy:\n"
     ]
    },
    {
     "name": "stdout",
     "output_type": "stream",
     "text": [
      "CPU model: AMD Ryzen 5 4600H with Radeon Graphics, instruction set [SSE2|AVX|AVX2]\n"
     ]
    },
    {
     "name": "stderr",
     "output_type": "stream",
     "text": [
      "INFO:gurobipy:CPU model: AMD Ryzen 5 4600H with Radeon Graphics, instruction set [SSE2|AVX|AVX2]\n"
     ]
    },
    {
     "name": "stdout",
     "output_type": "stream",
     "text": [
      "Thread count: 6 physical cores, 12 logical processors, using up to 12 threads\n"
     ]
    },
    {
     "name": "stderr",
     "output_type": "stream",
     "text": [
      "INFO:gurobipy:Thread count: 6 physical cores, 12 logical processors, using up to 12 threads\n"
     ]
    },
    {
     "name": "stdout",
     "output_type": "stream",
     "text": [
      "\n"
     ]
    },
    {
     "name": "stderr",
     "output_type": "stream",
     "text": [
      "INFO:gurobipy:\n"
     ]
    },
    {
     "name": "stdout",
     "output_type": "stream",
     "text": [
      "Optimize a model with 113887 rows, 52566 columns and 219290 nonzeros\n"
     ]
    },
    {
     "name": "stderr",
     "output_type": "stream",
     "text": [
      "INFO:gurobipy:Optimize a model with 113887 rows, 52566 columns and 219290 nonzeros\n"
     ]
    },
    {
     "name": "stdout",
     "output_type": "stream",
     "text": [
      "Model fingerprint: 0xdc957b80\n"
     ]
    },
    {
     "name": "stderr",
     "output_type": "stream",
     "text": [
      "INFO:gurobipy:Model fingerprint: 0xdc957b80\n"
     ]
    },
    {
     "name": "stdout",
     "output_type": "stream",
     "text": [
      "Coefficient statistics:\n"
     ]
    },
    {
     "name": "stderr",
     "output_type": "stream",
     "text": [
      "INFO:gurobipy:Coefficient statistics:\n"
     ]
    },
    {
     "name": "stdout",
     "output_type": "stream",
     "text": [
      "  Matrix range     [1e-03, 3e+00]\n"
     ]
    },
    {
     "name": "stderr",
     "output_type": "stream",
     "text": [
      "INFO:gurobipy:  Matrix range     [1e-03, 3e+00]\n"
     ]
    },
    {
     "name": "stdout",
     "output_type": "stream",
     "text": [
      "  Objective range  [1e+01, 3e+05]\n"
     ]
    },
    {
     "name": "stderr",
     "output_type": "stream",
     "text": [
      "INFO:gurobipy:  Objective range  [1e+01, 3e+05]\n"
     ]
    },
    {
     "name": "stdout",
     "output_type": "stream",
     "text": [
      "  Bounds range     [0e+00, 0e+00]\n"
     ]
    },
    {
     "name": "stderr",
     "output_type": "stream",
     "text": [
      "INFO:gurobipy:  Bounds range     [0e+00, 0e+00]\n"
     ]
    },
    {
     "name": "stdout",
     "output_type": "stream",
     "text": [
      "  RHS range        [4e+04, 5e+08]\n"
     ]
    },
    {
     "name": "stderr",
     "output_type": "stream",
     "text": [
      "INFO:gurobipy:  RHS range        [4e+04, 5e+08]\n"
     ]
    },
    {
     "name": "stdout",
     "output_type": "stream",
     "text": [
      "Presolve removed 61042 rows and 8476 columns\n"
     ]
    },
    {
     "name": "stderr",
     "output_type": "stream",
     "text": [
      "INFO:gurobipy:Presolve removed 61042 rows and 8476 columns\n"
     ]
    },
    {
     "name": "stdout",
     "output_type": "stream",
     "text": [
      "Presolve time: 0.13s\n"
     ]
    },
    {
     "name": "stderr",
     "output_type": "stream",
     "text": [
      "INFO:gurobipy:Presolve time: 0.13s\n"
     ]
    },
    {
     "name": "stdout",
     "output_type": "stream",
     "text": [
      "Presolved: 52845 rows, 44090 columns, 149772 nonzeros\n"
     ]
    },
    {
     "name": "stderr",
     "output_type": "stream",
     "text": [
      "INFO:gurobipy:Presolved: 52845 rows, 44090 columns, 149772 nonzeros\n"
     ]
    },
    {
     "name": "stdout",
     "output_type": "stream",
     "text": [
      "\n"
     ]
    },
    {
     "name": "stderr",
     "output_type": "stream",
     "text": [
      "INFO:gurobipy:\n"
     ]
    },
    {
     "name": "stdout",
     "output_type": "stream",
     "text": [
      "Concurrent LP optimizer: primal simplex, dual simplex, and barrier\n"
     ]
    },
    {
     "name": "stderr",
     "output_type": "stream",
     "text": [
      "INFO:gurobipy:Concurrent LP optimizer: primal simplex, dual simplex, and barrier\n"
     ]
    },
    {
     "name": "stdout",
     "output_type": "stream",
     "text": [
      "Showing barrier log only...\n"
     ]
    },
    {
     "name": "stderr",
     "output_type": "stream",
     "text": [
      "INFO:gurobipy:Showing barrier log only...\n"
     ]
    },
    {
     "name": "stdout",
     "output_type": "stream",
     "text": [
      "\n"
     ]
    },
    {
     "name": "stderr",
     "output_type": "stream",
     "text": [
      "INFO:gurobipy:\n"
     ]
    },
    {
     "name": "stdout",
     "output_type": "stream",
     "text": [
      "Ordering time: 0.02s\n"
     ]
    },
    {
     "name": "stderr",
     "output_type": "stream",
     "text": [
      "INFO:gurobipy:Ordering time: 0.02s\n"
     ]
    },
    {
     "name": "stdout",
     "output_type": "stream",
     "text": [
      "\n"
     ]
    },
    {
     "name": "stderr",
     "output_type": "stream",
     "text": [
      "INFO:gurobipy:\n"
     ]
    },
    {
     "name": "stdout",
     "output_type": "stream",
     "text": [
      "Barrier statistics:\n"
     ]
    },
    {
     "name": "stderr",
     "output_type": "stream",
     "text": [
      "INFO:gurobipy:Barrier statistics:\n"
     ]
    },
    {
     "name": "stdout",
     "output_type": "stream",
     "text": [
      " Dense cols : 6\n"
     ]
    },
    {
     "name": "stderr",
     "output_type": "stream",
     "text": [
      "INFO:gurobipy: Dense cols : 6\n"
     ]
    },
    {
     "name": "stdout",
     "output_type": "stream",
     "text": [
      " AA' NZ     : 1.144e+05\n"
     ]
    },
    {
     "name": "stderr",
     "output_type": "stream",
     "text": [
      "INFO:gurobipy: AA' NZ     : 1.144e+05\n"
     ]
    },
    {
     "name": "stdout",
     "output_type": "stream",
     "text": [
      " Factor NZ  : 5.178e+05 (roughly 40 MB of memory)\n"
     ]
    },
    {
     "name": "stderr",
     "output_type": "stream",
     "text": [
      "INFO:gurobipy: Factor NZ  : 5.178e+05 (roughly 40 MB of memory)\n"
     ]
    },
    {
     "name": "stdout",
     "output_type": "stream",
     "text": [
      " Factor Ops : 5.355e+06 (less than 1 second per iteration)\n"
     ]
    },
    {
     "name": "stderr",
     "output_type": "stream",
     "text": [
      "INFO:gurobipy: Factor Ops : 5.355e+06 (less than 1 second per iteration)\n"
     ]
    },
    {
     "name": "stdout",
     "output_type": "stream",
     "text": [
      " Threads    : 4\n"
     ]
    },
    {
     "name": "stderr",
     "output_type": "stream",
     "text": [
      "INFO:gurobipy: Threads    : 4\n"
     ]
    },
    {
     "name": "stdout",
     "output_type": "stream",
     "text": [
      "\n"
     ]
    },
    {
     "name": "stderr",
     "output_type": "stream",
     "text": [
      "INFO:gurobipy:\n"
     ]
    },
    {
     "name": "stdout",
     "output_type": "stream",
     "text": [
      "                  Objective                Residual\n"
     ]
    },
    {
     "name": "stderr",
     "output_type": "stream",
     "text": [
      "INFO:gurobipy:                  Objective                Residual\n"
     ]
    },
    {
     "name": "stdout",
     "output_type": "stream",
     "text": [
      "Iter       Primal          Dual         Primal    Dual     Compl     Time\n"
     ]
    },
    {
     "name": "stderr",
     "output_type": "stream",
     "text": [
      "INFO:gurobipy:Iter       Primal          Dual         Primal    Dual     Compl     Time\n"
     ]
    },
    {
     "name": "stdout",
     "output_type": "stream",
     "text": [
      "   0   8.75351082e+12  0.00000000e+00  4.65e+10 0.00e+00  5.42e+09     0s\n"
     ]
    },
    {
     "name": "stderr",
     "output_type": "stream",
     "text": [
      "INFO:gurobipy:   0   8.75351082e+12  0.00000000e+00  4.65e+10 0.00e+00  5.42e+09     0s\n"
     ]
    },
    {
     "name": "stdout",
     "output_type": "stream",
     "text": [
      "   1   1.23569960e+13 -1.38036093e+12  7.28e+09 2.94e+02  1.07e+09     0s\n"
     ]
    },
    {
     "name": "stderr",
     "output_type": "stream",
     "text": [
      "INFO:gurobipy:   1   1.23569960e+13 -1.38036093e+12  7.28e+09 2.94e+02  1.07e+09     0s\n"
     ]
    },
    {
     "name": "stdout",
     "output_type": "stream",
     "text": [
      "   2   8.05334321e+12 -1.66808956e+12  2.36e+08 1.94e-09  8.68e+07     0s\n"
     ]
    },
    {
     "name": "stderr",
     "output_type": "stream",
     "text": [
      "INFO:gurobipy:   2   8.05334321e+12 -1.66808956e+12  2.36e+08 1.94e-09  8.68e+07     0s\n"
     ]
    },
    {
     "name": "stdout",
     "output_type": "stream",
     "text": [
      "   3   1.22555257e+12 -6.20423631e+11  3.12e+07 1.90e-09  1.48e+07     0s\n"
     ]
    },
    {
     "name": "stderr",
     "output_type": "stream",
     "text": [
      "INFO:gurobipy:   3   1.22555257e+12 -6.20423631e+11  3.12e+07 1.90e-09  1.48e+07     0s\n"
     ]
    },
    {
     "name": "stdout",
     "output_type": "stream",
     "text": [
      "   4   4.09279975e+11 -2.19650871e+11  3.20e+03 1.92e-09  4.87e+06     0s\n"
     ]
    },
    {
     "name": "stderr",
     "output_type": "stream",
     "text": [
      "INFO:gurobipy:   4   4.09279975e+11 -2.19650871e+11  3.20e+03 1.92e-09  4.87e+06     0s\n"
     ]
    },
    {
     "name": "stdout",
     "output_type": "stream",
     "text": [
      "   5   1.34698925e+11 -8.09398053e+10  8.18e+02 1.02e-09  1.65e+06     1s\n"
     ]
    },
    {
     "name": "stderr",
     "output_type": "stream",
     "text": [
      "INFO:gurobipy:   5   1.34698925e+11 -8.09398053e+10  8.18e+02 1.02e-09  1.65e+06     1s\n"
     ]
    },
    {
     "name": "stdout",
     "output_type": "stream",
     "text": [
      "   6   7.55472672e+10 -1.45243908e+10  3.67e+02 3.53e-09  6.86e+05     1s\n"
     ]
    },
    {
     "name": "stderr",
     "output_type": "stream",
     "text": [
      "INFO:gurobipy:   6   7.55472672e+10 -1.45243908e+10  3.67e+02 3.53e-09  6.86e+05     1s\n"
     ]
    },
    {
     "name": "stdout",
     "output_type": "stream",
     "text": [
      "   7   4.95973143e+10  7.51276649e+09  1.75e+02 2.49e-10  3.20e+05     1s\n"
     ]
    },
    {
     "name": "stderr",
     "output_type": "stream",
     "text": [
      "INFO:gurobipy:   7   4.95973143e+10  7.51276649e+09  1.75e+02 2.49e-10  3.20e+05     1s\n"
     ]
    },
    {
     "name": "stdout",
     "output_type": "stream",
     "text": [
      "   8   4.77092331e+10  1.32276221e+10  1.61e+02 2.87e-10  2.62e+05     1s\n"
     ]
    },
    {
     "name": "stderr",
     "output_type": "stream",
     "text": [
      "INFO:gurobipy:   8   4.77092331e+10  1.32276221e+10  1.61e+02 2.87e-10  2.62e+05     1s\n"
     ]
    },
    {
     "name": "stdout",
     "output_type": "stream",
     "text": [
      "   9   4.28503233e+10  1.70165313e+10  1.29e+02 1.79e-09  1.96e+05     1s\n"
     ]
    },
    {
     "name": "stderr",
     "output_type": "stream",
     "text": [
      "INFO:gurobipy:   9   4.28503233e+10  1.70165313e+10  1.29e+02 1.79e-09  1.96e+05     1s\n"
     ]
    },
    {
     "name": "stdout",
     "output_type": "stream",
     "text": [
      "  10   3.45428185e+10  2.12069046e+10  6.30e+01 3.67e-10  1.01e+05     1s\n"
     ]
    },
    {
     "name": "stderr",
     "output_type": "stream",
     "text": [
      "INFO:gurobipy:  10   3.45428185e+10  2.12069046e+10  6.30e+01 3.67e-10  1.01e+05     1s\n"
     ]
    },
    {
     "name": "stdout",
     "output_type": "stream",
     "text": [
      "  11   3.06063494e+10  2.31300377e+10  3.12e+01 1.14e-09  5.68e+04     1s\n"
     ]
    },
    {
     "name": "stderr",
     "output_type": "stream",
     "text": [
      "INFO:gurobipy:  11   3.06063494e+10  2.31300377e+10  3.12e+01 1.14e-09  5.68e+04     1s\n"
     ]
    },
    {
     "name": "stdout",
     "output_type": "stream",
     "text": [
      "  12   2.87656881e+10  2.41848134e+10  1.68e+01 8.11e-10  3.47e+04     1s\n"
     ]
    },
    {
     "name": "stderr",
     "output_type": "stream",
     "text": [
      "INFO:gurobipy:  12   2.87656881e+10  2.41848134e+10  1.68e+01 8.11e-10  3.47e+04     1s\n"
     ]
    },
    {
     "name": "stdout",
     "output_type": "stream",
     "text": [
      "  13   2.76641994e+10  2.50152497e+10  8.87e+00 1.27e-09  2.01e+04     1s\n"
     ]
    },
    {
     "name": "stderr",
     "output_type": "stream",
     "text": [
      "INFO:gurobipy:  13   2.76641994e+10  2.50152497e+10  8.87e+00 1.27e-09  2.01e+04     1s\n"
     ]
    },
    {
     "name": "stdout",
     "output_type": "stream",
     "text": [
      "  14   2.74076260e+10  2.57011540e+10  7.19e+00 3.58e-10  1.29e+04     1s\n"
     ]
    },
    {
     "name": "stderr",
     "output_type": "stream",
     "text": [
      "INFO:gurobipy:  14   2.74076260e+10  2.57011540e+10  7.19e+00 3.58e-10  1.29e+04     1s\n"
     ]
    },
    {
     "name": "stdout",
     "output_type": "stream",
     "text": [
      "  15   2.68880600e+10  2.59635873e+10  3.79e+00 7.49e-10  7.01e+03     1s\n"
     ]
    },
    {
     "name": "stderr",
     "output_type": "stream",
     "text": [
      "INFO:gurobipy:  15   2.68880600e+10  2.59635873e+10  3.79e+00 7.49e-10  7.01e+03     1s\n"
     ]
    },
    {
     "name": "stdout",
     "output_type": "stream",
     "text": [
      "  16   2.64727555e+10  2.61886085e+10  1.16e+00 1.02e-09  2.16e+03     1s\n"
     ]
    },
    {
     "name": "stderr",
     "output_type": "stream",
     "text": [
      "INFO:gurobipy:  16   2.64727555e+10  2.61886085e+10  1.16e+00 1.02e-09  2.16e+03     1s\n"
     ]
    },
    {
     "name": "stdout",
     "output_type": "stream",
     "text": [
      "  17   2.63159719e+10  2.62544047e+10  2.05e-01 2.07e-10  4.67e+02     1s\n"
     ]
    },
    {
     "name": "stderr",
     "output_type": "stream",
     "text": [
      "INFO:gurobipy:  17   2.63159719e+10  2.62544047e+10  2.05e-01 2.07e-10  4.67e+02     1s\n"
     ]
    },
    {
     "name": "stdout",
     "output_type": "stream",
     "text": [
      "  18   2.62874841e+10  2.62734097e+10  4.95e-02 2.48e-09  1.07e+02     2s\n"
     ]
    },
    {
     "name": "stderr",
     "output_type": "stream",
     "text": [
      "INFO:gurobipy:  18   2.62874841e+10  2.62734097e+10  4.95e-02 2.48e-09  1.07e+02     2s\n"
     ]
    },
    {
     "name": "stdout",
     "output_type": "stream",
     "text": [
      "  19   2.62797136e+10  2.62750336e+10  9.28e-03 1.91e-09  3.54e+01     2s\n"
     ]
    },
    {
     "name": "stderr",
     "output_type": "stream",
     "text": [
      "INFO:gurobipy:  19   2.62797136e+10  2.62750336e+10  9.28e-03 1.91e-09  3.54e+01     2s\n"
     ]
    },
    {
     "name": "stdout",
     "output_type": "stream",
     "text": [
      "  20   2.62783230e+10  2.62773524e+10  2.77e-03 7.38e-10  7.35e+00     2s\n"
     ]
    },
    {
     "name": "stderr",
     "output_type": "stream",
     "text": [
      "INFO:gurobipy:  20   2.62783230e+10  2.62773524e+10  2.77e-03 7.38e-10  7.35e+00     2s\n"
     ]
    },
    {
     "name": "stdout",
     "output_type": "stream",
     "text": [
      "  21   2.62777135e+10  2.62775099e+10  1.29e-04 2.66e-10  1.54e+00     2s\n"
     ]
    },
    {
     "name": "stderr",
     "output_type": "stream",
     "text": [
      "INFO:gurobipy:  21   2.62777135e+10  2.62775099e+10  1.29e-04 2.66e-10  1.54e+00     2s\n"
     ]
    },
    {
     "name": "stdout",
     "output_type": "stream",
     "text": [
      "  22   2.62776827e+10  2.62776782e+10  5.43e-06 3.50e-09  3.41e-02     2s\n"
     ]
    },
    {
     "name": "stderr",
     "output_type": "stream",
     "text": [
      "INFO:gurobipy:  22   2.62776827e+10  2.62776782e+10  5.43e-06 3.50e-09  3.41e-02     2s\n"
     ]
    },
    {
     "name": "stdout",
     "output_type": "stream",
     "text": [
      "  23   2.62776811e+10  2.62776810e+10  3.59e-06 8.61e-09  8.20e-04     2s\n"
     ]
    },
    {
     "name": "stderr",
     "output_type": "stream",
     "text": [
      "INFO:gurobipy:  23   2.62776811e+10  2.62776810e+10  3.59e-06 8.61e-09  8.20e-04     2s\n"
     ]
    },
    {
     "name": "stdout",
     "output_type": "stream",
     "text": [
      "  24   2.62776811e+10  2.62776811e+10  3.45e-06 2.97e-10  7.70e-06     2s\n"
     ]
    },
    {
     "name": "stderr",
     "output_type": "stream",
     "text": [
      "INFO:gurobipy:  24   2.62776811e+10  2.62776811e+10  3.45e-06 2.97e-10  7.70e-06     2s\n"
     ]
    },
    {
     "name": "stdout",
     "output_type": "stream",
     "text": [
      "  25   2.62776811e+10  2.62776811e+10  3.06e-08 2.27e-09  1.18e-09     2s\n"
     ]
    },
    {
     "name": "stderr",
     "output_type": "stream",
     "text": [
      "INFO:gurobipy:  25   2.62776811e+10  2.62776811e+10  3.06e-08 2.27e-09  1.18e-09     2s\n"
     ]
    },
    {
     "name": "stdout",
     "output_type": "stream",
     "text": [
      "\n"
     ]
    },
    {
     "name": "stderr",
     "output_type": "stream",
     "text": [
      "INFO:gurobipy:\n"
     ]
    },
    {
     "name": "stdout",
     "output_type": "stream",
     "text": [
      "Barrier solved model in 25 iterations and 2.31 seconds (0.54 work units)\n"
     ]
    },
    {
     "name": "stderr",
     "output_type": "stream",
     "text": [
      "INFO:gurobipy:Barrier solved model in 25 iterations and 2.31 seconds (0.54 work units)\n"
     ]
    },
    {
     "name": "stdout",
     "output_type": "stream",
     "text": [
      "Optimal objective 2.62776811e+10\n"
     ]
    },
    {
     "name": "stderr",
     "output_type": "stream",
     "text": [
      "INFO:gurobipy:Optimal objective 2.62776811e+10\n"
     ]
    },
    {
     "name": "stdout",
     "output_type": "stream",
     "text": [
      "\n"
     ]
    },
    {
     "name": "stderr",
     "output_type": "stream",
     "text": [
      "INFO:gurobipy:\n"
     ]
    },
    {
     "name": "stdout",
     "output_type": "stream",
     "text": [
      "Crossover log...\n"
     ]
    },
    {
     "name": "stderr",
     "output_type": "stream",
     "text": [
      "INFO:gurobipy:Crossover log...\n"
     ]
    },
    {
     "name": "stdout",
     "output_type": "stream",
     "text": [
      "\n"
     ]
    },
    {
     "name": "stderr",
     "output_type": "stream",
     "text": [
      "INFO:gurobipy:\n"
     ]
    },
    {
     "name": "stdout",
     "output_type": "stream",
     "text": [
      "   13301 DPushes remaining with DInf 0.0000000e+00                 2s\n"
     ]
    },
    {
     "name": "stderr",
     "output_type": "stream",
     "text": [
      "INFO:gurobipy:   13301 DPushes remaining with DInf 0.0000000e+00                 2s\n"
     ]
    },
    {
     "name": "stdout",
     "output_type": "stream",
     "text": [
      "       0 DPushes remaining with DInf 0.0000000e+00                 3s\n"
     ]
    },
    {
     "name": "stderr",
     "output_type": "stream",
     "text": [
      "INFO:gurobipy:       0 DPushes remaining with DInf 0.0000000e+00                 3s\n"
     ]
    },
    {
     "name": "stdout",
     "output_type": "stream",
     "text": [
      "Warning: Markowitz tolerance tightened to 0.5\n"
     ]
    },
    {
     "name": "stderr",
     "output_type": "stream",
     "text": [
      "INFO:gurobipy:Warning: Markowitz tolerance tightened to 0.5\n"
     ]
    },
    {
     "name": "stdout",
     "output_type": "stream",
     "text": [
      "\n"
     ]
    },
    {
     "name": "stderr",
     "output_type": "stream",
     "text": [
      "INFO:gurobipy:\n"
     ]
    },
    {
     "name": "stdout",
     "output_type": "stream",
     "text": [
      "     214 PPushes remaining with PInf 0.0000000e+00                 3s\n"
     ]
    },
    {
     "name": "stderr",
     "output_type": "stream",
     "text": [
      "INFO:gurobipy:     214 PPushes remaining with PInf 0.0000000e+00                 3s\n"
     ]
    },
    {
     "name": "stdout",
     "output_type": "stream",
     "text": [
      "       0 PPushes remaining with PInf 0.0000000e+00                 3s\n"
     ]
    },
    {
     "name": "stderr",
     "output_type": "stream",
     "text": [
      "INFO:gurobipy:       0 PPushes remaining with PInf 0.0000000e+00                 3s\n"
     ]
    },
    {
     "name": "stdout",
     "output_type": "stream",
     "text": [
      "\n"
     ]
    },
    {
     "name": "stderr",
     "output_type": "stream",
     "text": [
      "INFO:gurobipy:\n"
     ]
    },
    {
     "name": "stdout",
     "output_type": "stream",
     "text": [
      "  Push phase complete: Pinf 0.0000000e+00, Dinf 1.5862143e-08      3s\n"
     ]
    },
    {
     "name": "stderr",
     "output_type": "stream",
     "text": [
      "INFO:gurobipy:  Push phase complete: Pinf 0.0000000e+00, Dinf 1.5862143e-08      3s\n"
     ]
    },
    {
     "name": "stdout",
     "output_type": "stream",
     "text": [
      "\n"
     ]
    },
    {
     "name": "stderr",
     "output_type": "stream",
     "text": [
      "INFO:gurobipy:\n"
     ]
    },
    {
     "name": "stdout",
     "output_type": "stream",
     "text": [
      "\n"
     ]
    },
    {
     "name": "stderr",
     "output_type": "stream",
     "text": [
      "INFO:gurobipy:\n"
     ]
    },
    {
     "name": "stdout",
     "output_type": "stream",
     "text": [
      "Solved with barrier\n"
     ]
    },
    {
     "name": "stderr",
     "output_type": "stream",
     "text": [
      "INFO:gurobipy:Solved with barrier\n"
     ]
    },
    {
     "name": "stdout",
     "output_type": "stream",
     "text": [
      "Extra simplex iterations after uncrush: 3\n"
     ]
    },
    {
     "name": "stderr",
     "output_type": "stream",
     "text": [
      "INFO:gurobipy:Extra simplex iterations after uncrush: 3\n"
     ]
    },
    {
     "name": "stdout",
     "output_type": "stream",
     "text": [
      "Iteration    Objective       Primal Inf.    Dual Inf.      Time\n"
     ]
    },
    {
     "name": "stderr",
     "output_type": "stream",
     "text": [
      "INFO:gurobipy:Iteration    Objective       Primal Inf.    Dual Inf.      Time\n"
     ]
    },
    {
     "name": "stdout",
     "output_type": "stream",
     "text": [
      "   13040    2.6277681e+10   0.000000e+00   0.000000e+00      5s\n"
     ]
    },
    {
     "name": "stderr",
     "output_type": "stream",
     "text": [
      "INFO:gurobipy:   13040    2.6277681e+10   0.000000e+00   0.000000e+00      5s\n"
     ]
    },
    {
     "name": "stdout",
     "output_type": "stream",
     "text": [
      "\n"
     ]
    },
    {
     "name": "stderr",
     "output_type": "stream",
     "text": [
      "INFO:gurobipy:\n"
     ]
    },
    {
     "name": "stdout",
     "output_type": "stream",
     "text": [
      "Solved in 13040 iterations and 4.59 seconds (6.22 work units)\n"
     ]
    },
    {
     "name": "stderr",
     "output_type": "stream",
     "text": [
      "INFO:gurobipy:Solved in 13040 iterations and 4.59 seconds (6.22 work units)\n"
     ]
    },
    {
     "name": "stdout",
     "output_type": "stream",
     "text": [
      "Optimal objective  2.627768113e+10\n"
     ]
    },
    {
     "name": "stderr",
     "output_type": "stream",
     "text": [
      "INFO:gurobipy:Optimal objective  2.627768113e+10\n",
      "INFO:linopy.constants: Optimization successful: \n",
      "Status: ok\n",
      "Termination condition: optimal\n",
      "Solution: 52566 primals, 113887 duals\n",
      "Objective: 2.63e+10\n",
      "Solver model: available\n",
      "Solver message: 2\n",
      "\n",
      "INFO:pypsa.optimization.optimize:The shadow-prices of the constraints Generator-ext-p-lower, Generator-ext-p-upper were not assigned to the network.\n",
      "WARNING:pypsa.consistency:The following buses have carriers which are not defined:\n",
      "Index(['E_busDEU'], dtype='object', name='Bus')\n",
      "INFO:linopy.model: Solve problem using Gurobi solver\n",
      "INFO:linopy.io:Writing objective.\n",
      "Writing constraints.: 100%|\u001b[38;2;128;191;255m██████████\u001b[0m| 6/6 [00:00<00:00,  7.60it/s]\n",
      "Writing continuous variables.: 100%|\u001b[38;2;128;191;255m██████████\u001b[0m| 2/2 [00:00<00:00, 15.14it/s]\n",
      "INFO:linopy.io: Writing time: 0.98s\n"
     ]
    },
    {
     "name": "stdout",
     "output_type": "stream",
     "text": [
      "Set parameter Username\n"
     ]
    },
    {
     "name": "stderr",
     "output_type": "stream",
     "text": [
      "INFO:gurobipy:Set parameter Username\n"
     ]
    },
    {
     "name": "stdout",
     "output_type": "stream",
     "text": [
      "Academic license - for non-commercial use only - expires 2025-09-04\n"
     ]
    },
    {
     "name": "stderr",
     "output_type": "stream",
     "text": [
      "INFO:gurobipy:Academic license - for non-commercial use only - expires 2025-09-04\n"
     ]
    },
    {
     "name": "stdout",
     "output_type": "stream",
     "text": [
      "Read LP format model from file C:\\Users\\alexk\\AppData\\Local\\Temp\\linopy-problem-__5prps_.lp\n"
     ]
    },
    {
     "name": "stderr",
     "output_type": "stream",
     "text": [
      "INFO:gurobipy:Read LP format model from file C:\\Users\\alexk\\AppData\\Local\\Temp\\linopy-problem-__5prps_.lp\n"
     ]
    },
    {
     "name": "stdout",
     "output_type": "stream",
     "text": [
      "Reading time = 0.27 seconds\n"
     ]
    },
    {
     "name": "stderr",
     "output_type": "stream",
     "text": [
      "INFO:gurobipy:Reading time = 0.27 seconds\n"
     ]
    },
    {
     "name": "stdout",
     "output_type": "stream",
     "text": [
      "obj: 113887 rows, 52566 columns, 219290 nonzeros\n"
     ]
    },
    {
     "name": "stderr",
     "output_type": "stream",
     "text": [
      "INFO:gurobipy:obj: 113887 rows, 52566 columns, 219290 nonzeros\n"
     ]
    },
    {
     "name": "stdout",
     "output_type": "stream",
     "text": [
      "Gurobi Optimizer version 11.0.3 build v11.0.3rc0 (win64 - Windows 11.0 (22631.2))\n"
     ]
    },
    {
     "name": "stderr",
     "output_type": "stream",
     "text": [
      "INFO:gurobipy:Gurobi Optimizer version 11.0.3 build v11.0.3rc0 (win64 - Windows 11.0 (22631.2))\n"
     ]
    },
    {
     "name": "stdout",
     "output_type": "stream",
     "text": [
      "\n"
     ]
    },
    {
     "name": "stderr",
     "output_type": "stream",
     "text": [
      "INFO:gurobipy:\n"
     ]
    },
    {
     "name": "stdout",
     "output_type": "stream",
     "text": [
      "CPU model: AMD Ryzen 5 4600H with Radeon Graphics, instruction set [SSE2|AVX|AVX2]\n"
     ]
    },
    {
     "name": "stderr",
     "output_type": "stream",
     "text": [
      "INFO:gurobipy:CPU model: AMD Ryzen 5 4600H with Radeon Graphics, instruction set [SSE2|AVX|AVX2]\n"
     ]
    },
    {
     "name": "stdout",
     "output_type": "stream",
     "text": [
      "Thread count: 6 physical cores, 12 logical processors, using up to 12 threads\n"
     ]
    },
    {
     "name": "stderr",
     "output_type": "stream",
     "text": [
      "INFO:gurobipy:Thread count: 6 physical cores, 12 logical processors, using up to 12 threads\n"
     ]
    },
    {
     "name": "stdout",
     "output_type": "stream",
     "text": [
      "\n"
     ]
    },
    {
     "name": "stderr",
     "output_type": "stream",
     "text": [
      "INFO:gurobipy:\n"
     ]
    },
    {
     "name": "stdout",
     "output_type": "stream",
     "text": [
      "Optimize a model with 113887 rows, 52566 columns and 219290 nonzeros\n"
     ]
    },
    {
     "name": "stderr",
     "output_type": "stream",
     "text": [
      "INFO:gurobipy:Optimize a model with 113887 rows, 52566 columns and 219290 nonzeros\n"
     ]
    },
    {
     "name": "stdout",
     "output_type": "stream",
     "text": [
      "Model fingerprint: 0x43da828b\n"
     ]
    },
    {
     "name": "stderr",
     "output_type": "stream",
     "text": [
      "INFO:gurobipy:Model fingerprint: 0x43da828b\n"
     ]
    },
    {
     "name": "stdout",
     "output_type": "stream",
     "text": [
      "Coefficient statistics:\n"
     ]
    },
    {
     "name": "stderr",
     "output_type": "stream",
     "text": [
      "INFO:gurobipy:Coefficient statistics:\n"
     ]
    },
    {
     "name": "stdout",
     "output_type": "stream",
     "text": [
      "  Matrix range     [1e-03, 3e+00]\n"
     ]
    },
    {
     "name": "stderr",
     "output_type": "stream",
     "text": [
      "INFO:gurobipy:  Matrix range     [1e-03, 3e+00]\n"
     ]
    },
    {
     "name": "stdout",
     "output_type": "stream",
     "text": [
      "  Objective range  [1e+01, 3e+05]\n"
     ]
    },
    {
     "name": "stderr",
     "output_type": "stream",
     "text": [
      "INFO:gurobipy:  Objective range  [1e+01, 3e+05]\n"
     ]
    },
    {
     "name": "stdout",
     "output_type": "stream",
     "text": [
      "  Bounds range     [0e+00, 0e+00]\n"
     ]
    },
    {
     "name": "stderr",
     "output_type": "stream",
     "text": [
      "INFO:gurobipy:  Bounds range     [0e+00, 0e+00]\n"
     ]
    },
    {
     "name": "stdout",
     "output_type": "stream",
     "text": [
      "  RHS range        [4e+04, 3e+08]\n"
     ]
    },
    {
     "name": "stderr",
     "output_type": "stream",
     "text": [
      "INFO:gurobipy:  RHS range        [4e+04, 3e+08]\n"
     ]
    },
    {
     "name": "stdout",
     "output_type": "stream",
     "text": [
      "Presolve removed 61042 rows and 8476 columns\n"
     ]
    },
    {
     "name": "stderr",
     "output_type": "stream",
     "text": [
      "INFO:gurobipy:Presolve removed 61042 rows and 8476 columns\n"
     ]
    },
    {
     "name": "stdout",
     "output_type": "stream",
     "text": [
      "Presolve time: 0.11s\n"
     ]
    },
    {
     "name": "stderr",
     "output_type": "stream",
     "text": [
      "INFO:gurobipy:Presolve time: 0.11s\n"
     ]
    },
    {
     "name": "stdout",
     "output_type": "stream",
     "text": [
      "Presolved: 52845 rows, 44090 columns, 149772 nonzeros\n"
     ]
    },
    {
     "name": "stderr",
     "output_type": "stream",
     "text": [
      "INFO:gurobipy:Presolved: 52845 rows, 44090 columns, 149772 nonzeros\n"
     ]
    },
    {
     "name": "stdout",
     "output_type": "stream",
     "text": [
      "\n"
     ]
    },
    {
     "name": "stderr",
     "output_type": "stream",
     "text": [
      "INFO:gurobipy:\n"
     ]
    },
    {
     "name": "stdout",
     "output_type": "stream",
     "text": [
      "Concurrent LP optimizer: primal simplex, dual simplex, and barrier\n"
     ]
    },
    {
     "name": "stderr",
     "output_type": "stream",
     "text": [
      "INFO:gurobipy:Concurrent LP optimizer: primal simplex, dual simplex, and barrier\n"
     ]
    },
    {
     "name": "stdout",
     "output_type": "stream",
     "text": [
      "Showing barrier log only...\n"
     ]
    },
    {
     "name": "stderr",
     "output_type": "stream",
     "text": [
      "INFO:gurobipy:Showing barrier log only...\n"
     ]
    },
    {
     "name": "stdout",
     "output_type": "stream",
     "text": [
      "\n"
     ]
    },
    {
     "name": "stderr",
     "output_type": "stream",
     "text": [
      "INFO:gurobipy:\n"
     ]
    },
    {
     "name": "stdout",
     "output_type": "stream",
     "text": [
      "Ordering time: 0.01s\n"
     ]
    },
    {
     "name": "stderr",
     "output_type": "stream",
     "text": [
      "INFO:gurobipy:Ordering time: 0.01s\n"
     ]
    },
    {
     "name": "stdout",
     "output_type": "stream",
     "text": [
      "\n"
     ]
    },
    {
     "name": "stderr",
     "output_type": "stream",
     "text": [
      "INFO:gurobipy:\n"
     ]
    },
    {
     "name": "stdout",
     "output_type": "stream",
     "text": [
      "Barrier statistics:\n"
     ]
    },
    {
     "name": "stderr",
     "output_type": "stream",
     "text": [
      "INFO:gurobipy:Barrier statistics:\n"
     ]
    },
    {
     "name": "stdout",
     "output_type": "stream",
     "text": [
      " Dense cols : 6\n"
     ]
    },
    {
     "name": "stderr",
     "output_type": "stream",
     "text": [
      "INFO:gurobipy: Dense cols : 6\n"
     ]
    },
    {
     "name": "stdout",
     "output_type": "stream",
     "text": [
      " AA' NZ     : 1.144e+05\n"
     ]
    },
    {
     "name": "stderr",
     "output_type": "stream",
     "text": [
      "INFO:gurobipy: AA' NZ     : 1.144e+05\n"
     ]
    },
    {
     "name": "stdout",
     "output_type": "stream",
     "text": [
      " Factor NZ  : 5.178e+05 (roughly 40 MB of memory)\n"
     ]
    },
    {
     "name": "stderr",
     "output_type": "stream",
     "text": [
      "INFO:gurobipy: Factor NZ  : 5.178e+05 (roughly 40 MB of memory)\n"
     ]
    },
    {
     "name": "stdout",
     "output_type": "stream",
     "text": [
      " Factor Ops : 5.355e+06 (less than 1 second per iteration)\n"
     ]
    },
    {
     "name": "stderr",
     "output_type": "stream",
     "text": [
      "INFO:gurobipy: Factor Ops : 5.355e+06 (less than 1 second per iteration)\n"
     ]
    },
    {
     "name": "stdout",
     "output_type": "stream",
     "text": [
      " Threads    : 4\n"
     ]
    },
    {
     "name": "stderr",
     "output_type": "stream",
     "text": [
      "INFO:gurobipy: Threads    : 4\n"
     ]
    },
    {
     "name": "stdout",
     "output_type": "stream",
     "text": [
      "\n"
     ]
    },
    {
     "name": "stderr",
     "output_type": "stream",
     "text": [
      "INFO:gurobipy:\n"
     ]
    },
    {
     "name": "stdout",
     "output_type": "stream",
     "text": [
      "                  Objective                Residual\n"
     ]
    },
    {
     "name": "stderr",
     "output_type": "stream",
     "text": [
      "INFO:gurobipy:                  Objective                Residual\n"
     ]
    },
    {
     "name": "stdout",
     "output_type": "stream",
     "text": [
      "Iter       Primal          Dual         Primal    Dual     Compl     Time\n"
     ]
    },
    {
     "name": "stderr",
     "output_type": "stream",
     "text": [
      "INFO:gurobipy:Iter       Primal          Dual         Primal    Dual     Compl     Time\n"
     ]
    },
    {
     "name": "stdout",
     "output_type": "stream",
     "text": [
      "   0   6.80292833e+12  0.00000000e+00  3.61e+10 0.00e+00  4.27e+09     0s\n"
     ]
    },
    {
     "name": "stderr",
     "output_type": "stream",
     "text": [
      "INFO:gurobipy:   0   6.80292833e+12  0.00000000e+00  3.61e+10 0.00e+00  4.27e+09     0s\n"
     ]
    },
    {
     "name": "stdout",
     "output_type": "stream",
     "text": [
      "   1   9.62727024e+12 -1.21894275e+12  5.61e+09 2.99e+02  8.40e+08     0s\n"
     ]
    },
    {
     "name": "stderr",
     "output_type": "stream",
     "text": [
      "INFO:gurobipy:   1   9.62727024e+12 -1.21894275e+12  5.61e+09 2.99e+02  8.40e+08     0s\n"
     ]
    },
    {
     "name": "stdout",
     "output_type": "stream",
     "text": [
      "   2   6.29433352e+12 -1.51712281e+12  1.27e+08 7.68e-10  6.62e+07     0s\n"
     ]
    },
    {
     "name": "stderr",
     "output_type": "stream",
     "text": [
      "INFO:gurobipy:   2   6.29433352e+12 -1.51712281e+12  1.27e+08 7.68e-10  6.62e+07     0s\n"
     ]
    },
    {
     "name": "stdout",
     "output_type": "stream",
     "text": [
      "   3   1.16751094e+12 -4.94466993e+11  2.07e+07 2.84e-09  1.30e+07     1s\n"
     ]
    },
    {
     "name": "stderr",
     "output_type": "stream",
     "text": [
      "INFO:gurobipy:   3   1.16751094e+12 -4.94466993e+11  2.07e+07 2.84e-09  1.30e+07     1s\n"
     ]
    },
    {
     "name": "stdout",
     "output_type": "stream",
     "text": [
      "   4   6.10581667e+11 -3.61647942e+11  1.00e+07 2.76e-10  7.53e+06     1s\n"
     ]
    },
    {
     "name": "stderr",
     "output_type": "stream",
     "text": [
      "INFO:gurobipy:   4   6.10581667e+11 -3.61647942e+11  1.00e+07 2.76e-10  7.53e+06     1s\n"
     ]
    },
    {
     "name": "stdout",
     "output_type": "stream",
     "text": [
      "   5   3.36277502e+11 -2.22404017e+11  5.06e+06 1.82e-09  4.29e+06     1s\n"
     ]
    },
    {
     "name": "stderr",
     "output_type": "stream",
     "text": [
      "INFO:gurobipy:   5   3.36277502e+11 -2.22404017e+11  5.06e+06 1.82e-09  4.29e+06     1s\n"
     ]
    },
    {
     "name": "stdout",
     "output_type": "stream",
     "text": [
      "   6   1.40648200e+11 -8.14248218e+10  1.68e+06 6.48e-10  1.69e+06     1s\n"
     ]
    },
    {
     "name": "stderr",
     "output_type": "stream",
     "text": [
      "INFO:gurobipy:   6   1.40648200e+11 -8.14248218e+10  1.68e+06 6.48e-10  1.69e+06     1s\n"
     ]
    },
    {
     "name": "stdout",
     "output_type": "stream",
     "text": [
      "   7   7.85686248e+10 -3.43368990e+10  6.83e+05 4.49e-10  8.58e+05     1s\n"
     ]
    },
    {
     "name": "stderr",
     "output_type": "stream",
     "text": [
      "INFO:gurobipy:   7   7.85686248e+10 -3.43368990e+10  6.83e+05 4.49e-10  8.58e+05     1s\n"
     ]
    },
    {
     "name": "stdout",
     "output_type": "stream",
     "text": [
      "   8   5.96422276e+10 -1.51892769e+10  4.15e+05 3.53e-10  5.68e+05     1s\n"
     ]
    },
    {
     "name": "stderr",
     "output_type": "stream",
     "text": [
      "INFO:gurobipy:   8   5.96422276e+10 -1.51892769e+10  4.15e+05 3.53e-10  5.68e+05     1s\n"
     ]
    },
    {
     "name": "stdout",
     "output_type": "stream",
     "text": [
      "   9   5.12613133e+10  1.02275463e+10  3.01e+05 1.25e-09  3.11e+05     1s\n"
     ]
    },
    {
     "name": "stderr",
     "output_type": "stream",
     "text": [
      "INFO:gurobipy:   9   5.12613133e+10  1.02275463e+10  3.01e+05 1.25e-09  3.11e+05     1s\n"
     ]
    },
    {
     "name": "stdout",
     "output_type": "stream",
     "text": [
      "  10   4.25073212e+10  1.70467326e+10  1.90e+05 6.77e-10  1.93e+05     1s\n"
     ]
    },
    {
     "name": "stderr",
     "output_type": "stream",
     "text": [
      "INFO:gurobipy:  10   4.25073212e+10  1.70467326e+10  1.90e+05 6.77e-10  1.93e+05     1s\n"
     ]
    },
    {
     "name": "stdout",
     "output_type": "stream",
     "text": [
      "  11   3.51846926e+10  2.13314859e+10  8.35e+04 6.88e-10  1.05e+05     1s\n"
     ]
    },
    {
     "name": "stderr",
     "output_type": "stream",
     "text": [
      "INFO:gurobipy:  11   3.51846926e+10  2.13314859e+10  8.35e+04 6.88e-10  1.05e+05     1s\n"
     ]
    },
    {
     "name": "stdout",
     "output_type": "stream",
     "text": [
      "  12   3.26169810e+10  2.34238890e+10  5.25e+04 4.69e-10  6.97e+04     1s\n"
     ]
    },
    {
     "name": "stderr",
     "output_type": "stream",
     "text": [
      "INFO:gurobipy:  12   3.26169810e+10  2.34238890e+10  5.25e+04 4.69e-10  6.97e+04     1s\n"
     ]
    },
    {
     "name": "stdout",
     "output_type": "stream",
     "text": [
      "  13   3.11748188e+10  2.48217282e+10  3.58e+04 8.19e-12  4.81e+04     1s\n"
     ]
    },
    {
     "name": "stderr",
     "output_type": "stream",
     "text": [
      "INFO:gurobipy:  13   3.11748188e+10  2.48217282e+10  3.58e+04 8.19e-12  4.81e+04     1s\n"
     ]
    },
    {
     "name": "stdout",
     "output_type": "stream",
     "text": [
      "  14   3.00008825e+10  2.62564662e+10  2.31e+04 6.78e-10  2.84e+04     1s\n"
     ]
    },
    {
     "name": "stderr",
     "output_type": "stream",
     "text": [
      "INFO:gurobipy:  14   3.00008825e+10  2.62564662e+10  2.31e+04 6.78e-10  2.84e+04     1s\n"
     ]
    },
    {
     "name": "stdout",
     "output_type": "stream",
     "text": [
      "  15   2.89501220e+10  2.66436927e+10  1.29e+04 6.69e-10  1.75e+04     1s\n"
     ]
    },
    {
     "name": "stderr",
     "output_type": "stream",
     "text": [
      "INFO:gurobipy:  15   2.89501220e+10  2.66436927e+10  1.29e+04 6.69e-10  1.75e+04     1s\n"
     ]
    },
    {
     "name": "stdout",
     "output_type": "stream",
     "text": [
      "  16   2.82154162e+10  2.70696424e+10  6.12e+03 6.73e-10  8.68e+03     1s\n"
     ]
    },
    {
     "name": "stderr",
     "output_type": "stream",
     "text": [
      "INFO:gurobipy:  16   2.82154162e+10  2.70696424e+10  6.12e+03 6.73e-10  8.68e+03     1s\n"
     ]
    },
    {
     "name": "stdout",
     "output_type": "stream",
     "text": [
      "  17   2.77571718e+10  2.72917941e+10  2.20e+03 1.03e-09  3.52e+03     1s\n"
     ]
    },
    {
     "name": "stderr",
     "output_type": "stream",
     "text": [
      "INFO:gurobipy:  17   2.77571718e+10  2.72917941e+10  2.20e+03 1.03e-09  3.52e+03     1s\n"
     ]
    },
    {
     "name": "stdout",
     "output_type": "stream",
     "text": [
      "  18   2.75893999e+10  2.73965501e+10  8.58e+02 7.78e-10  1.46e+03     2s\n"
     ]
    },
    {
     "name": "stderr",
     "output_type": "stream",
     "text": [
      "INFO:gurobipy:  18   2.75893999e+10  2.73965501e+10  8.58e+02 7.78e-10  1.46e+03     2s\n"
     ]
    },
    {
     "name": "stdout",
     "output_type": "stream",
     "text": [
      "  19   2.75250915e+10  2.74243058e+10  3.81e+02 5.64e-10  7.63e+02     2s\n"
     ]
    },
    {
     "name": "stderr",
     "output_type": "stream",
     "text": [
      "INFO:gurobipy:  19   2.75250915e+10  2.74243058e+10  3.81e+02 5.64e-10  7.63e+02     2s\n"
     ]
    },
    {
     "name": "stdout",
     "output_type": "stream",
     "text": [
      "  20   2.74970774e+10  2.74418055e+10  1.82e+02 7.63e-10  4.18e+02     2s\n"
     ]
    },
    {
     "name": "stderr",
     "output_type": "stream",
     "text": [
      "INFO:gurobipy:  20   2.74970774e+10  2.74418055e+10  1.82e+02 7.63e-10  4.18e+02     2s\n"
     ]
    },
    {
     "name": "stdout",
     "output_type": "stream",
     "text": [
      "  21   2.74830551e+10  2.74511353e+10  9.04e+01 7.31e-10  2.42e+02     2s\n"
     ]
    },
    {
     "name": "stderr",
     "output_type": "stream",
     "text": [
      "INFO:gurobipy:  21   2.74830551e+10  2.74511353e+10  9.04e+01 7.31e-10  2.42e+02     2s\n"
     ]
    },
    {
     "name": "stdout",
     "output_type": "stream",
     "text": [
      "  22   2.74741989e+10  2.74562273e+10  3.37e+01 3.20e-10  1.36e+02     2s\n"
     ]
    },
    {
     "name": "stderr",
     "output_type": "stream",
     "text": [
      "INFO:gurobipy:  22   2.74741989e+10  2.74562273e+10  3.37e+01 3.20e-10  1.36e+02     2s\n"
     ]
    },
    {
     "name": "stdout",
     "output_type": "stream",
     "text": [
      "  23   2.74718895e+10  2.74614414e+10  1.98e+01 2.61e-10  7.91e+01     2s\n"
     ]
    },
    {
     "name": "stderr",
     "output_type": "stream",
     "text": [
      "INFO:gurobipy:  23   2.74718895e+10  2.74614414e+10  1.98e+01 2.61e-10  7.91e+01     2s\n"
     ]
    },
    {
     "name": "stdout",
     "output_type": "stream",
     "text": [
      "  24   2.74705462e+10  2.74627949e+10  1.17e+01 7.35e-10  5.86e+01     2s\n"
     ]
    },
    {
     "name": "stderr",
     "output_type": "stream",
     "text": [
      "INFO:gurobipy:  24   2.74705462e+10  2.74627949e+10  1.17e+01 7.35e-10  5.86e+01     2s\n"
     ]
    },
    {
     "name": "stdout",
     "output_type": "stream",
     "text": [
      "  25   2.74699517e+10  2.74656433e+10  8.26e+00 8.91e-10  3.26e+01     2s\n"
     ]
    },
    {
     "name": "stderr",
     "output_type": "stream",
     "text": [
      "INFO:gurobipy:  25   2.74699517e+10  2.74656433e+10  8.26e+00 8.91e-10  3.26e+01     2s\n"
     ]
    },
    {
     "name": "stdout",
     "output_type": "stream",
     "text": [
      "  26   2.74692015e+10  2.74670823e+10  4.33e+00 5.39e-10  1.60e+01     2s\n"
     ]
    },
    {
     "name": "stderr",
     "output_type": "stream",
     "text": [
      "INFO:gurobipy:  26   2.74692015e+10  2.74670823e+10  4.33e+00 5.39e-10  1.60e+01     2s\n"
     ]
    },
    {
     "name": "stdout",
     "output_type": "stream",
     "text": [
      "  27   2.74689005e+10  2.74676351e+10  2.77e+00 3.25e-09  9.58e+00     2s\n"
     ]
    },
    {
     "name": "stderr",
     "output_type": "stream",
     "text": [
      "INFO:gurobipy:  27   2.74689005e+10  2.74676351e+10  2.77e+00 3.25e-09  9.58e+00     2s\n"
     ]
    },
    {
     "name": "stdout",
     "output_type": "stream",
     "text": [
      "  28   2.74685069e+10  2.74680341e+10  7.29e-01 1.19e-09  3.58e+00     2s\n"
     ]
    },
    {
     "name": "stderr",
     "output_type": "stream",
     "text": [
      "INFO:gurobipy:  28   2.74685069e+10  2.74680341e+10  7.29e-01 1.19e-09  3.58e+00     2s\n"
     ]
    },
    {
     "name": "stdout",
     "output_type": "stream",
     "text": [
      "  29   2.74683675e+10  2.74683620e+10  4.27e-06 3.86e-09  4.14e-02     2s\n"
     ]
    },
    {
     "name": "stderr",
     "output_type": "stream",
     "text": [
      "INFO:gurobipy:  29   2.74683675e+10  2.74683620e+10  4.27e-06 3.86e-09  4.14e-02     2s\n"
     ]
    },
    {
     "name": "stdout",
     "output_type": "stream",
     "text": [
      "  30   2.74683633e+10  2.74683633e+10  7.84e-07 1.09e-09  4.16e-05     2s\n"
     ]
    },
    {
     "name": "stderr",
     "output_type": "stream",
     "text": [
      "INFO:gurobipy:  30   2.74683633e+10  2.74683633e+10  7.84e-07 1.09e-09  4.16e-05     2s\n"
     ]
    },
    {
     "name": "stdout",
     "output_type": "stream",
     "text": [
      "  31   2.74683633e+10  2.74683633e+10  2.33e-05 1.11e-09  4.26e-11     2s\n"
     ]
    },
    {
     "name": "stderr",
     "output_type": "stream",
     "text": [
      "INFO:gurobipy:  31   2.74683633e+10  2.74683633e+10  2.33e-05 1.11e-09  4.26e-11     2s\n"
     ]
    },
    {
     "name": "stdout",
     "output_type": "stream",
     "text": [
      "\n"
     ]
    },
    {
     "name": "stderr",
     "output_type": "stream",
     "text": [
      "INFO:gurobipy:\n"
     ]
    },
    {
     "name": "stdout",
     "output_type": "stream",
     "text": [
      "Barrier solved model in 31 iterations and 2.34 seconds (0.64 work units)\n"
     ]
    },
    {
     "name": "stderr",
     "output_type": "stream",
     "text": [
      "INFO:gurobipy:Barrier solved model in 31 iterations and 2.34 seconds (0.64 work units)\n"
     ]
    },
    {
     "name": "stdout",
     "output_type": "stream",
     "text": [
      "Optimal objective 2.74683633e+10\n"
     ]
    },
    {
     "name": "stderr",
     "output_type": "stream",
     "text": [
      "INFO:gurobipy:Optimal objective 2.74683633e+10\n"
     ]
    },
    {
     "name": "stdout",
     "output_type": "stream",
     "text": [
      "\n"
     ]
    },
    {
     "name": "stderr",
     "output_type": "stream",
     "text": [
      "INFO:gurobipy:\n"
     ]
    },
    {
     "name": "stdout",
     "output_type": "stream",
     "text": [
      "Crossover log...\n"
     ]
    },
    {
     "name": "stderr",
     "output_type": "stream",
     "text": [
      "INFO:gurobipy:Crossover log...\n"
     ]
    },
    {
     "name": "stdout",
     "output_type": "stream",
     "text": [
      "\n"
     ]
    },
    {
     "name": "stderr",
     "output_type": "stream",
     "text": [
      "INFO:gurobipy:\n"
     ]
    },
    {
     "name": "stdout",
     "output_type": "stream",
     "text": [
      "   13300 DPushes remaining with DInf 0.0000000e+00                 2s\n"
     ]
    },
    {
     "name": "stderr",
     "output_type": "stream",
     "text": [
      "INFO:gurobipy:   13300 DPushes remaining with DInf 0.0000000e+00                 2s\n"
     ]
    },
    {
     "name": "stdout",
     "output_type": "stream",
     "text": [
      "       0 DPushes remaining with DInf 0.0000000e+00                 3s\n"
     ]
    },
    {
     "name": "stderr",
     "output_type": "stream",
     "text": [
      "INFO:gurobipy:       0 DPushes remaining with DInf 0.0000000e+00                 3s\n"
     ]
    },
    {
     "name": "stdout",
     "output_type": "stream",
     "text": [
      "Warning: Markowitz tolerance tightened to 0.5\n"
     ]
    },
    {
     "name": "stderr",
     "output_type": "stream",
     "text": [
      "INFO:gurobipy:Warning: Markowitz tolerance tightened to 0.5\n"
     ]
    },
    {
     "name": "stdout",
     "output_type": "stream",
     "text": [
      "\n"
     ]
    },
    {
     "name": "stderr",
     "output_type": "stream",
     "text": [
      "INFO:gurobipy:\n"
     ]
    },
    {
     "name": "stdout",
     "output_type": "stream",
     "text": [
      "     735 PPushes remaining with PInf 0.0000000e+00                 3s\n"
     ]
    },
    {
     "name": "stderr",
     "output_type": "stream",
     "text": [
      "INFO:gurobipy:     735 PPushes remaining with PInf 0.0000000e+00                 3s\n"
     ]
    },
    {
     "name": "stdout",
     "output_type": "stream",
     "text": [
      "       0 PPushes remaining with PInf 0.0000000e+00                 3s\n"
     ]
    },
    {
     "name": "stderr",
     "output_type": "stream",
     "text": [
      "INFO:gurobipy:       0 PPushes remaining with PInf 0.0000000e+00                 3s\n"
     ]
    },
    {
     "name": "stdout",
     "output_type": "stream",
     "text": [
      "\n"
     ]
    },
    {
     "name": "stderr",
     "output_type": "stream",
     "text": [
      "INFO:gurobipy:\n"
     ]
    },
    {
     "name": "stdout",
     "output_type": "stream",
     "text": [
      "  Push phase complete: Pinf 0.0000000e+00, Dinf 3.9053755e-09      3s\n"
     ]
    },
    {
     "name": "stderr",
     "output_type": "stream",
     "text": [
      "INFO:gurobipy:  Push phase complete: Pinf 0.0000000e+00, Dinf 3.9053755e-09      3s\n"
     ]
    },
    {
     "name": "stdout",
     "output_type": "stream",
     "text": [
      "\n"
     ]
    },
    {
     "name": "stderr",
     "output_type": "stream",
     "text": [
      "INFO:gurobipy:\n"
     ]
    },
    {
     "name": "stdout",
     "output_type": "stream",
     "text": [
      "\n"
     ]
    },
    {
     "name": "stderr",
     "output_type": "stream",
     "text": [
      "INFO:gurobipy:\n"
     ]
    },
    {
     "name": "stdout",
     "output_type": "stream",
     "text": [
      "Solved with barrier\n"
     ]
    },
    {
     "name": "stderr",
     "output_type": "stream",
     "text": [
      "INFO:gurobipy:Solved with barrier\n"
     ]
    },
    {
     "name": "stdout",
     "output_type": "stream",
     "text": [
      "Extra simplex iterations after uncrush: 2\n"
     ]
    },
    {
     "name": "stderr",
     "output_type": "stream",
     "text": [
      "INFO:gurobipy:Extra simplex iterations after uncrush: 2\n"
     ]
    },
    {
     "name": "stdout",
     "output_type": "stream",
     "text": [
      "Iteration    Objective       Primal Inf.    Dual Inf.      Time\n"
     ]
    },
    {
     "name": "stderr",
     "output_type": "stream",
     "text": [
      "INFO:gurobipy:Iteration    Objective       Primal Inf.    Dual Inf.      Time\n"
     ]
    },
    {
     "name": "stdout",
     "output_type": "stream",
     "text": [
      "   12358    2.7468363e+10   0.000000e+00   0.000000e+00      3s\n"
     ]
    },
    {
     "name": "stderr",
     "output_type": "stream",
     "text": [
      "INFO:gurobipy:   12358    2.7468363e+10   0.000000e+00   0.000000e+00      3s\n"
     ]
    },
    {
     "name": "stdout",
     "output_type": "stream",
     "text": [
      "\n"
     ]
    },
    {
     "name": "stderr",
     "output_type": "stream",
     "text": [
      "INFO:gurobipy:\n"
     ]
    },
    {
     "name": "stdout",
     "output_type": "stream",
     "text": [
      "Solved in 12358 iterations and 3.46 seconds (3.61 work units)\n"
     ]
    },
    {
     "name": "stderr",
     "output_type": "stream",
     "text": [
      "INFO:gurobipy:Solved in 12358 iterations and 3.46 seconds (3.61 work units)\n"
     ]
    },
    {
     "name": "stdout",
     "output_type": "stream",
     "text": [
      "Optimal objective  2.746836334e+10\n"
     ]
    },
    {
     "name": "stderr",
     "output_type": "stream",
     "text": [
      "INFO:gurobipy:Optimal objective  2.746836334e+10\n",
      "INFO:linopy.constants: Optimization successful: \n",
      "Status: ok\n",
      "Termination condition: optimal\n",
      "Solution: 52566 primals, 113887 duals\n",
      "Objective: 2.75e+10\n",
      "Solver model: available\n",
      "Solver message: 2\n",
      "\n",
      "INFO:pypsa.optimization.optimize:The shadow-prices of the constraints Generator-ext-p-lower, Generator-ext-p-upper were not assigned to the network.\n",
      "WARNING:pypsa.consistency:The following buses have carriers which are not defined:\n",
      "Index(['E_busDEU'], dtype='object', name='Bus')\n",
      "INFO:linopy.model: Solve problem using Gurobi solver\n",
      "INFO:linopy.io:Writing objective.\n",
      "Writing constraints.: 100%|\u001b[38;2;128;191;255m██████████\u001b[0m| 6/6 [00:00<00:00,  8.85it/s]\n",
      "Writing continuous variables.: 100%|\u001b[38;2;128;191;255m██████████\u001b[0m| 2/2 [00:00<00:00, 16.38it/s]\n",
      "INFO:linopy.io: Writing time: 0.85s\n"
     ]
    },
    {
     "name": "stdout",
     "output_type": "stream",
     "text": [
      "Set parameter Username\n"
     ]
    },
    {
     "name": "stderr",
     "output_type": "stream",
     "text": [
      "INFO:gurobipy:Set parameter Username\n"
     ]
    },
    {
     "name": "stdout",
     "output_type": "stream",
     "text": [
      "Academic license - for non-commercial use only - expires 2025-09-04\n"
     ]
    },
    {
     "name": "stderr",
     "output_type": "stream",
     "text": [
      "INFO:gurobipy:Academic license - for non-commercial use only - expires 2025-09-04\n"
     ]
    },
    {
     "name": "stdout",
     "output_type": "stream",
     "text": [
      "Read LP format model from file C:\\Users\\alexk\\AppData\\Local\\Temp\\linopy-problem-cltluj75.lp\n"
     ]
    },
    {
     "name": "stderr",
     "output_type": "stream",
     "text": [
      "INFO:gurobipy:Read LP format model from file C:\\Users\\alexk\\AppData\\Local\\Temp\\linopy-problem-cltluj75.lp\n"
     ]
    },
    {
     "name": "stdout",
     "output_type": "stream",
     "text": [
      "Reading time = 0.26 seconds\n"
     ]
    },
    {
     "name": "stderr",
     "output_type": "stream",
     "text": [
      "INFO:gurobipy:Reading time = 0.26 seconds\n"
     ]
    },
    {
     "name": "stdout",
     "output_type": "stream",
     "text": [
      "obj: 113887 rows, 52566 columns, 219290 nonzeros\n"
     ]
    },
    {
     "name": "stderr",
     "output_type": "stream",
     "text": [
      "INFO:gurobipy:obj: 113887 rows, 52566 columns, 219290 nonzeros\n"
     ]
    },
    {
     "name": "stdout",
     "output_type": "stream",
     "text": [
      "Gurobi Optimizer version 11.0.3 build v11.0.3rc0 (win64 - Windows 11.0 (22631.2))\n"
     ]
    },
    {
     "name": "stderr",
     "output_type": "stream",
     "text": [
      "INFO:gurobipy:Gurobi Optimizer version 11.0.3 build v11.0.3rc0 (win64 - Windows 11.0 (22631.2))\n"
     ]
    },
    {
     "name": "stdout",
     "output_type": "stream",
     "text": [
      "\n"
     ]
    },
    {
     "name": "stderr",
     "output_type": "stream",
     "text": [
      "INFO:gurobipy:\n"
     ]
    },
    {
     "name": "stdout",
     "output_type": "stream",
     "text": [
      "CPU model: AMD Ryzen 5 4600H with Radeon Graphics, instruction set [SSE2|AVX|AVX2]\n"
     ]
    },
    {
     "name": "stderr",
     "output_type": "stream",
     "text": [
      "INFO:gurobipy:CPU model: AMD Ryzen 5 4600H with Radeon Graphics, instruction set [SSE2|AVX|AVX2]\n"
     ]
    },
    {
     "name": "stdout",
     "output_type": "stream",
     "text": [
      "Thread count: 6 physical cores, 12 logical processors, using up to 12 threads\n"
     ]
    },
    {
     "name": "stderr",
     "output_type": "stream",
     "text": [
      "INFO:gurobipy:Thread count: 6 physical cores, 12 logical processors, using up to 12 threads\n"
     ]
    },
    {
     "name": "stdout",
     "output_type": "stream",
     "text": [
      "\n"
     ]
    },
    {
     "name": "stderr",
     "output_type": "stream",
     "text": [
      "INFO:gurobipy:\n"
     ]
    },
    {
     "name": "stdout",
     "output_type": "stream",
     "text": [
      "Optimize a model with 113887 rows, 52566 columns and 219290 nonzeros\n"
     ]
    },
    {
     "name": "stderr",
     "output_type": "stream",
     "text": [
      "INFO:gurobipy:Optimize a model with 113887 rows, 52566 columns and 219290 nonzeros\n"
     ]
    },
    {
     "name": "stdout",
     "output_type": "stream",
     "text": [
      "Model fingerprint: 0x957fb44a\n"
     ]
    },
    {
     "name": "stderr",
     "output_type": "stream",
     "text": [
      "INFO:gurobipy:Model fingerprint: 0x957fb44a\n"
     ]
    },
    {
     "name": "stdout",
     "output_type": "stream",
     "text": [
      "Coefficient statistics:\n"
     ]
    },
    {
     "name": "stderr",
     "output_type": "stream",
     "text": [
      "INFO:gurobipy:Coefficient statistics:\n"
     ]
    },
    {
     "name": "stdout",
     "output_type": "stream",
     "text": [
      "  Matrix range     [1e-03, 3e+00]\n"
     ]
    },
    {
     "name": "stderr",
     "output_type": "stream",
     "text": [
      "INFO:gurobipy:  Matrix range     [1e-03, 3e+00]\n"
     ]
    },
    {
     "name": "stdout",
     "output_type": "stream",
     "text": [
      "  Objective range  [1e+01, 3e+05]\n"
     ]
    },
    {
     "name": "stderr",
     "output_type": "stream",
     "text": [
      "INFO:gurobipy:  Objective range  [1e+01, 3e+05]\n"
     ]
    },
    {
     "name": "stdout",
     "output_type": "stream",
     "text": [
      "  Bounds range     [0e+00, 0e+00]\n"
     ]
    },
    {
     "name": "stderr",
     "output_type": "stream",
     "text": [
      "INFO:gurobipy:  Bounds range     [0e+00, 0e+00]\n"
     ]
    },
    {
     "name": "stdout",
     "output_type": "stream",
     "text": [
      "  RHS range        [4e+04, 8e+04]\n"
     ]
    },
    {
     "name": "stderr",
     "output_type": "stream",
     "text": [
      "INFO:gurobipy:  RHS range        [4e+04, 8e+04]\n"
     ]
    },
    {
     "name": "stdout",
     "output_type": "stream",
     "text": [
      "Presolve removed 82789 rows and 30224 columns\n"
     ]
    },
    {
     "name": "stderr",
     "output_type": "stream",
     "text": [
      "INFO:gurobipy:Presolve removed 82789 rows and 30224 columns\n"
     ]
    },
    {
     "name": "stdout",
     "output_type": "stream",
     "text": [
      "Presolve time: 0.08s\n"
     ]
    },
    {
     "name": "stderr",
     "output_type": "stream",
     "text": [
      "INFO:gurobipy:Presolve time: 0.08s\n"
     ]
    },
    {
     "name": "stdout",
     "output_type": "stream",
     "text": [
      "Presolved: 31098 rows, 22342 columns, 71240 nonzeros\n"
     ]
    },
    {
     "name": "stderr",
     "output_type": "stream",
     "text": [
      "INFO:gurobipy:Presolved: 31098 rows, 22342 columns, 71240 nonzeros\n"
     ]
    },
    {
     "name": "stdout",
     "output_type": "stream",
     "text": [
      "\n"
     ]
    },
    {
     "name": "stderr",
     "output_type": "stream",
     "text": [
      "INFO:gurobipy:\n"
     ]
    },
    {
     "name": "stdout",
     "output_type": "stream",
     "text": [
      "Concurrent LP optimizer: primal simplex, dual simplex, and barrier\n"
     ]
    },
    {
     "name": "stderr",
     "output_type": "stream",
     "text": [
      "INFO:gurobipy:Concurrent LP optimizer: primal simplex, dual simplex, and barrier\n"
     ]
    },
    {
     "name": "stdout",
     "output_type": "stream",
     "text": [
      "Showing barrier log only...\n"
     ]
    },
    {
     "name": "stderr",
     "output_type": "stream",
     "text": [
      "INFO:gurobipy:Showing barrier log only...\n"
     ]
    },
    {
     "name": "stdout",
     "output_type": "stream",
     "text": [
      "\n"
     ]
    },
    {
     "name": "stderr",
     "output_type": "stream",
     "text": [
      "INFO:gurobipy:\n"
     ]
    },
    {
     "name": "stdout",
     "output_type": "stream",
     "text": [
      "Ordering time: 0.00s\n"
     ]
    },
    {
     "name": "stderr",
     "output_type": "stream",
     "text": [
      "INFO:gurobipy:Ordering time: 0.00s\n"
     ]
    },
    {
     "name": "stdout",
     "output_type": "stream",
     "text": [
      "\n"
     ]
    },
    {
     "name": "stderr",
     "output_type": "stream",
     "text": [
      "INFO:gurobipy:\n"
     ]
    },
    {
     "name": "stdout",
     "output_type": "stream",
     "text": [
      "Barrier statistics:\n"
     ]
    },
    {
     "name": "stderr",
     "output_type": "stream",
     "text": [
      "INFO:gurobipy:Barrier statistics:\n"
     ]
    },
    {
     "name": "stdout",
     "output_type": "stream",
     "text": [
      " Dense cols : 4\n"
     ]
    },
    {
     "name": "stderr",
     "output_type": "stream",
     "text": [
      "INFO:gurobipy: Dense cols : 4\n"
     ]
    },
    {
     "name": "stdout",
     "output_type": "stream",
     "text": [
      " AA' NZ     : 4.890e+04\n"
     ]
    },
    {
     "name": "stderr",
     "output_type": "stream",
     "text": [
      "INFO:gurobipy: AA' NZ     : 4.890e+04\n"
     ]
    },
    {
     "name": "stdout",
     "output_type": "stream",
     "text": [
      " Factor NZ  : 1.880e+05 (roughly 23 MB of memory)\n"
     ]
    },
    {
     "name": "stderr",
     "output_type": "stream",
     "text": [
      "INFO:gurobipy: Factor NZ  : 1.880e+05 (roughly 23 MB of memory)\n"
     ]
    },
    {
     "name": "stdout",
     "output_type": "stream",
     "text": [
      " Factor Ops : 1.259e+06 (less than 1 second per iteration)\n"
     ]
    },
    {
     "name": "stderr",
     "output_type": "stream",
     "text": [
      "INFO:gurobipy: Factor Ops : 1.259e+06 (less than 1 second per iteration)\n"
     ]
    },
    {
     "name": "stdout",
     "output_type": "stream",
     "text": [
      " Threads    : 4\n"
     ]
    },
    {
     "name": "stderr",
     "output_type": "stream",
     "text": [
      "INFO:gurobipy: Threads    : 4\n"
     ]
    },
    {
     "name": "stdout",
     "output_type": "stream",
     "text": [
      "\n"
     ]
    },
    {
     "name": "stderr",
     "output_type": "stream",
     "text": [
      "INFO:gurobipy:\n"
     ]
    },
    {
     "name": "stdout",
     "output_type": "stream",
     "text": [
      "Barrier performed 0 iterations in 0.15 seconds (0.08 work units)\n"
     ]
    },
    {
     "name": "stderr",
     "output_type": "stream",
     "text": [
      "INFO:gurobipy:Barrier performed 0 iterations in 0.15 seconds (0.08 work units)\n"
     ]
    },
    {
     "name": "stdout",
     "output_type": "stream",
     "text": [
      "Barrier solve interrupted - model solved by another algorithm\n"
     ]
    },
    {
     "name": "stderr",
     "output_type": "stream",
     "text": [
      "INFO:gurobipy:Barrier solve interrupted - model solved by another algorithm\n"
     ]
    },
    {
     "name": "stdout",
     "output_type": "stream",
     "text": [
      "\n"
     ]
    },
    {
     "name": "stderr",
     "output_type": "stream",
     "text": [
      "INFO:gurobipy:\n"
     ]
    },
    {
     "name": "stdout",
     "output_type": "stream",
     "text": [
      "\n"
     ]
    },
    {
     "name": "stderr",
     "output_type": "stream",
     "text": [
      "INFO:gurobipy:\n"
     ]
    },
    {
     "name": "stdout",
     "output_type": "stream",
     "text": [
      "Solved with primal simplex\n"
     ]
    },
    {
     "name": "stderr",
     "output_type": "stream",
     "text": [
      "INFO:gurobipy:Solved with primal simplex\n"
     ]
    },
    {
     "name": "stdout",
     "output_type": "stream",
     "text": [
      "Iteration    Objective       Primal Inf.    Dual Inf.      Time\n"
     ]
    },
    {
     "name": "stderr",
     "output_type": "stream",
     "text": [
      "INFO:gurobipy:Iteration    Objective       Primal Inf.    Dual Inf.      Time\n"
     ]
    },
    {
     "name": "stdout",
     "output_type": "stream",
     "text": [
      "      22    3.7225583e+11   0.000000e+00   0.000000e+00      0s\n"
     ]
    },
    {
     "name": "stderr",
     "output_type": "stream",
     "text": [
      "INFO:gurobipy:      22    3.7225583e+11   0.000000e+00   0.000000e+00      0s\n"
     ]
    },
    {
     "name": "stdout",
     "output_type": "stream",
     "text": [
      "\n"
     ]
    },
    {
     "name": "stderr",
     "output_type": "stream",
     "text": [
      "INFO:gurobipy:\n"
     ]
    },
    {
     "name": "stdout",
     "output_type": "stream",
     "text": [
      "Solved in 22 iterations and 0.23 seconds (0.15 work units)\n"
     ]
    },
    {
     "name": "stderr",
     "output_type": "stream",
     "text": [
      "INFO:gurobipy:Solved in 22 iterations and 0.23 seconds (0.15 work units)\n"
     ]
    },
    {
     "name": "stdout",
     "output_type": "stream",
     "text": [
      "Optimal objective  3.722558329e+11\n"
     ]
    },
    {
     "name": "stderr",
     "output_type": "stream",
     "text": [
      "INFO:gurobipy:Optimal objective  3.722558329e+11\n",
      "INFO:linopy.constants: Optimization successful: \n",
      "Status: ok\n",
      "Termination condition: optimal\n",
      "Solution: 52566 primals, 113887 duals\n",
      "Objective: 3.72e+11\n",
      "Solver model: available\n",
      "Solver message: 2\n",
      "\n",
      "INFO:pypsa.optimization.optimize:The shadow-prices of the constraints Generator-ext-p-lower, Generator-ext-p-upper were not assigned to the network.\n"
     ]
    }
   ],
   "source": [
    "systemcost = []\n",
    "onwind = []\n",
    "offwind = []\n",
    "pv = []\n",
    "rooftop = []\n",
    "coal = []\n",
    "ocgt = []\n",
    "\n",
    "for co2 in [2000, 1500, 1000, 500, 250, 0]: # in MtCO2\n",
    "    network.global_constraints.loc[\"CO2Limit\", \"constant\"] = co2 * 1e6\n",
    "    network.optimize(solver_name=\"gurobi\")\n",
    "    systemcost.append(network.objective / 1e6)  # in million euros\n",
    "    onwind.append(network.generators_t.p[\"onshorewind\"].sum())\n",
    "    offwind.append(network.generators_t.p[\"offshorewind\"].sum())\n",
    "    pv.append(network.generators_t.p[\"PV\"].sum())\n",
    "    rooftop.append(network.generators_t.p[\"rooftopPV\"].sum())\n",
    "    coal.append(network.generators_t.p[\"coal\"].sum())\n",
    "    ocgt.append(network.generators_t.p[\"OCGT\"].sum())"
   ]
  },
  {
   "cell_type": "code",
   "execution_count": 105,
   "metadata": {},
   "outputs": [
    {
     "data": {
      "text/plain": [
       "Text(610, 300000000.0, '2023 CO2 emission\\n limit in Germany')"
      ]
     },
     "execution_count": 105,
     "metadata": {},
     "output_type": "execute_result"
    },
    {
     "data": {
      "image/png": "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",
      "text/plain": [
       "<Figure size 1000x600 with 1 Axes>"
      ]
     },
     "metadata": {},
     "output_type": "display_data"
    }
   ],
   "source": [
    "results = pd.DataFrame(\n",
    "    np.array([onwind, offwind, pv, rooftop, coal, ocgt]).T,\n",
    "    columns=[\"onshorewind\", \"offshorewind\", \"PV\", \"rooftopPV\", \"coal\", \"OCGT\"],\n",
    "    index=[2000, 1500, 1000, 500, 250, 0],\n",
    ")\n",
    "results.plot.area(\n",
    "    stacked=True,\n",
    "    title=\"Generation Mix vs CO2 Emissions\",\n",
    "    ylabel=\"Generation (MWh)\",\n",
    "    xlabel=\"CO2 Emissions (MtCO2)\",\n",
    "    color=colors,\n",
    "    figsize=(10, 6),\n",
    ")\n",
    "plt.vlines(\n",
    "    596, 0, 6e8, color=\"black\", linestyle=\"--\", label=\"2023 CO2 emission limit\"\n",
    ")\n",
    "plt.text(\n",
    "    610, 3e8, \"2023 CO2 emission\\n limit in Germany\", color=\"black\", fontsize=10, ha=\"left\"\n",
    ")\n"
   ]
  },
  {
   "cell_type": "code",
   "execution_count": 28,
   "metadata": {},
   "outputs": [
    {
     "data": {
      "text/plain": [
       "<Axes: ylabel='CF coal'>"
      ]
     },
     "execution_count": 28,
     "metadata": {},
     "output_type": "execute_result"
    },
    {
     "data": {
      "image/png": "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",
      "text/plain": [
       "<Figure size 640x480 with 1 Axes>"
      ]
     },
     "metadata": {},
     "output_type": "display_data"
    }
   ],
   "source": [
    "# Duration Curves\n",
    "cf_onshore = network.generators_t.p['onshorewind'].sort_values(ascending=False,ignore_index=True)\n",
    "cf_offshore = network.generators_t.p['offshorewind'].sort_values(ascending=False,ignore_index=True)\n",
    "cf_PV = network.generators_t.p['PV'].sort_values(ascending=False,ignore_index=True)\n",
    "cf_rooftopPV = network.generators_t.p['rooftopPV'].sort_values(ascending=False,ignore_index=True)\n",
    "cf_OCGT = network.generators_t.p['OCGT'].sort_values(ascending=False,ignore_index=True)\n",
    "cf_coal = network.generators_t.p['coal'].sort_values(ascending=False,ignore_index=True)\n",
    "\n",
    "\n",
    "cf_onshore.plot(kind='line', ylabel='CF onshore', color='orange')\n",
    "cf_offshore.plot(kind='line', ylabel='CF offshore', color='green')\n",
    "cf_PV.plot(kind='line', ylabel='CF PV', color='orange')\n",
    "cf_rooftopPV.plot(kind='line', ylabel='CF rooftopPV', color='yellow')\n",
    "cf_OCGT.plot(kind='line', ylabel='CF OCGT', color='brown')\n",
    "cf_coal.plot(kind='line', ylabel='CF coal', color='red')"
   ]
  },
  {
   "cell_type": "code",
   "execution_count": 8,
   "metadata": {},
   "outputs": [
    {
     "data": {
      "image/png": "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",
      "text/plain": [
       "<Figure size 640x480 with 1 Axes>"
      ]
     },
     "metadata": {},
     "output_type": "display_data"
    }
   ],
   "source": [
    "# Plot dispatch for a week in winter\n",
    "start_date_1 = '2015-01-01'\n",
    "end_date_1 = '2015-01-07'\n",
    "week_1 = network.generators_t.p.loc[start_date_1:end_date_1]\n",
    "\n",
    "\n",
    "plt.plot(week_1['onshorewind'], color='blue', label='onshore wind')\n",
    "plt.plot(week_1['offshorewind'], color='green', label='onshore wind')\n",
    "plt.plot(week_1['PV'], color='orange', label='PV')\n",
    "plt.plot(week_1['rooftopPV'], color='yellow', label='rooftopPV')\n",
    "plt.plot(week_1['OCGT'], color='brown', label='gas')\n",
    "plt.plot(week_1['coal'], color='red', label='coal')\n",
    "plt.legend(fancybox=True, shadow=True, loc='best')\n",
    "plt.plot(network.loads_t.p['load'].loc[start_date_1:end_date_1], color='black', label='demand')\n",
    "plt.xlabel('Time')\n",
    "plt.ylabel('Power (MW)')\n",
    "plt.title('Generation and Demand for the First Week of January 2015')\n",
    "\n",
    "# Rotate x-axis labels\n",
    "plt.xticks(rotation=45)\n",
    "plt.show()"
   ]
  },
  {
   "cell_type": "code",
   "execution_count": 9,
   "metadata": {},
   "outputs": [
    {
     "data": {
      "image/png": "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",
      "text/plain": [
       "<Figure size 640x480 with 1 Axes>"
      ]
     },
     "metadata": {},
     "output_type": "display_data"
    }
   ],
   "source": [
    "# Plot dispatch for a week in summer\n",
    "start_date_2 = '2015-06-01'\n",
    "end_date_2 = '2015-06-07'\n",
    "week_2 = network.generators_t.p.loc[start_date_2:end_date_2]\n",
    "\n",
    "\n",
    "plt.plot(week_2['onshorewind'], color='blue', label='onshore wind')\n",
    "plt.plot(week_2['offshorewind'], color='green', label='onshore wind')\n",
    "plt.plot(week_2['PV'], color='orange', label='PV')\n",
    "plt.plot(week_2['rooftopPV'], color='yellow', label='rooftopPV')\n",
    "plt.plot(week_2['OCGT'], color='brown', label='gas')\n",
    "plt.plot(week_2['coal'], color='red', label='coal')\n",
    "plt.legend(fancybox=True, shadow=True, loc='best')\n",
    "plt.plot(network.loads_t.p['load'].loc[start_date_2:end_date_2], color='black', label='demand')\n",
    "plt.xlabel('Time')\n",
    "plt.ylabel('Power (MW)')\n",
    "plt.title('Generation and Demand for the First Week of January 2015')\n",
    "\n",
    "# Rotate x-axis labels\n",
    "plt.xticks(rotation=45)\n",
    "plt.show()"
   ]
  },
  {
   "cell_type": "code",
   "execution_count": null,
   "metadata": {},
   "outputs": [],
   "source": [
    "cf = [  network.generators_t.p['onshorewind'].sum(),\n",
    "        network.generators_t.p['offshorewind'].sum(),\n",
    "        network.generators_t.p['PV'].sum(),\n",
    "        network.generators_t.p['rooftopPV'].sum(),\n",
    "        network.generators_t.p['OCGT'].sum(),\n",
    "        network.generators_t.p['coal'].sum()]\n",
    "\n",
    "\n",
    "duration_pv = data_pv.loc['2017-01-01':'2017-12-31'][country].sort_values(ascending=False,ignore_index=True)\n",
    "duration_pv.plot(kind='line', ylabel='Capacity Factor solar PV', color='orange')"
   ]
  },
  {
   "cell_type": "markdown",
   "metadata": {},
   "source": [
    "# Section B"
   ]
  },
  {
   "cell_type": "code",
   "execution_count": null,
   "metadata": {},
   "outputs": [],
   "source": [
    "# CO2 emissions in germany (2015): 800.84 million tonnes\n",
    "# Source: https://ourworldindata.org/co2/country/germany"
   ]
  }
 ],
 "metadata": {
  "kernelspec": {
   "display_name": "IEG",
   "language": "python",
   "name": "python3"
  },
  "language_info": {
   "codemirror_mode": {
    "name": "ipython",
    "version": 3
   },
   "file_extension": ".py",
   "mimetype": "text/x-python",
   "name": "python",
   "nbconvert_exporter": "python",
   "pygments_lexer": "ipython3",
   "version": "3.13.1"
  }
 },
 "nbformat": 4,
 "nbformat_minor": 2
}
