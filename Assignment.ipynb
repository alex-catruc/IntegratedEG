{
 "cells": [
  {
   "cell_type": "code",
   "execution_count": 2,
   "metadata": {},
   "outputs": [],
   "source": [
    "import pandas as pd\n",
    "import pypsa"
   ]
  },
  {
   "cell_type": "markdown",
   "metadata": {},
   "source": [
    "# Load Data"
   ]
  },
  {
   "cell_type": "code",
   "execution_count": 8,
   "metadata": {},
   "outputs": [
    {
     "name": "stderr",
     "output_type": "stream",
     "text": [
      "<>:16: DeprecationWarning: invalid escape sequence '\\p'\n",
      "<>:20: DeprecationWarning: invalid escape sequence '\\p'\n",
      "<>:16: DeprecationWarning: invalid escape sequence '\\p'\n",
      "<>:20: DeprecationWarning: invalid escape sequence '\\p'\n",
      "C:\\Users\\alexk\\AppData\\Local\\Temp\\ipykernel_10936\\597844512.py:16: DeprecationWarning: invalid escape sequence '\\p'\n",
      "  df_pv = pd.read_csv('data\\pv_optimal.csv', sep=';', index_col=0)\n",
      "C:\\Users\\alexk\\AppData\\Local\\Temp\\ipykernel_10936\\597844512.py:20: DeprecationWarning: invalid escape sequence '\\p'\n",
      "  df_rooftop = pd.read_csv('data\\pv_rooftop.csv', sep=';', index_col=0)\n"
     ]
    },
    {
     "name": "stdout",
     "output_type": "stream",
     "text": [
      "utc_time\n",
      "2015-01-01 00:00:00+00:00    44546.0\n",
      "2015-01-01 01:00:00+00:00    42967.0\n",
      "2015-01-01 02:00:00+00:00    41582.0\n",
      "2015-01-01 03:00:00+00:00    40964.0\n",
      "2015-01-01 04:00:00+00:00    40247.0\n",
      "Name: DEU, dtype: float64\n"
     ]
    }
   ],
   "source": [
    "# load electricity demand data\n",
    "df_elec = pd.read_csv('data/electricity_demand.csv', sep=';', index_col=0) # in MWh\n",
    "df_elec.index = pd.to_datetime(df_elec.index) #change index to datatime\n",
    "country='DEU'\n",
    "print(df_elec[country].head())\n",
    "\n",
    "# load onshore wind data\n",
    "df_onshorewind = pd.read_csv('data/onshore_wind_1979-2017.csv', sep=';', index_col=0)\n",
    "df_onshorewind.index = pd.to_datetime(df_onshorewind.index)\n",
    "\n",
    "# load offshore wind data\n",
    "df_offshorewind = pd.read_csv('data/offshore_wind_1979-2017.csv', sep=';', index_col=0)\n",
    "df_offshorewind.index = pd.to_datetime(df_offshorewind.index)\n",
    "\n",
    "# load large scale pv data\n",
    "df_pv = pd.read_csv('data\\pv_optimal.csv', sep=';', index_col=0)\n",
    "df_pv.index = pd.to_datetime(df_pv.index)\n",
    "\n",
    "# load rooftop pv data\n",
    "df_rooftop = pd.read_csv('data\\pv_rooftop.csv', sep=';', index_col=0)\n",
    "df_rooftop.index = pd.to_datetime(df_rooftop.index)\n"
   ]
  },
  {
   "cell_type": "markdown",
   "metadata": {},
   "source": [
    "# Make Network"
   ]
  },
  {
   "cell_type": "code",
   "execution_count": 5,
   "metadata": {},
   "outputs": [],
   "source": [
    "def annuity(n,r):\n",
    "    \"\"\" Calculate the annuity factor for an asset with lifetime n years and\n",
    "    discount rate  r \"\"\"\n",
    "\n",
    "    if r > 0:\n",
    "        return r/(1. - 1./(1.+r)**n)\n",
    "    else:\n",
    "        return 1/n"
   ]
  },
  {
   "cell_type": "code",
   "execution_count": null,
   "metadata": {},
   "outputs": [
    {
     "data": {
      "text/plain": [
       "Index(['coal'], dtype='object')"
      ]
     },
     "execution_count": 23,
     "metadata": {},
     "output_type": "execute_result"
    }
   ],
   "source": [
    "network = pypsa.Network()\n",
    "hours_in_2015 = pd.date_range('2015-01-01 00:00Z',\n",
    "                              '2015-12-31 23:00Z',\n",
    "                              freq='h')\n",
    "\n",
    "network.set_snapshots(hours_in_2015.values)\n",
    "\n",
    "# add electricity bus\n",
    "network.add(\"Bus\",\n",
    "            f\"E_bus{country}\")\n",
    "\n",
    "# add load to the bus\n",
    "network.add(\"Load\",\n",
    "            \"load\",\n",
    "            bus=f\"E_bus{country}\",\n",
    "            p_set=df_elec[country].values)\n",
    "\n",
    "# add the different carriers, only gas emits CO2\n",
    "network.add(\"Carrier\", \"gas\", co2_emissions=0.19) # in t_CO2/MWh_th\n",
    "network.add(\"Carrier\", \"coal\", co2_emissions=0.9) # in t_CO2/MWh_th\n",
    "network.add(\"Carrier\", \"onshorewind\")\n",
    "network.add(\"Carrier\", \"offshorewind\")\n",
    "network.add(\"Carrier\", \"solar\")\n",
    "\n",
    "''' Add renewable generators '''\n",
    "# Add onshore wind\n",
    "CF_wind_onshore = df_onshorewind[country][[hour.strftime(\"%Y-%m-%dT%H:%M:%SZ\") for hour in network.snapshots]]\n",
    "lifetime = 30 # years\n",
    "discount_rate = 0.07 # 7%\n",
    "capex = 910000 # in €/MW\n",
    "fopex = 0.033 # 3.3% of capex\n",
    "capital_cost_onshorewind = annuity(lifetime,discount_rate)*capex*(1+fopex) # in €/MW\n",
    "network.add(\"Generator\",\n",
    "            \"onshorewind\",\n",
    "            bus=f\"E_bus{country}\",\n",
    "            p_nom_extendable=True,\n",
    "            carrier=\"onshorewind\",\n",
    "            #p_nom_max=1000, # maximum capacity can be limited due to environmental constraints\n",
    "            capital_cost = capital_cost_onshorewind,\n",
    "            marginal_cost = 0,\n",
    "            p_max_pu = CF_wind_onshore.values)\n",
    "\n",
    "# Add offshore wind\n",
    "CF_wind_offshore = df_offshorewind[country][[hour.strftime(\"%Y-%m-%dT%H:%M:%SZ\") for hour in network.snapshots]]\n",
    "lifetime = 25 # years\n",
    "discount_rate = 0.07 # 7%\n",
    "capex = 2506000 # in €/MW\n",
    "fopex = 0.03 # 3% of capex\n",
    "capital_cost_offshorewind = annuity(lifetime,discount_rate)*capex*(1+fopex) # in €/MW\n",
    "network.add(\"Generator\",\n",
    "            \"offshorewind\",\n",
    "            bus=f\"E_bus{country}\",\n",
    "            p_nom_extendable=True,\n",
    "            carrier=\"offshorewind\",\n",
    "            #p_nom_max=1000, # maximum capacity can be limited due to environmental constraints\n",
    "            capital_cost = capital_cost_offshorewind,\n",
    "            marginal_cost = 0,\n",
    "            p_max_pu = CF_wind_offshore.values)\n",
    "\n",
    "# Add large scale solar\n",
    "CF_solar = df_pv[country][[hour.strftime(\"%Y-%m-%dT%H:%M:%SZ\") for hour in network.snapshots]]\n",
    "lifetime = 25 # years\n",
    "discount_rate = 0.07 # 7%\n",
    "capex = 425000 # in €/MW\n",
    "fopex = 0.03 # 3% of capex\n",
    "capital_cost_pv = annuity(lifetime,discount_rate)*capex*(1+fopex) # in €/MW\n",
    "network.add(\"Generator\",\n",
    "            \"PV\",\n",
    "            bus=f\"E_bus{country}\",\n",
    "            p_nom_extendable=True,\n",
    "            carrier=\"solar\",\n",
    "            #p_nom_max=1000, # maximum capacity can be limited due to environmental constraints\n",
    "            capital_cost = capital_cost_pv,\n",
    "            marginal_cost = 0,\n",
    "            p_max_pu = CF_solar.values)\n",
    "\n",
    "# Add rooftop solar\n",
    "CF_rooftop = df_rooftop[country][[hour.strftime(\"%Y-%m-%dT%H:%M:%SZ\") for hour in network.snapshots]]\n",
    "lifetime = 25 # years\n",
    "discount_rate = 0.07 # 7%\n",
    "capex = 725000 # in €/MW\n",
    "fopex = 0.02 # 2% of capex\n",
    "capital_cost_rooftop = annuity(lifetime,discount_rate)*capex*(1+fopex) # in €/MW\n",
    "network.add(\"Generator\",\n",
    "            \"rooftopPV\",\n",
    "            bus=f\"E_bus{country}\",\n",
    "            p_nom_extendable=True,\n",
    "            carrier=\"solar\",\n",
    "            #p_nom_max=1000, # maximum capacity can be limited due to environmental constraints\n",
    "            capital_cost = capital_cost_rooftop,\n",
    "            marginal_cost = 0,\n",
    "            p_max_pu = CF_rooftop.values)\n",
    "\n",
    "''' Add non-renewables generators '''\n",
    "# add OCGT (Open Cycle Gas Turbine) generator\n",
    "lifetime = 25 # years\n",
    "discount_rate = 0.07 # 7%\n",
    "capex = 560000 # in €/MW\n",
    "fopex = 0.033 # 3.3% of capex\n",
    "capital_cost_OCGT = annuity(lifetime,discount_rate)*capex*(1+fopex) # in €/MW\n",
    "fuel_cost = 21.6 # in €/MWh_th\n",
    "efficiency = 0.39 # MWh_elec/MWh_th\n",
    "marginal_cost_OCGT = fuel_cost/efficiency # in €/MWh_el\n",
    "network.add(\"Generator\",\n",
    "            \"OCGT\",\n",
    "            bus=f\"E_bus{country}\",\n",
    "            p_nom_extendable=True,\n",
    "            carrier=\"gas\",\n",
    "            #p_nom_max=1000,\n",
    "            capital_cost = capital_cost_OCGT,\n",
    "            efficiency = efficiency,\n",
    "            marginal_cost = marginal_cost_OCGT)\n",
    "\n",
    "# add coal generator (without CCS) # https://atb-archive.nrel.gov/electricity/2018/index.html?t=cc\n",
    "lifetime = 35 # years\n",
    "discount_rate = 0.07 # 7%\n",
    "capex = 3294000 # in €/MW\n",
    "fopex = 0.03 # 3% of capex\n",
    "capital_cost_coal = annuity(lifetime,discount_rate)*capex*(1+fopex) # in €/MW\n",
    "fuel_cost = 4 # in €/MWh_th \n",
    "efficiency = 0.36 # MWh_elec/MWh_th\n",
    "marginal_cost_coal = fuel_cost/efficiency # in €/MWh_el\n",
    "network.add(\"Generator\",\n",
    "            \"coal\",\n",
    "            bus=f\"E_bus{country}\",\n",
    "            p_nom_extendable=True,\n",
    "            carrier=\"coal\",\n",
    "            #p_nom_max=1000,\n",
    "            capital_cost = capital_cost_coal,\n",
    "            efficiency = efficiency,\n",
    "            marginal_cost = marginal_cost_coal)\n",
    "\n"
   ]
  },
  {
   "cell_type": "code",
   "execution_count": 24,
   "metadata": {},
   "outputs": [
    {
     "name": "stderr",
     "output_type": "stream",
     "text": [
      "WARNING:pypsa.consistency:The following buses have carriers which are not defined:\n",
      "Index(['E_busDEU'], dtype='object', name='Bus')\n",
      "INFO:linopy.model: Solve problem using Gurobi solver\n",
      "INFO:linopy.io:Writing objective.\n",
      "Writing constraints.: 100%|\u001b[38;2;128;191;255m██████████\u001b[0m| 5/5 [00:00<00:00,  5.13it/s]\n",
      "Writing continuous variables.: 100%|\u001b[38;2;128;191;255m██████████\u001b[0m| 2/2 [00:00<00:00, 10.71it/s]\n",
      "INFO:linopy.io: Writing time: 1.27s\n"
     ]
    },
    {
     "name": "stdout",
     "output_type": "stream",
     "text": [
      "Set parameter Username\n"
     ]
    },
    {
     "name": "stderr",
     "output_type": "stream",
     "text": [
      "INFO:gurobipy:Set parameter Username\n"
     ]
    },
    {
     "name": "stdout",
     "output_type": "stream",
     "text": [
      "Academic license - for non-commercial use only - expires 2025-09-04\n"
     ]
    },
    {
     "name": "stderr",
     "output_type": "stream",
     "text": [
      "INFO:gurobipy:Academic license - for non-commercial use only - expires 2025-09-04\n"
     ]
    },
    {
     "name": "stdout",
     "output_type": "stream",
     "text": [
      "Read LP format model from file C:\\Users\\alexk\\AppData\\Local\\Temp\\linopy-problem-_oy3gpr1.lp\n"
     ]
    },
    {
     "name": "stderr",
     "output_type": "stream",
     "text": [
      "INFO:gurobipy:Read LP format model from file C:\\Users\\alexk\\AppData\\Local\\Temp\\linopy-problem-_oy3gpr1.lp\n"
     ]
    },
    {
     "name": "stdout",
     "output_type": "stream",
     "text": [
      "Reading time = 0.41 seconds\n"
     ]
    },
    {
     "name": "stderr",
     "output_type": "stream",
     "text": [
      "INFO:gurobipy:Reading time = 0.41 seconds\n"
     ]
    },
    {
     "name": "stdout",
     "output_type": "stream",
     "text": [
      "obj: 113886 rows, 52566 columns, 201770 nonzeros\n"
     ]
    },
    {
     "name": "stderr",
     "output_type": "stream",
     "text": [
      "INFO:gurobipy:obj: 113886 rows, 52566 columns, 201770 nonzeros\n"
     ]
    },
    {
     "name": "stdout",
     "output_type": "stream",
     "text": [
      "Gurobi Optimizer version 11.0.3 build v11.0.3rc0 (win64 - Windows 11.0 (22631.2))\n"
     ]
    },
    {
     "name": "stderr",
     "output_type": "stream",
     "text": [
      "INFO:gurobipy:Gurobi Optimizer version 11.0.3 build v11.0.3rc0 (win64 - Windows 11.0 (22631.2))\n"
     ]
    },
    {
     "name": "stdout",
     "output_type": "stream",
     "text": [
      "\n"
     ]
    },
    {
     "name": "stderr",
     "output_type": "stream",
     "text": [
      "INFO:gurobipy:\n"
     ]
    },
    {
     "name": "stdout",
     "output_type": "stream",
     "text": [
      "CPU model: AMD Ryzen 5 4600H with Radeon Graphics, instruction set [SSE2|AVX|AVX2]\n"
     ]
    },
    {
     "name": "stderr",
     "output_type": "stream",
     "text": [
      "INFO:gurobipy:CPU model: AMD Ryzen 5 4600H with Radeon Graphics, instruction set [SSE2|AVX|AVX2]\n"
     ]
    },
    {
     "name": "stdout",
     "output_type": "stream",
     "text": [
      "Thread count: 6 physical cores, 12 logical processors, using up to 12 threads\n"
     ]
    },
    {
     "name": "stderr",
     "output_type": "stream",
     "text": [
      "INFO:gurobipy:Thread count: 6 physical cores, 12 logical processors, using up to 12 threads\n"
     ]
    },
    {
     "name": "stdout",
     "output_type": "stream",
     "text": [
      "\n"
     ]
    },
    {
     "name": "stderr",
     "output_type": "stream",
     "text": [
      "INFO:gurobipy:\n"
     ]
    },
    {
     "name": "stdout",
     "output_type": "stream",
     "text": [
      "Optimize a model with 113886 rows, 52566 columns and 201770 nonzeros\n"
     ]
    },
    {
     "name": "stderr",
     "output_type": "stream",
     "text": [
      "INFO:gurobipy:Optimize a model with 113886 rows, 52566 columns and 201770 nonzeros\n"
     ]
    },
    {
     "name": "stdout",
     "output_type": "stream",
     "text": [
      "Model fingerprint: 0x76f680cd\n"
     ]
    },
    {
     "name": "stderr",
     "output_type": "stream",
     "text": [
      "INFO:gurobipy:Model fingerprint: 0x76f680cd\n"
     ]
    },
    {
     "name": "stdout",
     "output_type": "stream",
     "text": [
      "Coefficient statistics:\n"
     ]
    },
    {
     "name": "stderr",
     "output_type": "stream",
     "text": [
      "INFO:gurobipy:Coefficient statistics:\n"
     ]
    },
    {
     "name": "stdout",
     "output_type": "stream",
     "text": [
      "  Matrix range     [1e-03, 1e+00]\n"
     ]
    },
    {
     "name": "stderr",
     "output_type": "stream",
     "text": [
      "INFO:gurobipy:  Matrix range     [1e-03, 1e+00]\n"
     ]
    },
    {
     "name": "stdout",
     "output_type": "stream",
     "text": [
      "  Objective range  [1e+01, 3e+05]\n"
     ]
    },
    {
     "name": "stderr",
     "output_type": "stream",
     "text": [
      "INFO:gurobipy:  Objective range  [1e+01, 3e+05]\n"
     ]
    },
    {
     "name": "stdout",
     "output_type": "stream",
     "text": [
      "  Bounds range     [0e+00, 0e+00]\n"
     ]
    },
    {
     "name": "stderr",
     "output_type": "stream",
     "text": [
      "INFO:gurobipy:  Bounds range     [0e+00, 0e+00]\n"
     ]
    },
    {
     "name": "stdout",
     "output_type": "stream",
     "text": [
      "  RHS range        [4e+04, 8e+04]\n"
     ]
    },
    {
     "name": "stderr",
     "output_type": "stream",
     "text": [
      "INFO:gurobipy:  RHS range        [4e+04, 8e+04]\n"
     ]
    },
    {
     "name": "stdout",
     "output_type": "stream",
     "text": [
      "Presolve removed 61042 rows and 8476 columns\n"
     ]
    },
    {
     "name": "stderr",
     "output_type": "stream",
     "text": [
      "INFO:gurobipy:Presolve removed 61042 rows and 8476 columns\n"
     ]
    },
    {
     "name": "stdout",
     "output_type": "stream",
     "text": [
      "Presolve time: 0.18s\n"
     ]
    },
    {
     "name": "stderr",
     "output_type": "stream",
     "text": [
      "INFO:gurobipy:Presolve time: 0.18s\n"
     ]
    },
    {
     "name": "stdout",
     "output_type": "stream",
     "text": [
      "Presolved: 52844 rows, 44090 columns, 132252 nonzeros\n"
     ]
    },
    {
     "name": "stderr",
     "output_type": "stream",
     "text": [
      "INFO:gurobipy:Presolved: 52844 rows, 44090 columns, 132252 nonzeros\n"
     ]
    },
    {
     "name": "stdout",
     "output_type": "stream",
     "text": [
      "\n"
     ]
    },
    {
     "name": "stderr",
     "output_type": "stream",
     "text": [
      "INFO:gurobipy:\n"
     ]
    },
    {
     "name": "stdout",
     "output_type": "stream",
     "text": [
      "Concurrent LP optimizer: primal simplex, dual simplex, and barrier\n"
     ]
    },
    {
     "name": "stderr",
     "output_type": "stream",
     "text": [
      "INFO:gurobipy:Concurrent LP optimizer: primal simplex, dual simplex, and barrier\n"
     ]
    },
    {
     "name": "stdout",
     "output_type": "stream",
     "text": [
      "Showing barrier log only...\n"
     ]
    },
    {
     "name": "stderr",
     "output_type": "stream",
     "text": [
      "INFO:gurobipy:Showing barrier log only...\n"
     ]
    },
    {
     "name": "stdout",
     "output_type": "stream",
     "text": [
      "\n"
     ]
    },
    {
     "name": "stderr",
     "output_type": "stream",
     "text": [
      "INFO:gurobipy:\n"
     ]
    },
    {
     "name": "stdout",
     "output_type": "stream",
     "text": [
      "Ordering time: 0.02s\n"
     ]
    },
    {
     "name": "stderr",
     "output_type": "stream",
     "text": [
      "INFO:gurobipy:Ordering time: 0.02s\n"
     ]
    },
    {
     "name": "stdout",
     "output_type": "stream",
     "text": [
      "\n"
     ]
    },
    {
     "name": "stderr",
     "output_type": "stream",
     "text": [
      "INFO:gurobipy:\n"
     ]
    },
    {
     "name": "stdout",
     "output_type": "stream",
     "text": [
      "Barrier statistics:\n"
     ]
    },
    {
     "name": "stderr",
     "output_type": "stream",
     "text": [
      "INFO:gurobipy:Barrier statistics:\n"
     ]
    },
    {
     "name": "stdout",
     "output_type": "stream",
     "text": [
      " Dense cols : 6\n"
     ]
    },
    {
     "name": "stderr",
     "output_type": "stream",
     "text": [
      "INFO:gurobipy: Dense cols : 6\n"
     ]
    },
    {
     "name": "stdout",
     "output_type": "stream",
     "text": [
      " AA' NZ     : 8.817e+04\n"
     ]
    },
    {
     "name": "stderr",
     "output_type": "stream",
     "text": [
      "INFO:gurobipy: AA' NZ     : 8.817e+04\n"
     ]
    },
    {
     "name": "stdout",
     "output_type": "stream",
     "text": [
      " Factor NZ  : 4.649e+05 (roughly 40 MB of memory)\n"
     ]
    },
    {
     "name": "stderr",
     "output_type": "stream",
     "text": [
      "INFO:gurobipy: Factor NZ  : 4.649e+05 (roughly 40 MB of memory)\n"
     ]
    },
    {
     "name": "stdout",
     "output_type": "stream",
     "text": [
      " Factor Ops : 4.372e+06 (less than 1 second per iteration)\n"
     ]
    },
    {
     "name": "stderr",
     "output_type": "stream",
     "text": [
      "INFO:gurobipy: Factor Ops : 4.372e+06 (less than 1 second per iteration)\n"
     ]
    },
    {
     "name": "stdout",
     "output_type": "stream",
     "text": [
      " Threads    : 4\n"
     ]
    },
    {
     "name": "stderr",
     "output_type": "stream",
     "text": [
      "INFO:gurobipy: Threads    : 4\n"
     ]
    },
    {
     "name": "stdout",
     "output_type": "stream",
     "text": [
      "\n"
     ]
    },
    {
     "name": "stderr",
     "output_type": "stream",
     "text": [
      "INFO:gurobipy:\n"
     ]
    },
    {
     "name": "stdout",
     "output_type": "stream",
     "text": [
      "                  Objective                Residual\n"
     ]
    },
    {
     "name": "stderr",
     "output_type": "stream",
     "text": [
      "INFO:gurobipy:                  Objective                Residual\n"
     ]
    },
    {
     "name": "stdout",
     "output_type": "stream",
     "text": [
      "Iter       Primal          Dual         Primal    Dual     Compl     Time\n"
     ]
    },
    {
     "name": "stderr",
     "output_type": "stream",
     "text": [
      "INFO:gurobipy:Iter       Primal          Dual         Primal    Dual     Compl     Time\n"
     ]
    },
    {
     "name": "stdout",
     "output_type": "stream",
     "text": [
      "   0   3.02581350e+11  0.00000000e+00  6.09e+05 0.00e+00  1.88e+08     0s\n"
     ]
    },
    {
     "name": "stderr",
     "output_type": "stream",
     "text": [
      "INFO:gurobipy:   0   3.02581350e+11  0.00000000e+00  6.09e+05 0.00e+00  1.88e+08     0s\n"
     ]
    },
    {
     "name": "stdout",
     "output_type": "stream",
     "text": [
      "   1   4.48546965e+11 -5.84535333e+11  9.72e+04 7.07e+02  5.54e+07     0s\n"
     ]
    },
    {
     "name": "stderr",
     "output_type": "stream",
     "text": [
      "INFO:gurobipy:   1   4.48546965e+11 -5.84535333e+11  9.72e+04 7.07e+02  5.54e+07     0s\n"
     ]
    },
    {
     "name": "stdout",
     "output_type": "stream",
     "text": [
      "   2   3.71784857e+11 -3.08001708e+11  1.46e-10 6.00e+00  5.44e+06     1s\n"
     ]
    },
    {
     "name": "stderr",
     "output_type": "stream",
     "text": [
      "INFO:gurobipy:   2   3.71784857e+11 -3.08001708e+11  1.46e-10 6.00e+00  5.44e+06     1s\n"
     ]
    },
    {
     "name": "stdout",
     "output_type": "stream",
     "text": [
      "   3   1.57842146e+11 -1.80419228e+10  1.16e-10 2.95e-01  1.35e+06     1s\n"
     ]
    },
    {
     "name": "stderr",
     "output_type": "stream",
     "text": [
      "INFO:gurobipy:   3   1.57842146e+11 -1.80419228e+10  1.16e-10 2.95e-01  1.35e+06     1s\n"
     ]
    },
    {
     "name": "stdout",
     "output_type": "stream",
     "text": [
      "   4   9.09264919e+10  7.80125926e+09  1.75e-10 9.63e-02  6.32e+05     1s\n"
     ]
    },
    {
     "name": "stderr",
     "output_type": "stream",
     "text": [
      "INFO:gurobipy:   4   9.09264919e+10  7.80125926e+09  1.75e-10 9.63e-02  6.32e+05     1s\n"
     ]
    },
    {
     "name": "stdout",
     "output_type": "stream",
     "text": [
      "   5   6.22034065e+10  1.22569764e+10  3.49e-10 6.23e-02  3.80e+05     1s\n"
     ]
    },
    {
     "name": "stderr",
     "output_type": "stream",
     "text": [
      "INFO:gurobipy:   5   6.22034065e+10  1.22569764e+10  3.49e-10 6.23e-02  3.80e+05     1s\n"
     ]
    },
    {
     "name": "stdout",
     "output_type": "stream",
     "text": [
      "   6   4.71828885e+10  1.59316633e+10  1.41e-08 3.42e-02  2.37e+05     1s\n"
     ]
    },
    {
     "name": "stderr",
     "output_type": "stream",
     "text": [
      "INFO:gurobipy:   6   4.71828885e+10  1.59316633e+10  1.41e-08 3.42e-02  2.37e+05     1s\n"
     ]
    },
    {
     "name": "stdout",
     "output_type": "stream",
     "text": [
      "   7   3.92872187e+10  1.93133196e+10  5.76e-09 1.26e-02  1.51e+05     1s\n"
     ]
    },
    {
     "name": "stderr",
     "output_type": "stream",
     "text": [
      "INFO:gurobipy:   7   3.92872187e+10  1.93133196e+10  5.76e-09 1.26e-02  1.51e+05     1s\n"
     ]
    },
    {
     "name": "stdout",
     "output_type": "stream",
     "text": [
      "   8   3.84938018e+10  2.00461659e+10  1.23e-08 1.10e-02  1.40e+05     1s\n"
     ]
    },
    {
     "name": "stderr",
     "output_type": "stream",
     "text": [
      "INFO:gurobipy:   8   3.84938018e+10  2.00461659e+10  1.23e-08 1.10e-02  1.40e+05     1s\n"
     ]
    },
    {
     "name": "stdout",
     "output_type": "stream",
     "text": [
      "   9   3.15291337e+10  2.08322113e+10  3.66e-07 3.87e-04  8.11e+04     1s\n"
     ]
    },
    {
     "name": "stderr",
     "output_type": "stream",
     "text": [
      "INFO:gurobipy:   9   3.15291337e+10  2.08322113e+10  3.66e-07 3.87e-04  8.11e+04     1s\n"
     ]
    },
    {
     "name": "stdout",
     "output_type": "stream",
     "text": [
      "  10   2.71240823e+10  2.17452813e+10  1.94e-07 2.01e-09  4.08e+04     1s\n"
     ]
    },
    {
     "name": "stderr",
     "output_type": "stream",
     "text": [
      "INFO:gurobipy:  10   2.71240823e+10  2.17452813e+10  1.94e-07 2.01e-09  4.08e+04     1s\n"
     ]
    },
    {
     "name": "stdout",
     "output_type": "stream",
     "text": [
      "  11   2.57882247e+10  2.23442851e+10  7.08e-08 5.11e-10  2.61e+04     1s\n"
     ]
    },
    {
     "name": "stderr",
     "output_type": "stream",
     "text": [
      "INFO:gurobipy:  11   2.57882247e+10  2.23442851e+10  7.08e-08 5.11e-10  2.61e+04     1s\n"
     ]
    },
    {
     "name": "stdout",
     "output_type": "stream",
     "text": [
      "  12   2.48840229e+10  2.25190106e+10  7.44e-07 2.41e-09  1.79e+04     1s\n"
     ]
    },
    {
     "name": "stderr",
     "output_type": "stream",
     "text": [
      "INFO:gurobipy:  12   2.48840229e+10  2.25190106e+10  7.44e-07 2.41e-09  1.79e+04     1s\n"
     ]
    },
    {
     "name": "stdout",
     "output_type": "stream",
     "text": [
      "  13   2.45137027e+10  2.26249871e+10  8.09e-08 1.47e-09  1.43e+04     1s\n"
     ]
    },
    {
     "name": "stderr",
     "output_type": "stream",
     "text": [
      "INFO:gurobipy:  13   2.45137027e+10  2.26249871e+10  8.09e-08 1.47e-09  1.43e+04     1s\n"
     ]
    },
    {
     "name": "stdout",
     "output_type": "stream",
     "text": [
      "  14   2.41059123e+10  2.28497819e+10  5.81e-07 3.57e-10  9.52e+03     1s\n"
     ]
    },
    {
     "name": "stderr",
     "output_type": "stream",
     "text": [
      "INFO:gurobipy:  14   2.41059123e+10  2.28497819e+10  5.81e-07 3.57e-10  9.52e+03     1s\n"
     ]
    },
    {
     "name": "stdout",
     "output_type": "stream",
     "text": [
      "  15   2.39097818e+10  2.29172323e+10  5.76e-07 4.77e-10  7.52e+03     1s\n"
     ]
    },
    {
     "name": "stderr",
     "output_type": "stream",
     "text": [
      "INFO:gurobipy:  15   2.39097818e+10  2.29172323e+10  5.76e-07 4.77e-10  7.52e+03     1s\n"
     ]
    },
    {
     "name": "stdout",
     "output_type": "stream",
     "text": [
      "  16   2.38356133e+10  2.29906141e+10  5.83e-07 2.69e-10  6.40e+03     1s\n"
     ]
    },
    {
     "name": "stderr",
     "output_type": "stream",
     "text": [
      "INFO:gurobipy:  16   2.38356133e+10  2.29906141e+10  5.83e-07 2.69e-10  6.40e+03     1s\n"
     ]
    },
    {
     "name": "stdout",
     "output_type": "stream",
     "text": [
      "  17   2.38285738e+10  2.30387218e+10  2.51e-05 6.71e-10  5.98e+03     1s\n"
     ]
    },
    {
     "name": "stderr",
     "output_type": "stream",
     "text": [
      "INFO:gurobipy:  17   2.38285738e+10  2.30387218e+10  2.51e-05 6.71e-10  5.98e+03     1s\n"
     ]
    },
    {
     "name": "stdout",
     "output_type": "stream",
     "text": [
      "  18   2.36619581e+10  2.30722535e+10  7.89e-06 7.04e-10  4.47e+03     1s\n"
     ]
    },
    {
     "name": "stderr",
     "output_type": "stream",
     "text": [
      "INFO:gurobipy:  18   2.36619581e+10  2.30722535e+10  7.89e-06 7.04e-10  4.47e+03     1s\n"
     ]
    },
    {
     "name": "stdout",
     "output_type": "stream",
     "text": [
      "  19   2.36276031e+10  2.31017405e+10  7.86e-06 9.78e-11  3.98e+03     1s\n"
     ]
    },
    {
     "name": "stderr",
     "output_type": "stream",
     "text": [
      "INFO:gurobipy:  19   2.36276031e+10  2.31017405e+10  7.86e-06 9.78e-11  3.98e+03     1s\n"
     ]
    },
    {
     "name": "stdout",
     "output_type": "stream",
     "text": [
      "  20   2.35434047e+10  2.31609979e+10  6.72e-06 5.13e-10  2.90e+03     1s\n"
     ]
    },
    {
     "name": "stderr",
     "output_type": "stream",
     "text": [
      "INFO:gurobipy:  20   2.35434047e+10  2.31609979e+10  6.72e-06 5.13e-10  2.90e+03     1s\n"
     ]
    },
    {
     "name": "stdout",
     "output_type": "stream",
     "text": [
      "  21   2.35018642e+10  2.31751635e+10  4.26e-06 5.02e-10  2.48e+03     2s\n"
     ]
    },
    {
     "name": "stderr",
     "output_type": "stream",
     "text": [
      "INFO:gurobipy:  21   2.35018642e+10  2.31751635e+10  4.26e-06 5.02e-10  2.48e+03     2s\n"
     ]
    },
    {
     "name": "stdout",
     "output_type": "stream",
     "text": [
      "  22   2.34643644e+10  2.32058815e+10  2.61e-06 2.93e-10  1.96e+03     2s\n"
     ]
    },
    {
     "name": "stderr",
     "output_type": "stream",
     "text": [
      "INFO:gurobipy:  22   2.34643644e+10  2.32058815e+10  2.61e-06 2.93e-10  1.96e+03     2s\n"
     ]
    },
    {
     "name": "stdout",
     "output_type": "stream",
     "text": [
      "  23   2.34305132e+10  2.32222093e+10  2.34e-06 1.43e-09  1.58e+03     2s\n"
     ]
    },
    {
     "name": "stderr",
     "output_type": "stream",
     "text": [
      "INFO:gurobipy:  23   2.34305132e+10  2.32222093e+10  2.34e-06 1.43e-09  1.58e+03     2s\n"
     ]
    },
    {
     "name": "stdout",
     "output_type": "stream",
     "text": [
      "  24   2.33988525e+10  2.32274225e+10  2.41e-06 1.18e-09  1.30e+03     2s\n"
     ]
    },
    {
     "name": "stderr",
     "output_type": "stream",
     "text": [
      "INFO:gurobipy:  24   2.33988525e+10  2.32274225e+10  2.41e-06 1.18e-09  1.30e+03     2s\n"
     ]
    },
    {
     "name": "stdout",
     "output_type": "stream",
     "text": [
      "  25   2.33843380e+10  2.32320972e+10  1.04e-06 6.95e-10  1.15e+03     2s\n"
     ]
    },
    {
     "name": "stderr",
     "output_type": "stream",
     "text": [
      "INFO:gurobipy:  25   2.33843380e+10  2.32320972e+10  1.04e-06 6.95e-10  1.15e+03     2s\n"
     ]
    },
    {
     "name": "stdout",
     "output_type": "stream",
     "text": [
      "  26   2.33725756e+10  2.32388327e+10  1.28e-06 1.89e-10  1.01e+03     2s\n"
     ]
    },
    {
     "name": "stderr",
     "output_type": "stream",
     "text": [
      "INFO:gurobipy:  26   2.33725756e+10  2.32388327e+10  1.28e-06 1.89e-10  1.01e+03     2s\n"
     ]
    },
    {
     "name": "stdout",
     "output_type": "stream",
     "text": [
      "  27   2.33625443e+10  2.32416164e+10  1.23e-06 5.36e-10  9.16e+02     2s\n"
     ]
    },
    {
     "name": "stderr",
     "output_type": "stream",
     "text": [
      "INFO:gurobipy:  27   2.33625443e+10  2.32416164e+10  1.23e-06 5.36e-10  9.16e+02     2s\n"
     ]
    },
    {
     "name": "stdout",
     "output_type": "stream",
     "text": [
      "  28   2.33504416e+10  2.32462286e+10  7.61e-07 6.46e-10  7.90e+02     2s\n"
     ]
    },
    {
     "name": "stderr",
     "output_type": "stream",
     "text": [
      "INFO:gurobipy:  28   2.33504416e+10  2.32462286e+10  7.61e-07 6.46e-10  7.90e+02     2s\n"
     ]
    },
    {
     "name": "stdout",
     "output_type": "stream",
     "text": [
      "  29   2.33386199e+10  2.32490816e+10  1.34e-06 1.23e-09  6.78e+02     2s\n"
     ]
    },
    {
     "name": "stderr",
     "output_type": "stream",
     "text": [
      "INFO:gurobipy:  29   2.33386199e+10  2.32490816e+10  1.34e-06 1.23e-09  6.78e+02     2s\n"
     ]
    },
    {
     "name": "stdout",
     "output_type": "stream",
     "text": [
      "  30   2.33343783e+10  2.32522103e+10  2.82e-06 1.42e-10  6.23e+02     2s\n"
     ]
    },
    {
     "name": "stderr",
     "output_type": "stream",
     "text": [
      "INFO:gurobipy:  30   2.33343783e+10  2.32522103e+10  2.82e-06 1.42e-10  6.23e+02     2s\n"
     ]
    },
    {
     "name": "stdout",
     "output_type": "stream",
     "text": [
      "  31   2.33265534e+10  2.32584856e+10  2.45e-06 3.83e-10  5.16e+02     2s\n"
     ]
    },
    {
     "name": "stderr",
     "output_type": "stream",
     "text": [
      "INFO:gurobipy:  31   2.33265534e+10  2.32584856e+10  2.45e-06 3.83e-10  5.16e+02     2s\n"
     ]
    },
    {
     "name": "stdout",
     "output_type": "stream",
     "text": [
      "  32   2.33206715e+10  2.32604740e+10  2.16e-06 7.09e-10  4.56e+02     2s\n"
     ]
    },
    {
     "name": "stderr",
     "output_type": "stream",
     "text": [
      "INFO:gurobipy:  32   2.33206715e+10  2.32604740e+10  2.16e-06 7.09e-10  4.56e+02     2s\n"
     ]
    },
    {
     "name": "stdout",
     "output_type": "stream",
     "text": [
      "  33   2.33123363e+10  2.32643340e+10  1.76e-06 3.78e-10  3.64e+02     2s\n"
     ]
    },
    {
     "name": "stderr",
     "output_type": "stream",
     "text": [
      "INFO:gurobipy:  33   2.33123363e+10  2.32643340e+10  1.76e-06 3.78e-10  3.64e+02     2s\n"
     ]
    },
    {
     "name": "stdout",
     "output_type": "stream",
     "text": [
      "  34   2.33083634e+10  2.32660157e+10  1.58e-06 6.32e-10  3.21e+02     2s\n"
     ]
    },
    {
     "name": "stderr",
     "output_type": "stream",
     "text": [
      "INFO:gurobipy:  34   2.33083634e+10  2.32660157e+10  1.58e-06 6.32e-10  3.21e+02     2s\n"
     ]
    },
    {
     "name": "stdout",
     "output_type": "stream",
     "text": [
      "  35   2.33033728e+10  2.32671476e+10  1.91e-06 1.39e-09  2.74e+02     2s\n"
     ]
    },
    {
     "name": "stderr",
     "output_type": "stream",
     "text": [
      "INFO:gurobipy:  35   2.33033728e+10  2.32671476e+10  1.91e-06 1.39e-09  2.74e+02     2s\n"
     ]
    },
    {
     "name": "stdout",
     "output_type": "stream",
     "text": [
      "  36   2.33005505e+10  2.32677031e+10  1.68e-06 6.81e-10  2.49e+02     2s\n"
     ]
    },
    {
     "name": "stderr",
     "output_type": "stream",
     "text": [
      "INFO:gurobipy:  36   2.33005505e+10  2.32677031e+10  1.68e-06 6.81e-10  2.49e+02     2s\n"
     ]
    },
    {
     "name": "stdout",
     "output_type": "stream",
     "text": [
      "  37   2.32986579e+10  2.32691714e+10  1.70e-06 7.54e-10  2.23e+02     2s\n"
     ]
    },
    {
     "name": "stderr",
     "output_type": "stream",
     "text": [
      "INFO:gurobipy:  37   2.32986579e+10  2.32691714e+10  1.70e-06 7.54e-10  2.23e+02     2s\n"
     ]
    },
    {
     "name": "stdout",
     "output_type": "stream",
     "text": [
      "  38   2.32952140e+10  2.32702243e+10  1.30e-06 6.17e-10  1.89e+02     2s\n"
     ]
    },
    {
     "name": "stderr",
     "output_type": "stream",
     "text": [
      "INFO:gurobipy:  38   2.32952140e+10  2.32702243e+10  1.30e-06 6.17e-10  1.89e+02     2s\n"
     ]
    },
    {
     "name": "stdout",
     "output_type": "stream",
     "text": [
      "  39   2.32932002e+10  2.32706673e+10  1.33e-06 7.84e-10  1.71e+02     3s\n"
     ]
    },
    {
     "name": "stderr",
     "output_type": "stream",
     "text": [
      "INFO:gurobipy:  39   2.32932002e+10  2.32706673e+10  1.33e-06 7.84e-10  1.71e+02     3s\n"
     ]
    },
    {
     "name": "stdout",
     "output_type": "stream",
     "text": [
      "  40   2.32909869e+10  2.32711417e+10  2.64e-06 8.27e-10  1.50e+02     3s\n"
     ]
    },
    {
     "name": "stderr",
     "output_type": "stream",
     "text": [
      "INFO:gurobipy:  40   2.32909869e+10  2.32711417e+10  2.64e-06 8.27e-10  1.50e+02     3s\n"
     ]
    },
    {
     "name": "stdout",
     "output_type": "stream",
     "text": [
      "  41   2.32902471e+10  2.32714189e+10  2.54e-06 8.90e-10  1.43e+02     3s\n"
     ]
    },
    {
     "name": "stderr",
     "output_type": "stream",
     "text": [
      "INFO:gurobipy:  41   2.32902471e+10  2.32714189e+10  2.54e-06 8.90e-10  1.43e+02     3s\n"
     ]
    },
    {
     "name": "stdout",
     "output_type": "stream",
     "text": [
      "  42   2.32890095e+10  2.32721078e+10  2.33e-06 8.52e-10  1.28e+02     3s\n"
     ]
    },
    {
     "name": "stderr",
     "output_type": "stream",
     "text": [
      "INFO:gurobipy:  42   2.32890095e+10  2.32721078e+10  2.33e-06 8.52e-10  1.28e+02     3s\n"
     ]
    },
    {
     "name": "stdout",
     "output_type": "stream",
     "text": [
      "  43   2.32879310e+10  2.32728790e+10  2.16e-06 7.97e-10  1.14e+02     3s\n"
     ]
    },
    {
     "name": "stderr",
     "output_type": "stream",
     "text": [
      "INFO:gurobipy:  43   2.32879310e+10  2.32728790e+10  2.16e-06 7.97e-10  1.14e+02     3s\n"
     ]
    },
    {
     "name": "stdout",
     "output_type": "stream",
     "text": [
      "  44   2.32862790e+10  2.32730184e+10  1.84e-06 5.42e-10  1.00e+02     3s\n"
     ]
    },
    {
     "name": "stderr",
     "output_type": "stream",
     "text": [
      "INFO:gurobipy:  44   2.32862790e+10  2.32730184e+10  1.84e-06 5.42e-10  1.00e+02     3s\n"
     ]
    },
    {
     "name": "stdout",
     "output_type": "stream",
     "text": [
      "  45   2.32848115e+10  2.32732461e+10  1.61e-06 3.52e-10  8.76e+01     3s\n"
     ]
    },
    {
     "name": "stderr",
     "output_type": "stream",
     "text": [
      "INFO:gurobipy:  45   2.32848115e+10  2.32732461e+10  1.61e-06 3.52e-10  8.76e+01     3s\n"
     ]
    },
    {
     "name": "stdout",
     "output_type": "stream",
     "text": [
      "  46   2.32842352e+10  2.32733630e+10  1.51e-06 5.77e-10  8.23e+01     3s\n"
     ]
    },
    {
     "name": "stderr",
     "output_type": "stream",
     "text": [
      "INFO:gurobipy:  46   2.32842352e+10  2.32733630e+10  1.51e-06 5.77e-10  8.23e+01     3s\n"
     ]
    },
    {
     "name": "stdout",
     "output_type": "stream",
     "text": [
      "  47   2.32835197e+10  2.32736377e+10  1.41e-06 3.69e-10  7.48e+01     3s\n"
     ]
    },
    {
     "name": "stderr",
     "output_type": "stream",
     "text": [
      "INFO:gurobipy:  47   2.32835197e+10  2.32736377e+10  1.41e-06 3.69e-10  7.48e+01     3s\n"
     ]
    },
    {
     "name": "stdout",
     "output_type": "stream",
     "text": [
      "  48   2.32828679e+10  2.32738820e+10  1.31e-06 3.86e-10  6.80e+01     3s\n"
     ]
    },
    {
     "name": "stderr",
     "output_type": "stream",
     "text": [
      "INFO:gurobipy:  48   2.32828679e+10  2.32738820e+10  1.31e-06 3.86e-10  6.80e+01     3s\n"
     ]
    },
    {
     "name": "stdout",
     "output_type": "stream",
     "text": [
      "  49   2.32818021e+10  2.32740205e+10  1.12e-06 7.46e-10  5.89e+01     3s\n"
     ]
    },
    {
     "name": "stderr",
     "output_type": "stream",
     "text": [
      "INFO:gurobipy:  49   2.32818021e+10  2.32740205e+10  1.12e-06 7.46e-10  5.89e+01     3s\n"
     ]
    },
    {
     "name": "stdout",
     "output_type": "stream",
     "text": [
      "  50   2.32800859e+10  2.32741646e+10  3.65e-06 6.77e-10  4.48e+01     3s\n"
     ]
    },
    {
     "name": "stderr",
     "output_type": "stream",
     "text": [
      "INFO:gurobipy:  50   2.32800859e+10  2.32741646e+10  3.65e-06 6.77e-10  4.48e+01     3s\n"
     ]
    },
    {
     "name": "stdout",
     "output_type": "stream",
     "text": [
      "  51   2.32799203e+10  2.32744390e+10  3.42e-06 1.41e-10  4.15e+01     3s\n"
     ]
    },
    {
     "name": "stderr",
     "output_type": "stream",
     "text": [
      "INFO:gurobipy:  51   2.32799203e+10  2.32744390e+10  3.42e-06 1.41e-10  4.15e+01     3s\n"
     ]
    },
    {
     "name": "stdout",
     "output_type": "stream",
     "text": [
      "  52   2.32774818e+10  2.32753238e+10  1.30e-06 8.62e-10  1.63e+01     3s\n"
     ]
    },
    {
     "name": "stderr",
     "output_type": "stream",
     "text": [
      "INFO:gurobipy:  52   2.32774818e+10  2.32753238e+10  1.30e-06 8.62e-10  1.63e+01     3s\n"
     ]
    },
    {
     "name": "stdout",
     "output_type": "stream",
     "text": [
      "  53   2.32763021e+10  2.32759285e+10  9.74e-07 3.71e-10  2.83e+00     3s\n"
     ]
    },
    {
     "name": "stderr",
     "output_type": "stream",
     "text": [
      "INFO:gurobipy:  53   2.32763021e+10  2.32759285e+10  9.74e-07 3.71e-10  2.83e+00     3s\n"
     ]
    },
    {
     "name": "stdout",
     "output_type": "stream",
     "text": [
      "  54   2.32761512e+10  2.32761112e+10  4.95e-06 9.09e-10  3.02e-01     4s\n"
     ]
    },
    {
     "name": "stderr",
     "output_type": "stream",
     "text": [
      "INFO:gurobipy:  54   2.32761512e+10  2.32761112e+10  4.95e-06 9.09e-10  3.02e-01     4s\n"
     ]
    },
    {
     "name": "stdout",
     "output_type": "stream",
     "text": [
      "  55   2.32761235e+10  2.32761154e+10  1.10e-06 1.95e-10  6.10e-02     4s\n"
     ]
    },
    {
     "name": "stderr",
     "output_type": "stream",
     "text": [
      "INFO:gurobipy:  55   2.32761235e+10  2.32761154e+10  1.10e-06 1.95e-10  6.10e-02     4s\n"
     ]
    },
    {
     "name": "stdout",
     "output_type": "stream",
     "text": [
      "  56   2.32761157e+10  2.32761154e+10  2.44e-08 6.58e-10  2.26e-03     4s\n"
     ]
    },
    {
     "name": "stderr",
     "output_type": "stream",
     "text": [
      "INFO:gurobipy:  56   2.32761157e+10  2.32761154e+10  2.44e-08 6.58e-10  2.26e-03     4s\n"
     ]
    },
    {
     "name": "stdout",
     "output_type": "stream",
     "text": [
      "  57   2.32761155e+10  2.32761155e+10  2.47e-07 9.92e-13  5.25e-05     4s\n"
     ]
    },
    {
     "name": "stderr",
     "output_type": "stream",
     "text": [
      "INFO:gurobipy:  57   2.32761155e+10  2.32761155e+10  2.47e-07 9.92e-13  5.25e-05     4s\n"
     ]
    },
    {
     "name": "stdout",
     "output_type": "stream",
     "text": [
      "  58   2.32761155e+10  2.32761155e+10  5.82e-11 6.55e-10  5.74e-11     4s\n"
     ]
    },
    {
     "name": "stderr",
     "output_type": "stream",
     "text": [
      "INFO:gurobipy:  58   2.32761155e+10  2.32761155e+10  5.82e-11 6.55e-10  5.74e-11     4s\n"
     ]
    },
    {
     "name": "stdout",
     "output_type": "stream",
     "text": [
      "\n"
     ]
    },
    {
     "name": "stderr",
     "output_type": "stream",
     "text": [
      "INFO:gurobipy:\n"
     ]
    },
    {
     "name": "stdout",
     "output_type": "stream",
     "text": [
      "Barrier solved model in 58 iterations and 3.85 seconds (1.12 work units)\n"
     ]
    },
    {
     "name": "stderr",
     "output_type": "stream",
     "text": [
      "INFO:gurobipy:Barrier solved model in 58 iterations and 3.85 seconds (1.12 work units)\n"
     ]
    },
    {
     "name": "stdout",
     "output_type": "stream",
     "text": [
      "Optimal objective 2.32761155e+10\n"
     ]
    },
    {
     "name": "stderr",
     "output_type": "stream",
     "text": [
      "INFO:gurobipy:Optimal objective 2.32761155e+10\n"
     ]
    },
    {
     "name": "stdout",
     "output_type": "stream",
     "text": [
      "\n"
     ]
    },
    {
     "name": "stderr",
     "output_type": "stream",
     "text": [
      "INFO:gurobipy:\n"
     ]
    },
    {
     "name": "stdout",
     "output_type": "stream",
     "text": [
      "Crossover log...\n"
     ]
    },
    {
     "name": "stderr",
     "output_type": "stream",
     "text": [
      "INFO:gurobipy:Crossover log...\n"
     ]
    },
    {
     "name": "stdout",
     "output_type": "stream",
     "text": [
      "\n"
     ]
    },
    {
     "name": "stderr",
     "output_type": "stream",
     "text": [
      "INFO:gurobipy:\n"
     ]
    },
    {
     "name": "stdout",
     "output_type": "stream",
     "text": [
      "   13309 DPushes remaining with DInf 0.0000000e+00                 4s\n"
     ]
    },
    {
     "name": "stderr",
     "output_type": "stream",
     "text": [
      "INFO:gurobipy:   13309 DPushes remaining with DInf 0.0000000e+00                 4s\n"
     ]
    },
    {
     "name": "stdout",
     "output_type": "stream",
     "text": [
      "       0 DPushes remaining with DInf 0.0000000e+00                 4s\n"
     ]
    },
    {
     "name": "stderr",
     "output_type": "stream",
     "text": [
      "INFO:gurobipy:       0 DPushes remaining with DInf 0.0000000e+00                 4s\n"
     ]
    },
    {
     "name": "stdout",
     "output_type": "stream",
     "text": [
      "\n"
     ]
    },
    {
     "name": "stderr",
     "output_type": "stream",
     "text": [
      "INFO:gurobipy:\n"
     ]
    },
    {
     "name": "stdout",
     "output_type": "stream",
     "text": [
      "       0 PPushes remaining with PInf 0.0000000e+00                 4s\n"
     ]
    },
    {
     "name": "stderr",
     "output_type": "stream",
     "text": [
      "INFO:gurobipy:       0 PPushes remaining with PInf 0.0000000e+00                 4s\n"
     ]
    },
    {
     "name": "stdout",
     "output_type": "stream",
     "text": [
      "\n"
     ]
    },
    {
     "name": "stderr",
     "output_type": "stream",
     "text": [
      "INFO:gurobipy:\n"
     ]
    },
    {
     "name": "stdout",
     "output_type": "stream",
     "text": [
      "  Push phase complete: Pinf 0.0000000e+00, Dinf 4.5272897e-11      4s\n"
     ]
    },
    {
     "name": "stderr",
     "output_type": "stream",
     "text": [
      "INFO:gurobipy:  Push phase complete: Pinf 0.0000000e+00, Dinf 4.5272897e-11      4s\n"
     ]
    },
    {
     "name": "stdout",
     "output_type": "stream",
     "text": [
      "\n"
     ]
    },
    {
     "name": "stderr",
     "output_type": "stream",
     "text": [
      "INFO:gurobipy:\n"
     ]
    },
    {
     "name": "stdout",
     "output_type": "stream",
     "text": [
      "\n"
     ]
    },
    {
     "name": "stderr",
     "output_type": "stream",
     "text": [
      "INFO:gurobipy:\n"
     ]
    },
    {
     "name": "stdout",
     "output_type": "stream",
     "text": [
      "Solved with barrier\n"
     ]
    },
    {
     "name": "stderr",
     "output_type": "stream",
     "text": [
      "INFO:gurobipy:Solved with barrier\n"
     ]
    },
    {
     "name": "stdout",
     "output_type": "stream",
     "text": [
      "Iteration    Objective       Primal Inf.    Dual Inf.      Time\n"
     ]
    },
    {
     "name": "stderr",
     "output_type": "stream",
     "text": [
      "INFO:gurobipy:Iteration    Objective       Primal Inf.    Dual Inf.      Time\n"
     ]
    },
    {
     "name": "stdout",
     "output_type": "stream",
     "text": [
      "   13312    2.3276116e+10   0.000000e+00   0.000000e+00      4s\n"
     ]
    },
    {
     "name": "stderr",
     "output_type": "stream",
     "text": [
      "INFO:gurobipy:   13312    2.3276116e+10   0.000000e+00   0.000000e+00      4s\n"
     ]
    },
    {
     "name": "stdout",
     "output_type": "stream",
     "text": [
      "\n"
     ]
    },
    {
     "name": "stderr",
     "output_type": "stream",
     "text": [
      "INFO:gurobipy:\n"
     ]
    },
    {
     "name": "stdout",
     "output_type": "stream",
     "text": [
      "Solved in 13312 iterations and 4.22 seconds (1.19 work units)\n"
     ]
    },
    {
     "name": "stderr",
     "output_type": "stream",
     "text": [
      "INFO:gurobipy:Solved in 13312 iterations and 4.22 seconds (1.19 work units)\n"
     ]
    },
    {
     "name": "stdout",
     "output_type": "stream",
     "text": [
      "Optimal objective  2.327611551e+10\n"
     ]
    },
    {
     "name": "stderr",
     "output_type": "stream",
     "text": [
      "INFO:gurobipy:Optimal objective  2.327611551e+10\n",
      "INFO:linopy.constants: Optimization successful: \n",
      "Status: ok\n",
      "Termination condition: optimal\n",
      "Solution: 52566 primals, 113886 duals\n",
      "Objective: 2.33e+10\n",
      "Solver model: available\n",
      "Solver message: 2\n",
      "\n",
      "INFO:pypsa.optimization.optimize:The shadow-prices of the constraints Generator-ext-p-lower, Generator-ext-p-upper were not assigned to the network.\n"
     ]
    },
    {
     "data": {
      "text/plain": [
       "('ok', 'optimal')"
      ]
     },
     "execution_count": 24,
     "metadata": {},
     "output_type": "execute_result"
    }
   ],
   "source": [
    "network.optimize(solver_name='gurobi')"
   ]
  },
  {
   "cell_type": "markdown",
   "metadata": {},
   "source": [
    "__Print out the results__"
   ]
  },
  {
   "cell_type": "code",
   "execution_count": null,
   "metadata": {},
   "outputs": [
    {
     "name": "stdout",
     "output_type": "stream",
     "text": [
      "Total cost: 23276.12 mio€\n",
      "Cost per MWh of electricity produced 46 EUR/MWh\n"
     ]
    },
    {
     "data": {
      "text/plain": [
       "Generator\n",
       "onshorewind       331.065760\n",
       "offshorewind        0.000000\n",
       "PV              26581.164450\n",
       "rooftopPV           0.000000\n",
       "OCGT            24348.317460\n",
       "coal            52977.845805\n",
       "Name: p_nom_opt, dtype: float64"
      ]
     },
     "execution_count": 32,
     "metadata": {},
     "output_type": "execute_result"
    }
   ],
   "source": [
    "print(f\"Total cost: {round(network.objective/1000000,2)} mio€\")\n",
    "print(f\"Cost per MWh of electricity produced {round(float(network.objective/network.loads_t.p.sum().iloc[0]))} EUR/MWh\")\n"
   ]
  },
  {
   "cell_type": "code",
   "execution_count": 34,
   "metadata": {},
   "outputs": [
    {
     "data": {
      "text/plain": [
       "<AxesSubplot: xlabel='Generator'>"
      ]
     },
     "execution_count": 34,
     "metadata": {},
     "output_type": "execute_result"
    },
    {
     "data": {
      "image/png": "[encoded data removed]",
      "text/plain": [
       "<Figure size 640x480 with 1 Axes>"
      ]
     },
     "metadata": {},
     "output_type": "display_data"
    }
   ],
   "source": [
    "generators = network.generators.p_nom_opt # in MW\n",
    "generators.plot.bar()"
   ]
  }
 ],
 "metadata": {
  "kernelspec": {
   "display_name": "Python 3",
   "language": "python",
   "name": "python3"
  },
  "language_info": {
   "codemirror_mode": {
    "name": "ipython",
    "version": 3
   },
   "file_extension": ".py",
   "mimetype": "text/x-python",
   "name": "python",
   "nbconvert_exporter": "python",
   "pygments_lexer": "ipython3",
   "version": "3.11.5"
  }
 },
 "nbformat": 4,
 "nbformat_minor": 2
}
