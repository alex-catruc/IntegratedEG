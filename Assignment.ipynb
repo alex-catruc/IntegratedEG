{
 "cells": [
  {
   "cell_type": "code",
   "execution_count": null,
   "metadata": {},
   "outputs": [],
   "source": [
    "import pandas as pd\n",
    "import pypsa\n",
    "import matplotlib.pyplot as plt"
   ]
  },
  {
   "cell_type": "markdown",
   "metadata": {},
   "source": [
    "# Section A"
   ]
  },
  {
   "cell_type": "markdown",
   "metadata": {},
   "source": [
    "### Load Data"
   ]
  },
  {
   "cell_type": "code",
   "execution_count": 3,
   "metadata": {},
   "outputs": [
    {
     "name": "stdout",
     "output_type": "stream",
     "text": [
      "utc_time\n",
      "2015-01-01 00:00:00+00:00    44546.0\n",
      "2015-01-01 01:00:00+00:00    42967.0\n",
      "2015-01-01 02:00:00+00:00    41582.0\n",
      "2015-01-01 03:00:00+00:00    40964.0\n",
      "2015-01-01 04:00:00+00:00    40247.0\n",
      "Name: DEU, dtype: float64\n"
     ]
    }
   ],
   "source": [
    "# load electricity demand data\n",
    "df_elec = pd.read_csv('data/electricity_demand.csv', sep=';', index_col=0) # in MWh\n",
    "df_elec.index = pd.to_datetime(df_elec.index) #change index to datatime\n",
    "country='DEU'\n",
    "print(df_elec[country].head())\n",
    "\n",
    "# load onshore wind data\n",
    "df_onshorewind = pd.read_csv('data/onshore_wind_1979-2017.csv', sep=';', index_col=0)\n",
    "df_onshorewind.index = pd.to_datetime(df_onshorewind.index)\n",
    "\n",
    "# load offshore wind data\n",
    "df_offshorewind = pd.read_csv('data/offshore_wind_1979-2017.csv', sep=';', index_col=0)\n",
    "df_offshorewind.index = pd.to_datetime(df_offshorewind.index)\n",
    "\n",
    "# load large scale pv data\n",
    "df_pv = pd.read_csv('data/pv_optimal.csv', sep=';', index_col=0)\n",
    "df_pv.index = pd.to_datetime(df_pv.index)\n",
    "\n",
    "# load rooftop pv data\n",
    "df_rooftop = pd.read_csv('data/pv_rooftop.csv', sep=';', index_col=0)\n",
    "df_rooftop.index = pd.to_datetime(df_rooftop.index)\n"
   ]
  },
  {
   "cell_type": "markdown",
   "metadata": {},
   "source": [
    "# Make Network"
   ]
  },
  {
   "cell_type": "code",
   "execution_count": 4,
   "metadata": {},
   "outputs": [],
   "source": [
    "def annuity(n,r):\n",
    "    \"\"\" Calculate the annuity factor for an asset with lifetime n years and\n",
    "    discount rate  r \"\"\"\n",
    "\n",
    "    if r > 0:\n",
    "        return r/(1. - 1./(1.+r)**n)\n",
    "    else:\n",
    "        return 1/n"
   ]
  },
  {
   "cell_type": "code",
   "execution_count": 5,
   "metadata": {},
   "outputs": [
    {
     "name": "stderr",
     "output_type": "stream",
     "text": [
      "/opt/homebrew/Caskroom/miniconda/base/envs/IEG/lib/python3.13/site-packages/pypsa/components.py:323: FutureWarning: Setting an item of incompatible dtype is deprecated and will raise an error in a future version of pandas. Value '[]' has dtype incompatible with float64, please explicitly cast to a compatible dtype first.\n",
      "  attrs.loc[bool_b, \"default\"] = attrs.loc[bool_b].isin({True, \"True\"})\n",
      "/opt/homebrew/Caskroom/miniconda/base/envs/IEG/lib/python3.13/site-packages/pypsa/components.py:323: FutureWarning: Setting an item of incompatible dtype is deprecated and will raise an error in a future version of pandas. Value '[]' has dtype incompatible with float64, please explicitly cast to a compatible dtype first.\n",
      "  attrs.loc[bool_b, \"default\"] = attrs.loc[bool_b].isin({True, \"True\"})\n",
      "/opt/homebrew/Caskroom/miniconda/base/envs/IEG/lib/python3.13/site-packages/pypsa/components.py:323: FutureWarning: Setting an item of incompatible dtype is deprecated and will raise an error in a future version of pandas. Value '[]' has dtype incompatible with float64, please explicitly cast to a compatible dtype first.\n",
      "  attrs.loc[bool_b, \"default\"] = attrs.loc[bool_b].isin({True, \"True\"})\n",
      "/opt/homebrew/Caskroom/miniconda/base/envs/IEG/lib/python3.13/site-packages/pypsa/components.py:323: FutureWarning: Setting an item of incompatible dtype is deprecated and will raise an error in a future version of pandas. Value '[]' has dtype incompatible with float64, please explicitly cast to a compatible dtype first.\n",
      "  attrs.loc[bool_b, \"default\"] = attrs.loc[bool_b].isin({True, \"True\"})\n"
     ]
    }
   ],
   "source": [
    "network = pypsa.Network()\n",
    "hours_in_2015 = pd.date_range('2015-01-01 00:00Z',\n",
    "                              '2015-12-31 23:00Z',\n",
    "                              freq='h')\n",
    "\n",
    "network.set_snapshots(hours_in_2015.values)\n",
    "\n",
    "# add electricity bus\n",
    "network.add(\"Bus\",\n",
    "            f\"E_bus{country}\")\n",
    "\n",
    "# add load to the bus\n",
    "network.add(\"Load\",\n",
    "            \"load\",\n",
    "            bus=f\"E_bus{country}\",\n",
    "            p_set=df_elec[country].values)\n",
    "\n",
    "# add the different carriers, only gas emits CO2\n",
    "network.add(\"Carrier\", \"gas\", co2_emissions=0.19) # in t_CO2/MWh_th\n",
    "network.add(\"Carrier\", \"coal\", co2_emissions=0.9) # in t_CO2/MWh_th\n",
    "network.add(\"Carrier\", \"onshorewind\")\n",
    "network.add(\"Carrier\", \"offshorewind\")\n",
    "network.add(\"Carrier\", \"solar\")\n",
    "\n",
    "''' Add renewable generators '''\n",
    "# Add onshore wind\n",
    "CF_wind_onshore = df_onshorewind[country][[hour.strftime(\"%Y-%m-%dT%H:%M:%SZ\") for hour in network.snapshots]]\n",
    "lifetime = 30 # years\n",
    "discount_rate = 0.07 # 7%\n",
    "capex = 910000 # in €/MW\n",
    "fopex = 0.033 # 3.3% of capex\n",
    "capital_cost_onshorewind = annuity(lifetime,discount_rate)*capex*(1+fopex) # in €/MW\n",
    "network.add(\"Generator\",\n",
    "            \"onshorewind\",\n",
    "            bus=f\"E_bus{country}\",\n",
    "            p_nom_extendable=True,\n",
    "            carrier=\"onshorewind\",\n",
    "            #p_nom_max=1000, # maximum capacity can be limited due to environmental constraints\n",
    "            capital_cost = capital_cost_onshorewind,\n",
    "            marginal_cost = 0,\n",
    "            p_max_pu = CF_wind_onshore.values)\n",
    "\n",
    "# Add offshore wind\n",
    "CF_wind_offshore = df_offshorewind[country][[hour.strftime(\"%Y-%m-%dT%H:%M:%SZ\") for hour in network.snapshots]]\n",
    "lifetime = 25 # years\n",
    "discount_rate = 0.07 # 7%\n",
    "capex = 2506000 # in €/MW\n",
    "fopex = 0.03 # 3% of capex\n",
    "capital_cost_offshorewind = annuity(lifetime,discount_rate)*capex*(1+fopex) # in €/MW\n",
    "network.add(\"Generator\",\n",
    "            \"offshorewind\",\n",
    "            bus=f\"E_bus{country}\",\n",
    "            p_nom_extendable=True,\n",
    "            carrier=\"offshorewind\",\n",
    "            #p_nom_max=1000, # maximum capacity can be limited due to environmental constraints\n",
    "            capital_cost = capital_cost_offshorewind,\n",
    "            marginal_cost = 0,\n",
    "            p_max_pu = CF_wind_offshore.values)\n",
    "\n",
    "# Add large scale solar\n",
    "CF_solar = df_pv[country][[hour.strftime(\"%Y-%m-%dT%H:%M:%SZ\") for hour in network.snapshots]]\n",
    "lifetime = 25 # years\n",
    "discount_rate = 0.07 # 7%\n",
    "capex = 425000 # in €/MW\n",
    "fopex = 0.03 # 3% of capex\n",
    "capital_cost_pv = annuity(lifetime,discount_rate)*capex*(1+fopex) # in €/MW\n",
    "network.add(\"Generator\",\n",
    "            \"PV\",\n",
    "            bus=f\"E_bus{country}\",\n",
    "            p_nom_extendable=True,\n",
    "            carrier=\"solar\",\n",
    "            #p_nom_max=1000, # maximum capacity can be limited due to environmental constraints\n",
    "            capital_cost = capital_cost_pv,\n",
    "            marginal_cost = 0,\n",
    "            p_max_pu = CF_solar.values)\n",
    "\n",
    "# Add rooftop solar\n",
    "CF_rooftop = df_rooftop[country][[hour.strftime(\"%Y-%m-%dT%H:%M:%SZ\") for hour in network.snapshots]]\n",
    "lifetime = 25 # years\n",
    "discount_rate = 0.07 # 7%\n",
    "capex = 725000 # in €/MW\n",
    "fopex = 0.02 # 2% of capex\n",
    "capital_cost_rooftop = annuity(lifetime,discount_rate)*capex*(1+fopex) # in €/MW\n",
    "network.add(\"Generator\",\n",
    "            \"rooftopPV\",\n",
    "            bus=f\"E_bus{country}\",\n",
    "            p_nom_extendable=True,\n",
    "            carrier=\"solar\",\n",
    "            #p_nom_max=1000, # maximum capacity can be limited due to environmental constraints\n",
    "            capital_cost = capital_cost_rooftop,\n",
    "            marginal_cost = 0,\n",
    "            p_max_pu = CF_rooftop.values)\n",
    "\n",
    "''' Add non-renewables generators '''\n",
    "# add OCGT (Open Cycle Gas Turbine) generator\n",
    "lifetime = 25 # years\n",
    "discount_rate = 0.07 # 7%\n",
    "capex = 560000 # in €/MW\n",
    "fopex = 0.033 # 3.3% of capex\n",
    "capital_cost_OCGT = annuity(lifetime,discount_rate)*capex*(1+fopex) # in €/MW\n",
    "fuel_cost = 21.6 # in €/MWh_th\n",
    "efficiency = 0.39 # MWh_elec/MWh_th\n",
    "marginal_cost_OCGT = fuel_cost/efficiency # in €/MWh_el\n",
    "network.add(\"Generator\",\n",
    "            \"OCGT\",\n",
    "            bus=f\"E_bus{country}\",\n",
    "            p_nom_extendable=True,\n",
    "            carrier=\"gas\",\n",
    "            #p_nom_max=1000,\n",
    "            capital_cost = capital_cost_OCGT,\n",
    "            efficiency = efficiency,\n",
    "            marginal_cost = marginal_cost_OCGT)\n",
    "\n",
    "# add coal generator (without CCS) # https://atb-archive.nrel.gov/electricity/2018/index.html?t=cc\n",
    "lifetime = 35 # years\n",
    "discount_rate = 0.07 # 7%\n",
    "capex = 3294000 # in €/MW\n",
    "fopex = 0.03 # 3% of capex\n",
    "capital_cost_coal = annuity(lifetime,discount_rate)*capex*(1+fopex) # in €/MW\n",
    "fuel_cost = 4 # in €/MWh_th \n",
    "efficiency = 0.36 # MWh_elec/MWh_th\n",
    "marginal_cost_coal = fuel_cost/efficiency # in €/MWh_el\n",
    "network.add(\"Generator\",\n",
    "            \"coal\",\n",
    "            bus=f\"E_bus{country}\",\n",
    "            p_nom_extendable=True,\n",
    "            carrier=\"coal\",\n",
    "            #p_nom_max=1000,\n",
    "            capital_cost = capital_cost_coal,\n",
    "            efficiency = efficiency,\n",
    "            marginal_cost = marginal_cost_coal)\n",
    "\n"
   ]
  },
  {
   "cell_type": "code",
   "execution_count": 6,
   "metadata": {},
   "outputs": [
    {
     "name": "stderr",
     "output_type": "stream",
     "text": [
      "/opt/homebrew/Caskroom/miniconda/base/envs/IEG/lib/python3.13/site-packages/pypsa/optimization/constraints.py:531: FutureWarning: DataFrame.groupby with axis=1 is deprecated. Do `frame.T.groupby(...)` without axis instead.\n",
      "  .groupby(n.loads.bus, axis=1)\n",
      "INFO:linopy.model: Solve problem using Gurobi solver\n"
     ]
    },
    {
     "name": "stdout",
     "output_type": "stream",
     "text": [
      "Set parameter Username\n"
     ]
    },
    {
     "name": "stderr",
     "output_type": "stream",
     "text": [
      "INFO:gurobipy:Set parameter Username\n"
     ]
    },
    {
     "name": "stdout",
     "output_type": "stream",
     "text": [
      "Set parameter LicenseID to value 2608341\n"
     ]
    },
    {
     "name": "stderr",
     "output_type": "stream",
     "text": [
      "INFO:gurobipy:Set parameter LicenseID to value 2608341\n"
     ]
    },
    {
     "name": "stdout",
     "output_type": "stream",
     "text": [
      "Academic license - for non-commercial use only - expires 2026-01-10\n"
     ]
    },
    {
     "name": "stderr",
     "output_type": "stream",
     "text": [
      "INFO:gurobipy:Academic license - for non-commercial use only - expires 2026-01-10\n",
      "INFO:linopy.io:Writing objective.\n",
      "Writing constraints.: 100%|\u001b[38;2;128;191;255m██████████\u001b[0m| 5/5 [00:00<00:00, 14.64it/s]\n",
      "Writing continuous variables.: 100%|\u001b[38;2;128;191;255m██████████\u001b[0m| 2/2 [00:00<00:00, 30.98it/s]\n",
      "INFO:linopy.io: Writing time: 0.51s\n"
     ]
    },
    {
     "name": "stdout",
     "output_type": "stream",
     "text": [
      "Read LP format model from file /private/var/folders/jt/77qvrg250bb9lr7519v3yhc40000gn/T/linopy-problem-bhvcxv_u.lp\n"
     ]
    },
    {
     "name": "stderr",
     "output_type": "stream",
     "text": [
      "INFO:gurobipy:Read LP format model from file /private/var/folders/jt/77qvrg250bb9lr7519v3yhc40000gn/T/linopy-problem-bhvcxv_u.lp\n"
     ]
    },
    {
     "name": "stdout",
     "output_type": "stream",
     "text": [
      "Reading time = 0.16 seconds\n"
     ]
    },
    {
     "name": "stderr",
     "output_type": "stream",
     "text": [
      "INFO:gurobipy:Reading time = 0.16 seconds\n"
     ]
    },
    {
     "name": "stdout",
     "output_type": "stream",
     "text": [
      "obj: 113886 rows, 52566 columns, 201770 nonzeros\n"
     ]
    },
    {
     "name": "stderr",
     "output_type": "stream",
     "text": [
      "INFO:gurobipy:obj: 113886 rows, 52566 columns, 201770 nonzeros\n"
     ]
    },
    {
     "name": "stdout",
     "output_type": "stream",
     "text": [
      "Gurobi Optimizer version 12.0.1 build v12.0.1rc0 (mac64[arm] - Darwin 24.0.0 24A348)\n"
     ]
    },
    {
     "name": "stderr",
     "output_type": "stream",
     "text": [
      "INFO:gurobipy:Gurobi Optimizer version 12.0.1 build v12.0.1rc0 (mac64[arm] - Darwin 24.0.0 24A348)\n"
     ]
    },
    {
     "name": "stdout",
     "output_type": "stream",
     "text": [
      "\n"
     ]
    },
    {
     "name": "stderr",
     "output_type": "stream",
     "text": [
      "INFO:gurobipy:\n"
     ]
    },
    {
     "name": "stdout",
     "output_type": "stream",
     "text": [
      "CPU model: Apple M1 Pro\n"
     ]
    },
    {
     "name": "stderr",
     "output_type": "stream",
     "text": [
      "INFO:gurobipy:CPU model: Apple M1 Pro\n"
     ]
    },
    {
     "name": "stdout",
     "output_type": "stream",
     "text": [
      "Thread count: 8 physical cores, 8 logical processors, using up to 8 threads\n"
     ]
    },
    {
     "name": "stderr",
     "output_type": "stream",
     "text": [
      "INFO:gurobipy:Thread count: 8 physical cores, 8 logical processors, using up to 8 threads\n"
     ]
    },
    {
     "name": "stdout",
     "output_type": "stream",
     "text": [
      "\n"
     ]
    },
    {
     "name": "stderr",
     "output_type": "stream",
     "text": [
      "INFO:gurobipy:\n"
     ]
    },
    {
     "name": "stdout",
     "output_type": "stream",
     "text": [
      "Optimize a model with 113886 rows, 52566 columns and 201770 nonzeros\n"
     ]
    },
    {
     "name": "stderr",
     "output_type": "stream",
     "text": [
      "INFO:gurobipy:Optimize a model with 113886 rows, 52566 columns and 201770 nonzeros\n"
     ]
    },
    {
     "name": "stdout",
     "output_type": "stream",
     "text": [
      "Model fingerprint: 0x76f680cd\n"
     ]
    },
    {
     "name": "stderr",
     "output_type": "stream",
     "text": [
      "INFO:gurobipy:Model fingerprint: 0x76f680cd\n"
     ]
    },
    {
     "name": "stdout",
     "output_type": "stream",
     "text": [
      "Coefficient statistics:\n"
     ]
    },
    {
     "name": "stderr",
     "output_type": "stream",
     "text": [
      "INFO:gurobipy:Coefficient statistics:\n"
     ]
    },
    {
     "name": "stdout",
     "output_type": "stream",
     "text": [
      "  Matrix range     [1e-03, 1e+00]\n"
     ]
    },
    {
     "name": "stderr",
     "output_type": "stream",
     "text": [
      "INFO:gurobipy:  Matrix range     [1e-03, 1e+00]\n"
     ]
    },
    {
     "name": "stdout",
     "output_type": "stream",
     "text": [
      "  Objective range  [1e+01, 3e+05]\n"
     ]
    },
    {
     "name": "stderr",
     "output_type": "stream",
     "text": [
      "INFO:gurobipy:  Objective range  [1e+01, 3e+05]\n"
     ]
    },
    {
     "name": "stdout",
     "output_type": "stream",
     "text": [
      "  Bounds range     [0e+00, 0e+00]\n"
     ]
    },
    {
     "name": "stderr",
     "output_type": "stream",
     "text": [
      "INFO:gurobipy:  Bounds range     [0e+00, 0e+00]\n"
     ]
    },
    {
     "name": "stdout",
     "output_type": "stream",
     "text": [
      "  RHS range        [4e+04, 8e+04]\n"
     ]
    },
    {
     "name": "stderr",
     "output_type": "stream",
     "text": [
      "INFO:gurobipy:  RHS range        [4e+04, 8e+04]\n"
     ]
    },
    {
     "name": "stdout",
     "output_type": "stream",
     "text": [
      "Presolve removed 61042 rows and 8476 columns\n"
     ]
    },
    {
     "name": "stderr",
     "output_type": "stream",
     "text": [
      "INFO:gurobipy:Presolve removed 61042 rows and 8476 columns\n"
     ]
    },
    {
     "name": "stdout",
     "output_type": "stream",
     "text": [
      "Presolve time: 0.07s\n"
     ]
    },
    {
     "name": "stderr",
     "output_type": "stream",
     "text": [
      "INFO:gurobipy:Presolve time: 0.07s\n"
     ]
    },
    {
     "name": "stdout",
     "output_type": "stream",
     "text": [
      "Presolved: 52844 rows, 44090 columns, 132252 nonzeros\n"
     ]
    },
    {
     "name": "stderr",
     "output_type": "stream",
     "text": [
      "INFO:gurobipy:Presolved: 52844 rows, 44090 columns, 132252 nonzeros\n"
     ]
    },
    {
     "name": "stdout",
     "output_type": "stream",
     "text": [
      "\n"
     ]
    },
    {
     "name": "stderr",
     "output_type": "stream",
     "text": [
      "INFO:gurobipy:\n"
     ]
    },
    {
     "name": "stdout",
     "output_type": "stream",
     "text": [
      "Concurrent LP optimizer: primal simplex, dual simplex, and barrier\n"
     ]
    },
    {
     "name": "stderr",
     "output_type": "stream",
     "text": [
      "INFO:gurobipy:Concurrent LP optimizer: primal simplex, dual simplex, and barrier\n"
     ]
    },
    {
     "name": "stdout",
     "output_type": "stream",
     "text": [
      "Showing barrier log only...\n"
     ]
    },
    {
     "name": "stderr",
     "output_type": "stream",
     "text": [
      "INFO:gurobipy:Showing barrier log only...\n"
     ]
    },
    {
     "name": "stdout",
     "output_type": "stream",
     "text": [
      "\n"
     ]
    },
    {
     "name": "stderr",
     "output_type": "stream",
     "text": [
      "INFO:gurobipy:\n"
     ]
    },
    {
     "name": "stdout",
     "output_type": "stream",
     "text": [
      "Ordering time: 0.01s\n"
     ]
    },
    {
     "name": "stderr",
     "output_type": "stream",
     "text": [
      "INFO:gurobipy:Ordering time: 0.01s\n"
     ]
    },
    {
     "name": "stdout",
     "output_type": "stream",
     "text": [
      "\n"
     ]
    },
    {
     "name": "stderr",
     "output_type": "stream",
     "text": [
      "INFO:gurobipy:\n"
     ]
    },
    {
     "name": "stdout",
     "output_type": "stream",
     "text": [
      "Barrier statistics:\n"
     ]
    },
    {
     "name": "stderr",
     "output_type": "stream",
     "text": [
      "INFO:gurobipy:Barrier statistics:\n"
     ]
    },
    {
     "name": "stdout",
     "output_type": "stream",
     "text": [
      " Dense cols : 6\n"
     ]
    },
    {
     "name": "stderr",
     "output_type": "stream",
     "text": [
      "INFO:gurobipy: Dense cols : 6\n"
     ]
    },
    {
     "name": "stdout",
     "output_type": "stream",
     "text": [
      " AA' NZ     : 8.817e+04\n"
     ]
    },
    {
     "name": "stderr",
     "output_type": "stream",
     "text": [
      "INFO:gurobipy: AA' NZ     : 8.817e+04\n"
     ]
    },
    {
     "name": "stdout",
     "output_type": "stream",
     "text": [
      " Factor NZ  : 4.649e+05 (roughly 40 MB of memory)\n"
     ]
    },
    {
     "name": "stderr",
     "output_type": "stream",
     "text": [
      "INFO:gurobipy: Factor NZ  : 4.649e+05 (roughly 40 MB of memory)\n"
     ]
    },
    {
     "name": "stdout",
     "output_type": "stream",
     "text": [
      " Factor Ops : 4.372e+06 (less than 1 second per iteration)\n"
     ]
    },
    {
     "name": "stderr",
     "output_type": "stream",
     "text": [
      "INFO:gurobipy: Factor Ops : 4.372e+06 (less than 1 second per iteration)\n"
     ]
    },
    {
     "name": "stdout",
     "output_type": "stream",
     "text": [
      " Threads    : 6\n"
     ]
    },
    {
     "name": "stderr",
     "output_type": "stream",
     "text": [
      "INFO:gurobipy: Threads    : 6\n"
     ]
    },
    {
     "name": "stdout",
     "output_type": "stream",
     "text": [
      "\n"
     ]
    },
    {
     "name": "stderr",
     "output_type": "stream",
     "text": [
      "INFO:gurobipy:\n"
     ]
    },
    {
     "name": "stdout",
     "output_type": "stream",
     "text": [
      "                  Objective                Residual\n"
     ]
    },
    {
     "name": "stderr",
     "output_type": "stream",
     "text": [
      "INFO:gurobipy:                  Objective                Residual\n"
     ]
    },
    {
     "name": "stdout",
     "output_type": "stream",
     "text": [
      "Iter       Primal          Dual         Primal    Dual     Compl     Time\n"
     ]
    },
    {
     "name": "stderr",
     "output_type": "stream",
     "text": [
      "INFO:gurobipy:Iter       Primal          Dual         Primal    Dual     Compl     Time\n"
     ]
    },
    {
     "name": "stdout",
     "output_type": "stream",
     "text": [
      "   0   3.02581350e+11  0.00000000e+00  6.09e+05 0.00e+00  1.88e+08     0s\n"
     ]
    },
    {
     "name": "stderr",
     "output_type": "stream",
     "text": [
      "INFO:gurobipy:   0   3.02581350e+11  0.00000000e+00  6.09e+05 0.00e+00  1.88e+08     0s\n"
     ]
    },
    {
     "name": "stdout",
     "output_type": "stream",
     "text": [
      "   1   4.48546965e+11 -5.84535333e+11  9.72e+04 7.07e+02  5.54e+07     0s\n"
     ]
    },
    {
     "name": "stderr",
     "output_type": "stream",
     "text": [
      "INFO:gurobipy:   1   4.48546965e+11 -5.84535333e+11  9.72e+04 7.07e+02  5.54e+07     0s\n"
     ]
    },
    {
     "name": "stdout",
     "output_type": "stream",
     "text": [
      "   2   3.71784857e+11 -3.08001708e+11  1.16e-10 6.00e+00  5.44e+06     0s\n"
     ]
    },
    {
     "name": "stderr",
     "output_type": "stream",
     "text": [
      "INFO:gurobipy:   2   3.71784857e+11 -3.08001708e+11  1.16e-10 6.00e+00  5.44e+06     0s\n"
     ]
    },
    {
     "name": "stdout",
     "output_type": "stream",
     "text": [
      "   3   1.57842146e+11 -1.80419228e+10  1.16e-10 2.95e-01  1.35e+06     0s\n"
     ]
    },
    {
     "name": "stderr",
     "output_type": "stream",
     "text": [
      "INFO:gurobipy:   3   1.57842146e+11 -1.80419228e+10  1.16e-10 2.95e-01  1.35e+06     0s\n"
     ]
    },
    {
     "name": "stdout",
     "output_type": "stream",
     "text": [
      "   4   9.09264919e+10  7.80125926e+09  1.16e-10 9.63e-02  6.32e+05     0s\n"
     ]
    },
    {
     "name": "stderr",
     "output_type": "stream",
     "text": [
      "INFO:gurobipy:   4   9.09264919e+10  7.80125926e+09  1.16e-10 9.63e-02  6.32e+05     0s\n"
     ]
    },
    {
     "name": "stdout",
     "output_type": "stream",
     "text": [
      "   5   6.22034065e+10  1.22569764e+10  8.15e-10 6.23e-02  3.80e+05     0s\n"
     ]
    },
    {
     "name": "stderr",
     "output_type": "stream",
     "text": [
      "INFO:gurobipy:   5   6.22034065e+10  1.22569764e+10  8.15e-10 6.23e-02  3.80e+05     0s\n"
     ]
    },
    {
     "name": "stdout",
     "output_type": "stream",
     "text": [
      "   6   4.71828885e+10  1.59316633e+10  1.01e-08 3.42e-02  2.37e+05     0s\n"
     ]
    },
    {
     "name": "stderr",
     "output_type": "stream",
     "text": [
      "INFO:gurobipy:   6   4.71828885e+10  1.59316633e+10  1.01e-08 3.42e-02  2.37e+05     0s\n"
     ]
    },
    {
     "name": "stdout",
     "output_type": "stream",
     "text": [
      "   7   3.92872187e+10  1.93133196e+10  2.82e-09 1.26e-02  1.51e+05     0s\n"
     ]
    },
    {
     "name": "stderr",
     "output_type": "stream",
     "text": [
      "INFO:gurobipy:   7   3.92872187e+10  1.93133196e+10  2.82e-09 1.26e-02  1.51e+05     0s\n"
     ]
    },
    {
     "name": "stdout",
     "output_type": "stream",
     "text": [
      "   8   3.84938018e+10  2.00461659e+10  6.16e-08 1.10e-02  1.40e+05     0s\n"
     ]
    },
    {
     "name": "stderr",
     "output_type": "stream",
     "text": [
      "INFO:gurobipy:   8   3.84938018e+10  2.00461659e+10  6.16e-08 1.10e-02  1.40e+05     0s\n"
     ]
    },
    {
     "name": "stdout",
     "output_type": "stream",
     "text": [
      "   9   3.15291337e+10  2.08322113e+10  2.99e-07 3.87e-04  8.11e+04     0s\n"
     ]
    },
    {
     "name": "stderr",
     "output_type": "stream",
     "text": [
      "INFO:gurobipy:   9   3.15291337e+10  2.08322113e+10  2.99e-07 3.87e-04  8.11e+04     0s\n"
     ]
    },
    {
     "name": "stdout",
     "output_type": "stream",
     "text": [
      "  10   2.71240823e+10  2.17452813e+10  2.31e-07 6.40e-10  4.08e+04     0s\n"
     ]
    },
    {
     "name": "stderr",
     "output_type": "stream",
     "text": [
      "INFO:gurobipy:  10   2.71240823e+10  2.17452813e+10  2.31e-07 6.40e-10  4.08e+04     0s\n"
     ]
    },
    {
     "name": "stdout",
     "output_type": "stream",
     "text": [
      "  11   2.57882247e+10  2.23442851e+10  5.17e-07 3.93e-10  2.61e+04     0s\n"
     ]
    },
    {
     "name": "stderr",
     "output_type": "stream",
     "text": [
      "INFO:gurobipy:  11   2.57882247e+10  2.23442851e+10  5.17e-07 3.93e-10  2.61e+04     0s\n"
     ]
    },
    {
     "name": "stdout",
     "output_type": "stream",
     "text": [
      "  12   2.48840229e+10  2.25190106e+10  1.78e-07 1.16e-09  1.79e+04     0s\n"
     ]
    },
    {
     "name": "stderr",
     "output_type": "stream",
     "text": [
      "INFO:gurobipy:  12   2.48840229e+10  2.25190106e+10  1.78e-07 1.16e-09  1.79e+04     0s\n"
     ]
    },
    {
     "name": "stdout",
     "output_type": "stream",
     "text": [
      "  13   2.45137027e+10  2.26249871e+10  4.06e-07 2.39e-09  1.43e+04     0s\n"
     ]
    },
    {
     "name": "stderr",
     "output_type": "stream",
     "text": [
      "INFO:gurobipy:  13   2.45137027e+10  2.26249871e+10  4.06e-07 2.39e-09  1.43e+04     0s\n"
     ]
    },
    {
     "name": "stdout",
     "output_type": "stream",
     "text": [
      "  14   2.42105348e+10  2.28100471e+10  2.09e-07 1.34e-09  1.06e+04     0s\n"
     ]
    },
    {
     "name": "stderr",
     "output_type": "stream",
     "text": [
      "INFO:gurobipy:  14   2.42105348e+10  2.28100471e+10  2.09e-07 1.34e-09  1.06e+04     0s\n"
     ]
    },
    {
     "name": "stdout",
     "output_type": "stream",
     "text": [
      "  15   2.39189345e+10  2.29467402e+10  6.43e-07 9.60e-10  7.37e+03     0s\n"
     ]
    },
    {
     "name": "stderr",
     "output_type": "stream",
     "text": [
      "INFO:gurobipy:  15   2.39189345e+10  2.29467402e+10  6.43e-07 9.60e-10  7.37e+03     0s\n"
     ]
    },
    {
     "name": "stdout",
     "output_type": "stream",
     "text": [
      "  16   2.38343408e+10  2.30430008e+10  6.40e-07 5.82e-10  5.99e+03     0s\n"
     ]
    },
    {
     "name": "stderr",
     "output_type": "stream",
     "text": [
      "INFO:gurobipy:  16   2.38343408e+10  2.30430008e+10  6.40e-07 5.82e-10  5.99e+03     0s\n"
     ]
    },
    {
     "name": "stdout",
     "output_type": "stream",
     "text": [
      "  17   2.37250455e+10  2.30977630e+10  1.20e-05 7.89e-10  4.75e+03     0s\n"
     ]
    },
    {
     "name": "stderr",
     "output_type": "stream",
     "text": [
      "INFO:gurobipy:  17   2.37250455e+10  2.30977630e+10  1.20e-05 7.89e-10  4.75e+03     0s\n"
     ]
    },
    {
     "name": "stdout",
     "output_type": "stream",
     "text": [
      "  18   2.36031966e+10  2.31487888e+10  1.64e-05 5.24e-10  3.44e+03     0s\n"
     ]
    },
    {
     "name": "stderr",
     "output_type": "stream",
     "text": [
      "INFO:gurobipy:  18   2.36031966e+10  2.31487888e+10  1.64e-05 5.24e-10  3.44e+03     0s\n"
     ]
    },
    {
     "name": "stdout",
     "output_type": "stream",
     "text": [
      "  19   2.35432430e+10  2.31680581e+10  1.42e-05 3.75e-10  2.84e+03     1s\n"
     ]
    },
    {
     "name": "stderr",
     "output_type": "stream",
     "text": [
      "INFO:gurobipy:  19   2.35432430e+10  2.31680581e+10  1.42e-05 3.75e-10  2.84e+03     1s\n"
     ]
    },
    {
     "name": "stdout",
     "output_type": "stream",
     "text": [
      "  20   2.35196655e+10  2.31794153e+10  1.14e-05 4.07e-10  2.58e+03     1s\n"
     ]
    },
    {
     "name": "stderr",
     "output_type": "stream",
     "text": [
      "INFO:gurobipy:  20   2.35196655e+10  2.31794153e+10  1.14e-05 4.07e-10  2.58e+03     1s\n"
     ]
    },
    {
     "name": "stdout",
     "output_type": "stream",
     "text": [
      "  21   2.34941458e+10  2.32234888e+10  9.85e-06 6.58e-10  2.05e+03     1s\n"
     ]
    },
    {
     "name": "stderr",
     "output_type": "stream",
     "text": [
      "INFO:gurobipy:  21   2.34941458e+10  2.32234888e+10  9.85e-06 6.58e-10  2.05e+03     1s\n"
     ]
    },
    {
     "name": "stdout",
     "output_type": "stream",
     "text": [
      "  22   2.34456231e+10  2.32368755e+10  8.38e-06 6.00e-10  1.58e+03     1s\n"
     ]
    },
    {
     "name": "stderr",
     "output_type": "stream",
     "text": [
      "INFO:gurobipy:  22   2.34456231e+10  2.32368755e+10  8.38e-06 6.00e-10  1.58e+03     1s\n"
     ]
    },
    {
     "name": "stdout",
     "output_type": "stream",
     "text": [
      "  23   2.34089127e+10  2.32437739e+10  7.36e-06 1.22e-09  1.25e+03     1s\n"
     ]
    },
    {
     "name": "stderr",
     "output_type": "stream",
     "text": [
      "INFO:gurobipy:  23   2.34089127e+10  2.32437739e+10  7.36e-06 1.22e-09  1.25e+03     1s\n"
     ]
    },
    {
     "name": "stdout",
     "output_type": "stream",
     "text": [
      "  24   2.33924500e+10  2.32464313e+10  5.40e-06 1.40e-09  1.11e+03     1s\n"
     ]
    },
    {
     "name": "stderr",
     "output_type": "stream",
     "text": [
      "INFO:gurobipy:  24   2.33924500e+10  2.32464313e+10  5.40e-06 1.40e-09  1.11e+03     1s\n"
     ]
    },
    {
     "name": "stdout",
     "output_type": "stream",
     "text": [
      "  25   2.33808540e+10  2.32522491e+10  5.81e-06 6.98e-10  9.74e+02     1s\n"
     ]
    },
    {
     "name": "stderr",
     "output_type": "stream",
     "text": [
      "INFO:gurobipy:  25   2.33808540e+10  2.32522491e+10  5.81e-06 6.98e-10  9.74e+02     1s\n"
     ]
    },
    {
     "name": "stdout",
     "output_type": "stream",
     "text": [
      "  26   2.33739520e+10  2.32579745e+10  5.72e-06 1.40e-09  8.78e+02     1s\n"
     ]
    },
    {
     "name": "stderr",
     "output_type": "stream",
     "text": [
      "INFO:gurobipy:  26   2.33739520e+10  2.32579745e+10  5.72e-06 1.40e-09  8.78e+02     1s\n"
     ]
    },
    {
     "name": "stdout",
     "output_type": "stream",
     "text": [
      "  27   2.33589028e+10  2.32602896e+10  4.80e-06 2.44e-10  7.46e+02     1s\n"
     ]
    },
    {
     "name": "stderr",
     "output_type": "stream",
     "text": [
      "INFO:gurobipy:  27   2.33589028e+10  2.32602896e+10  4.80e-06 2.44e-10  7.46e+02     1s\n"
     ]
    },
    {
     "name": "stdout",
     "output_type": "stream",
     "text": [
      "  28   2.33492816e+10  2.32617539e+10  4.46e-06 1.60e-10  6.63e+02     1s\n"
     ]
    },
    {
     "name": "stderr",
     "output_type": "stream",
     "text": [
      "INFO:gurobipy:  28   2.33492816e+10  2.32617539e+10  4.46e-06 1.60e-10  6.63e+02     1s\n"
     ]
    },
    {
     "name": "stdout",
     "output_type": "stream",
     "text": [
      "  29   2.33293931e+10  2.32658788e+10  3.67e-06 1.22e-09  4.81e+02     1s\n"
     ]
    },
    {
     "name": "stderr",
     "output_type": "stream",
     "text": [
      "INFO:gurobipy:  29   2.33293931e+10  2.32658788e+10  3.67e-06 1.22e-09  4.81e+02     1s\n"
     ]
    },
    {
     "name": "stdout",
     "output_type": "stream",
     "text": [
      "  30   2.33220088e+10  2.32679281e+10  3.25e-06 1.05e-09  4.09e+02     1s\n"
     ]
    },
    {
     "name": "stderr",
     "output_type": "stream",
     "text": [
      "INFO:gurobipy:  30   2.33220088e+10  2.32679281e+10  3.25e-06 1.05e-09  4.09e+02     1s\n"
     ]
    },
    {
     "name": "stdout",
     "output_type": "stream",
     "text": [
      "  31   2.33135226e+10  2.32686122e+10  2.40e-06 1.46e-09  3.40e+02     1s\n"
     ]
    },
    {
     "name": "stderr",
     "output_type": "stream",
     "text": [
      "INFO:gurobipy:  31   2.33135226e+10  2.32686122e+10  2.40e-06 1.46e-09  3.40e+02     1s\n"
     ]
    },
    {
     "name": "stdout",
     "output_type": "stream",
     "text": [
      "  32   2.33096656e+10  2.32692772e+10  2.16e-06 7.17e-10  3.06e+02     1s\n"
     ]
    },
    {
     "name": "stderr",
     "output_type": "stream",
     "text": [
      "INFO:gurobipy:  32   2.33096656e+10  2.32692772e+10  2.16e-06 7.17e-10  3.06e+02     1s\n"
     ]
    },
    {
     "name": "stdout",
     "output_type": "stream",
     "text": [
      "  33   2.33062048e+10  2.32706298e+10  1.82e-06 7.28e-10  2.69e+02     1s\n"
     ]
    },
    {
     "name": "stderr",
     "output_type": "stream",
     "text": [
      "INFO:gurobipy:  33   2.33062048e+10  2.32706298e+10  1.82e-06 7.28e-10  2.69e+02     1s\n"
     ]
    },
    {
     "name": "stdout",
     "output_type": "stream",
     "text": [
      "  34   2.33016824e+10  2.32714374e+10  1.29e-06 3.02e-10  2.29e+02     1s\n"
     ]
    },
    {
     "name": "stderr",
     "output_type": "stream",
     "text": [
      "INFO:gurobipy:  34   2.33016824e+10  2.32714374e+10  1.29e-06 3.02e-10  2.29e+02     1s\n"
     ]
    },
    {
     "name": "stdout",
     "output_type": "stream",
     "text": [
      "  35   2.32998250e+10  2.32718138e+10  9.39e-07 1.22e-09  2.12e+02     1s\n"
     ]
    },
    {
     "name": "stderr",
     "output_type": "stream",
     "text": [
      "INFO:gurobipy:  35   2.32998250e+10  2.32718138e+10  9.39e-07 1.22e-09  2.12e+02     1s\n"
     ]
    },
    {
     "name": "stdout",
     "output_type": "stream",
     "text": [
      "  36   2.32955843e+10  2.32729050e+10  1.04e-06 1.05e-09  1.72e+02     1s\n"
     ]
    },
    {
     "name": "stderr",
     "output_type": "stream",
     "text": [
      "INFO:gurobipy:  36   2.32955843e+10  2.32729050e+10  1.04e-06 1.05e-09  1.72e+02     1s\n"
     ]
    },
    {
     "name": "stdout",
     "output_type": "stream",
     "text": [
      "  37   2.32924644e+10  2.32730456e+10  6.61e-07 6.40e-10  1.47e+02     1s\n"
     ]
    },
    {
     "name": "stderr",
     "output_type": "stream",
     "text": [
      "INFO:gurobipy:  37   2.32924644e+10  2.32730456e+10  6.61e-07 6.40e-10  1.47e+02     1s\n"
     ]
    },
    {
     "name": "stdout",
     "output_type": "stream",
     "text": [
      "  38   2.32904686e+10  2.32734524e+10  1.74e-06 1.16e-09  1.29e+02     1s\n"
     ]
    },
    {
     "name": "stderr",
     "output_type": "stream",
     "text": [
      "INFO:gurobipy:  38   2.32904686e+10  2.32734524e+10  1.74e-06 1.16e-09  1.29e+02     1s\n"
     ]
    },
    {
     "name": "stdout",
     "output_type": "stream",
     "text": [
      "  39   2.32885491e+10  2.32736143e+10  1.56e-06 7.57e-10  1.13e+02     1s\n"
     ]
    },
    {
     "name": "stderr",
     "output_type": "stream",
     "text": [
      "INFO:gurobipy:  39   2.32885491e+10  2.32736143e+10  1.56e-06 7.57e-10  1.13e+02     1s\n"
     ]
    },
    {
     "name": "stdout",
     "output_type": "stream",
     "text": [
      "  40   2.32868992e+10  2.32738403e+10  5.83e-06 5.24e-10  9.88e+01     1s\n"
     ]
    },
    {
     "name": "stderr",
     "output_type": "stream",
     "text": [
      "INFO:gurobipy:  40   2.32868992e+10  2.32738403e+10  5.83e-06 5.24e-10  9.88e+01     1s\n"
     ]
    },
    {
     "name": "stdout",
     "output_type": "stream",
     "text": [
      "  41   2.32854483e+10  2.32741236e+10  4.76e-06 1.22e-09  8.57e+01     1s\n"
     ]
    },
    {
     "name": "stderr",
     "output_type": "stream",
     "text": [
      "INFO:gurobipy:  41   2.32854483e+10  2.32741236e+10  4.76e-06 1.22e-09  8.57e+01     1s\n"
     ]
    },
    {
     "name": "stdout",
     "output_type": "stream",
     "text": [
      "  42   2.32844291e+10  2.32742535e+10  4.24e-06 6.40e-10  7.70e+01     1s\n"
     ]
    },
    {
     "name": "stderr",
     "output_type": "stream",
     "text": [
      "INFO:gurobipy:  42   2.32844291e+10  2.32742535e+10  4.24e-06 6.40e-10  7.70e+01     1s\n"
     ]
    },
    {
     "name": "stdout",
     "output_type": "stream",
     "text": [
      "  43   2.32824756e+10  2.32744626e+10  3.39e-06 2.33e-10  6.06e+01     1s\n"
     ]
    },
    {
     "name": "stderr",
     "output_type": "stream",
     "text": [
      "INFO:gurobipy:  43   2.32824756e+10  2.32744626e+10  3.39e-06 2.33e-10  6.06e+01     1s\n"
     ]
    },
    {
     "name": "stdout",
     "output_type": "stream",
     "text": [
      "  44   2.32812631e+10  2.32747450e+10  2.70e-06 5.24e-10  4.93e+01     1s\n"
     ]
    },
    {
     "name": "stderr",
     "output_type": "stream",
     "text": [
      "INFO:gurobipy:  44   2.32812631e+10  2.32747450e+10  2.70e-06 5.24e-10  4.93e+01     1s\n"
     ]
    },
    {
     "name": "stdout",
     "output_type": "stream",
     "text": [
      "  45   2.32809449e+10  2.32750436e+10  2.73e-06 0.00e+00  4.46e+01     1s\n"
     ]
    },
    {
     "name": "stderr",
     "output_type": "stream",
     "text": [
      "INFO:gurobipy:  45   2.32809449e+10  2.32750436e+10  2.73e-06 0.00e+00  4.46e+01     1s\n"
     ]
    },
    {
     "name": "stdout",
     "output_type": "stream",
     "text": [
      "  46   2.32790448e+10  2.32756503e+10  4.59e-06 3.26e-09  2.57e+01     1s\n"
     ]
    },
    {
     "name": "stderr",
     "output_type": "stream",
     "text": [
      "INFO:gurobipy:  46   2.32790448e+10  2.32756503e+10  4.59e-06 3.26e-09  2.57e+01     1s\n"
     ]
    },
    {
     "name": "stdout",
     "output_type": "stream",
     "text": [
      "  47   2.32767850e+10  2.32758320e+10  3.76e-06 1.34e-09  7.21e+00     1s\n"
     ]
    },
    {
     "name": "stderr",
     "output_type": "stream",
     "text": [
      "INFO:gurobipy:  47   2.32767850e+10  2.32758320e+10  3.76e-06 1.34e-09  7.21e+00     1s\n"
     ]
    },
    {
     "name": "stdout",
     "output_type": "stream",
     "text": [
      "  48   2.32762899e+10  2.32760825e+10  9.47e-07 6.40e-10  1.57e+00     1s\n"
     ]
    },
    {
     "name": "stderr",
     "output_type": "stream",
     "text": [
      "INFO:gurobipy:  48   2.32762899e+10  2.32760825e+10  9.47e-07 6.40e-10  1.57e+00     1s\n"
     ]
    },
    {
     "name": "stdout",
     "output_type": "stream",
     "text": [
      "  49   2.32762500e+10  2.32760964e+10  7.30e-07 6.40e-10  1.16e+00     1s\n"
     ]
    },
    {
     "name": "stderr",
     "output_type": "stream",
     "text": [
      "INFO:gurobipy:  49   2.32762500e+10  2.32760964e+10  7.30e-07 6.40e-10  1.16e+00     1s\n"
     ]
    },
    {
     "name": "stdout",
     "output_type": "stream",
     "text": [
      "  50   2.32761534e+10  2.32761112e+10  2.04e-07 2.04e-10  3.19e-01     1s\n"
     ]
    },
    {
     "name": "stderr",
     "output_type": "stream",
     "text": [
      "INFO:gurobipy:  50   2.32761534e+10  2.32761112e+10  2.04e-07 2.04e-10  3.19e-01     1s\n"
     ]
    },
    {
     "name": "stdout",
     "output_type": "stream",
     "text": [
      "  51   2.32761187e+10  2.32761143e+10  4.86e-08 5.09e-10  3.35e-02     1s\n"
     ]
    },
    {
     "name": "stderr",
     "output_type": "stream",
     "text": [
      "INFO:gurobipy:  51   2.32761187e+10  2.32761143e+10  4.86e-08 5.09e-10  3.35e-02     1s\n"
     ]
    },
    {
     "name": "stdout",
     "output_type": "stream",
     "text": [
      "  52   2.32761159e+10  2.32761155e+10  6.55e-09 2.62e-10  3.32e-03     1s\n"
     ]
    },
    {
     "name": "stderr",
     "output_type": "stream",
     "text": [
      "INFO:gurobipy:  52   2.32761159e+10  2.32761155e+10  6.55e-09 2.62e-10  3.32e-03     1s\n"
     ]
    },
    {
     "name": "stdout",
     "output_type": "stream",
     "text": [
      "  53   2.32761155e+10  2.32761155e+10  4.03e-07 1.75e-09  2.13e-04     1s\n"
     ]
    },
    {
     "name": "stderr",
     "output_type": "stream",
     "text": [
      "INFO:gurobipy:  53   2.32761155e+10  2.32761155e+10  4.03e-07 1.75e-09  2.13e-04     1s\n"
     ]
    },
    {
     "name": "stdout",
     "output_type": "stream",
     "text": [
      "  54   2.32761155e+10  2.32761155e+10  9.15e-09 3.42e-10  5.92e-06     1s\n"
     ]
    },
    {
     "name": "stderr",
     "output_type": "stream",
     "text": [
      "INFO:gurobipy:  54   2.32761155e+10  2.32761155e+10  9.15e-09 3.42e-10  5.92e-06     1s\n"
     ]
    },
    {
     "name": "stdout",
     "output_type": "stream",
     "text": [
      "  55   2.32761155e+10  2.32761155e+10  6.15e-10 9.31e-10  3.34e-09     1s\n"
     ]
    },
    {
     "name": "stderr",
     "output_type": "stream",
     "text": [
      "INFO:gurobipy:  55   2.32761155e+10  2.32761155e+10  6.15e-10 9.31e-10  3.34e-09     1s\n"
     ]
    },
    {
     "name": "stdout",
     "output_type": "stream",
     "text": [
      "\n"
     ]
    },
    {
     "name": "stderr",
     "output_type": "stream",
     "text": [
      "INFO:gurobipy:\n"
     ]
    },
    {
     "name": "stdout",
     "output_type": "stream",
     "text": [
      "Barrier solved model in 55 iterations and 1.25 seconds (1.08 work units)\n"
     ]
    },
    {
     "name": "stderr",
     "output_type": "stream",
     "text": [
      "INFO:gurobipy:Barrier solved model in 55 iterations and 1.25 seconds (1.08 work units)\n"
     ]
    },
    {
     "name": "stdout",
     "output_type": "stream",
     "text": [
      "Optimal objective 2.32761155e+10\n"
     ]
    },
    {
     "name": "stderr",
     "output_type": "stream",
     "text": [
      "INFO:gurobipy:Optimal objective 2.32761155e+10\n"
     ]
    },
    {
     "name": "stdout",
     "output_type": "stream",
     "text": [
      "\n"
     ]
    },
    {
     "name": "stderr",
     "output_type": "stream",
     "text": [
      "INFO:gurobipy:\n"
     ]
    },
    {
     "name": "stdout",
     "output_type": "stream",
     "text": [
      "Crossover log...\n"
     ]
    },
    {
     "name": "stderr",
     "output_type": "stream",
     "text": [
      "INFO:gurobipy:Crossover log...\n"
     ]
    },
    {
     "name": "stdout",
     "output_type": "stream",
     "text": [
      "\n"
     ]
    },
    {
     "name": "stderr",
     "output_type": "stream",
     "text": [
      "INFO:gurobipy:\n"
     ]
    },
    {
     "name": "stdout",
     "output_type": "stream",
     "text": [
      "   13311 DPushes remaining with DInf 0.0000000e+00                 1s\n"
     ]
    },
    {
     "name": "stderr",
     "output_type": "stream",
     "text": [
      "INFO:gurobipy:   13311 DPushes remaining with DInf 0.0000000e+00                 1s\n"
     ]
    },
    {
     "name": "stdout",
     "output_type": "stream",
     "text": [
      "       0 DPushes remaining with DInf 0.0000000e+00                 1s\n"
     ]
    },
    {
     "name": "stderr",
     "output_type": "stream",
     "text": [
      "INFO:gurobipy:       0 DPushes remaining with DInf 0.0000000e+00                 1s\n"
     ]
    },
    {
     "name": "stdout",
     "output_type": "stream",
     "text": [
      "\n"
     ]
    },
    {
     "name": "stderr",
     "output_type": "stream",
     "text": [
      "INFO:gurobipy:\n"
     ]
    },
    {
     "name": "stdout",
     "output_type": "stream",
     "text": [
      "       0 PPushes remaining with PInf 0.0000000e+00                 1s\n"
     ]
    },
    {
     "name": "stderr",
     "output_type": "stream",
     "text": [
      "INFO:gurobipy:       0 PPushes remaining with PInf 0.0000000e+00                 1s\n"
     ]
    },
    {
     "name": "stdout",
     "output_type": "stream",
     "text": [
      "\n"
     ]
    },
    {
     "name": "stderr",
     "output_type": "stream",
     "text": [
      "INFO:gurobipy:\n"
     ]
    },
    {
     "name": "stdout",
     "output_type": "stream",
     "text": [
      "  Push phase complete: Pinf 0.0000000e+00, Dinf 4.4604447e-11      1s\n"
     ]
    },
    {
     "name": "stderr",
     "output_type": "stream",
     "text": [
      "INFO:gurobipy:  Push phase complete: Pinf 0.0000000e+00, Dinf 4.4604447e-11      1s\n"
     ]
    },
    {
     "name": "stdout",
     "output_type": "stream",
     "text": [
      "\n"
     ]
    },
    {
     "name": "stderr",
     "output_type": "stream",
     "text": [
      "INFO:gurobipy:\n"
     ]
    },
    {
     "name": "stdout",
     "output_type": "stream",
     "text": [
      "\n"
     ]
    },
    {
     "name": "stderr",
     "output_type": "stream",
     "text": [
      "INFO:gurobipy:\n"
     ]
    },
    {
     "name": "stdout",
     "output_type": "stream",
     "text": [
      "Solved with barrier\n"
     ]
    },
    {
     "name": "stderr",
     "output_type": "stream",
     "text": [
      "INFO:gurobipy:Solved with barrier\n"
     ]
    },
    {
     "name": "stdout",
     "output_type": "stream",
     "text": [
      "Iteration    Objective       Primal Inf.    Dual Inf.      Time\n"
     ]
    },
    {
     "name": "stderr",
     "output_type": "stream",
     "text": [
      "INFO:gurobipy:Iteration    Objective       Primal Inf.    Dual Inf.      Time\n"
     ]
    },
    {
     "name": "stdout",
     "output_type": "stream",
     "text": [
      "   13314    2.3276116e+10   0.000000e+00   0.000000e+00      1s\n"
     ]
    },
    {
     "name": "stderr",
     "output_type": "stream",
     "text": [
      "INFO:gurobipy:   13314    2.3276116e+10   0.000000e+00   0.000000e+00      1s\n"
     ]
    },
    {
     "name": "stdout",
     "output_type": "stream",
     "text": [
      "\n"
     ]
    },
    {
     "name": "stderr",
     "output_type": "stream",
     "text": [
      "INFO:gurobipy:\n"
     ]
    },
    {
     "name": "stdout",
     "output_type": "stream",
     "text": [
      "Solved in 13314 iterations and 1.40 seconds (1.14 work units)\n"
     ]
    },
    {
     "name": "stderr",
     "output_type": "stream",
     "text": [
      "INFO:gurobipy:Solved in 13314 iterations and 1.40 seconds (1.14 work units)\n"
     ]
    },
    {
     "name": "stdout",
     "output_type": "stream",
     "text": [
      "Optimal objective  2.327611551e+10\n"
     ]
    },
    {
     "name": "stderr",
     "output_type": "stream",
     "text": [
      "INFO:gurobipy:Optimal objective  2.327611551e+10\n",
      "INFO:linopy.constants: Optimization successful: \n",
      "Status: ok\n",
      "Termination condition: optimal\n",
      "Solution: 52566 primals, 113886 duals\n",
      "Objective: 2.33e+10\n",
      "Solver model: available\n",
      "Solver message: 2\n",
      "\n",
      "/opt/homebrew/Caskroom/miniconda/base/envs/IEG/lib/python3.13/site-packages/pypsa/optimization/optimize.py:355: FutureWarning: A value is trying to be set on a copy of a DataFrame or Series through chained assignment using an inplace method.\n",
      "The behavior will change in pandas 3.0. This inplace method will never work because the intermediate object on which we are setting values always behaves as a copy.\n",
      "\n",
      "For example, when doing 'df[col].method(value, inplace=True)', try using 'df.method({col: value}, inplace=True)' or df[col] = df[col].method(value) instead, to perform the operation inplace on the original object.\n",
      "\n",
      "\n",
      "  n.df(c)[attr + \"_opt\"].update(df)\n",
      "INFO:pypsa.optimization.optimize:The shadow-prices of the constraints Generator-ext-p-lower, Generator-ext-p-upper were not assigned to the network.\n",
      "/opt/homebrew/Caskroom/miniconda/base/envs/IEG/lib/python3.13/site-packages/pypsa/optimization/optimize.py:473: FutureWarning: DataFrame.groupby with axis=1 is deprecated. Do `frame.T.groupby(...)` without axis instead.\n",
      "  .groupby(level=0, axis=1)\n"
     ]
    },
    {
     "data": {
      "text/plain": [
       "('ok', 'optimal')"
      ]
     },
     "execution_count": 6,
     "metadata": {},
     "output_type": "execute_result"
    }
   ],
   "source": [
    "network.optimize(solver_name='gurobi')"
   ]
  },
  {
   "cell_type": "markdown",
   "metadata": {},
   "source": [
    "__Print out the results__"
   ]
  },
  {
   "cell_type": "code",
   "execution_count": 7,
   "metadata": {},
   "outputs": [
    {
     "name": "stdout",
     "output_type": "stream",
     "text": [
      "Total cost: 23276.12 mio€\n",
      "Cost per MWh of electricity produced 46 EUR/MWh\n"
     ]
    }
   ],
   "source": [
    "print(f\"Total cost: {round(network.objective/1000000,2)} mio€\")\n",
    "print(f\"Cost per MWh of electricity produced {round(float(network.objective/network.loads_t.p.sum().iloc[0]))} EUR/MWh\")\n"
   ]
  },
  {
   "cell_type": "code",
   "execution_count": 8,
   "metadata": {},
   "outputs": [
    {
     "data": {
      "text/plain": [
       "<Axes: xlabel='Generator'>"
      ]
     },
     "execution_count": 8,
     "metadata": {},
     "output_type": "execute_result"
    },
    {
     "data": {
      "image/png": "[encoded data removed]",
      "text/plain": [
       "<Figure size 640x480 with 1 Axes>"
      ]
     },
     "metadata": {},
     "output_type": "display_data"
    }
   ],
   "source": [
    "generators = network.generators.p_nom_opt # in MW\n",
    "generators.plot.bar()"
   ]
  },
  {
   "cell_type": "code",
   "execution_count": null,
   "metadata": {},
   "outputs": [
    {
     "data": {
      "image/png": "[encoded data removed]",
      "text/plain": [
       "<Figure size 640x480 with 1 Axes>"
      ]
     },
     "metadata": {},
     "output_type": "display_data"
    }
   ],
   "source": [
    "# Plot dispatch for a week in winter\n",
    "start_date_1 = '2015-01-01'\n",
    "end_date_1 = '2015-01-07'\n",
    "week_1 = network.generators_t.p.loc[start_date_1:end_date_1]\n",
    "\n",
    "\n",
    "plt.plot(week_1['onshorewind'], color='blue', label='onshore wind')\n",
    "plt.plot(week_1['offshorewind'], color='green', label='onshore wind')\n",
    "plt.plot(week_1['PV'], color='orange', label='PV')\n",
    "plt.plot(week_1['rooftopPV'], color='yellow', label='rooftopPV')\n",
    "plt.plot(week_1['OCGT'], color='brown', label='gas')\n",
    "plt.plot(week_1['coal'], color='red', label='coal')\n",
    "plt.legend(fancybox=True, shadow=True, loc='best')\n",
    "plt.plot(network.loads_t.p['load'].loc[start_date_1:end_date_1], color='black', label='demand')\n",
    "plt.xlabel('Time')\n",
    "plt.ylabel('Power (MW)')\n",
    "plt.title('Generation and Demand for the First Week of January 2015')\n",
    "\n",
    "# Rotate x-axis labels\n",
    "plt.xticks(rotation=45)\n",
    "plt.show()"
   ]
  },
  {
   "cell_type": "code",
   "execution_count": null,
   "metadata": {},
   "outputs": [
    {
     "data": {
      "image/png": "[encoded data removed]",
      "text/plain": [
       "<Figure size 640x480 with 1 Axes>"
      ]
     },
     "metadata": {},
     "output_type": "display_data"
    }
   ],
   "source": [
    "# Plot dispatch for a week in summer\n",
    "start_date_2 = '2015-06-01'\n",
    "end_date_2 = '2015-06-07'\n",
    "week_2 = network.generators_t.p.loc[start_date_2:end_date_2]\n",
    "\n",
    "\n",
    "plt.plot(week_2['onshorewind'], color='blue', label='onshore wind')\n",
    "plt.plot(week_2['offshorewind'], color='green', label='onshore wind')\n",
    "plt.plot(week_2['PV'], color='orange', label='PV')\n",
    "plt.plot(week_2['rooftopPV'], color='yellow', label='rooftopPV')\n",
    "plt.plot(week_2['OCGT'], color='brown', label='gas')\n",
    "plt.plot(week_2['coal'], color='red', label='coal')\n",
    "plt.legend(fancybox=True, shadow=True, loc='best')\n",
    "plt.plot(network.loads_t.p['load'].loc[start_date_2:end_date_2], color='black', label='demand')\n",
    "plt.xlabel('Time')\n",
    "plt.ylabel('Power (MW)')\n",
    "plt.title('Generation and Demand for the First Week of January 2015')\n",
    "\n",
    "# Rotate x-axis labels\n",
    "plt.xticks(rotation=45)\n",
    "plt.show()"
   ]
  },
  {
   "cell_type": "code",
   "execution_count": 27,
   "metadata": {},
   "outputs": [
    {
     "data": {
      "text/plain": [
       "Text(0.5, 1.0, 'Electricity mix')"
      ]
     },
     "execution_count": 27,
     "metadata": {},
     "output_type": "execute_result"
    },
    {
     "data": {
      "image/png": "[encoded data removed]",
      "text/plain": [
       "<Figure size 640x480 with 1 Axes>"
      ]
     },
     "metadata": {},
     "output_type": "display_data"
    }
   ],
   "source": [
    "# Plot Annual Electricity Generation Mix\n",
    "labels = ['onshore wind', 'offshore wind', 'PV', \n",
    "          'rooftopPV', 'OCGT', 'coal']\n",
    "sizes = [network.generators_t.p['onshorewind'].sum(),\n",
    "         network.generators_t.p['offshorewind'].sum(),\n",
    "         network.generators_t.p['PV'].sum(),\n",
    "         network.generators_t.p['rooftopPV'].sum(),\n",
    "         network.generators_t.p['OCGT'].sum(),\n",
    "         network.generators_t.p['coal'].sum()]\n",
    "\n",
    "colors=['blue', 'green', 'orange', 'yellow', 'brown', 'red']\n",
    "\n",
    "plt.pie(sizes,\n",
    "        colors=colors,\n",
    "        labels=labels,\n",
    "        wedgeprops={'linewidth':0})\n",
    "plt.axis('equal')\n",
    "\n",
    "plt.title('Electricity mix')"
   ]
  },
  {
   "cell_type": "code",
   "execution_count": null,
   "metadata": {},
   "outputs": [],
   "source": [
    "cf = [  network.generators_t.p['onshorewind'].sum(),\n",
    "        network.generators_t.p['offshorewind'].sum(),\n",
    "        network.generators_t.p['PV'].sum(),\n",
    "        network.generators_t.p['rooftopPV'].sum(),\n",
    "        network.generators_t.p['OCGT'].sum(),\n",
    "        network.generators_t.p['coal'].sum()]\n"
   ]
  },
  {
   "cell_type": "markdown",
   "metadata": {},
   "source": [
    "# Section B"
   ]
  },
  {
   "cell_type": "code",
   "execution_count": null,
   "metadata": {},
   "outputs": [],
   "source": []
  }
 ],
 "metadata": {
  "kernelspec": {
   "display_name": "IEG",
   "language": "python",
   "name": "python3"
  },
  "language_info": {
   "codemirror_mode": {
    "name": "ipython",
    "version": 3
   },
   "file_extension": ".py",
   "mimetype": "text/x-python",
   "name": "python",
   "nbconvert_exporter": "python",
   "pygments_lexer": "ipython3",
   "version": "3.13.1"
  }
 },
 "nbformat": 4,
 "nbformat_minor": 2
}
